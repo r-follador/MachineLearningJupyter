{
 "cells": [
  {
   "cell_type": "markdown",
   "source": [
    "# Spaceship Titanic\n",
    "[Kaggle Competiton](https://www.kaggle.com/competitions/spaceship-titanic/)\n",
    "\n",
    "\n",
    "    - PassengerId - A unique Id for each passenger. Each Id takes the form gggg_pp where gggg indicates a group the passenger is travelling with and pp is their number within the group. People in a group are often family members, but not always.\n",
    "    - HomePlanet - The planet the passenger departed from, typically their planet of permanent residence.\n",
    "    - CryoSleep - Indicates whether the passenger elected to be put into suspended animation for the duration of the voyage. Passengers in cryosleep are confined to their cabins.\n",
    "    - Cabin - The cabin number where the passenger is staying. Takes the form deck/num/side, where side can be either P for Port or S for Starboard.\n",
    "    - Destination - The planet the passenger will be debarking to.\n",
    "    - Age - The age of the passenger.\n",
    "    - VIP - Whether the passenger has paid for special VIP service during the voyage.\n",
    "    - RoomService, FoodCourt, ShoppingMall, Spa, VRDeck - Amount the passenger has billed at each of the Spaceship Titanic's many luxury amenities.\n",
    "    - Name - The first and last names of the passenger.\n",
    "    - Transported - Whether the passenger was transported to another dimension. This is the target, the column you are trying to predict.\n",
    "\n"
   ],
   "metadata": {
    "collapsed": false
   }
  },
  {
   "cell_type": "code",
   "execution_count": 4,
   "metadata": {
    "collapsed": true,
    "ExecuteTime": {
     "start_time": "2023-04-29T18:23:48.904739Z",
     "end_time": "2023-04-29T18:23:49.103625Z"
    }
   },
   "outputs": [],
   "source": [
    "import seaborn as sns\n",
    "import pandas as pd\n",
    "import numpy as np\n",
    "import matplotlib.pyplot as plt\n",
    "from sklearn.model_selection import train_test_split\n",
    "import xgboost as xgb\n",
    "import optuna\n",
    "from sklearn.metrics import accuracy_score\n",
    "\n",
    "\n",
    "def convert(dataframe):\n",
    "    dataframe[\"HomePlanet\"]=dataframe[\"HomePlanet\"].astype(\"category\")\n",
    "    dataframe[\"Destination\"]=dataframe[\"Destination\"].astype(\"category\")\n",
    "    dataframe[[\"group\", \"number_within_group\"]]=dataframe[\"PassengerId\"].str.split(\"_\", expand=True)\n",
    "    dataframe[\"group\"]=dataframe[\"group\"].astype(int)\n",
    "    dataframe[\"number_within_group\"]=dataframe[\"number_within_group\"].astype(int)\n",
    "    dataframe[[\"deck\", \"num\", \"side\"]]=dataframe[\"Cabin\"].str.split(\"/\", expand=True)\n",
    "    dataframe[\"deck\"]=dataframe[\"deck\"].astype(\"category\")\n",
    "    dataframe[\"num\"]=dataframe[\"num\"].astype(\"category\")\n",
    "    dataframe[\"side\"]=dataframe[\"side\"].astype(\"category\")\n",
    "    dataframe = dataframe.drop([\"Cabin\", \"PassengerId\", \"Name\"], axis=1) #also remove name\n",
    "    dataframe[\"CryoSleep\"] =dataframe[\"CryoSleep\"].astype(bool)\n",
    "    dataframe[\"VIP\"] =dataframe[\"VIP\"].astype(bool)\n",
    "    dataframe[\"Age\"]=pd.to_numeric(dataframe['Age'], errors='coerce', downcast='integer')\n",
    "    dataframe[\"RoomService\"]=pd.to_numeric(dataframe['RoomService'], errors='coerce', downcast='integer')\n",
    "    dataframe[\"FoodCourt\"]=pd.to_numeric(dataframe['FoodCourt'], errors='coerce', downcast='integer')\n",
    "    dataframe[\"ShoppingMall\"]=pd.to_numeric(dataframe['ShoppingMall'], errors='coerce', downcast='integer')\n",
    "    dataframe[\"Spa\"]=pd.to_numeric(dataframe['Spa'], errors='coerce', downcast='integer')\n",
    "    dataframe[\"VRDeck\"]=pd.to_numeric(dataframe['VRDeck'], errors='coerce', downcast='integer')\n",
    "    return dataframe\n",
    "\n",
    "\n",
    "mnist_train = pd.read_csv(\"/home/rainer/Downloads/ML_datasets/spaceship_titanic_train.csv\")\n",
    "mnist_train = convert(mnist_train)\n",
    "mnist_train[\"Transported\"] =mnist_train[\"Transported\"].astype(bool)\n",
    "\n",
    "X, Y = mnist_train.drop('Transported', axis=1), mnist_train[['Transported']]\n",
    "\n",
    "X_train, X_test, Y_train, Y_test = train_test_split(X, Y, random_state=1)\n",
    "dtrain_reg = xgb.DMatrix(X_train, Y_train, enable_categorical=True)\n",
    "dtest_reg = xgb.DMatrix(X_test, Y_test, enable_categorical=True)"
   ]
  },
  {
   "cell_type": "code",
   "execution_count": 5,
   "outputs": [],
   "source": [
    "def objective(trial):\n",
    "    param = {\n",
    "        'tree_method':'gpu_hist',\n",
    "        \"objective\": \"binary:hinge\",\n",
    "        'eta': trial.suggest_float('eta', 0.01, 0.5),\n",
    "        'max_depth': trial.suggest_int('max_depth', 3, 10),\n",
    "        'min_child_weight': trial.suggest_float('min_child_weight', 0.01, 10, log=True),\n",
    "        'subsample': trial.suggest_float('subsample', 0.1, 1),\n",
    "        'colsample_bynode': trial.suggest_float('colsample_bynode', 0.1, 1),\n",
    "\n",
    "    }\n",
    "\n",
    "    boostround=100\n",
    "    results = xgb.cv(\n",
    "        params=param,\n",
    "        dtrain=dtrain_reg,\n",
    "        num_boost_round=boostround,\n",
    "        nfold=5,\n",
    "        verbose_eval=100, # print eval every xth round\n",
    "        metrics=[\"logloss\", \"error\"],\n",
    "    )\n",
    "\n",
    "    return results.iloc[-1][\"test-error-mean\"]"
   ],
   "metadata": {
    "collapsed": false,
    "ExecuteTime": {
     "start_time": "2023-04-29T18:23:48.997326Z",
     "end_time": "2023-04-29T18:23:49.105305Z"
    }
   }
  },
  {
   "cell_type": "code",
   "execution_count": 6,
   "outputs": [
    {
     "name": "stderr",
     "output_type": "stream",
     "text": [
      "\u001B[32m[I 2023-04-29 18:23:49,004]\u001B[0m A new study created in memory with name: no-name-2b83ea95-8099-463a-995d-25a0cf4e5861\u001B[0m\n"
     ]
    },
    {
     "name": "stdout",
     "output_type": "stream",
     "text": [
      "[0]\ttrain-logloss:18.40655+0.12457\ttrain-error:0.49962+0.00338\ttest-logloss:18.40644+0.49841\ttest-error:0.49961+0.01353\n",
      "[99]\ttrain-logloss:4.39818+0.11320\ttrain-error:0.11938+0.00307\ttest-logloss:10.22331+0.35727\ttest-error:0.27750+0.00970\n"
     ]
    },
    {
     "name": "stderr",
     "output_type": "stream",
     "text": [
      "\u001B[32m[I 2023-04-29 18:23:51,231]\u001B[0m Trial 0 finished with value: 0.27749542113762954 and parameters: {'eta': 0.028757665278137445, 'max_depth': 4, 'min_child_weight': 0.013555839098992667, 'subsample': 0.613766713846053, 'colsample_bynode': 0.8789010228270929}. Best is trial 0 with value: 0.27749542113762954.\u001B[0m\n"
     ]
    },
    {
     "name": "stdout",
     "output_type": "stream",
     "text": [
      "[0]\ttrain-logloss:18.40655+0.12457\ttrain-error:0.49962+0.00338\ttest-logloss:18.40644+0.49841\ttest-error:0.49961+0.01353\n",
      "[99]\ttrain-logloss:0.54395+0.06939\ttrain-error:0.01476+0.00188\ttest-logloss:8.73717+0.55282\ttest-error:0.23716+0.01501\n"
     ]
    },
    {
     "name": "stderr",
     "output_type": "stream",
     "text": [
      "\u001B[32m[I 2023-04-29 18:23:56,199]\u001B[0m Trial 1 finished with value: 0.23715646761367112 and parameters: {'eta': 0.3978620946756406, 'max_depth': 10, 'min_child_weight': 3.363671203310271, 'subsample': 0.5911337167203177, 'colsample_bynode': 0.8105615186015924}. Best is trial 1 with value: 0.23715646761367112.\u001B[0m\n"
     ]
    },
    {
     "name": "stdout",
     "output_type": "stream",
     "text": [
      "[0]\ttrain-logloss:18.40655+0.12457\ttrain-error:0.49962+0.00338\ttest-logloss:18.40644+0.49841\ttest-error:0.49961+0.01353\n",
      "[99]\ttrain-logloss:0.02261+0.01370\ttrain-error:0.00061+0.00037\ttest-logloss:9.44914+0.64576\ttest-error:0.25648+0.01753\n"
     ]
    },
    {
     "name": "stderr",
     "output_type": "stream",
     "text": [
      "\u001B[32m[I 2023-04-29 18:24:00,252]\u001B[0m Trial 2 finished with value: 0.2564817386964485 and parameters: {'eta': 0.17423618720354161, 'max_depth': 10, 'min_child_weight': 0.09749305903690135, 'subsample': 0.42787005731576366, 'colsample_bynode': 0.5511928036268443}. Best is trial 1 with value: 0.23715646761367112.\u001B[0m\n"
     ]
    },
    {
     "name": "stdout",
     "output_type": "stream",
     "text": [
      "[0]\ttrain-logloss:18.40655+0.12457\ttrain-error:0.49962+0.00338\ttest-logloss:18.40644+0.49841\ttest-error:0.49961+0.01353\n",
      "[99]\ttrain-logloss:2.60387+0.08254\ttrain-error:0.07068+0.00224\ttest-logloss:9.10440+0.24541\ttest-error:0.24712+0.00666\n"
     ]
    },
    {
     "name": "stderr",
     "output_type": "stream",
     "text": [
      "\u001B[32m[I 2023-04-29 18:24:03,429]\u001B[0m Trial 3 finished with value: 0.2471243802645146 and parameters: {'eta': 0.4692455873896065, 'max_depth': 8, 'min_child_weight': 1.1858224084220805, 'subsample': 0.2510301391268939, 'colsample_bynode': 0.799909577387217}. Best is trial 1 with value: 0.23715646761367112.\u001B[0m\n"
     ]
    },
    {
     "name": "stdout",
     "output_type": "stream",
     "text": [
      "[0]\ttrain-logloss:18.40655+0.12457\ttrain-error:0.49962+0.00338\ttest-logloss:18.40644+0.49841\ttest-error:0.49961+0.01353\n",
      "[99]\ttrain-logloss:3.56179+0.22113\ttrain-error:0.09668+0.00600\ttest-logloss:7.57856+0.37987\ttest-error:0.20571+0.01031\n"
     ]
    },
    {
     "name": "stderr",
     "output_type": "stream",
     "text": [
      "\u001B[32m[I 2023-04-29 18:24:06,892]\u001B[0m Trial 4 finished with value: 0.2057078050181506 and parameters: {'eta': 0.23080367052037662, 'max_depth': 10, 'min_child_weight': 9.071333908645157, 'subsample': 0.5723489359070268, 'colsample_bynode': 0.1730749663571443}. Best is trial 4 with value: 0.2057078050181506.\u001B[0m\n"
     ]
    },
    {
     "name": "stdout",
     "output_type": "stream",
     "text": [
      "[0]\ttrain-logloss:18.40655+0.12457\ttrain-error:0.49962+0.00338\ttest-logloss:18.40644+0.49841\ttest-error:0.49961+0.01353\n",
      "[99]\ttrain-logloss:0.01978+0.01753\ttrain-error:0.00054+0.00048\ttest-logloss:9.97477+0.38592\ttest-error:0.27075+0.01048\n"
     ]
    },
    {
     "name": "stderr",
     "output_type": "stream",
     "text": [
      "\u001B[32m[I 2023-04-29 18:24:09,410]\u001B[0m Trial 5 finished with value: 0.2707493090508454 and parameters: {'eta': 0.3630558754817731, 'max_depth': 6, 'min_child_weight': 0.17330388216717593, 'subsample': 0.7251664045031109, 'colsample_bynode': 0.740355139273709}. Best is trial 4 with value: 0.2057078050181506.\u001B[0m\n"
     ]
    },
    {
     "name": "stdout",
     "output_type": "stream",
     "text": [
      "[0]\ttrain-logloss:18.40655+0.12457\ttrain-error:0.49962+0.00338\ttest-logloss:18.40644+0.49841\ttest-error:0.49961+0.01353\n",
      "[99]\ttrain-logloss:0.00565+0.00824\ttrain-error:0.00015+0.00022\ttest-logloss:9.09310+0.28867\ttest-error:0.24682+0.00784\n"
     ]
    },
    {
     "name": "stderr",
     "output_type": "stream",
     "text": [
      "\u001B[32m[I 2023-04-29 18:24:13,255]\u001B[0m Trial 6 finished with value: 0.2468177495068012 and parameters: {'eta': 0.1463636073729324, 'max_depth': 9, 'min_child_weight': 0.3586504939000204, 'subsample': 0.5869859628977359, 'colsample_bynode': 0.34034125322622977}. Best is trial 4 with value: 0.2057078050181506.\u001B[0m\n"
     ]
    },
    {
     "name": "stdout",
     "output_type": "stream",
     "text": [
      "[0]\ttrain-logloss:18.40655+0.12457\ttrain-error:0.49962+0.00338\ttest-logloss:18.40644+0.49841\ttest-error:0.49961+0.01353\n",
      "[99]\ttrain-logloss:0.77848+0.07785\ttrain-error:0.02113+0.00211\ttest-logloss:8.45455+0.56675\ttest-error:0.22949+0.01538\n"
     ]
    },
    {
     "name": "stderr",
     "output_type": "stream",
     "text": [
      "\u001B[32m[I 2023-04-29 18:24:17,275]\u001B[0m Trial 7 finished with value: 0.22948528407780064 and parameters: {'eta': 0.4222143273642837, 'max_depth': 10, 'min_child_weight': 5.319801846587956, 'subsample': 0.9776589459322919, 'colsample_bynode': 0.523633829425116}. Best is trial 4 with value: 0.2057078050181506.\u001B[0m\n"
     ]
    },
    {
     "name": "stdout",
     "output_type": "stream",
     "text": [
      "[0]\ttrain-logloss:18.40655+0.12457\ttrain-error:0.49962+0.00338\ttest-logloss:18.40644+0.49841\ttest-error:0.49961+0.01353\n",
      "[99]\ttrain-logloss:7.65479+0.08738\ttrain-error:0.20778+0.00237\ttest-logloss:8.35271+0.35690\ttest-error:0.22672+0.00969\n"
     ]
    },
    {
     "name": "stderr",
     "output_type": "stream",
     "text": [
      "\u001B[32m[I 2023-04-29 18:24:18,954]\u001B[0m Trial 8 finished with value: 0.22672101662515476 and parameters: {'eta': 0.016400383822578062, 'max_depth': 4, 'min_child_weight': 2.9417227872908738, 'subsample': 0.7945443756797776, 'colsample_bynode': 0.7091005056815733}. Best is trial 4 with value: 0.2057078050181506.\u001B[0m\n"
     ]
    },
    {
     "name": "stdout",
     "output_type": "stream",
     "text": [
      "[0]\ttrain-logloss:18.40655+0.12457\ttrain-error:0.49962+0.00338\ttest-logloss:18.40644+0.49841\ttest-error:0.49961+0.01353\n",
      "[99]\ttrain-logloss:0.46624+0.04168\ttrain-error:0.01266+0.00113\ttest-logloss:10.49461+0.48343\ttest-error:0.28486+0.01312\n"
     ]
    },
    {
     "name": "stderr",
     "output_type": "stream",
     "text": [
      "\u001B[32m[I 2023-04-29 18:24:21,689]\u001B[0m Trial 9 finished with value: 0.2848593853730655 and parameters: {'eta': 0.4241373358374743, 'max_depth': 7, 'min_child_weight': 0.061647719361510714, 'subsample': 0.30920582920033834, 'colsample_bynode': 0.5800699773508249}. Best is trial 4 with value: 0.2057078050181506.\u001B[0m\n"
     ]
    },
    {
     "name": "stdout",
     "output_type": "stream",
     "text": [
      "[0]\ttrain-logloss:18.40655+0.12457\ttrain-error:0.49962+0.00338\ttest-logloss:18.40644+0.49841\ttest-error:0.49961+0.01353\n",
      "[99]\ttrain-logloss:6.86502+0.03685\ttrain-error:0.18634+0.00100\ttest-logloss:7.87245+0.33456\ttest-error:0.21369+0.00908\n"
     ]
    },
    {
     "name": "stderr",
     "output_type": "stream",
     "text": [
      "\u001B[32m[I 2023-04-29 18:24:23,385]\u001B[0m Trial 10 finished with value: 0.2136851484775577 and parameters: {'eta': 0.3033351318659525, 'max_depth': 6, 'min_child_weight': 6.966336644996879, 'subsample': 0.14471524828632804, 'colsample_bynode': 0.11985451260172209}. Best is trial 4 with value: 0.2057078050181506.\u001B[0m\n"
     ]
    },
    {
     "name": "stdout",
     "output_type": "stream",
     "text": [
      "[0]\ttrain-logloss:18.40655+0.12457\ttrain-error:0.49962+0.00338\ttest-logloss:18.40644+0.49841\ttest-error:0.49961+0.01353\n",
      "[99]\ttrain-logloss:7.07553+0.06029\ttrain-error:0.19205+0.00164\ttest-logloss:7.90627+0.21279\ttest-error:0.21460+0.00578\n"
     ]
    },
    {
     "name": "stderr",
     "output_type": "stream",
     "text": [
      "\u001B[32m[I 2023-04-29 18:24:25,056]\u001B[0m Trial 11 finished with value: 0.2146031574139904 and parameters: {'eta': 0.29673018467860374, 'max_depth': 6, 'min_child_weight': 5.242183303279766, 'subsample': 0.10813071384722098, 'colsample_bynode': 0.10661540164340003}. Best is trial 4 with value: 0.2057078050181506.\u001B[0m\n"
     ]
    },
    {
     "name": "stdout",
     "output_type": "stream",
     "text": [
      "[0]\ttrain-logloss:18.40655+0.12457\ttrain-error:0.49962+0.00338\ttest-logloss:18.40644+0.49841\ttest-error:0.49961+0.01353\n",
      "[99]\ttrain-logloss:6.45812+0.06715\ttrain-error:0.17530+0.00182\ttest-logloss:7.61806+0.28784\ttest-error:0.20678+0.00781\n"
     ]
    },
    {
     "name": "stderr",
     "output_type": "stream",
     "text": [
      "\u001B[32m[I 2023-04-29 18:24:26,709]\u001B[0m Trial 12 finished with value: 0.206780129856066 and parameters: {'eta': 0.28451746205510214, 'max_depth': 5, 'min_child_weight': 9.953439686597362, 'subsample': 0.42322532100515925, 'colsample_bynode': 0.1240269777308479}. Best is trial 4 with value: 0.2057078050181506.\u001B[0m\n"
     ]
    },
    {
     "name": "stdout",
     "output_type": "stream",
     "text": [
      "[0]\ttrain-logloss:18.40655+0.12457\ttrain-error:0.49962+0.00338\ttest-logloss:18.40644+0.49841\ttest-error:0.49961+0.01353\n",
      "[99]\ttrain-logloss:6.91871+0.12773\ttrain-error:0.18780+0.00347\ttest-logloss:7.66329+0.17508\ttest-error:0.20801+0.00475\n"
     ]
    },
    {
     "name": "stderr",
     "output_type": "stream",
     "text": [
      "\u001B[32m[I 2023-04-29 18:24:27,880]\u001B[0m Trial 13 finished with value: 0.2080077122638178 and parameters: {'eta': 0.2338195346519193, 'max_depth': 3, 'min_child_weight': 9.419423344032262, 'subsample': 0.4245088718081995, 'colsample_bynode': 0.23177459601092995}. Best is trial 4 with value: 0.2057078050181506.\u001B[0m\n"
     ]
    },
    {
     "name": "stdout",
     "output_type": "stream",
     "text": [
      "[0]\ttrain-logloss:18.40655+0.12457\ttrain-error:0.49962+0.00338\ttest-logloss:18.40644+0.49841\ttest-error:0.49961+0.01353\n",
      "[99]\ttrain-logloss:3.69036+0.14813\ttrain-error:0.10017+0.00402\ttest-logloss:7.87796+0.30230\ttest-error:0.21383+0.00821\n"
     ]
    },
    {
     "name": "stderr",
     "output_type": "stream",
     "text": [
      "\u001B[32m[I 2023-04-29 18:24:29,899]\u001B[0m Trial 14 finished with value: 0.213834638328727 and parameters: {'eta': 0.23901123251970602, 'max_depth': 5, 'min_child_weight': 1.3006362033563181, 'subsample': 0.44077721490069505, 'colsample_bynode': 0.3004819750044939}. Best is trial 4 with value: 0.2057078050181506.\u001B[0m\n"
     ]
    },
    {
     "name": "stdout",
     "output_type": "stream",
     "text": [
      "[0]\ttrain-logloss:18.40655+0.12457\ttrain-error:0.49962+0.00338\ttest-logloss:18.40644+0.49841\ttest-error:0.49961+0.01353\n",
      "[99]\ttrain-logloss:3.26509+0.11868\ttrain-error:0.08863+0.00322\ttest-logloss:8.11548+0.40701\ttest-error:0.22028+0.01105\n"
     ]
    },
    {
     "name": "stderr",
     "output_type": "stream",
     "text": [
      "\u001B[32m[I 2023-04-29 18:24:32,756]\u001B[0m Trial 15 finished with value: 0.22028188842171675 and parameters: {'eta': 0.33917264776185707, 'max_depth': 8, 'min_child_weight': 8.886930881512797, 'subsample': 0.4626027233336236, 'colsample_bynode': 0.2193963891476971}. Best is trial 4 with value: 0.2057078050181506.\u001B[0m\n"
     ]
    },
    {
     "name": "stdout",
     "output_type": "stream",
     "text": [
      "[0]\ttrain-logloss:18.40655+0.12457\ttrain-error:0.49962+0.00338\ttest-logloss:18.40644+0.49841\ttest-error:0.49961+0.01353\n",
      "[99]\ttrain-logloss:2.51910+0.12469\ttrain-error:0.06838+0.00338\ttest-logloss:8.17755+0.47596\ttest-error:0.22197+0.01292\n"
     ]
    },
    {
     "name": "stderr",
     "output_type": "stream",
     "text": [
      "\u001B[32m[I 2023-04-29 18:24:36,161]\u001B[0m Trial 16 finished with value: 0.22196653310670517 and parameters: {'eta': 0.19288246025209232, 'max_depth': 8, 'min_child_weight': 1.1532386114449271, 'subsample': 0.3180405395312294, 'colsample_bynode': 0.3877176410839954}. Best is trial 4 with value: 0.2057078050181506.\u001B[0m\n"
     ]
    },
    {
     "name": "stdout",
     "output_type": "stream",
     "text": [
      "[0]\ttrain-logloss:18.40655+0.12457\ttrain-error:0.49962+0.00338\ttest-logloss:18.40644+0.49841\ttest-error:0.49961+0.01353\n",
      "[99]\ttrain-logloss:5.50587+0.18230\ttrain-error:0.14945+0.00495\ttest-logloss:7.52762+0.28350\ttest-error:0.20433+0.00770\n"
     ]
    },
    {
     "name": "stderr",
     "output_type": "stream",
     "text": [
      "\u001B[32m[I 2023-04-29 18:24:37,973]\u001B[0m Trial 17 finished with value: 0.20432531816619504 and parameters: {'eta': 0.27575279058486574, 'max_depth': 5, 'min_child_weight': 2.4398511981770725, 'subsample': 0.5160322570693606, 'colsample_bynode': 0.10750368892549761}. Best is trial 17 with value: 0.20432531816619504.\u001B[0m\n"
     ]
    },
    {
     "name": "stdout",
     "output_type": "stream",
     "text": [
      "[0]\ttrain-logloss:18.40655+0.12457\ttrain-error:0.49962+0.00338\ttest-logloss:18.40644+0.49841\ttest-error:0.49961+0.01353\n",
      "[99]\ttrain-logloss:1.00171+0.13215\ttrain-error:0.02719+0.00359\ttest-logloss:8.56758+0.60094\ttest-error:0.23255+0.01631\n"
     ]
    },
    {
     "name": "stderr",
     "output_type": "stream",
     "text": [
      "\u001B[32m[I 2023-04-29 18:24:40,990]\u001B[0m Trial 18 finished with value: 0.23255323957455426 and parameters: {'eta': 0.3411018422884601, 'max_depth': 7, 'min_child_weight': 2.277685366952883, 'subsample': 0.6956574347232658, 'colsample_bynode': 0.9747861377175309}. Best is trial 17 with value: 0.20432531816619504.\u001B[0m\n"
     ]
    },
    {
     "name": "stdout",
     "output_type": "stream",
     "text": [
      "[0]\ttrain-logloss:18.40655+0.12457\ttrain-error:0.49962+0.00338\ttest-logloss:18.40644+0.49841\ttest-error:0.49961+0.01353\n",
      "[99]\ttrain-logloss:5.32219+0.06968\ttrain-error:0.14446+0.00189\ttest-logloss:7.81020+0.30435\ttest-error:0.21200+0.00826\n"
     ]
    },
    {
     "name": "stderr",
     "output_type": "stream",
     "text": [
      "\u001B[32m[I 2023-04-29 18:24:42,326]\u001B[0m Trial 19 finished with value: 0.21199544232516748 and parameters: {'eta': 0.12191140890425234, 'max_depth': 3, 'min_child_weight': 1.826719958494109, 'subsample': 0.5201105400931572, 'colsample_bynode': 0.41956239451348676}. Best is trial 17 with value: 0.20432531816619504.\u001B[0m\n"
     ]
    },
    {
     "name": "stdout",
     "output_type": "stream",
     "text": [
      "[0]\ttrain-logloss:18.40655+0.12457\ttrain-error:0.49962+0.00338\ttest-logloss:18.40644+0.49841\ttest-error:0.49961+0.01353\n",
      "[99]\ttrain-logloss:0.25714+0.04206\ttrain-error:0.00698+0.00114\ttest-logloss:9.03099+0.36767\ttest-error:0.24513+0.00998\n"
     ]
    },
    {
     "name": "stderr",
     "output_type": "stream",
     "text": [
      "\u001B[32m[I 2023-04-29 18:24:44,422]\u001B[0m Trial 20 finished with value: 0.24513181002782627 and parameters: {'eta': 0.24666319701145958, 'max_depth': 5, 'min_child_weight': 0.5973884165262855, 'subsample': 0.5419938015478809, 'colsample_bynode': 0.22385759374337022}. Best is trial 17 with value: 0.20432531816619504.\u001B[0m\n"
     ]
    },
    {
     "name": "stdout",
     "output_type": "stream",
     "text": [
      "[0]\ttrain-logloss:18.40655+0.12457\ttrain-error:0.49962+0.00338\ttest-logloss:18.40644+0.49841\ttest-error:0.49961+0.01353\n",
      "[99]\ttrain-logloss:6.60224+0.21844\ttrain-error:0.17921+0.00593\ttest-logloss:7.56720+0.24904\ttest-error:0.20540+0.00676\n"
     ]
    },
    {
     "name": "stderr",
     "output_type": "stream",
     "text": [
      "\u001B[32m[I 2023-04-29 18:24:46,041]\u001B[0m Trial 21 finished with value: 0.205399526340818 and parameters: {'eta': 0.27592600625494396, 'max_depth': 5, 'min_child_weight': 9.650484025852542, 'subsample': 0.35424531095071937, 'colsample_bynode': 0.1005044398086554}. Best is trial 17 with value: 0.20432531816619504.\u001B[0m\n"
     ]
    },
    {
     "name": "stdout",
     "output_type": "stream",
     "text": [
      "[0]\ttrain-logloss:18.40655+0.12457\ttrain-error:0.49962+0.00338\ttest-logloss:18.40644+0.49841\ttest-error:0.49961+0.01353\n",
      "[99]\ttrain-logloss:6.35216+0.11115\ttrain-error:0.17242+0.00302\ttest-logloss:7.80455+0.15856\ttest-error:0.21184+0.00430\n"
     ]
    },
    {
     "name": "stderr",
     "output_type": "stream",
     "text": [
      "\u001B[32m[I 2023-04-29 18:24:47,534]\u001B[0m Trial 22 finished with value: 0.21184195038349443 and parameters: {'eta': 0.2712001463379349, 'max_depth': 4, 'min_child_weight': 3.7069438127149534, 'subsample': 0.31754548485737044, 'colsample_bynode': 0.1615714795266242}. Best is trial 17 with value: 0.20432531816619504.\u001B[0m\n"
     ]
    },
    {
     "name": "stdout",
     "output_type": "stream",
     "text": [
      "[0]\ttrain-logloss:18.40655+0.12457\ttrain-error:0.49962+0.00338\ttest-logloss:18.40644+0.49841\ttest-error:0.49961+0.01353\n",
      "[99]\ttrain-logloss:5.81527+0.14985\ttrain-error:0.15785+0.00407\ttest-logloss:7.39201+0.29604\ttest-error:0.20064+0.00804\n"
     ]
    },
    {
     "name": "stderr",
     "output_type": "stream",
     "text": [
      "\u001B[32m[I 2023-04-29 18:24:49,356]\u001B[0m Trial 23 finished with value: 0.2006442188625588 and parameters: {'eta': 0.21363274683674488, 'max_depth': 5, 'min_child_weight': 4.713004725447949, 'subsample': 0.49542522773851994, 'colsample_bynode': 0.19008644622912932}. Best is trial 23 with value: 0.2006442188625588.\u001B[0m\n"
     ]
    },
    {
     "name": "stdout",
     "output_type": "stream",
     "text": [
      "[0]\ttrain-logloss:18.40655+0.12457\ttrain-error:0.49962+0.00338\ttest-logloss:18.40644+0.49841\ttest-error:0.49961+0.01353\n",
      "[99]\ttrain-logloss:5.80538+0.14759\ttrain-error:0.15758+0.00401\ttest-logloss:7.70848+0.28436\ttest-error:0.20923+0.00772\n"
     ]
    },
    {
     "name": "stderr",
     "output_type": "stream",
     "text": [
      "\u001B[32m[I 2023-04-29 18:24:51,191]\u001B[0m Trial 24 finished with value: 0.20923447071176002 and parameters: {'eta': 0.20710874163425363, 'max_depth': 5, 'min_child_weight': 4.168135681934475, 'subsample': 0.36334909142879407, 'colsample_bynode': 0.2744584685719987}. Best is trial 23 with value: 0.2006442188625588.\u001B[0m\n"
     ]
    },
    {
     "name": "stdout",
     "output_type": "stream",
     "text": [
      "[0]\ttrain-logloss:18.40655+0.12457\ttrain-error:0.49962+0.00338\ttest-logloss:18.40644+0.49841\ttest-error:0.49961+0.01353\n",
      "[99]\ttrain-logloss:5.14982+0.16806\ttrain-error:0.13978+0.00456\ttest-logloss:7.61806+0.29712\ttest-error:0.20678+0.00806\n"
     ]
    },
    {
     "name": "stderr",
     "output_type": "stream",
     "text": [
      "\u001B[32m[I 2023-04-29 18:24:52,741]\u001B[0m Trial 25 finished with value: 0.206780129856066 and parameters: {'eta': 0.3220515050639411, 'max_depth': 4, 'min_child_weight': 2.0555311515855923, 'subsample': 0.5009815750530483, 'colsample_bynode': 0.18471654639250348}. Best is trial 23 with value: 0.2006442188625588.\u001B[0m\n"
     ]
    },
    {
     "name": "stdout",
     "output_type": "stream",
     "text": [
      "[0]\ttrain-logloss:18.40655+0.12457\ttrain-error:0.49962+0.00338\ttest-logloss:18.40644+0.49841\ttest-error:0.49961+0.01353\n",
      "[99]\ttrain-logloss:5.76583+0.18460\ttrain-error:0.15650+0.00501\ttest-logloss:7.78759+0.41053\ttest-error:0.21138+0.01114\n"
     ]
    },
    {
     "name": "stderr",
     "output_type": "stream",
     "text": [
      "\u001B[32m[I 2023-04-29 18:24:54,534]\u001B[0m Trial 26 finished with value: 0.21138170997556371 and parameters: {'eta': 0.2685796493496334, 'max_depth': 5, 'min_child_weight': 4.777100572677369, 'subsample': 0.21232833870657888, 'colsample_bynode': 0.2786856884844906}. Best is trial 23 with value: 0.2006442188625588.\u001B[0m\n"
     ]
    },
    {
     "name": "stdout",
     "output_type": "stream",
     "text": [
      "[0]\ttrain-logloss:18.40655+0.12457\ttrain-error:0.49962+0.00338\ttest-logloss:18.40644+0.49841\ttest-error:0.49961+0.01353\n",
      "[99]\ttrain-logloss:5.77995+0.08134\ttrain-error:0.15689+0.00221\ttest-logloss:7.79327+0.35010\ttest-error:0.21154+0.00950\n"
     ]
    },
    {
     "name": "stderr",
     "output_type": "stream",
     "text": [
      "\u001B[32m[I 2023-04-29 18:24:56,606]\u001B[0m Trial 27 finished with value: 0.2115357904599579 and parameters: {'eta': 0.2940204686344801, 'max_depth': 6, 'min_child_weight': 3.1860478869173217, 'subsample': 0.38434142431851614, 'colsample_bynode': 0.11026738222931459}. Best is trial 23 with value: 0.2006442188625588.\u001B[0m\n"
     ]
    },
    {
     "name": "stdout",
     "output_type": "stream",
     "text": [
      "[0]\ttrain-logloss:18.40655+0.12457\ttrain-error:0.49962+0.00338\ttest-logloss:18.40644+0.49841\ttest-error:0.49961+0.01353\n",
      "[99]\ttrain-logloss:6.50615+0.10510\ttrain-error:0.17660+0.00285\ttest-logloss:7.73677+0.29086\ttest-error:0.21000+0.00789\n"
     ]
    },
    {
     "name": "stderr",
     "output_type": "stream",
     "text": [
      "\u001B[32m[I 2023-04-29 18:24:57,790]\u001B[0m Trial 28 finished with value: 0.21000240125430225 and parameters: {'eta': 0.3691216818316744, 'max_depth': 3, 'min_child_weight': 5.68092766017216, 'subsample': 0.49045517689170326, 'colsample_bynode': 0.22622229210249278}. Best is trial 23 with value: 0.2006442188625588.\u001B[0m\n"
     ]
    },
    {
     "name": "stdout",
     "output_type": "stream",
     "text": [
      "[0]\ttrain-logloss:18.40655+0.12457\ttrain-error:0.49962+0.00338\ttest-logloss:18.40644+0.49841\ttest-error:0.49961+0.01353\n",
      "[99]\ttrain-logloss:4.11562+0.15649\ttrain-error:0.11171+0.00425\ttest-logloss:7.90065+0.53168\ttest-error:0.21445+0.01443\n"
     ]
    },
    {
     "name": "stderr",
     "output_type": "stream",
     "text": [
      "\u001B[32m[I 2023-04-29 18:24:59,413]\u001B[0m Trial 29 finished with value: 0.2144504894321269 and parameters: {'eta': 0.09769773925020267, 'max_depth': 4, 'min_child_weight': 0.7426063057416686, 'subsample': 0.37531013123212253, 'colsample_bynode': 0.1656112626515275}. Best is trial 23 with value: 0.2006442188625588.\u001B[0m\n"
     ]
    },
    {
     "name": "stdout",
     "output_type": "stream",
     "text": [
      "[0]\ttrain-logloss:18.40655+0.12457\ttrain-error:0.49962+0.00338\ttest-logloss:18.40644+0.49841\ttest-error:0.49961+0.01353\n",
      "[99]\ttrain-logloss:2.42445+0.18019\ttrain-error:0.06581+0.00489\ttest-logloss:7.92895+0.35910\ttest-error:0.21522+0.00975\n"
     ]
    },
    {
     "name": "stderr",
     "output_type": "stream",
     "text": [
      "\u001B[32m[I 2023-04-29 18:25:02,474]\u001B[0m Trial 30 finished with value: 0.21521877310030182 and parameters: {'eta': 0.19958931936047197, 'max_depth': 7, 'min_child_weight': 2.515893997109337, 'subsample': 0.636489953974447, 'colsample_bynode': 0.3328262786058057}. Best is trial 23 with value: 0.2006442188625588.\u001B[0m\n"
     ]
    },
    {
     "name": "stdout",
     "output_type": "stream",
     "text": [
      "[0]\ttrain-logloss:18.40655+0.12457\ttrain-error:0.49962+0.00338\ttest-logloss:18.40644+0.49841\ttest-error:0.49961+0.01353\n",
      "[99]\ttrain-logloss:5.70790+0.03649\ttrain-error:0.15493+0.00099\ttest-logloss:7.54463+0.33367\ttest-error:0.20479+0.00906\n"
     ]
    },
    {
     "name": "stderr",
     "output_type": "stream",
     "text": [
      "\u001B[32m[I 2023-04-29 18:25:04,302]\u001B[0m Trial 31 finished with value: 0.2047869710766565 and parameters: {'eta': 0.23645248301631888, 'max_depth': 5, 'min_child_weight': 6.723851008732652, 'subsample': 0.5655368222949828, 'colsample_bynode': 0.17253199626457782}. Best is trial 23 with value: 0.2006442188625588.\u001B[0m\n"
     ]
    },
    {
     "name": "stdout",
     "output_type": "stream",
     "text": [
      "[0]\ttrain-logloss:18.40655+0.12457\ttrain-error:0.49962+0.00338\ttest-logloss:18.40644+0.49841\ttest-error:0.49961+0.01353\n",
      "[99]\ttrain-logloss:6.32249+0.11594\ttrain-error:0.17161+0.00315\ttest-logloss:7.60676+0.19669\ttest-error:0.20647+0.00534\n"
     ]
    },
    {
     "name": "stderr",
     "output_type": "stream",
     "text": [
      "\u001B[32m[I 2023-04-29 18:25:06,045]\u001B[0m Trial 32 finished with value: 0.20647326368126412 and parameters: {'eta': 0.2527948651996969, 'max_depth': 5, 'min_child_weight': 5.483679971574386, 'subsample': 0.5168157877826477, 'colsample_bynode': 0.10112603985207315}. Best is trial 23 with value: 0.2006442188625588.\u001B[0m\n"
     ]
    },
    {
     "name": "stdout",
     "output_type": "stream",
     "text": [
      "[0]\ttrain-logloss:18.40655+0.12457\ttrain-error:0.49962+0.00338\ttest-logloss:18.40644+0.49841\ttest-error:0.49961+0.01353\n",
      "[99]\ttrain-logloss:5.01419+0.06992\ttrain-error:0.13610+0.00190\ttest-logloss:7.34110+0.30068\ttest-error:0.19926+0.00816\n"
     ]
    },
    {
     "name": "stderr",
     "output_type": "stream",
     "text": [
      "\u001B[32m[I 2023-04-29 18:25:08,357]\u001B[0m Trial 33 finished with value: 0.19926232055332432 and parameters: {'eta': 0.17799403613523856, 'max_depth': 6, 'min_child_weight': 3.9291987569770233, 'subsample': 0.605639159770741, 'colsample_bynode': 0.1885630686351325}. Best is trial 33 with value: 0.19926232055332432.\u001B[0m\n"
     ]
    },
    {
     "name": "stdout",
     "output_type": "stream",
     "text": [
      "[0]\ttrain-logloss:18.40655+0.12457\ttrain-error:0.49962+0.00338\ttest-logloss:18.40644+0.49841\ttest-error:0.49961+0.01353\n",
      "[99]\ttrain-logloss:4.63272+0.07650\ttrain-error:0.12575+0.00208\ttest-logloss:7.61245+0.37661\ttest-error:0.20663+0.01022\n"
     ]
    },
    {
     "name": "stderr",
     "output_type": "stream",
     "text": [
      "\u001B[32m[I 2023-04-29 18:25:10,709]\u001B[0m Trial 34 finished with value: 0.20662769729129096 and parameters: {'eta': 0.17867397806644464, 'max_depth': 6, 'min_child_weight': 3.467504746864713, 'subsample': 0.6239846030802719, 'colsample_bynode': 0.24230600305224392}. Best is trial 33 with value: 0.19926232055332432.\u001B[0m\n"
     ]
    },
    {
     "name": "stdout",
     "output_type": "stream",
     "text": [
      "[0]\ttrain-logloss:18.40655+0.12457\ttrain-error:0.49962+0.00338\ttest-logloss:18.40644+0.49841\ttest-error:0.49961+0.01353\n",
      "[99]\ttrain-logloss:3.70872+0.14096\ttrain-error:0.10067+0.00383\ttest-logloss:7.69154+0.25117\ttest-error:0.20877+0.00682\n"
     ]
    },
    {
     "name": "stderr",
     "output_type": "stream",
     "text": [
      "\u001B[32m[I 2023-04-29 18:25:13,169]\u001B[0m Trial 35 finished with value: 0.20877446572091776 and parameters: {'eta': 0.15705560016236184, 'max_depth': 6, 'min_child_weight': 1.676392414418539, 'subsample': 0.5642211168573366, 'colsample_bynode': 0.15605986385793474}. Best is trial 33 with value: 0.19926232055332432.\u001B[0m\n"
     ]
    },
    {
     "name": "stdout",
     "output_type": "stream",
     "text": [
      "[0]\ttrain-logloss:18.40655+0.12457\ttrain-error:0.49962+0.00338\ttest-logloss:18.40644+0.49841\ttest-error:0.49961+0.01353\n",
      "[99]\ttrain-logloss:4.36570+0.14668\ttrain-error:0.11850+0.00398\ttest-logloss:7.79332+0.32154\ttest-error:0.21154+0.00873\n"
     ]
    },
    {
     "name": "stderr",
     "output_type": "stream",
     "text": [
      "\u001B[32m[I 2023-04-29 18:25:15,882]\u001B[0m Trial 36 finished with value: 0.21153732067103287 and parameters: {'eta': 0.2116996686739414, 'max_depth': 7, 'min_child_weight': 3.0579485033816636, 'subsample': 0.47376289971520213, 'colsample_bynode': 0.18964378279916552}. Best is trial 33 with value: 0.19926232055332432.\u001B[0m\n"
     ]
    },
    {
     "name": "stdout",
     "output_type": "stream",
     "text": [
      "[0]\ttrain-logloss:18.40655+0.12457\ttrain-error:0.49962+0.00338\ttest-logloss:18.40644+0.49841\ttest-error:0.49961+0.01353\n",
      "[99]\ttrain-logloss:6.50333+0.07788\ttrain-error:0.17652+0.00211\ttest-logloss:7.61804+0.22352\ttest-error:0.20678+0.00607\n"
     ]
    },
    {
     "name": "stderr",
     "output_type": "stream",
     "text": [
      "\u001B[32m[I 2023-04-29 18:25:17,360]\u001B[0m Trial 37 finished with value: 0.20677954131334486 and parameters: {'eta': 0.1710731468622189, 'max_depth': 4, 'min_child_weight': 6.93627110814574, 'subsample': 0.6014680763501492, 'colsample_bynode': 0.2914771560515774}. Best is trial 33 with value: 0.19926232055332432.\u001B[0m\n"
     ]
    },
    {
     "name": "stdout",
     "output_type": "stream",
     "text": [
      "[0]\ttrain-logloss:18.40655+0.12457\ttrain-error:0.49962+0.00338\ttest-logloss:18.40644+0.49841\ttest-error:0.49961+0.01353\n",
      "[99]\ttrain-logloss:5.70225+0.11195\ttrain-error:0.15478+0.00304\ttest-logloss:7.46548+0.25482\ttest-error:0.20264+0.00692\n"
     ]
    },
    {
     "name": "stderr",
     "output_type": "stream",
     "text": [
      "\u001B[32m[I 2023-04-29 18:25:19,211]\u001B[0m Trial 38 finished with value: 0.20263843701886636 and parameters: {'eta': 0.21916420609669554, 'max_depth': 5, 'min_child_weight': 4.5267041986526655, 'subsample': 0.5547394851053319, 'colsample_bynode': 0.16260570447359857}. Best is trial 33 with value: 0.19926232055332432.\u001B[0m\n"
     ]
    },
    {
     "name": "stdout",
     "output_type": "stream",
     "text": [
      "[0]\ttrain-logloss:18.40655+0.12457\ttrain-error:0.49962+0.00338\ttest-logloss:18.40644+0.49841\ttest-error:0.49961+0.01353\n",
      "[99]\ttrain-logloss:6.08654+0.13600\ttrain-error:0.16521+0.00369\ttest-logloss:7.57283+0.15455\ttest-error:0.20555+0.00419\n"
     ]
    },
    {
     "name": "stderr",
     "output_type": "stream",
     "text": [
      "\u001B[32m[I 2023-04-29 18:25:21,562]\u001B[0m Trial 39 finished with value: 0.2055523120312257 and parameters: {'eta': 0.0887248712773776, 'max_depth': 6, 'min_child_weight': 4.04435948431615, 'subsample': 0.6590339961389328, 'colsample_bynode': 0.26015992728837106}. Best is trial 33 with value: 0.19926232055332432.\u001B[0m\n"
     ]
    },
    {
     "name": "stdout",
     "output_type": "stream",
     "text": [
      "[0]\ttrain-logloss:18.40655+0.12457\ttrain-error:0.49962+0.00338\ttest-logloss:18.40644+0.49841\ttest-error:0.49961+0.01353\n",
      "[99]\ttrain-logloss:5.48607+0.15167\ttrain-error:0.14891+0.00412\ttest-logloss:7.67459+0.42024\ttest-error:0.20831+0.01141\n"
     ]
    },
    {
     "name": "stderr",
     "output_type": "stream",
     "text": [
      "\u001B[32m[I 2023-04-29 18:25:23,162]\u001B[0m Trial 40 finished with value: 0.20831446073007545 and parameters: {'eta': 0.20964768128237113, 'max_depth': 4, 'min_child_weight': 2.6111042807921465, 'subsample': 0.5384049736499865, 'colsample_bynode': 0.21735319463115246}. Best is trial 33 with value: 0.19926232055332432.\u001B[0m\n"
     ]
    },
    {
     "name": "stdout",
     "output_type": "stream",
     "text": [
      "[0]\ttrain-logloss:18.40655+0.12457\ttrain-error:0.49962+0.00338\ttest-logloss:18.40644+0.49841\ttest-error:0.49961+0.01353\n",
      "[99]\ttrain-logloss:5.70084+0.13083\ttrain-error:0.15474+0.00355\ttest-logloss:7.64068+0.26872\ttest-error:0.20739+0.00729\n"
     ]
    },
    {
     "name": "stderr",
     "output_type": "stream",
     "text": [
      "\u001B[32m[I 2023-04-29 18:25:24,991]\u001B[0m Trial 41 finished with value: 0.20739409762275823 and parameters: {'eta': 0.2242243467727194, 'max_depth': 5, 'min_child_weight': 5.8549472350778045, 'subsample': 0.5968441464246805, 'colsample_bynode': 0.1617259852779933}. Best is trial 33 with value: 0.19926232055332432.\u001B[0m\n"
     ]
    },
    {
     "name": "stdout",
     "output_type": "stream",
     "text": [
      "[0]\ttrain-logloss:18.40655+0.12457\ttrain-error:0.49962+0.00338\ttest-logloss:18.40644+0.49841\ttest-error:0.49961+0.01353\n",
      "[99]\ttrain-logloss:5.46630+0.17149\ttrain-error:0.14837+0.00465\ttest-logloss:7.64632+0.11510\ttest-error:0.20755+0.00312\n"
     ]
    },
    {
     "name": "stderr",
     "output_type": "stream",
     "text": [
      "\u001B[32m[I 2023-04-29 18:25:26,841]\u001B[0m Trial 42 finished with value: 0.2075471187302544 and parameters: {'eta': 0.2402118359860187, 'max_depth': 5, 'min_child_weight': 4.112520287808202, 'subsample': 0.6713155900111547, 'colsample_bynode': 0.18122147011851975}. Best is trial 33 with value: 0.19926232055332432.\u001B[0m\n"
     ]
    },
    {
     "name": "stdout",
     "output_type": "stream",
     "text": [
      "[0]\ttrain-logloss:18.40655+0.12457\ttrain-error:0.49962+0.00338\ttest-logloss:18.40644+0.49841\ttest-error:0.49961+0.01353\n",
      "[99]\ttrain-logloss:5.56096+0.06315\ttrain-error:0.15094+0.00171\ttest-logloss:7.39768+0.35345\ttest-error:0.20080+0.00959\n"
     ]
    },
    {
     "name": "stderr",
     "output_type": "stream",
     "text": [
      "\u001B[32m[I 2023-04-29 18:25:28,997]\u001B[0m Trial 43 finished with value: 0.20079818163840873 and parameters: {'eta': 0.1862794804797494, 'max_depth': 6, 'min_child_weight': 7.004895905138047, 'subsample': 0.5593257473112168, 'colsample_bynode': 0.1571445154460142}. Best is trial 33 with value: 0.19926232055332432.\u001B[0m\n"
     ]
    },
    {
     "name": "stdout",
     "output_type": "stream",
     "text": [
      "[0]\ttrain-logloss:18.40655+0.12457\ttrain-error:0.49962+0.00338\ttest-logloss:18.40644+0.49841\ttest-error:0.49961+0.01353\n",
      "[99]\ttrain-logloss:4.28375+0.10454\ttrain-error:0.11628+0.00284\ttest-logloss:7.41461+0.27130\ttest-error:0.20126+0.00736\n"
     ]
    },
    {
     "name": "stderr",
     "output_type": "stream",
     "text": [
      "\u001B[32m[I 2023-04-29 18:25:31,409]\u001B[0m Trial 44 finished with value: 0.20125783350361837 and parameters: {'eta': 0.1835800119693317, 'max_depth': 6, 'min_child_weight': 2.555679270322222, 'subsample': 0.5784131380424817, 'colsample_bynode': 0.1398706382760687}. Best is trial 33 with value: 0.19926232055332432.\u001B[0m\n"
     ]
    },
    {
     "name": "stdout",
     "output_type": "stream",
     "text": [
      "[0]\ttrain-logloss:18.40655+0.12457\ttrain-error:0.49962+0.00338\ttest-logloss:18.40644+0.49841\ttest-error:0.49961+0.01353\n",
      "[99]\ttrain-logloss:4.15943+0.14965\ttrain-error:0.11290+0.00406\ttest-logloss:7.50508+0.32391\ttest-error:0.20371+0.00879\n"
     ]
    },
    {
     "name": "stderr",
     "output_type": "stream",
     "text": [
      "\u001B[32m[I 2023-04-29 18:25:34,144]\u001B[0m Trial 45 finished with value: 0.20371335144475466 and parameters: {'eta': 0.15541612073617878, 'max_depth': 7, 'min_child_weight': 7.1648836342806925, 'subsample': 0.5861536466991639, 'colsample_bynode': 0.3399563266889331}. Best is trial 33 with value: 0.19926232055332432.\u001B[0m\n"
     ]
    },
    {
     "name": "stdout",
     "output_type": "stream",
     "text": [
      "[0]\ttrain-logloss:18.40655+0.12457\ttrain-error:0.49962+0.00338\ttest-logloss:18.40644+0.49841\ttest-error:0.49961+0.01353\n",
      "[99]\ttrain-logloss:3.00653+0.10424\ttrain-error:0.08161+0.00283\ttest-logloss:7.76503+0.46216\ttest-error:0.21077+0.01254\n"
     ]
    },
    {
     "name": "stderr",
     "output_type": "stream",
     "text": [
      "\u001B[32m[I 2023-04-29 18:25:36,603]\u001B[0m Trial 46 finished with value: 0.21076939012849066 and parameters: {'eta': 0.1892016865868199, 'max_depth': 6, 'min_child_weight': 1.5721837228681237, 'subsample': 0.7267489878822299, 'colsample_bynode': 0.14054676246690861}. Best is trial 33 with value: 0.19926232055332432.\u001B[0m\n"
     ]
    },
    {
     "name": "stdout",
     "output_type": "stream",
     "text": [
      "[0]\ttrain-logloss:18.40655+0.12457\ttrain-error:0.49962+0.00338\ttest-logloss:18.40644+0.49841\ttest-error:0.49961+0.01353\n",
      "[99]\ttrain-logloss:5.71919+0.13337\ttrain-error:0.15524+0.00362\ttest-logloss:7.42025+0.20998\ttest-error:0.20141+0.00570\n"
     ]
    },
    {
     "name": "stderr",
     "output_type": "stream",
     "text": [
      "\u001B[32m[I 2023-04-29 18:25:38,876]\u001B[0m Trial 47 finished with value: 0.20141097231965874 and parameters: {'eta': 0.1321094357438598, 'max_depth': 6, 'min_child_weight': 4.860123388328466, 'subsample': 0.46448189667255013, 'colsample_bynode': 0.21377317019290798}. Best is trial 33 with value: 0.19926232055332432.\u001B[0m\n"
     ]
    },
    {
     "name": "stdout",
     "output_type": "stream",
     "text": [
      "[0]\ttrain-logloss:18.40655+0.12457\ttrain-error:0.49962+0.00338\ttest-logloss:18.40644+0.49841\ttest-error:0.49961+0.01353\n",
      "[99]\ttrain-logloss:5.75876+0.04137\ttrain-error:0.15631+0.00112\ttest-logloss:7.62373+0.18851\ttest-error:0.20693+0.00512\n"
     ]
    },
    {
     "name": "stderr",
     "output_type": "stream",
     "text": [
      "\u001B[32m[I 2023-04-29 18:25:41,090]\u001B[0m Trial 48 finished with value: 0.20693409263191595 and parameters: {'eta': 0.13493148866611562, 'max_depth': 6, 'min_child_weight': 7.698746701952473, 'subsample': 0.4748797169053433, 'colsample_bynode': 0.21369422835406665}. Best is trial 33 with value: 0.19926232055332432.\u001B[0m\n"
     ]
    },
    {
     "name": "stdout",
     "output_type": "stream",
     "text": [
      "[0]\ttrain-logloss:18.40655+0.12457\ttrain-error:0.49962+0.00338\ttest-logloss:18.40644+0.49841\ttest-error:0.49961+0.01353\n",
      "[99]\ttrain-logloss:2.79603+0.14903\ttrain-error:0.07589+0.00405\ttest-logloss:7.72549+0.34145\ttest-error:0.20970+0.00927\n"
     ]
    },
    {
     "name": "stderr",
     "output_type": "stream",
     "text": [
      "\u001B[32m[I 2023-04-29 18:25:44,991]\u001B[0m Trial 49 finished with value: 0.2096961236222215 and parameters: {'eta': 0.1621408294597656, 'max_depth': 9, 'min_child_weight': 3.0798328864002213, 'subsample': 0.4288208109900715, 'colsample_bynode': 0.2938032670286752}. Best is trial 33 with value: 0.19926232055332432.\u001B[0m\n"
     ]
    },
    {
     "name": "stdout",
     "output_type": "stream",
     "text": [
      "[0]\ttrain-logloss:18.40655+0.12457\ttrain-error:0.49962+0.00338\ttest-logloss:18.40644+0.49841\ttest-error:0.49961+0.01353\n",
      "[99]\ttrain-logloss:4.02944+0.06984\ttrain-error:0.10937+0.00190\ttest-logloss:7.64072+0.28528\ttest-error:0.20740+0.00774\n"
     ]
    },
    {
     "name": "stderr",
     "output_type": "stream",
     "text": [
      "\u001B[32m[I 2023-04-29 18:25:47,718]\u001B[0m Trial 50 finished with value: 0.20739503929111205 and parameters: {'eta': 0.18343981667033243, 'max_depth': 7, 'min_child_weight': 5.491701557048175, 'subsample': 0.6218418496126474, 'colsample_bynode': 0.25559233144806937}. Best is trial 33 with value: 0.19926232055332432.\u001B[0m\n"
     ]
    },
    {
     "name": "stdout",
     "output_type": "stream",
     "text": [
      "[0]\ttrain-logloss:18.40655+0.12457\ttrain-error:0.49962+0.00338\ttest-logloss:18.40644+0.49841\ttest-error:0.49961+0.01353\n",
      "[99]\ttrain-logloss:4.88421+0.08819\ttrain-error:0.13257+0.00239\ttest-logloss:7.56719+0.17603\ttest-error:0.20540+0.00478\n"
     ]
    },
    {
     "name": "stderr",
     "output_type": "stream",
     "text": [
      "\u001B[32m[I 2023-04-29 18:25:49,948]\u001B[0m Trial 51 finished with value: 0.20539940863227377 and parameters: {'eta': 0.217428734622946, 'max_depth': 6, 'min_child_weight': 4.476833171318, 'subsample': 0.5589099589006602, 'colsample_bynode': 0.14953503664779386}. Best is trial 33 with value: 0.19926232055332432.\u001B[0m\n"
     ]
    },
    {
     "name": "stdout",
     "output_type": "stream",
     "text": [
      "[0]\ttrain-logloss:18.40655+0.12457\ttrain-error:0.49962+0.00338\ttest-logloss:18.40644+0.49841\ttest-error:0.49961+0.01353\n",
      "[99]\ttrain-logloss:5.46912+0.16003\ttrain-error:0.14845+0.00434\ttest-logloss:7.48807+0.21159\ttest-error:0.20325+0.00574\n"
     ]
    },
    {
     "name": "stderr",
     "output_type": "stream",
     "text": [
      "\u001B[32m[I 2023-04-29 18:25:52,103]\u001B[0m Trial 52 finished with value: 0.20325158082574896 and parameters: {'eta': 0.17656549074901645, 'max_depth': 6, 'min_child_weight': 7.993903389527501, 'subsample': 0.45433895011880476, 'colsample_bynode': 0.20187736889195806}. Best is trial 33 with value: 0.19926232055332432.\u001B[0m\n"
     ]
    },
    {
     "name": "stdout",
     "output_type": "stream",
     "text": [
      "[0]\ttrain-logloss:18.40655+0.12457\ttrain-error:0.49962+0.00338\ttest-logloss:18.40644+0.49841\ttest-error:0.49961+0.01353\n",
      "[99]\ttrain-logloss:5.20352+0.13331\ttrain-error:0.14124+0.00362\ttest-logloss:7.31290+0.28301\ttest-error:0.19850+0.00768\n"
     ]
    },
    {
     "name": "stderr",
     "output_type": "stream",
     "text": [
      "\u001B[32m[I 2023-04-29 18:25:54,808]\u001B[0m Trial 53 finished with value: 0.19849697959875512 and parameters: {'eta': 0.13641333871191655, 'max_depth': 7, 'min_child_weight': 4.527383710014901, 'subsample': 0.5401473217181034, 'colsample_bynode': 0.1380431871118455}. Best is trial 53 with value: 0.19849697959875512.\u001B[0m\n"
     ]
    },
    {
     "name": "stdout",
     "output_type": "stream",
     "text": [
      "[0]\ttrain-logloss:18.40655+0.12457\ttrain-error:0.49962+0.00338\ttest-logloss:18.40644+0.49841\ttest-error:0.49961+0.01353\n",
      "[99]\ttrain-logloss:3.94325+0.10300\ttrain-error:0.10703+0.00280\ttest-logloss:7.58415+0.24141\ttest-error:0.20586+0.00655\n"
     ]
    },
    {
     "name": "stderr",
     "output_type": "stream",
     "text": [
      "\u001B[32m[I 2023-04-29 18:25:58,324]\u001B[0m Trial 54 finished with value: 0.20585976674874878 and parameters: {'eta': 0.1324922808331282, 'max_depth': 8, 'min_child_weight': 2.324187156669854, 'subsample': 0.5037308170575737, 'colsample_bynode': 0.13425989136439806}. Best is trial 53 with value: 0.19849697959875512.\u001B[0m\n"
     ]
    },
    {
     "name": "stdout",
     "output_type": "stream",
     "text": [
      "[0]\ttrain-logloss:18.40655+0.12457\ttrain-error:0.49962+0.00338\ttest-logloss:18.40644+0.49841\ttest-error:0.49961+0.01353\n",
      "[99]\ttrain-logloss:5.07071+0.08297\ttrain-error:0.13764+0.00225\ttest-logloss:7.59543+0.25897\ttest-error:0.20617+0.00703\n"
     ]
    },
    {
     "name": "stderr",
     "output_type": "stream",
     "text": [
      "\u001B[32m[I 2023-04-29 18:26:01,191]\u001B[0m Trial 55 finished with value: 0.20616580896374104 and parameters: {'eta': 0.11505744029841874, 'max_depth': 7, 'min_child_weight': 3.22180635455641, 'subsample': 0.5357024173139124, 'colsample_bynode': 0.24569715005756254}. Best is trial 53 with value: 0.19849697959875512.\u001B[0m\n"
     ]
    },
    {
     "name": "stdout",
     "output_type": "stream",
     "text": [
      "[0]\ttrain-logloss:18.40655+0.12457\ttrain-error:0.49962+0.00338\ttest-logloss:18.40644+0.49841\ttest-error:0.49961+0.01353\n",
      "[99]\ttrain-logloss:5.64997+0.17938\ttrain-error:0.15336+0.00487\ttest-logloss:7.47116+0.24901\ttest-error:0.20279+0.00676\n"
     ]
    },
    {
     "name": "stderr",
     "output_type": "stream",
     "text": [
      "\u001B[32m[I 2023-04-29 18:26:03,681]\u001B[0m Trial 56 finished with value: 0.20279275292034898 and parameters: {'eta': 0.15196390012778144, 'max_depth': 7, 'min_child_weight': 6.032409910023666, 'subsample': 0.40699929119262546, 'colsample_bynode': 0.13567805293805102}. Best is trial 53 with value: 0.19849697959875512.\u001B[0m\n"
     ]
    },
    {
     "name": "stdout",
     "output_type": "stream",
     "text": [
      "[0]\ttrain-logloss:18.40655+0.12457\ttrain-error:0.49962+0.00338\ttest-logloss:18.40644+0.49841\ttest-error:0.49961+0.01353\n",
      "[99]\ttrain-logloss:4.91811+0.12657\ttrain-error:0.13349+0.00344\ttest-logloss:7.39769+0.32553\ttest-error:0.20080+0.00884\n"
     ]
    },
    {
     "name": "stderr",
     "output_type": "stream",
     "text": [
      "\u001B[32m[I 2023-04-29 18:26:06,103]\u001B[0m Trial 57 finished with value: 0.20079853476404144 and parameters: {'eta': 0.14332966320670174, 'max_depth': 6, 'min_child_weight': 2.0201433298025475, 'subsample': 0.45340862760591105, 'colsample_bynode': 0.2026126917050375}. Best is trial 53 with value: 0.19849697959875512.\u001B[0m\n"
     ]
    },
    {
     "name": "stdout",
     "output_type": "stream",
     "text": [
      "[0]\ttrain-logloss:18.40655+0.12457\ttrain-error:0.49962+0.00338\ttest-logloss:18.40644+0.49841\ttest-error:0.49961+0.01353\n",
      "[99]\ttrain-logloss:3.11391+0.13027\ttrain-error:0.08452+0.00354\ttest-logloss:7.73111+0.27001\ttest-error:0.20985+0.00733\n"
     ]
    },
    {
     "name": "stderr",
     "output_type": "stream",
     "text": [
      "\u001B[32m[I 2023-04-29 18:26:09,060]\u001B[0m Trial 58 finished with value: 0.2098485561869965 and parameters: {'eta': 0.16695376288555897, 'max_depth': 7, 'min_child_weight': 1.435015256158183, 'subsample': 0.49461948313897264, 'colsample_bynode': 0.19230721605298298}. Best is trial 53 with value: 0.19849697959875512.\u001B[0m\n"
     ]
    },
    {
     "name": "stdout",
     "output_type": "stream",
     "text": [
      "[0]\ttrain-logloss:18.40655+0.12457\ttrain-error:0.49962+0.00338\ttest-logloss:18.40644+0.49841\ttest-error:0.49961+0.01353\n",
      "[99]\ttrain-logloss:3.25238+0.19419\ttrain-error:0.08828+0.00527\ttest-logloss:7.60681+0.35376\ttest-error:0.20647+0.00960\n"
     ]
    },
    {
     "name": "stderr",
     "output_type": "stream",
     "text": [
      "\u001B[32m[I 2023-04-29 18:26:12,145]\u001B[0m Trial 59 finished with value: 0.20647479389233908 and parameters: {'eta': 0.18920840709405132, 'max_depth': 8, 'min_child_weight': 1.738663833654964, 'subsample': 0.5947226539257552, 'colsample_bynode': 0.12861120856172195}. Best is trial 53 with value: 0.19849697959875512.\u001B[0m\n"
     ]
    },
    {
     "name": "stdout",
     "output_type": "stream",
     "text": [
      "[0]\ttrain-logloss:18.40655+0.12457\ttrain-error:0.49962+0.00338\ttest-logloss:18.40644+0.49841\ttest-error:0.49961+0.01353\n",
      "[99]\ttrain-logloss:4.94213+0.15925\ttrain-error:0.13415+0.00432\ttest-logloss:7.73672+0.35667\ttest-error:0.21000+0.00968\n"
     ]
    },
    {
     "name": "stderr",
     "output_type": "stream",
     "text": [
      "\u001B[32m[I 2023-04-29 18:26:14,770]\u001B[0m Trial 60 finished with value: 0.21000098875177153 and parameters: {'eta': 0.0643638597075796, 'max_depth': 6, 'min_child_weight': 1.1227120124925083, 'subsample': 0.5245758766765013, 'colsample_bynode': 0.31170699664761714}. Best is trial 53 with value: 0.19849697959875512.\u001B[0m\n"
     ]
    },
    {
     "name": "stdout",
     "output_type": "stream",
     "text": [
      "[0]\ttrain-logloss:18.40655+0.12457\ttrain-error:0.49962+0.00338\ttest-logloss:18.40644+0.49841\ttest-error:0.49961+0.01353\n",
      "[99]\ttrain-logloss:6.02155+0.09005\ttrain-error:0.16345+0.00244\ttest-logloss:7.53330+0.18283\ttest-error:0.20448+0.00496\n"
     ]
    },
    {
     "name": "stderr",
     "output_type": "stream",
     "text": [
      "\u001B[32m[I 2023-04-29 18:26:16,905]\u001B[0m Trial 61 finished with value: 0.20447928094204504 and parameters: {'eta': 0.1410161200869684, 'max_depth': 6, 'min_child_weight': 9.996735781939547, 'subsample': 0.45099289473631793, 'colsample_bynode': 0.20705933483214772}. Best is trial 53 with value: 0.19849697959875512.\u001B[0m\n"
     ]
    },
    {
     "name": "stdout",
     "output_type": "stream",
     "text": [
      "[0]\ttrain-logloss:18.40655+0.12457\ttrain-error:0.49962+0.00338\ttest-logloss:18.40644+0.49841\ttest-error:0.49961+0.01353\n",
      "[99]\ttrain-logloss:4.70478+0.18039\ttrain-error:0.12770+0.00490\ttest-logloss:7.47111+0.14062\ttest-error:0.20279+0.00382\n"
     ]
    },
    {
     "name": "stderr",
     "output_type": "stream",
     "text": [
      "\u001B[32m[I 2023-04-29 18:26:19,351]\u001B[0m Trial 62 finished with value: 0.20279145812636248 and parameters: {'eta': 0.14843248598571557, 'max_depth': 6, 'min_child_weight': 2.1387361422414317, 'subsample': 0.47281094130453816, 'colsample_bynode': 0.2596041166302404}. Best is trial 53 with value: 0.19849697959875512.\u001B[0m\n"
     ]
    },
    {
     "name": "stdout",
     "output_type": "stream",
     "text": [
      "[0]\ttrain-logloss:18.40655+0.12457\ttrain-error:0.49962+0.00338\ttest-logloss:18.40644+0.49841\ttest-error:0.49961+0.01353\n",
      "[99]\ttrain-logloss:6.00742+0.07956\ttrain-error:0.16306+0.00216\ttest-logloss:7.49370+0.25770\ttest-error:0.20340+0.00699\n"
     ]
    },
    {
     "name": "stderr",
     "output_type": "stream",
     "text": [
      "\u001B[32m[I 2023-04-29 18:26:21,622]\u001B[0m Trial 63 finished with value: 0.2034046019332451 and parameters: {'eta': 0.11924735940686156, 'max_depth': 6, 'min_child_weight': 3.582291231192986, 'subsample': 0.41512931245316037, 'colsample_bynode': 0.19452203849078054}. Best is trial 53 with value: 0.19849697959875512.\u001B[0m\n"
     ]
    },
    {
     "name": "stdout",
     "output_type": "stream",
     "text": [
      "[0]\ttrain-logloss:18.40655+0.12457\ttrain-error:0.49962+0.00338\ttest-logloss:18.40644+0.49841\ttest-error:0.49961+0.01353\n",
      "[99]\ttrain-logloss:5.82940+0.19935\ttrain-error:0.15823+0.00541\ttest-logloss:7.49938+0.21467\ttest-error:0.20356+0.00583\n"
     ]
    },
    {
     "name": "stderr",
     "output_type": "stream",
     "text": [
      "\u001B[32m[I 2023-04-29 18:26:23,962]\u001B[0m Trial 64 finished with value: 0.20355868241763933 and parameters: {'eta': 0.20051927806411107, 'max_depth': 7, 'min_child_weight': 4.6591227748942785, 'subsample': 0.4468226847846709, 'colsample_bynode': 0.1302504067398505}. Best is trial 53 with value: 0.19849697959875512.\u001B[0m\n"
     ]
    },
    {
     "name": "stdout",
     "output_type": "stream",
     "text": [
      "[0]\ttrain-logloss:18.40655+0.12457\ttrain-error:0.49962+0.00338\ttest-logloss:18.40644+0.49841\ttest-error:0.49961+0.01353\n",
      "[99]\ttrain-logloss:4.03368+0.21707\ttrain-error:0.10949+0.00589\ttest-logloss:7.61241+0.24075\ttest-error:0.20663+0.00653\n"
     ]
    },
    {
     "name": "stderr",
     "output_type": "stream",
     "text": [
      "\u001B[32m[I 2023-04-29 18:26:26,430]\u001B[0m Trial 65 finished with value: 0.20662675562293717 and parameters: {'eta': 0.17300082189027352, 'max_depth': 6, 'min_child_weight': 2.834401807156971, 'subsample': 0.5754643284587059, 'colsample_bynode': 0.21566098164976977}. Best is trial 53 with value: 0.19849697959875512.\u001B[0m\n"
     ]
    },
    {
     "name": "stdout",
     "output_type": "stream",
     "text": [
      "[0]\ttrain-logloss:18.40655+0.12457\ttrain-error:0.49962+0.00338\ttest-logloss:18.40644+0.49841\ttest-error:0.49961+0.01353\n",
      "[99]\ttrain-logloss:6.43127+0.06828\ttrain-error:0.17457+0.00185\ttest-logloss:7.43723+0.29792\ttest-error:0.20187+0.00809\n"
     ]
    },
    {
     "name": "stderr",
     "output_type": "stream",
     "text": [
      "\u001B[32m[I 2023-04-29 18:26:28,677]\u001B[0m Trial 66 finished with value: 0.20187180127031062 and parameters: {'eta': 0.14318774645359333, 'max_depth': 7, 'min_child_weight': 8.299052488137391, 'subsample': 0.5303577179347964, 'colsample_bynode': 0.10348078540737865}. Best is trial 53 with value: 0.19849697959875512.\u001B[0m\n"
     ]
    },
    {
     "name": "stdout",
     "output_type": "stream",
     "text": [
      "[0]\ttrain-logloss:18.40655+0.12457\ttrain-error:0.49962+0.00338\ttest-logloss:18.40644+0.49841\ttest-error:0.49961+0.01353\n",
      "[99]\ttrain-logloss:5.54966+0.15256\ttrain-error:0.15064+0.00414\ttest-logloss:7.57282+0.29826\ttest-error:0.20555+0.00810\n"
     ]
    },
    {
     "name": "stderr",
     "output_type": "stream",
     "text": [
      "\u001B[32m[I 2023-04-29 18:26:30,562]\u001B[0m Trial 67 finished with value: 0.20555219432268151 and parameters: {'eta': 0.1968244555773826, 'max_depth': 5, 'min_child_weight': 3.7727199820166346, 'subsample': 0.48954741113632944, 'colsample_bynode': 0.2363852823874229}. Best is trial 53 with value: 0.19849697959875512.\u001B[0m\n"
     ]
    },
    {
     "name": "stdout",
     "output_type": "stream",
     "text": [
      "[0]\ttrain-logloss:18.40655+0.12457\ttrain-error:0.49962+0.00338\ttest-logloss:18.40644+0.49841\ttest-error:0.49961+0.01353\n",
      "[99]\ttrain-logloss:2.91753+0.14782\ttrain-error:0.07919+0.00401\ttest-logloss:7.55033+0.38189\ttest-error:0.20494+0.01037\n"
     ]
    },
    {
     "name": "stderr",
     "output_type": "stream",
     "text": [
      "\u001B[32m[I 2023-04-29 18:26:33,853]\u001B[0m Trial 68 finished with value: 0.2049417578123161 and parameters: {'eta': 0.1645446256615329, 'max_depth': 8, 'min_child_weight': 6.269641879417712, 'subsample': 0.6406957966144915, 'colsample_bynode': 0.36369278427412055}. Best is trial 53 with value: 0.19849697959875512.\u001B[0m\n"
     ]
    },
    {
     "name": "stdout",
     "output_type": "stream",
     "text": [
      "[0]\ttrain-logloss:18.40655+0.12457\ttrain-error:0.49962+0.00338\ttest-logloss:18.40644+0.49841\ttest-error:0.49961+0.01353\n",
      "[99]\ttrain-logloss:4.04922+0.07513\ttrain-error:0.10991+0.00204\ttest-logloss:7.68021+0.36551\ttest-error:0.20847+0.00992\n"
     ]
    },
    {
     "name": "stderr",
     "output_type": "stream",
     "text": [
      "\u001B[32m[I 2023-04-29 18:26:36,240]\u001B[0m Trial 69 finished with value: 0.20846701100339468 and parameters: {'eta': 0.1844109616999408, 'max_depth': 6, 'min_child_weight': 1.999665070171037, 'subsample': 0.3963329521177785, 'colsample_bynode': 0.17201233969234717}. Best is trial 53 with value: 0.19849697959875512.\u001B[0m\n"
     ]
    },
    {
     "name": "stdout",
     "output_type": "stream",
     "text": [
      "[0]\ttrain-logloss:18.40655+0.12457\ttrain-error:0.49962+0.00338\ttest-logloss:18.40644+0.49841\ttest-error:0.49961+0.01353\n",
      "[99]\ttrain-logloss:5.52988+0.09030\ttrain-error:0.15010+0.00245\ttest-logloss:7.52199+0.19928\ttest-error:0.20417+0.00541\n"
     ]
    },
    {
     "name": "stderr",
     "output_type": "stream",
     "text": [
      "\u001B[32m[I 2023-04-29 18:26:38,513]\u001B[0m Trial 70 finished with value: 0.2041724147672431 and parameters: {'eta': 0.12737250665400798, 'max_depth': 6, 'min_child_weight': 5.043925544639024, 'subsample': 0.5560174126685941, 'colsample_bynode': 0.2689310952096885}. Best is trial 53 with value: 0.19849697959875512.\u001B[0m\n"
     ]
    },
    {
     "name": "stdout",
     "output_type": "stream",
     "text": [
      "[0]\ttrain-logloss:18.40655+0.12457\ttrain-error:0.49962+0.00338\ttest-logloss:18.40644+0.49841\ttest-error:0.49961+0.01353\n",
      "[99]\ttrain-logloss:6.36628+0.09458\ttrain-error:0.17280+0.00257\ttest-logloss:7.45413+0.55349\ttest-error:0.20233+0.01502\n"
     ]
    },
    {
     "name": "stderr",
     "output_type": "stream",
     "text": [
      "\u001B[32m[I 2023-04-29 18:26:40,809]\u001B[0m Trial 71 finished with value: 0.20233051146716638 and parameters: {'eta': 0.14409336159877192, 'max_depth': 7, 'min_child_weight': 7.7890390453951595, 'subsample': 0.5265767701850885, 'colsample_bynode': 0.11884823937300207}. Best is trial 53 with value: 0.19849697959875512.\u001B[0m\n"
     ]
    },
    {
     "name": "stdout",
     "output_type": "stream",
     "text": [
      "[0]\ttrain-logloss:18.40655+0.12457\ttrain-error:0.49962+0.00338\ttest-logloss:18.40644+0.49841\ttest-error:0.49961+0.01353\n",
      "[99]\ttrain-logloss:5.96504+0.11055\ttrain-error:0.16191+0.00300\ttest-logloss:7.49374+0.25432\ttest-error:0.20341+0.00690\n"
     ]
    },
    {
     "name": "stderr",
     "output_type": "stream",
     "text": [
      "\u001B[32m[I 2023-04-29 18:26:43,357]\u001B[0m Trial 72 finished with value: 0.20340554360159896 and parameters: {'eta': 0.11324019144208582, 'max_depth': 7, 'min_child_weight': 8.098919753788705, 'subsample': 0.5103527991832527, 'colsample_bynode': 0.1479827578312783}. Best is trial 53 with value: 0.19849697959875512.\u001B[0m\n"
     ]
    },
    {
     "name": "stdout",
     "output_type": "stream",
     "text": [
      "[0]\ttrain-logloss:18.40655+0.12457\ttrain-error:0.49962+0.00338\ttest-logloss:18.40644+0.49841\ttest-error:0.49961+0.01353\n",
      "[99]\ttrain-logloss:6.28999+0.05055\ttrain-error:0.17073+0.00137\ttest-logloss:7.42027+0.18817\ttest-error:0.20141+0.00511\n"
     ]
    },
    {
     "name": "stderr",
     "output_type": "stream",
     "text": [
      "\u001B[32m[I 2023-04-29 18:26:45,708]\u001B[0m Trial 73 finished with value: 0.20141144315383563 and parameters: {'eta': 0.13650513412812632, 'max_depth': 7, 'min_child_weight': 6.537860330464124, 'subsample': 0.6137969387211003, 'colsample_bynode': 0.10123588611800499}. Best is trial 53 with value: 0.19849697959875512.\u001B[0m\n"
     ]
    },
    {
     "name": "stdout",
     "output_type": "stream",
     "text": [
      "[0]\ttrain-logloss:18.40655+0.12457\ttrain-error:0.49962+0.00338\ttest-logloss:18.40644+0.49841\ttest-error:0.49961+0.01353\n",
      "[99]\ttrain-logloss:6.06535+0.08863\ttrain-error:0.16463+0.00241\ttest-logloss:7.42025+0.22167\ttest-error:0.20141+0.00602\n"
     ]
    },
    {
     "name": "stderr",
     "output_type": "stream",
     "text": [
      "\u001B[32m[I 2023-04-29 18:26:47,581]\u001B[0m Trial 74 finished with value: 0.2014108546111145 and parameters: {'eta': 0.15809227254151414, 'max_depth': 5, 'min_child_weight': 4.9975922888095194, 'subsample': 0.6175139536514213, 'colsample_bynode': 0.18651353065991197}. Best is trial 53 with value: 0.19849697959875512.\u001B[0m\n"
     ]
    },
    {
     "name": "stdout",
     "output_type": "stream",
     "text": [
      "[0]\ttrain-logloss:18.40655+0.12457\ttrain-error:0.49962+0.00338\ttest-logloss:18.40644+0.49841\ttest-error:0.49961+0.01353\n",
      "[99]\ttrain-logloss:4.70478+0.14974\ttrain-error:0.12770+0.00406\ttest-logloss:7.62374+0.27259\ttest-error:0.20693+0.00740\n"
     ]
    },
    {
     "name": "stderr",
     "output_type": "stream",
     "text": [
      "\u001B[32m[I 2023-04-29 18:26:49,527]\u001B[0m Trial 75 finished with value: 0.2069343280490044 and parameters: {'eta': 0.22873540929567351, 'max_depth': 5, 'min_child_weight': 2.479734126480403, 'subsample': 0.5782635010198017, 'colsample_bynode': 0.18769226730375946}. Best is trial 53 with value: 0.19849697959875512.\u001B[0m\n"
     ]
    },
    {
     "name": "stdout",
     "output_type": "stream",
     "text": [
      "[0]\ttrain-logloss:18.40655+0.12457\ttrain-error:0.49962+0.00338\ttest-logloss:18.40644+0.49841\ttest-error:0.49961+0.01353\n",
      "[99]\ttrain-logloss:6.23489+0.11489\ttrain-error:0.16924+0.00312\ttest-logloss:7.46550+0.25560\ttest-error:0.20264+0.00694\n"
     ]
    },
    {
     "name": "stderr",
     "output_type": "stream",
     "text": [
      "\u001B[32m[I 2023-04-29 18:26:51,360]\u001B[0m Trial 76 finished with value: 0.2026391432701317 and parameters: {'eta': 0.1602384154603051, 'max_depth': 5, 'min_child_weight': 4.721710409713729, 'subsample': 0.4352981378246835, 'colsample_bynode': 0.1711721165202854}. Best is trial 53 with value: 0.19849697959875512.\u001B[0m\n"
     ]
    },
    {
     "name": "stdout",
     "output_type": "stream",
     "text": [
      "[0]\ttrain-logloss:18.40655+0.12457\ttrain-error:0.49962+0.00338\ttest-logloss:18.40644+0.49841\ttest-error:0.49961+0.01353\n",
      "[99]\ttrain-logloss:5.34056+0.16351\ttrain-error:0.14496+0.00444\ttest-logloss:7.74240+0.21459\ttest-error:0.21016+0.00582\n"
     ]
    },
    {
     "name": "stderr",
     "output_type": "stream",
     "text": [
      "\u001B[32m[I 2023-04-29 18:26:53,252]\u001B[0m Trial 77 finished with value: 0.2101550692361657 and parameters: {'eta': 0.2032263242640045, 'max_depth': 5, 'min_child_weight': 3.6602931423740808, 'subsample': 0.60831614868116, 'colsample_bynode': 0.23286806445263536}. Best is trial 53 with value: 0.19849697959875512.\u001B[0m\n"
     ]
    },
    {
     "name": "stdout",
     "output_type": "stream",
     "text": [
      "[0]\ttrain-logloss:18.40655+0.12457\ttrain-error:0.49962+0.00338\ttest-logloss:18.40644+0.49841\ttest-error:0.49961+0.01353\n",
      "[99]\ttrain-logloss:2.56998+0.15965\ttrain-error:0.06976+0.00433\ttest-logloss:7.73119+0.51470\ttest-error:0.20985+0.01397\n"
     ]
    },
    {
     "name": "stderr",
     "output_type": "stream",
     "text": [
      "\u001B[32m[I 2023-04-29 18:26:57,302]\u001B[0m Trial 78 finished with value: 0.20985079264933684 and parameters: {'eta': 0.17563938356925526, 'max_depth': 9, 'min_child_weight': 2.88620906910088, 'subsample': 0.5502187892627952, 'colsample_bynode': 0.15280767059514552}. Best is trial 53 with value: 0.19849697959875512.\u001B[0m\n"
     ]
    },
    {
     "name": "stdout",
     "output_type": "stream",
     "text": [
      "[0]\ttrain-logloss:18.40655+0.12457\ttrain-error:0.49962+0.00338\ttest-logloss:18.40644+0.49841\ttest-error:0.49961+0.01353\n",
      "[99]\ttrain-logloss:4.94638+0.18153\ttrain-error:0.13426+0.00493\ttest-logloss:7.55592+0.29931\ttest-error:0.20509+0.00812\n"
     ]
    },
    {
     "name": "stderr",
     "output_type": "stream",
     "text": [
      "\u001B[32m[I 2023-04-29 18:26:59,528]\u001B[0m Trial 79 finished with value: 0.20509336641728151 and parameters: {'eta': 0.1935083341418959, 'max_depth': 6, 'min_child_weight': 5.108463280391254, 'subsample': 0.48513505169961935, 'colsample_bynode': 0.20156250863462305}. Best is trial 53 with value: 0.19849697959875512.\u001B[0m\n"
     ]
    },
    {
     "name": "stdout",
     "output_type": "stream",
     "text": [
      "[0]\ttrain-logloss:18.40655+0.12457\ttrain-error:0.49962+0.00338\ttest-logloss:18.40644+0.49841\ttest-error:0.49961+0.01353\n",
      "[99]\ttrain-logloss:5.95232+0.08268\ttrain-error:0.16157+0.00224\ttest-logloss:7.63502+0.40178\ttest-error:0.20724+0.01091\n"
     ]
    },
    {
     "name": "stderr",
     "output_type": "stream",
     "text": [
      "\u001B[32m[I 2023-04-29 18:27:01,070]\u001B[0m Trial 80 finished with value: 0.20724048797254097 and parameters: {'eta': 0.25331929015636045, 'max_depth': 4, 'min_child_weight': 4.213703935034185, 'subsample': 0.5843842195269747, 'colsample_bynode': 0.27441447754220943}. Best is trial 53 with value: 0.19849697959875512.\u001B[0m\n"
     ]
    },
    {
     "name": "stdout",
     "output_type": "stream",
     "text": [
      "[0]\ttrain-logloss:18.40655+0.12457\ttrain-error:0.49962+0.00338\ttest-logloss:18.40644+0.49841\ttest-error:0.49961+0.01353\n",
      "[99]\ttrain-logloss:6.63048+0.11413\ttrain-error:0.17997+0.00310\ttest-logloss:7.63501+0.30375\ttest-error:0.20724+0.00824\n"
     ]
    },
    {
     "name": "stderr",
     "output_type": "stream",
     "text": [
      "\u001B[32m[I 2023-04-29 18:27:03,129]\u001B[0m Trial 81 finished with value: 0.20724013484690826 and parameters: {'eta': 0.13005043177529935, 'max_depth': 6, 'min_child_weight': 6.343923170822201, 'subsample': 0.6073817039086217, 'colsample_bynode': 0.10307986469350562}. Best is trial 53 with value: 0.19849697959875512.\u001B[0m\n"
     ]
    },
    {
     "name": "stdout",
     "output_type": "stream",
     "text": [
      "[0]\ttrain-logloss:18.40655+0.12457\ttrain-error:0.49962+0.00338\ttest-logloss:18.40644+0.49841\ttest-error:0.49961+0.01353\n",
      "[99]\ttrain-logloss:6.06817+0.09278\ttrain-error:0.16471+0.00252\ttest-logloss:7.43725+0.12961\ttest-error:0.20187+0.00352\n"
     ]
    },
    {
     "name": "stderr",
     "output_type": "stream",
     "text": [
      "\u001B[32m[I 2023-04-29 18:27:05,524]\u001B[0m Trial 82 finished with value: 0.20187215439594328 and parameters: {'eta': 0.1518976993392543, 'max_depth': 7, 'min_child_weight': 6.943092080008968, 'subsample': 0.6378246801290031, 'colsample_bynode': 0.1319678995224763}. Best is trial 53 with value: 0.19849697959875512.\u001B[0m\n"
     ]
    },
    {
     "name": "stdout",
     "output_type": "stream",
     "text": [
      "[0]\ttrain-logloss:18.40655+0.12457\ttrain-error:0.49962+0.00338\ttest-logloss:18.40644+0.49841\ttest-error:0.49961+0.01353\n",
      "[99]\ttrain-logloss:6.11480+0.11945\ttrain-error:0.16598+0.00324\ttest-logloss:7.57282+0.26946\ttest-error:0.20555+0.00731\n"
     ]
    },
    {
     "name": "stderr",
     "output_type": "stream",
     "text": [
      "\u001B[32m[I 2023-04-29 18:27:07,784]\u001B[0m Trial 83 finished with value: 0.20555207661413727 and parameters: {'eta': 0.10420881408187646, 'max_depth': 6, 'min_child_weight': 5.585047625548087, 'subsample': 0.6615795566341506, 'colsample_bynode': 0.1806244894892777}. Best is trial 53 with value: 0.19849697959875512.\u001B[0m\n"
     ]
    },
    {
     "name": "stdout",
     "output_type": "stream",
     "text": [
      "[0]\ttrain-logloss:18.40655+0.12457\ttrain-error:0.49962+0.00338\ttest-logloss:18.40644+0.49841\ttest-error:0.49961+0.01353\n",
      "[99]\ttrain-logloss:6.10067+0.08733\ttrain-error:0.16559+0.00237\ttest-logloss:7.57287+0.27371\ttest-error:0.20555+0.00743\n"
     ]
    },
    {
     "name": "stderr",
     "output_type": "stream",
     "text": [
      "\u001B[32m[I 2023-04-29 18:27:09,717]\u001B[0m Trial 84 finished with value: 0.20555337140812377 and parameters: {'eta': 0.13586338156590336, 'max_depth': 5, 'min_child_weight': 3.3815494671209487, 'subsample': 0.6161285470217293, 'colsample_bynode': 0.15257207440485251}. Best is trial 53 with value: 0.19849697959875512.\u001B[0m\n"
     ]
    },
    {
     "name": "stdout",
     "output_type": "stream",
     "text": [
      "[0]\ttrain-logloss:18.40655+0.12457\ttrain-error:0.49962+0.00338\ttest-logloss:18.40644+0.49841\ttest-error:0.49961+0.01353\n",
      "[99]\ttrain-logloss:4.87290+0.18989\ttrain-error:0.13227+0.00515\ttest-logloss:7.53896+0.14874\ttest-error:0.20463+0.00404\n"
     ]
    },
    {
     "name": "stderr",
     "output_type": "stream",
     "text": [
      "\u001B[32m[I 2023-04-29 18:27:12,288]\u001B[0m Trial 85 finished with value: 0.20463312600935074 and parameters: {'eta': 0.16490575906349061, 'max_depth': 7, 'min_child_weight': 9.096016901796604, 'subsample': 0.5613821480811052, 'colsample_bynode': 0.2281484753839973}. Best is trial 53 with value: 0.19849697959875512.\u001B[0m\n"
     ]
    },
    {
     "name": "stdout",
     "output_type": "stream",
     "text": [
      "[0]\ttrain-logloss:18.40655+0.12457\ttrain-error:0.49962+0.00338\ttest-logloss:18.40644+0.49841\ttest-error:0.49961+0.01353\n",
      "[99]\ttrain-logloss:5.83647+0.16024\ttrain-error:0.15842+0.00435\ttest-logloss:7.46548+0.24025\ttest-error:0.20264+0.00652\n"
     ]
    },
    {
     "name": "stderr",
     "output_type": "stream",
     "text": [
      "\u001B[32m[I 2023-04-29 18:27:14,360]\u001B[0m Trial 86 finished with value: 0.2026386724359548 and parameters: {'eta': 0.22347477307597352, 'max_depth': 6, 'min_child_weight': 3.86890259958385, 'subsample': 0.46908345811874363, 'colsample_bynode': 0.12770279615397542}. Best is trial 53 with value: 0.19849697959875512.\u001B[0m\n"
     ]
    },
    {
     "name": "stdout",
     "output_type": "stream",
     "text": [
      "[0]\ttrain-logloss:18.40655+0.12457\ttrain-error:0.49962+0.00338\ttest-logloss:18.40644+0.49841\ttest-error:0.49961+0.01353\n",
      "[99]\ttrain-logloss:6.12186+0.06597\ttrain-error:0.16617+0.00179\ttest-logloss:7.50502+0.27257\ttest-error:0.20371+0.00740\n"
     ]
    },
    {
     "name": "stderr",
     "output_type": "stream",
     "text": [
      "\u001B[32m[I 2023-04-29 18:27:16,257]\u001B[0m Trial 87 finished with value: 0.2037117035251355 and parameters: {'eta': 0.18368548796409334, 'max_depth': 5, 'min_child_weight': 6.524569586796997, 'subsample': 0.5364329219836294, 'colsample_bynode': 0.16649647958043814}. Best is trial 53 with value: 0.19849697959875512.\u001B[0m\n"
     ]
    },
    {
     "name": "stdout",
     "output_type": "stream",
     "text": [
      "[0]\ttrain-logloss:18.40655+0.12457\ttrain-error:0.49962+0.00338\ttest-logloss:18.40644+0.49841\ttest-error:0.49961+0.01353\n",
      "[99]\ttrain-logloss:1.85648+0.07708\ttrain-error:0.05039+0.00209\ttest-logloss:7.84986+0.42849\ttest-error:0.21307+0.01163\n"
     ]
    },
    {
     "name": "stderr",
     "output_type": "stream",
     "text": [
      "\u001B[32m[I 2023-04-29 18:27:19,881]\u001B[0m Trial 88 finished with value: 0.21307188696213078 and parameters: {'eta': 0.21137349543867545, 'max_depth': 8, 'min_child_weight': 2.8097799826077297, 'subsample': 0.6970581393184536, 'colsample_bynode': 0.2084155941721954}. Best is trial 53 with value: 0.19849697959875512.\u001B[0m\n"
     ]
    },
    {
     "name": "stdout",
     "output_type": "stream",
     "text": [
      "[0]\ttrain-logloss:18.40655+0.12457\ttrain-error:0.49962+0.00338\ttest-logloss:18.40644+0.49841\ttest-error:0.49961+0.01353\n",
      "[99]\ttrain-logloss:6.35922+0.10626\ttrain-error:0.17261+0.00288\ttest-logloss:7.51072+0.27735\ttest-error:0.20387+0.00753\n"
     ]
    },
    {
     "name": "stderr",
     "output_type": "stream",
     "text": [
      "\u001B[32m[I 2023-04-29 18:27:21,955]\u001B[0m Trial 89 finished with value: 0.20386649026079504 and parameters: {'eta': 0.15097278047201423, 'max_depth': 6, 'min_child_weight': 4.941392516245938, 'subsample': 0.5088054274441259, 'colsample_bynode': 0.11856903481532287}. Best is trial 53 with value: 0.19849697959875512.\u001B[0m\n"
     ]
    },
    {
     "name": "stdout",
     "output_type": "stream",
     "text": [
      "[0]\ttrain-logloss:18.40655+0.12457\ttrain-error:0.49962+0.00338\ttest-logloss:18.40644+0.49841\ttest-error:0.49961+0.01353\n",
      "[99]\ttrain-logloss:4.94920+0.13078\ttrain-error:0.13434+0.00355\ttest-logloss:7.51068+0.21222\ttest-error:0.20387+0.00576\n"
     ]
    },
    {
     "name": "stderr",
     "output_type": "stream",
     "text": [
      "\u001B[32m[I 2023-04-29 18:27:24,758]\u001B[0m Trial 90 finished with value: 0.20386543088389703 and parameters: {'eta': 0.12550234396480456, 'max_depth': 7, 'min_child_weight': 4.317576112457249, 'subsample': 0.5553621765009232, 'colsample_bynode': 0.24759681039529177}. Best is trial 53 with value: 0.19849697959875512.\u001B[0m\n"
     ]
    },
    {
     "name": "stdout",
     "output_type": "stream",
     "text": [
      "[0]\ttrain-logloss:18.40655+0.12457\ttrain-error:0.49962+0.00338\ttest-logloss:18.40644+0.49841\ttest-error:0.49961+0.01353\n",
      "[99]\ttrain-logloss:6.40585+0.14643\ttrain-error:0.17388+0.00397\ttest-logloss:7.57287+0.25337\ttest-error:0.20555+0.00688\n"
     ]
    },
    {
     "name": "stderr",
     "output_type": "stream",
     "text": [
      "\u001B[32m[I 2023-04-29 18:27:26,981]\u001B[0m Trial 91 finished with value: 0.20555360682521223 and parameters: {'eta': 0.14671217866161101, 'max_depth': 7, 'min_child_weight': 8.657377516438464, 'subsample': 0.5225690705236187, 'colsample_bynode': 0.11133703749677203}. Best is trial 53 with value: 0.19849697959875512.\u001B[0m\n"
     ]
    },
    {
     "name": "stdout",
     "output_type": "stream",
     "text": [
      "[0]\ttrain-logloss:18.40655+0.12457\ttrain-error:0.49962+0.00338\ttest-logloss:18.40644+0.49841\ttest-error:0.49961+0.01353\n",
      "[99]\ttrain-logloss:5.13994+0.10254\ttrain-error:0.13952+0.00278\ttest-logloss:7.40333+0.25773\ttest-error:0.20095+0.00700\n"
     ]
    },
    {
     "name": "stderr",
     "output_type": "stream",
     "text": [
      "\u001B[32m[I 2023-04-29 18:27:29,561]\u001B[0m Trial 92 finished with value: 0.2009516735800818 and parameters: {'eta': 0.1709946622216349, 'max_depth': 7, 'min_child_weight': 7.424394220742387, 'subsample': 0.5810160855658225, 'colsample_bynode': 0.14320498906811852}. Best is trial 53 with value: 0.19849697959875512.\u001B[0m\n"
     ]
    },
    {
     "name": "stdout",
     "output_type": "stream",
     "text": [
      "[0]\ttrain-logloss:18.40655+0.12457\ttrain-error:0.49962+0.00338\ttest-logloss:18.40644+0.49841\ttest-error:0.49961+0.01353\n",
      "[99]\ttrain-logloss:5.33067+0.08732\ttrain-error:0.14469+0.00237\ttest-logloss:7.47111+0.19715\ttest-error:0.20279+0.00535\n"
     ]
    },
    {
     "name": "stderr",
     "output_type": "stream",
     "text": [
      "\u001B[32m[I 2023-04-29 18:27:31,781]\u001B[0m Trial 93 finished with value: 0.20279134041781824 and parameters: {'eta': 0.17410613416125525, 'max_depth': 6, 'min_child_weight': 5.974415177594267, 'subsample': 0.6168433370906772, 'colsample_bynode': 0.14658239841247062}. Best is trial 53 with value: 0.19849697959875512.\u001B[0m\n"
     ]
    },
    {
     "name": "stdout",
     "output_type": "stream",
     "text": [
      "[0]\ttrain-logloss:18.40655+0.12457\ttrain-error:0.49962+0.00338\ttest-logloss:18.40644+0.49841\ttest-error:0.49961+0.01353\n",
      "[99]\ttrain-logloss:5.16678+0.12590\ttrain-error:0.14024+0.00342\ttest-logloss:7.47112+0.31366\ttest-error:0.20279+0.00851\n"
     ]
    },
    {
     "name": "stderr",
     "output_type": "stream",
     "text": [
      "\u001B[32m[I 2023-04-29 18:27:34,333]\u001B[0m Trial 94 finished with value: 0.20279157583490667 and parameters: {'eta': 0.1665532932006617, 'max_depth': 7, 'min_child_weight': 7.007237385962327, 'subsample': 0.5867126225034804, 'colsample_bynode': 0.17860606243280372}. Best is trial 53 with value: 0.19849697959875512.\u001B[0m\n"
     ]
    },
    {
     "name": "stdout",
     "output_type": "stream",
     "text": [
      "[0]\ttrain-logloss:18.40655+0.12457\ttrain-error:0.49962+0.00338\ttest-logloss:18.40644+0.49841\ttest-error:0.49961+0.01353\n",
      "[99]\ttrain-logloss:4.67935+0.18990\ttrain-error:0.12701+0.00515\ttest-logloss:7.62944+0.44296\ttest-error:0.20709+0.01202\n"
     ]
    },
    {
     "name": "stderr",
     "output_type": "stream",
     "text": [
      "\u001B[32m[I 2023-04-29 18:27:36,937]\u001B[0m Trial 95 finished with value: 0.20708887936757553 and parameters: {'eta': 0.19452587416347183, 'max_depth': 7, 'min_child_weight': 5.581424422451189, 'subsample': 0.5736086107818812, 'colsample_bynode': 0.19919823978331602}. Best is trial 53 with value: 0.19849697959875512.\u001B[0m\n"
     ]
    },
    {
     "name": "stdout",
     "output_type": "stream",
     "text": [
      "[0]\ttrain-logloss:18.40655+0.12457\ttrain-error:0.49962+0.00338\ttest-logloss:18.40644+0.49841\ttest-error:0.49961+0.01353\n",
      "[99]\ttrain-logloss:4.15942+0.10209\ttrain-error:0.11290+0.00277\ttest-logloss:7.52768+0.17818\ttest-error:0.20433+0.00484\n"
     ]
    },
    {
     "name": "stderr",
     "output_type": "stream",
     "text": [
      "\u001B[32m[I 2023-04-29 18:27:40,018]\u001B[0m Trial 96 finished with value: 0.20432684837727 and parameters: {'eta': 0.18051314012471623, 'max_depth': 8, 'min_child_weight': 4.10809699554095, 'subsample': 0.5031079478535174, 'colsample_bynode': 0.14449302362599628}. Best is trial 53 with value: 0.19849697959875512.\u001B[0m\n"
     ]
    },
    {
     "name": "stdout",
     "output_type": "stream",
     "text": [
      "[0]\ttrain-logloss:18.40655+0.12457\ttrain-error:0.49962+0.00338\ttest-logloss:18.40644+0.49841\ttest-error:0.49961+0.01353\n",
      "[99]\ttrain-logloss:5.83930+0.11838\ttrain-error:0.15850+0.00321\ttest-logloss:7.44853+0.22254\ttest-error:0.20218+0.00604\n"
     ]
    },
    {
     "name": "stderr",
     "output_type": "stream",
     "text": [
      "\u001B[32m[I 2023-04-29 18:27:42,198]\u001B[0m Trial 97 finished with value: 0.2021785497365683 and parameters: {'eta': 0.1361736344745153, 'max_depth': 6, 'min_child_weight': 9.901619266814233, 'subsample': 0.5432376723093998, 'colsample_bynode': 0.22440941048886304}. Best is trial 53 with value: 0.19849697959875512.\u001B[0m\n"
     ]
    },
    {
     "name": "stdout",
     "output_type": "stream",
     "text": [
      "[0]\ttrain-logloss:18.40655+0.12457\ttrain-error:0.49962+0.00338\ttest-logloss:18.40644+0.49841\ttest-error:0.49961+0.01353\n",
      "[99]\ttrain-logloss:5.93537+0.06869\ttrain-error:0.16111+0.00186\ttest-logloss:7.54459+0.32686\ttest-error:0.20479+0.00887\n"
     ]
    },
    {
     "name": "stderr",
     "output_type": "stream",
     "text": [
      "\u001B[32m[I 2023-04-29 18:27:44,098]\u001B[0m Trial 98 finished with value: 0.20478579399121424 and parameters: {'eta': 0.15919505966913267, 'max_depth': 5, 'min_child_weight': 3.3538795534960637, 'subsample': 0.5988143635083664, 'colsample_bynode': 0.16483474667751807}. Best is trial 53 with value: 0.19849697959875512.\u001B[0m\n"
     ]
    },
    {
     "name": "stdout",
     "output_type": "stream",
     "text": [
      "[0]\ttrain-logloss:18.40655+0.12457\ttrain-error:0.49962+0.00338\ttest-logloss:18.40644+0.49841\ttest-error:0.49961+0.01353\n",
      "[99]\ttrain-logloss:4.58751+0.11851\ttrain-error:0.12452+0.00322\ttest-logloss:7.75375+0.27415\ttest-error:0.21046+0.00744\n"
     ]
    },
    {
     "name": "stderr",
     "output_type": "stream",
     "text": [
      "\u001B[32m[I 2023-04-29 18:27:46,449]\u001B[0m Trial 99 finished with value: 0.21046323020495414 and parameters: {'eta': 0.20967297709435098, 'max_depth': 6, 'min_child_weight': 2.5670829552507723, 'subsample': 0.45744993462090083, 'colsample_bynode': 0.19017282518820225}. Best is trial 53 with value: 0.19849697959875512.\u001B[0m\n"
     ]
    },
    {
     "name": "stdout",
     "output_type": "stream",
     "text": [
      "[0]\ttrain-logloss:18.40655+0.12457\ttrain-error:0.49962+0.00338\ttest-logloss:18.40644+0.49841\ttest-error:0.49961+0.01353\n",
      "[99]\ttrain-logloss:7.51775+0.06718\ttrain-error:0.20406+0.00182\ttest-logloss:7.83847+0.14130\ttest-error:0.21276+0.00384\n"
     ]
    },
    {
     "name": "stderr",
     "output_type": "stream",
     "text": [
      "\u001B[32m[I 2023-04-29 18:27:47,902]\u001B[0m Trial 100 finished with value: 0.21276266661644433 and parameters: {'eta': 0.11217038486975357, 'max_depth': 4, 'min_child_weight': 7.7093123282259866, 'subsample': 0.6293050852318123, 'colsample_bynode': 0.13273080852507743}. Best is trial 53 with value: 0.19849697959875512.\u001B[0m\n"
     ]
    },
    {
     "name": "stdout",
     "output_type": "stream",
     "text": [
      "[0]\ttrain-logloss:18.40655+0.12457\ttrain-error:0.49962+0.00338\ttest-logloss:18.40644+0.49841\ttest-error:0.49961+0.01353\n",
      "[99]\ttrain-logloss:6.46236+0.06947\ttrain-error:0.17541+0.00189\ttest-logloss:7.53329+0.21464\ttest-error:0.20448+0.00583\n"
     ]
    },
    {
     "name": "stderr",
     "output_type": "stream",
     "text": [
      "\u001B[32m[I 2023-04-29 18:27:50,170]\u001B[0m Trial 101 finished with value: 0.2044790455249566 and parameters: {'eta': 0.1380358438752295, 'max_depth': 7, 'min_child_weight': 8.633510705287355, 'subsample': 0.5751843683897274, 'colsample_bynode': 0.10068035075639756}. Best is trial 53 with value: 0.19849697959875512.\u001B[0m\n"
     ]
    },
    {
     "name": "stdout",
     "output_type": "stream",
     "text": [
      "[0]\ttrain-logloss:18.40655+0.12457\ttrain-error:0.49962+0.00338\ttest-logloss:18.40644+0.49841\ttest-error:0.49961+0.01353\n",
      "[99]\ttrain-logloss:6.18544+0.10498\ttrain-error:0.16789+0.00285\ttest-logloss:7.55591+0.29435\ttest-error:0.20509+0.00799\n"
     ]
    },
    {
     "name": "stderr",
     "output_type": "stream",
     "text": [
      "\u001B[32m[I 2023-04-29 18:27:52,548]\u001B[0m Trial 102 finished with value: 0.20509324870873727 and parameters: {'eta': 0.14340926549898383, 'max_depth': 7, 'min_child_weight': 5.386374738702205, 'subsample': 0.5352225963131284, 'colsample_bynode': 0.1181482467111484}. Best is trial 53 with value: 0.19849697959875512.\u001B[0m\n"
     ]
    },
    {
     "name": "stdout",
     "output_type": "stream",
     "text": [
      "[0]\ttrain-logloss:18.40655+0.12457\ttrain-error:0.49962+0.00338\ttest-logloss:18.40644+0.49841\ttest-error:0.49961+0.01353\n",
      "[99]\ttrain-logloss:5.38577+0.12492\ttrain-error:0.14619+0.00339\ttest-logloss:7.43724+0.19752\ttest-error:0.20187+0.00536\n"
     ]
    },
    {
     "name": "stderr",
     "output_type": "stream",
     "text": [
      "\u001B[32m[I 2023-04-29 18:27:55,128]\u001B[0m Trial 103 finished with value: 0.20187191897885484 and parameters: {'eta': 0.15511915315055752, 'max_depth': 7, 'min_child_weight': 6.999184438404151, 'subsample': 0.49017349403533206, 'colsample_bynode': 0.15777328258029827}. Best is trial 53 with value: 0.19849697959875512.\u001B[0m\n"
     ]
    },
    {
     "name": "stdout",
     "output_type": "stream",
     "text": [
      "[0]\ttrain-logloss:18.40655+0.12457\ttrain-error:0.49962+0.00338\ttest-logloss:18.40644+0.49841\ttest-error:0.49961+0.01353\n",
      "[99]\ttrain-logloss:4.82911+0.21789\ttrain-error:0.13108+0.00591\ttest-logloss:7.39771+0.30217\ttest-error:0.20080+0.00820\n"
     ]
    },
    {
     "name": "stderr",
     "output_type": "stream",
     "text": [
      "\u001B[32m[I 2023-04-29 18:27:57,796]\u001B[0m Trial 104 finished with value: 0.20079912330676258 and parameters: {'eta': 0.17268325805374227, 'max_depth': 7, 'min_child_weight': 4.67976475363486, 'subsample': 0.5220979296313981, 'colsample_bynode': 0.18274982621307792}. Best is trial 53 with value: 0.19849697959875512.\u001B[0m\n"
     ]
    },
    {
     "name": "stdout",
     "output_type": "stream",
     "text": [
      "[0]\ttrain-logloss:18.40655+0.12457\ttrain-error:0.49962+0.00338\ttest-logloss:18.40644+0.49841\ttest-error:0.49961+0.01353\n",
      "[99]\ttrain-logloss:5.33773+0.15433\ttrain-error:0.14488+0.00419\ttest-logloss:7.56154+0.27583\ttest-error:0.20525+0.00749\n"
     ]
    },
    {
     "name": "stderr",
     "output_type": "stream",
     "text": [
      "\u001B[32m[I 2023-04-29 18:28:00,040]\u001B[0m Trial 105 finished with value: 0.20524603439914496 and parameters: {'eta': 0.1713546851274676, 'max_depth': 6, 'min_child_weight': 4.825322848203301, 'subsample': 0.4297242615721716, 'colsample_bynode': 0.2142931065788286}. Best is trial 53 with value: 0.19849697959875512.\u001B[0m\n"
     ]
    },
    {
     "name": "stdout",
     "output_type": "stream",
     "text": [
      "[0]\ttrain-logloss:18.40655+0.12457\ttrain-error:0.49962+0.00338\ttest-logloss:18.40644+0.49841\ttest-error:0.49961+0.01353\n",
      "[99]\ttrain-logloss:3.83589+0.24167\ttrain-error:0.10412+0.00656\ttest-logloss:7.66327+0.26441\ttest-error:0.20801+0.00718\n"
     ]
    },
    {
     "name": "stderr",
     "output_type": "stream",
     "text": [
      "\u001B[32m[I 2023-04-29 18:28:02,823]\u001B[0m Trial 106 finished with value: 0.20800712372109667 and parameters: {'eta': 0.19347228944443973, 'max_depth': 7, 'min_child_weight': 3.3036047925648386, 'subsample': 0.5104809811951507, 'colsample_bynode': 0.24137326377429855}. Best is trial 53 with value: 0.19849697959875512.\u001B[0m\n"
     ]
    },
    {
     "name": "stdout",
     "output_type": "stream",
     "text": [
      "[0]\ttrain-logloss:18.40655+0.12457\ttrain-error:0.49962+0.00338\ttest-logloss:18.40644+0.49841\ttest-error:0.49961+0.01353\n",
      "[99]\ttrain-logloss:3.80197+0.16317\ttrain-error:0.10320+0.00443\ttest-logloss:7.73115+0.45673\ttest-error:0.20985+0.01240\n"
     ]
    },
    {
     "name": "stderr",
     "output_type": "stream",
     "text": [
      "\u001B[32m[I 2023-04-29 18:28:05,992]\u001B[0m Trial 107 finished with value: 0.20984961556389456 and parameters: {'eta': 0.1855330782636218, 'max_depth': 8, 'min_child_weight': 4.264992692055592, 'subsample': 0.5974529323791752, 'colsample_bynode': 0.17763740405601602}. Best is trial 53 with value: 0.19849697959875512.\u001B[0m\n"
     ]
    },
    {
     "name": "stdout",
     "output_type": "stream",
     "text": [
      "[0]\ttrain-logloss:18.40655+0.12457\ttrain-error:0.49962+0.00338\ttest-logloss:18.40644+0.49841\ttest-error:0.49961+0.01353\n",
      "[99]\ttrain-logloss:5.13853+0.15088\ttrain-error:0.13948+0.00410\ttest-logloss:7.39196+0.37078\ttest-error:0.20064+0.01006\n"
     ]
    },
    {
     "name": "stderr",
     "output_type": "stream",
     "text": [
      "\u001B[32m[I 2023-04-29 18:28:08,457]\u001B[0m Trial 108 finished with value: 0.2006430417771165 and parameters: {'eta': 0.12439814887604969, 'max_depth': 6, 'min_child_weight': 2.1740987905148113, 'subsample': 0.47888270250272474, 'colsample_bynode': 0.2005635532307501}. Best is trial 53 with value: 0.19849697959875512.\u001B[0m\n"
     ]
    },
    {
     "name": "stdout",
     "output_type": "stream",
     "text": [
      "[0]\ttrain-logloss:18.40655+0.12457\ttrain-error:0.49962+0.00338\ttest-logloss:18.40644+0.49841\ttest-error:0.49961+0.01353\n",
      "[99]\ttrain-logloss:3.80198+0.16885\ttrain-error:0.10320+0.00458\ttest-logloss:7.69154+0.35087\ttest-error:0.20877+0.00952\n"
     ]
    },
    {
     "name": "stderr",
     "output_type": "stream",
     "text": [
      "\u001B[32m[I 2023-04-29 18:28:10,893]\u001B[0m Trial 109 finished with value: 0.20877446572091776 and parameters: {'eta': 0.16156331534924423, 'max_depth': 6, 'min_child_weight': 1.8239330170848986, 'subsample': 0.4675189751742427, 'colsample_bynode': 0.199992568570173}. Best is trial 53 with value: 0.19849697959875512.\u001B[0m\n"
     ]
    },
    {
     "name": "stdout",
     "output_type": "stream",
     "text": [
      "[0]\ttrain-logloss:18.40655+0.12457\ttrain-error:0.49962+0.00338\ttest-logloss:18.40644+0.49841\ttest-error:0.49961+0.01353\n",
      "[99]\ttrain-logloss:5.18091+0.13328\ttrain-error:0.14063+0.00362\ttest-logloss:7.51067+0.23883\ttest-error:0.20387+0.00648\n"
     ]
    },
    {
     "name": "stderr",
     "output_type": "stream",
     "text": [
      "\u001B[32m[I 2023-04-29 18:28:13,452]\u001B[0m Trial 110 finished with value: 0.20386519546680854 and parameters: {'eta': 0.12658689582355645, 'max_depth': 6, 'min_child_weight': 2.084139672159418, 'subsample': 0.44858987559729363, 'colsample_bynode': 0.25235358373120187}. Best is trial 53 with value: 0.19849697959875512.\u001B[0m\n"
     ]
    },
    {
     "name": "stdout",
     "output_type": "stream",
     "text": [
      "[0]\ttrain-logloss:18.40655+0.12457\ttrain-error:0.49962+0.00338\ttest-logloss:18.40644+0.49841\ttest-error:0.49961+0.01353\n",
      "[99]\ttrain-logloss:6.14588+0.05111\ttrain-error:0.16682+0.00139\ttest-logloss:7.55024+0.13975\ttest-error:0.20494+0.00379\n"
     ]
    },
    {
     "name": "stderr",
     "output_type": "stream",
     "text": [
      "\u001B[32m[I 2023-04-29 18:28:15,642]\u001B[0m Trial 111 finished with value: 0.2049392859328873 and parameters: {'eta': 0.11944085810297632, 'max_depth': 6, 'min_child_weight': 6.0027847971098485, 'subsample': 0.4836725633002025, 'colsample_bynode': 0.14554468928717895}. Best is trial 53 with value: 0.19849697959875512.\u001B[0m\n"
     ]
    },
    {
     "name": "stdout",
     "output_type": "stream",
     "text": [
      "[0]\ttrain-logloss:18.40655+0.12457\ttrain-error:0.49962+0.00338\ttest-logloss:18.40644+0.49841\ttest-error:0.49961+0.01353\n",
      "[99]\ttrain-logloss:5.82092+0.02896\ttrain-error:0.15800+0.00079\ttest-logloss:7.52767+0.26563\ttest-error:0.20433+0.00721\n"
     ]
    },
    {
     "name": "stderr",
     "output_type": "stream",
     "text": [
      "\u001B[32m[I 2023-04-29 18:28:17,538]\u001B[0m Trial 112 finished with value: 0.20432661296018156 and parameters: {'eta': 0.17779724633788088, 'max_depth': 5, 'min_child_weight': 3.7044713596615164, 'subsample': 0.5164527595496753, 'colsample_bynode': 0.183875677563988}. Best is trial 53 with value: 0.19849697959875512.\u001B[0m\n"
     ]
    },
    {
     "name": "stdout",
     "output_type": "stream",
     "text": [
      "[0]\ttrain-logloss:18.40655+0.12457\ttrain-error:0.49962+0.00338\ttest-logloss:18.40644+0.49841\ttest-error:0.49961+0.01353\n",
      "[99]\ttrain-logloss:3.80903+0.13154\ttrain-error:0.10339+0.00357\ttest-logloss:7.74812+0.26694\ttest-error:0.21031+0.00725\n"
     ]
    },
    {
     "name": "stderr",
     "output_type": "stream",
     "text": [
      "\u001B[32m[I 2023-04-29 18:28:19,961]\u001B[0m Trial 113 finished with value: 0.2103103268060022 and parameters: {'eta': 0.20440511605620462, 'max_depth': 6, 'min_child_weight': 2.890273174568065, 'subsample': 0.5493771737548832, 'colsample_bynode': 0.21504677072290598}. Best is trial 53 with value: 0.19849697959875512.\u001B[0m\n"
     ]
    },
    {
     "name": "stdout",
     "output_type": "stream",
     "text": [
      "[0]\ttrain-logloss:18.40655+0.12457\ttrain-error:0.49962+0.00338\ttest-logloss:18.40644+0.49841\ttest-error:0.49961+0.01353\n",
      "[99]\ttrain-logloss:4.79803+0.13592\ttrain-error:0.13023+0.00369\ttest-logloss:7.41462+0.18888\ttest-error:0.20126+0.00513\n"
     ]
    },
    {
     "name": "stderr",
     "output_type": "stream",
     "text": [
      "\u001B[32m[I 2023-04-29 18:28:23,014]\u001B[0m Trial 114 finished with value: 0.20125795121216256 and parameters: {'eta': 0.09919263268675521, 'max_depth': 7, 'min_child_weight': 2.254058595154538, 'subsample': 0.6483424288904412, 'colsample_bynode': 0.15598485576166313}. Best is trial 53 with value: 0.19849697959875512.\u001B[0m\n"
     ]
    },
    {
     "name": "stdout",
     "output_type": "stream",
     "text": [
      "[0]\ttrain-logloss:18.40655+0.12457\ttrain-error:0.49962+0.00338\ttest-logloss:18.40644+0.49841\ttest-error:0.49961+0.01353\n",
      "[99]\ttrain-logloss:5.47478+0.17585\ttrain-error:0.14860+0.00477\ttest-logloss:7.53332+0.22228\ttest-error:0.20448+0.00603\n"
     ]
    },
    {
     "name": "stderr",
     "output_type": "stream",
     "text": [
      "\u001B[32m[I 2023-04-29 18:28:25,495]\u001B[0m Trial 115 finished with value: 0.20447986948476618 and parameters: {'eta': 0.09600967674170144, 'max_depth': 6, 'min_child_weight': 2.4989803554137997, 'subsample': 0.6492791774262433, 'colsample_bynode': 0.16264080240818968}. Best is trial 53 with value: 0.19849697959875512.\u001B[0m\n"
     ]
    },
    {
     "name": "stdout",
     "output_type": "stream",
     "text": [
      "[0]\ttrain-logloss:18.40655+0.12457\ttrain-error:0.49962+0.00338\ttest-logloss:18.40644+0.49841\ttest-error:0.49961+0.01353\n",
      "[99]\ttrain-logloss:5.42392+0.11217\ttrain-error:0.14722+0.00304\ttest-logloss:7.54460+0.25522\ttest-error:0.20479+0.00693\n"
     ]
    },
    {
     "name": "stderr",
     "output_type": "stream",
     "text": [
      "\u001B[32m[I 2023-04-29 18:28:28,600]\u001B[0m Trial 116 finished with value: 0.20478602940830268 and parameters: {'eta': 0.07710017725625955, 'max_depth': 7, 'min_child_weight': 2.2882463130750605, 'subsample': 0.4957973557167238, 'colsample_bynode': 0.23470637403032518}. Best is trial 53 with value: 0.19849697959875512.\u001B[0m\n"
     ]
    },
    {
     "name": "stdout",
     "output_type": "stream",
     "text": [
      "[0]\ttrain-logloss:18.40655+0.12457\ttrain-error:0.49962+0.00338\ttest-logloss:18.40644+0.49841\ttest-error:0.49961+0.01353\n",
      "[99]\ttrain-logloss:5.92830+0.17265\ttrain-error:0.16091+0.00469\ttest-logloss:7.53330+0.28089\ttest-error:0.20448+0.00762\n"
     ]
    },
    {
     "name": "stderr",
     "output_type": "stream",
     "text": [
      "\u001B[32m[I 2023-04-29 18:28:30,938]\u001B[0m Trial 117 finished with value: 0.20447951635913347 and parameters: {'eta': 0.11173573244075226, 'max_depth': 6, 'min_child_weight': 3.071794848174224, 'subsample': 0.5699578630933735, 'colsample_bynode': 0.19477176563127807}. Best is trial 53 with value: 0.19849697959875512.\u001B[0m\n"
     ]
    },
    {
     "name": "stdout",
     "output_type": "stream",
     "text": [
      "[0]\ttrain-logloss:18.40655+0.12457\ttrain-error:0.49962+0.00338\ttest-logloss:18.40644+0.49841\ttest-error:0.49961+0.01353\n",
      "[99]\ttrain-logloss:4.76553+0.13658\ttrain-error:0.12935+0.00371\ttest-logloss:7.64066+0.44568\ttest-error:0.20739+0.01210\n"
     ]
    },
    {
     "name": "stderr",
     "output_type": "stream",
     "text": [
      "\u001B[32m[I 2023-04-29 18:28:32,893]\u001B[0m Trial 118 finished with value: 0.20739350908003712 and parameters: {'eta': 0.155588141512773, 'max_depth': 5, 'min_child_weight': 1.282071139680541, 'subsample': 0.4023357344363252, 'colsample_bynode': 0.17413908183993415}. Best is trial 53 with value: 0.19849697959875512.\u001B[0m\n"
     ]
    },
    {
     "name": "stdout",
     "output_type": "stream",
     "text": [
      "[0]\ttrain-logloss:18.40655+0.12457\ttrain-error:0.49962+0.00338\ttest-logloss:18.40644+0.49841\ttest-error:0.49961+0.01353\n",
      "[99]\ttrain-logloss:5.31937+0.10045\ttrain-error:0.14439+0.00273\ttest-logloss:7.81586+0.38923\ttest-error:0.21215+0.01056\n"
     ]
    },
    {
     "name": "stderr",
     "output_type": "stream",
     "text": [
      "\u001B[32m[I 2023-04-29 18:28:34,133]\u001B[0m Trial 119 finished with value: 0.21214905197538475 and parameters: {'eta': 0.1878196702659287, 'max_depth': 3, 'min_child_weight': 1.5588700585733415, 'subsample': 0.6370144661935802, 'colsample_bynode': 0.13775377033205088}. Best is trial 53 with value: 0.19849697959875512.\u001B[0m\n"
     ]
    },
    {
     "name": "stdout",
     "output_type": "stream",
     "text": [
      "[0]\ttrain-logloss:18.40655+0.12457\ttrain-error:0.49962+0.00338\ttest-logloss:18.40644+0.49841\ttest-error:0.49961+0.01353\n",
      "[99]\ttrain-logloss:5.65986+0.15238\ttrain-error:0.15363+0.00414\ttest-logloss:7.37505+0.24027\ttest-error:0.20018+0.00652\n"
     ]
    },
    {
     "name": "stderr",
     "output_type": "stream",
     "text": [
      "\u001B[32m[I 2023-04-29 18:28:36,957]\u001B[0m Trial 120 finished with value: 0.20018397845462807 and parameters: {'eta': 0.10360444272664217, 'max_depth': 7, 'min_child_weight': 4.7385591922554475, 'subsample': 0.42035048534000796, 'colsample_bynode': 0.22015998625001432}. Best is trial 53 with value: 0.19849697959875512.\u001B[0m\n"
     ]
    },
    {
     "name": "stdout",
     "output_type": "stream",
     "text": [
      "[0]\ttrain-logloss:18.40655+0.12457\ttrain-error:0.49962+0.00338\ttest-logloss:18.40644+0.49841\ttest-error:0.49961+0.01353\n",
      "[99]\ttrain-logloss:5.45924+0.08918\ttrain-error:0.14818+0.00242\ttest-logloss:7.45420+0.31749\ttest-error:0.20233+0.00862\n"
     ]
    },
    {
     "name": "stderr",
     "output_type": "stream",
     "text": [
      "\u001B[32m[I 2023-04-29 18:28:39,730]\u001B[0m Trial 121 finished with value: 0.20233239480387405 and parameters: {'eta': 0.10494601947181127, 'max_depth': 7, 'min_child_weight': 4.5074063410242164, 'subsample': 0.3827042832328701, 'colsample_bynode': 0.2876425081205013}. Best is trial 53 with value: 0.19849697959875512.\u001B[0m\n"
     ]
    },
    {
     "name": "stdout",
     "output_type": "stream",
     "text": [
      "[0]\ttrain-logloss:18.40655+0.12457\ttrain-error:0.49962+0.00338\ttest-logloss:18.40644+0.49841\ttest-error:0.49961+0.01353\n",
      "[99]\ttrain-logloss:5.25014+0.05654\ttrain-error:0.14251+0.00153\ttest-logloss:7.46549+0.29469\ttest-error:0.20264+0.00800\n"
     ]
    },
    {
     "name": "stderr",
     "output_type": "stream",
     "text": [
      "\u001B[32m[I 2023-04-29 18:28:42,441]\u001B[0m Trial 122 finished with value: 0.20263879014449898 and parameters: {'eta': 0.1233581482668526, 'max_depth': 7, 'min_child_weight': 5.1100998479526885, 'subsample': 0.4687026404588169, 'colsample_bynode': 0.26550881026210205}. Best is trial 53 with value: 0.19849697959875512.\u001B[0m\n"
     ]
    },
    {
     "name": "stdout",
     "output_type": "stream",
     "text": [
      "[0]\ttrain-logloss:18.40655+0.12457\ttrain-error:0.49962+0.00338\ttest-logloss:18.40644+0.49841\ttest-error:0.49961+0.01353\n",
      "[99]\ttrain-logloss:4.41374+0.15897\ttrain-error:0.11980+0.00431\ttest-logloss:7.53332+0.21588\ttest-error:0.20448+0.00586\n"
     ]
    },
    {
     "name": "stderr",
     "output_type": "stream",
     "text": [
      "\u001B[32m[I 2023-04-29 18:28:45,227]\u001B[0m Trial 123 finished with value: 0.20447998719331037 and parameters: {'eta': 0.16921320762423497, 'max_depth': 7, 'min_child_weight': 3.8794642944804347, 'subsample': 0.43695029413717545, 'colsample_bynode': 0.2223594751577019}. Best is trial 53 with value: 0.19849697959875512.\u001B[0m\n"
     ]
    },
    {
     "name": "stdout",
     "output_type": "stream",
     "text": [
      "[0]\ttrain-logloss:18.40655+0.12457\ttrain-error:0.49962+0.00338\ttest-logloss:18.40644+0.49841\ttest-error:0.49961+0.01353\n",
      "[99]\ttrain-logloss:6.22076+0.11633\ttrain-error:0.16885+0.00316\ttest-logloss:7.42590+0.23330\ttest-error:0.20156+0.00633\n"
     ]
    },
    {
     "name": "stderr",
     "output_type": "stream",
     "text": [
      "\u001B[32m[I 2023-04-29 18:28:47,571]\u001B[0m Trial 124 finished with value: 0.2015641111356991 and parameters: {'eta': 0.09168672746667068, 'max_depth': 6, 'min_child_weight': 3.2880086527014405, 'subsample': 0.527280194251686, 'colsample_bynode': 0.1600951164701014}. Best is trial 53 with value: 0.19849697959875512.\u001B[0m\n"
     ]
    },
    {
     "name": "stdout",
     "output_type": "stream",
     "text": [
      "[0]\ttrain-logloss:18.40655+0.12457\ttrain-error:0.49962+0.00338\ttest-logloss:18.40644+0.49841\ttest-error:0.49961+0.01353\n",
      "[99]\ttrain-logloss:1.78301+0.05938\ttrain-error:0.04840+0.00161\ttest-logloss:8.03066+0.43205\ttest-error:0.21798+0.01173\n"
     ]
    },
    {
     "name": "stderr",
     "output_type": "stream",
     "text": [
      "\u001B[32m[I 2023-04-29 18:28:52,462]\u001B[0m Trial 125 finished with value: 0.2179793915880766 and parameters: {'eta': 0.14344568699940619, 'max_depth': 10, 'min_child_weight': 1.9813043160219546, 'subsample': 0.421668221740503, 'colsample_bynode': 0.20346472953501155}. Best is trial 53 with value: 0.19849697959875512.\u001B[0m\n"
     ]
    },
    {
     "name": "stdout",
     "output_type": "stream",
     "text": [
      "[0]\ttrain-logloss:18.40655+0.12457\ttrain-error:0.49962+0.00338\ttest-logloss:18.40644+0.49841\ttest-error:0.49961+0.01353\n",
      "[99]\ttrain-logloss:5.24590+0.02706\ttrain-error:0.14239+0.00073\ttest-logloss:7.46551+0.32413\ttest-error:0.20264+0.00880\n"
     ]
    },
    {
     "name": "stderr",
     "output_type": "stream",
     "text": [
      "\u001B[32m[I 2023-04-29 18:28:56,016]\u001B[0m Trial 126 finished with value: 0.20263937868722012 and parameters: {'eta': 0.08319297948435173, 'max_depth': 8, 'min_child_weight': 2.711531080832147, 'subsample': 0.4569458784456017, 'colsample_bynode': 0.18610985178591316}. Best is trial 53 with value: 0.19849697959875512.\u001B[0m\n"
     ]
    },
    {
     "name": "stdout",
     "output_type": "stream",
     "text": [
      "[0]\ttrain-logloss:18.40655+0.12457\ttrain-error:0.49962+0.00338\ttest-logloss:18.40644+0.49841\ttest-error:0.49961+0.01353\n",
      "[99]\ttrain-logloss:6.13034+0.11670\ttrain-error:0.16640+0.00317\ttest-logloss:7.45417+0.20796\ttest-error:0.20233+0.00564\n"
     ]
    },
    {
     "name": "stderr",
     "output_type": "stream",
     "text": [
      "\u001B[32m[I 2023-04-29 18:28:58,605]\u001B[0m Trial 127 finished with value: 0.20233168855260866 and parameters: {'eta': 0.1311546201958393, 'max_depth': 7, 'min_child_weight': 3.7888074154942326, 'subsample': 0.48171308027837034, 'colsample_bynode': 0.12254353172168024}. Best is trial 53 with value: 0.19849697959875512.\u001B[0m\n"
     ]
    },
    {
     "name": "stdout",
     "output_type": "stream",
     "text": [
      "[0]\ttrain-logloss:18.40655+0.12457\ttrain-error:0.49962+0.00338\ttest-logloss:18.40644+0.49841\ttest-error:0.49961+0.01353\n",
      "[99]\ttrain-logloss:2.48802+0.16327\ttrain-error:0.06753+0.00443\ttest-logloss:7.86680+0.34631\ttest-error:0.21353+0.00940\n"
     ]
    },
    {
     "name": "stderr",
     "output_type": "stream",
     "text": [
      "\u001B[32m[I 2023-04-29 18:29:01,888]\u001B[0m Trial 128 finished with value: 0.21353177424442887 and parameters: {'eta': 0.21874757363101874, 'max_depth': 7, 'min_child_weight': 2.24907858975356, 'subsample': 0.5486149892903266, 'colsample_bynode': 0.30453251398329834}. Best is trial 53 with value: 0.19849697959875512.\u001B[0m\n"
     ]
    },
    {
     "name": "stdout",
     "output_type": "stream",
     "text": [
      "[0]\ttrain-logloss:18.40655+0.12457\ttrain-error:0.49962+0.00338\ttest-logloss:18.40644+0.49841\ttest-error:0.49961+0.01353\n",
      "[99]\ttrain-logloss:5.93254+0.12979\ttrain-error:0.16103+0.00352\ttest-logloss:7.48808+0.25258\ttest-error:0.20325+0.00686\n"
     ]
    },
    {
     "name": "stderr",
     "output_type": "stream",
     "text": [
      "\u001B[32m[I 2023-04-29 18:29:04,282]\u001B[0m Trial 129 finished with value: 0.20325193395138164 and parameters: {'eta': 0.10822811876841125, 'max_depth': 6, 'min_child_weight': 4.748558714250923, 'subsample': 0.6708774539500008, 'colsample_bynode': 0.1438621743970295}. Best is trial 53 with value: 0.19849697959875512.\u001B[0m\n"
     ]
    },
    {
     "name": "stdout",
     "output_type": "stream",
     "text": [
      "[0]\ttrain-logloss:18.40655+0.12457\ttrain-error:0.49962+0.00338\ttest-logloss:18.40644+0.49841\ttest-error:0.49961+0.01353\n",
      "[99]\ttrain-logloss:5.35611+0.22277\ttrain-error:0.14538+0.00605\ttest-logloss:7.44290+0.27899\ttest-error:0.20203+0.00757\n"
     ]
    },
    {
     "name": "stderr",
     "output_type": "stream",
     "text": [
      "\u001B[32m[I 2023-04-29 18:29:06,593]\u001B[0m Trial 130 finished with value: 0.20202552862907214 and parameters: {'eta': 0.15114659853409748, 'max_depth': 6, 'min_child_weight': 5.723427685254181, 'subsample': 0.5885235373401684, 'colsample_bynode': 0.2350627975211803}. Best is trial 53 with value: 0.19849697959875512.\u001B[0m\n"
     ]
    },
    {
     "name": "stdout",
     "output_type": "stream",
     "text": [
      "[0]\ttrain-logloss:18.40655+0.12457\ttrain-error:0.49962+0.00338\ttest-logloss:18.40644+0.49841\ttest-error:0.49961+0.01353\n",
      "[99]\ttrain-logloss:6.39313+0.12761\ttrain-error:0.17353+0.00346\ttest-logloss:7.55591+0.19192\ttest-error:0.20509+0.00521\n"
     ]
    },
    {
     "name": "stderr",
     "output_type": "stream",
     "text": [
      "\u001B[32m[I 2023-04-29 18:29:08,954]\u001B[0m Trial 131 finished with value: 0.20509324870873727 and parameters: {'eta': 0.12102131790745083, 'max_depth': 7, 'min_child_weight': 7.130411536894407, 'subsample': 0.6227082898393881, 'colsample_bynode': 0.11704183235235915}. Best is trial 53 with value: 0.19849697959875512.\u001B[0m\n"
     ]
    },
    {
     "name": "stdout",
     "output_type": "stream",
     "text": [
      "[0]\ttrain-logloss:18.40655+0.12457\ttrain-error:0.49962+0.00338\ttest-logloss:18.40644+0.49841\ttest-error:0.49961+0.01353\n",
      "[99]\ttrain-logloss:5.44652+0.10947\ttrain-error:0.14784+0.00297\ttest-logloss:7.51633+0.33267\ttest-error:0.20402+0.00903\n"
     ]
    },
    {
     "name": "stderr",
     "output_type": "stream",
     "text": [
      "\u001B[32m[I 2023-04-29 18:29:11,542]\u001B[0m Trial 132 finished with value: 0.20401880511702583 and parameters: {'eta': 0.13549755117896814, 'max_depth': 7, 'min_child_weight': 6.244700184256736, 'subsample': 0.6148088458267821, 'colsample_bynode': 0.16860887812981568}. Best is trial 53 with value: 0.19849697959875512.\u001B[0m\n"
     ]
    },
    {
     "name": "stdout",
     "output_type": "stream",
     "text": [
      "[0]\ttrain-logloss:18.40655+0.12457\ttrain-error:0.49962+0.00338\ttest-logloss:18.40644+0.49841\ttest-error:0.49961+0.01353\n",
      "[99]\ttrain-logloss:4.91529+0.15366\ttrain-error:0.13342+0.00417\ttest-logloss:7.47680+0.25126\ttest-error:0.20295+0.00682\n"
     ]
    },
    {
     "name": "stderr",
     "output_type": "stream",
     "text": [
      "\u001B[32m[I 2023-04-29 18:29:14,194]\u001B[0m Trial 133 finished with value: 0.20294589173638938 and parameters: {'eta': 0.16093288340524614, 'max_depth': 7, 'min_child_weight': 4.466861694946465, 'subsample': 0.5595215711346387, 'colsample_bynode': 0.13380043707779657}. Best is trial 53 with value: 0.19849697959875512.\u001B[0m\n"
     ]
    },
    {
     "name": "stdout",
     "output_type": "stream",
     "text": [
      "[0]\ttrain-logloss:18.40655+0.12457\ttrain-error:0.49962+0.00338\ttest-logloss:18.40644+0.49841\ttest-error:0.49961+0.01353\n",
      "[99]\ttrain-logloss:5.77148+0.12873\ttrain-error:0.15666+0.00349\ttest-logloss:7.47676+0.21730\ttest-error:0.20294+0.00590\n"
     ]
    },
    {
     "name": "stderr",
     "output_type": "stream",
     "text": [
      "\u001B[32m[I 2023-04-29 18:29:16,872]\u001B[0m Trial 134 finished with value: 0.2029448323594913 and parameters: {'eta': 0.09847456067022335, 'max_depth': 7, 'min_child_weight': 5.216353846742258, 'subsample': 0.6042099940102147, 'colsample_bynode': 0.1542268500432736}. Best is trial 53 with value: 0.19849697959875512.\u001B[0m\n"
     ]
    },
    {
     "name": "stdout",
     "output_type": "stream",
     "text": [
      "[0]\ttrain-logloss:18.40655+0.12457\ttrain-error:0.49962+0.00338\ttest-logloss:18.40644+0.49841\ttest-error:0.49961+0.01353\n",
      "[99]\ttrain-logloss:5.36740+0.13736\ttrain-error:0.14569+0.00373\ttest-logloss:7.54460+0.33592\ttest-error:0.20479+0.00912\n"
     ]
    },
    {
     "name": "stderr",
     "output_type": "stream",
     "text": [
      "\u001B[32m[I 2023-04-29 18:29:19,020]\u001B[0m Trial 135 finished with value: 0.20478626482539114 and parameters: {'eta': 0.176241428797645, 'max_depth': 6, 'min_child_weight': 7.7379371316111305, 'subsample': 0.5088704834949671, 'colsample_bynode': 0.20802196344648538}. Best is trial 53 with value: 0.19849697959875512.\u001B[0m\n"
     ]
    },
    {
     "name": "stdout",
     "output_type": "stream",
     "text": [
      "[0]\ttrain-logloss:18.40655+0.12457\ttrain-error:0.49962+0.00338\ttest-logloss:18.40644+0.49841\ttest-error:0.49961+0.01353\n",
      "[99]\ttrain-logloss:5.39002+0.15488\ttrain-error:0.14630+0.00420\ttest-logloss:7.54459+0.33941\ttest-error:0.20479+0.00921\n"
     ]
    },
    {
     "name": "stderr",
     "output_type": "stream",
     "text": [
      "\u001B[32m[I 2023-04-29 18:29:21,577]\u001B[0m Trial 136 finished with value: 0.2047859116997585 and parameters: {'eta': 0.14166407992687807, 'max_depth': 7, 'min_child_weight': 6.282654184348089, 'subsample': 0.5810561666208157, 'colsample_bynode': 0.18666569891838683}. Best is trial 53 with value: 0.19849697959875512.\u001B[0m\n"
     ]
    },
    {
     "name": "stdout",
     "output_type": "stream",
     "text": [
      "[0]\ttrain-logloss:18.40655+0.12457\ttrain-error:0.49962+0.00338\ttest-logloss:18.40644+0.49841\ttest-error:0.49961+0.01353\n",
      "[99]\ttrain-logloss:6.28576+0.20796\ttrain-error:0.17062+0.00564\ttest-logloss:7.63500+0.34313\ttest-error:0.20724+0.00931\n"
     ]
    },
    {
     "name": "stderr",
     "output_type": "stream",
     "text": [
      "\u001B[32m[I 2023-04-29 18:29:23,338]\u001B[0m Trial 137 finished with value: 0.207240017138364 and parameters: {'eta': 0.19789174988531746, 'max_depth': 5, 'min_child_weight': 3.6162546591163616, 'subsample': 0.5373223559960089, 'colsample_bynode': 0.11892282942054133}. Best is trial 53 with value: 0.19849697959875512.\u001B[0m\n"
     ]
    },
    {
     "name": "stdout",
     "output_type": "stream",
     "text": [
      "[0]\ttrain-logloss:18.40655+0.12457\ttrain-error:0.49962+0.00338\ttest-logloss:18.40644+0.49841\ttest-error:0.49961+0.01353\n",
      "[99]\ttrain-logloss:5.54401+0.12703\ttrain-error:0.15048+0.00345\ttest-logloss:7.48810+0.24736\ttest-error:0.20325+0.00671\n"
     ]
    },
    {
     "name": "stderr",
     "output_type": "stream",
     "text": [
      "\u001B[32m[I 2023-04-29 18:29:25,634]\u001B[0m Trial 138 finished with value: 0.20325240478555856 and parameters: {'eta': 0.116661283734728, 'max_depth': 6, 'min_child_weight': 3.081558798612626, 'subsample': 0.6612174095554416, 'colsample_bynode': 0.1701304079445275}. Best is trial 53 with value: 0.19849697959875512.\u001B[0m\n"
     ]
    },
    {
     "name": "stdout",
     "output_type": "stream",
     "text": [
      "[0]\ttrain-logloss:18.40655+0.12457\ttrain-error:0.49962+0.00338\ttest-logloss:18.40644+0.49841\ttest-error:0.49961+0.01353\n",
      "[99]\ttrain-logloss:3.40073+0.20353\ttrain-error:0.09231+0.00552\ttest-logloss:7.61246+0.39951\ttest-error:0.20663+0.01084\n"
     ]
    },
    {
     "name": "stderr",
     "output_type": "stream",
     "text": [
      "\u001B[32m[I 2023-04-29 18:29:28,406]\u001B[0m Trial 139 finished with value: 0.20662805041692364 and parameters: {'eta': 0.16908577379799636, 'max_depth': 7, 'min_child_weight': 4.1252707569489315, 'subsample': 0.5683064728150662, 'colsample_bynode': 0.4459744762151876}. Best is trial 53 with value: 0.19849697959875512.\u001B[0m\n"
     ]
    },
    {
     "name": "stdout",
     "output_type": "stream",
     "text": [
      "[0]\ttrain-logloss:18.40655+0.12457\ttrain-error:0.49962+0.00338\ttest-logloss:18.40644+0.49841\ttest-error:0.49961+0.01353\n",
      "[99]\ttrain-logloss:5.39001+0.14447\ttrain-error:0.14630+0.00392\ttest-logloss:7.45984+0.07547\ttest-error:0.20249+0.00205\n"
     ]
    },
    {
     "name": "stderr",
     "output_type": "stream",
     "text": [
      "\u001B[32m[I 2023-04-29 18:29:30,894]\u001B[0m Trial 140 finished with value: 0.20248553361991442 and parameters: {'eta': 0.15056932978884624, 'max_depth': 7, 'min_child_weight': 8.3697477918942, 'subsample': 0.4209321665946372, 'colsample_bynode': 0.25370375781447574}. Best is trial 53 with value: 0.19849697959875512.\u001B[0m\n"
     ]
    },
    {
     "name": "stdout",
     "output_type": "stream",
     "text": [
      "[0]\ttrain-logloss:18.40655+0.12457\ttrain-error:0.49962+0.00338\ttest-logloss:18.40644+0.49841\ttest-error:0.49961+0.01353\n",
      "[99]\ttrain-logloss:6.13317+0.10302\ttrain-error:0.16648+0.00280\ttest-logloss:7.49374+0.18637\ttest-error:0.20341+0.00506\n"
     ]
    },
    {
     "name": "stderr",
     "output_type": "stream",
     "text": [
      "\u001B[32m[I 2023-04-29 18:29:33,178]\u001B[0m Trial 141 finished with value: 0.2034056613101432 and parameters: {'eta': 0.09106730940716841, 'max_depth': 6, 'min_child_weight': 3.286113311662351, 'subsample': 0.5255210798336548, 'colsample_bynode': 0.15915570956306774}. Best is trial 53 with value: 0.19849697959875512.\u001B[0m\n"
     ]
    },
    {
     "name": "stdout",
     "output_type": "stream",
     "text": [
      "[0]\ttrain-logloss:18.40655+0.12457\ttrain-error:0.49962+0.00338\ttest-logloss:18.40644+0.49841\ttest-error:0.49961+0.01353\n",
      "[99]\ttrain-logloss:5.17667+0.23335\ttrain-error:0.14051+0.00633\ttest-logloss:7.47113+0.22513\ttest-error:0.20279+0.00611\n"
     ]
    },
    {
     "name": "stderr",
     "output_type": "stream",
     "text": [
      "\u001B[32m[I 2023-04-29 18:29:35,541]\u001B[0m Trial 142 finished with value: 0.20279192896053938 and parameters: {'eta': 0.12904165204614065, 'max_depth': 6, 'min_child_weight': 2.5896097242787848, 'subsample': 0.5305690248821084, 'colsample_bynode': 0.1470863261743432}. Best is trial 53 with value: 0.19849697959875512.\u001B[0m\n"
     ]
    },
    {
     "name": "stdout",
     "output_type": "stream",
     "text": [
      "[0]\ttrain-logloss:18.40655+0.12457\ttrain-error:0.49962+0.00338\ttest-logloss:18.40644+0.49841\ttest-error:0.49961+0.01353\n",
      "[99]\ttrain-logloss:6.14164+0.10655\ttrain-error:0.16671+0.00289\ttest-logloss:7.58415+0.27701\ttest-error:0.20586+0.00752\n"
     ]
    },
    {
     "name": "stderr",
     "output_type": "stream",
     "text": [
      "\u001B[32m[I 2023-04-29 18:29:37,752]\u001B[0m Trial 143 finished with value: 0.20585964904020454 and parameters: {'eta': 0.10157678632500652, 'max_depth': 6, 'min_child_weight': 5.063974040181128, 'subsample': 0.4973404354218833, 'colsample_bynode': 0.21819732301447883}. Best is trial 53 with value: 0.19849697959875512.\u001B[0m\n"
     ]
    },
    {
     "name": "stdout",
     "output_type": "stream",
     "text": [
      "[0]\ttrain-logloss:18.40655+0.12457\ttrain-error:0.49962+0.00338\ttest-logloss:18.40644+0.49841\ttest-error:0.49961+0.01353\n",
      "[99]\ttrain-logloss:6.79155+0.08547\ttrain-error:0.18435+0.00232\ttest-logloss:7.60112+0.21931\ttest-error:0.20632+0.00595\n"
     ]
    },
    {
     "name": "stderr",
     "output_type": "stream",
     "text": [
      "\u001B[32m[I 2023-04-29 18:29:39,935]\u001B[0m Trial 144 finished with value: 0.20632036028231218 and parameters: {'eta': 0.05694574070795497, 'max_depth': 6, 'min_child_weight': 6.679747662402718, 'subsample': 0.4444962764461316, 'colsample_bynode': 0.19257997144959335}. Best is trial 53 with value: 0.19849697959875512.\u001B[0m\n"
     ]
    },
    {
     "name": "stdout",
     "output_type": "stream",
     "text": [
      "[0]\ttrain-logloss:18.40655+0.12457\ttrain-error:0.49962+0.00338\ttest-logloss:18.40644+0.49841\ttest-error:0.49961+0.01353\n",
      "[99]\ttrain-logloss:5.72628+0.28107\ttrain-error:0.15543+0.00763\ttest-logloss:7.78764+0.14431\ttest-error:0.21138+0.00392\n"
     ]
    },
    {
     "name": "stderr",
     "output_type": "stream",
     "text": [
      "\u001B[32m[I 2023-04-29 18:29:41,798]\u001B[0m Trial 145 finished with value: 0.2113830047695502 and parameters: {'eta': 0.1091914687111322, 'max_depth': 5, 'min_child_weight': 1.8193310605229318, 'subsample': 0.5992932558223607, 'colsample_bynode': 0.10174748770453322}. Best is trial 53 with value: 0.19849697959875512.\u001B[0m\n"
     ]
    },
    {
     "name": "stdout",
     "output_type": "stream",
     "text": [
      "[0]\ttrain-logloss:18.40655+0.12457\ttrain-error:0.49962+0.00338\ttest-logloss:18.40644+0.49841\ttest-error:0.49961+0.01353\n",
      "[99]\ttrain-logloss:4.98311+0.12505\ttrain-error:0.13526+0.00339\ttest-logloss:7.34677+0.30210\ttest-error:0.19942+0.00820\n"
     ]
    },
    {
     "name": "stderr",
     "output_type": "stream",
     "text": [
      "\u001B[32m[I 2023-04-29 18:29:44,051]\u001B[0m Trial 146 finished with value: 0.19941640103771854 and parameters: {'eta': 0.18161214272432155, 'max_depth': 6, 'min_child_weight': 3.519345467261213, 'subsample': 0.6405863203674499, 'colsample_bynode': 0.17514208547470633}. Best is trial 53 with value: 0.19849697959875512.\u001B[0m\n"
     ]
    },
    {
     "name": "stdout",
     "output_type": "stream",
     "text": [
      "[0]\ttrain-logloss:18.40655+0.12457\ttrain-error:0.49962+0.00338\ttest-logloss:18.40644+0.49841\ttest-error:0.49961+0.01353\n",
      "[99]\ttrain-logloss:5.27415+0.14197\ttrain-error:0.14316+0.00385\ttest-logloss:7.36374+0.17590\ttest-error:0.19988+0.00477\n"
     ]
    },
    {
     "name": "stderr",
     "output_type": "stream",
     "text": [
      "\u001B[32m[I 2023-04-29 18:29:46,212]\u001B[0m Trial 147 finished with value: 0.19987687686273772 and parameters: {'eta': 0.1849068937031835, 'max_depth': 6, 'min_child_weight': 5.547005407376081, 'subsample': 0.6424352451687221, 'colsample_bynode': 0.17765699436876306}. Best is trial 53 with value: 0.19849697959875512.\u001B[0m\n"
     ]
    },
    {
     "name": "stdout",
     "output_type": "stream",
     "text": [
      "[0]\ttrain-logloss:18.40655+0.12457\ttrain-error:0.49962+0.00338\ttest-logloss:18.40644+0.49841\ttest-error:0.49961+0.01353\n",
      "[99]\ttrain-logloss:5.00995+0.14268\ttrain-error:0.13599+0.00387\ttest-logloss:7.48810+0.33037\ttest-error:0.20325+0.00897\n"
     ]
    },
    {
     "name": "stderr",
     "output_type": "stream",
     "text": [
      "\u001B[32m[I 2023-04-29 18:29:48,436]\u001B[0m Trial 148 finished with value: 0.2032525224941028 and parameters: {'eta': 0.18966436044064558, 'max_depth': 6, 'min_child_weight': 4.242889977469228, 'subsample': 0.6883263100460726, 'colsample_bynode': 0.17762715964180723}. Best is trial 53 with value: 0.19849697959875512.\u001B[0m\n"
     ]
    },
    {
     "name": "stdout",
     "output_type": "stream",
     "text": [
      "[0]\ttrain-logloss:18.40655+0.12457\ttrain-error:0.49962+0.00338\ttest-logloss:18.40644+0.49841\ttest-error:0.49961+0.01353\n",
      "[99]\ttrain-logloss:3.54484+0.15736\ttrain-error:0.09622+0.00427\ttest-logloss:7.62936+0.33276\ttest-error:0.20709+0.00903\n"
     ]
    },
    {
     "name": "stderr",
     "output_type": "stream",
     "text": [
      "\u001B[32m[I 2023-04-29 18:29:50,844]\u001B[0m Trial 149 finished with value: 0.20708687832232364 and parameters: {'eta': 0.20438413197854138, 'max_depth': 6, 'min_child_weight': 2.8591869237002965, 'subsample': 0.6467235827190413, 'colsample_bynode': 0.20656912441885927}. Best is trial 53 with value: 0.19849697959875512.\u001B[0m\n"
     ]
    },
    {
     "name": "stdout",
     "output_type": "stream",
     "text": [
      "[0]\ttrain-logloss:18.40655+0.12457\ttrain-error:0.49962+0.00338\ttest-logloss:18.40644+0.49841\ttest-error:0.49961+0.01353\n",
      "[99]\ttrain-logloss:4.99583+0.16451\ttrain-error:0.13560+0.00447\ttest-logloss:7.68028+0.39264\ttest-error:0.20847+0.01066\n"
     ]
    },
    {
     "name": "stderr",
     "output_type": "stream",
     "text": [
      "\u001B[32m[I 2023-04-29 18:29:53,047]\u001B[0m Trial 150 finished with value: 0.20846889434010238 and parameters: {'eta': 0.181602988553498, 'max_depth': 6, 'min_child_weight': 5.556051172415205, 'subsample': 0.6332479794169175, 'colsample_bynode': 0.23167318425608172}. Best is trial 53 with value: 0.19849697959875512.\u001B[0m\n"
     ]
    },
    {
     "name": "stdout",
     "output_type": "stream",
     "text": [
      "[0]\ttrain-logloss:18.40655+0.12457\ttrain-error:0.49962+0.00338\ttest-logloss:18.40644+0.49841\ttest-error:0.49961+0.01353\n",
      "[99]\ttrain-logloss:5.80115+0.13186\ttrain-error:0.15746+0.00358\ttest-logloss:7.56160+0.31198\ttest-error:0.20525+0.00847\n"
     ]
    },
    {
     "name": "stderr",
     "output_type": "stream",
     "text": [
      "\u001B[32m[I 2023-04-29 18:29:55,425]\u001B[0m Trial 151 finished with value: 0.2052474469016757 and parameters: {'eta': 0.16116690540049639, 'max_depth': 7, 'min_child_weight': 4.814157845401637, 'subsample': 0.6196171718276939, 'colsample_bynode': 0.12765329426330277}. Best is trial 53 with value: 0.19849697959875512.\u001B[0m\n"
     ]
    },
    {
     "name": "stdout",
     "output_type": "stream",
     "text": [
      "[0]\ttrain-logloss:18.40655+0.12457\ttrain-error:0.49962+0.00338\ttest-logloss:18.40644+0.49841\ttest-error:0.49961+0.01353\n",
      "[99]\ttrain-logloss:5.39990+0.11540\ttrain-error:0.14657+0.00313\ttest-logloss:7.45981+0.31775\ttest-error:0.20248+0.00862\n"
     ]
    },
    {
     "name": "stderr",
     "output_type": "stream",
     "text": [
      "\u001B[32m[I 2023-04-29 18:29:57,593]\u001B[0m Trial 152 finished with value: 0.2024845919515606 and parameters: {'eta': 0.17808573849628467, 'max_depth': 6, 'min_child_weight': 5.977890043912239, 'subsample': 0.6496485473852727, 'colsample_bynode': 0.1756322587404908}. Best is trial 53 with value: 0.19849697959875512.\u001B[0m\n"
     ]
    },
    {
     "name": "stdout",
     "output_type": "stream",
     "text": [
      "[0]\ttrain-logloss:18.40655+0.12457\ttrain-error:0.49962+0.00338\ttest-logloss:18.40644+0.49841\ttest-error:0.49961+0.01353\n",
      "[99]\ttrain-logloss:4.46177+0.14351\ttrain-error:0.12111+0.00390\ttest-logloss:7.46555+0.36227\ttest-error:0.20264+0.00983\n"
     ]
    },
    {
     "name": "stderr",
     "output_type": "stream",
     "text": [
      "\u001B[32m[I 2023-04-29 18:30:00,318]\u001B[0m Trial 153 finished with value: 0.2026404380641182 and parameters: {'eta': 0.1702955860669192, 'max_depth': 7, 'min_child_weight': 3.7365412204301296, 'subsample': 0.5883513372389446, 'colsample_bynode': 0.13923875158292506}. Best is trial 53 with value: 0.19849697959875512.\u001B[0m\n"
     ]
    },
    {
     "name": "stdout",
     "output_type": "stream",
     "text": [
      "[0]\ttrain-logloss:18.40655+0.12457\ttrain-error:0.49962+0.00338\ttest-logloss:18.40644+0.49841\ttest-error:0.49961+0.01353\n",
      "[99]\ttrain-logloss:5.69377+0.05400\ttrain-error:0.15455+0.00147\ttest-logloss:7.64631+0.17128\ttest-error:0.20755+0.00465\n"
     ]
    },
    {
     "name": "stderr",
     "output_type": "stream",
     "text": [
      "\u001B[32m[I 2023-04-29 18:30:02,092]\u001B[0m Trial 154 finished with value: 0.2075467656046217 and parameters: {'eta': 0.23160707222015678, 'max_depth': 5, 'min_child_weight': 7.34520474806709, 'subsample': 0.677521834287528, 'colsample_bynode': 0.19159840856883742}. Best is trial 53 with value: 0.19849697959875512.\u001B[0m\n"
     ]
    },
    {
     "name": "stdout",
     "output_type": "stream",
     "text": [
      "[0]\ttrain-logloss:18.40655+0.12457\ttrain-error:0.49962+0.00338\ttest-logloss:18.40644+0.49841\ttest-error:0.49961+0.01353\n",
      "[99]\ttrain-logloss:5.43805+0.10330\ttrain-error:0.14761+0.00280\ttest-logloss:7.69157+0.34329\ttest-error:0.20878+0.00932\n"
     ]
    },
    {
     "name": "stderr",
     "output_type": "stream",
     "text": [
      "\u001B[32m[I 2023-04-29 18:30:04,177]\u001B[0m Trial 155 finished with value: 0.20877528968072734 and parameters: {'eta': 0.2137166926464704, 'max_depth': 6, 'min_child_weight': 9.160658764387039, 'subsample': 0.6083266254524252, 'colsample_bynode': 0.1479999476560503}. Best is trial 53 with value: 0.19849697959875512.\u001B[0m\n"
     ]
    },
    {
     "name": "stdout",
     "output_type": "stream",
     "text": [
      "[0]\ttrain-logloss:18.40655+0.12457\ttrain-error:0.49962+0.00338\ttest-logloss:18.40644+0.49841\ttest-error:0.49961+0.01353\n",
      "[99]\ttrain-logloss:3.56744+0.17197\ttrain-error:0.09683+0.00467\ttest-logloss:7.56157+0.46982\ttest-error:0.20525+0.01275\n"
     ]
    },
    {
     "name": "stderr",
     "output_type": "stream",
     "text": [
      "\u001B[32m[I 2023-04-29 18:30:06,601]\u001B[0m Trial 156 finished with value: 0.20524662294186607 and parameters: {'eta': 0.18915936628151098, 'max_depth': 6, 'min_child_weight': 2.202822775038739, 'subsample': 0.6246183790977469, 'colsample_bynode': 0.21765848242956476}. Best is trial 53 with value: 0.19849697959875512.\u001B[0m\n"
     ]
    },
    {
     "name": "stdout",
     "output_type": "stream",
     "text": [
      "[0]\ttrain-logloss:18.40655+0.12457\ttrain-error:0.49962+0.00338\ttest-logloss:18.40644+0.49841\ttest-error:0.49961+0.01353\n",
      "[99]\ttrain-logloss:3.46855+0.26606\ttrain-error:0.09415+0.00722\ttest-logloss:7.76504+0.50962\ttest-error:0.21077+0.01383\n"
     ]
    },
    {
     "name": "stderr",
     "output_type": "stream",
     "text": [
      "\u001B[32m[I 2023-04-29 18:30:09,715]\u001B[0m Trial 157 finished with value: 0.2107696255455791 and parameters: {'eta': 0.19932429102426671, 'max_depth': 8, 'min_child_weight': 4.545315510857784, 'subsample': 0.6496523646709012, 'colsample_bynode': 0.16761461229437297}. Best is trial 53 with value: 0.19849697959875512.\u001B[0m\n"
     ]
    },
    {
     "name": "stdout",
     "output_type": "stream",
     "text": [
      "[0]\ttrain-logloss:18.40655+0.12457\ttrain-error:0.49962+0.00338\ttest-logloss:18.40644+0.49841\ttest-error:0.49961+0.01353\n",
      "[99]\ttrain-logloss:4.90540+0.07992\ttrain-error:0.13315+0.00217\ttest-logloss:7.36373+0.30509\ttest-error:0.19988+0.00828\n"
     ]
    },
    {
     "name": "stderr",
     "output_type": "stream",
     "text": [
      "\u001B[32m[I 2023-04-29 18:30:12,379]\u001B[0m Trial 158 finished with value: 0.19987664144564926 and parameters: {'eta': 0.1497693340579857, 'max_depth': 7, 'min_child_weight': 5.200692220133161, 'subsample': 0.7078487662315275, 'colsample_bynode': 0.19919490239414955}. Best is trial 53 with value: 0.19849697959875512.\u001B[0m\n"
     ]
    },
    {
     "name": "stdout",
     "output_type": "stream",
     "text": [
      "[0]\ttrain-logloss:18.40655+0.12457\ttrain-error:0.49962+0.00338\ttest-logloss:18.40644+0.49841\ttest-error:0.49961+0.01353\n",
      "[99]\ttrain-logloss:4.49002+0.09164\ttrain-error:0.12187+0.00249\ttest-logloss:7.41464+0.25756\ttest-error:0.20126+0.00699\n"
     ]
    },
    {
     "name": "stderr",
     "output_type": "stream",
     "text": [
      "\u001B[32m[I 2023-04-29 18:30:15,107]\u001B[0m Trial 159 finished with value: 0.20125853975488375 and parameters: {'eta': 0.1463605517168303, 'max_depth': 7, 'min_child_weight': 5.418050838707021, 'subsample': 0.717752132000565, 'colsample_bynode': 0.24341672133288403}. Best is trial 53 with value: 0.19849697959875512.\u001B[0m\n"
     ]
    },
    {
     "name": "stdout",
     "output_type": "stream",
     "text": [
      "[0]\ttrain-logloss:18.40655+0.12457\ttrain-error:0.49962+0.00338\ttest-logloss:18.40644+0.49841\ttest-error:0.49961+0.01353\n",
      "[99]\ttrain-logloss:2.37924+0.14825\ttrain-error:0.06458+0.00402\ttest-logloss:7.85543+0.23721\ttest-error:0.21322+0.00644\n"
     ]
    },
    {
     "name": "stderr",
     "output_type": "stream",
     "text": [
      "\u001B[32m[I 2023-04-29 18:30:18,391]\u001B[0m Trial 160 finished with value: 0.21322302473291935 and parameters: {'eta': 0.15267920613359948, 'max_depth': 7, 'min_child_weight': 1.0218023086370525, 'subsample': 0.7536467481515464, 'colsample_bynode': 0.24621647342167258}. Best is trial 53 with value: 0.19849697959875512.\u001B[0m\n"
     ]
    },
    {
     "name": "stdout",
     "output_type": "stream",
     "text": [
      "[0]\ttrain-logloss:18.40655+0.12457\ttrain-error:0.49962+0.00338\ttest-logloss:18.40644+0.49841\ttest-error:0.49961+0.01353\n",
      "[99]\ttrain-logloss:4.48155+0.13323\ttrain-error:0.12164+0.00362\ttest-logloss:7.52200+0.24759\ttest-error:0.20417+0.00672\n"
     ]
    },
    {
     "name": "stderr",
     "output_type": "stream",
     "text": [
      "\u001B[32m[I 2023-04-29 18:30:21,518]\u001B[0m Trial 161 finished with value: 0.20417276789287583 and parameters: {'eta': 0.14299049175761033, 'max_depth': 7, 'min_child_weight': 5.503959286295692, 'subsample': 0.7113286752902189, 'colsample_bynode': 0.20209843282536133}. Best is trial 53 with value: 0.19849697959875512.\u001B[0m\n"
     ]
    },
    {
     "name": "stdout",
     "output_type": "stream",
     "text": [
      "[0]\ttrain-logloss:18.40655+0.12457\ttrain-error:0.49962+0.00338\ttest-logloss:18.40644+0.49841\ttest-error:0.49961+0.01353\n",
      "[99]\ttrain-logloss:3.88958+0.22153\ttrain-error:0.10558+0.00601\ttest-logloss:7.55027+0.24134\ttest-error:0.20494+0.00655\n"
     ]
    },
    {
     "name": "stderr",
     "output_type": "stream",
     "text": [
      "\u001B[32m[I 2023-04-29 18:30:24,393]\u001B[0m Trial 162 finished with value: 0.20493999218415265 and parameters: {'eta': 0.1628595168022149, 'max_depth': 7, 'min_child_weight': 3.9041689688652714, 'subsample': 0.6788577078583589, 'colsample_bynode': 0.23120554923140887}. Best is trial 53 with value: 0.19849697959875512.\u001B[0m\n"
     ]
    },
    {
     "name": "stdout",
     "output_type": "stream",
     "text": [
      "[0]\ttrain-logloss:18.40655+0.12457\ttrain-error:0.49962+0.00338\ttest-logloss:18.40644+0.49841\ttest-error:0.49961+0.01353\n",
      "[99]\ttrain-logloss:4.62284+0.08966\ttrain-error:0.12548+0.00243\ttest-logloss:7.56720+0.19513\ttest-error:0.20540+0.00530\n"
     ]
    },
    {
     "name": "stderr",
     "output_type": "stream",
     "text": [
      "\u001B[32m[I 2023-04-29 18:30:27,093]\u001B[0m Trial 163 finished with value: 0.205399526340818 and parameters: {'eta': 0.16988824692548815, 'max_depth': 7, 'min_child_weight': 5.095163228167301, 'subsample': 0.732240543658712, 'colsample_bynode': 0.18454886962806316}. Best is trial 53 with value: 0.19849697959875512.\u001B[0m\n"
     ]
    },
    {
     "name": "stdout",
     "output_type": "stream",
     "text": [
      "[0]\ttrain-logloss:18.40655+0.12457\ttrain-error:0.49962+0.00338\ttest-logloss:18.40644+0.49841\ttest-error:0.49961+0.01353\n",
      "[99]\ttrain-logloss:4.68641+0.17885\ttrain-error:0.12721+0.00485\ttest-logloss:7.61809+0.23823\ttest-error:0.20678+0.00647\n"
     ]
    },
    {
     "name": "stderr",
     "output_type": "stream",
     "text": [
      "\u001B[32m[I 2023-04-29 18:30:29,413]\u001B[0m Trial 164 finished with value: 0.20678083610733133 and parameters: {'eta': 0.18354858313299982, 'max_depth': 6, 'min_child_weight': 4.5600312545925, 'subsample': 0.6691173988973604, 'colsample_bynode': 0.2627450552473132}. Best is trial 53 with value: 0.19849697959875512.\u001B[0m\n"
     ]
    },
    {
     "name": "stdout",
     "output_type": "stream",
     "text": [
      "[0]\ttrain-logloss:18.40655+0.12457\ttrain-error:0.49962+0.00338\ttest-logloss:18.40644+0.49841\ttest-error:0.49961+0.01353\n",
      "[99]\ttrain-logloss:4.85172+0.17499\ttrain-error:0.13169+0.00475\ttest-logloss:7.52766+0.31019\ttest-error:0.20433+0.00842\n"
     ]
    },
    {
     "name": "stderr",
     "output_type": "stream",
     "text": [
      "\u001B[32m[I 2023-04-29 18:30:31,780]\u001B[0m Trial 165 finished with value: 0.2043262598345489 and parameters: {'eta': 0.1584343592679148, 'max_depth': 6, 'min_child_weight': 3.450072664874325, 'subsample': 0.6993403543627326, 'colsample_bynode': 0.21249689886216033}. Best is trial 53 with value: 0.19849697959875512.\u001B[0m\n"
     ]
    },
    {
     "name": "stdout",
     "output_type": "stream",
     "text": [
      "[0]\ttrain-logloss:18.40655+0.12457\ttrain-error:0.49962+0.00338\ttest-logloss:18.40644+0.49841\ttest-error:0.49961+0.01353\n",
      "[99]\ttrain-logloss:4.95768+0.13732\ttrain-error:0.13457+0.00373\ttest-logloss:7.50506+0.34172\ttest-error:0.20371+0.00928\n"
     ]
    },
    {
     "name": "stderr",
     "output_type": "stream",
     "text": [
      "\u001B[32m[I 2023-04-29 18:30:34,485]\u001B[0m Trial 166 finished with value: 0.20371288061057774 and parameters: {'eta': 0.1331963400687117, 'max_depth': 7, 'min_child_weight': 6.689253538748568, 'subsample': 0.48372748825997675, 'colsample_bynode': 0.2817250402543867}. Best is trial 53 with value: 0.19849697959875512.\u001B[0m\n"
     ]
    },
    {
     "name": "stdout",
     "output_type": "stream",
     "text": [
      "[0]\ttrain-logloss:18.40655+0.12457\ttrain-error:0.49962+0.00338\ttest-logloss:18.40644+0.49841\ttest-error:0.49961+0.01353\n",
      "[99]\ttrain-logloss:2.34674+0.15544\ttrain-error:0.06370+0.00422\ttest-logloss:8.30762+0.35133\ttest-error:0.22550+0.00954\n"
     ]
    },
    {
     "name": "stderr",
     "output_type": "stream",
     "text": [
      "\u001B[32m[I 2023-04-29 18:30:36,099]\u001B[0m Trial 167 finished with value: 0.22549696547372983 and parameters: {'eta': 0.15055659726480783, 'max_depth': 4, 'min_child_weight': 0.3834351195019295, 'subsample': 0.661667877673565, 'colsample_bynode': 0.16124912692916518}. Best is trial 53 with value: 0.19849697959875512.\u001B[0m\n"
     ]
    },
    {
     "name": "stdout",
     "output_type": "stream",
     "text": [
      "[0]\ttrain-logloss:18.40655+0.12457\ttrain-error:0.49962+0.00338\ttest-logloss:18.40644+0.49841\ttest-error:0.49961+0.01353\n",
      "[99]\ttrain-logloss:4.06334+0.17702\ttrain-error:0.11029+0.00480\ttest-logloss:7.56727+0.38145\ttest-error:0.20540+0.01035\n"
     ]
    },
    {
     "name": "stderr",
     "output_type": "stream",
     "text": [
      "\u001B[32m[I 2023-04-29 18:30:38,725]\u001B[0m Trial 168 finished with value: 0.20540140967752568 and parameters: {'eta': 0.2439072837987331, 'max_depth': 7, 'min_child_weight': 5.539841603099226, 'subsample': 0.5656463855592798, 'colsample_bynode': 0.1971285679689784}. Best is trial 53 with value: 0.19849697959875512.\u001B[0m\n"
     ]
    },
    {
     "name": "stdout",
     "output_type": "stream",
     "text": [
      "[0]\ttrain-logloss:18.40655+0.12457\ttrain-error:0.49962+0.00338\ttest-logloss:18.40644+0.49841\ttest-error:0.49961+0.01353\n",
      "[99]\ttrain-logloss:4.05487+0.16193\ttrain-error:0.11006+0.00440\ttest-logloss:7.55023+0.30668\ttest-error:0.20494+0.00832\n"
     ]
    },
    {
     "name": "stderr",
     "output_type": "stream",
     "text": [
      "\u001B[32m[I 2023-04-29 18:30:41,394]\u001B[0m Trial 169 finished with value: 0.20493893280725461 and parameters: {'eta': 0.11884707639604597, 'max_depth': 6, 'min_child_weight': 2.601998249884531, 'subsample': 0.6353675938726837, 'colsample_bynode': 0.6447967166772273}. Best is trial 53 with value: 0.19849697959875512.\u001B[0m\n"
     ]
    },
    {
     "name": "stdout",
     "output_type": "stream",
     "text": [
      "[0]\ttrain-logloss:18.40655+0.12457\ttrain-error:0.49962+0.00338\ttest-logloss:18.40644+0.49841\ttest-error:0.49961+0.01353\n",
      "[99]\ttrain-logloss:5.98764+0.06248\ttrain-error:0.16252+0.00170\ttest-logloss:7.39769+0.27503\ttest-error:0.20080+0.00747\n"
     ]
    },
    {
     "name": "stderr",
     "output_type": "stream",
     "text": [
      "\u001B[32m[I 2023-04-29 18:30:43,230]\u001B[0m Trial 170 finished with value: 0.20079853476404147 and parameters: {'eta': 0.19404466961190864, 'max_depth': 5, 'min_child_weight': 4.090681165149642, 'subsample': 0.46576977381070694, 'colsample_bynode': 0.18066037390704914}. Best is trial 53 with value: 0.19849697959875512.\u001B[0m\n"
     ]
    },
    {
     "name": "stdout",
     "output_type": "stream",
     "text": [
      "[0]\ttrain-logloss:18.40655+0.12457\ttrain-error:0.49962+0.00338\ttest-logloss:18.40644+0.49841\ttest-error:0.49961+0.01353\n",
      "[99]\ttrain-logloss:6.02295+0.09779\ttrain-error:0.16348+0.00265\ttest-logloss:7.50501+0.34292\ttest-error:0.20371+0.00931\n"
     ]
    },
    {
     "name": "stderr",
     "output_type": "stream",
     "text": [
      "\u001B[32m[I 2023-04-29 18:30:45,063]\u001B[0m Trial 171 finished with value: 0.20371146810804705 and parameters: {'eta': 0.1931018556182359, 'max_depth': 5, 'min_child_weight': 4.084814027720323, 'subsample': 0.4652007388041233, 'colsample_bynode': 0.18035437957615127}. Best is trial 53 with value: 0.19849697959875512.\u001B[0m\n"
     ]
    },
    {
     "name": "stdout",
     "output_type": "stream",
     "text": [
      "[0]\ttrain-logloss:18.40655+0.12457\ttrain-error:0.49962+0.00338\ttest-logloss:18.40644+0.49841\ttest-error:0.49961+0.01353\n",
      "[99]\ttrain-logloss:5.94243+0.08570\ttrain-error:0.16130+0.00233\ttest-logloss:7.62371+0.19332\ttest-error:0.20693+0.00525\n"
     ]
    },
    {
     "name": "stderr",
     "output_type": "stream",
     "text": [
      "\u001B[32m[I 2023-04-29 18:30:46,935]\u001B[0m Trial 172 finished with value: 0.20693338638065062 and parameters: {'eta': 0.1731693741649607, 'max_depth': 5, 'min_child_weight': 3.1497130648034344, 'subsample': 0.40553062501695153, 'colsample_bynode': 0.21406184779687393}. Best is trial 53 with value: 0.19849697959875512.\u001B[0m\n"
     ]
    },
    {
     "name": "stdout",
     "output_type": "stream",
     "text": [
      "[0]\ttrain-logloss:18.40655+0.12457\ttrain-error:0.49962+0.00338\ttest-logloss:18.40644+0.49841\ttest-error:0.49961+0.01353\n",
      "[99]\ttrain-logloss:5.95655+0.16595\ttrain-error:0.16168+0.00450\ttest-logloss:7.68590+0.26374\ttest-error:0.20862+0.00716\n"
     ]
    },
    {
     "name": "stderr",
     "output_type": "stream",
     "text": [
      "\u001B[32m[I 2023-04-29 18:30:48,760]\u001B[0m Trial 173 finished with value: 0.20862144461342158 and parameters: {'eta': 0.20657858407800747, 'max_depth': 5, 'min_child_weight': 4.429045491931714, 'subsample': 0.4403067457612172, 'colsample_bynode': 0.16321333715419906}. Best is trial 53 with value: 0.19849697959875512.\u001B[0m\n"
     ]
    },
    {
     "name": "stdout",
     "output_type": "stream",
     "text": [
      "[0]\ttrain-logloss:18.40655+0.12457\ttrain-error:0.49962+0.00338\ttest-logloss:18.40644+0.49841\ttest-error:0.49961+0.01353\n",
      "[99]\ttrain-logloss:4.63272+0.15752\ttrain-error:0.12575+0.00428\ttest-logloss:7.54463+0.31889\ttest-error:0.20479+0.00866\n"
     ]
    },
    {
     "name": "stderr",
     "output_type": "stream",
     "text": [
      "\u001B[32m[I 2023-04-29 18:30:51,470]\u001B[0m Trial 174 finished with value: 0.2047868533681123 and parameters: {'eta': 0.1821184440211717, 'max_depth': 7, 'min_child_weight': 3.666359583846586, 'subsample': 0.47030816693914845, 'colsample_bynode': 0.18845448243748714}. Best is trial 53 with value: 0.19849697959875512.\u001B[0m\n"
     ]
    },
    {
     "name": "stdout",
     "output_type": "stream",
     "text": [
      "[0]\ttrain-logloss:18.40655+0.12457\ttrain-error:0.49962+0.00338\ttest-logloss:18.40644+0.49841\ttest-error:0.49961+0.01353\n",
      "[99]\ttrain-logloss:6.20946+0.06967\ttrain-error:0.16855+0.00189\ttest-logloss:7.36937+0.24046\ttest-error:0.20003+0.00653\n"
     ]
    },
    {
     "name": "stderr",
     "output_type": "stream",
     "text": [
      "\u001B[32m[I 2023-04-29 18:30:53,335]\u001B[0m Trial 175 finished with value: 0.20002989797023388 and parameters: {'eta': 0.1433581712012317, 'max_depth': 5, 'min_child_weight': 5.707210241784753, 'subsample': 0.5027229026126961, 'colsample_bynode': 0.22808707326887273}. Best is trial 53 with value: 0.19849697959875512.\u001B[0m\n"
     ]
    },
    {
     "name": "stdout",
     "output_type": "stream",
     "text": [
      "[0]\ttrain-logloss:18.40655+0.12457\ttrain-error:0.49962+0.00338\ttest-logloss:18.40644+0.49841\ttest-error:0.49961+0.01353\n",
      "[99]\ttrain-logloss:6.02720+0.06971\ttrain-error:0.16360+0.00189\ttest-logloss:7.59549+0.26305\ttest-error:0.20617+0.00714\n"
     ]
    },
    {
     "name": "stderr",
     "output_type": "stream",
     "text": [
      "\u001B[32m[I 2023-04-29 18:30:55,167]\u001B[0m Trial 176 finished with value: 0.206167339174816 and parameters: {'eta': 0.16462879335813596, 'max_depth': 5, 'min_child_weight': 6.248237866339177, 'subsample': 0.5077481563042671, 'colsample_bynode': 0.24322167942044656}. Best is trial 53 with value: 0.19849697959875512.\u001B[0m\n"
     ]
    },
    {
     "name": "stdout",
     "output_type": "stream",
     "text": [
      "[0]\ttrain-logloss:18.40655+0.12457\ttrain-error:0.49962+0.00338\ttest-logloss:18.40644+0.49841\ttest-error:0.49961+0.01353\n",
      "[99]\ttrain-logloss:6.03285+0.07470\ttrain-error:0.16375+0.00203\ttest-logloss:7.44283+0.27831\ttest-error:0.20202+0.00755\n"
     ]
    },
    {
     "name": "stderr",
     "output_type": "stream",
     "text": [
      "\u001B[32m[I 2023-04-29 18:30:56,976]\u001B[0m Trial 177 finished with value: 0.2020236452923645 and parameters: {'eta': 0.2011964488089404, 'max_depth': 5, 'min_child_weight': 7.10671725710811, 'subsample': 0.5475693610170511, 'colsample_bynode': 0.15275988876206656}. Best is trial 53 with value: 0.19849697959875512.\u001B[0m\n"
     ]
    },
    {
     "name": "stdout",
     "output_type": "stream",
     "text": [
      "[0]\ttrain-logloss:18.40655+0.12457\ttrain-error:0.49962+0.00338\ttest-logloss:18.40644+0.49841\ttest-error:0.49961+0.01353\n",
      "[99]\ttrain-logloss:3.87261+0.12221\ttrain-error:0.10512+0.00332\ttest-logloss:7.76500+0.26337\ttest-error:0.21077+0.00715\n"
     ]
    },
    {
     "name": "stderr",
     "output_type": "stream",
     "text": [
      "\u001B[32m[I 2023-04-29 18:30:59,099]\u001B[0m Trial 178 finished with value: 0.21076844846013681 and parameters: {'eta': 0.14161486660835101, 'max_depth': 5, 'min_child_weight': 1.63267885735926, 'subsample': 0.7538516095783265, 'colsample_bynode': 0.22628577224486243}. Best is trial 53 with value: 0.19849697959875512.\u001B[0m\n"
     ]
    },
    {
     "name": "stdout",
     "output_type": "stream",
     "text": [
      "[0]\ttrain-logloss:18.40655+0.12457\ttrain-error:0.49962+0.00338\ttest-logloss:18.40644+0.49841\ttest-error:0.49961+0.01353\n",
      "[99]\ttrain-logloss:6.05829+0.06905\ttrain-error:0.16444+0.00187\ttest-logloss:7.51068+0.28914\ttest-error:0.20387+0.00785\n"
     ]
    },
    {
     "name": "stderr",
     "output_type": "stream",
     "text": [
      "\u001B[32m[I 2023-04-29 18:31:00,954]\u001B[0m Trial 179 finished with value: 0.20386531317535278 and parameters: {'eta': 0.1776133255183396, 'max_depth': 5, 'min_child_weight': 5.135902166002275, 'subsample': 0.5805537417534603, 'colsample_bynode': 0.13604202129349927}. Best is trial 53 with value: 0.19849697959875512.\u001B[0m\n"
     ]
    },
    {
     "name": "stdout",
     "output_type": "stream",
     "text": [
      "[0]\ttrain-logloss:18.40655+0.12457\ttrain-error:0.49962+0.00338\ttest-logloss:18.40644+0.49841\ttest-error:0.49961+0.01353\n",
      "[99]\ttrain-logloss:6.42845+0.06135\ttrain-error:0.17449+0.00167\ttest-logloss:7.61237+0.15956\ttest-error:0.20663+0.00433\n"
     ]
    },
    {
     "name": "stderr",
     "output_type": "stream",
     "text": [
      "\u001B[32m[I 2023-04-29 18:31:02,810]\u001B[0m Trial 180 finished with value: 0.2066256962460391 and parameters: {'eta': 0.15613212511308583, 'max_depth': 5, 'min_child_weight': 8.172306959116113, 'subsample': 0.4860883340604023, 'colsample_bynode': 0.19309914836362413}. Best is trial 53 with value: 0.19849697959875512.\u001B[0m\n"
     ]
    },
    {
     "name": "stdout",
     "output_type": "stream",
     "text": [
      "[0]\ttrain-logloss:18.40655+0.12457\ttrain-error:0.49962+0.00338\ttest-logloss:18.40644+0.49841\ttest-error:0.49961+0.01353\n",
      "[99]\ttrain-logloss:5.85060+0.09299\ttrain-error:0.15881+0.00252\ttest-logloss:7.47114+0.23362\ttest-error:0.20279+0.00634\n"
     ]
    },
    {
     "name": "stderr",
     "output_type": "stream",
     "text": [
      "\u001B[32m[I 2023-04-29 18:31:05,077]\u001B[0m Trial 181 finished with value: 0.20279204666908363 and parameters: {'eta': 0.12752525709098403, 'max_depth': 6, 'min_child_weight': 5.841065377201944, 'subsample': 0.45722435365344216, 'colsample_bynode': 0.20957037613290067}. Best is trial 53 with value: 0.19849697959875512.\u001B[0m\n"
     ]
    },
    {
     "name": "stdout",
     "output_type": "stream",
     "text": [
      "[0]\ttrain-logloss:18.40655+0.12457\ttrain-error:0.49962+0.00338\ttest-logloss:18.40644+0.49841\ttest-error:0.49961+0.01353\n",
      "[99]\ttrain-logloss:6.71526+0.14743\ttrain-error:0.18228+0.00400\ttest-logloss:7.47678+0.33557\ttest-error:0.20295+0.00911\n"
     ]
    },
    {
     "name": "stderr",
     "output_type": "stream",
     "text": [
      "\u001B[32m[I 2023-04-29 18:31:06,591]\u001B[0m Trial 182 finished with value: 0.20294530319366824 and parameters: {'eta': 0.14306973046461466, 'max_depth': 4, 'min_child_weight': 4.667575109093935, 'subsample': 0.5008922065315027, 'colsample_bynode': 0.17443324922125783}. Best is trial 53 with value: 0.19849697959875512.\u001B[0m\n"
     ]
    },
    {
     "name": "stdout",
     "output_type": "stream",
     "text": [
      "[0]\ttrain-logloss:18.40655+0.12457\ttrain-error:0.49962+0.00338\ttest-logloss:18.40644+0.49841\ttest-error:0.49961+0.01353\n",
      "[99]\ttrain-logloss:4.74717+0.27910\ttrain-error:0.12885+0.00758\ttest-logloss:7.58416+0.26488\ttest-error:0.20586+0.00719\n"
     ]
    },
    {
     "name": "stderr",
     "output_type": "stream",
     "text": [
      "\u001B[32m[I 2023-04-29 18:31:08,880]\u001B[0m Trial 183 finished with value: 0.20585988445729297 and parameters: {'eta': 0.18643518878301804, 'max_depth': 6, 'min_child_weight': 4.056978181306331, 'subsample': 0.5195647964426228, 'colsample_bynode': 0.3168504345298717}. Best is trial 53 with value: 0.19849697959875512.\u001B[0m\n"
     ]
    },
    {
     "name": "stdout",
     "output_type": "stream",
     "text": [
      "[0]\ttrain-logloss:18.40655+0.12457\ttrain-error:0.49962+0.00338\ttest-logloss:18.40644+0.49841\ttest-error:0.49961+0.01353\n",
      "[99]\ttrain-logloss:2.54313+0.11019\ttrain-error:0.06903+0.00299\ttest-logloss:8.17756+0.34473\ttest-error:0.22197+0.00936\n"
     ]
    },
    {
     "name": "stderr",
     "output_type": "stream",
     "text": [
      "\u001B[32m[I 2023-04-29 18:31:11,817]\u001B[0m Trial 184 finished with value: 0.22196688623233785 and parameters: {'eta': 0.21973052456808656, 'max_depth': 7, 'min_child_weight': 1.9536567740399853, 'subsample': 0.4229858154477598, 'colsample_bynode': 0.2658580777239133}. Best is trial 53 with value: 0.19849697959875512.\u001B[0m\n"
     ]
    },
    {
     "name": "stdout",
     "output_type": "stream",
     "text": [
      "[0]\ttrain-logloss:18.40655+0.12457\ttrain-error:0.49962+0.00338\ttest-logloss:18.40644+0.49841\ttest-error:0.49961+0.01353\n",
      "[99]\ttrain-logloss:4.91529+0.17608\ttrain-error:0.13342+0.00478\ttest-logloss:7.56159+0.29383\ttest-error:0.20525+0.00798\n"
     ]
    },
    {
     "name": "stderr",
     "output_type": "stream",
     "text": [
      "\u001B[32m[I 2023-04-29 18:31:13,827]\u001B[0m Trial 185 finished with value: 0.20524721148458727 and parameters: {'eta': 0.15050493991821418, 'max_depth': 5, 'min_child_weight': 2.91902669042474, 'subsample': 0.6861224748869146, 'colsample_bynode': 0.22971198511975957}. Best is trial 53 with value: 0.19849697959875512.\u001B[0m\n"
     ]
    },
    {
     "name": "stdout",
     "output_type": "stream",
     "text": [
      "[0]\ttrain-logloss:18.40655+0.12457\ttrain-error:0.49962+0.00338\ttest-logloss:18.40644+0.49841\ttest-error:0.49961+0.01353\n",
      "[99]\ttrain-logloss:5.46066+0.20748\ttrain-error:0.14822+0.00563\ttest-logloss:7.45986+0.26424\ttest-error:0.20249+0.00717\n"
     ]
    },
    {
     "name": "stderr",
     "output_type": "stream",
     "text": [
      "\u001B[32m[I 2023-04-29 18:31:16,157]\u001B[0m Trial 186 finished with value: 0.20248600445409132 and parameters: {'eta': 0.13344600314559388, 'max_depth': 6, 'min_child_weight': 3.4290247577415554, 'subsample': 0.5476686668649456, 'colsample_bynode': 0.2042230805157127}. Best is trial 53 with value: 0.19849697959875512.\u001B[0m\n"
     ]
    },
    {
     "name": "stdout",
     "output_type": "stream",
     "text": [
      "[0]\ttrain-logloss:18.40655+0.12457\ttrain-error:0.49962+0.00338\ttest-logloss:18.40644+0.49841\ttest-error:0.49961+0.01353\n",
      "[99]\ttrain-logloss:3.74969+0.14764\ttrain-error:0.10178+0.00401\ttest-logloss:7.53895+0.31331\ttest-error:0.20463+0.00850\n"
     ]
    },
    {
     "name": "stderr",
     "output_type": "stream",
     "text": [
      "\u001B[32m[I 2023-04-29 18:31:19,109]\u001B[0m Trial 187 finished with value: 0.20463265517517387 and parameters: {'eta': 0.1688023063602486, 'max_depth': 7, 'min_child_weight': 2.3686267721694185, 'subsample': 0.5952416480824516, 'colsample_bynode': 0.1563987960041459}. Best is trial 53 with value: 0.19849697959875512.\u001B[0m\n"
     ]
    },
    {
     "name": "stdout",
     "output_type": "stream",
     "text": [
      "[0]\ttrain-logloss:18.40655+0.12457\ttrain-error:0.49962+0.00338\ttest-logloss:18.40644+0.49841\ttest-error:0.49961+0.01353\n",
      "[99]\ttrain-logloss:6.17272+0.06712\ttrain-error:0.16755+0.00182\ttest-logloss:7.64630+0.24596\ttest-error:0.20755+0.00668\n"
     ]
    },
    {
     "name": "stderr",
     "output_type": "stream",
     "text": [
      "\u001B[32m[I 2023-04-29 18:31:21,310]\u001B[0m Trial 188 finished with value: 0.20754653018753327 and parameters: {'eta': 0.12269044992761885, 'max_depth': 6, 'min_child_weight': 5.178996470722201, 'subsample': 0.47740777163310416, 'colsample_bynode': 0.17714422111840897}. Best is trial 53 with value: 0.19849697959875512.\u001B[0m\n"
     ]
    },
    {
     "name": "stdout",
     "output_type": "stream",
     "text": [
      "[0]\ttrain-logloss:18.40655+0.12457\ttrain-error:0.49962+0.00338\ttest-logloss:18.40644+0.49841\ttest-error:0.49961+0.01353\n",
      "[99]\ttrain-logloss:6.54007+0.14860\ttrain-error:0.17752+0.00403\ttest-logloss:7.49941+0.22602\ttest-error:0.20356+0.00613\n"
     ]
    },
    {
     "name": "stderr",
     "output_type": "stream",
     "text": [
      "\u001B[32m[I 2023-04-29 18:31:23,323]\u001B[0m Trial 189 finished with value: 0.20355962408599315 and parameters: {'eta': 0.16026508825090574, 'max_depth': 6, 'min_child_weight': 5.992553152912997, 'subsample': 0.4486130064039557, 'colsample_bynode': 0.12790508783592228}. Best is trial 53 with value: 0.19849697959875512.\u001B[0m\n"
     ]
    },
    {
     "name": "stdout",
     "output_type": "stream",
     "text": [
      "[0]\ttrain-logloss:18.40655+0.12457\ttrain-error:0.49962+0.00338\ttest-logloss:18.40644+0.49841\ttest-error:0.49961+0.01353\n",
      "[99]\ttrain-logloss:4.36994+0.18929\ttrain-error:0.11862+0.00514\ttest-logloss:7.46550+0.23340\ttest-error:0.20264+0.00634\n"
     ]
    },
    {
     "name": "stderr",
     "output_type": "stream",
     "text": [
      "\u001B[32m[I 2023-04-29 18:31:26,059]\u001B[0m Trial 190 finished with value: 0.2026391432701317 and parameters: {'eta': 0.19671814574562677, 'max_depth': 7, 'min_child_weight': 4.233641390795021, 'subsample': 0.5675008895867666, 'colsample_bynode': 0.19661147560034314}. Best is trial 53 with value: 0.19849697959875512.\u001B[0m\n"
     ]
    },
    {
     "name": "stdout",
     "output_type": "stream",
     "text": [
      "[0]\ttrain-logloss:18.40655+0.12457\ttrain-error:0.49962+0.00338\ttest-logloss:18.40644+0.49841\ttest-error:0.49961+0.01353\n",
      "[99]\ttrain-logloss:6.22641+0.11681\ttrain-error:0.16901+0.00317\ttest-logloss:7.47113+0.24665\ttest-error:0.20279+0.00669\n"
     ]
    },
    {
     "name": "stderr",
     "output_type": "stream",
     "text": [
      "\u001B[32m[I 2023-04-29 18:31:28,426]\u001B[0m Trial 191 finished with value: 0.20279181125199516 and parameters: {'eta': 0.13709375271400545, 'max_depth': 7, 'min_child_weight': 6.779610711220713, 'subsample': 0.6243985617058868, 'colsample_bynode': 0.11347355512821439}. Best is trial 53 with value: 0.19849697959875512.\u001B[0m\n"
     ]
    },
    {
     "name": "stdout",
     "output_type": "stream",
     "text": [
      "[0]\ttrain-logloss:18.40655+0.12457\ttrain-error:0.49962+0.00338\ttest-logloss:18.40644+0.49841\ttest-error:0.49961+0.01353\n",
      "[99]\ttrain-logloss:6.28999+0.13418\ttrain-error:0.17073+0.00364\ttest-logloss:7.48814+0.36698\ttest-error:0.20325+0.00996\n"
     ]
    },
    {
     "name": "stderr",
     "output_type": "stream",
     "text": [
      "\u001B[32m[I 2023-04-29 18:31:30,741]\u001B[0m Trial 192 finished with value: 0.20325358187100084 and parameters: {'eta': 0.1435874883619637, 'max_depth': 7, 'min_child_weight': 7.6534511079657745, 'subsample': 0.6074709959101733, 'colsample_bynode': 0.10285618089891385}. Best is trial 53 with value: 0.19849697959875512.\u001B[0m\n"
     ]
    },
    {
     "name": "stdout",
     "output_type": "stream",
     "text": [
      "[0]\ttrain-logloss:18.40655+0.12457\ttrain-error:0.49962+0.00338\ttest-logloss:18.40644+0.49841\ttest-error:0.49961+0.01353\n",
      "[99]\ttrain-logloss:5.48044+0.22458\ttrain-error:0.14876+0.00610\ttest-logloss:7.47110+0.17738\ttest-error:0.20279+0.00481\n"
     ]
    },
    {
     "name": "stderr",
     "output_type": "stream",
     "text": [
      "\u001B[32m[I 2023-04-29 18:31:33,493]\u001B[0m Trial 193 finished with value: 0.20279122270927402 and parameters: {'eta': 0.11592664712177939, 'max_depth': 7, 'min_child_weight': 5.504193139514363, 'subsample': 0.6487171384318028, 'colsample_bynode': 0.1427070039076278}. Best is trial 53 with value: 0.19849697959875512.\u001B[0m\n"
     ]
    },
    {
     "name": "stdout",
     "output_type": "stream",
     "text": [
      "[0]\ttrain-logloss:18.40655+0.12457\ttrain-error:0.49962+0.00338\ttest-logloss:18.40644+0.49841\ttest-error:0.49961+0.01353\n",
      "[99]\ttrain-logloss:4.92236+0.18469\ttrain-error:0.13361+0.00501\ttest-logloss:7.60678+0.25283\ttest-error:0.20647+0.00686\n"
     ]
    },
    {
     "name": "stderr",
     "output_type": "stream",
     "text": [
      "\u001B[32m[I 2023-04-29 18:31:36,123]\u001B[0m Trial 194 finished with value: 0.20647385222398523 and parameters: {'eta': 0.1756098000876304, 'max_depth': 7, 'min_child_weight': 6.468586152745984, 'subsample': 0.591212168862112, 'colsample_bynode': 0.17236958502231228}. Best is trial 53 with value: 0.19849697959875512.\u001B[0m\n"
     ]
    },
    {
     "name": "stdout",
     "output_type": "stream",
     "text": [
      "[0]\ttrain-logloss:18.40655+0.12457\ttrain-error:0.49962+0.00338\ttest-logloss:18.40644+0.49841\ttest-error:0.49961+0.01353\n",
      "[99]\ttrain-logloss:4.95485+0.15723\ttrain-error:0.13449+0.00427\ttest-logloss:7.49373+0.31520\ttest-error:0.20341+0.00856\n"
     ]
    },
    {
     "name": "stderr",
     "output_type": "stream",
     "text": [
      "\u001B[32m[I 2023-04-29 18:31:38,917]\u001B[0m Trial 195 finished with value: 0.2034053081845105 and parameters: {'eta': 0.12529391009520152, 'max_depth': 7, 'min_child_weight': 5.041472265993991, 'subsample': 0.630794735057644, 'colsample_bynode': 0.2459676900660085}. Best is trial 53 with value: 0.19849697959875512.\u001B[0m\n"
     ]
    },
    {
     "name": "stdout",
     "output_type": "stream",
     "text": [
      "[0]\ttrain-logloss:18.40655+0.12457\ttrain-error:0.49962+0.00338\ttest-logloss:18.40644+0.49841\ttest-error:0.49961+0.01353\n",
      "[99]\ttrain-logloss:5.10462+0.19019\ttrain-error:0.13856+0.00516\ttest-logloss:7.47679+0.19419\ttest-error:0.20295+0.00527\n"
     ]
    },
    {
     "name": "stderr",
     "output_type": "stream",
     "text": [
      "\u001B[32m[I 2023-04-29 18:31:41,214]\u001B[0m Trial 196 finished with value: 0.20294553861075668 and parameters: {'eta': 0.15063003265435418, 'max_depth': 6, 'min_child_weight': 4.6062029100549875, 'subsample': 0.4967542522294677, 'colsample_bynode': 0.35646813413834727}. Best is trial 53 with value: 0.19849697959875512.\u001B[0m\n"
     ]
    },
    {
     "name": "stdout",
     "output_type": "stream",
     "text": [
      "[0]\ttrain-logloss:18.40655+0.12457\ttrain-error:0.49962+0.00338\ttest-logloss:18.40644+0.49841\ttest-error:0.49961+0.01353\n",
      "[99]\ttrain-logloss:6.94414+0.10257\ttrain-error:0.18849+0.00278\ttest-logloss:7.80455+0.26258\ttest-error:0.21184+0.00713\n"
     ]
    },
    {
     "name": "stderr",
     "output_type": "stream",
     "text": [
      "\u001B[32m[I 2023-04-29 18:31:43,052]\u001B[0m Trial 197 finished with value: 0.21184206809203862 and parameters: {'eta': 0.10481876520377605, 'max_depth': 5, 'min_child_weight': 3.871955840839885, 'subsample': 0.6103081331754094, 'colsample_bynode': 0.12285563150137864}. Best is trial 53 with value: 0.19849697959875512.\u001B[0m\n"
     ]
    },
    {
     "name": "stdout",
     "output_type": "stream",
     "text": [
      "[0]\ttrain-logloss:18.40655+0.12457\ttrain-error:0.49962+0.00338\ttest-logloss:18.40644+0.49841\ttest-error:0.49961+0.01353\n",
      "[99]\ttrain-logloss:5.21340+0.09133\ttrain-error:0.14151+0.00248\ttest-logloss:7.40895+0.27565\ttest-error:0.20110+0.00748\n"
     ]
    },
    {
     "name": "stderr",
     "output_type": "stream",
     "text": [
      "\u001B[32m[I 2023-04-29 18:31:45,613]\u001B[0m Trial 198 finished with value: 0.2011042238534011 and parameters: {'eta': 0.16522035689807701, 'max_depth': 7, 'min_child_weight': 9.702404404199907, 'subsample': 0.7026845647760215, 'colsample_bynode': 0.1522213122951378}. Best is trial 53 with value: 0.19849697959875512.\u001B[0m\n"
     ]
    },
    {
     "name": "stdout",
     "output_type": "stream",
     "text": [
      "[0]\ttrain-logloss:18.40655+0.12457\ttrain-error:0.49962+0.00338\ttest-logloss:18.40644+0.49841\ttest-error:0.49961+0.01353\n",
      "[99]\ttrain-logloss:5.54401+0.15101\ttrain-error:0.15048+0.00410\ttest-logloss:7.48241+0.25299\ttest-error:0.20310+0.00687\n"
     ]
    },
    {
     "name": "stderr",
     "output_type": "stream",
     "text": [
      "\u001B[32m[I 2023-04-29 18:31:47,763]\u001B[0m Trial 199 finished with value: 0.20309808888407593 and parameters: {'eta': 0.18980537195046404, 'max_depth': 6, 'min_child_weight': 9.149569204182662, 'subsample': 0.7099520096463526, 'colsample_bynode': 0.15974994872373552}. Best is trial 53 with value: 0.19849697959875512.\u001B[0m\n"
     ]
    },
    {
     "name": "stdout",
     "output_type": "stream",
     "text": [
      "[0]\ttrain-logloss:18.40655+0.12457\ttrain-error:0.49962+0.00338\ttest-logloss:18.40644+0.49841\ttest-error:0.49961+0.01353\n",
      "[99]\ttrain-logloss:0.02543+0.01586\ttrain-error:0.00069+0.00043\ttest-logloss:9.09312+0.48814\ttest-error:0.24682+0.01325\n"
     ]
    },
    {
     "name": "stderr",
     "output_type": "stream",
     "text": [
      "\u001B[32m[I 2023-04-29 18:31:50,814]\u001B[0m Trial 200 finished with value: 0.24681833804952236 and parameters: {'eta': 0.16933377324241414, 'max_depth': 7, 'min_child_weight': 0.1099710134053333, 'subsample': 0.6935764666439121, 'colsample_bynode': 0.21980783391173353}. Best is trial 53 with value: 0.19849697959875512.\u001B[0m\n"
     ]
    },
    {
     "name": "stdout",
     "output_type": "stream",
     "text": [
      "[0]\ttrain-logloss:18.40655+0.12457\ttrain-error:0.49962+0.00338\ttest-logloss:18.40644+0.49841\ttest-error:0.49961+0.01353\n",
      "[99]\ttrain-logloss:5.21905+0.18575\ttrain-error:0.14166+0.00504\ttest-logloss:7.39204+0.22597\ttest-error:0.20065+0.00613\n"
     ]
    },
    {
     "name": "stderr",
     "output_type": "stream",
     "text": [
      "\u001B[32m[I 2023-04-29 18:31:53,383]\u001B[0m Trial 201 finished with value: 0.20064504282236842 and parameters: {'eta': 0.15940417576288982, 'max_depth': 7, 'min_child_weight': 9.91755876476243, 'subsample': 0.7193165073134724, 'colsample_bynode': 0.15076570950793453}. Best is trial 53 with value: 0.19849697959875512.\u001B[0m\n"
     ]
    },
    {
     "name": "stdout",
     "output_type": "stream",
     "text": [
      "[0]\ttrain-logloss:18.40655+0.12457\ttrain-error:0.49962+0.00338\ttest-logloss:18.40644+0.49841\ttest-error:0.49961+0.01353\n",
      "[99]\ttrain-logloss:5.13994+0.09700\ttrain-error:0.13952+0.00263\ttest-logloss:7.41462+0.38112\ttest-error:0.20126+0.01034\n"
     ]
    },
    {
     "name": "stderr",
     "output_type": "stream",
     "text": [
      "\u001B[32m[I 2023-04-29 18:31:55,957]\u001B[0m Trial 202 finished with value: 0.2012580689207068 and parameters: {'eta': 0.16157857421932428, 'max_depth': 7, 'min_child_weight': 9.721825576618613, 'subsample': 0.7270274127479309, 'colsample_bynode': 0.18411172409963605}. Best is trial 53 with value: 0.19849697959875512.\u001B[0m\n"
     ]
    },
    {
     "name": "stdout",
     "output_type": "stream",
     "text": [
      "[0]\ttrain-logloss:18.40655+0.12457\ttrain-error:0.49962+0.00338\ttest-logloss:18.40644+0.49841\ttest-error:0.49961+0.01353\n",
      "[99]\ttrain-logloss:5.16678+0.09543\ttrain-error:0.14024+0.00259\ttest-logloss:7.49940+0.30905\ttest-error:0.20356+0.00839\n"
     ]
    },
    {
     "name": "stderr",
     "output_type": "stream",
     "text": [
      "\u001B[32m[I 2023-04-29 18:31:58,523]\u001B[0m Trial 203 finished with value: 0.20355915325181623 and parameters: {'eta': 0.16150663031223964, 'max_depth': 7, 'min_child_weight': 9.318131986288874, 'subsample': 0.7430699128119241, 'colsample_bynode': 0.14239890243134756}. Best is trial 53 with value: 0.19849697959875512.\u001B[0m\n"
     ]
    },
    {
     "name": "stdout",
     "output_type": "stream",
     "text": [
      "[0]\ttrain-logloss:18.40655+0.12457\ttrain-error:0.49962+0.00338\ttest-logloss:18.40644+0.49841\ttest-error:0.49961+0.01353\n",
      "[99]\ttrain-logloss:4.77260+0.16417\ttrain-error:0.12954+0.00446\ttest-logloss:7.59546+0.19709\ttest-error:0.20617+0.00535\n"
     ]
    },
    {
     "name": "stderr",
     "output_type": "stream",
     "text": [
      "\u001B[32m[I 2023-04-29 18:32:01,134]\u001B[0m Trial 204 finished with value: 0.20616675063209486 and parameters: {'eta': 0.18014015127919628, 'max_depth': 7, 'min_child_weight': 8.675622004247664, 'subsample': 0.7185045333276684, 'colsample_bynode': 0.1832509383942586}. Best is trial 53 with value: 0.19849697959875512.\u001B[0m\n"
     ]
    },
    {
     "name": "stdout",
     "output_type": "stream",
     "text": [
      "[0]\ttrain-logloss:18.40655+0.12457\ttrain-error:0.49962+0.00338\ttest-logloss:18.40644+0.49841\ttest-error:0.49961+0.01353\n",
      "[99]\ttrain-logloss:5.21200+0.19349\ttrain-error:0.14147+0.00525\ttest-logloss:7.44287+0.19780\ttest-error:0.20202+0.00537\n"
     ]
    },
    {
     "name": "stderr",
     "output_type": "stream",
     "text": [
      "\u001B[32m[I 2023-04-29 18:32:03,733]\u001B[0m Trial 205 finished with value: 0.20202482237780678 and parameters: {'eta': 0.15797820843777297, 'max_depth': 7, 'min_child_weight': 9.47319650914853, 'subsample': 0.7252163537967569, 'colsample_bynode': 0.15879057658703713}. Best is trial 53 with value: 0.19849697959875512.\u001B[0m\n"
     ]
    },
    {
     "name": "stdout",
     "output_type": "stream",
     "text": [
      "[0]\ttrain-logloss:18.40655+0.12457\ttrain-error:0.49962+0.00338\ttest-logloss:18.40644+0.49841\ttest-error:0.49961+0.01353\n",
      "[99]\ttrain-logloss:3.49680+0.22364\ttrain-error:0.09492+0.00607\ttest-logloss:7.51071+0.28438\ttest-error:0.20387+0.00772\n"
     ]
    },
    {
     "name": "stderr",
     "output_type": "stream",
     "text": [
      "\u001B[32m[I 2023-04-29 18:32:06,495]\u001B[0m Trial 206 finished with value: 0.20386613713516236 and parameters: {'eta': 0.16954986548056833, 'max_depth': 7, 'min_child_weight': 9.898993011504391, 'subsample': 0.7751516016794967, 'colsample_bynode': 0.4828058050738908}. Best is trial 53 with value: 0.19849697959875512.\u001B[0m\n"
     ]
    },
    {
     "name": "stdout",
     "output_type": "stream",
     "text": [
      "[0]\ttrain-logloss:18.40655+0.12457\ttrain-error:0.49962+0.00338\ttest-logloss:18.40644+0.49841\ttest-error:0.49961+0.01353\n",
      "[99]\ttrain-logloss:4.94638+0.12732\ttrain-error:0.13426+0.00346\ttest-logloss:7.45419+0.16978\ttest-error:0.20233+0.00461\n"
     ]
    },
    {
     "name": "stderr",
     "output_type": "stream",
     "text": [
      "\u001B[32m[I 2023-04-29 18:32:09,069]\u001B[0m Trial 207 finished with value: 0.2023321593867856 and parameters: {'eta': 0.18315965789304345, 'max_depth': 7, 'min_child_weight': 8.155602269238134, 'subsample': 0.7050707837412404, 'colsample_bynode': 0.18792855144366535}. Best is trial 53 with value: 0.19849697959875512.\u001B[0m\n"
     ]
    },
    {
     "name": "stdout",
     "output_type": "stream",
     "text": [
      "[0]\ttrain-logloss:18.40655+0.12457\ttrain-error:0.49962+0.00338\ttest-logloss:18.40644+0.49841\ttest-error:0.49961+0.01353\n",
      "[99]\ttrain-logloss:3.22836+0.18624\ttrain-error:0.08763+0.00506\ttest-logloss:7.62945+0.42473\ttest-error:0.20709+0.01153\n"
     ]
    },
    {
     "name": "stderr",
     "output_type": "stream",
     "text": [
      "\u001B[32m[I 2023-04-29 18:32:11,805]\u001B[0m Trial 208 finished with value: 0.20708911478466394 and parameters: {'eta': 0.19321451892912642, 'max_depth': 7, 'min_child_weight': 7.464468744399518, 'subsample': 0.7320038068506065, 'colsample_bynode': 0.4130861751968395}. Best is trial 53 with value: 0.19849697959875512.\u001B[0m\n"
     ]
    },
    {
     "name": "stdout",
     "output_type": "stream",
     "text": [
      "[0]\ttrain-logloss:18.40655+0.12457\ttrain-error:0.49962+0.00338\ttest-logloss:18.40644+0.49841\ttest-error:0.49961+0.01353\n",
      "[99]\ttrain-logloss:4.16649+0.22591\ttrain-error:0.11309+0.00613\ttest-logloss:7.53331+0.20786\ttest-error:0.20448+0.00564\n"
     ]
    },
    {
     "name": "stderr",
     "output_type": "stream",
     "text": [
      "\u001B[32m[I 2023-04-29 18:32:14,355]\u001B[0m Trial 209 finished with value: 0.20447963406767772 and parameters: {'eta': 0.26743901246612206, 'max_depth': 7, 'min_child_weight': 8.170293986382221, 'subsample': 0.6843555632919737, 'colsample_bynode': 0.16894421336977192}. Best is trial 53 with value: 0.19849697959875512.\u001B[0m\n"
     ]
    },
    {
     "name": "stdout",
     "output_type": "stream",
     "text": [
      "[0]\ttrain-logloss:18.40655+0.12457\ttrain-error:0.49962+0.00338\ttest-logloss:18.40644+0.49841\ttest-error:0.49961+0.01353\n",
      "[99]\ttrain-logloss:4.40667+0.10434\ttrain-error:0.11961+0.00283\ttest-logloss:7.41460+0.20509\ttest-error:0.20126+0.00557\n"
     ]
    },
    {
     "name": "stderr",
     "output_type": "stream",
     "text": [
      "\u001B[32m[I 2023-04-29 18:32:17,466]\u001B[0m Trial 210 finished with value: 0.20125736266944147 and parameters: {'eta': 0.1497712555973889, 'max_depth': 8, 'min_child_weight': 6.554811678205411, 'subsample': 0.6969321676193672, 'colsample_bynode': 0.14954333798109892}. Best is trial 53 with value: 0.19849697959875512.\u001B[0m\n"
     ]
    },
    {
     "name": "stdout",
     "output_type": "stream",
     "text": [
      "[0]\ttrain-logloss:18.40655+0.12457\ttrain-error:0.49962+0.00338\ttest-logloss:18.40644+0.49841\ttest-error:0.49961+0.01353\n",
      "[99]\ttrain-logloss:3.99271+0.12749\ttrain-error:0.10838+0.00346\ttest-logloss:7.53895+0.34075\ttest-error:0.20463+0.00925\n"
     ]
    },
    {
     "name": "stderr",
     "output_type": "stream",
     "text": [
      "\u001B[32m[I 2023-04-29 18:32:20,921]\u001B[0m Trial 211 finished with value: 0.20463277288371806 and parameters: {'eta': 0.15116171420690216, 'max_depth': 9, 'min_child_weight': 7.085517413935651, 'subsample': 0.7082894366975536, 'colsample_bynode': 0.14018423327333607}. Best is trial 53 with value: 0.19849697959875512.\u001B[0m\n"
     ]
    },
    {
     "name": "stdout",
     "output_type": "stream",
     "text": [
      "[0]\ttrain-logloss:18.40655+0.12457\ttrain-error:0.49962+0.00338\ttest-logloss:18.40644+0.49841\ttest-error:0.49961+0.01353\n",
      "[99]\ttrain-logloss:4.67935+0.09895\ttrain-error:0.12701+0.00269\ttest-logloss:7.46545+0.30218\ttest-error:0.20264+0.00820\n"
     ]
    },
    {
     "name": "stderr",
     "output_type": "stream",
     "text": [
      "\u001B[32m[I 2023-04-29 18:32:23,879]\u001B[0m Trial 212 finished with value: 0.20263761305905675 and parameters: {'eta': 0.16420782536889722, 'max_depth': 8, 'min_child_weight': 9.934996617362144, 'subsample': 0.6713634655462066, 'colsample_bynode': 0.15157255912123307}. Best is trial 53 with value: 0.19849697959875512.\u001B[0m\n"
     ]
    },
    {
     "name": "stdout",
     "output_type": "stream",
     "text": [
      "[0]\ttrain-logloss:18.40655+0.12457\ttrain-error:0.49962+0.00338\ttest-logloss:18.40644+0.49841\ttest-error:0.49961+0.01353\n",
      "[99]\ttrain-logloss:2.57138+0.10836\ttrain-error:0.06980+0.00294\ttest-logloss:7.86678+0.31747\ttest-error:0.21353+0.00862\n"
     ]
    },
    {
     "name": "stderr",
     "output_type": "stream",
     "text": [
      "\u001B[32m[I 2023-04-29 18:32:27,679]\u001B[0m Trial 213 finished with value: 0.21353130341025195 and parameters: {'eta': 0.17697774381806664, 'max_depth': 9, 'min_child_weight': 5.972668965693091, 'subsample': 0.7354878911098112, 'colsample_bynode': 0.2024133279521345}. Best is trial 53 with value: 0.19849697959875512.\u001B[0m\n"
     ]
    },
    {
     "name": "stdout",
     "output_type": "stream",
     "text": [
      "[0]\ttrain-logloss:18.40655+0.12457\ttrain-error:0.49962+0.00338\ttest-logloss:18.40644+0.49841\ttest-error:0.49961+0.01353\n",
      "[99]\ttrain-logloss:2.23088+0.09692\ttrain-error:0.06055+0.00263\ttest-logloss:7.88370+0.35732\ttest-error:0.21399+0.00970\n"
     ]
    },
    {
     "name": "stderr",
     "output_type": "stream",
     "text": [
      "\u001B[32m[I 2023-04-29 18:32:31,429]\u001B[0m Trial 214 finished with value: 0.21399036673274038 and parameters: {'eta': 0.1470013160519684, 'max_depth': 8, 'min_child_weight': 1.4245555194093074, 'subsample': 0.7141757639810504, 'colsample_bynode': 0.1681371268189587}. Best is trial 53 with value: 0.19849697959875512.\u001B[0m\n"
     ]
    },
    {
     "name": "stdout",
     "output_type": "stream",
     "text": [
      "[0]\ttrain-logloss:18.40655+0.12457\ttrain-error:0.49962+0.00338\ttest-logloss:18.40644+0.49841\ttest-error:0.49961+0.01353\n",
      "[99]\ttrain-logloss:4.26540+0.23355\ttrain-error:0.11578+0.00634\ttest-logloss:7.46549+0.13033\ttest-error:0.20264+0.00354\n"
     ]
    },
    {
     "name": "stderr",
     "output_type": "stream",
     "text": [
      "\u001B[32m[I 2023-04-29 18:32:34,558]\u001B[0m Trial 215 finished with value: 0.20263890785304323 and parameters: {'eta': 0.15849122071461394, 'max_depth': 8, 'min_child_weight': 6.674260986658524, 'subsample': 0.6836993371283947, 'colsample_bynode': 0.13433923281008958}. Best is trial 53 with value: 0.19849697959875512.\u001B[0m\n"
     ]
    },
    {
     "name": "stdout",
     "output_type": "stream",
     "text": [
      "[0]\ttrain-logloss:18.40655+0.12457\ttrain-error:0.49962+0.00338\ttest-logloss:18.40644+0.49841\ttest-error:0.49961+0.01353\n",
      "[99]\ttrain-logloss:6.08937+0.11476\ttrain-error:0.16529+0.00312\ttest-logloss:7.45414+0.25837\ttest-error:0.20233+0.00701\n"
     ]
    },
    {
     "name": "stderr",
     "output_type": "stream",
     "text": [
      "\u001B[32m[I 2023-04-29 18:32:36,457]\u001B[0m Trial 216 finished with value: 0.2023308645927991 and parameters: {'eta': 0.17115710325662592, 'max_depth': 5, 'min_child_weight': 7.4539198328917715, 'subsample': 0.6983263176903157, 'colsample_bynode': 0.18393630117707868}. Best is trial 53 with value: 0.19849697959875512.\u001B[0m\n"
     ]
    },
    {
     "name": "stdout",
     "output_type": "stream",
     "text": [
      "[0]\ttrain-logloss:18.40655+0.12457\ttrain-error:0.49962+0.00338\ttest-logloss:18.40644+0.49841\ttest-error:0.49961+0.01353\n",
      "[99]\ttrain-logloss:0.22181+0.06872\ttrain-error:0.00602+0.00187\ttest-logloss:9.81654+0.49886\ttest-error:0.26645+0.01354\n"
     ]
    },
    {
     "name": "stderr",
     "output_type": "stream",
     "text": [
      "\u001B[32m[I 2023-04-29 18:32:39,578]\u001B[0m Trial 217 finished with value: 0.2664543596890611 and parameters: {'eta': 0.13937766134252053, 'max_depth': 7, 'min_child_weight': 0.014770026919038127, 'subsample': 0.7522219162410305, 'colsample_bynode': 0.8591230662535}. Best is trial 53 with value: 0.19849697959875512.\u001B[0m\n"
     ]
    },
    {
     "name": "stdout",
     "output_type": "stream",
     "text": [
      "[0]\ttrain-logloss:18.40655+0.12457\ttrain-error:0.49962+0.00338\ttest-logloss:18.40644+0.49841\ttest-error:0.49961+0.01353\n",
      "[99]\ttrain-logloss:4.65533+0.26768\ttrain-error:0.12636+0.00727\ttest-logloss:7.48812+0.38069\ttest-error:0.20325+0.01033\n"
     ]
    },
    {
     "name": "stderr",
     "output_type": "stream",
     "text": [
      "\u001B[32m[I 2023-04-29 18:32:42,148]\u001B[0m Trial 218 finished with value: 0.20325311103682395 and parameters: {'eta': 0.20244525696381052, 'max_depth': 7, 'min_child_weight': 8.028087896397237, 'subsample': 0.6594606102895021, 'colsample_bynode': 0.15182306505307133}. Best is trial 53 with value: 0.19849697959875512.\u001B[0m\n"
     ]
    },
    {
     "name": "stdout",
     "output_type": "stream",
     "text": [
      "[0]\ttrain-logloss:18.40655+0.12457\ttrain-error:0.49962+0.00338\ttest-logloss:18.40644+0.49841\ttest-error:0.49961+0.01353\n",
      "[99]\ttrain-logloss:4.40243+0.10955\ttrain-error:0.11950+0.00297\ttest-logloss:7.52199+0.20308\ttest-error:0.20417+0.00551\n"
     ]
    },
    {
     "name": "stderr",
     "output_type": "stream",
     "text": [
      "\u001B[32m[I 2023-04-29 18:32:44,858]\u001B[0m Trial 219 finished with value: 0.2041722970586989 and parameters: {'eta': 0.18702910478310522, 'max_depth': 7, 'min_child_weight': 5.571137533393561, 'subsample': 0.7249132817601451, 'colsample_bynode': 0.19976643622902499}. Best is trial 53 with value: 0.19849697959875512.\u001B[0m\n"
     ]
    },
    {
     "name": "stdout",
     "output_type": "stream",
     "text": [
      "[0]\ttrain-logloss:18.40655+0.12457\ttrain-error:0.49962+0.00338\ttest-logloss:18.40644+0.49841\ttest-error:0.49961+0.01353\n",
      "[99]\ttrain-logloss:1.77030+0.10180\ttrain-error:0.04805+0.00276\ttest-logloss:7.86114+0.38562\ttest-error:0.21338+0.01047\n"
     ]
    },
    {
     "name": "stderr",
     "output_type": "stream",
     "text": [
      "\u001B[32m[I 2023-04-29 18:32:48,650]\u001B[0m Trial 220 finished with value: 0.21337804688566733 and parameters: {'eta': 0.1564474485767467, 'max_depth': 8, 'min_child_weight': 1.7981192313540608, 'subsample': 0.830069865715854, 'colsample_bynode': 0.17196593388584244}. Best is trial 53 with value: 0.19849697959875512.\u001B[0m\n"
     ]
    },
    {
     "name": "stdout",
     "output_type": "stream",
     "text": [
      "[0]\ttrain-logloss:18.40655+0.12457\ttrain-error:0.49962+0.00338\ttest-logloss:18.40644+0.49841\ttest-error:0.49961+0.01353\n",
      "[99]\ttrain-logloss:5.54683+0.08434\ttrain-error:0.15056+0.00229\ttest-logloss:7.47681+0.29748\ttest-error:0.20295+0.00807\n"
     ]
    },
    {
     "name": "stderr",
     "output_type": "stream",
     "text": [
      "\u001B[32m[I 2023-04-29 18:32:50,944]\u001B[0m Trial 221 finished with value: 0.20294612715347782 and parameters: {'eta': 0.1437862559165827, 'max_depth': 6, 'min_child_weight': 4.857413329419719, 'subsample': 0.45905013583457577, 'colsample_bynode': 0.21336245194004883}. Best is trial 53 with value: 0.19849697959875512.\u001B[0m\n"
     ]
    },
    {
     "name": "stdout",
     "output_type": "stream",
     "text": [
      "[0]\ttrain-logloss:18.40655+0.12457\ttrain-error:0.49962+0.00338\ttest-logloss:18.40644+0.49841\ttest-error:0.49961+0.01353\n",
      "[99]\ttrain-logloss:5.83788+0.04051\ttrain-error:0.15846+0.00110\ttest-logloss:7.42588+0.15235\ttest-error:0.20156+0.00414\n"
     ]
    },
    {
     "name": "stderr",
     "output_type": "stream",
     "text": [
      "\u001B[32m[I 2023-04-29 18:32:53,213]\u001B[0m Trial 222 finished with value: 0.20156364030152218 and parameters: {'eta': 0.1357093849615411, 'max_depth': 6, 'min_child_weight': 4.255230951092847, 'subsample': 0.5124631826538003, 'colsample_bynode': 0.19034006010833832}. Best is trial 53 with value: 0.19849697959875512.\u001B[0m\n"
     ]
    },
    {
     "name": "stdout",
     "output_type": "stream",
     "text": [
      "[0]\ttrain-logloss:18.40655+0.12457\ttrain-error:0.49962+0.00338\ttest-logloss:18.40644+0.49841\ttest-error:0.49961+0.01353\n",
      "[99]\ttrain-logloss:5.58639+0.04104\ttrain-error:0.15163+0.00111\ttest-logloss:7.60676+0.27109\ttest-error:0.20647+0.00736\n"
     ]
    },
    {
     "name": "stderr",
     "output_type": "stream",
     "text": [
      "\u001B[32m[I 2023-04-29 18:32:55,609]\u001B[0m Trial 223 finished with value: 0.20647326368126412 and parameters: {'eta': 0.13006275918984433, 'max_depth': 6, 'min_child_weight': 2.7210325538164164, 'subsample': 0.350198842158314, 'colsample_bynode': 0.22232027003456045}. Best is trial 53 with value: 0.19849697959875512.\u001B[0m\n"
     ]
    },
    {
     "name": "stdout",
     "output_type": "stream",
     "text": [
      "[0]\ttrain-logloss:18.40655+0.12457\ttrain-error:0.49962+0.00338\ttest-logloss:18.40644+0.49841\ttest-error:0.49961+0.01353\n",
      "[99]\ttrain-logloss:5.55814+0.11818\ttrain-error:0.15087+0.00321\ttest-logloss:7.53328+0.22381\ttest-error:0.20448+0.00608\n"
     ]
    },
    {
     "name": "stderr",
     "output_type": "stream",
     "text": [
      "\u001B[32m[I 2023-04-29 18:32:57,893]\u001B[0m Trial 224 finished with value: 0.20447881010786811 and parameters: {'eta': 0.16605580404544296, 'max_depth': 6, 'min_child_weight': 3.519750002018211, 'subsample': 0.43355034854520774, 'colsample_bynode': 0.17527837307340285}. Best is trial 53 with value: 0.19849697959875512.\u001B[0m\n"
     ]
    },
    {
     "name": "stdout",
     "output_type": "stream",
     "text": [
      "[0]\ttrain-logloss:18.40655+0.12457\ttrain-error:0.49962+0.00338\ttest-logloss:18.40644+0.49841\ttest-error:0.49961+0.01353\n",
      "[99]\ttrain-logloss:5.08484+0.11464\ttrain-error:0.13802+0.00311\ttest-logloss:7.76504+0.20328\ttest-error:0.21077+0.00552\n"
     ]
    },
    {
     "name": "stderr",
     "output_type": "stream",
     "text": [
      "\u001B[32m[I 2023-04-29 18:33:00,237]\u001B[0m Trial 225 finished with value: 0.2107696255455791 and parameters: {'eta': 0.15113815433184635, 'max_depth': 6, 'min_child_weight': 2.313689693568856, 'subsample': 0.23330323549099263, 'colsample_bynode': 0.534587135907631}. Best is trial 53 with value: 0.19849697959875512.\u001B[0m\n"
     ]
    },
    {
     "name": "stdout",
     "output_type": "stream",
     "text": [
      "[0]\ttrain-logloss:18.40655+0.12457\ttrain-error:0.49962+0.00338\ttest-logloss:18.40644+0.49841\ttest-error:0.49961+0.01353\n",
      "[99]\ttrain-logloss:5.97775+0.05767\ttrain-error:0.16226+0.00157\ttest-logloss:7.53895+0.18262\ttest-error:0.20463+0.00496\n"
     ]
    },
    {
     "name": "stderr",
     "output_type": "stream",
     "text": [
      "\u001B[32m[I 2023-04-29 18:33:02,506]\u001B[0m Trial 226 finished with value: 0.20463265517517387 and parameters: {'eta': 0.21002041322444204, 'max_depth': 7, 'min_child_weight': 6.245499692445518, 'subsample': 0.47926632247286266, 'colsample_bynode': 0.12571136220574813}. Best is trial 53 with value: 0.19849697959875512.\u001B[0m\n"
     ]
    },
    {
     "name": "stdout",
     "output_type": "stream",
     "text": [
      "[0]\ttrain-logloss:18.40655+0.12457\ttrain-error:0.49962+0.00338\ttest-logloss:18.40644+0.49841\ttest-error:0.49961+0.01353\n",
      "[99]\ttrain-logloss:5.87885+0.10490\ttrain-error:0.15957+0.00285\ttest-logloss:7.52204+0.33426\ttest-error:0.20417+0.00907\n"
     ]
    },
    {
     "name": "stderr",
     "output_type": "stream",
     "text": [
      "\u001B[32m[I 2023-04-29 18:33:04,355]\u001B[0m Trial 227 finished with value: 0.20417382726977387 and parameters: {'eta': 0.17800141827683663, 'max_depth': 5, 'min_child_weight': 5.08852211238732, 'subsample': 0.52983998592181, 'colsample_bynode': 0.2047885499828127}. Best is trial 53 with value: 0.19849697959875512.\u001B[0m\n"
     ]
    },
    {
     "name": "stdout",
     "output_type": "stream",
     "text": [
      "[0]\ttrain-logloss:18.40655+0.12457\ttrain-error:0.49962+0.00338\ttest-logloss:18.40644+0.49841\ttest-error:0.49961+0.01353\n",
      "[99]\ttrain-logloss:5.86614+0.12299\ttrain-error:0.15923+0.00334\ttest-logloss:7.40896+0.25855\ttest-error:0.20110+0.00702\n"
     ]
    },
    {
     "name": "stderr",
     "output_type": "stream",
     "text": [
      "\u001B[32m[I 2023-04-29 18:33:06,667]\u001B[0m Trial 228 finished with value: 0.2011044592704895 and parameters: {'eta': 0.11481082947961352, 'max_depth': 6, 'min_child_weight': 4.481584514172679, 'subsample': 0.6997049963060712, 'colsample_bynode': 0.15514727195500475}. Best is trial 53 with value: 0.19849697959875512.\u001B[0m\n"
     ]
    },
    {
     "name": "stdout",
     "output_type": "stream",
     "text": [
      "[0]\ttrain-logloss:18.40655+0.12457\ttrain-error:0.49962+0.00338\ttest-logloss:18.40644+0.49841\ttest-error:0.49961+0.01353\n",
      "[99]\ttrain-logloss:5.74887+0.12633\ttrain-error:0.15604+0.00343\ttest-logloss:7.52204+0.27620\ttest-error:0.20417+0.00750\n"
     ]
    },
    {
     "name": "stderr",
     "output_type": "stream",
     "text": [
      "\u001B[32m[I 2023-04-29 18:33:09,071]\u001B[0m Trial 229 finished with value: 0.20417382726977387 and parameters: {'eta': 0.10643659334823541, 'max_depth': 6, 'min_child_weight': 3.1050698986339014, 'subsample': 0.7129193202942804, 'colsample_bynode': 0.15289392069827568}. Best is trial 53 with value: 0.19849697959875512.\u001B[0m\n"
     ]
    },
    {
     "name": "stdout",
     "output_type": "stream",
     "text": [
      "[0]\ttrain-logloss:18.40655+0.12457\ttrain-error:0.49962+0.00338\ttest-logloss:18.40644+0.49841\ttest-error:0.49961+0.01353\n",
      "[99]\ttrain-logloss:5.85484+0.16343\ttrain-error:0.15892+0.00444\ttest-logloss:7.58982+0.23928\ttest-error:0.20601+0.00649\n"
     ]
    },
    {
     "name": "stderr",
     "output_type": "stream",
     "text": [
      "\u001B[32m[I 2023-04-29 18:33:11,075]\u001B[0m Trial 230 finished with value: 0.2060136118160545 and parameters: {'eta': 0.09719993169589974, 'max_depth': 5, 'min_child_weight': 2.0435131053868147, 'subsample': 0.6957284363362484, 'colsample_bynode': 0.1396968640204066}. Best is trial 53 with value: 0.19849697959875512.\u001B[0m\n"
     ]
    },
    {
     "name": "stdout",
     "output_type": "stream",
     "text": [
      "[0]\ttrain-logloss:18.40655+0.12457\ttrain-error:0.49962+0.00338\ttest-logloss:18.40644+0.49841\ttest-error:0.49961+0.01353\n",
      "[99]\ttrain-logloss:3.18173+0.14960\ttrain-error:0.08636+0.00406\ttest-logloss:8.16068+0.32910\ttest-error:0.22151+0.00893\n"
     ]
    },
    {
     "name": "stderr",
     "output_type": "stream",
     "text": [
      "\u001B[32m[I 2023-04-29 18:33:13,304]\u001B[0m Trial 231 finished with value: 0.22150876457820318 and parameters: {'eta': 0.4850211524262834, 'max_depth': 6, 'min_child_weight': 4.612492101569701, 'subsample': 0.6882953133146373, 'colsample_bynode': 0.1640880770253714}. Best is trial 53 with value: 0.19849697959875512.\u001B[0m\n"
     ]
    },
    {
     "name": "stdout",
     "output_type": "stream",
     "text": [
      "[0]\ttrain-logloss:18.40655+0.12457\ttrain-error:0.49962+0.00338\ttest-logloss:18.40644+0.49841\ttest-error:0.49961+0.01353\n",
      "[99]\ttrain-logloss:0.61035+0.10987\ttrain-error:0.01657+0.00298\ttest-logloss:8.59021+0.44816\ttest-error:0.23317+0.01216\n"
     ]
    },
    {
     "name": "stderr",
     "output_type": "stream",
     "text": [
      "\u001B[32m[I 2023-04-29 18:33:15,899]\u001B[0m Trial 232 finished with value: 0.23316744275833495 and parameters: {'eta': 0.11642622609878979, 'max_depth': 6, 'min_child_weight': 0.5977232082628383, 'subsample': 0.6633245832691569, 'colsample_bynode': 0.18526667038111036}. Best is trial 53 with value: 0.19849697959875512.\u001B[0m\n"
     ]
    },
    {
     "name": "stdout",
     "output_type": "stream",
     "text": [
      "[0]\ttrain-logloss:18.40655+0.12457\ttrain-error:0.49962+0.00338\ttest-logloss:18.40644+0.49841\ttest-error:0.49961+0.01353\n",
      "[99]\ttrain-logloss:5.36740+0.07724\ttrain-error:0.14569+0.00210\ttest-logloss:7.58419+0.37543\ttest-error:0.20586+0.01019\n"
     ]
    },
    {
     "name": "stderr",
     "output_type": "stream",
     "text": [
      "\u001B[32m[I 2023-04-29 18:33:18,314]\u001B[0m Trial 233 finished with value: 0.2058608261256468 and parameters: {'eta': 0.12736703821669568, 'max_depth': 6, 'min_child_weight': 3.9732031703866375, 'subsample': 0.6421701451586203, 'colsample_bynode': 0.23581141884767792}. Best is trial 53 with value: 0.19849697959875512.\u001B[0m\n"
     ]
    },
    {
     "name": "stdout",
     "output_type": "stream",
     "text": [
      "[0]\ttrain-logloss:18.40655+0.12457\ttrain-error:0.49962+0.00338\ttest-logloss:18.40644+0.49841\ttest-error:0.49961+0.01353\n",
      "[99]\ttrain-logloss:5.54401+0.16153\ttrain-error:0.15048+0.00438\ttest-logloss:7.39765+0.19250\ttest-error:0.20080+0.00523\n"
     ]
    },
    {
     "name": "stderr",
     "output_type": "stream",
     "text": [
      "\u001B[32m[I 2023-04-29 18:33:20,589]\u001B[0m Trial 234 finished with value: 0.2007974753871434 and parameters: {'eta': 0.14495303124938208, 'max_depth': 6, 'min_child_weight': 5.5019059858858155, 'subsample': 0.7327852126782157, 'colsample_bynode': 0.19543285966359022}. Best is trial 53 with value: 0.19849697959875512.\u001B[0m\n"
     ]
    },
    {
     "name": "stdout",
     "output_type": "stream",
     "text": [
      "[0]\ttrain-logloss:18.40655+0.12457\ttrain-error:0.49962+0.00338\ttest-logloss:18.40644+0.49841\ttest-error:0.49961+0.01353\n",
      "[99]\ttrain-logloss:1.86779+0.12868\ttrain-error:0.05070+0.00349\ttest-logloss:8.11548+0.54589\ttest-error:0.22028+0.01482\n"
     ]
    },
    {
     "name": "stderr",
     "output_type": "stream",
     "text": [
      "\u001B[32m[I 2023-04-29 18:33:24,412]\u001B[0m Trial 235 finished with value: 0.22028165300462832 and parameters: {'eta': 0.3083743743946716, 'max_depth': 10, 'min_child_weight': 5.600747448269431, 'subsample': 0.7336679785727636, 'colsample_bynode': 0.15889400152124572}. Best is trial 53 with value: 0.19849697959875512.\u001B[0m\n"
     ]
    },
    {
     "name": "stdout",
     "output_type": "stream",
     "text": [
      "[0]\ttrain-logloss:18.40655+0.12457\ttrain-error:0.49962+0.00338\ttest-logloss:18.40644+0.49841\ttest-error:0.49961+0.01353\n",
      "[99]\ttrain-logloss:5.70790+0.10451\ttrain-error:0.15493+0.00284\ttest-logloss:7.58413+0.19039\ttest-error:0.20586+0.00517\n"
     ]
    },
    {
     "name": "stderr",
     "output_type": "stream",
     "text": [
      "\u001B[32m[I 2023-04-29 18:33:26,634]\u001B[0m Trial 236 finished with value: 0.2058591782060276 and parameters: {'eta': 0.14689043934140458, 'max_depth': 6, 'min_child_weight': 6.3612008293200955, 'subsample': 0.712115619260038, 'colsample_bynode': 0.19364949545377405}. Best is trial 53 with value: 0.19849697959875512.\u001B[0m\n"
     ]
    },
    {
     "name": "stdout",
     "output_type": "stream",
     "text": [
      "[0]\ttrain-logloss:18.40655+0.12457\ttrain-error:0.49962+0.00338\ttest-logloss:18.40644+0.49841\ttest-error:0.49961+0.01353\n",
      "[99]\ttrain-logloss:0.07629+0.03325\ttrain-error:0.00207+0.00090\ttest-logloss:9.94092+0.60874\ttest-error:0.26983+0.01652\n"
     ]
    },
    {
     "name": "stderr",
     "output_type": "stream",
     "text": [
      "\u001B[32m[I 2023-04-29 18:33:29,704]\u001B[0m Trial 237 finished with value: 0.2698303584460589 and parameters: {'eta': 0.16540746474843082, 'max_depth': 7, 'min_child_weight': 0.8657525375298778, 'subsample': 0.7546251366955082, 'colsample_bynode': 0.7351567968111902}. Best is trial 53 with value: 0.19849697959875512.\u001B[0m\n"
     ]
    },
    {
     "name": "stdout",
     "output_type": "stream",
     "text": [
      "[0]\ttrain-logloss:18.40655+0.12457\ttrain-error:0.49962+0.00338\ttest-logloss:18.40644+0.49841\ttest-error:0.49961+0.01353\n",
      "[99]\ttrain-logloss:6.26031+0.06722\ttrain-error:0.16993+0.00182\ttest-logloss:7.46549+0.19261\ttest-error:0.20264+0.00523\n"
     ]
    },
    {
     "name": "stderr",
     "output_type": "stream",
     "text": [
      "\u001B[32m[I 2023-04-29 18:33:31,975]\u001B[0m Trial 238 finished with value: 0.20263890785304323 and parameters: {'eta': 0.15535682459119632, 'max_depth': 7, 'min_child_weight': 9.956904501179613, 'subsample': 0.6772327162400036, 'colsample_bynode': 0.12698816217596703}. Best is trial 53 with value: 0.19849697959875512.\u001B[0m\n"
     ]
    },
    {
     "name": "stdout",
     "output_type": "stream",
     "text": [
      "[0]\ttrain-logloss:18.40655+0.12457\ttrain-error:0.49962+0.00338\ttest-logloss:18.40644+0.49841\ttest-error:0.49961+0.01353\n",
      "[99]\ttrain-logloss:2.42586+0.17399\ttrain-error:0.06585+0.00472\ttest-logloss:8.15495+0.48110\ttest-error:0.22135+0.01306\n"
     ]
    },
    {
     "name": "stderr",
     "output_type": "stream",
     "text": [
      "\u001B[32m[I 2023-04-29 18:33:34,236]\u001B[0m Trial 239 finished with value: 0.22135315388273402 and parameters: {'eta': 0.3962962868915562, 'max_depth': 6, 'min_child_weight': 5.217458791048174, 'subsample': 0.7204861743584814, 'colsample_bynode': 0.5987672048566172}. Best is trial 53 with value: 0.19849697959875512.\u001B[0m\n"
     ]
    },
    {
     "name": "stdout",
     "output_type": "stream",
     "text": [
      "[0]\ttrain-logloss:18.40655+0.12457\ttrain-error:0.49962+0.00338\ttest-logloss:18.40644+0.49841\ttest-error:0.49961+0.01353\n",
      "[99]\ttrain-logloss:3.57027+0.15216\ttrain-error:0.09691+0.00413\ttest-logloss:7.55024+0.26682\ttest-error:0.20494+0.00724\n"
     ]
    },
    {
     "name": "stderr",
     "output_type": "stream",
     "text": [
      "\u001B[32m[I 2023-04-29 18:33:36,952]\u001B[0m Trial 240 finished with value: 0.20493916822434305 and parameters: {'eta': 0.18857751620866514, 'max_depth': 7, 'min_child_weight': 8.481173333569672, 'subsample': 0.7421657474414031, 'colsample_bynode': 0.33525701400367003}. Best is trial 53 with value: 0.19849697959875512.\u001B[0m\n"
     ]
    },
    {
     "name": "stdout",
     "output_type": "stream",
     "text": [
      "[0]\ttrain-logloss:18.40655+0.12457\ttrain-error:0.49962+0.00338\ttest-logloss:18.40644+0.49841\ttest-error:0.49961+0.01353\n",
      "[99]\ttrain-logloss:5.50445+0.15962\ttrain-error:0.14941+0.00433\ttest-logloss:7.42025+0.38061\ttest-error:0.20141+0.01033\n"
     ]
    },
    {
     "name": "stderr",
     "output_type": "stream",
     "text": [
      "\u001B[32m[I 2023-04-29 18:33:39,265]\u001B[0m Trial 241 finished with value: 0.2014107369025703 and parameters: {'eta': 0.1315916350009838, 'max_depth': 6, 'min_child_weight': 4.462539300876249, 'subsample': 0.5574914014908515, 'colsample_bynode': 0.21428292425722162}. Best is trial 53 with value: 0.19849697959875512.\u001B[0m\n"
     ]
    },
    {
     "name": "stdout",
     "output_type": "stream",
     "text": [
      "[0]\ttrain-logloss:18.40655+0.12457\ttrain-error:0.49962+0.00338\ttest-logloss:18.40644+0.49841\ttest-error:0.49961+0.01353\n",
      "[99]\ttrain-logloss:5.82375+0.09272\ttrain-error:0.15808+0.00252\ttest-logloss:7.44854+0.16906\ttest-error:0.20218+0.00459\n"
     ]
    },
    {
     "name": "stderr",
     "output_type": "stream",
     "text": [
      "\u001B[32m[I 2023-04-29 18:33:41,550]\u001B[0m Trial 242 finished with value: 0.20217878515365678 and parameters: {'eta': 0.13530117291906033, 'max_depth': 6, 'min_child_weight': 4.381180839843217, 'subsample': 0.5580404434982731, 'colsample_bynode': 0.17931659274459522}. Best is trial 53 with value: 0.19849697959875512.\u001B[0m\n"
     ]
    },
    {
     "name": "stdout",
     "output_type": "stream",
     "text": [
      "[0]\ttrain-logloss:18.40655+0.12457\ttrain-error:0.49962+0.00338\ttest-logloss:18.40644+0.49841\ttest-error:0.49961+0.01353\n",
      "[99]\ttrain-logloss:5.70931+0.13293\ttrain-error:0.15497+0.00361\ttest-logloss:7.53325+0.28518\ttest-error:0.20448+0.00774\n"
     ]
    },
    {
     "name": "stderr",
     "output_type": "stream",
     "text": [
      "\u001B[32m[I 2023-04-29 18:33:43,928]\u001B[0m Trial 243 finished with value: 0.20447810385660273 and parameters: {'eta': 0.11242434145300464, 'max_depth': 6, 'min_child_weight': 3.573276394705676, 'subsample': 0.5610750445586551, 'colsample_bynode': 0.21131479829374966}. Best is trial 53 with value: 0.19849697959875512.\u001B[0m\n"
     ]
    },
    {
     "name": "stdout",
     "output_type": "stream",
     "text": [
      "[0]\ttrain-logloss:18.40655+0.12457\ttrain-error:0.49962+0.00338\ttest-logloss:18.40644+0.49841\ttest-error:0.49961+0.01353\n",
      "[99]\ttrain-logloss:5.05657+0.08847\ttrain-error:0.13725+0.00240\ttest-logloss:7.63500+0.33178\ttest-error:0.20724+0.00901\n"
     ]
    },
    {
     "name": "stderr",
     "output_type": "stream",
     "text": [
      "\u001B[32m[I 2023-04-29 18:33:46,238]\u001B[0m Trial 244 finished with value: 0.207240017138364 and parameters: {'eta': 0.17511959146612485, 'max_depth': 6, 'min_child_weight': 4.4785509215976305, 'subsample': 0.5432062601054839, 'colsample_bynode': 0.2307046316546403}. Best is trial 53 with value: 0.19849697959875512.\u001B[0m\n"
     ]
    },
    {
     "name": "stdout",
     "output_type": "stream",
     "text": [
      "[0]\ttrain-logloss:18.40655+0.12457\ttrain-error:0.49962+0.00338\ttest-logloss:18.40644+0.49841\ttest-error:0.49961+0.01353\n",
      "[99]\ttrain-logloss:6.10067+0.12935\ttrain-error:0.16559+0.00351\ttest-logloss:7.57848+0.19927\ttest-error:0.20571+0.00541\n"
     ]
    },
    {
     "name": "stderr",
     "output_type": "stream",
     "text": [
      "\u001B[32m[I 2023-04-29 18:33:48,128]\u001B[0m Trial 245 finished with value: 0.20570580397289878 and parameters: {'eta': 0.14266747575036773, 'max_depth': 5, 'min_child_weight': 5.642461017787876, 'subsample': 0.5855267970908875, 'colsample_bynode': 0.28619614498071927}. Best is trial 53 with value: 0.19849697959875512.\u001B[0m\n"
     ]
    },
    {
     "name": "stdout",
     "output_type": "stream",
     "text": [
      "[0]\ttrain-logloss:18.40655+0.12457\ttrain-error:0.49962+0.00338\ttest-logloss:18.40644+0.49841\ttest-error:0.49961+0.01353\n",
      "[99]\ttrain-logloss:5.39848+0.13803\ttrain-error:0.14653+0.00375\ttest-logloss:7.48806+0.27218\ttest-error:0.20325+0.00739\n"
     ]
    },
    {
     "name": "stderr",
     "output_type": "stream",
     "text": [
      "\u001B[32m[I 2023-04-29 18:33:50,536]\u001B[0m Trial 246 finished with value: 0.20325146311720474 and parameters: {'eta': 0.12289505495615173, 'max_depth': 6, 'min_child_weight': 3.96638514930837, 'subsample': 0.7024532473980024, 'colsample_bynode': 0.20210873627006887}. Best is trial 53 with value: 0.19849697959875512.\u001B[0m\n"
     ]
    },
    {
     "name": "stdout",
     "output_type": "stream",
     "text": [
      "[0]\ttrain-logloss:18.40655+0.12457\ttrain-error:0.49962+0.00338\ttest-logloss:18.40644+0.49841\ttest-error:0.49961+0.01353\n",
      "[99]\ttrain-logloss:5.85201+0.12433\ttrain-error:0.15884+0.00337\ttest-logloss:7.41461+0.28384\ttest-error:0.20126+0.00770\n"
     ]
    },
    {
     "name": "stderr",
     "output_type": "stream",
     "text": [
      "\u001B[32m[I 2023-04-29 18:33:52,694]\u001B[0m Trial 247 finished with value: 0.20125771579507412 and parameters: {'eta': 0.1582988775963004, 'max_depth': 6, 'min_child_weight': 7.236752511569065, 'subsample': 0.5160706756408514, 'colsample_bynode': 0.17100008656492094}. Best is trial 53 with value: 0.19849697959875512.\u001B[0m\n"
     ]
    },
    {
     "name": "stdout",
     "output_type": "stream",
     "text": [
      "[0]\ttrain-logloss:18.40655+0.12457\ttrain-error:0.49962+0.00338\ttest-logloss:18.40644+0.49841\ttest-error:0.49961+0.01353\n",
      "[99]\ttrain-logloss:4.87432+0.19067\ttrain-error:0.13231+0.00518\ttest-logloss:7.48810+0.26721\ttest-error:0.20325+0.00725\n"
     ]
    },
    {
     "name": "stderr",
     "output_type": "stream",
     "text": [
      "\u001B[32m[I 2023-04-29 18:33:54,959]\u001B[0m Trial 248 finished with value: 0.20325240478555856 and parameters: {'eta': 0.16484239993298833, 'max_depth': 6, 'min_child_weight': 6.970947715549643, 'subsample': 0.5236422090519645, 'colsample_bynode': 0.3658627928121096}. Best is trial 53 with value: 0.19849697959875512.\u001B[0m\n"
     ]
    },
    {
     "name": "stdout",
     "output_type": "stream",
     "text": [
      "[0]\ttrain-logloss:18.40655+0.12457\ttrain-error:0.49962+0.00338\ttest-logloss:18.40644+0.49841\ttest-error:0.49961+0.01353\n",
      "[99]\ttrain-logloss:6.65167+0.10702\ttrain-error:0.18055+0.00290\ttest-logloss:7.52197+0.23062\ttest-error:0.20417+0.00626\n"
     ]
    },
    {
     "name": "stderr",
     "output_type": "stream",
     "text": [
      "\u001B[32m[I 2023-04-29 18:33:57,152]\u001B[0m Trial 249 finished with value: 0.2041719439330662 and parameters: {'eta': 0.08169621752464068, 'max_depth': 6, 'min_child_weight': 7.899561284965808, 'subsample': 0.5035989736262876, 'colsample_bynode': 0.14534500603322}. Best is trial 53 with value: 0.19849697959875512.\u001B[0m\n"
     ]
    },
    {
     "name": "stdout",
     "output_type": "stream",
     "text": [
      "[0]\ttrain-logloss:18.40655+0.12457\ttrain-error:0.49962+0.00338\ttest-logloss:18.40644+0.49841\ttest-error:0.49961+0.01353\n",
      "[99]\ttrain-logloss:3.01643+0.13938\ttrain-error:0.08188+0.00378\ttest-logloss:8.17184+0.43645\ttest-error:0.22181+0.01185\n"
     ]
    },
    {
     "name": "stderr",
     "output_type": "stream",
     "text": [
      "\u001B[32m[I 2023-04-29 18:33:59,563]\u001B[0m Trial 250 finished with value: 0.22181162866250137 and parameters: {'eta': 0.22739577106324196, 'max_depth': 6, 'min_child_weight': 1.1699191335312975, 'subsample': 0.5487837705136018, 'colsample_bynode': 0.16985418982488087}. Best is trial 53 with value: 0.19849697959875512.\u001B[0m\n"
     ]
    },
    {
     "name": "stdout",
     "output_type": "stream",
     "text": [
      "[0]\ttrain-logloss:18.40655+0.12457\ttrain-error:0.49962+0.00338\ttest-logloss:18.40644+0.49841\ttest-error:0.49961+0.01353\n",
      "[99]\ttrain-logloss:3.44736+0.26358\ttrain-error:0.09357+0.00715\ttest-logloss:8.22286+0.44763\ttest-error:0.22320+0.01215\n"
     ]
    },
    {
     "name": "stderr",
     "output_type": "stream",
     "text": [
      "\u001B[32m[I 2023-04-29 18:34:01,748]\u001B[0m Trial 251 finished with value: 0.22319646968534151 and parameters: {'eta': 0.452531533695609, 'max_depth': 6, 'min_child_weight': 6.339763760509824, 'subsample': 0.5370302674185095, 'colsample_bynode': 0.2543535787950876}. Best is trial 53 with value: 0.19849697959875512.\u001B[0m\n"
     ]
    },
    {
     "name": "stdout",
     "output_type": "stream",
     "text": [
      "[0]\ttrain-logloss:18.40655+0.12457\ttrain-error:0.49962+0.00338\ttest-logloss:18.40644+0.49841\ttest-error:0.49961+0.01353\n",
      "[99]\ttrain-logloss:4.93084+0.12207\ttrain-error:0.13384+0.00331\ttest-logloss:7.59547+0.26795\ttest-error:0.20617+0.00727\n"
     ]
    },
    {
     "name": "stderr",
     "output_type": "stream",
     "text": [
      "\u001B[32m[I 2023-04-29 18:34:04,258]\u001B[0m Trial 252 finished with value: 0.2061668683406391 and parameters: {'eta': 0.19680347385811786, 'max_depth': 7, 'min_child_weight': 8.531821841625074, 'subsample': 0.5737673312664191, 'colsample_bynode': 0.15653289893284045}. Best is trial 53 with value: 0.19849697959875512.\u001B[0m\n"
     ]
    },
    {
     "name": "stdout",
     "output_type": "stream",
     "text": [
      "[0]\ttrain-logloss:18.40655+0.12457\ttrain-error:0.49962+0.00338\ttest-logloss:18.40644+0.49841\ttest-error:0.49961+0.01353\n",
      "[99]\ttrain-logloss:5.72768+0.10331\ttrain-error:0.15547+0.00280\ttest-logloss:7.53326+0.15067\ttest-error:0.20448+0.00409\n"
     ]
    },
    {
     "name": "stderr",
     "output_type": "stream",
     "text": [
      "\u001B[32m[I 2023-04-29 18:34:06,472]\u001B[0m Trial 253 finished with value: 0.20447833927369122 and parameters: {'eta': 0.14973436355290995, 'max_depth': 6, 'min_child_weight': 7.035182773156575, 'subsample': 0.7678676714184031, 'colsample_bynode': 0.1918523145297687}. Best is trial 53 with value: 0.19849697959875512.\u001B[0m\n"
     ]
    },
    {
     "name": "stdout",
     "output_type": "stream",
     "text": [
      "[0]\ttrain-logloss:18.40655+0.12457\ttrain-error:0.49962+0.00338\ttest-logloss:18.40644+0.49841\ttest-error:0.49961+0.01353\n",
      "[99]\ttrain-logloss:3.56461+0.11664\ttrain-error:0.09676+0.00317\ttest-logloss:7.66896+0.32076\ttest-error:0.20816+0.00871\n"
     ]
    },
    {
     "name": "stderr",
     "output_type": "stream",
     "text": [
      "\u001B[32m[I 2023-04-29 18:34:09,457]\u001B[0m Trial 254 finished with value: 0.20816167503966776 and parameters: {'eta': 0.13432830246380628, 'max_depth': 7, 'min_child_weight': 1.4170631846271593, 'subsample': 0.4937954457109852, 'colsample_bynode': 0.17488513505225012}. Best is trial 53 with value: 0.19849697959875512.\u001B[0m\n"
     ]
    },
    {
     "name": "stdout",
     "output_type": "stream",
     "text": [
      "[0]\ttrain-logloss:18.40655+0.12457\ttrain-error:0.49962+0.00338\ttest-logloss:18.40644+0.49841\ttest-error:0.49961+0.01353\n",
      "[99]\ttrain-logloss:0.05228+0.02590\ttrain-error:0.00142+0.00070\ttest-logloss:9.23446+0.45824\ttest-error:0.25065+0.01244\n"
     ]
    },
    {
     "name": "stderr",
     "output_type": "stream",
     "text": [
      "\u001B[32m[I 2023-04-29 18:34:12,052]\u001B[0m Trial 255 finished with value: 0.2506546949229951 and parameters: {'eta': 0.18320109470352103, 'max_depth': 6, 'min_child_weight': 0.34630795242078705, 'subsample': 0.726204076273089, 'colsample_bynode': 0.3205963639949046}. Best is trial 53 with value: 0.19849697959875512.\u001B[0m\n"
     ]
    },
    {
     "name": "stdout",
     "output_type": "stream",
     "text": [
      "[0]\ttrain-logloss:18.40655+0.12457\ttrain-error:0.49962+0.00338\ttest-logloss:18.40644+0.49841\ttest-error:0.49961+0.01353\n",
      "[99]\ttrain-logloss:3.37246+0.18994\ttrain-error:0.09154+0.00516\ttest-logloss:7.50505+0.27235\ttest-error:0.20371+0.00739\n"
     ]
    },
    {
     "name": "stderr",
     "output_type": "stream",
     "text": [
      "\u001B[32m[I 2023-04-29 18:34:15,037]\u001B[0m Trial 256 finished with value: 0.20371264519348933 and parameters: {'eta': 0.17517517665009522, 'max_depth': 7, 'min_child_weight': 2.1700762629179193, 'subsample': 0.5224977734516579, 'colsample_bynode': 0.22235534840699772}. Best is trial 53 with value: 0.19849697959875512.\u001B[0m\n"
     ]
    },
    {
     "name": "stdout",
     "output_type": "stream",
     "text": [
      "[0]\ttrain-logloss:18.40655+0.12457\ttrain-error:0.49962+0.00338\ttest-logloss:18.40644+0.49841\ttest-error:0.49961+0.01353\n",
      "[99]\ttrain-logloss:4.00118+0.20807\ttrain-error:0.10861+0.00565\ttest-logloss:7.47681+0.24834\ttest-error:0.20295+0.00674\n"
     ]
    },
    {
     "name": "stderr",
     "output_type": "stream",
     "text": [
      "\u001B[32m[I 2023-04-29 18:34:17,419]\u001B[0m Trial 257 finished with value: 0.20294612715347782 and parameters: {'eta': 0.15675111620498441, 'max_depth': 6, 'min_child_weight': 4.951635841334132, 'subsample': 0.6921397803234273, 'colsample_bynode': 0.9701649030945375}. Best is trial 53 with value: 0.19849697959875512.\u001B[0m\n"
     ]
    },
    {
     "name": "stdout",
     "output_type": "stream",
     "text": [
      "[0]\ttrain-logloss:18.40655+0.12457\ttrain-error:0.49962+0.00338\ttest-logloss:18.40644+0.49841\ttest-error:0.49961+0.01353\n",
      "[99]\ttrain-logloss:6.86078+0.06814\ttrain-error:0.18622+0.00185\ttest-logloss:7.47114+0.29369\ttest-error:0.20279+0.00797\n"
     ]
    },
    {
     "name": "stderr",
     "output_type": "stream",
     "text": [
      "\u001B[32m[I 2023-04-29 18:34:19,586]\u001B[0m Trial 258 finished with value: 0.20279216437762781 and parameters: {'eta': 0.14260374129944925, 'max_depth': 7, 'min_child_weight': 3.0975277635563043, 'subsample': 0.14794050633125078, 'colsample_bynode': 0.11813241260080773}. Best is trial 53 with value: 0.19849697959875512.\u001B[0m\n"
     ]
    },
    {
     "name": "stdout",
     "output_type": "stream",
     "text": [
      "[0]\ttrain-logloss:18.40655+0.12457\ttrain-error:0.49962+0.00338\ttest-logloss:18.40644+0.49841\ttest-error:0.49961+0.01353\n",
      "[99]\ttrain-logloss:4.85312+0.10545\ttrain-error:0.13173+0.00286\ttest-logloss:7.44852+0.28167\ttest-error:0.20218+0.00765\n"
     ]
    },
    {
     "name": "stderr",
     "output_type": "stream",
     "text": [
      "\u001B[32m[I 2023-04-29 18:34:22,053]\u001B[0m Trial 259 finished with value: 0.20217819661093558 and parameters: {'eta': 0.12384221122123105, 'max_depth': 6, 'min_child_weight': 2.523375181261448, 'subsample': 0.6692227886370399, 'colsample_bynode': 0.1380900496330653}. Best is trial 53 with value: 0.19849697959875512.\u001B[0m\n"
     ]
    },
    {
     "name": "stdout",
     "output_type": "stream",
     "text": [
      "[0]\ttrain-logloss:18.40655+0.12457\ttrain-error:0.49962+0.00338\ttest-logloss:18.40644+0.49841\ttest-error:0.49961+0.01353\n",
      "[99]\ttrain-logloss:5.27134+0.23174\ttrain-error:0.14308+0.00629\ttest-logloss:7.49938+0.22498\ttest-error:0.20356+0.00611\n"
     ]
    },
    {
     "name": "stderr",
     "output_type": "stream",
     "text": [
      "\u001B[32m[I 2023-04-29 18:34:24,620]\u001B[0m Trial 260 finished with value: 0.20355880012618358 and parameters: {'eta': 0.1673916042718122, 'max_depth': 7, 'min_child_weight': 6.010300939970193, 'subsample': 0.4811018384867189, 'colsample_bynode': 0.16673428254724276}. Best is trial 53 with value: 0.19849697959875512.\u001B[0m\n"
     ]
    },
    {
     "name": "stdout",
     "output_type": "stream",
     "text": [
      "[0]\ttrain-logloss:18.40655+0.12457\ttrain-error:0.49962+0.00338\ttest-logloss:18.40644+0.49841\ttest-error:0.49961+0.01353\n",
      "[99]\ttrain-logloss:3.58863+0.13253\ttrain-error:0.09741+0.00360\ttest-logloss:7.66330+0.27936\ttest-error:0.20801+0.00758\n"
     ]
    },
    {
     "name": "stderr",
     "output_type": "stream",
     "text": [
      "\u001B[32m[I 2023-04-29 18:34:27,022]\u001B[0m Trial 261 finished with value: 0.20800794768090625 and parameters: {'eta': 0.21339916834817332, 'max_depth': 6, 'min_child_weight': 3.6714760492251597, 'subsample': 0.7368784234541088, 'colsample_bynode': 0.48736118502785913}. Best is trial 53 with value: 0.19849697959875512.\u001B[0m\n"
     ]
    },
    {
     "name": "stdout",
     "output_type": "stream",
     "text": [
      "[0]\ttrain-logloss:18.40655+0.12457\ttrain-error:0.49962+0.00338\ttest-logloss:18.40644+0.49841\ttest-error:0.49961+0.01353\n",
      "[99]\ttrain-logloss:2.99382+0.15242\ttrain-error:0.08126+0.00414\ttest-logloss:8.03073+0.41003\ttest-error:0.21798+0.01113\n"
     ]
    },
    {
     "name": "stderr",
     "output_type": "stream",
     "text": [
      "\u001B[32m[I 2023-04-29 18:34:29,450]\u001B[0m Trial 262 finished with value: 0.2179812749247842 and parameters: {'eta': 0.259629142661075, 'max_depth': 6, 'min_child_weight': 1.57105105880598, 'subsample': 0.5180394014309445, 'colsample_bynode': 0.19985686410082512}. Best is trial 53 with value: 0.19849697959875512.\u001B[0m\n"
     ]
    },
    {
     "name": "stdout",
     "output_type": "stream",
     "text": [
      "[0]\ttrain-logloss:18.40655+0.12457\ttrain-error:0.49962+0.00338\ttest-logloss:18.40644+0.49841\ttest-error:0.49961+0.01353\n",
      "[99]\ttrain-logloss:6.36346+0.08243\ttrain-error:0.17273+0.00224\ttest-logloss:7.45414+0.21494\ttest-error:0.20233+0.00583\n"
     ]
    },
    {
     "name": "stderr",
     "output_type": "stream",
     "text": [
      "\u001B[32m[I 2023-04-29 18:34:31,978]\u001B[0m Trial 263 finished with value: 0.2023306291757106 and parameters: {'eta': 0.09415295574118505, 'max_depth': 7, 'min_child_weight': 7.293768041155831, 'subsample': 0.4043808966142347, 'colsample_bynode': 0.1498916500592099}. Best is trial 53 with value: 0.19849697959875512.\u001B[0m\n"
     ]
    },
    {
     "name": "stdout",
     "output_type": "stream",
     "text": [
      "[0]\ttrain-logloss:18.40655+0.12457\ttrain-error:0.49962+0.00338\ttest-logloss:18.40644+0.49841\ttest-error:0.49961+0.01353\n",
      "[99]\ttrain-logloss:5.30948+0.11240\ttrain-error:0.14412+0.00305\ttest-logloss:7.39200+0.27409\ttest-error:0.20064+0.00744\n"
     ]
    },
    {
     "name": "stderr",
     "output_type": "stream",
     "text": [
      "\u001B[32m[I 2023-04-29 18:34:34,201]\u001B[0m Trial 264 finished with value: 0.20064410115401454 and parameters: {'eta': 0.19566481419392195, 'max_depth': 6, 'min_child_weight': 5.37315536672623, 'subsample': 0.5697910784661548, 'colsample_bynode': 0.17507132788900404}. Best is trial 53 with value: 0.19849697959875512.\u001B[0m\n"
     ]
    },
    {
     "name": "stdout",
     "output_type": "stream",
     "text": [
      "[0]\ttrain-logloss:18.40655+0.12457\ttrain-error:0.49962+0.00338\ttest-logloss:18.40644+0.49841\ttest-error:0.49961+0.01353\n",
      "[99]\ttrain-logloss:3.41910+0.22494\ttrain-error:0.09281+0.00611\ttest-logloss:7.75375+0.24576\ttest-error:0.21046+0.00667\n"
     ]
    },
    {
     "name": "stderr",
     "output_type": "stream",
     "text": [
      "\u001B[32m[I 2023-04-29 18:34:37,664]\u001B[0m Trial 265 finished with value: 0.2104631124964099 and parameters: {'eta': 0.19769197336132213, 'max_depth': 9, 'min_child_weight': 5.526560765239344, 'subsample': 0.5751734451893532, 'colsample_bynode': 0.18040907275699897}. Best is trial 53 with value: 0.19849697959875512.\u001B[0m\n"
     ]
    },
    {
     "name": "stdout",
     "output_type": "stream",
     "text": [
      "[0]\ttrain-logloss:18.40655+0.12457\ttrain-error:0.49962+0.00338\ttest-logloss:18.40644+0.49841\ttest-error:0.49961+0.01353\n",
      "[99]\ttrain-logloss:1.95114+0.11321\ttrain-error:0.05296+0.00307\ttest-logloss:8.03061+0.59133\ttest-error:0.21798+0.01605\n"
     ]
    },
    {
     "name": "stderr",
     "output_type": "stream",
     "text": [
      "\u001B[32m[I 2023-04-29 18:34:40,762]\u001B[0m Trial 266 finished with value: 0.21797809679409008 and parameters: {'eta': 0.18484966960618596, 'max_depth': 7, 'min_child_weight': 1.8183936054378909, 'subsample': 0.6468089467361213, 'colsample_bynode': 0.30130546724685436}. Best is trial 53 with value: 0.19849697959875512.\u001B[0m\n"
     ]
    },
    {
     "name": "stdout",
     "output_type": "stream",
     "text": [
      "[0]\ttrain-logloss:18.40655+0.12457\ttrain-error:0.49962+0.00338\ttest-logloss:18.40644+0.49841\ttest-error:0.49961+0.01353\n",
      "[99]\ttrain-logloss:0.24018+0.03764\ttrain-error:0.00652+0.00102\ttest-logloss:8.71450+0.34579\ttest-error:0.23654+0.00939\n"
     ]
    },
    {
     "name": "stderr",
     "output_type": "stream",
     "text": [
      "\u001B[32m[I 2023-04-29 18:34:43,518]\u001B[0m Trial 267 finished with value: 0.2365412050529924 and parameters: {'eta': 0.23801570012650736, 'max_depth': 7, 'min_child_weight': 0.4587680126055744, 'subsample': 0.7041522840540031, 'colsample_bynode': 0.13240819004424093}. Best is trial 53 with value: 0.19849697959875512.\u001B[0m\n"
     ]
    },
    {
     "name": "stdout",
     "output_type": "stream",
     "text": [
      "[0]\ttrain-logloss:18.40655+0.12457\ttrain-error:0.49962+0.00338\ttest-logloss:18.40644+0.49841\ttest-error:0.49961+0.01353\n",
      "[99]\ttrain-logloss:4.91246+0.15120\ttrain-error:0.13334+0.00410\ttest-logloss:7.84411+0.25476\ttest-error:0.21292+0.00692\n"
     ]
    },
    {
     "name": "stderr",
     "output_type": "stream",
     "text": [
      "\u001B[32m[I 2023-04-29 18:34:46,352]\u001B[0m Trial 268 finished with value: 0.21291592314102897 and parameters: {'eta': 0.026177053123796618, 'max_depth': 6, 'min_child_weight': 0.2570486502556468, 'subsample': 0.6009555909442811, 'colsample_bynode': 0.16357510857937668}. Best is trial 53 with value: 0.19849697959875512.\u001B[0m\n"
     ]
    },
    {
     "name": "stdout",
     "output_type": "stream",
     "text": [
      "[0]\ttrain-logloss:18.40655+0.12457\ttrain-error:0.49962+0.00338\ttest-logloss:18.40644+0.49841\ttest-error:0.49961+0.01353\n",
      "[99]\ttrain-logloss:6.48214+0.03394\ttrain-error:0.17595+0.00092\ttest-logloss:7.52198+0.19895\ttest-error:0.20417+0.00540\n"
     ]
    },
    {
     "name": "stderr",
     "output_type": "stream",
     "text": [
      "\u001B[32m[I 2023-04-29 18:34:48,310]\u001B[0m Trial 269 finished with value: 0.20417217935015466 and parameters: {'eta': 0.19211099668792775, 'max_depth': 6, 'min_child_weight': 8.73534142194508, 'subsample': 0.4440647041185447, 'colsample_bynode': 0.11312712721915948}. Best is trial 53 with value: 0.19849697959875512.\u001B[0m\n"
     ]
    },
    {
     "name": "stdout",
     "output_type": "stream",
     "text": [
      "[0]\ttrain-logloss:18.40655+0.12457\ttrain-error:0.49962+0.00338\ttest-logloss:18.40644+0.49841\ttest-error:0.49961+0.01353\n",
      "[99]\ttrain-logloss:5.09613+0.18378\ttrain-error:0.13833+0.00499\ttest-logloss:7.43157+0.16182\ttest-error:0.20172+0.00439\n"
     ]
    },
    {
     "name": "stderr",
     "output_type": "stream",
     "text": [
      "\u001B[32m[I 2023-04-29 18:34:50,943]\u001B[0m Trial 270 finished with value: 0.20171807391154908 and parameters: {'eta': 0.1722609422429398, 'max_depth': 7, 'min_child_weight': 5.920195923722514, 'subsample': 0.4978455725074977, 'colsample_bynode': 0.18817783638851232}. Best is trial 53 with value: 0.19849697959875512.\u001B[0m\n"
     ]
    },
    {
     "name": "stdout",
     "output_type": "stream",
     "text": [
      "[0]\ttrain-logloss:18.40655+0.12457\ttrain-error:0.49962+0.00338\ttest-logloss:18.40644+0.49841\ttest-error:0.49961+0.01353\n",
      "[99]\ttrain-logloss:4.49568+0.14374\ttrain-error:0.12203+0.00390\ttest-logloss:7.63504+0.34862\ttest-error:0.20724+0.00946\n"
     ]
    },
    {
     "name": "stderr",
     "output_type": "stream",
     "text": [
      "\u001B[32m[I 2023-04-29 18:34:53,679]\u001B[0m Trial 271 finished with value: 0.20724107651526208 and parameters: {'eta': 0.18090123375887707, 'max_depth': 7, 'min_child_weight': 4.87123789015991, 'subsample': 0.6754459993134423, 'colsample_bynode': 0.15088908296323267}. Best is trial 53 with value: 0.19849697959875512.\u001B[0m\n"
     ]
    },
    {
     "name": "stdout",
     "output_type": "stream",
     "text": [
      "[0]\ttrain-logloss:18.40655+0.12457\ttrain-error:0.49962+0.00338\ttest-logloss:18.40644+0.49841\ttest-error:0.49961+0.01353\n",
      "[99]\ttrain-logloss:5.16961+0.09831\ttrain-error:0.14032+0.00267\ttest-logloss:7.56721+0.20031\ttest-error:0.20540+0.00544\n"
     ]
    },
    {
     "name": "stderr",
     "output_type": "stream",
     "text": [
      "\u001B[32m[I 2023-04-29 18:34:55,879]\u001B[0m Trial 272 finished with value: 0.20539976175790647 and parameters: {'eta': 0.20888746610275005, 'max_depth': 6, 'min_child_weight': 7.465282172542902, 'subsample': 0.7113709824010463, 'colsample_bynode': 0.17337818325625823}. Best is trial 53 with value: 0.19849697959875512.\u001B[0m\n"
     ]
    },
    {
     "name": "stdout",
     "output_type": "stream",
     "text": [
      "[0]\ttrain-logloss:18.40655+0.12457\ttrain-error:0.49962+0.00338\ttest-logloss:18.40644+0.49841\ttest-error:0.49961+0.01353\n",
      "[99]\ttrain-logloss:4.13400+0.16854\ttrain-error:0.11221+0.00457\ttest-logloss:7.33552+0.24805\ttest-error:0.19911+0.00673\n"
     ]
    },
    {
     "name": "stderr",
     "output_type": "stream",
     "text": [
      "\u001B[32m[I 2023-04-29 18:34:58,945]\u001B[0m Trial 273 finished with value: 0.19911094736544738 and parameters: {'eta': 0.15791044801516824, 'max_depth': 8, 'min_child_weight': 9.738472561601476, 'subsample': 0.47479974489692234, 'colsample_bynode': 0.39704003343232386}. Best is trial 53 with value: 0.19849697959875512.\u001B[0m\n"
     ]
    },
    {
     "name": "stdout",
     "output_type": "stream",
     "text": [
      "[0]\ttrain-logloss:18.40655+0.12457\ttrain-error:0.49962+0.00338\ttest-logloss:18.40644+0.49841\ttest-error:0.49961+0.01353\n",
      "[99]\ttrain-logloss:5.02832+0.12703\ttrain-error:0.13649+0.00345\ttest-logloss:7.55592+0.24667\ttest-error:0.20509+0.00670\n"
     ]
    },
    {
     "name": "stderr",
     "output_type": "stream",
     "text": [
      "\u001B[32m[I 2023-04-29 18:35:01,843]\u001B[0m Trial 274 finished with value: 0.20509336641728151 and parameters: {'eta': 0.16129844632110188, 'max_depth': 8, 'min_child_weight': 7.8056135413765935, 'subsample': 0.4700219746062468, 'colsample_bynode': 0.14025556634429306}. Best is trial 53 with value: 0.19849697959875512.\u001B[0m\n"
     ]
    },
    {
     "name": "stdout",
     "output_type": "stream",
     "text": [
      "[0]\ttrain-logloss:18.40655+0.12457\ttrain-error:0.49962+0.00338\ttest-logloss:18.40644+0.49841\ttest-error:0.49961+0.01353\n",
      "[99]\ttrain-logloss:5.00572+0.20388\ttrain-error:0.13587+0.00553\ttest-logloss:7.40898+0.13607\ttest-error:0.20110+0.00369\n"
     ]
    },
    {
     "name": "stderr",
     "output_type": "stream",
     "text": [
      "\u001B[32m[I 2023-04-29 18:35:04,620]\u001B[0m Trial 275 finished with value: 0.20110481239612224 and parameters: {'eta': 0.1906787545522507, 'max_depth': 8, 'min_child_weight': 9.662094557442542, 'subsample': 0.46358129447926194, 'colsample_bynode': 0.16110447032024733}. Best is trial 53 with value: 0.19849697959875512.\u001B[0m\n"
     ]
    },
    {
     "name": "stdout",
     "output_type": "stream",
     "text": [
      "[0]\ttrain-logloss:18.40655+0.12457\ttrain-error:0.49962+0.00338\ttest-logloss:18.40644+0.49841\ttest-error:0.49961+0.01353\n",
      "[99]\ttrain-logloss:3.65221+0.18158\ttrain-error:0.09913+0.00493\ttest-logloss:7.65202+0.47666\ttest-error:0.20770+0.01294\n"
     ]
    },
    {
     "name": "stderr",
     "output_type": "stream",
     "text": [
      "\u001B[32m[I 2023-04-29 18:35:07,633]\u001B[0m Trial 276 finished with value: 0.20770178775736975 and parameters: {'eta': 0.2039348916719294, 'max_depth': 8, 'min_child_weight': 8.80862076243603, 'subsample': 0.47331222780844123, 'colsample_bynode': 0.26895420158102235}. Best is trial 53 with value: 0.19849697959875512.\u001B[0m\n"
     ]
    },
    {
     "name": "stdout",
     "output_type": "stream",
     "text": [
      "[0]\ttrain-logloss:18.40655+0.12457\ttrain-error:0.49962+0.00338\ttest-logloss:18.40644+0.49841\ttest-error:0.49961+0.01353\n",
      "[99]\ttrain-logloss:4.99724+0.20195\ttrain-error:0.13564+0.00548\ttest-logloss:7.66894+0.39962\ttest-error:0.20816+0.01085\n"
     ]
    },
    {
     "name": "stderr",
     "output_type": "stream",
     "text": [
      "\u001B[32m[I 2023-04-29 18:35:10,395]\u001B[0m Trial 277 finished with value: 0.20816108649694662 and parameters: {'eta': 0.20082908682804287, 'max_depth': 8, 'min_child_weight': 9.885960647575924, 'subsample': 0.45968040510775815, 'colsample_bynode': 0.1568938727925961}. Best is trial 53 with value: 0.19849697959875512.\u001B[0m\n"
     ]
    },
    {
     "name": "stdout",
     "output_type": "stream",
     "text": [
      "[0]\ttrain-logloss:18.40655+0.12457\ttrain-error:0.49962+0.00338\ttest-logloss:18.40644+0.49841\ttest-error:0.49961+0.01353\n",
      "[99]\ttrain-logloss:2.23088+0.12460\ttrain-error:0.06055+0.00338\ttest-logloss:8.04197+0.39441\ttest-error:0.21829+0.01071\n"
     ]
    },
    {
     "name": "stderr",
     "output_type": "stream",
     "text": [
      "\u001B[32m[I 2023-04-29 18:35:13,907]\u001B[0m Trial 278 finished with value: 0.21828637547142274 and parameters: {'eta': 0.21740051692742932, 'max_depth': 8, 'min_child_weight': 2.777325294039309, 'subsample': 0.4273458812564902, 'colsample_bynode': 0.3955630624000465}. Best is trial 53 with value: 0.19849697959875512.\u001B[0m\n"
     ]
    },
    {
     "name": "stdout",
     "output_type": "stream",
     "text": [
      "[0]\ttrain-logloss:18.40655+0.12457\ttrain-error:0.49962+0.00338\ttest-logloss:18.40644+0.49841\ttest-error:0.49961+0.01353\n",
      "[99]\ttrain-logloss:2.54877+0.10854\ttrain-error:0.06918+0.00295\ttest-logloss:8.05326+0.47236\ttest-error:0.21859+0.01282\n"
     ]
    },
    {
     "name": "stderr",
     "output_type": "stream",
     "text": [
      "\u001B[32m[I 2023-04-29 18:35:17,000]\u001B[0m Trial 279 finished with value: 0.2185927708120477 and parameters: {'eta': 0.28756752412168307, 'max_depth': 8, 'min_child_weight': 6.992290071626036, 'subsample': 0.4876455088736992, 'colsample_bynode': 0.36982917958645456}. Best is trial 53 with value: 0.19849697959875512.\u001B[0m\n"
     ]
    },
    {
     "name": "stdout",
     "output_type": "stream",
     "text": [
      "[0]\ttrain-logloss:18.40655+0.12457\ttrain-error:0.49962+0.00338\ttest-logloss:18.40644+0.49841\ttest-error:0.49961+0.01353\n",
      "[99]\ttrain-logloss:6.08795+0.05000\ttrain-error:0.16525+0.00136\ttest-logloss:7.42026+0.21848\ttest-error:0.20141+0.00593\n"
     ]
    },
    {
     "name": "stderr",
     "output_type": "stream",
     "text": [
      "\u001B[32m[I 2023-04-29 18:35:19,408]\u001B[0m Trial 280 finished with value: 0.2014112077367472 and parameters: {'eta': 0.19168137061742624, 'max_depth': 8, 'min_child_weight': 8.61677203475255, 'subsample': 0.45933587245365176, 'colsample_bynode': 0.1225351742137068}. Best is trial 53 with value: 0.19849697959875512.\u001B[0m\n"
     ]
    },
    {
     "name": "stdout",
     "output_type": "stream",
     "text": [
      "[0]\ttrain-logloss:18.40655+0.12457\ttrain-error:0.49962+0.00338\ttest-logloss:18.40644+0.49841\ttest-error:0.49961+0.01353\n",
      "[99]\ttrain-logloss:4.00966+0.14644\ttrain-error:0.10884+0.00397\ttest-logloss:7.65769+0.31930\ttest-error:0.20786+0.00867\n"
     ]
    },
    {
     "name": "stderr",
     "output_type": "stream",
     "text": [
      "\u001B[32m[I 2023-04-29 18:35:22,816]\u001B[0m Trial 281 finished with value: 0.2078557505332197 and parameters: {'eta': 0.18658309411460544, 'max_depth': 8, 'min_child_weight': 3.29861041824183, 'subsample': 0.4410601276870255, 'colsample_bynode': 0.14235016269787829}. Best is trial 53 with value: 0.19849697959875512.\u001B[0m\n"
     ]
    },
    {
     "name": "stdout",
     "output_type": "stream",
     "text": [
      "[0]\ttrain-logloss:18.40655+0.12457\ttrain-error:0.49962+0.00338\ttest-logloss:18.40644+0.49841\ttest-error:0.49961+0.01353\n",
      "[99]\ttrain-logloss:2.07830+0.05775\ttrain-error:0.05641+0.00157\ttest-logloss:7.97413+0.27271\ttest-error:0.21645+0.00740\n"
     ]
    },
    {
     "name": "stderr",
     "output_type": "stream",
     "text": [
      "\u001B[32m[I 2023-04-29 18:35:26,522]\u001B[0m Trial 282 finished with value: 0.2164450607140671 and parameters: {'eta': 0.1717485175767284, 'max_depth': 8, 'min_child_weight': 2.3488322924776845, 'subsample': 0.509866208519984, 'colsample_bynode': 0.44642275545952437}. Best is trial 53 with value: 0.19849697959875512.\u001B[0m\n"
     ]
    },
    {
     "name": "stdout",
     "output_type": "stream",
     "text": [
      "[0]\ttrain-logloss:18.40655+0.12457\ttrain-error:0.49962+0.00338\ttest-logloss:18.40644+0.49841\ttest-error:0.49961+0.01353\n",
      "[99]\ttrain-logloss:5.39001+0.11051\ttrain-error:0.14630+0.00300\ttest-logloss:7.43721+0.24551\ttest-error:0.20187+0.00666\n"
     ]
    },
    {
     "name": "stderr",
     "output_type": "stream",
     "text": [
      "\u001B[32m[I 2023-04-29 18:35:30,099]\u001B[0m Trial 283 finished with value: 0.20187109501904527 and parameters: {'eta': 0.10579661224262114, 'max_depth': 8, 'min_child_weight': 3.939930633452267, 'subsample': 0.3834796114309892, 'colsample_bynode': 0.16810786343414308}. Best is trial 53 with value: 0.19849697959875512.\u001B[0m\n"
     ]
    },
    {
     "name": "stdout",
     "output_type": "stream",
     "text": [
      "[0]\ttrain-logloss:18.40655+0.12457\ttrain-error:0.49962+0.00338\ttest-logloss:18.40644+0.49841\ttest-error:0.49961+0.01353\n",
      "[99]\ttrain-logloss:3.32585+0.25325\ttrain-error:0.09027+0.00687\ttest-logloss:7.48248+0.38031\ttest-error:0.20310+0.01032\n"
     ]
    },
    {
     "name": "stderr",
     "output_type": "stream",
     "text": [
      "\u001B[32m[I 2023-04-29 18:35:34,592]\u001B[0m Trial 284 finished with value: 0.20310008992932777 and parameters: {'eta': 0.1797676327166276, 'max_depth': 8, 'min_child_weight': 6.246205061762677, 'subsample': 0.5395145580641018, 'colsample_bynode': 0.33253574976577627}. Best is trial 53 with value: 0.19849697959875512.\u001B[0m\n"
     ]
    },
    {
     "name": "stdout",
     "output_type": "stream",
     "text": [
      "[0]\ttrain-logloss:18.40655+0.12457\ttrain-error:0.49962+0.00338\ttest-logloss:18.40644+0.49841\ttest-error:0.49961+0.01353\n",
      "[99]\ttrain-logloss:5.18515+0.20016\ttrain-error:0.14074+0.00543\ttest-logloss:7.47111+0.06670\ttest-error:0.20279+0.00181\n"
     ]
    },
    {
     "name": "stderr",
     "output_type": "stream",
     "text": [
      "\u001B[32m[I 2023-04-29 18:35:37,286]\u001B[0m Trial 285 finished with value: 0.20279145812636248 and parameters: {'eta': 0.15192826072185647, 'max_depth': 6, 'min_child_weight': 4.9443810210515915, 'subsample': 0.48880033225608077, 'colsample_bynode': 0.30935308377276116}. Best is trial 53 with value: 0.19849697959875512.\u001B[0m\n"
     ]
    },
    {
     "name": "stdout",
     "output_type": "stream",
     "text": [
      "[0]\ttrain-logloss:18.40655+0.12457\ttrain-error:0.49962+0.00338\ttest-logloss:18.40644+0.49841\ttest-error:0.49961+0.01353\n",
      "[99]\ttrain-logloss:4.12410+0.09071\ttrain-error:0.11194+0.00246\ttest-logloss:7.52764+0.24009\ttest-error:0.20433+0.00652\n"
     ]
    },
    {
     "name": "stderr",
     "output_type": "stream",
     "text": [
      "\u001B[32m[I 2023-04-29 18:35:39,815]\u001B[0m Trial 286 finished with value: 0.20432578900037196 and parameters: {'eta': 0.18883715827942044, 'max_depth': 6, 'min_child_weight': 2.0299930613750967, 'subsample': 0.6327684135310181, 'colsample_bynode': 0.19315277741166992}. Best is trial 53 with value: 0.19849697959875512.\u001B[0m\n"
     ]
    },
    {
     "name": "stdout",
     "output_type": "stream",
     "text": [
      "[0]\ttrain-logloss:18.40655+0.12457\ttrain-error:0.49962+0.00338\ttest-logloss:18.40644+0.49841\ttest-error:0.49961+0.01353\n",
      "[99]\ttrain-logloss:4.60729+0.11025\ttrain-error:0.12506+0.00299\ttest-logloss:7.68593+0.33933\ttest-error:0.20862+0.00921\n"
     ]
    },
    {
     "name": "stderr",
     "output_type": "stream",
     "text": [
      "\u001B[32m[I 2023-04-29 18:35:41,960]\u001B[0m Trial 287 finished with value: 0.2086223862817754 and parameters: {'eta': 0.3290981380411546, 'max_depth': 6, 'min_child_weight': 9.82087067102558, 'subsample': 0.5951295587844232, 'colsample_bynode': 0.15471354171260146}. Best is trial 53 with value: 0.19849697959875512.\u001B[0m\n"
     ]
    },
    {
     "name": "stdout",
     "output_type": "stream",
     "text": [
      "[0]\ttrain-logloss:18.40655+0.12457\ttrain-error:0.49962+0.00338\ttest-logloss:18.40644+0.49841\ttest-error:0.49961+0.01353\n",
      "[99]\ttrain-logloss:1.26167+0.10118\ttrain-error:0.03425+0.00275\ttest-logloss:8.55626+0.32479\ttest-error:0.23225+0.00882\n"
     ]
    },
    {
     "name": "stderr",
     "output_type": "stream",
     "text": [
      "\u001B[32m[I 2023-04-29 18:35:44,583]\u001B[0m Trial 288 finished with value: 0.23224613798266386 and parameters: {'eta': 0.0876310348173937, 'max_depth': 6, 'min_child_weight': 0.7869855083605869, 'subsample': 0.4171981433008881, 'colsample_bynode': 0.204369466089872}. Best is trial 53 with value: 0.19849697959875512.\u001B[0m\n"
     ]
    },
    {
     "name": "stdout",
     "output_type": "stream",
     "text": [
      "[0]\ttrain-logloss:18.40655+0.12457\ttrain-error:0.49962+0.00338\ttest-logloss:18.40644+0.49841\ttest-error:0.49961+0.01353\n",
      "[99]\ttrain-logloss:2.80309+0.16189\ttrain-error:0.07609+0.00439\ttest-logloss:7.79900+0.34777\ttest-error:0.21169+0.00944\n"
     ]
    },
    {
     "name": "stderr",
     "output_type": "stream",
     "text": [
      "\u001B[32m[I 2023-04-29 18:35:47,748]\u001B[0m Trial 289 finished with value: 0.2116914011554271 and parameters: {'eta': 0.22546533394608398, 'max_depth': 8, 'min_child_weight': 7.6547091934876, 'subsample': 0.45267894313338175, 'colsample_bynode': 0.5712592468515605}. Best is trial 53 with value: 0.19849697959875512.\u001B[0m\n"
     ]
    },
    {
     "name": "stdout",
     "output_type": "stream",
     "text": [
      "[0]\ttrain-logloss:18.40655+0.12457\ttrain-error:0.49962+0.00338\ttest-logloss:18.40644+0.49841\ttest-error:0.49961+0.01353\n",
      "[99]\ttrain-logloss:6.04839+0.12441\ttrain-error:0.16417+0.00338\ttest-logloss:7.39766+0.25223\ttest-error:0.20080+0.00685\n"
     ]
    },
    {
     "name": "stderr",
     "output_type": "stream",
     "text": [
      "\u001B[32m[I 2023-04-29 18:35:49,937]\u001B[0m Trial 290 finished with value: 0.20079759309568762 and parameters: {'eta': 0.19839751172085357, 'max_depth': 6, 'min_child_weight': 4.317547066537581, 'subsample': 0.5176399736055176, 'colsample_bynode': 0.12805549916529504}. Best is trial 53 with value: 0.19849697959875512.\u001B[0m\n"
     ]
    },
    {
     "name": "stdout",
     "output_type": "stream",
     "text": [
      "[0]\ttrain-logloss:18.40655+0.12457\ttrain-error:0.49962+0.00338\ttest-logloss:18.40644+0.49841\ttest-error:0.49961+0.01353\n",
      "[99]\ttrain-logloss:6.04839+0.11004\ttrain-error:0.16417+0.00299\ttest-logloss:7.55589+0.16213\ttest-error:0.20509+0.00440\n"
     ]
    },
    {
     "name": "stderr",
     "output_type": "stream",
     "text": [
      "\u001B[32m[I 2023-04-29 18:35:52,051]\u001B[0m Trial 291 finished with value: 0.20509266016601613 and parameters: {'eta': 0.2015628892075741, 'max_depth': 6, 'min_child_weight': 4.291676569517329, 'subsample': 0.503713261005896, 'colsample_bynode': 0.10179694577181721}. Best is trial 53 with value: 0.19849697959875512.\u001B[0m\n"
     ]
    },
    {
     "name": "stdout",
     "output_type": "stream",
     "text": [
      "[0]\ttrain-logloss:18.40655+0.12457\ttrain-error:0.49962+0.00338\ttest-logloss:18.40644+0.49841\ttest-error:0.49961+0.01353\n",
      "[99]\ttrain-logloss:5.99753+0.08687\ttrain-error:0.16279+0.00236\ttest-logloss:7.47117+0.17271\ttest-error:0.20279+0.00469\n"
     ]
    },
    {
     "name": "stderr",
     "output_type": "stream",
     "text": [
      "\u001B[32m[I 2023-04-29 18:35:54,127]\u001B[0m Trial 292 finished with value: 0.20279287062889323 and parameters: {'eta': 0.2143963496133704, 'max_depth': 6, 'min_child_weight': 5.433522981291654, 'subsample': 0.5298335685602203, 'colsample_bynode': 0.1206288385445069}. Best is trial 53 with value: 0.19849697959875512.\u001B[0m\n"
     ]
    },
    {
     "name": "stdout",
     "output_type": "stream",
     "text": [
      "[0]\ttrain-logloss:18.40655+0.12457\ttrain-error:0.49962+0.00338\ttest-logloss:18.40644+0.49841\ttest-error:0.49961+0.01353\n",
      "[99]\ttrain-logloss:4.99582+0.09685\ttrain-error:0.13560+0.00263\ttest-logloss:7.60111+0.32890\ttest-error:0.20632+0.00893\n"
     ]
    },
    {
     "name": "stderr",
     "output_type": "stream",
     "text": [
      "\u001B[32m[I 2023-04-29 18:35:56,427]\u001B[0m Trial 293 finished with value: 0.20631988944813529 and parameters: {'eta': 0.19641682485776413, 'max_depth': 6, 'min_child_weight': 3.5634835722545954, 'subsample': 0.516273711374743, 'colsample_bynode': 0.13873403329899198}. Best is trial 53 with value: 0.19849697959875512.\u001B[0m\n"
     ]
    },
    {
     "name": "stdout",
     "output_type": "stream",
     "text": [
      "[0]\ttrain-logloss:18.40655+0.12457\ttrain-error:0.49962+0.00338\ttest-logloss:18.40644+0.49841\ttest-error:0.49961+0.01353\n",
      "[99]\ttrain-logloss:5.73898+0.12194\ttrain-error:0.15578+0.00331\ttest-logloss:7.50501+0.23806\ttest-error:0.20371+0.00646\n"
     ]
    },
    {
     "name": "stderr",
     "output_type": "stream",
     "text": [
      "\u001B[32m[I 2023-04-29 18:35:58,288]\u001B[0m Trial 294 finished with value: 0.20371158581659127 and parameters: {'eta': 0.17309702316558717, 'max_depth': 5, 'min_child_weight': 6.509522889696047, 'subsample': 0.567016834903981, 'colsample_bynode': 0.27933455630531745}. Best is trial 53 with value: 0.19849697959875512.\u001B[0m\n"
     ]
    },
    {
     "name": "stdout",
     "output_type": "stream",
     "text": [
      "[0]\ttrain-logloss:18.40655+0.12457\ttrain-error:0.49962+0.00338\ttest-logloss:18.40644+0.49841\ttest-error:0.49961+0.01353\n",
      "[99]\ttrain-logloss:5.49597+0.10660\ttrain-error:0.14918+0.00289\ttest-logloss:7.60677+0.07746\ttest-error:0.20647+0.00210\n"
     ]
    },
    {
     "name": "stderr",
     "output_type": "stream",
     "text": [
      "\u001B[32m[I 2023-04-29 18:36:00,544]\u001B[0m Trial 295 finished with value: 0.20647361680689674 and parameters: {'eta': 0.1805050843623408, 'max_depth': 6, 'min_child_weight': 4.09733355108783, 'subsample': 0.47505943566007414, 'colsample_bynode': 0.1805122650619953}. Best is trial 53 with value: 0.19849697959875512.\u001B[0m\n"
     ]
    },
    {
     "name": "stdout",
     "output_type": "stream",
     "text": [
      "[0]\ttrain-logloss:18.40655+0.12457\ttrain-error:0.49962+0.00338\ttest-logloss:18.40644+0.49841\ttest-error:0.49961+0.01353\n",
      "[99]\ttrain-logloss:4.60870+0.15722\ttrain-error:0.12510+0.00427\ttest-logloss:7.65764+0.16729\ttest-error:0.20785+0.00454\n"
     ]
    },
    {
     "name": "stderr",
     "output_type": "stream",
     "text": [
      "\u001B[32m[I 2023-04-29 18:36:02,868]\u001B[0m Trial 296 finished with value: 0.20785433803068898 and parameters: {'eta': 0.20752086626506594, 'max_depth': 6, 'min_child_weight': 4.786600436749414, 'subsample': 0.5368015636751813, 'colsample_bynode': 0.22729701473008793}. Best is trial 53 with value: 0.19849697959875512.\u001B[0m\n"
     ]
    },
    {
     "name": "stdout",
     "output_type": "stream",
     "text": [
      "[0]\ttrain-logloss:18.40655+0.12457\ttrain-error:0.49962+0.00338\ttest-logloss:18.40644+0.49841\ttest-error:0.49961+0.01353\n",
      "[99]\ttrain-logloss:6.20663+0.12253\ttrain-error:0.16847+0.00333\ttest-logloss:7.45418+0.17677\ttest-error:0.20233+0.00480\n"
     ]
    },
    {
     "name": "stderr",
     "output_type": "stream",
     "text": [
      "\u001B[32m[I 2023-04-29 18:36:04,993]\u001B[0m Trial 297 finished with value: 0.2023319239696971 and parameters: {'eta': 0.19125375706468503, 'max_depth': 6, 'min_child_weight': 5.734186471147842, 'subsample': 0.49778804544850597, 'colsample_bynode': 0.12747440747812588}. Best is trial 53 with value: 0.19849697959875512.\u001B[0m\n"
     ]
    },
    {
     "name": "stdout",
     "output_type": "stream",
     "text": [
      "[0]\ttrain-logloss:18.40655+0.12457\ttrain-error:0.49962+0.00338\ttest-logloss:18.40644+0.49841\ttest-error:0.49961+0.01353\n",
      "[99]\ttrain-logloss:6.49910+0.14119\ttrain-error:0.17641+0.00383\ttest-logloss:7.44852+0.30985\ttest-error:0.20218+0.00841\n"
     ]
    },
    {
     "name": "stderr",
     "output_type": "stream",
     "text": [
      "\u001B[32m[I 2023-04-29 18:36:07,347]\u001B[0m Trial 298 finished with value: 0.20217831431947983 and parameters: {'eta': 0.15246110935223522, 'max_depth': 5, 'min_child_weight': 6.665584474612898, 'subsample': 0.3033417996435226, 'colsample_bynode': 0.16691911990331137}. Best is trial 53 with value: 0.19849697959875512.\u001B[0m\n"
     ]
    },
    {
     "name": "stdout",
     "output_type": "stream",
     "text": [
      "[0]\ttrain-logloss:18.40655+0.12457\ttrain-error:0.49962+0.00338\ttest-logloss:18.40644+0.49841\ttest-error:0.49961+0.01353\n",
      "[99]\ttrain-logloss:4.76413+0.22531\ttrain-error:0.12931+0.00612\ttest-logloss:7.46545+0.25470\ttest-error:0.20264+0.00691\n"
     ]
    },
    {
     "name": "stderr",
     "output_type": "stream",
     "text": [
      "\u001B[32m[I 2023-04-29 18:36:09,733]\u001B[0m Trial 299 finished with value: 0.20263773076760097 and parameters: {'eta': 0.16183045449249395, 'max_depth': 6, 'min_child_weight': 4.2190966496471045, 'subsample': 0.5479980342539855, 'colsample_bynode': 0.37709415753269604}. Best is trial 53 with value: 0.19849697959875512.\u001B[0m\n"
     ]
    },
    {
     "name": "stdout",
     "output_type": "stream",
     "text": [
      "[0]\ttrain-logloss:18.40655+0.12457\ttrain-error:0.49962+0.00338\ttest-logloss:18.40644+0.49841\ttest-error:0.49961+0.01353\n",
      "[99]\ttrain-logloss:3.80904+0.21360\ttrain-error:0.10339+0.00580\ttest-logloss:7.87240+0.39707\ttest-error:0.21368+0.01078\n"
     ]
    },
    {
     "name": "stderr",
     "output_type": "stream",
     "text": [
      "\u001B[32m[I 2023-04-29 18:36:11,788]\u001B[0m Trial 300 finished with value: 0.21368373597502693 and parameters: {'eta': 0.3674153281090948, 'max_depth': 6, 'min_child_weight': 8.034988051121505, 'subsample': 0.584027069640223, 'colsample_bynode': 0.2052893579863755}. Best is trial 53 with value: 0.19849697959875512.\u001B[0m\n"
     ]
    },
    {
     "name": "stdout",
     "output_type": "stream",
     "text": [
      "[0]\ttrain-logloss:18.40655+0.12457\ttrain-error:0.49962+0.00338\ttest-logloss:18.40644+0.49841\ttest-error:0.49961+0.01353\n",
      "[99]\ttrain-logloss:2.75081+0.11313\ttrain-error:0.07467+0.00307\ttest-logloss:7.68592+0.34125\ttest-error:0.20862+0.00926\n"
     ]
    },
    {
     "name": "stderr",
     "output_type": "stream",
     "text": [
      "\u001B[32m[I 2023-04-29 18:36:15,578]\u001B[0m Trial 301 finished with value: 0.20862191544759848 and parameters: {'eta': 0.1697386556226677, 'max_depth': 9, 'min_child_weight': 2.9133791173089216, 'subsample': 0.5178847054776639, 'colsample_bynode': 0.14802508970827935}. Best is trial 53 with value: 0.19849697959875512.\u001B[0m\n"
     ]
    },
    {
     "name": "stdout",
     "output_type": "stream",
     "text": [
      "[0]\ttrain-logloss:18.40655+0.12457\ttrain-error:0.49962+0.00338\ttest-logloss:18.40644+0.49841\ttest-error:0.49961+0.01353\n",
      "[99]\ttrain-logloss:5.33491+0.18040\ttrain-error:0.14481+0.00490\ttest-logloss:7.48807+0.19591\ttest-error:0.20325+0.00532\n"
     ]
    },
    {
     "name": "stderr",
     "output_type": "stream",
     "text": [
      "\u001B[32m[I 2023-04-29 18:36:17,789]\u001B[0m Trial 302 finished with value: 0.20325158082574896 and parameters: {'eta': 0.13983032240338295, 'max_depth': 6, 'min_child_weight': 4.960380090958387, 'subsample': 0.4822840585411131, 'colsample_bynode': 0.3999611615084728}. Best is trial 53 with value: 0.19849697959875512.\u001B[0m\n"
     ]
    },
    {
     "name": "stdout",
     "output_type": "stream",
     "text": [
      "[0]\ttrain-logloss:18.40655+0.12457\ttrain-error:0.49962+0.00338\ttest-logloss:18.40644+0.49841\ttest-error:0.49961+0.01353\n",
      "[99]\ttrain-logloss:6.48355+0.12516\ttrain-error:0.17599+0.00340\ttest-logloss:7.56719+0.21594\ttest-error:0.20540+0.00586\n"
     ]
    },
    {
     "name": "stderr",
     "output_type": "stream",
     "text": [
      "\u001B[32m[I 2023-04-29 18:36:19,241]\u001B[0m Trial 303 finished with value: 0.20539940863227382 and parameters: {'eta': 0.18140426228176115, 'max_depth': 4, 'min_child_weight': 3.483829365109774, 'subsample': 0.4393430368386921, 'colsample_bynode': 0.18382537351937098}. Best is trial 53 with value: 0.19849697959875512.\u001B[0m\n"
     ]
    },
    {
     "name": "stdout",
     "output_type": "stream",
     "text": [
      "[0]\ttrain-logloss:18.40655+0.12457\ttrain-error:0.49962+0.00338\ttest-logloss:18.40644+0.49841\ttest-error:0.49961+0.01353\n",
      "[99]\ttrain-logloss:5.32219+0.18380\ttrain-error:0.14446+0.00499\ttest-logloss:7.41463+0.34424\ttest-error:0.20126+0.00934\n"
     ]
    },
    {
     "name": "stderr",
     "output_type": "stream",
     "text": [
      "\u001B[32m[I 2023-04-29 18:36:22,056]\u001B[0m Trial 304 finished with value: 0.20125818662925105 and parameters: {'eta': 0.19572009503329976, 'max_depth': 6, 'min_child_weight': 8.807707996796706, 'subsample': 0.4634760784380334, 'colsample_bynode': 0.24583167487606258}. Best is trial 53 with value: 0.19849697959875512.\u001B[0m\n"
     ]
    },
    {
     "name": "stdout",
     "output_type": "stream",
     "text": [
      "[0]\ttrain-logloss:18.40655+0.12457\ttrain-error:0.49962+0.00338\ttest-logloss:18.40644+0.49841\ttest-error:0.49961+0.01353\n",
      "[99]\ttrain-logloss:5.84636+0.13977\ttrain-error:0.15869+0.00379\ttest-logloss:7.52197+0.29716\ttest-error:0.20417+0.00807\n"
     ]
    },
    {
     "name": "stderr",
     "output_type": "stream",
     "text": [
      "\u001B[32m[I 2023-04-29 18:36:24,620]\u001B[0m Trial 305 finished with value: 0.2041719439330662 and parameters: {'eta': 0.16127858640562254, 'max_depth': 8, 'min_child_weight': 5.7750502516654, 'subsample': 0.5607814484765679, 'colsample_bynode': 0.12763506672376598}. Best is trial 53 with value: 0.19849697959875512.\u001B[0m\n"
     ]
    },
    {
     "name": "stdout",
     "output_type": "stream",
     "text": [
      "[0]\ttrain-logloss:18.40655+0.12457\ttrain-error:0.49962+0.00338\ttest-logloss:18.40644+0.49841\ttest-error:0.49961+0.01353\n",
      "[99]\ttrain-logloss:4.78250+0.20647\ttrain-error:0.12981+0.00560\ttest-logloss:7.49380+0.31350\ttest-error:0.20341+0.00851\n"
     ]
    },
    {
     "name": "stderr",
     "output_type": "stream",
     "text": [
      "\u001B[32m[I 2023-04-29 18:36:27,230]\u001B[0m Trial 306 finished with value: 0.20340730922976236 and parameters: {'eta': 0.17489799939309603, 'max_depth': 6, 'min_child_weight': 7.208485526526935, 'subsample': 0.6071652152421574, 'colsample_bynode': 0.33505210209609504}. Best is trial 53 with value: 0.19849697959875512.\u001B[0m\n"
     ]
    },
    {
     "name": "stdout",
     "output_type": "stream",
     "text": [
      "[0]\ttrain-logloss:18.40655+0.12457\ttrain-error:0.49962+0.00338\ttest-logloss:18.40644+0.49841\ttest-error:0.49961+0.01353\n",
      "[99]\ttrain-logloss:4.60447+0.18070\ttrain-error:0.12498+0.00490\ttest-logloss:7.59548+0.20491\ttest-error:0.20617+0.00556\n"
     ]
    },
    {
     "name": "stderr",
     "output_type": "stream",
     "text": [
      "\u001B[32m[I 2023-04-29 18:36:29,862]\u001B[0m Trial 307 finished with value: 0.20616722146627176 and parameters: {'eta': 0.22878346237683514, 'max_depth': 5, 'min_child_weight': 3.9188265214956757, 'subsample': 0.5040350287312549, 'colsample_bynode': 0.6915624208246222}. Best is trial 53 with value: 0.19849697959875512.\u001B[0m\n"
     ]
    },
    {
     "name": "stdout",
     "output_type": "stream",
     "text": [
      "[0]\ttrain-logloss:18.40655+0.12457\ttrain-error:0.49962+0.00338\ttest-logloss:18.40644+0.49841\ttest-error:0.49961+0.01353\n",
      "[99]\ttrain-logloss:4.95485+0.16888\ttrain-error:0.13449+0.00458\ttest-logloss:7.36942+0.24439\ttest-error:0.20003+0.00663\n"
     ]
    },
    {
     "name": "stderr",
     "output_type": "stream",
     "text": [
      "\u001B[32m[I 2023-04-29 18:36:32,375]\u001B[0m Trial 308 finished with value: 0.20003107505567613 and parameters: {'eta': 0.14697477201741796, 'max_depth': 6, 'min_child_weight': 4.588603920454489, 'subsample': 0.5769383791668924, 'colsample_bynode': 0.3567410767761404}. Best is trial 53 with value: 0.19849697959875512.\u001B[0m\n"
     ]
    },
    {
     "name": "stdout",
     "output_type": "stream",
     "text": [
      "[0]\ttrain-logloss:18.40655+0.12457\ttrain-error:0.49962+0.00338\ttest-logloss:18.40644+0.49841\ttest-error:0.49961+0.01353\n",
      "[99]\ttrain-logloss:4.72456+0.22175\ttrain-error:0.12824+0.00602\ttest-logloss:7.51633+0.17636\ttest-error:0.20402+0.00479\n"
     ]
    },
    {
     "name": "stderr",
     "output_type": "stream",
     "text": [
      "\u001B[32m[I 2023-04-29 18:36:34,897]\u001B[0m Trial 309 finished with value: 0.20401868740848159 and parameters: {'eta': 0.14791260347632695, 'max_depth': 6, 'min_child_weight': 4.544132978519465, 'subsample': 0.8143946690697567, 'colsample_bynode': 0.3776429827400376}. Best is trial 53 with value: 0.19849697959875512.\u001B[0m\n"
     ]
    },
    {
     "name": "stdout",
     "output_type": "stream",
     "text": [
      "[0]\ttrain-logloss:18.40655+0.12457\ttrain-error:0.49962+0.00338\ttest-logloss:18.40644+0.49841\ttest-error:0.49961+0.01353\n",
      "[99]\ttrain-logloss:5.53271+0.12417\ttrain-error:0.15018+0.00337\ttest-logloss:7.43718+0.33924\ttest-error:0.20187+0.00921\n"
     ]
    },
    {
     "name": "stderr",
     "output_type": "stream",
     "text": [
      "\u001B[32m[I 2023-04-29 18:36:37,810]\u001B[0m Trial 310 finished with value: 0.20187027105923566 and parameters: {'eta': 0.13875575472244997, 'max_depth': 6, 'min_child_weight': 5.3234415146686676, 'subsample': 0.551018077997784, 'colsample_bynode': 0.2607170866111506}. Best is trial 53 with value: 0.19849697959875512.\u001B[0m\n"
     ]
    },
    {
     "name": "stdout",
     "output_type": "stream",
     "text": [
      "[0]\ttrain-logloss:18.40655+0.12457\ttrain-error:0.49962+0.00338\ttest-logloss:18.40644+0.49841\ttest-error:0.49961+0.01353\n",
      "[99]\ttrain-logloss:0.99606+0.05135\ttrain-error:0.02704+0.00139\ttest-logloss:8.58452+0.37668\ttest-error:0.23301+0.01022\n"
     ]
    },
    {
     "name": "stderr",
     "output_type": "stream",
     "text": [
      "\u001B[32m[I 2023-04-29 18:36:40,115]\u001B[0m Trial 311 finished with value: 0.23301312685685227 and parameters: {'eta': 0.12495826958092215, 'max_depth': 5, 'min_child_weight': 0.9872407877423076, 'subsample': 0.5337586643640094, 'colsample_bynode': 0.21863498388442476}. Best is trial 53 with value: 0.19849697959875512.\u001B[0m\n"
     ]
    },
    {
     "name": "stdout",
     "output_type": "stream",
     "text": [
      "[0]\ttrain-logloss:18.40655+0.12457\ttrain-error:0.49962+0.00338\ttest-logloss:18.40644+0.49841\ttest-error:0.49961+0.01353\n",
      "[99]\ttrain-logloss:5.04246+0.25385\ttrain-error:0.13687+0.00689\ttest-logloss:7.55594+0.39369\ttest-error:0.20509+0.01069\n"
     ]
    },
    {
     "name": "stderr",
     "output_type": "stream",
     "text": [
      "\u001B[32m[I 2023-04-29 18:36:42,762]\u001B[0m Trial 312 finished with value: 0.2050938372514584 and parameters: {'eta': 0.1547135227859453, 'max_depth': 6, 'min_child_weight': 6.396165539800254, 'subsample': 0.5848691173257913, 'colsample_bynode': 0.34200010361135835}. Best is trial 53 with value: 0.19849697959875512.\u001B[0m\n"
     ]
    },
    {
     "name": "stdout",
     "output_type": "stream",
     "text": [
      "[0]\ttrain-logloss:18.40655+0.12457\ttrain-error:0.49962+0.00338\ttest-logloss:18.40644+0.49841\ttest-error:0.49961+0.01353\n",
      "[99]\ttrain-logloss:4.41091+0.20234\ttrain-error:0.11973+0.00549\ttest-logloss:7.48246+0.32505\ttest-error:0.20310+0.00882\n"
     ]
    },
    {
     "name": "stderr",
     "output_type": "stream",
     "text": [
      "\u001B[32m[I 2023-04-29 18:36:45,924]\u001B[0m Trial 313 finished with value: 0.20309950138660665 and parameters: {'eta': 0.112571033443352, 'max_depth': 8, 'min_child_weight': 9.924726474879114, 'subsample': 0.484800968306823, 'colsample_bynode': 0.5138365416333679}. Best is trial 53 with value: 0.19849697959875512.\u001B[0m\n"
     ]
    },
    {
     "name": "stdout",
     "output_type": "stream",
     "text": [
      "[0]\ttrain-logloss:18.40655+0.12457\ttrain-error:0.49962+0.00338\ttest-logloss:18.40644+0.49841\ttest-error:0.49961+0.01353\n",
      "[99]\ttrain-logloss:5.13711+0.15019\ttrain-error:0.13944+0.00408\ttest-logloss:7.48807+0.30722\ttest-error:0.20325+0.00834\n"
     ]
    },
    {
     "name": "stderr",
     "output_type": "stream",
     "text": [
      "\u001B[32m[I 2023-04-29 18:36:48,657]\u001B[0m Trial 314 finished with value: 0.20325181624283745 and parameters: {'eta': 0.13467704036922812, 'max_depth': 6, 'min_child_weight': 4.823325472684317, 'subsample': 0.7720210867749853, 'colsample_bynode': 0.2868610110739627}. Best is trial 53 with value: 0.19849697959875512.\u001B[0m\n"
     ]
    },
    {
     "name": "stdout",
     "output_type": "stream",
     "text": [
      "[0]\ttrain-logloss:18.40655+0.12457\ttrain-error:0.49962+0.00338\ttest-logloss:18.40644+0.49841\ttest-error:0.49961+0.01353\n",
      "[99]\ttrain-logloss:5.00571+0.10769\ttrain-error:0.13587+0.00292\ttest-logloss:7.46547+0.30164\ttest-error:0.20264+0.00819\n"
     ]
    },
    {
     "name": "stderr",
     "output_type": "stream",
     "text": [
      "\u001B[32m[I 2023-04-29 18:36:51,403]\u001B[0m Trial 315 finished with value: 0.20263820160177787 and parameters: {'eta': 0.14489812842174457, 'max_depth': 6, 'min_child_weight': 4.142027594697404, 'subsample': 0.6184329280796986, 'colsample_bynode': 0.3913317035631583}. Best is trial 53 with value: 0.19849697959875512.\u001B[0m\n"
     ]
    },
    {
     "name": "stdout",
     "output_type": "stream",
     "text": [
      "[0]\ttrain-logloss:18.40655+0.12457\ttrain-error:0.49962+0.00338\ttest-logloss:18.40644+0.49841\ttest-error:0.49961+0.01353\n",
      "[99]\ttrain-logloss:2.68017+0.11917\ttrain-error:0.07275+0.00323\ttest-logloss:7.97981+0.50333\ttest-error:0.21660+0.01366\n"
     ]
    },
    {
     "name": "stderr",
     "output_type": "stream",
     "text": [
      "\u001B[32m[I 2023-04-29 18:36:55,565]\u001B[0m Trial 316 finished with value: 0.21659914119846135 and parameters: {'eta': 0.16555223328294968, 'max_depth': 8, 'min_child_weight': 1.4494180726569426, 'subsample': 0.45708027876936896, 'colsample_bynode': 0.19579055665752}. Best is trial 53 with value: 0.19849697959875512.\u001B[0m\n"
     ]
    },
    {
     "name": "stdout",
     "output_type": "stream",
     "text": [
      "[0]\ttrain-logloss:18.40655+0.12457\ttrain-error:0.49962+0.00338\ttest-logloss:18.40644+0.49841\ttest-error:0.49961+0.01353\n",
      "[99]\ttrain-logloss:6.11198+0.11762\ttrain-error:0.16590+0.00319\ttest-logloss:7.46548+0.27003\ttest-error:0.20264+0.00733\n"
     ]
    },
    {
     "name": "stderr",
     "output_type": "stream",
     "text": [
      "\u001B[32m[I 2023-04-29 18:36:57,307]\u001B[0m Trial 317 finished with value: 0.2026384370188663 and parameters: {'eta': 0.15293730061226585, 'max_depth': 5, 'min_child_weight': 5.747699097907285, 'subsample': 0.4039266226300212, 'colsample_bynode': 0.2942452702803626}. Best is trial 53 with value: 0.19849697959875512.\u001B[0m\n"
     ]
    },
    {
     "name": "stdout",
     "output_type": "stream",
     "text": [
      "[0]\ttrain-logloss:18.40655+0.12457\ttrain-error:0.49962+0.00338\ttest-logloss:18.40644+0.49841\ttest-error:0.49961+0.01353\n",
      "[99]\ttrain-logloss:4.23430+0.10950\ttrain-error:0.11493+0.00297\ttest-logloss:8.01933+0.17078\ttest-error:0.21767+0.00464\n"
     ]
    },
    {
     "name": "stderr",
     "output_type": "stream",
     "text": [
      "\u001B[32m[I 2023-04-29 18:36:58,581]\u001B[0m Trial 318 finished with value: 0.21767193687055358 and parameters: {'eta': 0.2544555468160171, 'max_depth': 3, 'min_child_weight': 1.1579685576372223, 'subsample': 0.8957974848529618, 'colsample_bynode': 0.4268658193394823}. Best is trial 53 with value: 0.19849697959875512.\u001B[0m\n"
     ]
    },
    {
     "name": "stdout",
     "output_type": "stream",
     "text": [
      "[0]\ttrain-logloss:18.40655+0.12457\ttrain-error:0.49962+0.00338\ttest-logloss:18.40644+0.49841\ttest-error:0.49961+0.01353\n",
      "[99]\ttrain-logloss:0.06640+0.02628\ttrain-error:0.00180+0.00071\ttest-logloss:9.28529+0.38436\ttest-error:0.25203+0.01043\n"
     ]
    },
    {
     "name": "stderr",
     "output_type": "stream",
     "text": [
      "\u001B[32m[I 2023-04-29 18:37:01,025]\u001B[0m Trial 319 finished with value: 0.25203435676988917 and parameters: {'eta': 0.21037705147751132, 'max_depth': 6, 'min_child_weight': 0.6173570454211339, 'subsample': 0.5729589952522588, 'colsample_bynode': 0.44116569816512735}. Best is trial 53 with value: 0.19849697959875512.\u001B[0m\n"
     ]
    },
    {
     "name": "stdout",
     "output_type": "stream",
     "text": [
      "[0]\ttrain-logloss:18.40655+0.12457\ttrain-error:0.49962+0.00338\ttest-logloss:18.40644+0.49841\ttest-error:0.49961+0.01353\n",
      "[99]\ttrain-logloss:6.03992+0.12332\ttrain-error:0.16394+0.00335\ttest-logloss:7.55590+0.16546\ttest-error:0.20509+0.00449\n"
     ]
    },
    {
     "name": "stderr",
     "output_type": "stream",
     "text": [
      "\u001B[32m[I 2023-04-29 18:37:03,097]\u001B[0m Trial 320 finished with value: 0.20509289558310456 and parameters: {'eta': 0.12752222920767947, 'max_depth': 6, 'min_child_weight': 8.447008946923841, 'subsample': 0.6873756159049746, 'colsample_bynode': 0.16763111771644035}. Best is trial 53 with value: 0.19849697959875512.\u001B[0m\n"
     ]
    },
    {
     "name": "stdout",
     "output_type": "stream",
     "text": [
      "[0]\ttrain-logloss:18.40655+0.12457\ttrain-error:0.49962+0.00338\ttest-logloss:18.40644+0.49841\ttest-error:0.49961+0.01353\n",
      "[99]\ttrain-logloss:3.59286+0.17539\ttrain-error:0.09752+0.00476\ttest-logloss:7.84417+0.34109\ttest-error:0.21292+0.00926\n"
     ]
    },
    {
     "name": "stderr",
     "output_type": "stream",
     "text": [
      "\u001B[32m[I 2023-04-29 18:37:05,372]\u001B[0m Trial 321 finished with value: 0.21291757106064818 and parameters: {'eta': 0.24265413725251866, 'max_depth': 6, 'min_child_weight': 3.2525490820959364, 'subsample': 0.6593765139940114, 'colsample_bynode': 0.365440553678917}. Best is trial 53 with value: 0.19849697959875512.\u001B[0m\n"
     ]
    },
    {
     "name": "stdout",
     "output_type": "stream",
     "text": [
      "[0]\ttrain-logloss:18.40655+0.12457\ttrain-error:0.49962+0.00338\ttest-logloss:18.40644+0.49841\ttest-error:0.49961+0.01353\n",
      "[99]\ttrain-logloss:2.75223+0.14562\ttrain-error:0.07470+0.00395\ttest-logloss:7.92321+0.53345\ttest-error:0.21506+0.01448\n"
     ]
    },
    {
     "name": "stderr",
     "output_type": "stream",
     "text": [
      "\u001B[32m[I 2023-04-29 18:37:08,107]\u001B[0m Trial 322 finished with value: 0.21506292698774415 and parameters: {'eta': 0.21927149736869825, 'max_depth': 6, 'min_child_weight': 1.2797567558671445, 'subsample': 0.5162656123250645, 'colsample_bynode': 0.31561438590755986}. Best is trial 53 with value: 0.19849697959875512.\u001B[0m\n"
     ]
    },
    {
     "name": "stdout",
     "output_type": "stream",
     "text": [
      "[0]\ttrain-logloss:18.40655+0.12457\ttrain-error:0.49962+0.00338\ttest-logloss:18.40644+0.49841\ttest-error:0.49961+0.01353\n",
      "[99]\ttrain-logloss:6.12327+0.10825\ttrain-error:0.16621+0.00294\ttest-logloss:7.51636+0.22178\ttest-error:0.20402+0.00602\n"
     ]
    },
    {
     "name": "stderr",
     "output_type": "stream",
     "text": [
      "\u001B[32m[I 2023-04-29 18:37:10,277]\u001B[0m Trial 323 finished with value: 0.2040196290768354 and parameters: {'eta': 0.11955631447975576, 'max_depth': 6, 'min_child_weight': 7.315036790039277, 'subsample': 0.4323796772692309, 'colsample_bynode': 0.23467806673396424}. Best is trial 53 with value: 0.19849697959875512.\u001B[0m\n"
     ]
    },
    {
     "name": "stdout",
     "output_type": "stream",
     "text": [
      "[0]\ttrain-logloss:18.40655+0.12457\ttrain-error:0.49962+0.00338\ttest-logloss:18.40644+0.49841\ttest-error:0.49961+0.01353\n",
      "[99]\ttrain-logloss:4.11845+0.22140\ttrain-error:0.11179+0.00601\ttest-logloss:7.66336+0.29121\ttest-error:0.20801+0.00790\n"
     ]
    },
    {
     "name": "stderr",
     "output_type": "stream",
     "text": [
      "\u001B[32m[I 2023-04-29 18:37:12,225]\u001B[0m Trial 324 finished with value: 0.20800959560052545 and parameters: {'eta': 0.3604147389037061, 'max_depth': 5, 'min_child_weight': 4.731273040493671, 'subsample': 0.470065132199982, 'colsample_bynode': 0.4642120794490953}. Best is trial 53 with value: 0.19849697959875512.\u001B[0m\n"
     ]
    },
    {
     "name": "stdout",
     "output_type": "stream",
     "text": [
      "[0]\ttrain-logloss:18.40655+0.12457\ttrain-error:0.49962+0.00338\ttest-logloss:18.40644+0.49841\ttest-error:0.49961+0.01353\n",
      "[99]\ttrain-logloss:3.79350+0.14887\ttrain-error:0.10297+0.00404\ttest-logloss:7.55028+0.48207\ttest-error:0.20494+0.01308\n"
     ]
    },
    {
     "name": "stderr",
     "output_type": "stream",
     "text": [
      "\u001B[32m[I 2023-04-29 18:37:15,074]\u001B[0m Trial 325 finished with value: 0.2049402276012411 and parameters: {'eta': 0.1870814109737861, 'max_depth': 7, 'min_child_weight': 6.67556934179097, 'subsample': 0.5034569812972517, 'colsample_bynode': 0.3586161649397312}. Best is trial 53 with value: 0.19849697959875512.\u001B[0m\n"
     ]
    },
    {
     "name": "stdout",
     "output_type": "stream",
     "text": [
      "[0]\ttrain-logloss:18.40655+0.12457\ttrain-error:0.49962+0.00338\ttest-logloss:18.40644+0.49841\ttest-error:0.49961+0.01353\n",
      "[99]\ttrain-logloss:3.22271+0.20952\ttrain-error:0.08748+0.00569\ttest-logloss:7.57858+0.47380\ttest-error:0.20571+0.01286\n"
     ]
    },
    {
     "name": "stderr",
     "output_type": "stream",
     "text": [
      "\u001B[32m[I 2023-04-29 18:37:19,329]\u001B[0m Trial 326 finished with value: 0.2057083935608718 and parameters: {'eta': 0.15875274059043448, 'max_depth': 8, 'min_child_weight': 3.629624534246714, 'subsample': 0.6241371987946185, 'colsample_bynode': 0.2048438232693974}. Best is trial 53 with value: 0.19849697959875512.\u001B[0m\n"
     ]
    },
    {
     "name": "stdout",
     "output_type": "stream",
     "text": [
      "[0]\ttrain-logloss:18.40655+0.12457\ttrain-error:0.49962+0.00338\ttest-logloss:18.40644+0.49841\ttest-error:0.49961+0.01353\n",
      "[99]\ttrain-logloss:5.59911+0.10806\ttrain-error:0.15198+0.00293\ttest-logloss:7.45417+0.15293\ttest-error:0.20233+0.00415\n"
     ]
    },
    {
     "name": "stderr",
     "output_type": "stream",
     "text": [
      "\u001B[32m[I 2023-04-29 18:37:21,758]\u001B[0m Trial 327 finished with value: 0.20233157084406442 and parameters: {'eta': 0.1454476504485341, 'max_depth': 6, 'min_child_weight': 5.104367892168757, 'subsample': 0.7485310690579559, 'colsample_bynode': 0.17966712024039105}. Best is trial 53 with value: 0.19849697959875512.\u001B[0m\n"
     ]
    },
    {
     "name": "stdout",
     "output_type": "stream",
     "text": [
      "[0]\ttrain-logloss:18.40655+0.12457\ttrain-error:0.49962+0.00338\ttest-logloss:18.40644+0.49841\ttest-error:0.49961+0.01353\n",
      "[99]\ttrain-logloss:5.58216+0.09508\ttrain-error:0.15152+0.00258\ttest-logloss:7.51631+0.24864\ttest-error:0.20402+0.00675\n"
     ]
    },
    {
     "name": "stderr",
     "output_type": "stream",
     "text": [
      "\u001B[32m[I 2023-04-29 18:37:25,257]\u001B[0m Trial 328 finished with value: 0.2040182165743047 and parameters: {'eta': 0.06895646531969599, 'max_depth': 7, 'min_child_weight': 5.938716307350203, 'subsample': 0.6950249342490431, 'colsample_bynode': 0.5094396269819375}. Best is trial 53 with value: 0.19849697959875512.\u001B[0m\n"
     ]
    },
    {
     "name": "stdout",
     "output_type": "stream",
     "text": [
      "[0]\ttrain-logloss:18.40655+0.12457\ttrain-error:0.49962+0.00338\ttest-logloss:18.40644+0.49841\ttest-error:0.49961+0.01353\n",
      "[99]\ttrain-logloss:6.79296+0.09136\ttrain-error:0.18438+0.00248\ttest-logloss:7.63503+0.13372\ttest-error:0.20724+0.00363\n"
     ]
    },
    {
     "name": "stderr",
     "output_type": "stream",
     "text": [
      "\u001B[32m[I 2023-04-29 18:37:27,645]\u001B[0m Trial 329 finished with value: 0.2072407233896294 and parameters: {'eta': 0.048227844909526, 'max_depth': 6, 'min_child_weight': 4.281102160395309, 'subsample': 0.5934794931974245, 'colsample_bynode': 0.15611634491242732}. Best is trial 53 with value: 0.19849697959875512.\u001B[0m\n"
     ]
    },
    {
     "name": "stdout",
     "output_type": "stream",
     "text": [
      "[0]\ttrain-logloss:18.40655+0.12457\ttrain-error:0.49962+0.00338\ttest-logloss:18.40644+0.49841\ttest-error:0.49961+0.01353\n",
      "[99]\ttrain-logloss:5.67116+0.11569\ttrain-error:0.15393+0.00314\ttest-logloss:7.65761+0.31226\ttest-error:0.20785+0.00848\n"
     ]
    },
    {
     "name": "stderr",
     "output_type": "stream",
     "text": [
      "\u001B[32m[I 2023-04-29 18:37:29,778]\u001B[0m Trial 330 finished with value: 0.2078536317794236 and parameters: {'eta': 0.172815090929372, 'max_depth': 5, 'min_child_weight': 8.293747603550127, 'subsample': 0.9661464955928916, 'colsample_bynode': 0.394843819498626}. Best is trial 53 with value: 0.19849697959875512.\u001B[0m\n"
     ]
    },
    {
     "name": "stdout",
     "output_type": "stream",
     "text": [
      "[0]\ttrain-logloss:18.40655+0.12457\ttrain-error:0.49962+0.00338\ttest-logloss:18.40644+0.49841\ttest-error:0.49961+0.01353\n",
      "[99]\ttrain-logloss:0.10596+0.02048\ttrain-error:0.00288+0.00056\ttest-logloss:9.60741+0.49027\ttest-error:0.26078+0.01331\n"
     ]
    },
    {
     "name": "stderr",
     "output_type": "stream",
     "text": [
      "\u001B[32m[I 2023-04-29 18:37:32,533]\u001B[0m Trial 331 finished with value: 0.26077786514367507 and parameters: {'eta': 0.20485599736678234, 'max_depth': 6, 'min_child_weight': 0.1610059764981196, 'subsample': 0.5350660881962097, 'colsample_bynode': 0.4298782141573597}. Best is trial 53 with value: 0.19849697959875512.\u001B[0m\n"
     ]
    },
    {
     "name": "stdout",
     "output_type": "stream",
     "text": [
      "[0]\ttrain-logloss:18.40655+0.12457\ttrain-error:0.49962+0.00338\ttest-logloss:18.40644+0.49841\ttest-error:0.49961+0.01353\n",
      "[99]\ttrain-logloss:4.17638+0.18242\ttrain-error:0.11336+0.00495\ttest-logloss:7.49378+0.27825\ttest-error:0.20341+0.00755\n"
     ]
    },
    {
     "name": "stderr",
     "output_type": "stream",
     "text": [
      "\u001B[32m[I 2023-04-29 18:37:35,459]\u001B[0m Trial 332 finished with value: 0.20340660297849703 and parameters: {'eta': 0.1336373679618738, 'max_depth': 7, 'min_child_weight': 5.2874606289387565, 'subsample': 0.5636447299266821, 'colsample_bynode': 0.4063951774377216}. Best is trial 53 with value: 0.19849697959875512.\u001B[0m\n"
     ]
    },
    {
     "name": "stdout",
     "output_type": "stream",
     "text": [
      "[0]\ttrain-logloss:18.40655+0.12457\ttrain-error:0.49962+0.00338\ttest-logloss:18.40644+0.49841\ttest-error:0.49961+0.01353\n",
      "[99]\ttrain-logloss:4.48721+0.19546\ttrain-error:0.12180+0.00531\ttest-logloss:7.64634+0.20038\ttest-error:0.20755+0.00544\n"
     ]
    },
    {
     "name": "stderr",
     "output_type": "stream",
     "text": [
      "\u001B[32m[I 2023-04-29 18:37:37,903]\u001B[0m Trial 333 finished with value: 0.20754782498151977 and parameters: {'eta': 0.16646568359728628, 'max_depth': 6, 'min_child_weight': 3.9720017482790566, 'subsample': 0.48916182992214613, 'colsample_bynode': 0.4149268372366868}. Best is trial 53 with value: 0.19849697959875512.\u001B[0m\n"
     ]
    },
    {
     "name": "stdout",
     "output_type": "stream",
     "text": [
      "[0]\ttrain-logloss:18.40655+0.12457\ttrain-error:0.49962+0.00338\ttest-logloss:18.40644+0.49841\ttest-error:0.49961+0.01353\n",
      "[99]\ttrain-logloss:0.01272+0.00529\ttrain-error:0.00035+0.00014\ttest-logloss:8.99146+0.41674\ttest-error:0.24406+0.01131\n"
     ]
    },
    {
     "name": "stderr",
     "output_type": "stream",
     "text": [
      "\u001B[32m[I 2023-04-29 18:37:41,776]\u001B[0m Trial 334 finished with value: 0.2440587789386456 and parameters: {'eta': 0.1927935978550939, 'max_depth': 8, 'min_child_weight': 0.454406273432203, 'subsample': 0.665960923399066, 'colsample_bynode': 0.21874905589311686}. Best is trial 53 with value: 0.19849697959875512.\u001B[0m\n"
     ]
    },
    {
     "name": "stdout",
     "output_type": "stream",
     "text": [
      "[0]\ttrain-logloss:18.40655+0.12457\ttrain-error:0.49962+0.00338\ttest-logloss:18.40644+0.49841\ttest-error:0.49961+0.01353\n",
      "[99]\ttrain-logloss:3.24390+0.16834\ttrain-error:0.08805+0.00457\ttest-logloss:7.77631+0.25244\ttest-error:0.21108+0.00685\n"
     ]
    },
    {
     "name": "stderr",
     "output_type": "stream",
     "text": [
      "\u001B[32m[I 2023-04-29 18:37:44,898]\u001B[0m Trial 335 finished with value: 0.21107543234348297 and parameters: {'eta': 0.1811398272211522, 'max_depth': 7, 'min_child_weight': 6.5322619995690205, 'subsample': 0.7222771446893037, 'colsample_bynode': 0.4663841221668269}. Best is trial 53 with value: 0.19849697959875512.\u001B[0m\n"
     ]
    },
    {
     "name": "stdout",
     "output_type": "stream",
     "text": [
      "[0]\ttrain-logloss:18.40655+0.12457\ttrain-error:0.49962+0.00338\ttest-logloss:18.40644+0.49841\ttest-error:0.49961+0.01353\n",
      "[99]\ttrain-logloss:5.82375+0.13813\ttrain-error:0.15808+0.00375\ttest-logloss:7.48245+0.26892\ttest-error:0.20310+0.00730\n"
     ]
    },
    {
     "name": "stderr",
     "output_type": "stream",
     "text": [
      "\u001B[32m[I 2023-04-29 18:37:47,169]\u001B[0m Trial 336 finished with value: 0.2030992659695182 and parameters: {'eta': 0.1546882611162721, 'max_depth': 6, 'min_child_weight': 4.483773586502058, 'subsample': 0.4489638927224246, 'colsample_bynode': 0.18668372393169794}. Best is trial 53 with value: 0.19849697959875512.\u001B[0m\n"
     ]
    },
    {
     "name": "stdout",
     "output_type": "stream",
     "text": [
      "[0]\ttrain-logloss:18.40655+0.12457\ttrain-error:0.49962+0.00338\ttest-logloss:18.40644+0.49841\ttest-error:0.49961+0.01353\n",
      "[99]\ttrain-logloss:6.75764+0.11076\ttrain-error:0.18343+0.00301\ttest-logloss:7.55589+0.21243\ttest-error:0.20509+0.00577\n"
     ]
    },
    {
     "name": "stderr",
     "output_type": "stream",
     "text": [
      "\u001B[32m[I 2023-04-29 18:37:49,062]\u001B[0m Trial 337 finished with value: 0.20509266016601613 and parameters: {'eta': 0.11553781551321372, 'max_depth': 5, 'min_child_weight': 9.863368947830896, 'subsample': 0.42600867571120604, 'colsample_bynode': 0.16533221160575293}. Best is trial 53 with value: 0.19849697959875512.\u001B[0m\n"
     ]
    },
    {
     "name": "stdout",
     "output_type": "stream",
     "text": [
      "[0]\ttrain-logloss:18.40655+0.12457\ttrain-error:0.49962+0.00338\ttest-logloss:18.40644+0.49841\ttest-error:0.49961+0.01353\n",
      "[99]\ttrain-logloss:2.85537+0.10029\ttrain-error:0.07750+0.00272\ttest-logloss:7.77066+0.25185\ttest-error:0.21092+0.00684\n"
     ]
    },
    {
     "name": "stderr",
     "output_type": "stream",
     "text": [
      "\u001B[32m[I 2023-04-29 18:37:53,805]\u001B[0m Trial 338 finished with value: 0.21092229352744257 and parameters: {'eta': 0.13779012877379707, 'max_depth': 9, 'min_child_weight': 3.107400170019365, 'subsample': 0.6426849025758029, 'colsample_bynode': 0.25254728952196737}. Best is trial 53 with value: 0.19849697959875512.\u001B[0m\n"
     ]
    },
    {
     "name": "stdout",
     "output_type": "stream",
     "text": [
      "[0]\ttrain-logloss:18.40655+0.12457\ttrain-error:0.49962+0.00338\ttest-logloss:18.40644+0.49841\ttest-error:0.49961+0.01353\n",
      "[99]\ttrain-logloss:3.68328+0.15541\ttrain-error:0.09998+0.00422\ttest-logloss:8.14359+0.52941\ttest-error:0.22104+0.01437\n"
     ]
    },
    {
     "name": "stderr",
     "output_type": "stream",
     "text": [
      "\u001B[32m[I 2023-04-29 18:37:56,104]\u001B[0m Trial 339 finished with value: 0.22104475749685717 and parameters: {'eta': 0.29371498673491847, 'max_depth': 6, 'min_child_weight': 1.6738278412146506, 'subsample': 0.5212853406920691, 'colsample_bynode': 0.10008408388336627}. Best is trial 53 with value: 0.19849697959875512.\u001B[0m\n"
     ]
    },
    {
     "name": "stdout",
     "output_type": "stream",
     "text": [
      "[0]\ttrain-logloss:18.40655+0.12457\ttrain-error:0.49962+0.00338\ttest-logloss:18.40644+0.49841\ttest-error:0.49961+0.01353\n",
      "[99]\ttrain-logloss:4.99159+0.18852\ttrain-error:0.13549+0.00512\ttest-logloss:7.58978+0.27813\ttest-error:0.20601+0.00755\n"
     ]
    },
    {
     "name": "stderr",
     "output_type": "stream",
     "text": [
      "\u001B[32m[I 2023-04-29 18:37:58,745]\u001B[0m Trial 340 finished with value: 0.2060124347306122 and parameters: {'eta': 0.19982338439020267, 'max_depth': 7, 'min_child_weight': 7.873536629098656, 'subsample': 0.4744035649747171, 'colsample_bynode': 0.14114877866689515}. Best is trial 53 with value: 0.19849697959875512.\u001B[0m\n"
     ]
    },
    {
     "name": "stdout",
     "output_type": "stream",
     "text": [
      "[0]\ttrain-logloss:18.40655+0.12457\ttrain-error:0.49962+0.00338\ttest-logloss:18.40644+0.49841\ttest-error:0.49961+0.01353\n",
      "[99]\ttrain-logloss:4.87008+0.13036\ttrain-error:0.13219+0.00354\ttest-logloss:7.56153+0.38634\ttest-error:0.20525+0.01049\n"
     ]
    },
    {
     "name": "stderr",
     "output_type": "stream",
     "text": [
      "\u001B[32m[I 2023-04-29 18:38:01,020]\u001B[0m Trial 341 finished with value: 0.20524556356496806 and parameters: {'eta': 0.2482765422507792, 'max_depth': 6, 'min_child_weight': 5.495516011358297, 'subsample': 0.5448300277687425, 'colsample_bynode': 0.19797153665828043}. Best is trial 53 with value: 0.19849697959875512.\u001B[0m\n"
     ]
    },
    {
     "name": "stdout",
     "output_type": "stream",
     "text": [
      "[0]\ttrain-logloss:18.40655+0.12457\ttrain-error:0.49962+0.00338\ttest-logloss:18.40644+0.49841\ttest-error:0.49961+0.01353\n",
      "[99]\ttrain-logloss:0.12009+0.01610\ttrain-error:0.00326+0.00044\ttest-logloss:8.82181+0.46958\ttest-error:0.23945+0.01275\n"
     ]
    },
    {
     "name": "stderr",
     "output_type": "stream",
     "text": [
      "\u001B[32m[I 2023-04-29 18:38:04,103]\u001B[0m Trial 342 finished with value: 0.23945402068845373 and parameters: {'eta': 0.16442958489621623, 'max_depth': 7, 'min_child_weight': 0.8629036051007519, 'subsample': 0.6060463580183562, 'colsample_bynode': 0.17539671923729677}. Best is trial 53 with value: 0.19849697959875512.\u001B[0m\n"
     ]
    },
    {
     "name": "stdout",
     "output_type": "stream",
     "text": [
      "[0]\ttrain-logloss:18.40655+0.12457\ttrain-error:0.49962+0.00338\ttest-logloss:18.40644+0.49841\ttest-error:0.49961+0.01353\n",
      "[99]\ttrain-logloss:4.00401+0.06400\ttrain-error:0.10868+0.00174\ttest-logloss:7.37507+0.32540\ttest-error:0.20018+0.00883\n"
     ]
    },
    {
     "name": "stderr",
     "output_type": "stream",
     "text": [
      "\u001B[32m[I 2023-04-29 18:38:07,362]\u001B[0m Trial 343 finished with value: 0.20018444928880497 and parameters: {'eta': 0.14633281585208657, 'max_depth': 8, 'min_child_weight': 7.29289183599821, 'subsample': 0.7036609617068705, 'colsample_bynode': 0.23106937164010363}. Best is trial 53 with value: 0.19849697959875512.\u001B[0m\n"
     ]
    },
    {
     "name": "stdout",
     "output_type": "stream",
     "text": [
      "[0]\ttrain-logloss:18.40655+0.12457\ttrain-error:0.49962+0.00338\ttest-logloss:18.40644+0.49841\ttest-error:0.49961+0.01353\n",
      "[99]\ttrain-logloss:0.00000+0.00000\ttrain-error:0.00000+0.00000\ttest-logloss:9.39826+0.41175\ttest-error:0.25510+0.01118\n"
     ]
    },
    {
     "name": "stderr",
     "output_type": "stream",
     "text": [
      "\u001B[32m[I 2023-04-29 18:38:10,677]\u001B[0m Trial 344 finished with value: 0.2551006643470236 and parameters: {'eta': 0.27867927770673956, 'max_depth': 8, 'min_child_weight': 0.27485421839347374, 'subsample': 0.6924401230260232, 'colsample_bynode': 0.2379996979930598}. Best is trial 53 with value: 0.19849697959875512.\u001B[0m\n"
     ]
    },
    {
     "name": "stdout",
     "output_type": "stream",
     "text": [
      "[0]\ttrain-logloss:18.40655+0.12457\ttrain-error:0.49962+0.00338\ttest-logloss:18.40644+0.49841\ttest-error:0.49961+0.01353\n",
      "[99]\ttrain-logloss:6.25608+0.13420\ttrain-error:0.16981+0.00364\ttest-logloss:7.57853+0.16632\ttest-error:0.20571+0.00451\n"
     ]
    },
    {
     "name": "stderr",
     "output_type": "stream",
     "text": [
      "\u001B[32m[I 2023-04-29 18:38:12,476]\u001B[0m Trial 345 finished with value: 0.20570709876688528 and parameters: {'eta': 0.13935654910940415, 'max_depth': 4, 'min_child_weight': 3.632498066171605, 'subsample': 0.7108607025723708, 'colsample_bynode': 0.22359394880401307}. Best is trial 53 with value: 0.19849697959875512.\u001B[0m\n"
     ]
    },
    {
     "name": "stdout",
     "output_type": "stream",
     "text": [
      "[0]\ttrain-logloss:18.40655+0.12457\ttrain-error:0.49962+0.00338\ttest-logloss:18.40644+0.49841\ttest-error:0.49961+0.01353\n",
      "[99]\ttrain-logloss:3.08707+0.07824\ttrain-error:0.08379+0.00212\ttest-logloss:7.52768+0.33535\ttest-error:0.20433+0.00910\n"
     ]
    },
    {
     "name": "stderr",
     "output_type": "stream",
     "text": [
      "\u001B[32m[I 2023-04-29 18:38:16,064]\u001B[0m Trial 346 finished with value: 0.2043267306687258 and parameters: {'eta': 0.14791475692670364, 'max_depth': 8, 'min_child_weight': 6.142206100264484, 'subsample': 0.7412701483063069, 'colsample_bynode': 0.3444481576900251}. Best is trial 53 with value: 0.19849697959875512.\u001B[0m\n"
     ]
    },
    {
     "name": "stdout",
     "output_type": "stream",
     "text": [
      "[0]\ttrain-logloss:18.40655+0.12457\ttrain-error:0.49962+0.00338\ttest-logloss:18.40644+0.49841\ttest-error:0.49961+0.01353\n",
      "[99]\ttrain-logloss:2.14611+0.06711\ttrain-error:0.05825+0.00182\ttest-logloss:7.87240+0.34721\ttest-error:0.21368+0.00942\n"
     ]
    },
    {
     "name": "stderr",
     "output_type": "stream",
     "text": [
      "\u001B[32m[I 2023-04-29 18:38:20,141]\u001B[0m Trial 347 finished with value: 0.2136836182664827 and parameters: {'eta': 0.12443295750799072, 'max_depth': 8, 'min_child_weight': 1.064107825534469, 'subsample': 0.7029668038891559, 'colsample_bynode': 0.21530070350956923}. Best is trial 53 with value: 0.19849697959875512.\u001B[0m\n"
     ]
    },
    {
     "name": "stdout",
     "output_type": "stream",
     "text": [
      "[0]\ttrain-logloss:18.40655+0.12457\ttrain-error:0.49962+0.00338\ttest-logloss:18.40644+0.49841\ttest-error:0.49961+0.01353\n",
      "[99]\ttrain-logloss:0.00989+0.00565\ttrain-error:0.00027+0.00015\ttest-logloss:9.02535+0.38252\ttest-error:0.24498+0.01038\n"
     ]
    },
    {
     "name": "stderr",
     "output_type": "stream",
     "text": [
      "\u001B[32m[I 2023-04-29 18:38:23,816]\u001B[0m Trial 348 finished with value: 0.24497878892033015 and parameters: {'eta': 0.17678770035100058, 'max_depth': 8, 'min_child_weight': 0.05098726829774797, 'subsample': 0.663696105225941, 'colsample_bynode': 0.25755462058030654}. Best is trial 53 with value: 0.19849697959875512.\u001B[0m\n"
     ]
    },
    {
     "name": "stdout",
     "output_type": "stream",
     "text": [
      "[0]\ttrain-logloss:18.40655+0.12457\ttrain-error:0.49962+0.00338\ttest-logloss:18.40644+0.49841\ttest-error:0.49961+0.01353\n",
      "[99]\ttrain-logloss:4.64827+0.14274\ttrain-error:0.12617+0.00387\ttest-logloss:7.39766+0.20173\ttest-error:0.20080+0.00548\n"
     ]
    },
    {
     "name": "stderr",
     "output_type": "stream",
     "text": [
      "\u001B[32m[I 2023-04-29 18:38:27,241]\u001B[0m Trial 349 finished with value: 0.20079771080423187 and parameters: {'eta': 0.09976280366784329, 'max_depth': 8, 'min_child_weight': 8.855297164389613, 'subsample': 0.72101291821271, 'colsample_bynode': 0.3054099605444436}. Best is trial 53 with value: 0.19849697959875512.\u001B[0m\n"
     ]
    },
    {
     "name": "stdout",
     "output_type": "stream",
     "text": [
      "[0]\ttrain-logloss:18.40655+0.12457\ttrain-error:0.49962+0.00338\ttest-logloss:18.40644+0.49841\ttest-error:0.49961+0.01353\n",
      "[99]\ttrain-logloss:4.50133+0.20882\ttrain-error:0.12218+0.00567\ttest-logloss:7.57849+0.25141\ttest-error:0.20571+0.00682\n"
     ]
    },
    {
     "name": "stderr",
     "output_type": "stream",
     "text": [
      "\u001B[32m[I 2023-04-29 18:38:30,697]\u001B[0m Trial 350 finished with value: 0.20570615709853146 and parameters: {'eta': 0.10510443297793713, 'max_depth': 8, 'min_child_weight': 8.763994899024164, 'subsample': 0.7254995773767308, 'colsample_bynode': 0.27376038093462046}. Best is trial 53 with value: 0.19849697959875512.\u001B[0m\n"
     ]
    },
    {
     "name": "stdout",
     "output_type": "stream",
     "text": [
      "[0]\ttrain-logloss:18.40655+0.12457\ttrain-error:0.49962+0.00338\ttest-logloss:18.40644+0.49841\ttest-error:0.49961+0.01353\n",
      "[99]\ttrain-logloss:4.76129+0.11126\ttrain-error:0.12924+0.00302\ttest-logloss:7.60675+0.26137\ttest-error:0.20647+0.00709\n"
     ]
    },
    {
     "name": "stderr",
     "output_type": "stream",
     "text": [
      "\u001B[32m[I 2023-04-29 18:38:34,398]\u001B[0m Trial 351 finished with value: 0.20647314597271987 and parameters: {'eta': 0.09377643462121513, 'max_depth': 8, 'min_child_weight': 8.822202520225625, 'subsample': 0.7503305993572522, 'colsample_bynode': 0.3281435157926139}. Best is trial 53 with value: 0.19849697959875512.\u001B[0m\n"
     ]
    },
    {
     "name": "stdout",
     "output_type": "stream",
     "text": [
      "[0]\ttrain-logloss:18.40655+0.12457\ttrain-error:0.49962+0.00338\ttest-logloss:18.40644+0.49841\ttest-error:0.49961+0.01353\n",
      "[99]\ttrain-logloss:5.41686+0.17185\ttrain-error:0.14703+0.00466\ttest-logloss:7.48241+0.31575\ttest-error:0.20310+0.00857\n"
     ]
    },
    {
     "name": "stderr",
     "output_type": "stream",
     "text": [
      "\u001B[32m[I 2023-04-29 18:38:37,103]\u001B[0m Trial 352 finished with value: 0.20309797117553172 and parameters: {'eta': 0.10295253667284661, 'max_depth': 7, 'min_child_weight': 7.760883284697341, 'subsample': 0.5760743807517616, 'colsample_bynode': 0.3115928609007471}. Best is trial 53 with value: 0.19849697959875512.\u001B[0m\n"
     ]
    },
    {
     "name": "stdout",
     "output_type": "stream",
     "text": [
      "[0]\ttrain-logloss:18.40655+0.12457\ttrain-error:0.49962+0.00338\ttest-logloss:18.40644+0.49841\ttest-error:0.49961+0.01353\n",
      "[99]\ttrain-logloss:4.59176+0.27728\ttrain-error:0.12464+0.00753\ttest-logloss:7.53895+0.15253\ttest-error:0.20463+0.00414\n"
     ]
    },
    {
     "name": "stderr",
     "output_type": "stream",
     "text": [
      "\u001B[32m[I 2023-04-29 18:38:40,110]\u001B[0m Trial 353 finished with value: 0.2046328905922623 and parameters: {'eta': 0.10944240455748575, 'max_depth': 7, 'min_child_weight': 4.521192195199691, 'subsample': 0.6808101199493478, 'colsample_bynode': 0.377046954305744}. Best is trial 53 with value: 0.19849697959875512.\u001B[0m\n"
     ]
    },
    {
     "name": "stdout",
     "output_type": "stream",
     "text": [
      "[0]\ttrain-logloss:18.40655+0.12457\ttrain-error:0.49962+0.00338\ttest-logloss:18.40644+0.49841\ttest-error:0.49961+0.01353\n",
      "[99]\ttrain-logloss:1.87909+0.11306\ttrain-error:0.05100+0.00307\ttest-logloss:7.83852+0.44971\ttest-error:0.21276+0.01221\n"
     ]
    },
    {
     "name": "stderr",
     "output_type": "stream",
     "text": [
      "\u001B[32m[I 2023-04-29 18:38:44,148]\u001B[0m Trial 354 finished with value: 0.2127641968275193 and parameters: {'eta': 0.1891932779831184, 'max_depth': 8, 'min_child_weight': 2.7235498001439025, 'subsample': 0.7569288765832648, 'colsample_bynode': 0.2370781793817796}. Best is trial 53 with value: 0.19849697959875512.\u001B[0m\n"
     ]
    },
    {
     "name": "stdout",
     "output_type": "stream",
     "text": [
      "[0]\ttrain-logloss:18.40655+0.12457\ttrain-error:0.49962+0.00338\ttest-logloss:18.40644+0.49841\ttest-error:0.49961+0.01353\n",
      "[99]\ttrain-logloss:4.68783+0.20728\ttrain-error:0.12724+0.00563\ttest-logloss:7.69154+0.28116\ttest-error:0.20877+0.00763\n"
     ]
    },
    {
     "name": "stderr",
     "output_type": "stream",
     "text": [
      "\u001B[32m[I 2023-04-29 18:38:46,338]\u001B[0m Trial 355 finished with value: 0.20877446572091776 and parameters: {'eta': 0.2626734597313469, 'max_depth': 5, 'min_child_weight': 3.7890883723173734, 'subsample': 0.7248374853346101, 'colsample_bynode': 0.2034435487295779}. Best is trial 53 with value: 0.19849697959875512.\u001B[0m\n"
     ]
    },
    {
     "name": "stdout",
     "output_type": "stream",
     "text": [
      "[0]\ttrain-logloss:18.40655+0.12457\ttrain-error:0.49962+0.00338\ttest-logloss:18.40644+0.49841\ttest-error:0.49961+0.01353\n",
      "[99]\ttrain-logloss:3.35551+0.07688\ttrain-error:0.09108+0.00209\ttest-logloss:7.71976+0.42055\ttest-error:0.20954+0.01142\n"
     ]
    },
    {
     "name": "stderr",
     "output_type": "stream",
     "text": [
      "\u001B[32m[I 2023-04-29 18:38:50,101]\u001B[0m Trial 356 finished with value: 0.20954051292675233 and parameters: {'eta': 0.07994095173151894, 'max_depth': 7, 'min_child_weight': 1.3000781891629871, 'subsample': 0.7837638199974359, 'colsample_bynode': 0.27629688848805345}. Best is trial 53 with value: 0.19849697959875512.\u001B[0m\n"
     ]
    },
    {
     "name": "stdout",
     "output_type": "stream",
     "text": [
      "[0]\ttrain-logloss:18.40655+0.12457\ttrain-error:0.49962+0.00338\ttest-logloss:18.40644+0.49841\ttest-error:0.49961+0.01353\n",
      "[99]\ttrain-logloss:1.51316+0.12299\ttrain-error:0.04107+0.00334\ttest-logloss:8.58461+0.60757\ttest-error:0.23302+0.01649\n"
     ]
    },
    {
     "name": "stderr",
     "output_type": "stream",
     "text": [
      "\u001B[32m[I 2023-04-29 18:38:53,451]\u001B[0m Trial 357 finished with value: 0.23301559873628105 and parameters: {'eta': 0.4122643594124312, 'max_depth': 8, 'min_child_weight': 5.136465946499506, 'subsample': 0.7374514211562457, 'colsample_bynode': 0.3119083251354987}. Best is trial 53 with value: 0.19849697959875512.\u001B[0m\n"
     ]
    },
    {
     "name": "stdout",
     "output_type": "stream",
     "text": [
      "[0]\ttrain-logloss:18.40655+0.12457\ttrain-error:0.49962+0.00338\ttest-logloss:18.40644+0.49841\ttest-error:0.49961+0.01353\n",
      "[99]\ttrain-logloss:5.52282+0.16788\ttrain-error:0.14991+0.00456\ttest-logloss:7.50506+0.24089\ttest-error:0.20371+0.00654\n"
     ]
    },
    {
     "name": "stderr",
     "output_type": "stream",
     "text": [
      "\u001B[32m[I 2023-04-29 18:38:56,099]\u001B[0m Trial 358 finished with value: 0.20371288061057777 and parameters: {'eta': 0.0933921366616771, 'max_depth': 7, 'min_child_weight': 9.87992662794522, 'subsample': 0.6385041110053306, 'colsample_bynode': 0.3509880576352871}. Best is trial 53 with value: 0.19849697959875512.\u001B[0m\n"
     ]
    },
    {
     "name": "stdout",
     "output_type": "stream",
     "text": [
      "[0]\ttrain-logloss:18.40655+0.12457\ttrain-error:0.49962+0.00338\ttest-logloss:18.40644+0.49841\ttest-error:0.49961+0.01353\n",
      "[99]\ttrain-logloss:4.64120+0.16680\ttrain-error:0.12598+0.00453\ttest-logloss:7.52202+0.34972\ttest-error:0.20417+0.00949\n"
     ]
    },
    {
     "name": "stderr",
     "output_type": "stream",
     "text": [
      "\u001B[32m[I 2023-04-29 18:38:59,625]\u001B[0m Trial 359 finished with value: 0.20417335643559698 and parameters: {'eta': 0.12035206834271725, 'max_depth': 9, 'min_child_weight': 3.2586626216202745, 'subsample': 0.4141725339145947, 'colsample_bynode': 0.19783682266809655}. Best is trial 53 with value: 0.19849697959875512.\u001B[0m\n"
     ]
    },
    {
     "name": "stdout",
     "output_type": "stream",
     "text": [
      "[0]\ttrain-logloss:18.40655+0.12457\ttrain-error:0.49962+0.00338\ttest-logloss:18.40644+0.49841\ttest-error:0.49961+0.01353\n",
      "[99]\ttrain-logloss:0.68947+0.11097\ttrain-error:0.01871+0.00301\ttest-logloss:9.77127+0.35292\ttest-error:0.26523+0.00958\n"
     ]
    },
    {
     "name": "stderr",
     "output_type": "stream",
     "text": [
      "\u001B[32m[I 2023-04-29 18:39:01,690]\u001B[0m Trial 360 finished with value: 0.2652254824873228 and parameters: {'eta': 0.20659221126561197, 'max_depth': 5, 'min_child_weight': 0.6598677156416126, 'subsample': 0.3879774074226665, 'colsample_bynode': 0.5474403773891742}. Best is trial 53 with value: 0.19849697959875512.\u001B[0m\n"
     ]
    },
    {
     "name": "stdout",
     "output_type": "stream",
     "text": [
      "[0]\ttrain-logloss:18.40655+0.12457\ttrain-error:0.49962+0.00338\ttest-logloss:18.40644+0.49841\ttest-error:0.49961+0.01353\n",
      "[99]\ttrain-logloss:2.88080+0.14289\ttrain-error:0.07819+0.00388\ttest-logloss:8.33016+0.57252\ttest-error:0.22611+0.01554\n"
     ]
    },
    {
     "name": "stderr",
     "output_type": "stream",
     "text": [
      "\u001B[32m[I 2023-04-29 18:39:04,284]\u001B[0m Trial 361 finished with value: 0.2261089321951702 and parameters: {'eta': 0.2337582372074628, 'max_depth': 6, 'min_child_weight': 1.7623856626917864, 'subsample': 0.45798907064335576, 'colsample_bynode': 0.7931366411266239}. Best is trial 53 with value: 0.19849697959875512.\u001B[0m\n"
     ]
    },
    {
     "name": "stdout",
     "output_type": "stream",
     "text": [
      "[0]\ttrain-logloss:18.40655+0.12457\ttrain-error:0.49962+0.00338\ttest-logloss:18.40644+0.49841\ttest-error:0.49961+0.01353\n",
      "[99]\ttrain-logloss:3.96587+0.21309\ttrain-error:0.10765+0.00578\ttest-logloss:7.49937+0.30098\ttest-error:0.20356+0.00817\n"
     ]
    },
    {
     "name": "stderr",
     "output_type": "stream",
     "text": [
      "\u001B[32m[I 2023-04-29 18:39:06,943]\u001B[0m Trial 362 finished with value: 0.20355832929200668 and parameters: {'eta': 0.18409597715477657, 'max_depth': 7, 'min_child_weight': 4.390394949142239, 'subsample': 0.6184498170861578, 'colsample_bynode': 0.2186471788560195}. Best is trial 53 with value: 0.19849697959875512.\u001B[0m\n"
     ]
    },
    {
     "name": "stdout",
     "output_type": "stream",
     "text": [
      "[0]\ttrain-logloss:18.40655+0.12457\ttrain-error:0.49962+0.00338\ttest-logloss:18.40644+0.49841\ttest-error:0.49961+0.01353\n",
      "[99]\ttrain-logloss:5.10321+0.16316\ttrain-error:0.13852+0.00443\ttest-logloss:7.56160+0.26082\ttest-error:0.20525+0.00708\n"
     ]
    },
    {
     "name": "stderr",
     "output_type": "stream",
     "text": [
      "\u001B[32m[I 2023-04-29 18:39:09,045]\u001B[0m Trial 363 finished with value: 0.20524756461021995 and parameters: {'eta': 0.19937451650296142, 'max_depth': 6, 'min_child_weight': 7.308627202674002, 'subsample': 0.49355436006264836, 'colsample_bynode': 0.24788212974493284}. Best is trial 53 with value: 0.19849697959875512.\u001B[0m\n"
     ]
    },
    {
     "name": "stdout",
     "output_type": "stream",
     "text": [
      "[0]\ttrain-logloss:18.40655+0.12457\ttrain-error:0.49962+0.00338\ttest-logloss:18.40644+0.49841\ttest-error:0.49961+0.01353\n",
      "[99]\ttrain-logloss:6.04698+0.09516\ttrain-error:0.16414+0.00258\ttest-logloss:7.74248+0.37791\ttest-error:0.21016+0.01026\n"
     ]
    },
    {
     "name": "stderr",
     "output_type": "stream",
     "text": [
      "\u001B[32m[I 2023-04-29 18:39:11,460]\u001B[0m Trial 364 finished with value: 0.2101571879899618 and parameters: {'eta': 0.2231834081828125, 'max_depth': 8, 'min_child_weight': 8.716878802031497, 'subsample': 0.1176938575843186, 'colsample_bynode': 0.34896543556244686}. Best is trial 53 with value: 0.19849697959875512.\u001B[0m\n"
     ]
    },
    {
     "name": "stdout",
     "output_type": "stream",
     "text": [
      "[0]\ttrain-logloss:18.40655+0.12457\ttrain-error:0.49962+0.00338\ttest-logloss:18.40644+0.49841\ttest-error:0.49961+0.01353\n",
      "[99]\ttrain-logloss:5.38719+0.21942\ttrain-error:0.14623+0.00596\ttest-logloss:7.40331+0.32696\ttest-error:0.20095+0.00887\n"
     ]
    },
    {
     "name": "stderr",
     "output_type": "stream",
     "text": [
      "\u001B[32m[I 2023-04-29 18:39:13,873]\u001B[0m Trial 365 finished with value: 0.20095096732881648 and parameters: {'eta': 0.13329995953652565, 'max_depth': 6, 'min_child_weight': 5.794612910278577, 'subsample': 0.5887074507446461, 'colsample_bynode': 0.3000669454061383}. Best is trial 53 with value: 0.19849697959875512.\u001B[0m\n"
     ]
    },
    {
     "name": "stdout",
     "output_type": "stream",
     "text": [
      "[0]\ttrain-logloss:18.40655+0.12457\ttrain-error:0.49962+0.00338\ttest-logloss:18.40644+0.49841\ttest-error:0.49961+0.01353\n",
      "[99]\ttrain-logloss:5.55531+0.11078\ttrain-error:0.15079+0.00301\ttest-logloss:7.47680+0.26548\ttest-error:0.20295+0.00721\n"
     ]
    },
    {
     "name": "stderr",
     "output_type": "stream",
     "text": [
      "\u001B[32m[I 2023-04-29 18:39:16,214]\u001B[0m Trial 366 finished with value: 0.20294589173638938 and parameters: {'eta': 0.12489190263687021, 'max_depth': 6, 'min_child_weight': 5.47898786320788, 'subsample': 0.5932032934262085, 'colsample_bynode': 0.2939464499215873}. Best is trial 53 with value: 0.19849697959875512.\u001B[0m\n"
     ]
    },
    {
     "name": "stdout",
     "output_type": "stream",
     "text": [
      "[0]\ttrain-logloss:18.40655+0.12457\ttrain-error:0.49962+0.00338\ttest-logloss:18.40644+0.49841\ttest-error:0.49961+0.01353\n",
      "[99]\ttrain-logloss:5.44229+0.13991\ttrain-error:0.14772+0.00380\ttest-logloss:7.51631+0.23612\ttest-error:0.20402+0.00641\n"
     ]
    },
    {
     "name": "stderr",
     "output_type": "stream",
     "text": [
      "\u001B[32m[I 2023-04-29 18:39:18,497]\u001B[0m Trial 367 finished with value: 0.2040182165743047 and parameters: {'eta': 0.13456851914336132, 'max_depth': 6, 'min_child_weight': 5.040652435291484, 'subsample': 0.5760405156138834, 'colsample_bynode': 0.32643899732278525}. Best is trial 53 with value: 0.19849697959875512.\u001B[0m\n"
     ]
    },
    {
     "name": "stdout",
     "output_type": "stream",
     "text": [
      "[0]\ttrain-logloss:18.40655+0.12457\ttrain-error:0.49962+0.00338\ttest-logloss:18.40644+0.49841\ttest-error:0.49961+0.01353\n",
      "[99]\ttrain-logloss:5.81104+0.12557\ttrain-error:0.15773+0.00341\ttest-logloss:7.47111+0.16545\ttest-error:0.20279+0.00449\n"
     ]
    },
    {
     "name": "stderr",
     "output_type": "stream",
     "text": [
      "\u001B[32m[I 2023-04-29 18:39:20,687]\u001B[0m Trial 368 finished with value: 0.20279134041781824 and parameters: {'eta': 0.11736513099604147, 'max_depth': 6, 'min_child_weight': 6.0538222520655545, 'subsample': 0.5523626026401626, 'colsample_bynode': 0.2830588333101935}. Best is trial 53 with value: 0.19849697959875512.\u001B[0m\n"
     ]
    },
    {
     "name": "stdout",
     "output_type": "stream",
     "text": [
      "[0]\ttrain-logloss:18.40655+0.12457\ttrain-error:0.49962+0.00338\ttest-logloss:18.40644+0.49841\ttest-error:0.49961+0.01353\n",
      "[99]\ttrain-logloss:5.41121+0.16649\ttrain-error:0.14688+0.00452\ttest-logloss:7.52201+0.32085\ttest-error:0.20417+0.00871\n"
     ]
    },
    {
     "name": "stderr",
     "output_type": "stream",
     "text": [
      "\u001B[32m[I 2023-04-29 18:39:22,926]\u001B[0m Trial 369 finished with value: 0.20417300330996424 and parameters: {'eta': 0.12878607888449964, 'max_depth': 6, 'min_child_weight': 4.125871532461718, 'subsample': 0.5957338390360516, 'colsample_bynode': 0.31428490980784013}. Best is trial 53 with value: 0.19849697959875512.\u001B[0m\n"
     ]
    },
    {
     "name": "stdout",
     "output_type": "stream",
     "text": [
      "[0]\ttrain-logloss:18.40655+0.12457\ttrain-error:0.49962+0.00338\ttest-logloss:18.40644+0.49841\ttest-error:0.49961+0.01353\n",
      "[99]\ttrain-logloss:5.38012+0.11365\ttrain-error:0.14603+0.00308\ttest-logloss:7.51068+0.21653\ttest-error:0.20387+0.00588\n"
     ]
    },
    {
     "name": "stderr",
     "output_type": "stream",
     "text": [
      "\u001B[32m[I 2023-04-29 18:39:25,128]\u001B[0m Trial 370 finished with value: 0.20386531317535278 and parameters: {'eta': 0.14255531182917283, 'max_depth': 6, 'min_child_weight': 4.768217457608089, 'subsample': 0.5712434654118898, 'colsample_bynode': 0.2655872773092623}. Best is trial 53 with value: 0.19849697959875512.\u001B[0m\n"
     ]
    },
    {
     "name": "stdout",
     "output_type": "stream",
     "text": [
      "[0]\ttrain-logloss:18.40655+0.12457\ttrain-error:0.49962+0.00338\ttest-logloss:18.40644+0.49841\ttest-error:0.49961+0.01353\n",
      "[99]\ttrain-logloss:0.26844+0.06848\ttrain-error:0.00729+0.00186\ttest-logloss:8.61273+0.35419\ttest-error:0.23378+0.00961\n"
     ]
    },
    {
     "name": "stderr",
     "output_type": "stream",
     "text": [
      "\u001B[32m[I 2023-04-29 18:39:27,696]\u001B[0m Trial 371 finished with value: 0.2337789386455984 and parameters: {'eta': 0.11207314458576828, 'max_depth': 6, 'min_child_weight': 0.7027020054235718, 'subsample': 0.7630723613082389, 'colsample_bynode': 0.23362950734162657}. Best is trial 53 with value: 0.19849697959875512.\u001B[0m\n"
     ]
    },
    {
     "name": "stdout",
     "output_type": "stream",
     "text": [
      "[0]\ttrain-logloss:18.40655+0.12457\ttrain-error:0.49962+0.00338\ttest-logloss:18.40644+0.49841\ttest-error:0.49961+0.01353\n",
      "[99]\ttrain-logloss:5.34480+0.09262\ttrain-error:0.14508+0.00251\ttest-logloss:7.64068+0.23499\ttest-error:0.20739+0.00638\n"
     ]
    },
    {
     "name": "stderr",
     "output_type": "stream",
     "text": [
      "\u001B[32m[I 2023-04-29 18:39:29,599]\u001B[0m Trial 372 finished with value: 0.20739397991421402 and parameters: {'eta': 0.15634182432588437, 'max_depth': 5, 'min_child_weight': 3.5409835400924212, 'subsample': 0.7126564548411626, 'colsample_bynode': 0.3592246845799909}. Best is trial 53 with value: 0.19849697959875512.\u001B[0m\n"
     ]
    },
    {
     "name": "stdout",
     "output_type": "stream",
     "text": [
      "[0]\ttrain-logloss:18.40655+0.12457\ttrain-error:0.49962+0.00338\ttest-logloss:18.40644+0.49841\ttest-error:0.49961+0.01353\n",
      "[99]\ttrain-logloss:6.02438+0.10939\ttrain-error:0.16352+0.00297\ttest-logloss:7.50503+0.22889\ttest-error:0.20371+0.00621\n"
     ]
    },
    {
     "name": "stderr",
     "output_type": "stream",
     "text": [
      "\u001B[32m[I 2023-04-29 18:39:32,570]\u001B[0m Trial 373 finished with value: 0.20371193894222395 and parameters: {'eta': 0.0992222885914967, 'max_depth': 6, 'min_child_weight': 6.65153179810552, 'subsample': 0.6105736925780884, 'colsample_bynode': 0.2928462101427321}. Best is trial 53 with value: 0.19849697959875512.\u001B[0m\n"
     ]
    },
    {
     "name": "stdout",
     "output_type": "stream",
     "text": [
      "[0]\ttrain-logloss:18.40655+0.12457\ttrain-error:0.49962+0.00338\ttest-logloss:18.40644+0.49841\ttest-error:0.49961+0.01353\n",
      "[99]\ttrain-logloss:4.75706+0.19136\ttrain-error:0.12912+0.00519\ttest-logloss:7.51069+0.19870\ttest-error:0.20387+0.00539\n"
     ]
    },
    {
     "name": "stderr",
     "output_type": "stream",
     "text": [
      "\u001B[32m[I 2023-04-29 18:39:35,571]\u001B[0m Trial 374 finished with value: 0.20386578400952965 and parameters: {'eta': 0.1691070188648776, 'max_depth': 7, 'min_child_weight': 5.740811146440586, 'subsample': 0.650394588706805, 'colsample_bynode': 0.18544136284048882}. Best is trial 53 with value: 0.19849697959875512.\u001B[0m\n"
     ]
    },
    {
     "name": "stdout",
     "output_type": "stream",
     "text": [
      "[0]\ttrain-logloss:18.40655+0.12457\ttrain-error:0.49962+0.00338\ttest-logloss:18.40644+0.49841\ttest-error:0.49961+0.01353\n",
      "[99]\ttrain-logloss:4.70054+0.22148\ttrain-error:0.12759+0.00601\ttest-logloss:7.53895+0.16730\ttest-error:0.20463+0.00454\n"
     ]
    },
    {
     "name": "stderr",
     "output_type": "stream",
     "text": [
      "\u001B[32m[I 2023-04-29 18:39:38,242]\u001B[0m Trial 375 finished with value: 0.20463277288371806 and parameters: {'eta': 0.13266833602013106, 'max_depth': 6, 'min_child_weight': 2.040161798918752, 'subsample': 0.5520503835991871, 'colsample_bynode': 0.21183225742506367}. Best is trial 53 with value: 0.19849697959875512.\u001B[0m\n"
     ]
    },
    {
     "name": "stdout",
     "output_type": "stream",
     "text": [
      "[0]\ttrain-logloss:18.40655+0.12457\ttrain-error:0.49962+0.00338\ttest-logloss:18.40644+0.49841\ttest-error:0.49961+0.01353\n",
      "[99]\ttrain-logloss:2.21252+0.14776\ttrain-error:0.06006+0.00401\ttest-logloss:8.05318+0.38528\ttest-error:0.21859+0.01046\n"
     ]
    },
    {
     "name": "stderr",
     "output_type": "stream",
     "text": [
      "\u001B[32m[I 2023-04-29 18:39:40,716]\u001B[0m Trial 376 finished with value: 0.2185906520582516 and parameters: {'eta': 0.3144821147009009, 'max_depth': 6, 'min_child_weight': 2.7613807660915857, 'subsample': 0.7928816145823434, 'colsample_bynode': 0.3342992472348371}. Best is trial 53 with value: 0.19849697959875512.\u001B[0m\n"
     ]
    },
    {
     "name": "stdout",
     "output_type": "stream",
     "text": [
      "[0]\ttrain-logloss:18.40655+0.12457\ttrain-error:0.49962+0.00338\ttest-logloss:18.40644+0.49841\ttest-error:0.49961+0.01353\n",
      "[99]\ttrain-logloss:4.14388+0.11682\ttrain-error:0.11248+0.00317\ttest-logloss:7.68590+0.29743\ttest-error:0.20862+0.00807\n"
     ]
    },
    {
     "name": "stderr",
     "output_type": "stream",
     "text": [
      "\u001B[32m[I 2023-04-29 18:39:43,606]\u001B[0m Trial 377 finished with value: 0.20862156232196583 and parameters: {'eta': 0.1489737843556508, 'max_depth': 7, 'min_child_weight': 3.9384208299759194, 'subsample': 0.6830959376677225, 'colsample_bynode': 0.2526770252087646}. Best is trial 53 with value: 0.19849697959875512.\u001B[0m\n"
     ]
    },
    {
     "name": "stdout",
     "output_type": "stream",
     "text": [
      "[0]\ttrain-logloss:18.40655+0.12457\ttrain-error:0.49962+0.00338\ttest-logloss:18.40644+0.49841\ttest-error:0.49961+0.01353\n",
      "[99]\ttrain-logloss:3.76241+0.14016\ttrain-error:0.10212+0.00380\ttest-logloss:7.68600+0.50483\ttest-error:0.20862+0.01370\n"
     ]
    },
    {
     "name": "stderr",
     "output_type": "stream",
     "text": [
      "\u001B[32m[I 2023-04-29 18:39:46,235]\u001B[0m Trial 378 finished with value: 0.20862415190993885 and parameters: {'eta': 0.2696310870677128, 'max_depth': 6, 'min_child_weight': 4.845831275650061, 'subsample': 0.5802911528576514, 'colsample_bynode': 0.29574036947078697}. Best is trial 53 with value: 0.19849697959875512.\u001B[0m\n"
     ]
    },
    {
     "name": "stdout",
     "output_type": "stream",
     "text": [
      "[0]\ttrain-logloss:18.40655+0.12457\ttrain-error:0.49962+0.00338\ttest-logloss:18.40644+0.49841\ttest-error:0.49961+0.01353\n",
      "[99]\ttrain-logloss:5.51857+0.18644\ttrain-error:0.14979+0.00506\ttest-logloss:7.70846+0.30336\ttest-error:0.20923+0.00823\n"
     ]
    },
    {
     "name": "stderr",
     "output_type": "stream",
     "text": [
      "\u001B[32m[I 2023-04-29 18:39:48,200]\u001B[0m Trial 379 finished with value: 0.20923388216903888 and parameters: {'eta': 0.17394130720356427, 'max_depth': 5, 'min_child_weight': 6.806142794746481, 'subsample': 0.7379007529768313, 'colsample_bynode': 0.39607473994259096}. Best is trial 53 with value: 0.19849697959875512.\u001B[0m\n"
     ]
    },
    {
     "name": "stdout",
     "output_type": "stream",
     "text": [
      "[0]\ttrain-logloss:18.40655+0.12457\ttrain-error:0.49962+0.00338\ttest-logloss:18.40644+0.49841\ttest-error:0.49961+0.01353\n",
      "[99]\ttrain-logloss:3.20152+0.15405\ttrain-error:0.08690+0.00418\ttest-logloss:8.22851+0.66778\ttest-error:0.22335+0.01813\n"
     ]
    },
    {
     "name": "stderr",
     "output_type": "stream",
     "text": [
      "\u001B[32m[I 2023-04-29 18:39:50,744]\u001B[0m Trial 380 finished with value: 0.22334972620992613 and parameters: {'eta': 0.4596427037325206, 'max_depth': 7, 'min_child_weight': 5.560081570148233, 'subsample': 0.5378474646985639, 'colsample_bynode': 0.19409065879705578}. Best is trial 53 with value: 0.19849697959875512.\u001B[0m\n"
     ]
    },
    {
     "name": "stdout",
     "output_type": "stream",
     "text": [
      "[0]\ttrain-logloss:18.40655+0.12457\ttrain-error:0.49962+0.00338\ttest-logloss:18.40644+0.49841\ttest-error:0.49961+0.01353\n",
      "[99]\ttrain-logloss:5.21339+0.19909\ttrain-error:0.14151+0.00540\ttest-logloss:7.80458+0.28936\ttest-error:0.21184+0.00785\n"
     ]
    },
    {
     "name": "stderr",
     "output_type": "stream",
     "text": [
      "\u001B[32m[I 2023-04-29 18:39:53,103]\u001B[0m Trial 381 finished with value: 0.211842774343304 and parameters: {'eta': 0.1417956851485161, 'max_depth': 6, 'min_child_weight': 1.4908766827378652, 'subsample': 0.1873163317204689, 'colsample_bynode': 0.38424291874507116}. Best is trial 53 with value: 0.19849697959875512.\u001B[0m\n"
     ]
    },
    {
     "name": "stdout",
     "output_type": "stream",
     "text": [
      "[0]\ttrain-logloss:18.40655+0.12457\ttrain-error:0.49962+0.00338\ttest-logloss:18.40644+0.49841\ttest-error:0.49961+0.01353\n",
      "[99]\ttrain-logloss:6.04557+0.07166\ttrain-error:0.16410+0.00195\ttest-logloss:7.59550+0.30606\ttest-error:0.20617+0.00831\n"
     ]
    },
    {
     "name": "stderr",
     "output_type": "stream",
     "text": [
      "\u001B[32m[I 2023-04-29 18:39:55,301]\u001B[0m Trial 382 finished with value: 0.20616769230044873 and parameters: {'eta': 0.162555189766727, 'max_depth': 6, 'min_child_weight': 3.1848996129020417, 'subsample': 0.6158421620487055, 'colsample_bynode': 0.11822811154177645}. Best is trial 53 with value: 0.19849697959875512.\u001B[0m\n"
     ]
    },
    {
     "name": "stdout",
     "output_type": "stream",
     "text": [
      "[0]\ttrain-logloss:18.40655+0.12457\ttrain-error:0.49962+0.00338\ttest-logloss:18.40644+0.49841\ttest-error:0.49961+0.01353\n",
      "[99]\ttrain-logloss:6.77601+0.05674\ttrain-error:0.18392+0.00154\ttest-logloss:7.50502+0.19647\ttest-error:0.20371+0.00533\n"
     ]
    },
    {
     "name": "stderr",
     "output_type": "stream",
     "text": [
      "\u001B[32m[I 2023-04-29 18:39:57,182]\u001B[0m Trial 383 finished with value: 0.2037118212336797 and parameters: {'eta': 0.0830471715652632, 'max_depth': 5, 'min_child_weight': 4.27019939813124, 'subsample': 0.35884510272158754, 'colsample_bynode': 0.2263420479924661}. Best is trial 53 with value: 0.19849697959875512.\u001B[0m\n"
     ]
    },
    {
     "name": "stdout",
     "output_type": "stream",
     "text": [
      "[0]\ttrain-logloss:18.40655+0.12457\ttrain-error:0.49962+0.00338\ttest-logloss:18.40644+0.49841\ttest-error:0.49961+0.01353\n",
      "[99]\ttrain-logloss:5.42957+0.07287\ttrain-error:0.14738+0.00198\ttest-logloss:7.47678+0.22931\ttest-error:0.20295+0.00622\n"
     ]
    },
    {
     "name": "stderr",
     "output_type": "stream",
     "text": [
      "\u001B[32m[I 2023-04-29 18:39:59,872]\u001B[0m Trial 384 finished with value: 0.20294530319366824 and parameters: {'eta': 0.13172743804025483, 'max_depth': 7, 'min_child_weight': 7.761810250271113, 'subsample': 0.7003364197779249, 'colsample_bynode': 0.18354606863925851}. Best is trial 53 with value: 0.19849697959875512.\u001B[0m\n"
     ]
    },
    {
     "name": "stdout",
     "output_type": "stream",
     "text": [
      "[0]\ttrain-logloss:18.40655+0.12457\ttrain-error:0.49962+0.00338\ttest-logloss:18.40644+0.49841\ttest-error:0.49961+0.01353\n",
      "[99]\ttrain-logloss:5.03539+0.11424\ttrain-error:0.13668+0.00310\ttest-logloss:7.98538+0.39780\ttest-error:0.21675+0.01080\n"
     ]
    },
    {
     "name": "stderr",
     "output_type": "stream",
     "text": [
      "\u001B[32m[I 2023-04-29 18:40:01,262]\u001B[0m Trial 385 finished with value: 0.21675051438633827 and parameters: {'eta': 0.1538567880926976, 'max_depth': 3, 'min_child_weight': 1.0286356496358513, 'subsample': 0.638099256707608, 'colsample_bynode': 0.6296683044837725}. Best is trial 53 with value: 0.19849697959875512.\u001B[0m\n"
     ]
    },
    {
     "name": "stdout",
     "output_type": "stream",
     "text": [
      "[0]\ttrain-logloss:18.40655+0.12457\ttrain-error:0.49962+0.00338\ttest-logloss:18.40644+0.49841\ttest-error:0.49961+0.01353\n",
      "[99]\ttrain-logloss:0.75587+0.12163\ttrain-error:0.02052+0.00330\ttest-logloss:9.23441+0.53883\ttest-error:0.25065+0.01463\n"
     ]
    },
    {
     "name": "stderr",
     "output_type": "stream",
     "text": [
      "\u001B[32m[I 2023-04-29 18:40:03,721]\u001B[0m Trial 386 finished with value: 0.2506532824204643 and parameters: {'eta': 0.21403762590177458, 'max_depth': 6, 'min_child_weight': 0.8645083563331629, 'subsample': 0.25898531931838714, 'colsample_bynode': 0.2706214223596776}. Best is trial 53 with value: 0.19849697959875512.\u001B[0m\n"
     ]
    },
    {
     "name": "stdout",
     "output_type": "stream",
     "text": [
      "[0]\ttrain-logloss:18.40655+0.12457\ttrain-error:0.49962+0.00338\ttest-logloss:18.40644+0.49841\ttest-error:0.49961+0.01353\n",
      "[99]\ttrain-logloss:0.02543+0.00565\ttrain-error:0.00069+0.00015\ttest-logloss:9.03666+0.56661\ttest-error:0.24529+0.01538\n"
     ]
    },
    {
     "name": "stderr",
     "output_type": "stream",
     "text": [
      "\u001B[32m[I 2023-04-29 18:40:07,901]\u001B[0m Trial 387 finished with value: 0.24528577280367628 and parameters: {'eta': 0.17891040161932056, 'max_depth': 10, 'min_child_weight': 0.5422727544331588, 'subsample': 0.6022556128529464, 'colsample_bynode': 0.14116722475037838}. Best is trial 53 with value: 0.19849697959875512.\u001B[0m\n"
     ]
    },
    {
     "name": "stdout",
     "output_type": "stream",
     "text": [
      "[0]\ttrain-logloss:18.40655+0.12457\ttrain-error:0.49962+0.00338\ttest-logloss:18.40644+0.49841\ttest-error:0.49961+0.01353\n",
      "[99]\ttrain-logloss:5.86614+0.11978\ttrain-error:0.15923+0.00325\ttest-logloss:7.35246+0.34831\ttest-error:0.19957+0.00945\n"
     ]
    },
    {
     "name": "stderr",
     "output_type": "stream",
     "text": [
      "\u001B[32m[I 2023-04-29 18:40:10,158]\u001B[0m Trial 388 finished with value: 0.19957083464774542 and parameters: {'eta': 0.11499300033924022, 'max_depth': 6, 'min_child_weight': 6.168102312957562, 'subsample': 0.6796400073067903, 'colsample_bynode': 0.21396245697026356}. Best is trial 53 with value: 0.19849697959875512.\u001B[0m\n"
     ]
    },
    {
     "name": "stdout",
     "output_type": "stream",
     "text": [
      "[0]\ttrain-logloss:18.40655+0.12457\ttrain-error:0.49962+0.00338\ttest-logloss:18.40644+0.49841\ttest-error:0.49961+0.01353\n",
      "[99]\ttrain-logloss:6.49062+0.07164\ttrain-error:0.17618+0.00194\ttest-logloss:7.56153+0.21934\ttest-error:0.20525+0.00595\n"
     ]
    },
    {
     "name": "stderr",
     "output_type": "stream",
     "text": [
      "\u001B[32m[I 2023-04-29 18:40:13,179]\u001B[0m Trial 389 finished with value: 0.20524568127351225 and parameters: {'eta': 0.04601852666739051, 'max_depth': 7, 'min_child_weight': 6.481016076532481, 'subsample': 0.6654920799052335, 'colsample_bynode': 0.21155803761465672}. Best is trial 53 with value: 0.19849697959875512.\u001B[0m\n"
     ]
    },
    {
     "name": "stdout",
     "output_type": "stream",
     "text": [
      "[0]\ttrain-logloss:18.40655+0.12457\ttrain-error:0.49962+0.00338\ttest-logloss:18.40644+0.49841\ttest-error:0.49961+0.01353\n",
      "[99]\ttrain-logloss:4.64543+0.12676\ttrain-error:0.12609+0.00344\ttest-logloss:7.49377+0.30536\ttest-error:0.20341+0.00829\n"
     ]
    },
    {
     "name": "stderr",
     "output_type": "stream",
     "text": [
      "\u001B[32m[I 2023-04-29 18:40:15,876]\u001B[0m Trial 390 finished with value: 0.20340636756140854 and parameters: {'eta': 0.1435732714588111, 'max_depth': 6, 'min_child_weight': 2.366745852468351, 'subsample': 0.5263457116842964, 'colsample_bynode': 0.22698898359497038}. Best is trial 53 with value: 0.19849697959875512.\u001B[0m\n"
     ]
    },
    {
     "name": "stdout",
     "output_type": "stream",
     "text": [
      "[0]\ttrain-logloss:18.40655+0.12457\ttrain-error:0.49962+0.00338\ttest-logloss:18.40644+0.49841\ttest-error:0.49961+0.01353\n",
      "[99]\ttrain-logloss:4.47166+0.13649\ttrain-error:0.12138+0.00370\ttest-logloss:7.52206+0.25636\ttest-error:0.20417+0.00696\n"
     ]
    },
    {
     "name": "stderr",
     "output_type": "stream",
     "text": [
      "\u001B[32m[I 2023-04-29 18:40:18,475]\u001B[0m Trial 391 finished with value: 0.20417429810395077 and parameters: {'eta': 0.2391290624307654, 'max_depth': 7, 'min_child_weight': 7.664801152327164, 'subsample': 0.3718495722937975, 'colsample_bynode': 0.24247410761650365}. Best is trial 53 with value: 0.19849697959875512.\u001B[0m\n"
     ]
    },
    {
     "name": "stdout",
     "output_type": "stream",
     "text": [
      "[0]\ttrain-logloss:18.40655+0.12457\ttrain-error:0.49962+0.00338\ttest-logloss:18.40644+0.49841\ttest-error:0.49961+0.01353\n",
      "[99]\ttrain-logloss:5.98905+0.15706\ttrain-error:0.16256+0.00426\ttest-logloss:7.44847+0.30856\ttest-error:0.20218+0.00838\n"
     ]
    },
    {
     "name": "stderr",
     "output_type": "stream",
     "text": [
      "\u001B[32m[I 2023-04-29 18:40:20,363]\u001B[0m Trial 392 finished with value: 0.20217678410840487 and parameters: {'eta': 0.1670858308982448, 'max_depth': 5, 'min_child_weight': 5.758101920603293, 'subsample': 0.5586455223965238, 'colsample_bynode': 0.20070814357804703}. Best is trial 53 with value: 0.19849697959875512.\u001B[0m\n"
     ]
    },
    {
     "name": "stdout",
     "output_type": "stream",
     "text": [
      "[0]\ttrain-logloss:18.40655+0.12457\ttrain-error:0.49962+0.00338\ttest-logloss:18.40644+0.49841\ttest-error:0.49961+0.01353\n",
      "[99]\ttrain-logloss:5.25862+0.10138\ttrain-error:0.14274+0.00275\ttest-logloss:7.74241+0.17013\ttest-error:0.21016+0.00462\n"
     ]
    },
    {
     "name": "stderr",
     "output_type": "stream",
     "text": [
      "\u001B[32m[I 2023-04-29 18:40:21,904]\u001B[0m Trial 393 finished with value: 0.2101553046532542 and parameters: {'eta': 0.4325993851502078, 'max_depth': 4, 'min_child_weight': 6.321174159271366, 'subsample': 0.6768516663997198, 'colsample_bynode': 0.21141762888768448}. Best is trial 53 with value: 0.19849697959875512.\u001B[0m\n"
     ]
    },
    {
     "name": "stdout",
     "output_type": "stream",
     "text": [
      "[0]\ttrain-logloss:18.40655+0.12457\ttrain-error:0.49962+0.00338\ttest-logloss:18.40644+0.49841\ttest-error:0.49961+0.01353\n",
      "[99]\ttrain-logloss:5.83505+0.08017\ttrain-error:0.15838+0.00218\ttest-logloss:7.53326+0.27583\ttest-error:0.20448+0.00749\n"
     ]
    },
    {
     "name": "stderr",
     "output_type": "stream",
     "text": [
      "\u001B[32m[I 2023-04-29 18:40:24,256]\u001B[0m Trial 394 finished with value: 0.2044784569822354 and parameters: {'eta': 0.10532526415351616, 'max_depth': 6, 'min_child_weight': 5.3495663473947594, 'subsample': 0.5079370287428336, 'colsample_bynode': 0.4102297907848398}. Best is trial 53 with value: 0.19849697959875512.\u001B[0m\n"
     ]
    },
    {
     "name": "stdout",
     "output_type": "stream",
     "text": [
      "[0]\ttrain-logloss:18.40655+0.12457\ttrain-error:0.49962+0.00338\ttest-logloss:18.40644+0.49841\ttest-error:0.49961+0.01353\n",
      "[99]\ttrain-logloss:0.20204+0.02348\ttrain-error:0.00548+0.00064\ttest-logloss:8.79926+0.38985\ttest-error:0.23884+0.01058\n"
     ]
    },
    {
     "name": "stderr",
     "output_type": "stream",
     "text": [
      "\u001B[32m[I 2023-04-29 18:40:26,946]\u001B[0m Trial 395 finished with value: 0.23884193625846914 and parameters: {'eta': 0.1203651649446445, 'max_depth': 6, 'min_child_weight': 0.7408443876463267, 'subsample': 0.6328634344722056, 'colsample_bynode': 0.3423635108686148}. Best is trial 53 with value: 0.19849697959875512.\u001B[0m\n"
     ]
    },
    {
     "name": "stdout",
     "output_type": "stream",
     "text": [
      "[0]\ttrain-logloss:18.40655+0.12457\ttrain-error:0.49962+0.00338\ttest-logloss:18.40644+0.49841\ttest-error:0.49961+0.01353\n",
      "[99]\ttrain-logloss:5.67682+0.10927\ttrain-error:0.15409+0.00297\ttest-logloss:7.50504+0.15443\ttest-error:0.20371+0.00419\n"
     ]
    },
    {
     "name": "stderr",
     "output_type": "stream",
     "text": [
      "\u001B[32m[I 2023-04-29 18:40:29,104]\u001B[0m Trial 396 finished with value: 0.20371229206785663 and parameters: {'eta': 0.19449035460634884, 'max_depth': 6, 'min_child_weight': 7.184831542110959, 'subsample': 0.4436019649157893, 'colsample_bynode': 0.17791508997375283}. Best is trial 53 with value: 0.19849697959875512.\u001B[0m\n"
     ]
    },
    {
     "name": "stdout",
     "output_type": "stream",
     "text": [
      "[0]\ttrain-logloss:18.40655+0.12457\ttrain-error:0.49962+0.00338\ttest-logloss:18.40644+0.49841\ttest-error:0.49961+0.01353\n",
      "[99]\ttrain-logloss:5.25438+0.07882\ttrain-error:0.14262+0.00214\ttest-logloss:7.39765+0.24373\ttest-error:0.20080+0.00662\n"
     ]
    },
    {
     "name": "stderr",
     "output_type": "stream",
     "text": [
      "\u001B[32m[I 2023-04-29 18:40:31,736]\u001B[0m Trial 397 finished with value: 0.2007974753871434 and parameters: {'eta': 0.15468042439514257, 'max_depth': 7, 'min_child_weight': 5.002642778844739, 'subsample': 0.48513128013762785, 'colsample_bynode': 0.19334561875314896}. Best is trial 53 with value: 0.19849697959875512.\u001B[0m\n"
     ]
    },
    {
     "name": "stdout",
     "output_type": "stream",
     "text": [
      "[0]\ttrain-logloss:18.40655+0.12457\ttrain-error:0.49962+0.00338\ttest-logloss:18.40644+0.49841\ttest-error:0.49961+0.01353\n",
      "[99]\ttrain-logloss:4.10008+0.16730\ttrain-error:0.11129+0.00454\ttest-logloss:7.83280+0.48756\ttest-error:0.21261+0.01323\n"
     ]
    },
    {
     "name": "stderr",
     "output_type": "stream",
     "text": [
      "\u001B[32m[I 2023-04-29 18:40:33,990]\u001B[0m Trial 398 finished with value: 0.21260882154913863 and parameters: {'eta': 0.2904185899582932, 'max_depth': 6, 'min_child_weight': 4.622662097735955, 'subsample': 0.4763975457633911, 'colsample_bynode': 0.2563611407025427}. Best is trial 53 with value: 0.19849697959875512.\u001B[0m\n"
     ]
    },
    {
     "name": "stdout",
     "output_type": "stream",
     "text": [
      "[0]\ttrain-logloss:18.40655+0.12457\ttrain-error:0.49962+0.00338\ttest-logloss:18.40644+0.49841\ttest-error:0.49961+0.01353\n",
      "[99]\ttrain-logloss:5.46206+0.10796\ttrain-error:0.14826+0.00293\ttest-logloss:7.34680+0.31472\ttest-error:0.19942+0.00854\n"
     ]
    },
    {
     "name": "stderr",
     "output_type": "stream",
     "text": [
      "\u001B[32m[I 2023-04-29 18:40:36,646]\u001B[0m Trial 399 finished with value: 0.19941722499752812 and parameters: {'eta': 0.13810118538104524, 'max_depth': 7, 'min_child_weight': 5.2528486064713285, 'subsample': 0.47675817392100406, 'colsample_bynode': 0.1964428051802256}. Best is trial 53 with value: 0.19849697959875512.\u001B[0m\n"
     ]
    },
    {
     "name": "stdout",
     "output_type": "stream",
     "text": [
      "[0]\ttrain-logloss:18.40655+0.12457\ttrain-error:0.49962+0.00338\ttest-logloss:18.40644+0.49841\ttest-error:0.49961+0.01353\n",
      "[99]\ttrain-logloss:4.94920+0.18434\ttrain-error:0.13434+0.00500\ttest-logloss:7.43159+0.18829\ttest-error:0.20172+0.00511\n"
     ]
    },
    {
     "name": "stderr",
     "output_type": "stream",
     "text": [
      "\u001B[32m[I 2023-04-29 18:40:39,458]\u001B[0m Trial 400 finished with value: 0.20171866245427023 and parameters: {'eta': 0.1340822544471883, 'max_depth': 7, 'min_child_weight': 4.944109498014027, 'subsample': 0.49111825719854224, 'colsample_bynode': 0.22721849482649115}. Best is trial 53 with value: 0.19849697959875512.\u001B[0m\n"
     ]
    },
    {
     "name": "stdout",
     "output_type": "stream",
     "text": [
      "[0]\ttrain-logloss:18.40655+0.12457\ttrain-error:0.49962+0.00338\ttest-logloss:18.40644+0.49841\ttest-error:0.49961+0.01353\n",
      "[99]\ttrain-logloss:5.99047+0.09557\ttrain-error:0.16260+0.00259\ttest-logloss:7.39761+0.30289\ttest-error:0.20080+0.00822\n"
     ]
    },
    {
     "name": "stderr",
     "output_type": "stream",
     "text": [
      "\u001B[32m[I 2023-04-29 18:40:41,739]\u001B[0m Trial 401 finished with value: 0.20079641601024534 and parameters: {'eta': 0.12681778057253093, 'max_depth': 6, 'min_child_weight': 4.096979898423006, 'subsample': 0.47823404782899415, 'colsample_bynode': 0.19763504824717085}. Best is trial 53 with value: 0.19849697959875512.\u001B[0m\n"
     ]
    },
    {
     "name": "stdout",
     "output_type": "stream",
     "text": [
      "[0]\ttrain-logloss:18.40655+0.12457\ttrain-error:0.49962+0.00338\ttest-logloss:18.40644+0.49841\ttest-error:0.49961+0.01353\n",
      "[99]\ttrain-logloss:6.13881+0.06883\ttrain-error:0.16663+0.00187\ttest-logloss:7.58980+0.21464\ttest-error:0.20601+0.00583\n"
     ]
    },
    {
     "name": "stderr",
     "output_type": "stream",
     "text": [
      "\u001B[32m[I 2023-04-29 18:40:43,772]\u001B[0m Trial 402 finished with value: 0.20601302327333335 and parameters: {'eta': 0.14467576422267206, 'max_depth': 5, 'min_child_weight': 3.6980967584157045, 'subsample': 0.4868283519085451, 'colsample_bynode': 0.1989062361339627}. Best is trial 53 with value: 0.19849697959875512.\u001B[0m\n"
     ]
    },
    {
     "name": "stdout",
     "output_type": "stream",
     "text": [
      "[0]\ttrain-logloss:18.40655+0.12457\ttrain-error:0.49962+0.00338\ttest-logloss:18.40644+0.49841\ttest-error:0.49961+0.01353\n",
      "[99]\ttrain-logloss:4.90964+0.08089\ttrain-error:0.13326+0.00220\ttest-logloss:7.52197+0.28622\ttest-error:0.20417+0.00777\n"
     ]
    },
    {
     "name": "stderr",
     "output_type": "stream",
     "text": [
      "\u001B[32m[I 2023-04-29 18:40:46,815]\u001B[0m Trial 403 finished with value: 0.2041719439330662 and parameters: {'eta': 0.12375943194229175, 'max_depth': 7, 'min_child_weight': 3.856742321220835, 'subsample': 0.4743529063479705, 'colsample_bynode': 0.20950991185598386}. Best is trial 53 with value: 0.19849697959875512.\u001B[0m\n"
     ]
    },
    {
     "name": "stdout",
     "output_type": "stream",
     "text": [
      "[0]\ttrain-logloss:18.40655+0.12457\ttrain-error:0.49962+0.00338\ttest-logloss:18.40644+0.49841\ttest-error:0.49961+0.01353\n",
      "[99]\ttrain-logloss:4.36287+0.21880\ttrain-error:0.11842+0.00594\ttest-logloss:7.73116+0.35927\ttest-error:0.20985+0.00975\n"
     ]
    },
    {
     "name": "stderr",
     "output_type": "stream",
     "text": [
      "\u001B[32m[I 2023-04-29 18:40:49,157]\u001B[0m Trial 404 finished with value: 0.20985008639807146 and parameters: {'eta': 0.38651066433308334, 'max_depth': 6, 'min_child_weight': 4.288066591543301, 'subsample': 0.45105976450754043, 'colsample_bynode': 0.1873505109822793}. Best is trial 53 with value: 0.19849697959875512.\u001B[0m\n"
     ]
    },
    {
     "name": "stdout",
     "output_type": "stream",
     "text": [
      "[0]\ttrain-logloss:18.40655+0.12457\ttrain-error:0.49962+0.00338\ttest-logloss:18.40644+0.49841\ttest-error:0.49961+0.01353\n",
      "[99]\ttrain-logloss:6.36911+0.07709\ttrain-error:0.17288+0.00209\ttest-logloss:7.55590+0.20818\ttest-error:0.20509+0.00565\n"
     ]
    },
    {
     "name": "stderr",
     "output_type": "stream",
     "text": [
      "\u001B[32m[I 2023-04-29 18:40:51,941]\u001B[0m Trial 405 finished with value: 0.20509289558310456 and parameters: {'eta': 0.07148560824030727, 'max_depth': 6, 'min_child_weight': 3.346345587783139, 'subsample': 0.49709176750291184, 'colsample_bynode': 0.23423082627752947}. Best is trial 53 with value: 0.19849697959875512.\u001B[0m\n"
     ]
    },
    {
     "name": "stdout",
     "output_type": "stream",
     "text": [
      "[0]\ttrain-logloss:18.40655+0.12457\ttrain-error:0.49962+0.00338\ttest-logloss:18.40644+0.49841\ttest-error:0.49961+0.01353\n",
      "[99]\ttrain-logloss:6.36204+0.14341\ttrain-error:0.17269+0.00389\ttest-logloss:7.58417+0.20542\ttest-error:0.20586+0.00558\n"
     ]
    },
    {
     "name": "stderr",
     "output_type": "stream",
     "text": [
      "\u001B[32m[I 2023-04-29 18:40:54,115]\u001B[0m Trial 406 finished with value: 0.2058601198743814 and parameters: {'eta': 0.15092575223717278, 'max_depth': 5, 'min_child_weight': 4.625251363480668, 'subsample': 0.46655185254579457, 'colsample_bynode': 0.1958653602249458}. Best is trial 53 with value: 0.19849697959875512.\u001B[0m\n"
     ]
    },
    {
     "name": "stdout",
     "output_type": "stream",
     "text": [
      "[0]\ttrain-logloss:18.40655+0.12457\ttrain-error:0.49962+0.00338\ttest-logloss:18.40644+0.49841\ttest-error:0.49961+0.01353\n",
      "[99]\ttrain-logloss:2.52051+0.14491\ttrain-error:0.06842+0.00393\ttest-logloss:8.25672+0.39511\ttest-error:0.22412+0.01072\n"
     ]
    },
    {
     "name": "stderr",
     "output_type": "stream",
     "text": [
      "\u001B[32m[I 2023-04-29 18:40:57,143]\u001B[0m Trial 407 finished with value: 0.22411542029012801 and parameters: {'eta': 0.3008419204476631, 'max_depth': 7, 'min_child_weight': 3.072761368699273, 'subsample': 0.4332165950767366, 'colsample_bynode': 0.5284142556134634}. Best is trial 53 with value: 0.19849697959875512.\u001B[0m\n"
     ]
    },
    {
     "name": "stdout",
     "output_type": "stream",
     "text": [
      "[0]\ttrain-logloss:18.40655+0.12457\ttrain-error:0.49962+0.00338\ttest-logloss:18.40644+0.49841\ttest-error:0.49961+0.01353\n",
      "[99]\ttrain-logloss:4.36146+0.28141\ttrain-error:0.11838+0.00764\ttest-logloss:7.76502+0.25679\ttest-error:0.21077+0.00697\n"
     ]
    },
    {
     "name": "stderr",
     "output_type": "stream",
     "text": [
      "\u001B[32m[I 2023-04-29 18:40:59,652]\u001B[0m Trial 408 finished with value: 0.2107691547114022 and parameters: {'eta': 0.25541306833419863, 'max_depth': 6, 'min_child_weight': 5.110077729890276, 'subsample': 0.5058650993708801, 'colsample_bynode': 0.2131448337057835}. Best is trial 53 with value: 0.19849697959875512.\u001B[0m\n"
     ]
    },
    {
     "name": "stdout",
     "output_type": "stream",
     "text": [
      "[0]\ttrain-logloss:18.40655+0.12457\ttrain-error:0.49962+0.00338\ttest-logloss:18.40644+0.49841\ttest-error:0.49961+0.01353\n",
      "[99]\ttrain-logloss:3.75816+0.15126\ttrain-error:0.10201+0.00411\ttest-logloss:7.51072+0.36231\ttest-error:0.20387+0.00983\n"
     ]
    },
    {
     "name": "stderr",
     "output_type": "stream",
     "text": [
      "\u001B[32m[I 2023-04-29 18:41:03,062]\u001B[0m Trial 409 finished with value: 0.20386660796933928 and parameters: {'eta': 0.11328209864695887, 'max_depth': 7, 'min_child_weight': 2.5287980207706635, 'subsample': 0.484141245660164, 'colsample_bynode': 0.5808860751715251}. Best is trial 53 with value: 0.19849697959875512.\u001B[0m\n"
     ]
    },
    {
     "name": "stdout",
     "output_type": "stream",
     "text": [
      "[0]\ttrain-logloss:18.40655+0.12457\ttrain-error:0.49962+0.00338\ttest-logloss:18.40644+0.49841\ttest-error:0.49961+0.01353\n",
      "[99]\ttrain-logloss:2.67876+0.14656\ttrain-error:0.07271+0.00398\ttest-logloss:8.23414+0.39777\ttest-error:0.22350+0.01080\n"
     ]
    },
    {
     "name": "stderr",
     "output_type": "stream",
     "text": [
      "\u001B[32m[I 2023-04-29 18:41:05,604]\u001B[0m Trial 410 finished with value: 0.22350251190033382 and parameters: {'eta': 0.3313130497922479, 'max_depth': 6, 'min_child_weight': 1.6473008459861331, 'subsample': 0.5158714509495443, 'colsample_bynode': 0.1755709936680075}. Best is trial 53 with value: 0.19849697959875512.\u001B[0m\n"
     ]
    },
    {
     "name": "stdout",
     "output_type": "stream",
     "text": [
      "[0]\ttrain-logloss:18.40655+0.12457\ttrain-error:0.49962+0.00338\ttest-logloss:18.40644+0.49841\ttest-error:0.49961+0.01353\n",
      "[99]\ttrain-logloss:4.97039+0.10022\ttrain-error:0.13491+0.00272\ttest-logloss:7.54464+0.23968\ttest-error:0.20479+0.00651\n"
     ]
    },
    {
     "name": "stderr",
     "output_type": "stream",
     "text": [
      "\u001B[32m[I 2023-04-29 18:41:08,050]\u001B[0m Trial 411 finished with value: 0.20478708878520074 and parameters: {'eta': 0.13918588118983913, 'max_depth': 6, 'min_child_weight': 3.9603813317501, 'subsample': 0.461982685800471, 'colsample_bynode': 0.5027153900668695}. Best is trial 53 with value: 0.19849697959875512.\u001B[0m\n"
     ]
    },
    {
     "name": "stdout",
     "output_type": "stream",
     "text": [
      "[0]\ttrain-logloss:18.40655+0.12457\ttrain-error:0.49962+0.00338\ttest-logloss:18.40644+0.49841\ttest-error:0.49961+0.01353\n",
      "[99]\ttrain-logloss:4.23713+0.08496\ttrain-error:0.11501+0.00231\ttest-logloss:7.61242+0.33042\ttest-error:0.20663+0.00897\n"
     ]
    },
    {
     "name": "stderr",
     "output_type": "stream",
     "text": [
      "\u001B[32m[I 2023-04-29 18:41:11,575]\u001B[0m Trial 412 finished with value: 0.20662699104002563 and parameters: {'eta': 0.09738080185502752, 'max_depth': 7, 'min_child_weight': 1.3347542270298924, 'subsample': 0.4171149395480839, 'colsample_bynode': 0.22108916715949758}. Best is trial 53 with value: 0.19849697959875512.\u001B[0m\n"
     ]
    },
    {
     "name": "stdout",
     "output_type": "stream",
     "text": [
      "[0]\ttrain-logloss:18.40655+0.12457\ttrain-error:0.49962+0.00338\ttest-logloss:18.40644+0.49841\ttest-error:0.49961+0.01353\n",
      "[99]\ttrain-logloss:6.54006+0.12127\ttrain-error:0.17752+0.00329\ttest-logloss:7.51636+0.14718\ttest-error:0.20402+0.00399\n"
     ]
    },
    {
     "name": "stderr",
     "output_type": "stream",
     "text": [
      "\u001B[32m[I 2023-04-29 18:41:14,089]\u001B[0m Trial 413 finished with value: 0.20401951136829116 and parameters: {'eta': 0.08884354780370088, 'max_depth': 6, 'min_child_weight': 5.106221417842677, 'subsample': 0.3951202301271945, 'colsample_bynode': 0.19175576273547287}. Best is trial 53 with value: 0.19849697959875512.\u001B[0m\n"
     ]
    },
    {
     "name": "stdout",
     "output_type": "stream",
     "text": [
      "[0]\ttrain-logloss:18.40655+0.12457\ttrain-error:0.49962+0.00338\ttest-logloss:18.40644+0.49841\ttest-error:0.49961+0.01353\n",
      "[99]\ttrain-logloss:4.29788+0.09586\ttrain-error:0.11666+0.00260\ttest-logloss:7.56724+0.32171\ttest-error:0.20540+0.00873\n"
     ]
    },
    {
     "name": "stderr",
     "output_type": "stream",
     "text": [
      "\u001B[32m[I 2023-04-29 18:41:17,299]\u001B[0m Trial 414 finished with value: 0.20540058571771608 and parameters: {'eta': 0.12711912691246763, 'max_depth': 7, 'min_child_weight': 3.6623971947840355, 'subsample': 0.49967937981769583, 'colsample_bynode': 0.4196696704886839}. Best is trial 53 with value: 0.19849697959875512.\u001B[0m\n"
     ]
    },
    {
     "name": "stdout",
     "output_type": "stream",
     "text": [
      "[0]\ttrain-logloss:18.40655+0.12457\ttrain-error:0.49962+0.00338\ttest-logloss:18.40644+0.49841\ttest-error:0.49961+0.01353\n",
      "[99]\ttrain-logloss:3.91641+0.14123\ttrain-error:0.10630+0.00383\ttest-logloss:7.60680+0.26083\ttest-error:0.20647+0.00708\n"
     ]
    },
    {
     "name": "stderr",
     "output_type": "stream",
     "text": [
      "\u001B[32m[I 2023-04-29 18:41:19,728]\u001B[0m Trial 415 finished with value: 0.20647432305816213 and parameters: {'eta': 0.1555077112294002, 'max_depth': 6, 'min_child_weight': 1.1632973752606914, 'subsample': 0.47983619158514174, 'colsample_bynode': 0.17334185416008902}. Best is trial 53 with value: 0.19849697959875512.\u001B[0m\n"
     ]
    },
    {
     "name": "stdout",
     "output_type": "stream",
     "text": [
      "[0]\ttrain-logloss:18.40655+0.12457\ttrain-error:0.49962+0.00338\ttest-logloss:18.40644+0.49841\ttest-error:0.49961+0.01353\n",
      "[99]\ttrain-logloss:4.75281+0.14404\ttrain-error:0.12901+0.00391\ttest-logloss:7.48241+0.30147\ttest-error:0.20310+0.00818\n"
     ]
    },
    {
     "name": "stderr",
     "output_type": "stream",
     "text": [
      "\u001B[32m[I 2023-04-29 18:41:21,640]\u001B[0m Trial 416 finished with value: 0.20309820659262012 and parameters: {'eta': 0.35757927864851025, 'max_depth': 5, 'min_child_weight': 4.391546203969054, 'subsample': 0.44359260327338856, 'colsample_bynode': 0.24750425166835407}. Best is trial 53 with value: 0.19849697959875512.\u001B[0m\n"
     ]
    },
    {
     "name": "stdout",
     "output_type": "stream",
     "text": [
      "[0]\ttrain-logloss:18.40655+0.12457\ttrain-error:0.49962+0.00338\ttest-logloss:18.40644+0.49841\ttest-error:0.49961+0.01353\n",
      "[99]\ttrain-logloss:5.63160+0.08219\ttrain-error:0.15286+0.00223\ttest-logloss:7.62375+0.29370\ttest-error:0.20693+0.00797\n"
     ]
    },
    {
     "name": "stderr",
     "output_type": "stream",
     "text": [
      "\u001B[32m[I 2023-04-29 18:41:23,276]\u001B[0m Trial 417 finished with value: 0.2069345634660929 and parameters: {'eta': 0.21706144056688748, 'max_depth': 4, 'min_child_weight': 2.9069499967326413, 'subsample': 0.45732782126752247, 'colsample_bynode': 0.21183831930259656}. Best is trial 53 with value: 0.19849697959875512.\u001B[0m\n"
     ]
    },
    {
     "name": "stdout",
     "output_type": "stream",
     "text": [
      "[0]\ttrain-logloss:18.40655+0.12457\ttrain-error:0.49962+0.00338\ttest-logloss:18.40644+0.49841\ttest-error:0.49961+0.01353\n",
      "[99]\ttrain-logloss:2.89917+0.16655\ttrain-error:0.07869+0.00452\ttest-logloss:7.91201+0.40071\ttest-error:0.21476+0.01088\n"
     ]
    },
    {
     "name": "stderr",
     "output_type": "stream",
     "text": [
      "\u001B[32m[I 2023-04-29 18:41:26,766]\u001B[0m Trial 418 finished with value: 0.21475888581800376 and parameters: {'eta': 0.28316359765322985, 'max_depth': 9, 'min_child_weight': 5.822021387858228, 'subsample': 0.5263210587591437, 'colsample_bynode': 0.19169604110643218}. Best is trial 53 with value: 0.19849697959875512.\u001B[0m\n"
     ]
    },
    {
     "name": "stdout",
     "output_type": "stream",
     "text": [
      "[0]\ttrain-logloss:18.40655+0.12457\ttrain-error:0.49962+0.00338\ttest-logloss:18.40644+0.49841\ttest-error:0.49961+0.01353\n",
      "[99]\ttrain-logloss:5.73192+0.06567\ttrain-error:0.15558+0.00178\ttest-logloss:7.47678+0.21789\ttest-error:0.20295+0.00591\n"
     ]
    },
    {
     "name": "stderr",
     "output_type": "stream",
     "text": [
      "\u001B[32m[I 2023-04-29 18:41:29,065]\u001B[0m Trial 419 finished with value: 0.20294530319366824 and parameters: {'eta': 0.144113107536837, 'max_depth': 6, 'min_child_weight': 4.830883101559138, 'subsample': 0.5097077091822665, 'colsample_bynode': 0.17320686433700622}. Best is trial 53 with value: 0.19849697959875512.\u001B[0m\n"
     ]
    },
    {
     "name": "stdout",
     "output_type": "stream",
     "text": [
      "[0]\ttrain-logloss:18.40655+0.12457\ttrain-error:0.49962+0.00338\ttest-logloss:18.40644+0.49841\ttest-error:0.49961+0.01353\n",
      "[99]\ttrain-logloss:5.15406+0.14859\ttrain-error:0.13990+0.00403\ttest-logloss:7.42594+0.26938\ttest-error:0.20157+0.00731\n"
     ]
    },
    {
     "name": "stderr",
     "output_type": "stream",
     "text": [
      "\u001B[32m[I 2023-04-29 18:41:31,994]\u001B[0m Trial 420 finished with value: 0.2015651705125972 and parameters: {'eta': 0.1141483632418134, 'max_depth': 7, 'min_child_weight': 3.99230317615258, 'subsample': 0.4732015730274911, 'colsample_bynode': 0.235797373581086}. Best is trial 53 with value: 0.19849697959875512.\u001B[0m\n"
     ]
    },
    {
     "name": "stdout",
     "output_type": "stream",
     "text": [
      "[0]\ttrain-logloss:18.40655+0.12457\ttrain-error:0.49962+0.00338\ttest-logloss:18.40644+0.49841\ttest-error:0.49961+0.01353\n",
      "[99]\ttrain-logloss:0.22747+0.04588\ttrain-error:0.00617+0.00125\ttest-logloss:9.08749+0.40208\ttest-error:0.24667+0.01091\n"
     ]
    },
    {
     "name": "stderr",
     "output_type": "stream",
     "text": [
      "\u001B[32m[I 2023-04-29 18:41:34,536]\u001B[0m Trial 421 finished with value: 0.24666531694202617 and parameters: {'eta': 0.2743437272955066, 'max_depth': 6, 'min_child_weight': 0.05327042290480049, 'subsample': 0.4890772893371594, 'colsample_bynode': 0.1971625420297706}. Best is trial 53 with value: 0.19849697959875512.\u001B[0m\n"
     ]
    },
    {
     "name": "stdout",
     "output_type": "stream",
     "text": [
      "[0]\ttrain-logloss:18.40655+0.12457\ttrain-error:0.49962+0.00338\ttest-logloss:18.40644+0.49841\ttest-error:0.49961+0.01353\n",
      "[99]\ttrain-logloss:3.33150+0.18298\ttrain-error:0.09043+0.00497\ttest-logloss:8.03629+0.53333\ttest-error:0.21813+0.01448\n"
     ]
    },
    {
     "name": "stderr",
     "output_type": "stream",
     "text": [
      "\u001B[32m[I 2023-04-29 18:41:37,341]\u001B[0m Trial 422 finished with value: 0.21813229498702852 and parameters: {'eta': 0.3057921565704938, 'max_depth': 7, 'min_child_weight': 3.2857937221169586, 'subsample': 0.4383289970016447, 'colsample_bynode': 0.2227163613077712}. Best is trial 53 with value: 0.19849697959875512.\u001B[0m\n"
     ]
    },
    {
     "name": "stdout",
     "output_type": "stream",
     "text": [
      "[0]\ttrain-logloss:18.40655+0.12457\ttrain-error:0.49962+0.00338\ttest-logloss:18.40644+0.49841\ttest-error:0.49961+0.01353\n",
      "[99]\ttrain-logloss:0.14835+0.01264\ttrain-error:0.00403+0.00034\ttest-logloss:9.53975+0.79402\ttest-error:0.25894+0.02155\n"
     ]
    },
    {
     "name": "stderr",
     "output_type": "stream",
     "text": [
      "\u001B[32m[I 2023-04-29 18:41:39,756]\u001B[0m Trial 423 finished with value: 0.2589413764366328 and parameters: {'eta': 0.3462171221785836, 'max_depth': 6, 'min_child_weight': 0.5624659388666736, 'subsample': 0.5313641397736913, 'colsample_bynode': 0.15765797009293203}. Best is trial 53 with value: 0.19849697959875512.\u001B[0m\n"
     ]
    },
    {
     "name": "stdout",
     "output_type": "stream",
     "text": [
      "[0]\ttrain-logloss:18.40655+0.12457\ttrain-error:0.49962+0.00338\ttest-logloss:18.40644+0.49841\ttest-error:0.49961+0.01353\n",
      "[99]\ttrain-logloss:5.41544+0.11922\ttrain-error:0.14699+0.00324\ttest-logloss:7.55587+0.28429\ttest-error:0.20509+0.00772\n"
     ]
    },
    {
     "name": "stderr",
     "output_type": "stream",
     "text": [
      "\u001B[32m[I 2023-04-29 18:41:42,085]\u001B[0m Trial 424 finished with value: 0.2050919539147508 and parameters: {'eta': 0.1275941754074066, 'max_depth': 6, 'min_child_weight': 5.359009522927742, 'subsample': 0.41431319925683324, 'colsample_bynode': 0.4561229490454088}. Best is trial 53 with value: 0.19849697959875512.\u001B[0m\n"
     ]
    },
    {
     "name": "stdout",
     "output_type": "stream",
     "text": [
      "[0]\ttrain-logloss:18.40655+0.12457\ttrain-error:0.49962+0.00338\ttest-logloss:18.40644+0.49841\ttest-error:0.49961+0.01353\n",
      "[99]\ttrain-logloss:2.07406+0.14862\ttrain-error:0.05630+0.00403\ttest-logloss:8.14365+0.29795\ttest-error:0.22105+0.00809\n"
     ]
    },
    {
     "name": "stderr",
     "output_type": "stream",
     "text": [
      "\u001B[32m[I 2023-04-29 18:41:45,026]\u001B[0m Trial 425 finished with value: 0.22104652312502057 and parameters: {'eta': 0.24868846959488627, 'max_depth': 7, 'min_child_weight': 1.7986059006976949, 'subsample': 0.49860770321946885, 'colsample_bynode': 0.20757495998066117}. Best is trial 53 with value: 0.19849697959875512.\u001B[0m\n"
     ]
    },
    {
     "name": "stdout",
     "output_type": "stream",
     "text": [
      "[0]\ttrain-logloss:18.40655+0.12457\ttrain-error:0.49962+0.00338\ttest-logloss:18.40644+0.49841\ttest-error:0.49961+0.01353\n",
      "[99]\ttrain-logloss:0.15117+0.05715\ttrain-error:0.00410+0.00155\ttest-logloss:9.44908+0.37354\ttest-error:0.25648+0.01014\n"
     ]
    },
    {
     "name": "stderr",
     "output_type": "stream",
     "text": [
      "\u001B[32m[I 2023-04-29 18:41:47,200]\u001B[0m Trial 426 finished with value: 0.2564803261939178 and parameters: {'eta': 0.2076173321640767, 'max_depth': 5, 'min_child_weight': 0.22568077928027527, 'subsample': 0.7745630692733169, 'colsample_bynode': 0.4667432177258404}. Best is trial 53 with value: 0.19849697959875512.\u001B[0m\n"
     ]
    },
    {
     "name": "stdout",
     "output_type": "stream",
     "text": [
      "[0]\ttrain-logloss:18.40655+0.12457\ttrain-error:0.49962+0.00338\ttest-logloss:18.40644+0.49841\ttest-error:0.49961+0.01353\n",
      "[99]\ttrain-logloss:0.69935+0.14154\ttrain-error:0.01898+0.00384\ttest-logloss:8.78798+0.44405\ttest-error:0.23854+0.01205\n"
     ]
    },
    {
     "name": "stderr",
     "output_type": "stream",
     "text": [
      "\u001B[32m[I 2023-04-29 18:41:49,816]\u001B[0m Trial 427 finished with value: 0.23853565862638834 and parameters: {'eta': 0.1555644204717249, 'max_depth': 6, 'min_child_weight': 0.35659758925370255, 'subsample': 0.46575690574105794, 'colsample_bynode': 0.18067844590449578}. Best is trial 53 with value: 0.19849697959875512.\u001B[0m\n"
     ]
    },
    {
     "name": "stdout",
     "output_type": "stream",
     "text": [
      "[0]\ttrain-logloss:18.40655+0.12457\ttrain-error:0.49962+0.00338\ttest-logloss:18.40644+0.49841\ttest-error:0.49961+0.01353\n",
      "[99]\ttrain-logloss:0.10879+0.01522\ttrain-error:0.00295+0.00041\ttest-logloss:9.14394+0.37159\ttest-error:0.24820+0.01009\n"
     ]
    },
    {
     "name": "stderr",
     "output_type": "stream",
     "text": [
      "\u001B[32m[I 2023-04-29 18:41:52,973]\u001B[0m Trial 428 finished with value: 0.24819752906223957 and parameters: {'eta': 0.14085180921595572, 'max_depth': 7, 'min_child_weight': 0.9222283075439718, 'subsample': 0.5155229698076407, 'colsample_bynode': 0.49115229688057865}. Best is trial 53 with value: 0.19849697959875512.\u001B[0m\n"
     ]
    },
    {
     "name": "stdout",
     "output_type": "stream",
     "text": [
      "[0]\ttrain-logloss:18.40655+0.12457\ttrain-error:0.49962+0.00338\ttest-logloss:18.40644+0.49841\ttest-error:0.49961+0.01353\n",
      "[99]\ttrain-logloss:4.50699+0.26585\ttrain-error:0.12233+0.00722\ttest-logloss:7.45418+0.13825\ttest-error:0.20233+0.00375\n"
     ]
    },
    {
     "name": "stderr",
     "output_type": "stream",
     "text": [
      "\u001B[32m[I 2023-04-29 18:41:55,239]\u001B[0m Trial 429 finished with value: 0.20233192396969715 and parameters: {'eta': 0.18404526208813277, 'max_depth': 6, 'min_child_weight': 6.524034318869374, 'subsample': 0.5411854353388353, 'colsample_bynode': 0.4385355682404421}. Best is trial 53 with value: 0.19849697959875512.\u001B[0m\n"
     ]
    },
    {
     "name": "stdout",
     "output_type": "stream",
     "text": [
      "[0]\ttrain-logloss:18.40655+0.12457\ttrain-error:0.49962+0.00338\ttest-logloss:18.40644+0.49841\ttest-error:0.49961+0.01353\n",
      "[99]\ttrain-logloss:4.57621+0.14764\ttrain-error:0.12421+0.00401\ttest-logloss:7.63503+0.27912\ttest-error:0.20724+0.00758\n"
     ]
    },
    {
     "name": "stderr",
     "output_type": "stream",
     "text": [
      "\u001B[32m[I 2023-04-29 18:41:57,602]\u001B[0m Trial 430 finished with value: 0.2072407233896294 and parameters: {'eta': 0.19969568526925469, 'max_depth': 6, 'min_child_weight': 2.1881578279986154, 'subsample': 0.4492938872810707, 'colsample_bynode': 0.1658502569217413}. Best is trial 53 with value: 0.19849697959875512.\u001B[0m\n"
     ]
    },
    {
     "name": "stdout",
     "output_type": "stream",
     "text": [
      "[0]\ttrain-logloss:18.40655+0.12457\ttrain-error:0.49962+0.00338\ttest-logloss:18.40644+0.49841\ttest-error:0.49961+0.01353\n",
      "[99]\ttrain-logloss:5.62455+0.15151\ttrain-error:0.15267+0.00411\ttest-logloss:7.53889+0.23236\ttest-error:0.20463+0.00631\n"
     ]
    },
    {
     "name": "stderr",
     "output_type": "stream",
     "text": [
      "\u001B[32m[I 2023-04-29 18:41:59,554]\u001B[0m Trial 431 finished with value: 0.2046312426726431 and parameters: {'eta': 0.16160777314085845, 'max_depth': 5, 'min_child_weight': 4.3445237894784645, 'subsample': 0.7241554349736083, 'colsample_bynode': 0.3559359054488426}. Best is trial 53 with value: 0.19849697959875512.\u001B[0m\n"
     ]
    },
    {
     "name": "stdout",
     "output_type": "stream",
     "text": [
      "[0]\ttrain-logloss:18.40655+0.12457\ttrain-error:0.49962+0.00338\ttest-logloss:18.40644+0.49841\ttest-error:0.49961+0.01353\n",
      "[99]\ttrain-logloss:0.03956+0.02028\ttrain-error:0.00107+0.00055\ttest-logloss:9.52261+0.40613\ttest-error:0.25848+0.01102\n"
     ]
    },
    {
     "name": "stderr",
     "output_type": "stream",
     "text": [
      "\u001B[32m[I 2023-04-29 18:42:02,918]\u001B[0m Trial 432 finished with value: 0.25847595685275604 and parameters: {'eta': 0.23183112838356662, 'max_depth': 8, 'min_child_weight': 0.43657245774560566, 'subsample': 0.4792222015349551, 'colsample_bynode': 0.24029224005772562}. Best is trial 53 with value: 0.19849697959875512.\u001B[0m\n"
     ]
    },
    {
     "name": "stdout",
     "output_type": "stream",
     "text": [
      "[0]\ttrain-logloss:18.40655+0.12457\ttrain-error:0.49962+0.00338\ttest-logloss:18.40644+0.49841\ttest-error:0.49961+0.01353\n",
      "[99]\ttrain-logloss:5.65421+0.07780\ttrain-error:0.15347+0.00211\ttest-logloss:7.44850+0.12054\ttest-error:0.20218+0.00327\n"
     ]
    },
    {
     "name": "stderr",
     "output_type": "stream",
     "text": [
      "\u001B[32m[I 2023-04-29 18:42:05,809]\u001B[0m Trial 433 finished with value: 0.20217760806821444 and parameters: {'eta': 0.10636268000516394, 'max_depth': 7, 'min_child_weight': 5.9922371638854015, 'subsample': 0.6493631552070063, 'colsample_bynode': 0.19315254385216807}. Best is trial 53 with value: 0.19849697959875512.\u001B[0m\n"
     ]
    },
    {
     "name": "stdout",
     "output_type": "stream",
     "text": [
      "[0]\ttrain-logloss:18.40655+0.12457\ttrain-error:0.49962+0.00338\ttest-logloss:18.40644+0.49841\ttest-error:0.49961+0.01353\n",
      "[99]\ttrain-logloss:0.42527+0.01367\ttrain-error:0.01154+0.00037\ttest-logloss:10.43244+0.25803\ttest-error:0.28317+0.00700\n"
     ]
    },
    {
     "name": "stderr",
     "output_type": "stream",
     "text": [
      "\u001B[32m[I 2023-04-29 18:42:08,290]\u001B[0m Trial 434 finished with value: 0.2831719156830156 and parameters: {'eta': 0.48556852271756323, 'max_depth': 6, 'min_child_weight': 0.7414572791846028, 'subsample': 0.33778847288747094, 'colsample_bynode': 0.3864503325378877}. Best is trial 53 with value: 0.19849697959875512.\u001B[0m\n"
     ]
    },
    {
     "name": "stdout",
     "output_type": "stream",
     "text": [
      "[0]\ttrain-logloss:18.40655+0.12457\ttrain-error:0.49962+0.00338\ttest-logloss:18.40644+0.49841\ttest-error:0.49961+0.01353\n",
      "[99]\ttrain-logloss:0.21899+0.06747\ttrain-error:0.00594+0.00183\ttest-logloss:8.94053+0.25225\ttest-error:0.24268+0.00685\n"
     ]
    },
    {
     "name": "stderr",
     "output_type": "stream",
     "text": [
      "\u001B[32m[I 2023-04-29 18:42:10,949]\u001B[0m Trial 435 finished with value: 0.24267652750377847 and parameters: {'eta': 0.13247922009844953, 'max_depth': 6, 'min_child_weight': 0.07449423719037618, 'subsample': 0.6763142918639833, 'colsample_bynode': 0.26147719241614}. Best is trial 53 with value: 0.19849697959875512.\u001B[0m\n"
     ]
    },
    {
     "name": "stdout",
     "output_type": "stream",
     "text": [
      "[0]\ttrain-logloss:18.40655+0.12457\ttrain-error:0.49962+0.00338\ttest-logloss:18.40644+0.49841\ttest-error:0.49961+0.01353\n",
      "[99]\ttrain-logloss:5.10321+0.18315\ttrain-error:0.13852+0.00497\ttest-logloss:7.63507+0.33043\ttest-error:0.20724+0.00897\n"
     ]
    },
    {
     "name": "stderr",
     "output_type": "stream",
     "text": [
      "\u001B[32m[I 2023-04-29 18:42:13,541]\u001B[0m Trial 436 finished with value: 0.20724178276652744 and parameters: {'eta': 0.17592816338462633, 'max_depth': 7, 'min_child_weight': 5.014035466479356, 'subsample': 0.3099382694519406, 'colsample_bynode': 0.21474400391236514}. Best is trial 53 with value: 0.19849697959875512.\u001B[0m\n"
     ]
    },
    {
     "name": "stdout",
     "output_type": "stream",
     "text": [
      "[0]\ttrain-logloss:18.40655+0.12457\ttrain-error:0.49962+0.00338\ttest-logloss:18.40644+0.49841\ttest-error:0.49961+0.01353\n",
      "[99]\ttrain-logloss:3.35692+0.09856\ttrain-error:0.09112+0.00268\ttest-logloss:7.72545+0.24949\ttest-error:0.20969+0.00677\n"
     ]
    },
    {
     "name": "stderr",
     "output_type": "stream",
     "text": [
      "\u001B[32m[I 2023-04-29 18:42:15,485]\u001B[0m Trial 437 finished with value: 0.20969494653677917 and parameters: {'eta': 0.37621328715047797, 'max_depth': 5, 'min_child_weight': 3.7722427883259257, 'subsample': 0.8135270080974744, 'colsample_bynode': 0.5579997022199067}. Best is trial 53 with value: 0.19849697959875512.\u001B[0m\n"
     ]
    },
    {
     "name": "stdout",
     "output_type": "stream",
     "text": [
      "[0]\ttrain-logloss:18.40655+0.12457\ttrain-error:0.49962+0.00338\ttest-logloss:18.40644+0.49841\ttest-error:0.49961+0.01353\n",
      "[99]\ttrain-logloss:4.25550+0.11344\ttrain-error:0.11551+0.00308\ttest-logloss:7.56158+0.28933\ttest-error:0.20525+0.00785\n"
     ]
    },
    {
     "name": "stderr",
     "output_type": "stream",
     "text": [
      "\u001B[32m[I 2023-04-29 18:42:18,151]\u001B[0m Trial 438 finished with value: 0.20524709377604303 and parameters: {'eta': 0.11717671721244921, 'max_depth': 6, 'min_child_weight': 2.5966924688647945, 'subsample': 0.5055893143423964, 'colsample_bynode': 0.928133923468078}. Best is trial 53 with value: 0.19849697959875512.\u001B[0m\n"
     ]
    },
    {
     "name": "stdout",
     "output_type": "stream",
     "text": [
      "[0]\ttrain-logloss:18.40655+0.12457\ttrain-error:0.49962+0.00338\ttest-logloss:18.40644+0.49841\ttest-error:0.49961+0.01353\n",
      "[99]\ttrain-logloss:5.36599+0.06077\ttrain-error:0.14565+0.00165\ttest-logloss:7.50507+0.33101\ttest-error:0.20371+0.00898\n"
     ]
    },
    {
     "name": "stderr",
     "output_type": "stream",
     "text": [
      "\u001B[32m[I 2023-04-29 18:42:20,817]\u001B[0m Trial 439 finished with value: 0.20371311602766623 and parameters: {'eta': 0.15254090889889868, 'max_depth': 7, 'min_child_weight': 4.589581472155531, 'subsample': 0.4047139091655515, 'colsample_bynode': 0.18369276984418398}. Best is trial 53 with value: 0.19849697959875512.\u001B[0m\n"
     ]
    },
    {
     "name": "stdout",
     "output_type": "stream",
     "text": [
      "[0]\ttrain-logloss:18.40655+0.12457\ttrain-error:0.49962+0.00338\ttest-logloss:18.40644+0.49841\ttest-error:0.49961+0.01353\n",
      "[99]\ttrain-logloss:5.23601+0.23756\ttrain-error:0.14212+0.00645\ttest-logloss:7.51636+0.33517\ttest-error:0.20402+0.00910\n"
     ]
    },
    {
     "name": "stderr",
     "output_type": "stream",
     "text": [
      "\u001B[32m[I 2023-04-29 18:42:23,482]\u001B[0m Trial 440 finished with value: 0.20401951136829116 and parameters: {'eta': 0.18832902206917182, 'max_depth': 6, 'min_child_weight': 6.054875846507414, 'subsample': 0.7554553088605849, 'colsample_bynode': 0.16051454108636337}. Best is trial 53 with value: 0.19849697959875512.\u001B[0m\n"
     ]
    },
    {
     "name": "stdout",
     "output_type": "stream",
     "text": [
      "[0]\ttrain-logloss:18.40655+0.12457\ttrain-error:0.49962+0.00338\ttest-logloss:18.40644+0.49841\ttest-error:0.49961+0.01353\n",
      "[99]\ttrain-logloss:0.06499+0.01441\ttrain-error:0.00176+0.00039\ttest-logloss:8.86707+0.32630\ttest-error:0.24068+0.00886\n"
     ]
    },
    {
     "name": "stderr",
     "output_type": "stream",
     "text": [
      "\u001B[32m[I 2023-04-29 18:42:27,113]\u001B[0m Trial 441 finished with value: 0.2406825447645594 and parameters: {'eta': 0.14619044100349982, 'max_depth': 8, 'min_child_weight': 0.01427388026559622, 'subsample': 0.5521277970693347, 'colsample_bynode': 0.20426852854950794}. Best is trial 53 with value: 0.19849697959875512.\u001B[0m\n"
     ]
    },
    {
     "name": "stdout",
     "output_type": "stream",
     "text": [
      "[0]\ttrain-logloss:18.40655+0.12457\ttrain-error:0.49962+0.00338\ttest-logloss:18.40644+0.49841\ttest-error:0.49961+0.01353\n",
      "[99]\ttrain-logloss:4.59458+0.19458\ttrain-error:0.12471+0.00528\ttest-logloss:7.60109+0.22189\ttest-error:0.20632+0.00602\n"
     ]
    },
    {
     "name": "stderr",
     "output_type": "stream",
     "text": [
      "\u001B[32m[I 2023-04-29 18:42:29,439]\u001B[0m Trial 442 finished with value: 0.2063195363225026 and parameters: {'eta': 0.13637616988361878, 'max_depth': 6, 'min_child_weight': 3.533959710431601, 'subsample': 0.4360099421459628, 'colsample_bynode': 0.7618129830328559}. Best is trial 53 with value: 0.19849697959875512.\u001B[0m\n"
     ]
    },
    {
     "name": "stdout",
     "output_type": "stream",
     "text": [
      "[0]\ttrain-logloss:18.40655+0.12457\ttrain-error:0.49962+0.00338\ttest-logloss:18.40644+0.49841\ttest-error:0.49961+0.01353\n",
      "[99]\ttrain-logloss:2.83275+0.12620\ttrain-error:0.07689+0.00343\ttest-logloss:7.88942+0.32409\ttest-error:0.21415+0.00880\n"
     ]
    },
    {
     "name": "stderr",
     "output_type": "stream",
     "text": [
      "\u001B[32m[I 2023-04-29 18:42:31,909]\u001B[0m Trial 443 finished with value: 0.21414562430257686 and parameters: {'eta': 0.0767784095300679, 'max_depth': 6, 'min_child_weight': 0.03126905943415371, 'subsample': 0.20045962632201275, 'colsample_bynode': 0.23250529891162466}. Best is trial 53 with value: 0.19849697959875512.\u001B[0m\n"
     ]
    },
    {
     "name": "stdout",
     "output_type": "stream",
     "text": [
      "[0]\ttrain-logloss:18.40655+0.12457\ttrain-error:0.49962+0.00338\ttest-logloss:18.40644+0.49841\ttest-error:0.49961+0.01353\n",
      "[99]\ttrain-logloss:2.18143+0.11876\ttrain-error:0.05921+0.00322\ttest-logloss:7.88933+0.50842\ttest-error:0.21414+0.01380\n"
     ]
    },
    {
     "name": "stderr",
     "output_type": "stream",
     "text": [
      "\u001B[32m[I 2023-04-29 18:42:35,270]\u001B[0m Trial 444 finished with value: 0.2141433878402365 and parameters: {'eta': 0.1686179485258625, 'max_depth': 7, 'min_child_weight': 1.9836204648748321, 'subsample': 0.9952812174479233, 'colsample_bynode': 0.17516489874827684}. Best is trial 53 with value: 0.19849697959875512.\u001B[0m\n"
     ]
    },
    {
     "name": "stdout",
     "output_type": "stream",
     "text": [
      "[0]\ttrain-logloss:18.40655+0.12457\ttrain-error:0.49962+0.00338\ttest-logloss:18.40644+0.49841\ttest-error:0.49961+0.01353\n",
      "[99]\ttrain-logloss:0.03956+0.01820\ttrain-error:0.00107+0.00049\ttest-logloss:9.65257+0.23924\ttest-error:0.26200+0.00649\n"
     ]
    },
    {
     "name": "stderr",
     "output_type": "stream",
     "text": [
      "\u001B[32m[I 2023-04-29 18:42:37,861]\u001B[0m Trial 445 finished with value: 0.26200368192326345 and parameters: {'eta': 0.22347575295488323, 'max_depth': 6, 'min_child_weight': 0.011417476389062818, 'subsample': 0.6548731193121478, 'colsample_bynode': 0.3680929896996811}. Best is trial 53 with value: 0.19849697959875512.\u001B[0m\n"
     ]
    },
    {
     "name": "stdout",
     "output_type": "stream",
     "text": [
      "[0]\ttrain-logloss:18.40655+0.12457\ttrain-error:0.49962+0.00338\ttest-logloss:18.40644+0.49841\ttest-error:0.49961+0.01353\n",
      "[99]\ttrain-logloss:7.04162+0.09802\ttrain-error:0.19113+0.00266\ttest-logloss:7.63501+0.36188\ttest-error:0.20724+0.00982\n"
     ]
    },
    {
     "name": "stderr",
     "output_type": "stream",
     "text": [
      "\u001B[32m[I 2023-04-29 18:42:39,622]\u001B[0m Trial 446 finished with value: 0.2072402525554525 and parameters: {'eta': 0.12295466804461937, 'max_depth': 5, 'min_child_weight': 5.278360715686998, 'subsample': 0.37790182305041325, 'colsample_bynode': 0.13016180858677376}. Best is trial 53 with value: 0.19849697959875512.\u001B[0m\n"
     ]
    },
    {
     "name": "stdout",
     "output_type": "stream",
     "text": [
      "[0]\ttrain-logloss:18.40655+0.12457\ttrain-error:0.49962+0.00338\ttest-logloss:18.40644+0.49841\ttest-error:0.49961+0.01353\n",
      "[99]\ttrain-logloss:6.62625+0.07481\ttrain-error:0.17986+0.00203\ttest-logloss:7.73103+0.24559\ttest-error:0.20985+0.00667\n"
     ]
    },
    {
     "name": "stderr",
     "output_type": "stream",
     "text": [
      "\u001B[32m[I 2023-04-29 18:42:44,025]\u001B[0m Trial 447 finished with value: 0.20984655514174463 and parameters: {'eta': 0.02588040481095044, 'max_depth': 8, 'min_child_weight': 6.925321622559131, 'subsample': 0.5296591827077939, 'colsample_bynode': 0.5244690794771103}. Best is trial 53 with value: 0.19849697959875512.\u001B[0m\n"
     ]
    },
    {
     "name": "stdout",
     "output_type": "stream",
     "text": [
      "[0]\ttrain-logloss:18.40655+0.12457\ttrain-error:0.49962+0.00338\ttest-logloss:18.40644+0.49841\ttest-error:0.49961+0.01353\n",
      "[99]\ttrain-logloss:2.70984+0.12956\ttrain-error:0.07355+0.00352\ttest-logloss:7.92330+0.40783\ttest-error:0.21507+0.01107\n"
     ]
    },
    {
     "name": "stderr",
     "output_type": "stream",
     "text": [
      "\u001B[32m[I 2023-04-29 18:42:47,138]\u001B[0m Trial 448 finished with value: 0.215065398867173 and parameters: {'eta': 0.19659674492173124, 'max_depth': 7, 'min_child_weight': 2.9794428777182556, 'subsample': 0.4620577828242949, 'colsample_bynode': 0.4109424559145793}. Best is trial 53 with value: 0.19849697959875512.\u001B[0m\n"
     ]
    },
    {
     "name": "stdout",
     "output_type": "stream",
     "text": [
      "[0]\ttrain-logloss:18.40655+0.12457\ttrain-error:0.49962+0.00338\ttest-logloss:18.40644+0.49841\ttest-error:0.49961+0.01353\n",
      "[99]\ttrain-logloss:5.77431+0.11769\ttrain-error:0.15673+0.00319\ttest-logloss:7.51069+0.25500\ttest-error:0.20387+0.00692\n"
     ]
    },
    {
     "name": "stderr",
     "output_type": "stream",
     "text": [
      "\u001B[32m[I 2023-04-29 18:42:49,460]\u001B[0m Trial 449 finished with value: 0.20386578400952965 and parameters: {'eta': 0.09932603777931302, 'max_depth': 6, 'min_child_weight': 4.216039249260903, 'subsample': 0.7145328567485826, 'colsample_bynode': 0.3291068999426461}. Best is trial 53 with value: 0.19849697959875512.\u001B[0m\n"
     ]
    },
    {
     "name": "stdout",
     "output_type": "stream",
     "text": [
      "[0]\ttrain-logloss:18.40655+0.12457\ttrain-error:0.49962+0.00338\ttest-logloss:18.40644+0.49841\ttest-error:0.49961+0.01353\n",
      "[99]\ttrain-logloss:0.27551+0.04071\ttrain-error:0.00748+0.00111\ttest-logloss:9.47174+0.25564\ttest-error:0.25710+0.00694\n"
     ]
    },
    {
     "name": "stderr",
     "output_type": "stream",
     "text": [
      "\u001B[32m[I 2023-04-29 18:42:52,003]\u001B[0m Trial 450 finished with value: 0.25709523562896386 and parameters: {'eta': 0.16048761542614676, 'max_depth': 6, 'min_child_weight': 0.13148842159816554, 'subsample': 0.4889994160693689, 'colsample_bynode': 0.42674301587840546}. Best is trial 53 with value: 0.19849697959875512.\u001B[0m\n"
     ]
    },
    {
     "name": "stdout",
     "output_type": "stream",
     "text": [
      "[0]\ttrain-logloss:18.40655+0.12457\ttrain-error:0.49962+0.00338\ttest-logloss:18.40644+0.49841\ttest-error:0.49961+0.01353\n",
      "[99]\ttrain-logloss:7.05716+0.07318\ttrain-error:0.19156+0.00199\ttest-logloss:8.31313+0.32053\ttest-error:0.22565+0.00870\n"
     ]
    },
    {
     "name": "stderr",
     "output_type": "stream",
     "text": [
      "\u001B[32m[I 2023-04-29 18:42:55,739]\u001B[0m Trial 451 finished with value: 0.22564669074198757 and parameters: {'eta': 0.015121009303332461, 'max_depth': 7, 'min_child_weight': 1.6128986029042334, 'subsample': 0.42580485578191296, 'colsample_bynode': 0.19889707927686343}. Best is trial 53 with value: 0.19849697959875512.\u001B[0m\n"
     ]
    },
    {
     "name": "stdout",
     "output_type": "stream",
     "text": [
      "[0]\ttrain-logloss:18.40655+0.12457\ttrain-error:0.49962+0.00338\ttest-logloss:18.40644+0.49841\ttest-error:0.49961+0.01353\n",
      "[99]\ttrain-logloss:5.45924+0.06545\ttrain-error:0.14818+0.00178\ttest-logloss:7.45415+0.29048\ttest-error:0.20233+0.00788\n"
     ]
    },
    {
     "name": "stderr",
     "output_type": "stream",
     "text": [
      "\u001B[32m[I 2023-04-29 18:42:58,024]\u001B[0m Trial 452 finished with value: 0.20233098230134333 and parameters: {'eta': 0.18367078455984648, 'max_depth': 6, 'min_child_weight': 5.485575704995686, 'subsample': 0.5153085287262604, 'colsample_bynode': 0.15246609083866283}. Best is trial 53 with value: 0.19849697959875512.\u001B[0m\n"
     ]
    },
    {
     "name": "stdout",
     "output_type": "stream",
     "text": [
      "[0]\ttrain-logloss:18.40655+0.12457\ttrain-error:0.49962+0.00338\ttest-logloss:18.40644+0.49841\ttest-error:0.49961+0.01353\n",
      "[99]\ttrain-logloss:0.44080+0.06811\ttrain-error:0.01196+0.00185\ttest-logloss:9.08185+0.28449\ttest-error:0.24651+0.00772\n"
     ]
    },
    {
     "name": "stderr",
     "output_type": "stream",
     "text": [
      "\u001B[32m[I 2023-04-29 18:43:00,146]\u001B[0m Trial 453 finished with value: 0.24651241354307424 and parameters: {'eta': 0.1459821822994686, 'max_depth': 5, 'min_child_weight': 0.2991780131760425, 'subsample': 0.6321734006375515, 'colsample_bynode': 0.27149797553602417}. Best is trial 53 with value: 0.19849697959875512.\u001B[0m\n"
     ]
    },
    {
     "name": "stdout",
     "output_type": "stream",
     "text": [
      "[0]\ttrain-logloss:18.40655+0.12457\ttrain-error:0.49962+0.00338\ttest-logloss:18.40644+0.49841\ttest-error:0.49961+0.01353\n",
      "[99]\ttrain-logloss:0.24725+0.05134\ttrain-error:0.00671+0.00139\ttest-logloss:8.68060+0.31894\ttest-error:0.23562+0.00866\n"
     ]
    },
    {
     "name": "stderr",
     "output_type": "stream",
     "text": [
      "\u001B[32m[I 2023-04-29 18:43:03,495]\u001B[0m Trial 454 finished with value: 0.23562095965421936 and parameters: {'eta': 0.08556948329350231, 'max_depth': 7, 'min_child_weight': 0.15131293295779752, 'subsample': 0.6885365937812606, 'colsample_bynode': 0.25081356454602016}. Best is trial 53 with value: 0.19849697959875512.\u001B[0m\n"
     ]
    },
    {
     "name": "stdout",
     "output_type": "stream",
     "text": [
      "[0]\ttrain-logloss:18.40655+0.12457\ttrain-error:0.49962+0.00338\ttest-logloss:18.40644+0.49841\ttest-error:0.49961+0.01353\n",
      "[99]\ttrain-logloss:1.85790+0.22415\ttrain-error:0.05043+0.00608\ttest-logloss:7.87245+0.37153\ttest-error:0.21369+0.01008\n"
     ]
    },
    {
     "name": "stderr",
     "output_type": "stream",
     "text": [
      "\u001B[32m[I 2023-04-29 18:43:07,305]\u001B[0m Trial 455 finished with value: 0.21368503076901346 and parameters: {'eta': 0.1723899606670093, 'max_depth': 8, 'min_child_weight': 4.697384236239985, 'subsample': 0.8447293681081882, 'colsample_bynode': 0.8380544120616058}. Best is trial 53 with value: 0.19849697959875512.\u001B[0m\n"
     ]
    },
    {
     "name": "stdout",
     "output_type": "stream",
     "text": [
      "[0]\ttrain-logloss:18.40655+0.12457\ttrain-error:0.49962+0.00338\ttest-logloss:18.40644+0.49841\ttest-error:0.49961+0.01353\n",
      "[99]\ttrain-logloss:5.71497+0.14983\ttrain-error:0.15512+0.00407\ttest-logloss:7.48808+0.30166\ttest-error:0.20325+0.00819\n"
     ]
    },
    {
     "name": "stderr",
     "output_type": "stream",
     "text": [
      "\u001B[32m[I 2023-04-29 18:43:09,572]\u001B[0m Trial 456 finished with value: 0.20325205165992588 and parameters: {'eta': 0.1317594627541987, 'max_depth': 6, 'min_child_weight': 7.61806233914643, 'subsample': 0.7337850943379561, 'colsample_bynode': 0.2221313032907227}. Best is trial 53 with value: 0.19849697959875512.\u001B[0m\n"
     ]
    },
    {
     "name": "stdout",
     "output_type": "stream",
     "text": [
      "[0]\ttrain-logloss:18.40655+0.12457\ttrain-error:0.49962+0.00338\ttest-logloss:18.40644+0.49841\ttest-error:0.49961+0.01353\n",
      "[99]\ttrain-logloss:2.56150+0.18913\ttrain-error:0.06953+0.00513\ttest-logloss:7.91763+0.29866\ttest-error:0.21491+0.00811\n"
     ]
    },
    {
     "name": "stderr",
     "output_type": "stream",
     "text": [
      "\u001B[32m[I 2023-04-29 18:43:12,678]\u001B[0m Trial 457 finished with value: 0.2149113183827788 and parameters: {'eta': 0.21161553132972435, 'max_depth': 7, 'min_child_weight': 4.007043667661887, 'subsample': 0.565561888441454, 'colsample_bynode': 0.6052089862938109}. Best is trial 53 with value: 0.19849697959875512.\u001B[0m\n"
     ]
    },
    {
     "name": "stdout",
     "output_type": "stream",
     "text": [
      "[0]\ttrain-logloss:18.40655+0.12457\ttrain-error:0.49962+0.00338\ttest-logloss:18.40644+0.49841\ttest-error:0.49961+0.01353\n",
      "[99]\ttrain-logloss:5.89439+0.05990\ttrain-error:0.15999+0.00163\ttest-logloss:7.45988+0.30926\ttest-error:0.20249+0.00839\n"
     ]
    },
    {
     "name": "stderr",
     "output_type": "stream",
     "text": [
      "\u001B[32m[I 2023-04-29 18:43:14,814]\u001B[0m Trial 458 finished with value: 0.2024864752882682 and parameters: {'eta': 0.15709235686622414, 'max_depth': 6, 'min_child_weight': 6.2512875556353915, 'subsample': 0.4755361648537612, 'colsample_bynode': 0.1861222923949074}. Best is trial 53 with value: 0.19849697959875512.\u001B[0m\n"
     ]
    },
    {
     "name": "stdout",
     "output_type": "stream",
     "text": [
      "[0]\ttrain-logloss:18.40655+0.12457\ttrain-error:0.49962+0.00338\ttest-logloss:18.40644+0.49841\ttest-error:0.49961+0.01353\n",
      "[99]\ttrain-logloss:0.76293+0.14587\ttrain-error:0.02071+0.00396\ttest-logloss:8.99710+0.43825\ttest-error:0.24421+0.01190\n"
     ]
    },
    {
     "name": "stderr",
     "output_type": "stream",
     "text": [
      "\u001B[32m[I 2023-04-29 18:43:17,273]\u001B[0m Trial 459 finished with value: 0.24421191775468598 and parameters: {'eta': 0.26176287956733, 'max_depth': 6, 'min_child_weight': 0.8131109557973709, 'subsample': 0.29336055311643766, 'colsample_bynode': 0.1662471550896154}. Best is trial 53 with value: 0.19849697959875512.\u001B[0m\n"
     ]
    },
    {
     "name": "stdout",
     "output_type": "stream",
     "text": [
      "[0]\ttrain-logloss:18.40655+0.12457\ttrain-error:0.49962+0.00338\ttest-logloss:18.40644+0.49841\ttest-error:0.49961+0.01353\n",
      "[99]\ttrain-logloss:0.26138+0.04446\ttrain-error:0.00709+0.00121\ttest-logloss:8.86711+0.31186\ttest-error:0.24068+0.00846\n"
     ]
    },
    {
     "name": "stderr",
     "output_type": "stream",
     "text": [
      "\u001B[32m[I 2023-04-29 18:43:20,642]\u001B[0m Trial 460 finished with value: 0.24068348643291318 and parameters: {'eta': 0.1092177943495329, 'max_depth': 7, 'min_child_weight': 0.18383549890223283, 'subsample': 0.49598895920363706, 'colsample_bynode': 0.2101213349580399}. Best is trial 53 with value: 0.19849697959875512.\u001B[0m\n"
     ]
    },
    {
     "name": "stdout",
     "output_type": "stream",
     "text": [
      "[0]\ttrain-logloss:18.40655+0.12457\ttrain-error:0.49962+0.00338\ttest-logloss:18.40644+0.49841\ttest-error:0.49961+0.01353\n",
      "[99]\ttrain-logloss:0.85760+0.10779\ttrain-error:0.02328+0.00293\ttest-logloss:8.89537+0.36452\ttest-error:0.24145+0.00989\n"
     ]
    },
    {
     "name": "stderr",
     "output_type": "stream",
     "text": [
      "\u001B[32m[I 2023-04-29 18:43:22,853]\u001B[0m Trial 461 finished with value: 0.24145071072419005 and parameters: {'eta': 0.12242694426438958, 'max_depth': 5, 'min_child_weight': 0.47634843030284285, 'subsample': 0.535339737996512, 'colsample_bynode': 0.3115600755389105}. Best is trial 53 with value: 0.19849697959875512.\u001B[0m\n"
     ]
    },
    {
     "name": "stdout",
     "output_type": "stream",
     "text": [
      "[0]\ttrain-logloss:18.40655+0.12457\ttrain-error:0.49962+0.00338\ttest-logloss:18.40644+0.49841\ttest-error:0.49961+0.01353\n",
      "[99]\ttrain-logloss:4.70337+0.24588\ttrain-error:0.12767+0.00667\ttest-logloss:7.55028+0.34037\ttest-error:0.20494+0.00924\n"
     ]
    },
    {
     "name": "stderr",
     "output_type": "stream",
     "text": [
      "\u001B[32m[I 2023-04-29 18:43:25,624]\u001B[0m Trial 462 finished with value: 0.20494022760124114 and parameters: {'eta': 0.2032133965039425, 'max_depth': 8, 'min_child_weight': 8.604993260580613, 'subsample': 0.4567765237236971, 'colsample_bynode': 0.13981696307395974}. Best is trial 53 with value: 0.19849697959875512.\u001B[0m\n"
     ]
    },
    {
     "name": "stdout",
     "output_type": "stream",
     "text": [
      "[0]\ttrain-logloss:18.40655+0.12457\ttrain-error:0.49962+0.00338\ttest-logloss:18.40644+0.49841\ttest-error:0.49961+0.01353\n",
      "[99]\ttrain-logloss:4.00683+0.12885\ttrain-error:0.10876+0.00350\ttest-logloss:7.73675+0.20659\ttest-error:0.21000+0.00561\n"
     ]
    },
    {
     "name": "stderr",
     "output_type": "stream",
     "text": [
      "\u001B[32m[I 2023-04-29 18:43:28,074]\u001B[0m Trial 463 finished with value: 0.21000169500303686 and parameters: {'eta': 0.14796324730145152, 'max_depth': 6, 'min_child_weight': 1.0620196657876977, 'subsample': 0.33420205612372667, 'colsample_bynode': 0.49038301386627536}. Best is trial 53 with value: 0.19849697959875512.\u001B[0m\n"
     ]
    },
    {
     "name": "stdout",
     "output_type": "stream",
     "text": [
      "[0]\ttrain-logloss:18.40655+0.12457\ttrain-error:0.49962+0.00338\ttest-logloss:18.40644+0.49841\ttest-error:0.49961+0.01353\n",
      "[99]\ttrain-logloss:6.62060+0.09261\ttrain-error:0.17971+0.00251\ttest-logloss:7.59546+0.26350\ttest-error:0.20617+0.00715\n"
     ]
    },
    {
     "name": "stderr",
     "output_type": "stream",
     "text": [
      "\u001B[32m[I 2023-04-29 18:43:29,803]\u001B[0m Trial 464 finished with value: 0.20616663292355067 and parameters: {'eta': 0.18078253643335143, 'max_depth': 5, 'min_child_weight': 3.234145209130932, 'subsample': 0.39462220842370166, 'colsample_bynode': 0.11297326701701321}. Best is trial 53 with value: 0.19849697959875512.\u001B[0m\n"
     ]
    },
    {
     "name": "stdout",
     "output_type": "stream",
     "text": [
      "[0]\ttrain-logloss:18.40655+0.12457\ttrain-error:0.49962+0.00338\ttest-logloss:18.40644+0.49841\ttest-error:0.49961+0.01353\n",
      "[99]\ttrain-logloss:3.70025+0.20172\ttrain-error:0.10044+0.00548\ttest-logloss:7.52201+0.21082\ttest-error:0.20417+0.00572\n"
     ]
    },
    {
     "name": "stderr",
     "output_type": "stream",
     "text": [
      "\u001B[32m[I 2023-04-29 18:43:32,586]\u001B[0m Trial 465 finished with value: 0.20417288560142 and parameters: {'eta': 0.1400688896460069, 'max_depth': 7, 'min_child_weight': 5.364655015840939, 'subsample': 0.7397766098846442, 'colsample_bynode': 0.47113521232790595}. Best is trial 53 with value: 0.19849697959875512.\u001B[0m\n"
     ]
    },
    {
     "name": "stdout",
     "output_type": "stream",
     "text": [
      "[0]\ttrain-logloss:18.40655+0.12457\ttrain-error:0.49962+0.00338\ttest-logloss:18.40644+0.49841\ttest-error:0.49961+0.01353\n",
      "[99]\ttrain-logloss:2.72821+0.11422\ttrain-error:0.07405+0.00310\ttest-logloss:8.23977+0.58865\ttest-error:0.22366+0.01598\n"
     ]
    },
    {
     "name": "stderr",
     "output_type": "stream",
     "text": [
      "\u001B[32m[I 2023-04-29 18:43:34,862]\u001B[0m Trial 466 finished with value: 0.22365529759074154 and parameters: {'eta': 0.4476412432914055, 'max_depth': 6, 'min_child_weight': 2.4128199613192476, 'subsample': 0.6183251152891158, 'colsample_bynode': 0.18702177897894903}. Best is trial 53 with value: 0.19849697959875512.\u001B[0m\n"
     ]
    },
    {
     "name": "stdout",
     "output_type": "stream",
     "text": [
      "[0]\ttrain-logloss:18.40655+0.12457\ttrain-error:0.49962+0.00338\ttest-logloss:18.40644+0.49841\ttest-error:0.49961+0.01353\n",
      "[99]\ttrain-logloss:3.08426+0.28587\ttrain-error:0.08372+0.00776\ttest-logloss:10.11028+0.44655\ttest-error:0.27443+0.01212\n"
     ]
    },
    {
     "name": "stderr",
     "output_type": "stream",
     "text": [
      "\u001B[32m[I 2023-04-29 18:43:37,010]\u001B[0m Trial 467 finished with value: 0.27442734793233176 and parameters: {'eta': 0.39578229627911676, 'max_depth': 6, 'min_child_weight': 0.5413579754253138, 'subsample': 0.11381793081969732, 'colsample_bynode': 0.23731368228454064}. Best is trial 53 with value: 0.19849697959875512.\u001B[0m\n"
     ]
    },
    {
     "name": "stdout",
     "output_type": "stream",
     "text": [
      "[0]\ttrain-logloss:18.40655+0.12457\ttrain-error:0.49962+0.00338\ttest-logloss:18.40644+0.49841\ttest-error:0.49961+0.01353\n",
      "[99]\ttrain-logloss:0.17519+0.03108\ttrain-error:0.00476+0.00084\ttest-logloss:9.44914+0.55682\ttest-error:0.25648+0.01511\n"
     ]
    },
    {
     "name": "stderr",
     "output_type": "stream",
     "text": [
      "\u001B[32m[I 2023-04-29 18:43:39,588]\u001B[0m Trial 468 finished with value: 0.2564817386964485 and parameters: {'eta': 0.16600552551938966, 'max_depth': 6, 'min_child_weight': 0.3985169852367827, 'subsample': 0.6654377057279852, 'colsample_bynode': 0.649810660570921}. Best is trial 53 with value: 0.19849697959875512.\u001B[0m\n"
     ]
    },
    {
     "name": "stdout",
     "output_type": "stream",
     "text": [
      "[0]\ttrain-logloss:18.40655+0.12457\ttrain-error:0.49962+0.00338\ttest-logloss:18.40644+0.49841\ttest-error:0.49961+0.01353\n",
      "[99]\ttrain-logloss:4.34593+0.28740\ttrain-error:0.11796+0.00780\ttest-logloss:7.60678+0.29858\ttest-error:0.20647+0.00810\n"
     ]
    },
    {
     "name": "stderr",
     "output_type": "stream",
     "text": [
      "\u001B[32m[I 2023-04-29 18:43:42,194]\u001B[0m Trial 469 finished with value: 0.20647385222398523 and parameters: {'eta': 0.19078105811080256, 'max_depth': 7, 'min_child_weight': 6.878804555288012, 'subsample': 0.5126069593949145, 'colsample_bynode': 0.22186379469528697}. Best is trial 53 with value: 0.19849697959875512.\u001B[0m\n"
     ]
    },
    {
     "name": "stdout",
     "output_type": "stream",
     "text": [
      "[0]\ttrain-logloss:18.40655+0.12457\ttrain-error:0.49962+0.00338\ttest-logloss:18.40644+0.49841\ttest-error:0.49961+0.01353\n",
      "[99]\ttrain-logloss:3.26226+0.07627\ttrain-error:0.08855+0.00207\ttest-logloss:7.91760+0.26982\ttest-error:0.21491+0.00732\n"
     ]
    },
    {
     "name": "stderr",
     "output_type": "stream",
     "text": [
      "\u001B[32m[I 2023-04-29 18:43:44,823]\u001B[0m Trial 470 finished with value: 0.2149106121315134 and parameters: {'eta': 0.13042011259599778, 'max_depth': 6, 'min_child_weight': 1.3117111502393204, 'subsample': 0.7088313340414742, 'colsample_bynode': 0.28221384189403925}. Best is trial 53 with value: 0.19849697959875512.\u001B[0m\n"
     ]
    },
    {
     "name": "stdout",
     "output_type": "stream",
     "text": [
      "[0]\ttrain-logloss:18.40655+0.12457\ttrain-error:0.49962+0.00338\ttest-logloss:18.40644+0.49841\ttest-error:0.49961+0.01353\n",
      "[99]\ttrain-logloss:6.55843+0.06916\ttrain-error:0.17802+0.00188\ttest-logloss:7.54458+0.25169\ttest-error:0.20479+0.00683\n"
     ]
    },
    {
     "name": "stderr",
     "output_type": "stream",
     "text": [
      "\u001B[32m[I 2023-04-29 18:43:46,274]\u001B[0m Trial 471 finished with value: 0.20478567628267 and parameters: {'eta': 0.15465800122219103, 'max_depth': 4, 'min_child_weight': 4.146539652478351, 'subsample': 0.4759140117212944, 'colsample_bynode': 0.45427782406841577}. Best is trial 53 with value: 0.19849697959875512.\u001B[0m\n"
     ]
    },
    {
     "name": "stdout",
     "output_type": "stream",
     "text": [
      "[0]\ttrain-logloss:18.40655+0.12457\ttrain-error:0.49962+0.00338\ttest-logloss:18.40644+0.49841\ttest-error:0.49961+0.01353\n",
      "[99]\ttrain-logloss:4.09585+0.19972\ttrain-error:0.11118+0.00542\ttest-logloss:7.58978+0.46019\ttest-error:0.20601+0.01249\n"
     ]
    },
    {
     "name": "stderr",
     "output_type": "stream",
     "text": [
      "\u001B[32m[I 2023-04-29 18:43:48,618]\u001B[0m Trial 472 finished with value: 0.2060124347306122 and parameters: {'eta': 0.17423471666450752, 'max_depth': 6, 'min_child_weight': 3.5314299120806445, 'subsample': 0.7633369767569257, 'colsample_bynode': 0.38198362381503886}. Best is trial 53 with value: 0.19849697959875512.\u001B[0m\n"
     ]
    },
    {
     "name": "stdout",
     "output_type": "stream",
     "text": [
      "[0]\ttrain-logloss:18.40655+0.12457\ttrain-error:0.49962+0.00338\ttest-logloss:18.40644+0.49841\ttest-error:0.49961+0.01353\n",
      "[99]\ttrain-logloss:5.14135+0.09036\ttrain-error:0.13955+0.00245\ttest-logloss:7.45421+0.40000\ttest-error:0.20233+0.01086\n"
     ]
    },
    {
     "name": "stderr",
     "output_type": "stream",
     "text": [
      "\u001B[32m[I 2023-04-29 18:43:51,533]\u001B[0m Trial 473 finished with value: 0.20233263022096248 and parameters: {'eta': 0.13841099279933453, 'max_depth': 8, 'min_child_weight': 4.7857958021053655, 'subsample': 0.36468202880418055, 'colsample_bynode': 0.1634847474682199}. Best is trial 53 with value: 0.19849697959875512.\u001B[0m\n"
     ]
    },
    {
     "name": "stdout",
     "output_type": "stream",
     "text": [
      "[0]\ttrain-logloss:18.40655+0.12457\ttrain-error:0.49962+0.00338\ttest-logloss:18.40644+0.49841\ttest-error:0.49961+0.01353\n",
      "[99]\ttrain-logloss:6.00036+0.12586\ttrain-error:0.16287+0.00342\ttest-logloss:7.57282+0.29001\ttest-error:0.20555+0.00787\n"
     ]
    },
    {
     "name": "stderr",
     "output_type": "stream",
     "text": [
      "\u001B[32m[I 2023-04-29 18:43:54,450]\u001B[0m Trial 474 finished with value: 0.20555207661413727 and parameters: {'eta': 0.05864828444566206, 'max_depth': 7, 'min_child_weight': 5.76281232654561, 'subsample': 0.5537731193284926, 'colsample_bynode': 0.5520135110765094}. Best is trial 53 with value: 0.19849697959875512.\u001B[0m\n"
     ]
    },
    {
     "name": "stdout",
     "output_type": "stream",
     "text": [
      "[0]\ttrain-logloss:18.40655+0.12457\ttrain-error:0.49962+0.00338\ttest-logloss:18.40644+0.49841\ttest-error:0.49961+0.01353\n",
      "[99]\ttrain-logloss:2.06417+0.12635\ttrain-error:0.05603+0.00343\ttest-logloss:8.35283+0.34106\ttest-error:0.22672+0.00926\n"
     ]
    },
    {
     "name": "stderr",
     "output_type": "stream",
     "text": [
      "\u001B[32m[I 2023-04-29 18:43:56,426]\u001B[0m Trial 475 finished with value: 0.22672419475584893 and parameters: {'eta': 0.11672183653969834, 'max_depth': 5, 'min_child_weight': 0.3060951132554614, 'subsample': 0.4428443233190526, 'colsample_bynode': 0.19914094789676615}. Best is trial 53 with value: 0.19849697959875512.\u001B[0m\n"
     ]
    },
    {
     "name": "stdout",
     "output_type": "stream",
     "text": [
      "[0]\ttrain-logloss:18.40655+0.12457\ttrain-error:0.49962+0.00338\ttest-logloss:18.40644+0.49841\ttest-error:0.49961+0.01353\n",
      "[99]\ttrain-logloss:0.09607+0.02551\ttrain-error:0.00261+0.00069\ttest-logloss:9.74868+0.39353\ttest-error:0.26461+0.01068\n"
     ]
    },
    {
     "name": "stderr",
     "output_type": "stream",
     "text": [
      "\u001B[32m[I 2023-04-29 18:43:59,745]\u001B[0m Trial 476 finished with value: 0.26461245638898434 and parameters: {'eta': 0.4209017312643178, 'max_depth': 7, 'min_child_weight': 0.3635477634119172, 'subsample': 0.493718709627285, 'colsample_bynode': 0.17508588056604807}. Best is trial 53 with value: 0.19849697959875512.\u001B[0m\n"
     ]
    },
    {
     "name": "stdout",
     "output_type": "stream",
     "text": [
      "[0]\ttrain-logloss:18.40655+0.12457\ttrain-error:0.49962+0.00338\ttest-logloss:18.40644+0.49841\ttest-error:0.49961+0.01353\n",
      "[99]\ttrain-logloss:4.09020+0.21226\ttrain-error:0.11102+0.00576\ttest-logloss:7.65768+0.41738\ttest-error:0.20786+0.01133\n"
     ]
    },
    {
     "name": "stderr",
     "output_type": "stream",
     "text": [
      "\u001B[32m[I 2023-04-29 18:44:01,952]\u001B[0m Trial 477 finished with value: 0.20785539740758702 and parameters: {'eta': 0.24280953564918425, 'max_depth': 6, 'min_child_weight': 4.729012019640603, 'subsample': 0.4191112413699287, 'colsample_bynode': 0.34880869518714364}. Best is trial 53 with value: 0.19849697959875512.\u001B[0m\n"
     ]
    },
    {
     "name": "stdout",
     "output_type": "stream",
     "text": [
      "[0]\ttrain-logloss:18.40655+0.12457\ttrain-error:0.49962+0.00338\ttest-logloss:18.40644+0.49841\ttest-error:0.49961+0.01353\n",
      "[99]\ttrain-logloss:6.78166+0.09612\ttrain-error:0.18408+0.00261\ttest-logloss:7.62371+0.17328\ttest-error:0.20693+0.00470\n"
     ]
    },
    {
     "name": "stderr",
     "output_type": "stream",
     "text": [
      "\u001B[32m[I 2023-04-29 18:44:04,443]\u001B[0m Trial 478 finished with value: 0.20693338638065056 and parameters: {'eta': 0.09225215907753664, 'max_depth': 6, 'min_child_weight': 8.043660354418174, 'subsample': 0.22160133094804196, 'colsample_bynode': 0.20477112061676694}. Best is trial 53 with value: 0.19849697959875512.\u001B[0m\n"
     ]
    },
    {
     "name": "stdout",
     "output_type": "stream",
     "text": [
      "[0]\ttrain-logloss:18.40655+0.12457\ttrain-error:0.49962+0.00338\ttest-logloss:18.40644+0.49841\ttest-error:0.49961+0.01353\n",
      "[99]\ttrain-logloss:0.07064+0.02189\ttrain-error:0.00192+0.00059\ttest-logloss:9.16094+0.35070\ttest-error:0.24866+0.00952\n"
     ]
    },
    {
     "name": "stderr",
     "output_type": "stream",
     "text": [
      "\u001B[32m[I 2023-04-29 18:44:08,122]\u001B[0m Trial 479 finished with value: 0.2486590642641568 and parameters: {'eta': 0.1955721193074395, 'max_depth': 8, 'min_child_weight': 0.2503430590092971, 'subsample': 0.5348261336051005, 'colsample_bynode': 0.15332058239462695}. Best is trial 53 with value: 0.19849697959875512.\u001B[0m\n"
     ]
    },
    {
     "name": "stdout",
     "output_type": "stream",
     "text": [
      "[0]\ttrain-logloss:18.40655+0.12457\ttrain-error:0.49962+0.00338\ttest-logloss:18.40644+0.49841\ttest-error:0.49961+0.01353\n",
      "[99]\ttrain-logloss:2.70984+0.15054\ttrain-error:0.07355+0.00409\ttest-logloss:8.05891+0.26028\ttest-error:0.21875+0.00706\n"
     ]
    },
    {
     "name": "stderr",
     "output_type": "stream",
     "text": [
      "\u001B[32m[I 2023-04-29 18:44:11,697]\u001B[0m Trial 480 finished with value: 0.21874614504517656 and parameters: {'eta': 0.27036046891313087, 'max_depth': 9, 'min_child_weight': 6.322323414875813, 'subsample': 0.6871827310420031, 'colsample_bynode': 0.1350992845767839}. Best is trial 53 with value: 0.19849697959875512.\u001B[0m\n"
     ]
    },
    {
     "name": "stdout",
     "output_type": "stream",
     "text": [
      "[0]\ttrain-logloss:18.40655+0.12457\ttrain-error:0.49962+0.00338\ttest-logloss:18.40644+0.49841\ttest-error:0.49961+0.01353\n",
      "[99]\ttrain-logloss:4.07889+0.10989\ttrain-error:0.11071+0.00298\ttest-logloss:7.58414+0.16755\ttest-error:0.20586+0.00455\n"
     ]
    },
    {
     "name": "stderr",
     "output_type": "stream",
     "text": [
      "\u001B[32m[I 2023-04-29 18:44:14,720]\u001B[0m Trial 481 finished with value: 0.20585941362311608 and parameters: {'eta': 0.16263343189952822, 'max_depth': 6, 'min_child_weight': 2.931259717706348, 'subsample': 0.5983259463700772, 'colsample_bynode': 0.2560627744064853}. Best is trial 53 with value: 0.19849697959875512.\u001B[0m\n"
     ]
    },
    {
     "name": "stdout",
     "output_type": "stream",
     "text": [
      "[0]\ttrain-logloss:18.40655+0.12457\ttrain-error:0.49962+0.00338\ttest-logloss:18.40644+0.49841\ttest-error:0.49961+0.01353\n",
      "[99]\ttrain-logloss:5.34056+0.13516\ttrain-error:0.14496+0.00367\ttest-logloss:7.39201+0.21059\ttest-error:0.20064+0.00572\n"
     ]
    },
    {
     "name": "stderr",
     "output_type": "stream",
     "text": [
      "\u001B[32m[I 2023-04-29 18:44:18,081]\u001B[0m Trial 482 finished with value: 0.20064445427964722 and parameters: {'eta': 0.10193203931473982, 'max_depth': 7, 'min_child_weight': 1.2070391381204122, 'subsample': 0.26807599019408385, 'colsample_bynode': 0.18381711167952297}. Best is trial 53 with value: 0.19849697959875512.\u001B[0m\n"
     ]
    },
    {
     "name": "stdout",
     "output_type": "stream",
     "text": [
      "[0]\ttrain-logloss:18.40655+0.12457\ttrain-error:0.49962+0.00338\ttest-logloss:18.40644+0.49841\ttest-error:0.49961+0.01353\n",
      "[99]\ttrain-logloss:2.86242+0.13292\ttrain-error:0.07770+0.00361\ttest-logloss:8.92357+0.41885\ttest-error:0.24222+0.01137\n"
     ]
    },
    {
     "name": "stderr",
     "output_type": "stream",
     "text": [
      "\u001B[32m[I 2023-04-29 18:44:21,168]\u001B[0m Trial 483 finished with value: 0.24221605167875926 and parameters: {'eta': 0.4947107363407673, 'max_depth': 7, 'min_child_weight': 2.161543205712237, 'subsample': 0.2946881091477482, 'colsample_bynode': 0.6728457330490138}. Best is trial 53 with value: 0.19849697959875512.\u001B[0m\n"
     ]
    },
    {
     "name": "stdout",
     "output_type": "stream",
     "text": [
      "[0]\ttrain-logloss:18.40655+0.12457\ttrain-error:0.49962+0.00338\ttest-logloss:18.40644+0.49841\ttest-error:0.49961+0.01353\n",
      "[99]\ttrain-logloss:5.78278+0.13538\ttrain-error:0.15696+0.00367\ttest-logloss:7.51068+0.31413\ttest-error:0.20387+0.00853\n"
     ]
    },
    {
     "name": "stderr",
     "output_type": "stream",
     "text": [
      "\u001B[32m[I 2023-04-29 18:44:23,722]\u001B[0m Trial 484 finished with value: 0.20386543088389703 and parameters: {'eta': 0.10064353906508286, 'max_depth': 6, 'min_child_weight': 1.7981071402669815, 'subsample': 0.23082026949169399, 'colsample_bynode': 0.22069931251943686}. Best is trial 53 with value: 0.19849697959875512.\u001B[0m\n"
     ]
    },
    {
     "name": "stdout",
     "output_type": "stream",
     "text": [
      "[0]\ttrain-logloss:18.40655+0.12457\ttrain-error:0.49962+0.00338\ttest-logloss:18.40644+0.49841\ttest-error:0.49961+0.01353\n",
      "[99]\ttrain-logloss:4.91812+0.12176\ttrain-error:0.13349+0.00330\ttest-logloss:7.80451+0.40627\ttest-error:0.21184+0.01103\n"
     ]
    },
    {
     "name": "stderr",
     "output_type": "stream",
     "text": [
      "\u001B[32m[I 2023-04-29 18:44:25,943]\u001B[0m Trial 485 finished with value: 0.2118408910065964 and parameters: {'eta': 0.11087516864315275, 'max_depth': 5, 'min_child_weight': 1.5817334092382236, 'subsample': 0.3888515427400488, 'colsample_bynode': 0.8889714016955865}. Best is trial 53 with value: 0.19849697959875512.\u001B[0m\n"
     ]
    },
    {
     "name": "stdout",
     "output_type": "stream",
     "text": [
      "[0]\ttrain-logloss:18.40655+0.12457\ttrain-error:0.49962+0.00338\ttest-logloss:18.40644+0.49841\ttest-error:0.49961+0.01353\n",
      "[99]\ttrain-logloss:4.89693+0.04930\ttrain-error:0.13292+0.00134\ttest-logloss:7.82718+0.40110\ttest-error:0.21246+0.01089\n"
     ]
    },
    {
     "name": "stderr",
     "output_type": "stream",
     "text": [
      "\u001B[32m[I 2023-04-29 18:44:29,217]\u001B[0m Trial 486 finished with value: 0.2124563889843636 and parameters: {'eta': 0.10273126358694927, 'max_depth': 6, 'min_child_weight': 1.1986622816152304, 'subsample': 0.3057755484207943, 'colsample_bynode': 0.9786976718345177}. Best is trial 53 with value: 0.19849697959875512.\u001B[0m\n"
     ]
    },
    {
     "name": "stdout",
     "output_type": "stream",
     "text": [
      "[0]\ttrain-logloss:18.40655+0.12457\ttrain-error:0.49962+0.00338\ttest-logloss:18.40644+0.49841\ttest-error:0.49961+0.01353\n",
      "[99]\ttrain-logloss:3.89380+0.03441\ttrain-error:0.10569+0.00093\ttest-logloss:7.77632+0.28813\ttest-error:0.21108+0.00782\n"
     ]
    },
    {
     "name": "stderr",
     "output_type": "stream",
     "text": [
      "\u001B[32m[I 2023-04-29 18:44:32,987]\u001B[0m Trial 487 finished with value: 0.2110756677605714 and parameters: {'eta': 0.08917183363624537, 'max_depth': 7, 'min_child_weight': 1.8888363432847994, 'subsample': 0.4511117407112096, 'colsample_bynode': 0.429540883098028}. Best is trial 53 with value: 0.19849697959875512.\u001B[0m\n"
     ]
    },
    {
     "name": "stdout",
     "output_type": "stream",
     "text": [
      "[0]\ttrain-logloss:18.40655+0.12457\ttrain-error:0.49962+0.00338\ttest-logloss:18.40644+0.49841\ttest-error:0.49961+0.01353\n",
      "[99]\ttrain-logloss:6.46235+0.10294\ttrain-error:0.17541+0.00279\ttest-logloss:7.58415+0.25803\ttest-error:0.20586+0.00700\n"
     ]
    },
    {
     "name": "stderr",
     "output_type": "stream",
     "text": [
      "\u001B[32m[I 2023-04-29 18:44:35,654]\u001B[0m Trial 488 finished with value: 0.20585976674874878 and parameters: {'eta': 0.12332909042323312, 'max_depth': 6, 'min_child_weight': 2.7274545899788394, 'subsample': 0.18470036196789102, 'colsample_bynode': 0.1892915751082561}. Best is trial 53 with value: 0.19849697959875512.\u001B[0m\n"
     ]
    },
    {
     "name": "stdout",
     "output_type": "stream",
     "text": [
      "[0]\ttrain-logloss:18.40655+0.12457\ttrain-error:0.49962+0.00338\ttest-logloss:18.40644+0.49841\ttest-error:0.49961+0.01353\n",
      "[99]\ttrain-logloss:0.47047+0.10075\ttrain-error:0.01277+0.00273\ttest-logloss:9.93519+0.45228\ttest-error:0.26967+0.01228\n"
     ]
    },
    {
     "name": "stderr",
     "output_type": "stream",
     "text": [
      "\u001B[32m[I 2023-04-29 18:44:39,204]\u001B[0m Trial 489 finished with value: 0.2696749831676782 and parameters: {'eta': 0.22052582023030484, 'max_depth': 7, 'min_child_weight': 0.22659436868879096, 'subsample': 0.29077987494343144, 'colsample_bynode': 0.5042032453494444}. Best is trial 53 with value: 0.19849697959875512.\u001B[0m\n"
     ]
    },
    {
     "name": "stdout",
     "output_type": "stream",
     "text": [
      "[0]\ttrain-logloss:18.40655+0.12457\ttrain-error:0.49962+0.00338\ttest-logloss:18.40644+0.49841\ttest-error:0.49961+0.01353\n",
      "[99]\ttrain-logloss:0.97204+0.12428\ttrain-error:0.02638+0.00337\ttest-logloss:9.60180+0.50229\ttest-error:0.26063+0.01363\n"
     ]
    },
    {
     "name": "stderr",
     "output_type": "stream",
     "text": [
      "\u001B[32m[I 2023-04-29 18:44:43,088]\u001B[0m Trial 490 finished with value: 0.2606256679959885 and parameters: {'eta': 0.11243411883461751, 'max_depth': 8, 'min_child_weight': 0.6475830743227411, 'subsample': 0.2991734528072315, 'colsample_bynode': 0.6950266969818049}. Best is trial 53 with value: 0.19849697959875512.\u001B[0m\n"
     ]
    },
    {
     "name": "stdout",
     "output_type": "stream",
     "text": [
      "[0]\ttrain-logloss:18.40655+0.12457\ttrain-error:0.49962+0.00338\ttest-logloss:18.40644+0.49841\ttest-error:0.49961+0.01353\n",
      "[99]\ttrain-logloss:5.81527+0.05810\ttrain-error:0.15785+0.00158\ttest-logloss:7.54454+0.37799\ttest-error:0.20478+0.01026\n"
     ]
    },
    {
     "name": "stderr",
     "output_type": "stream",
     "text": [
      "\u001B[32m[I 2023-04-29 18:44:45,571]\u001B[0m Trial 491 finished with value: 0.20478449919722772 and parameters: {'eta': 0.1274650306996736, 'max_depth': 6, 'min_child_weight': 3.462739784536766, 'subsample': 0.2893419505519308, 'colsample_bynode': 0.32428525158665056}. Best is trial 53 with value: 0.19849697959875512.\u001B[0m\n"
     ]
    },
    {
     "name": "stdout",
     "output_type": "stream",
     "text": [
      "[0]\ttrain-logloss:18.40655+0.12457\ttrain-error:0.49962+0.00338\ttest-logloss:18.40644+0.49841\ttest-error:0.49961+0.01353\n",
      "[99]\ttrain-logloss:5.74888+0.17298\ttrain-error:0.15604+0.00470\ttest-logloss:7.51069+0.19200\ttest-error:0.20387+0.00521\n"
     ]
    },
    {
     "name": "stderr",
     "output_type": "stream",
     "text": [
      "\u001B[32m[I 2023-04-29 18:44:48,190]\u001B[0m Trial 492 finished with value: 0.20386566630098546 and parameters: {'eta': 0.07424065275651645, 'max_depth': 6, 'min_child_weight': 2.243581308514292, 'subsample': 0.5764415032240408, 'colsample_bynode': 0.24379011901035094}. Best is trial 53 with value: 0.19849697959875512.\u001B[0m\n"
     ]
    },
    {
     "name": "stdout",
     "output_type": "stream",
     "text": [
      "[0]\ttrain-logloss:18.40655+0.12457\ttrain-error:0.49962+0.00338\ttest-logloss:18.40644+0.49841\ttest-error:0.49961+0.01353\n",
      "[99]\ttrain-logloss:4.50133+0.08168\ttrain-error:0.12218+0.00222\ttest-logloss:7.75375+0.37360\ttest-error:0.21046+0.01014\n"
     ]
    },
    {
     "name": "stderr",
     "output_type": "stream",
     "text": [
      "\u001B[32m[I 2023-04-29 18:44:51,101]\u001B[0m Trial 493 finished with value: 0.2104631124964099 and parameters: {'eta': 0.14883170519581865, 'max_depth': 7, 'min_child_weight': 1.5068243597254771, 'subsample': 0.27992437244897955, 'colsample_bynode': 0.16540621636038108}. Best is trial 53 with value: 0.19849697959875512.\u001B[0m\n"
     ]
    },
    {
     "name": "stdout",
     "output_type": "stream",
     "text": [
      "[0]\ttrain-logloss:18.40655+0.12457\ttrain-error:0.49962+0.00338\ttest-logloss:18.40644+0.49841\ttest-error:0.49961+0.01353\n",
      "[99]\ttrain-logloss:2.35381+0.08010\ttrain-error:0.06389+0.00217\ttest-logloss:8.34155+0.53955\ttest-error:0.22642+0.01465\n"
     ]
    },
    {
     "name": "stderr",
     "output_type": "stream",
     "text": [
      "\u001B[32m[I 2023-04-29 18:44:53,337]\u001B[0m Trial 494 finished with value: 0.22641815254085662 and parameters: {'eta': 0.08178951022350975, 'max_depth': 5, 'min_child_weight': 0.6979446038633018, 'subsample': 0.33252456255621987, 'colsample_bynode': 0.30241859869012677}. Best is trial 53 with value: 0.19849697959875512.\u001B[0m\n"
     ]
    },
    {
     "name": "stdout",
     "output_type": "stream",
     "text": [
      "[0]\ttrain-logloss:18.40655+0.12457\ttrain-error:0.49962+0.00338\ttest-logloss:18.40644+0.49841\ttest-error:0.49961+0.01353\n",
      "[99]\ttrain-logloss:4.43210+0.15775\ttrain-error:0.12030+0.00428\ttest-logloss:7.85539+0.34904\ttest-error:0.21322+0.00947\n"
     ]
    },
    {
     "name": "stderr",
     "output_type": "stream",
     "text": [
      "\u001B[32m[I 2023-04-29 18:44:55,796]\u001B[0m Trial 495 finished with value: 0.21322208306456547 and parameters: {'eta': 0.2047243711414858, 'max_depth': 6, 'min_child_weight': 2.519768639038564, 'subsample': 0.398799768493865, 'colsample_bynode': 0.20526034597749612}. Best is trial 53 with value: 0.19849697959875512.\u001B[0m\n"
     ]
    },
    {
     "name": "stdout",
     "output_type": "stream",
     "text": [
      "[0]\ttrain-logloss:18.40655+0.12457\ttrain-error:0.49962+0.00338\ttest-logloss:18.40644+0.49841\ttest-error:0.49961+0.01353\n",
      "[99]\ttrain-logloss:5.26569+0.16084\ttrain-error:0.14293+0.00437\ttest-logloss:7.52763+0.29800\ttest-error:0.20433+0.00809\n"
     ]
    },
    {
     "name": "stderr",
     "output_type": "stream",
     "text": [
      "\u001B[32m[I 2023-04-29 18:44:58,178]\u001B[0m Trial 496 finished with value: 0.20432555358328347 and parameters: {'eta': 0.13753728717029945, 'max_depth': 6, 'min_child_weight': 3.915489851053428, 'subsample': 0.3779787612320752, 'colsample_bynode': 0.4021483774315147}. Best is trial 53 with value: 0.19849697959875512.\u001B[0m\n"
     ]
    },
    {
     "name": "stdout",
     "output_type": "stream",
     "text": [
      "[0]\ttrain-logloss:18.40655+0.12457\ttrain-error:0.49962+0.00338\ttest-logloss:18.40644+0.49841\ttest-error:0.49961+0.01353\n",
      "[99]\ttrain-logloss:2.44846+0.25141\ttrain-error:0.06646+0.00682\ttest-logloss:7.83286+0.27671\ttest-error:0.21261+0.00751\n"
     ]
    },
    {
     "name": "stderr",
     "output_type": "stream",
     "text": [
      "\u001B[32m[I 2023-04-29 18:45:01,277]\u001B[0m Trial 497 finished with value: 0.21261058717730202 and parameters: {'eta': 0.1010447518681329, 'max_depth': 7, 'min_child_weight': 0.9804596858701954, 'subsample': 0.47944166855313286, 'colsample_bynode': 0.1207887793282581}. Best is trial 53 with value: 0.19849697959875512.\u001B[0m\n"
     ]
    },
    {
     "name": "stdout",
     "output_type": "stream",
     "text": [
      "[0]\ttrain-logloss:18.40655+0.12457\ttrain-error:0.49962+0.00338\ttest-logloss:18.40644+0.49841\ttest-error:0.49961+0.01353\n",
      "[99]\ttrain-logloss:0.61459+0.05757\ttrain-error:0.01668+0.00156\ttest-logloss:8.83880+0.25060\ttest-error:0.23992+0.00680\n"
     ]
    },
    {
     "name": "stderr",
     "output_type": "stream",
     "text": [
      "\u001B[32m[I 2023-04-29 18:45:05,233]\u001B[0m Trial 498 finished with value: 0.23991520276473827 and parameters: {'eta': 0.3164588361141489, 'max_depth': 8, 'min_child_weight': 1.2483858042751717, 'subsample': 0.947173952475632, 'colsample_bynode': 0.5278929446189343}. Best is trial 53 with value: 0.19849697959875512.\u001B[0m\n"
     ]
    },
    {
     "name": "stdout",
     "output_type": "stream",
     "text": [
      "[0]\ttrain-logloss:18.40655+0.12457\ttrain-error:0.49962+0.00338\ttest-logloss:18.40644+0.49841\ttest-error:0.49961+0.01353\n",
      "[99]\ttrain-logloss:6.84524+0.18591\ttrain-error:0.18580+0.00505\ttest-logloss:7.60676+0.10291\ttest-error:0.20647+0.00279\n"
     ]
    },
    {
     "name": "stderr",
     "output_type": "stream",
     "text": [
      "\u001B[32m[I 2023-04-29 18:45:07,092]\u001B[0m Trial 499 finished with value: 0.20647326368126412 and parameters: {'eta': 0.12042486518484762, 'max_depth': 5, 'min_child_weight': 7.4463115577466334, 'subsample': 0.2182309768928781, 'colsample_bynode': 0.18157222903626635}. Best is trial 53 with value: 0.19849697959875512.\u001B[0m\n"
     ]
    },
    {
     "name": "stdout",
     "output_type": "stream",
     "text": [
      "Number of finished trials: 500\n",
      "Best trial:\n",
      "  Value: 0.19849697959875512\n",
      "  Params: \n",
      "    eta: 0.13641333871191655\n",
      "    max_depth: 7\n",
      "    min_child_weight: 4.527383710014901\n",
      "    subsample: 0.5401473217181034\n",
      "    colsample_bynode: 0.1380431871118455\n"
     ]
    }
   ],
   "source": [
    "study = optuna.create_study(direction='minimize')\n",
    "study.optimize(objective, n_trials=500)\n",
    "print('Number of finished trials: {}'.format(len(study.trials)))\n",
    "print('Best trial:')\n",
    "trial = study.best_trial\n",
    "\n",
    "print('  Value: {}'.format(trial.value))\n",
    "print('  Params: ')\n",
    "\n",
    "for key, value in trial.params.items():\n",
    "    print('    {}: {}'.format(key, value))"
   ],
   "metadata": {
    "collapsed": false,
    "ExecuteTime": {
     "start_time": "2023-04-29T18:23:49.042842Z",
     "end_time": "2023-04-29T18:45:07.129244Z"
    }
   }
  },
  {
   "cell_type": "code",
   "execution_count": 15,
   "outputs": [],
   "source": [
    "bestParams = study.best_trial.params\n",
    "bestParams[\"tree_method\"]= \"gpu_hist\"\n",
    "bestParams[\"objective\"]= \"binary:hinge\"\n",
    "dfull = xgb.DMatrix(X, Y, enable_categorical=True)\n",
    "model = xgb.train(\n",
    "    params=bestParams,\n",
    "    dtrain=dfull,\n",
    "    num_boost_round=100\n",
    ")\n",
    "spaceship_test = pd.read_csv(\"/home/rainer/Downloads/ML_datasets/spaceship_titanic_test.csv\")\n",
    "spaceship_finalPred = convert(spaceship_test)\n",
    "spaceship_finalPred_matrix = xgb.DMatrix(spaceship_finalPred, enable_categorical=True)\n",
    "predictions = model.predict(spaceship_finalPred_matrix)\n",
    "predictionsDf = pd.DataFrame(predictions, columns=[\"Transported\"])\n",
    "predictionsDf[\"PassengerId\"]=spaceship_test[\"PassengerId\"]\n",
    "predictionsDf=predictionsDf[[\"PassengerId\",\"Transported\"]]\n",
    "predictionsDf[\"Transported\"]=predictionsDf[\"Transported\"].astype(bool)\n",
    "predictionsDf.to_csv('/home/rainer/Downloads/ML_datasets/spaceship_titanic_test_prediction.csv', index=False)"
   ],
   "metadata": {
    "collapsed": false,
    "ExecuteTime": {
     "start_time": "2023-04-29T20:30:47.223095Z",
     "end_time": "2023-04-29T20:30:48.023251Z"
    }
   }
  },
  {
   "cell_type": "code",
   "execution_count": 19,
   "outputs": [],
   "source": [
    "predictionsDf"
   ],
   "metadata": {
    "collapsed": false,
    "ExecuteTime": {
     "start_time": "2023-04-29T20:30:57.247073Z",
     "end_time": "2023-04-29T20:30:57.267068Z"
    }
   }
  },
  {
   "cell_type": "code",
   "execution_count": null,
   "outputs": [],
   "source": [
    "param = {\n",
    "    'tree_method':'gpu_hist',\n",
    "    \"objective\": \"binary:hinge\",\n",
    "    'eta': trial.suggest_float('eta', 0.01, 0.5),\n",
    "    'max_depth': trial.suggest_int('max_depth', 3, 10),\n",
    "    'min_child_weight': trial.suggest_float('min_child_weight', 0.01, 10, log=True),\n",
    "    'subsample': trial.suggest_float('subsample', 0.1, 1),\n",
    "    'colsample_bynode': trial.suggest_float('colsample_bynode', 0.1, 1),\n",
    "\n",
    "}"
   ],
   "metadata": {
    "collapsed": false
   }
  }
 ],
 "metadata": {
  "kernelspec": {
   "display_name": "Python 3",
   "language": "python",
   "name": "python3"
  },
  "language_info": {
   "codemirror_mode": {
    "name": "ipython",
    "version": 2
   },
   "file_extension": ".py",
   "mimetype": "text/x-python",
   "name": "python",
   "nbconvert_exporter": "python",
   "pygments_lexer": "ipython2",
   "version": "2.7.6"
  }
 },
 "nbformat": 4,
 "nbformat_minor": 0
}
