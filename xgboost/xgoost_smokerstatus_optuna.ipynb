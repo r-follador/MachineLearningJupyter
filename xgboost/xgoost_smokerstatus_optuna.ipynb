{
 "cells": [
  {
   "cell_type": "markdown",
   "source": [
    "# Smoker Status\n",
    "[Kaggle Competiton](https://www.kaggle.com/competitions/playground-series-s3e24/)\n",
    "\n",
    "\n",
    "age : 5-years gap\n",
    "height(cm)\n",
    "weight(kg)\n",
    "waist(cm) : Waist circumference length\n",
    "eyesight(left)\n",
    "eyesight(right)\n",
    "hearing(left)\n",
    "hearing(right)\n",
    "systolic : Blood pressure\n",
    "relaxation : Blood pressure\n",
    "fasting blood sugar\n",
    "Cholesterol : total\n",
    "triglyceride\n",
    "HDL : cholesterol type\n",
    "LDL : cholesterol type\n",
    "hemoglobin\n",
    "Urine protein\n",
    "serum creatinine\n",
    "AST : glutamic oxaloacetic transaminase type\n",
    "ALT : glutamic oxaloacetic transaminase type\n",
    "Gtp : γ-GTP\n",
    "dental caries\n",
    "smoking"
   ],
   "metadata": {
    "collapsed": false
   }
  },
  {
   "cell_type": "code",
   "execution_count": 3,
   "outputs": [
    {
     "data": {
      "text/plain": "            id  age  height(cm)  weight(kg)  waist(cm)  eyesight(left)  \\\n0            0   55         165          60       81.0             0.5   \n1            1   70         165          65       89.0             0.6   \n2            2   20         170          75       81.0             0.4   \n3            3   35         180          95      105.0             1.5   \n4            4   30         165          60       80.5             1.5   \n...        ...  ...         ...         ...        ...             ...   \n159251  159251   40         155          45       69.0             1.5   \n159252  159252   50         155          75       82.0             1.0   \n159253  159253   40         160          50       66.0             1.5   \n159254  159254   50         165          75       92.0             1.2   \n159255  159255   40         145          45       76.4             1.0   \n\n        eyesight(right)  hearing(left)  hearing(right)  systolic  ...  HDL  \\\n0                   0.6              1               1       135  ...   40   \n1                   0.7              2               2       146  ...   57   \n2                   0.5              1               1       118  ...   45   \n3                   1.2              1               1       131  ...   38   \n4                   1.0              1               1       121  ...   44   \n...                 ...            ...             ...       ...  ...  ...   \n159251              2.0              1               1       127  ...   72   \n159252              1.0              1               1       120  ...   64   \n159253              1.0              1               1       114  ...   87   \n159254              1.0              1               1       121  ...   55   \n159255              1.2              1               1       125  ...   87   \n\n        LDL  hemoglobin  Urine protein  serum creatinine  AST  ALT  Gtp  \\\n0        75        16.5              1               1.0   22   25   27   \n1       126        16.2              1               1.1   27   23   37   \n2        93        17.4              1               0.8   27   31   53   \n3       102        15.9              1               1.0   20   27   30   \n4        93        15.4              1               0.8   19   13   17   \n...     ...         ...            ...               ...  ...  ...  ...   \n159251  159        14.5              1               0.8   25   26   13   \n159252  108        14.5              1               0.6   21   20   18   \n159253   93        10.9              1               0.6   15    9   12   \n159254   80        14.4              1               1.1   22   17   37   \n159255   81        14.0              1               0.8   21   16   17   \n\n        dental caries  smoking  \n0                   0        1  \n1                   1        0  \n2                   0        1  \n3                   1        0  \n4                   0        1  \n...               ...      ...  \n159251              0        0  \n159252              0        0  \n159253              0        0  \n159254              0        1  \n159255              0        0  \n\n[159256 rows x 24 columns]",
      "text/html": "<div>\n<style scoped>\n    .dataframe tbody tr th:only-of-type {\n        vertical-align: middle;\n    }\n\n    .dataframe tbody tr th {\n        vertical-align: top;\n    }\n\n    .dataframe thead th {\n        text-align: right;\n    }\n</style>\n<table border=\"1\" class=\"dataframe\">\n  <thead>\n    <tr style=\"text-align: right;\">\n      <th></th>\n      <th>id</th>\n      <th>age</th>\n      <th>height(cm)</th>\n      <th>weight(kg)</th>\n      <th>waist(cm)</th>\n      <th>eyesight(left)</th>\n      <th>eyesight(right)</th>\n      <th>hearing(left)</th>\n      <th>hearing(right)</th>\n      <th>systolic</th>\n      <th>...</th>\n      <th>HDL</th>\n      <th>LDL</th>\n      <th>hemoglobin</th>\n      <th>Urine protein</th>\n      <th>serum creatinine</th>\n      <th>AST</th>\n      <th>ALT</th>\n      <th>Gtp</th>\n      <th>dental caries</th>\n      <th>smoking</th>\n    </tr>\n  </thead>\n  <tbody>\n    <tr>\n      <th>0</th>\n      <td>0</td>\n      <td>55</td>\n      <td>165</td>\n      <td>60</td>\n      <td>81.0</td>\n      <td>0.5</td>\n      <td>0.6</td>\n      <td>1</td>\n      <td>1</td>\n      <td>135</td>\n      <td>...</td>\n      <td>40</td>\n      <td>75</td>\n      <td>16.5</td>\n      <td>1</td>\n      <td>1.0</td>\n      <td>22</td>\n      <td>25</td>\n      <td>27</td>\n      <td>0</td>\n      <td>1</td>\n    </tr>\n    <tr>\n      <th>1</th>\n      <td>1</td>\n      <td>70</td>\n      <td>165</td>\n      <td>65</td>\n      <td>89.0</td>\n      <td>0.6</td>\n      <td>0.7</td>\n      <td>2</td>\n      <td>2</td>\n      <td>146</td>\n      <td>...</td>\n      <td>57</td>\n      <td>126</td>\n      <td>16.2</td>\n      <td>1</td>\n      <td>1.1</td>\n      <td>27</td>\n      <td>23</td>\n      <td>37</td>\n      <td>1</td>\n      <td>0</td>\n    </tr>\n    <tr>\n      <th>2</th>\n      <td>2</td>\n      <td>20</td>\n      <td>170</td>\n      <td>75</td>\n      <td>81.0</td>\n      <td>0.4</td>\n      <td>0.5</td>\n      <td>1</td>\n      <td>1</td>\n      <td>118</td>\n      <td>...</td>\n      <td>45</td>\n      <td>93</td>\n      <td>17.4</td>\n      <td>1</td>\n      <td>0.8</td>\n      <td>27</td>\n      <td>31</td>\n      <td>53</td>\n      <td>0</td>\n      <td>1</td>\n    </tr>\n    <tr>\n      <th>3</th>\n      <td>3</td>\n      <td>35</td>\n      <td>180</td>\n      <td>95</td>\n      <td>105.0</td>\n      <td>1.5</td>\n      <td>1.2</td>\n      <td>1</td>\n      <td>1</td>\n      <td>131</td>\n      <td>...</td>\n      <td>38</td>\n      <td>102</td>\n      <td>15.9</td>\n      <td>1</td>\n      <td>1.0</td>\n      <td>20</td>\n      <td>27</td>\n      <td>30</td>\n      <td>1</td>\n      <td>0</td>\n    </tr>\n    <tr>\n      <th>4</th>\n      <td>4</td>\n      <td>30</td>\n      <td>165</td>\n      <td>60</td>\n      <td>80.5</td>\n      <td>1.5</td>\n      <td>1.0</td>\n      <td>1</td>\n      <td>1</td>\n      <td>121</td>\n      <td>...</td>\n      <td>44</td>\n      <td>93</td>\n      <td>15.4</td>\n      <td>1</td>\n      <td>0.8</td>\n      <td>19</td>\n      <td>13</td>\n      <td>17</td>\n      <td>0</td>\n      <td>1</td>\n    </tr>\n    <tr>\n      <th>...</th>\n      <td>...</td>\n      <td>...</td>\n      <td>...</td>\n      <td>...</td>\n      <td>...</td>\n      <td>...</td>\n      <td>...</td>\n      <td>...</td>\n      <td>...</td>\n      <td>...</td>\n      <td>...</td>\n      <td>...</td>\n      <td>...</td>\n      <td>...</td>\n      <td>...</td>\n      <td>...</td>\n      <td>...</td>\n      <td>...</td>\n      <td>...</td>\n      <td>...</td>\n      <td>...</td>\n    </tr>\n    <tr>\n      <th>159251</th>\n      <td>159251</td>\n      <td>40</td>\n      <td>155</td>\n      <td>45</td>\n      <td>69.0</td>\n      <td>1.5</td>\n      <td>2.0</td>\n      <td>1</td>\n      <td>1</td>\n      <td>127</td>\n      <td>...</td>\n      <td>72</td>\n      <td>159</td>\n      <td>14.5</td>\n      <td>1</td>\n      <td>0.8</td>\n      <td>25</td>\n      <td>26</td>\n      <td>13</td>\n      <td>0</td>\n      <td>0</td>\n    </tr>\n    <tr>\n      <th>159252</th>\n      <td>159252</td>\n      <td>50</td>\n      <td>155</td>\n      <td>75</td>\n      <td>82.0</td>\n      <td>1.0</td>\n      <td>1.0</td>\n      <td>1</td>\n      <td>1</td>\n      <td>120</td>\n      <td>...</td>\n      <td>64</td>\n      <td>108</td>\n      <td>14.5</td>\n      <td>1</td>\n      <td>0.6</td>\n      <td>21</td>\n      <td>20</td>\n      <td>18</td>\n      <td>0</td>\n      <td>0</td>\n    </tr>\n    <tr>\n      <th>159253</th>\n      <td>159253</td>\n      <td>40</td>\n      <td>160</td>\n      <td>50</td>\n      <td>66.0</td>\n      <td>1.5</td>\n      <td>1.0</td>\n      <td>1</td>\n      <td>1</td>\n      <td>114</td>\n      <td>...</td>\n      <td>87</td>\n      <td>93</td>\n      <td>10.9</td>\n      <td>1</td>\n      <td>0.6</td>\n      <td>15</td>\n      <td>9</td>\n      <td>12</td>\n      <td>0</td>\n      <td>0</td>\n    </tr>\n    <tr>\n      <th>159254</th>\n      <td>159254</td>\n      <td>50</td>\n      <td>165</td>\n      <td>75</td>\n      <td>92.0</td>\n      <td>1.2</td>\n      <td>1.0</td>\n      <td>1</td>\n      <td>1</td>\n      <td>121</td>\n      <td>...</td>\n      <td>55</td>\n      <td>80</td>\n      <td>14.4</td>\n      <td>1</td>\n      <td>1.1</td>\n      <td>22</td>\n      <td>17</td>\n      <td>37</td>\n      <td>0</td>\n      <td>1</td>\n    </tr>\n    <tr>\n      <th>159255</th>\n      <td>159255</td>\n      <td>40</td>\n      <td>145</td>\n      <td>45</td>\n      <td>76.4</td>\n      <td>1.0</td>\n      <td>1.2</td>\n      <td>1</td>\n      <td>1</td>\n      <td>125</td>\n      <td>...</td>\n      <td>87</td>\n      <td>81</td>\n      <td>14.0</td>\n      <td>1</td>\n      <td>0.8</td>\n      <td>21</td>\n      <td>16</td>\n      <td>17</td>\n      <td>0</td>\n      <td>0</td>\n    </tr>\n  </tbody>\n</table>\n<p>159256 rows × 24 columns</p>\n</div>"
     },
     "execution_count": 3,
     "metadata": {},
     "output_type": "execute_result"
    }
   ],
   "source": [
    "import pandas as pd\n",
    "mnist_train = pd.read_csv(\"/home/rainer/Downloads/ML_datasets/smokerstatus_train.csv\")\n",
    "mnist_train"
   ],
   "metadata": {
    "collapsed": false,
    "ExecuteTime": {
     "end_time": "2023-11-13T21:33:14.631699278Z",
     "start_time": "2023-11-13T21:33:14.439315688Z"
    }
   }
  },
  {
   "cell_type": "code",
   "execution_count": 1,
   "metadata": {
    "collapsed": true,
    "ExecuteTime": {
     "end_time": "2023-11-13T21:46:16.223374396Z",
     "start_time": "2023-11-13T21:46:14.810614891Z"
    }
   },
   "outputs": [],
   "source": [
    "import seaborn as sns\n",
    "import pandas as pd\n",
    "import numpy as np\n",
    "import matplotlib.pyplot as plt\n",
    "from sklearn.model_selection import train_test_split\n",
    "import xgboost as xgb\n",
    "import optuna\n",
    "from sklearn.metrics import accuracy_score\n",
    "\n",
    "\n",
    "def convert(dataframe):\n",
    "    dataframe.set_index(\"id\", inplace=True)\n",
    "    return dataframe\n",
    "\n",
    "\n",
    "mnist_train = pd.read_csv(\"/home/rainer/Downloads/ML_datasets/smokerstatus_train.csv\")\n",
    "mnist_train = convert(mnist_train)\n",
    "mnist_train[\"smoking\"] =mnist_train[\"smoking\"].astype(bool)\n",
    "\n",
    "X, Y = mnist_train.drop('smoking', axis=1), mnist_train[['smoking']]\n",
    "dtrain = xgb.DMatrix(X, Y, enable_categorical=False)"
   ]
  },
  {
   "cell_type": "code",
   "execution_count": 2,
   "outputs": [],
   "source": [
    "boostrounds=100\n",
    "\n",
    "def objective(trial):\n",
    "    param = {\n",
    "        'tree_method':'gpu_hist',\n",
    "        \"objective\": \"binary:logistic\", #https://xgboost.readthedocs.io/en/stable/parameter.html#learning-task-parameters\n",
    "        'eta': trial.suggest_float('eta', 0.01, 0.5),\n",
    "        'max_depth': trial.suggest_int('max_depth', 3, 10),\n",
    "        'min_child_weight': trial.suggest_float('min_child_weight', 0.01, 10, log=True),\n",
    "        'subsample': trial.suggest_float('subsample', 0.1, 1),\n",
    "        'colsample_bynode': trial.suggest_float('colsample_bynode', 0.1, 1),\n",
    "    }\n",
    "\n",
    "\n",
    "    results = xgb.cv(\n",
    "        params=param,\n",
    "        dtrain=dtrain,\n",
    "        num_boost_round=boostrounds,\n",
    "        nfold=5,\n",
    "        early_stopping_rounds=50,\n",
    "        verbose_eval=100, # print eval every xth round\n",
    "        metrics=[\"rmse\", \"mae\", \"auc\"], #see \"eval_metric\"\n",
    "    )\n",
    "\n",
    "    return results.iloc[-1][\"test-auc-mean\"]"
   ],
   "metadata": {
    "collapsed": false,
    "ExecuteTime": {
     "end_time": "2023-11-13T21:46:17.970339793Z",
     "start_time": "2023-11-13T21:46:17.940912962Z"
    }
   }
  },
  {
   "cell_type": "code",
   "execution_count": 3,
   "outputs": [
    {
     "name": "stderr",
     "output_type": "stream",
     "text": [
      "\u001B[32m[I 2023-11-13 22:46:20,401]\u001B[0m A new study created in memory with name: no-name-ec583020-9caa-4cec-b4a9-d478bbb69604\u001B[0m\n"
     ]
    },
    {
     "name": "stdout",
     "output_type": "stream",
     "text": [
      "[0]\ttrain-rmse:0.43922+0.00035\ttrain-mae:0.42523+0.00054\ttrain-auc:0.80757+0.00061\ttest-rmse:0.43938+0.00042\ttest-mae:0.42538+0.00034\ttest-auc:0.80704+0.00192\n",
      "[99]\ttrain-rmse:0.38277+0.00047\ttrain-mae:0.28877+0.00102\ttrain-auc:0.86598+0.00058\ttest-rmse:0.38913+0.00136\ttest-mae:0.29368+0.00085\ttest-auc:0.85705+0.00186\n"
     ]
    },
    {
     "name": "stderr",
     "output_type": "stream",
     "text": [
      "\u001B[32m[I 2023-11-13 22:46:23,934]\u001B[0m Trial 0 finished with value: 0.8570454100191238 and parameters: {'eta': 0.49516789299507064, 'max_depth': 3, 'min_child_weight': 0.05986766276876473, 'subsample': 0.2099573917763468, 'colsample_bynode': 0.9110279454148953}. Best is trial 0 with value: 0.8570454100191238.\u001B[0m\n"
     ]
    },
    {
     "name": "stdout",
     "output_type": "stream",
     "text": [
      "[0]\ttrain-rmse:0.47235+0.00010\ttrain-mae:0.47071+0.00011\ttrain-auc:0.83627+0.00046\ttest-rmse:0.47281+0.00029\ttest-mae:0.47114+0.00029\ttest-auc:0.83078+0.00291\n",
      "[99]\ttrain-rmse:0.36131+0.00058\ttrain-mae:0.27136+0.00076\ttrain-auc:0.89468+0.00068\ttest-rmse:0.38735+0.00119\ttest-mae:0.29139+0.00108\ttest-auc:0.85962+0.00164\n"
     ]
    },
    {
     "name": "stderr",
     "output_type": "stream",
     "text": [
      "\u001B[32m[I 2023-11-13 22:46:30,315]\u001B[0m Trial 1 finished with value: 0.8596217235385278 and parameters: {'eta': 0.15967682772346295, 'max_depth': 9, 'min_child_weight': 6.665204431005287, 'subsample': 0.24868913660144393, 'colsample_bynode': 0.374088350252054}. Best is trial 1 with value: 0.8596217235385278.\u001B[0m\n"
     ]
    },
    {
     "name": "stdout",
     "output_type": "stream",
     "text": [
      "[0]\ttrain-rmse:0.45751+0.00022\ttrain-mae:0.45168+0.00026\ttrain-auc:0.79804+0.00089\ttest-rmse:0.45757+0.00057\ttest-mae:0.45173+0.00062\ttest-auc:0.79777+0.00312\n",
      "[99]\ttrain-rmse:0.38143+0.00046\ttrain-mae:0.29249+0.00095\ttrain-auc:0.86774+0.00048\ttest-rmse:0.38551+0.00130\ttest-mae:0.29568+0.00085\ttest-auc:0.86173+0.00186\n"
     ]
    },
    {
     "name": "stderr",
     "output_type": "stream",
     "text": [
      "\u001B[32m[I 2023-11-13 22:46:32,692]\u001B[0m Trial 2 finished with value: 0.8617259840402742 and parameters: {'eta': 0.3220641746776041, 'max_depth': 3, 'min_child_weight': 2.352819314428119, 'subsample': 0.3115214672101828, 'colsample_bynode': 0.6202832843744132}. Best is trial 2 with value: 0.8617259840402742.\u001B[0m\n"
     ]
    },
    {
     "name": "stdout",
     "output_type": "stream",
     "text": [
      "[0]\ttrain-rmse:0.46407+0.00012\ttrain-mae:0.46141+0.00013\ttrain-auc:0.84620+0.00067\ttest-rmse:0.46608+0.00035\ttest-mae:0.46328+0.00035\ttest-auc:0.82922+0.00277\n",
      "[80]\ttrain-rmse:0.30571+0.00106\ttrain-mae:0.22098+0.00086\ttrain-auc:0.95073+0.00087\ttest-rmse:0.39193+0.00083\ttest-mae:0.28673+0.00100\ttest-auc:0.85503+0.00135\n"
     ]
    },
    {
     "name": "stderr",
     "output_type": "stream",
     "text": [
      "\u001B[32m[I 2023-11-13 22:46:42,953]\u001B[0m Trial 3 finished with value: 0.8574578117844458 and parameters: {'eta': 0.1991782319111326, 'max_depth': 10, 'min_child_weight': 0.010051894838983768, 'subsample': 0.4316646601502544, 'colsample_bynode': 0.5286887656581554}. Best is trial 2 with value: 0.8617259840402742.\u001B[0m\n"
     ]
    },
    {
     "name": "stdout",
     "output_type": "stream",
     "text": [
      "[0]\ttrain-rmse:0.47936+0.00008\ttrain-mae:0.47845+0.00008\ttrain-auc:0.82892+0.00049\ttest-rmse:0.47950+0.00018\ttest-mae:0.47859+0.00017\ttest-auc:0.82714+0.00277\n",
      "[99]\ttrain-rmse:0.37327+0.00054\ttrain-mae:0.28625+0.00088\ttrain-auc:0.87945+0.00068\ttest-rmse:0.38432+0.00137\ttest-mae:0.29477+0.00127\ttest-auc:0.86350+0.00189\n"
     ]
    },
    {
     "name": "stderr",
     "output_type": "stream",
     "text": [
      "\u001B[32m[I 2023-11-13 22:46:46,611]\u001B[0m Trial 4 finished with value: 0.8635048541168565 and parameters: {'eta': 0.12264903405242718, 'max_depth': 6, 'min_child_weight': 1.0129820151549667, 'subsample': 0.27473495213855015, 'colsample_bynode': 0.6686100101584475}. Best is trial 4 with value: 0.8635048541168565.\u001B[0m\n"
     ]
    },
    {
     "name": "stdout",
     "output_type": "stream",
     "text": [
      "[0]\ttrain-rmse:0.45811+0.00020\ttrain-mae:0.45359+0.00023\ttrain-auc:0.82604+0.00083\ttest-rmse:0.45831+0.00032\ttest-mae:0.45378+0.00031\ttest-auc:0.82473+0.00202\n",
      "[99]\ttrain-rmse:0.37300+0.00016\ttrain-mae:0.28074+0.00049\ttrain-auc:0.87948+0.00023\ttest-rmse:0.38764+0.00130\ttest-mae:0.29206+0.00100\ttest-auc:0.85898+0.00168\n"
     ]
    },
    {
     "name": "stderr",
     "output_type": "stream",
     "text": [
      "\u001B[32m[I 2023-11-13 22:46:49,440]\u001B[0m Trial 5 finished with value: 0.8589834136160244 and parameters: {'eta': 0.2709986345089326, 'max_depth': 5, 'min_child_weight': 0.2035030655276118, 'subsample': 0.2535736479498545, 'colsample_bynode': 0.9904867368584105}. Best is trial 4 with value: 0.8635048541168565.\u001B[0m\n"
     ]
    },
    {
     "name": "stdout",
     "output_type": "stream",
     "text": [
      "[0]\ttrain-rmse:0.44545+0.00026\ttrain-mae:0.43765+0.00028\ttrain-auc:0.83639+0.00104\ttest-rmse:0.44701+0.00054\ttest-mae:0.43904+0.00057\ttest-auc:0.82838+0.00212\n",
      "[75]\ttrain-rmse:0.33225+0.00110\ttrain-mae:0.24307+0.00105\ttrain-auc:0.92663+0.00112\ttest-rmse:0.39080+0.00075\ttest-mae:0.28795+0.00115\ttest-auc:0.85610+0.00097\n"
     ]
    },
    {
     "name": "stderr",
     "output_type": "stream",
     "text": [
      "\u001B[32m[I 2023-11-13 22:46:53,859]\u001B[0m Trial 6 finished with value: 0.8588453080641653 and parameters: {'eta': 0.3543672193686093, 'max_depth': 8, 'min_child_weight': 0.1065900653653101, 'subsample': 0.6599406699130076, 'colsample_bynode': 0.28092426079314503}. Best is trial 4 with value: 0.8635048541168565.\u001B[0m\n"
     ]
    },
    {
     "name": "stdout",
     "output_type": "stream",
     "text": [
      "[0]\ttrain-rmse:0.42861+0.00027\ttrain-mae:0.41317+0.00033\ttrain-auc:0.84050+0.00048\ttest-rmse:0.43080+0.00062\ttest-mae:0.41506+0.00063\ttest-auc:0.83330+0.00174\n",
      "[61]\ttrain-rmse:0.33346+0.00143\ttrain-mae:0.23317+0.00147\ttrain-auc:0.92301+0.00130\ttest-rmse:0.40478+0.00163\ttest-mae:0.28762+0.00181\ttest-auc:0.84216+0.00222\n"
     ]
    },
    {
     "name": "stderr",
     "output_type": "stream",
     "text": [
      "\u001B[32m[I 2023-11-13 22:46:57,495]\u001B[0m Trial 7 finished with value: 0.8530065715164799 and parameters: {'eta': 0.4898116963891225, 'max_depth': 8, 'min_child_weight': 0.34625847136495885, 'subsample': 0.455884450738942, 'colsample_bynode': 0.7158783485777226}. Best is trial 4 with value: 0.8635048541168565.\u001B[0m\n"
     ]
    },
    {
     "name": "stdout",
     "output_type": "stream",
     "text": [
      "[0]\ttrain-rmse:0.49180+0.00006\ttrain-mae:0.49165+0.00006\ttrain-auc:0.81235+0.00134\ttest-rmse:0.49194+0.00008\ttest-mae:0.49179+0.00008\ttest-auc:0.80636+0.00208\n",
      "[99]\ttrain-rmse:0.37618+0.00032\ttrain-mae:0.30261+0.00028\ttrain-auc:0.87807+0.00053\ttest-rmse:0.38686+0.00114\ttest-mae:0.31120+0.00152\ttest-auc:0.86081+0.00169\n"
     ]
    },
    {
     "name": "stderr",
     "output_type": "stream",
     "text": [
      "\u001B[32m[I 2023-11-13 22:47:03,362]\u001B[0m Trial 8 finished with value: 0.860805513322051 and parameters: {'eta': 0.05222874287203939, 'max_depth': 8, 'min_child_weight': 0.29062343817593456, 'subsample': 0.8066383414889202, 'colsample_bynode': 0.1257857553590335}. Best is trial 4 with value: 0.8635048541168565.\u001B[0m\n"
     ]
    },
    {
     "name": "stdout",
     "output_type": "stream",
     "text": [
      "[0]\ttrain-rmse:0.46552+0.00016\ttrain-mae:0.46325+0.00016\ttrain-auc:0.85210+0.00100\ttest-rmse:0.46766+0.00037\ttest-mae:0.46525+0.00037\ttest-auc:0.83246+0.00249\n",
      "[99]\ttrain-rmse:0.30138+0.00111\ttrain-mae:0.22291+0.00071\ttrain-auc:0.95713+0.00105\ttest-rmse:0.38540+0.00129\ttest-mae:0.28628+0.00131\ttest-auc:0.86262+0.00181\n"
     ]
    },
    {
     "name": "stderr",
     "output_type": "stream",
     "text": [
      "\u001B[32m[I 2023-11-13 22:47:13,057]\u001B[0m Trial 9 finished with value: 0.8626196127355786 and parameters: {'eta': 0.19158325573343904, 'max_depth': 10, 'min_child_weight': 1.4578225944875651, 'subsample': 0.9305772563804278, 'colsample_bynode': 0.31318284079476666}. Best is trial 4 with value: 0.8635048541168565.\u001B[0m\n"
     ]
    },
    {
     "name": "stdout",
     "output_type": "stream",
     "text": [
      "[0]\ttrain-rmse:0.49737+0.00002\ttrain-mae:0.49736+0.00002\ttrain-auc:0.82569+0.00101\ttest-rmse:0.49738+0.00001\ttest-mae:0.49737+0.00001\ttest-auc:0.82442+0.00214\n",
      "[99]\ttrain-rmse:0.39924+0.00031\ttrain-mae:0.35737+0.00033\ttrain-auc:0.85528+0.00062\ttest-rmse:0.40058+0.00093\ttest-mae:0.35847+0.00114\ttest-auc:0.85218+0.00186\n"
     ]
    },
    {
     "name": "stderr",
     "output_type": "stream",
     "text": [
      "\u001B[32m[I 2023-11-13 22:47:16,496]\u001B[0m Trial 10 finished with value: 0.8521812816459153 and parameters: {'eta': 0.015081090683602777, 'max_depth': 6, 'min_child_weight': 8.959286469991097, 'subsample': 0.11305672348087567, 'colsample_bynode': 0.8006197241406092}. Best is trial 4 with value: 0.8635048541168565.\u001B[0m\n"
     ]
    },
    {
     "name": "stdout",
     "output_type": "stream",
     "text": [
      "[0]\ttrain-rmse:0.48051+0.00008\ttrain-mae:0.47967+0.00008\ttrain-auc:0.82103+0.00072\ttest-rmse:0.48061+0.00021\ttest-mae:0.47976+0.00021\ttest-auc:0.81969+0.00294\n",
      "[99]\ttrain-rmse:0.37711+0.00031\ttrain-mae:0.29332+0.00048\ttrain-auc:0.87440+0.00042\ttest-rmse:0.38379+0.00138\ttest-mae:0.29853+0.00135\ttest-auc:0.86438+0.00206\n"
     ]
    },
    {
     "name": "stderr",
     "output_type": "stream",
     "text": [
      "\u001B[32m[I 2023-11-13 22:47:19,243]\u001B[0m Trial 11 finished with value: 0.8643782838283821 and parameters: {'eta': 0.12093401411228254, 'max_depth': 5, 'min_child_weight': 1.2125961245262977, 'subsample': 0.9672514626690925, 'colsample_bynode': 0.48018197996705037}. Best is trial 11 with value: 0.8643782838283821.\u001B[0m\n"
     ]
    },
    {
     "name": "stdout",
     "output_type": "stream",
     "text": [
      "[0]\ttrain-rmse:0.48415+0.00005\ttrain-mae:0.48360+0.00005\ttrain-auc:0.82162+0.00050\ttest-rmse:0.48421+0.00013\ttest-mae:0.48366+0.00014\ttest-auc:0.82023+0.00276\n",
      "[99]\ttrain-rmse:0.37872+0.00034\ttrain-mae:0.29622+0.00052\ttrain-auc:0.87228+0.00051\ttest-rmse:0.38432+0.00142\ttest-mae:0.30062+0.00129\ttest-auc:0.86378+0.00211\n"
     ]
    },
    {
     "name": "stderr",
     "output_type": "stream",
     "text": [
      "\u001B[32m[I 2023-11-13 22:47:22,035]\u001B[0m Trial 12 finished with value: 0.8637767027165136 and parameters: {'eta': 0.09728575714346407, 'max_depth': 5, 'min_child_weight': 1.0542131736302387, 'subsample': 0.9820490448191396, 'colsample_bynode': 0.5245080829676007}. Best is trial 11 with value: 0.8643782838283821.\u001B[0m\n"
     ]
    },
    {
     "name": "stdout",
     "output_type": "stream",
     "text": [
      "[0]\ttrain-rmse:0.48837+0.00005\ttrain-mae:0.48807+0.00005\ttrain-auc:0.81386+0.00073\ttest-rmse:0.48840+0.00012\ttest-mae:0.48809+0.00012\ttest-auc:0.81340+0.00269\n",
      "[99]\ttrain-rmse:0.38516+0.00039\ttrain-mae:0.30766+0.00059\ttrain-auc:0.86340+0.00060\ttest-rmse:0.38739+0.00127\ttest-mae:0.30944+0.00138\ttest-auc:0.85977+0.00201\n"
     ]
    },
    {
     "name": "stderr",
     "output_type": "stream",
     "text": [
      "\u001B[32m[I 2023-11-13 22:47:24,352]\u001B[0m Trial 13 finished with value: 0.8597683290646566 and parameters: {'eta': 0.07345200947497244, 'max_depth': 4, 'min_child_weight': 0.8581387996983246, 'subsample': 0.9729306563010693, 'colsample_bynode': 0.4861293522775995}. Best is trial 11 with value: 0.8643782838283821.\u001B[0m\n"
     ]
    },
    {
     "name": "stdout",
     "output_type": "stream",
     "text": [
      "[0]\ttrain-rmse:0.48322+0.00007\ttrain-mae:0.48260+0.00007\ttrain-auc:0.82126+0.00065\ttest-rmse:0.48330+0.00018\ttest-mae:0.48268+0.00018\ttest-auc:0.81975+0.00302\n",
      "[99]\ttrain-rmse:0.37848+0.00030\ttrain-mae:0.29563+0.00050\ttrain-auc:0.87255+0.00039\ttest-rmse:0.38420+0.00137\ttest-mae:0.30014+0.00137\ttest-auc:0.86386+0.00207\n"
     ]
    },
    {
     "name": "stderr",
     "output_type": "stream",
     "text": [
      "\u001B[32m[I 2023-11-13 22:47:27,102]\u001B[0m Trial 14 finished with value: 0.8638555489614406 and parameters: {'eta': 0.10335920831602241, 'max_depth': 5, 'min_child_weight': 3.0674322675876455, 'subsample': 0.9964633030837118, 'colsample_bynode': 0.47733627995224176}. Best is trial 11 with value: 0.8643782838283821.\u001B[0m\n"
     ]
    },
    {
     "name": "stdout",
     "output_type": "stream",
     "text": [
      "[0]\ttrain-rmse:0.49813+0.00001\ttrain-mae:0.49812+0.00001\ttrain-auc:0.82118+0.00069\ttest-rmse:0.49814+0.00002\ttest-mae:0.49813+0.00002\ttest-auc:0.82003+0.00301\n",
      "[99]\ttrain-rmse:0.41211+0.00025\ttrain-mae:0.38386+0.00032\ttrain-auc:0.84665+0.00057\ttest-rmse:0.41289+0.00082\ttest-mae:0.38453+0.00094\ttest-auc:0.84453+0.00210\n"
     ]
    },
    {
     "name": "stderr",
     "output_type": "stream",
     "text": [
      "\u001B[32m[I 2023-11-13 22:47:29,813]\u001B[0m Trial 15 finished with value: 0.8445345147600534 and parameters: {'eta': 0.01114757389420884, 'max_depth': 5, 'min_child_weight': 3.7717182505737545, 'subsample': 0.8157848831727028, 'colsample_bynode': 0.4115688823531998}. Best is trial 11 with value: 0.8643782838283821.\u001B[0m\n"
     ]
    },
    {
     "name": "stdout",
     "output_type": "stream",
     "text": [
      "[0]\ttrain-rmse:0.47692+0.00007\ttrain-mae:0.47584+0.00007\ttrain-auc:0.83714+0.00065\ttest-rmse:0.47724+0.00019\ttest-mae:0.47615+0.00020\ttest-auc:0.83284+0.00202\n",
      "[99]\ttrain-rmse:0.36232+0.00055\ttrain-mae:0.27752+0.00063\ttrain-auc:0.89437+0.00066\ttest-rmse:0.38305+0.00137\ttest-mae:0.29347+0.00144\ttest-auc:0.86535+0.00187\n"
     ]
    },
    {
     "name": "stderr",
     "output_type": "stream",
     "text": [
      "\u001B[32m[I 2023-11-13 22:47:33,977]\u001B[0m Trial 16 finished with value: 0.8653477657505272 and parameters: {'eta': 0.13410870638836206, 'max_depth': 7, 'min_child_weight': 3.7936123097262784, 'subsample': 0.8430684942598732, 'colsample_bynode': 0.5890278958445101}. Best is trial 16 with value: 0.8653477657505272.\u001B[0m\n"
     ]
    },
    {
     "name": "stdout",
     "output_type": "stream",
     "text": [
      "[0]\ttrain-rmse:0.47530+0.00009\ttrain-mae:0.47404+0.00009\ttrain-auc:0.83661+0.00062\ttest-rmse:0.47561+0.00023\ttest-mae:0.47434+0.00024\ttest-auc:0.83272+0.00247\n",
      "[99]\ttrain-rmse:0.36235+0.00017\ttrain-mae:0.27675+0.00034\ttrain-auc:0.89436+0.00023\ttest-rmse:0.38290+0.00149\ttest-mae:0.29263+0.00153\ttest-auc:0.86550+0.00213\n"
     ]
    },
    {
     "name": "stderr",
     "output_type": "stream",
     "text": [
      "\u001B[32m[I 2023-11-13 22:47:38,098]\u001B[0m Trial 17 finished with value: 0.8655040699522172 and parameters: {'eta': 0.14440093885109134, 'max_depth': 7, 'min_child_weight': 5.570466104805208, 'subsample': 0.7076549055990085, 'colsample_bynode': 0.6252977851851313}. Best is trial 17 with value: 0.8655040699522172.\u001B[0m\n"
     ]
    },
    {
     "name": "stdout",
     "output_type": "stream",
     "text": [
      "[0]\ttrain-rmse:0.46559+0.00011\ttrain-mae:0.46297+0.00012\ttrain-auc:0.83617+0.00054\ttest-rmse:0.46600+0.00030\ttest-mae:0.46335+0.00030\ttest-auc:0.83285+0.00250\n",
      "[99]\ttrain-rmse:0.35868+0.00058\ttrain-mae:0.27132+0.00056\ttrain-auc:0.89863+0.00072\ttest-rmse:0.38332+0.00125\ttest-mae:0.29022+0.00120\ttest-auc:0.86504+0.00165\n"
     ]
    },
    {
     "name": "stderr",
     "output_type": "stream",
     "text": [
      "\u001B[32m[I 2023-11-13 22:47:41,990]\u001B[0m Trial 18 finished with value: 0.8650353797892469 and parameters: {'eta': 0.20714399199441158, 'max_depth': 7, 'min_child_weight': 8.067751459214833, 'subsample': 0.6410782356769517, 'colsample_bynode': 0.6154806299516697}. Best is trial 17 with value: 0.8655040699522172.\u001B[0m\n"
     ]
    },
    {
     "name": "stdout",
     "output_type": "stream",
     "text": [
      "[0]\ttrain-rmse:0.47643+0.00009\ttrain-mae:0.47531+0.00009\ttrain-auc:0.83816+0.00048\ttest-rmse:0.47679+0.00017\ttest-mae:0.47565+0.00016\ttest-auc:0.83344+0.00224\n",
      "[99]\ttrain-rmse:0.36130+0.00057\ttrain-mae:0.27608+0.00069\ttrain-auc:0.89568+0.00070\ttest-rmse:0.38277+0.00150\ttest-mae:0.29258+0.00144\ttest-auc:0.86581+0.00220\n"
     ]
    },
    {
     "name": "stderr",
     "output_type": "stream",
     "text": [
      "\u001B[32m[I 2023-11-13 22:47:46,184]\u001B[0m Trial 19 finished with value: 0.8658129338280272 and parameters: {'eta': 0.13609466909186957, 'max_depth': 7, 'min_child_weight': 4.06586388440552, 'subsample': 0.7360437340888273, 'colsample_bynode': 0.8037820660765835}. Best is trial 19 with value: 0.8658129338280272.\u001B[0m\n"
     ]
    },
    {
     "name": "stdout",
     "output_type": "stream",
     "text": [
      "[0]\ttrain-rmse:0.47080+0.00009\ttrain-mae:0.46900+0.00009\ttrain-auc:0.83714+0.00058\ttest-rmse:0.47124+0.00022\ttest-mae:0.46942+0.00022\ttest-auc:0.83267+0.00194\n",
      "[99]\ttrain-rmse:0.35834+0.00058\ttrain-mae:0.27226+0.00072\ttrain-auc:0.89931+0.00065\ttest-rmse:0.38296+0.00147\ttest-mae:0.29118+0.00143\ttest-auc:0.86547+0.00213\n"
     ]
    },
    {
     "name": "stderr",
     "output_type": "stream",
     "text": [
      "\u001B[32m[I 2023-11-13 22:47:50,088]\u001B[0m Trial 20 finished with value: 0.8654663650915989 and parameters: {'eta': 0.17177768523584222, 'max_depth': 7, 'min_child_weight': 5.17125473374437, 'subsample': 0.6884069889777664, 'colsample_bynode': 0.7823576916662928}. Best is trial 19 with value: 0.8658129338280272.\u001B[0m\n"
     ]
    },
    {
     "name": "stdout",
     "output_type": "stream",
     "text": [
      "[0]\ttrain-rmse:0.47150+0.00013\ttrain-mae:0.46980+0.00013\ttrain-auc:0.83711+0.00084\ttest-rmse:0.47189+0.00019\ttest-mae:0.47016+0.00019\ttest-auc:0.83307+0.00186\n",
      "[99]\ttrain-rmse:0.36156+0.00048\ttrain-mae:0.27522+0.00054\ttrain-auc:0.89523+0.00067\ttest-rmse:0.38294+0.00151\ttest-mae:0.29167+0.00144\ttest-auc:0.86550+0.00211\n"
     ]
    },
    {
     "name": "stderr",
     "output_type": "stream",
     "text": [
      "\u001B[32m[I 2023-11-13 22:47:54,042]\u001B[0m Trial 21 finished with value: 0.8655034822077127 and parameters: {'eta': 0.16747555571444123, 'max_depth': 7, 'min_child_weight': 9.962103020748861, 'subsample': 0.6886818516004793, 'colsample_bynode': 0.7749024963363055}. Best is trial 19 with value: 0.8658129338280272.\u001B[0m\n"
     ]
    },
    {
     "name": "stdout",
     "output_type": "stream",
     "text": [
      "[0]\ttrain-rmse:0.46075+0.00014\ttrain-mae:0.45752+0.00014\ttrain-auc:0.84647+0.00053\ttest-rmse:0.46201+0.00033\ttest-mae:0.45869+0.00032\ttest-auc:0.83678+0.00258\n",
      "[99]\ttrain-rmse:0.33327+0.00075\ttrain-mae:0.24789+0.00081\ttrain-auc:0.92741+0.00077\ttest-rmse:0.38496+0.00115\ttest-mae:0.28682+0.00133\ttest-auc:0.86330+0.00155\n"
     ]
    },
    {
     "name": "stderr",
     "output_type": "stream",
     "text": [
      "\u001B[32m[I 2023-11-13 22:47:59,950]\u001B[0m Trial 22 finished with value: 0.8633027291671486 and parameters: {'eta': 0.2269365628552808, 'max_depth': 9, 'min_child_weight': 9.661639386068751, 'subsample': 0.7285080486499951, 'colsample_bynode': 0.7461987987957583}. Best is trial 19 with value: 0.8658129338280272.\u001B[0m\n"
     ]
    },
    {
     "name": "stdout",
     "output_type": "stream",
     "text": [
      "[0]\ttrain-rmse:0.47701+0.00007\ttrain-mae:0.47591+0.00007\ttrain-auc:0.83344+0.00066\ttest-rmse:0.47720+0.00015\ttest-mae:0.47609+0.00015\ttest-auc:0.83112+0.00196\n",
      "[99]\ttrain-rmse:0.37054+0.00022\ttrain-mae:0.28447+0.00039\ttrain-auc:0.88338+0.00028\ttest-rmse:0.38321+0.00124\ttest-mae:0.29422+0.00138\ttest-auc:0.86513+0.00192\n"
     ]
    },
    {
     "name": "stderr",
     "output_type": "stream",
     "text": [
      "\u001B[32m[I 2023-11-13 22:48:03,251]\u001B[0m Trial 23 finished with value: 0.8651263689090657 and parameters: {'eta': 0.1355509120355556, 'max_depth': 6, 'min_child_weight': 5.109435920052395, 'subsample': 0.5890837456630132, 'colsample_bynode': 0.8540259928050546}. Best is trial 19 with value: 0.8658129338280272.\u001B[0m\n"
     ]
    },
    {
     "name": "stdout",
     "output_type": "stream",
     "text": [
      "[0]\ttrain-rmse:0.47320+0.00014\ttrain-mae:0.47170+0.00015\ttrain-auc:0.83628+0.00079\ttest-rmse:0.47359+0.00020\ttest-mae:0.47206+0.00020\ttest-auc:0.83185+0.00204\n",
      "[99]\ttrain-rmse:0.35951+0.00063\ttrain-mae:0.27326+0.00074\ttrain-auc:0.89774+0.00075\ttest-rmse:0.38347+0.00112\ttest-mae:0.29157+0.00115\ttest-auc:0.86478+0.00155\n"
     ]
    },
    {
     "name": "stderr",
     "output_type": "stream",
     "text": [
      "\u001B[32m[I 2023-11-13 22:48:07,378]\u001B[0m Trial 24 finished with value: 0.8647789063989118 and parameters: {'eta': 0.15704620164883287, 'max_depth': 7, 'min_child_weight': 2.335318576149711, 'subsample': 0.5486195719188339, 'colsample_bynode': 0.6868445874627445}. Best is trial 19 with value: 0.8658129338280272.\u001B[0m\n"
     ]
    },
    {
     "name": "stdout",
     "output_type": "stream",
     "text": [
      "[0]\ttrain-rmse:0.45926+0.00012\ttrain-mae:0.45567+0.00012\ttrain-auc:0.84417+0.00064\ttest-rmse:0.46028+0.00031\ttest-mae:0.45661+0.00031\ttest-auc:0.83688+0.00231\n",
      "[99]\ttrain-rmse:0.34288+0.00066\ttrain-mae:0.25629+0.00072\ttrain-auc:0.91713+0.00075\ttest-rmse:0.38472+0.00126\ttest-mae:0.28806+0.00129\ttest-auc:0.86340+0.00170\n"
     ]
    },
    {
     "name": "stderr",
     "output_type": "stream",
     "text": [
      "\u001B[32m[I 2023-11-13 22:48:12,202]\u001B[0m Trial 25 finished with value: 0.8633988235425336 and parameters: {'eta': 0.23994443130482787, 'max_depth': 8, 'min_child_weight': 9.682878695967753, 'subsample': 0.7306129923539045, 'colsample_bynode': 0.8545780404203416}. Best is trial 19 with value: 0.8658129338280272.\u001B[0m\n"
     ]
    },
    {
     "name": "stdout",
     "output_type": "stream",
     "text": [
      "[0]\ttrain-rmse:0.48841+0.00003\ttrain-mae:0.48818+0.00003\ttrain-auc:0.84782+0.00057\ttest-rmse:0.48879+0.00009\ttest-mae:0.48855+0.00009\ttest-auc:0.83677+0.00203\n",
      "[99]\ttrain-rmse:0.35919+0.00036\ttrain-mae:0.27795+0.00045\ttrain-auc:0.89904+0.00044\ttest-rmse:0.38344+0.00148\ttest-mae:0.29677+0.00147\ttest-auc:0.86478+0.00214\n"
     ]
    },
    {
     "name": "stderr",
     "output_type": "stream",
     "text": [
      "\u001B[32m[I 2023-11-13 22:48:20,112]\u001B[0m Trial 26 finished with value: 0.8647805396866632 and parameters: {'eta': 0.06205527671095114, 'max_depth': 9, 'min_child_weight': 5.037767434681049, 'subsample': 0.7492678686670609, 'colsample_bynode': 0.677361997981188}. Best is trial 19 with value: 0.8658129338280272.\u001B[0m\n"
     ]
    },
    {
     "name": "stdout",
     "output_type": "stream",
     "text": [
      "[0]\ttrain-rmse:0.47329+0.00007\ttrain-mae:0.47175+0.00008\ttrain-auc:0.83283+0.00049\ttest-rmse:0.47351+0.00021\ttest-mae:0.47196+0.00022\ttest-auc:0.83042+0.00190\n",
      "[99]\ttrain-rmse:0.36682+0.00059\ttrain-mae:0.28117+0.00061\ttrain-auc:0.88844+0.00078\ttest-rmse:0.38283+0.00140\ttest-mae:0.29350+0.00137\ttest-auc:0.86571+0.00204\n"
     ]
    },
    {
     "name": "stderr",
     "output_type": "stream",
     "text": [
      "\u001B[32m[I 2023-11-13 22:48:23,386]\u001B[0m Trial 27 finished with value: 0.8657058235481807 and parameters: {'eta': 0.16049972219957226, 'max_depth': 6, 'min_child_weight': 2.217278914215812, 'subsample': 0.8802917812518841, 'colsample_bynode': 0.7553452225784161}. Best is trial 19 with value: 0.8658129338280272.\u001B[0m\n"
     ]
    },
    {
     "name": "stdout",
     "output_type": "stream",
     "text": [
      "[0]\ttrain-rmse:0.48534+0.00004\ttrain-mae:0.48491+0.00004\ttrain-auc:0.83244+0.00037\ttest-rmse:0.48545+0.00012\ttest-mae:0.48502+0.00012\ttest-auc:0.83017+0.00191\n",
      "[99]\ttrain-rmse:0.37441+0.00042\ttrain-mae:0.29156+0.00064\ttrain-auc:0.87839+0.00054\ttest-rmse:0.38399+0.00134\ttest-mae:0.29903+0.00137\ttest-auc:0.86418+0.00200\n"
     ]
    },
    {
     "name": "stderr",
     "output_type": "stream",
     "text": [
      "\u001B[32m[I 2023-11-13 22:48:26,824]\u001B[0m Trial 28 finished with value: 0.8641792788552461 and parameters: {'eta': 0.08544163307366645, 'max_depth': 6, 'min_child_weight': 1.9623592129309813, 'subsample': 0.8711095130019986, 'colsample_bynode': 0.7225035533551921}. Best is trial 19 with value: 0.8658129338280272.\u001B[0m\n"
     ]
    },
    {
     "name": "stdout",
     "output_type": "stream",
     "text": [
      "[0]\ttrain-rmse:0.47807+0.00007\ttrain-mae:0.47696+0.00007\ttrain-auc:0.81837+0.00046\ttest-rmse:0.47811+0.00017\ttest-mae:0.47700+0.00018\ttest-auc:0.81775+0.00230\n",
      "[99]\ttrain-rmse:0.38015+0.00041\ttrain-mae:0.29628+0.00054\ttrain-auc:0.87005+0.00058\ttest-rmse:0.38438+0.00121\ttest-mae:0.29958+0.00120\ttest-auc:0.86360+0.00192\n"
     ]
    },
    {
     "name": "stderr",
     "output_type": "stream",
     "text": [
      "\u001B[32m[I 2023-11-13 22:48:29,196]\u001B[0m Trial 29 finished with value: 0.8636045732130192 and parameters: {'eta': 0.13871376583029554, 'max_depth': 4, 'min_child_weight': 0.633441826253443, 'subsample': 0.8987903733987954, 'colsample_bynode': 0.8644333171239394}. Best is trial 19 with value: 0.8658129338280272.\u001B[0m\n"
     ]
    },
    {
     "name": "stdout",
     "output_type": "stream",
     "text": [
      "[0]\ttrain-rmse:0.49138+0.00002\ttrain-mae:0.49124+0.00002\ttrain-auc:0.83557+0.00050\ttest-rmse:0.49146+0.00007\ttest-mae:0.49132+0.00007\ttest-auc:0.83251+0.00219\n",
      "[99]\ttrain-rmse:0.38040+0.00037\ttrain-mae:0.30274+0.00057\ttrain-auc:0.87056+0.00053\ttest-rmse:0.38639+0.00123\ttest-mae:0.30746+0.00131\ttest-auc:0.86128+0.00198\n"
     ]
    },
    {
     "name": "stderr",
     "output_type": "stream",
     "text": [
      "\u001B[32m[I 2023-11-13 22:48:32,729]\u001B[0m Trial 30 finished with value: 0.861281454593699 and parameters: {'eta': 0.04884189541825573, 'max_depth': 6, 'min_child_weight': 2.024346925831731, 'subsample': 0.8275928720159935, 'colsample_bynode': 0.9198454609037863}. Best is trial 19 with value: 0.8658129338280272.\u001B[0m\n"
     ]
    },
    {
     "name": "stdout",
     "output_type": "stream",
     "text": [
      "[0]\ttrain-rmse:0.47053+0.00008\ttrain-mae:0.46871+0.00009\ttrain-auc:0.83821+0.00033\ttest-rmse:0.47100+0.00026\ttest-mae:0.46915+0.00026\ttest-auc:0.83318+0.00214\n",
      "[99]\ttrain-rmse:0.35575+0.00057\ttrain-mae:0.27028+0.00064\ttrain-auc:0.90264+0.00069\ttest-rmse:0.38302+0.00143\ttest-mae:0.29127+0.00150\ttest-auc:0.86547+0.00207\n"
     ]
    },
    {
     "name": "stderr",
     "output_type": "stream",
     "text": [
      "\u001B[32m[I 2023-11-13 22:48:38,975]\u001B[0m Trial 31 finished with value: 0.8654723695501974 and parameters: {'eta': 0.1730551672198821, 'max_depth': 7, 'min_child_weight': 3.593389396362048, 'subsample': 0.7695112936395714, 'colsample_bynode': 0.7743446926460846}. Best is trial 19 with value: 0.8658129338280272.\u001B[0m\n"
     ]
    },
    {
     "name": "stdout",
     "output_type": "stream",
     "text": [
      "[0]\ttrain-rmse:0.47183+0.00006\ttrain-mae:0.47026+0.00006\ttrain-auc:0.84407+0.00082\ttest-rmse:0.47254+0.00025\ttest-mae:0.47094+0.00025\ttest-auc:0.83641+0.00238\n",
      "[99]\ttrain-rmse:0.34682+0.00085\ttrain-mae:0.26291+0.00084\ttrain-auc:0.91355+0.00104\ttest-rmse:0.38263+0.00124\ttest-mae:0.29026+0.00127\ttest-auc:0.86599+0.00177\n"
     ]
    },
    {
     "name": "stderr",
     "output_type": "stream",
     "text": [
      "\u001B[32m[I 2023-11-13 22:48:46,154]\u001B[0m Trial 32 finished with value: 0.8659881717798348 and parameters: {'eta': 0.15969146253654815, 'max_depth': 8, 'min_child_weight': 5.34710420683395, 'subsample': 0.8824345905760793, 'colsample_bynode': 0.795559672280161}. Best is trial 32 with value: 0.8659881717798348.\u001B[0m\n"
     ]
    },
    {
     "name": "stdout",
     "output_type": "stream",
     "text": [
      "[0]\ttrain-rmse:0.48172+0.00005\ttrain-mae:0.48110+0.00005\ttrain-auc:0.84404+0.00050\ttest-rmse:0.48214+0.00018\ttest-mae:0.48151+0.00019\ttest-auc:0.83654+0.00252\n",
      "[99]\ttrain-rmse:0.35745+0.00048\ttrain-mae:0.27423+0.00057\ttrain-auc:0.90094+0.00063\ttest-rmse:0.38272+0.00141\ttest-mae:0.29373+0.00142\ttest-auc:0.86582+0.00202\n"
     ]
    },
    {
     "name": "stderr",
     "output_type": "stream",
     "text": [
      "\u001B[32m[I 2023-11-13 22:48:53,894]\u001B[0m Trial 33 finished with value: 0.8658196995816114 and parameters: {'eta': 0.10138985222122245, 'max_depth': 8, 'min_child_weight': 5.154841251930985, 'subsample': 0.9036214589842365, 'colsample_bynode': 0.6468946276035916}. Best is trial 32 with value: 0.8659881717798348.\u001B[0m\n"
     ]
    },
    {
     "name": "stdout",
     "output_type": "stream",
     "text": [
      "[0]\ttrain-rmse:0.48384+0.00005\ttrain-mae:0.48339+0.00005\ttrain-auc:0.85060+0.00075\ttest-rmse:0.48449+0.00015\ttest-mae:0.48402+0.00016\ttest-auc:0.83768+0.00264\n",
      "[99]\ttrain-rmse:0.34551+0.00062\ttrain-mae:0.26436+0.00060\ttrain-auc:0.91560+0.00077\ttest-rmse:0.38304+0.00139\ttest-mae:0.29328+0.00142\ttest-auc:0.86537+0.00198\n"
     ]
    },
    {
     "name": "stderr",
     "output_type": "stream",
     "text": [
      "\u001B[32m[I 2023-11-13 22:49:04,009]\u001B[0m Trial 34 finished with value: 0.8653679555712579 and parameters: {'eta': 0.08618855071814446, 'max_depth': 9, 'min_child_weight': 2.758025653274265, 'subsample': 0.9179172941711794, 'colsample_bynode': 0.8135658497451707}. Best is trial 32 with value: 0.8659881717798348.\u001B[0m\n"
     ]
    },
    {
     "name": "stdout",
     "output_type": "stream",
     "text": [
      "[0]\ttrain-rmse:0.47929+0.00004\ttrain-mae:0.47849+0.00004\ttrain-auc:0.84471+0.00041\ttest-rmse:0.47985+0.00017\ttest-mae:0.47902+0.00017\ttest-auc:0.83603+0.00182\n",
      "[99]\ttrain-rmse:0.35038+0.00087\ttrain-mae:0.26731+0.00078\ttrain-auc:0.90943+0.00117\ttest-rmse:0.38277+0.00157\ttest-mae:0.29228+0.00149\ttest-auc:0.86574+0.00219\n"
     ]
    },
    {
     "name": "stderr",
     "output_type": "stream",
     "text": [
      "\u001B[32m[I 2023-11-13 22:49:09,513]\u001B[0m Trial 35 finished with value: 0.8657418272674953 and parameters: {'eta': 0.11485622626587758, 'max_depth': 8, 'min_child_weight': 1.6990115851409835, 'subsample': 0.870251217622422, 'colsample_bynode': 0.733500361311677}. Best is trial 32 with value: 0.8659881717798348.\u001B[0m\n"
     ]
    },
    {
     "name": "stdout",
     "output_type": "stream",
     "text": [
      "[0]\ttrain-rmse:0.47981+0.00005\ttrain-mae:0.47904+0.00005\ttrain-auc:0.84371+0.00054\ttest-rmse:0.48026+0.00021\ttest-mae:0.47947+0.00021\ttest-auc:0.83651+0.00267\n",
      "[99]\ttrain-rmse:0.35725+0.00060\ttrain-mae:0.27343+0.00066\ttrain-auc:0.90110+0.00078\ttest-rmse:0.38247+0.00157\ttest-mae:0.29284+0.00154\ttest-auc:0.86614+0.00213\n"
     ]
    },
    {
     "name": "stderr",
     "output_type": "stream",
     "text": [
      "\u001B[32m[I 2023-11-13 22:49:14,594]\u001B[0m Trial 36 finished with value: 0.8661423493271834 and parameters: {'eta': 0.11272791382289674, 'max_depth': 8, 'min_child_weight': 6.616580824391395, 'subsample': 0.85295611404071, 'colsample_bynode': 0.6615745366763551}. Best is trial 36 with value: 0.8661423493271834.\u001B[0m\n"
     ]
    },
    {
     "name": "stdout",
     "output_type": "stream",
     "text": [
      "[0]\ttrain-rmse:0.47967+0.00004\ttrain-mae:0.47894+0.00004\ttrain-auc:0.85156+0.00045\ttest-rmse:0.48055+0.00020\ttest-mae:0.47978+0.00020\ttest-auc:0.83726+0.00289\n",
      "[99]\ttrain-rmse:0.33867+0.00057\ttrain-mae:0.25698+0.00063\ttrain-auc:0.92336+0.00060\ttest-rmse:0.38305+0.00118\ttest-mae:0.29085+0.00128\ttest-auc:0.86535+0.00158\n"
     ]
    },
    {
     "name": "stderr",
     "output_type": "stream",
     "text": [
      "\u001B[32m[I 2023-11-13 22:49:23,723]\u001B[0m Trial 37 finished with value: 0.8653451361712918 and parameters: {'eta': 0.10888341694495622, 'max_depth': 10, 'min_child_weight': 6.840385359339857, 'subsample': 0.7824042499948106, 'colsample_bynode': 0.6743284042241893}. Best is trial 36 with value: 0.8661423493271834.\u001B[0m\n"
     ]
    },
    {
     "name": "stdout",
     "output_type": "stream",
     "text": [
      "[0]\ttrain-rmse:0.49129+0.00002\ttrain-mae:0.49116+0.00002\ttrain-auc:0.84940+0.00040\ttest-rmse:0.49160+0.00008\ttest-mae:0.49147+0.00008\ttest-auc:0.83714+0.00251\n",
      "[99]\ttrain-rmse:0.36380+0.00034\ttrain-mae:0.28566+0.00045\ttrain-auc:0.89374+0.00044\ttest-rmse:0.38429+0.00141\ttest-mae:0.30167+0.00155\ttest-auc:0.86387+0.00207\n"
     ]
    },
    {
     "name": "stderr",
     "output_type": "stream",
     "text": [
      "\u001B[32m[I 2023-11-13 22:49:32,696]\u001B[0m Trial 38 finished with value: 0.8638693572751894 and parameters: {'eta': 0.04622704469582861, 'max_depth': 9, 'min_child_weight': 6.137957323765328, 'subsample': 0.9348410539083409, 'colsample_bynode': 0.6412821311711772}. Best is trial 36 with value: 0.8661423493271834.\u001B[0m\n"
     ]
    },
    {
     "name": "stdout",
     "output_type": "stream",
     "text": [
      "[0]\ttrain-rmse:0.46743+0.00012\ttrain-mae:0.46524+0.00012\ttrain-auc:0.84256+0.00061\ttest-rmse:0.46824+0.00028\ttest-mae:0.46600+0.00029\ttest-auc:0.83487+0.00194\n",
      "[99]\ttrain-rmse:0.34222+0.00091\ttrain-mae:0.25772+0.00083\ttrain-auc:0.91840+0.00098\ttest-rmse:0.38348+0.00132\ttest-mae:0.28915+0.00150\ttest-auc:0.86486+0.00179\n"
     ]
    },
    {
     "name": "stderr",
     "output_type": "stream",
     "text": [
      "\u001B[32m[I 2023-11-13 22:49:37,880]\u001B[0m Trial 39 finished with value: 0.8648598071401592 and parameters: {'eta': 0.1887727938403537, 'max_depth': 8, 'min_child_weight': 3.378272420993189, 'subsample': 0.7879292564671104, 'colsample_bynode': 0.5879259210384052}. Best is trial 36 with value: 0.8661423493271834.\u001B[0m\n"
     ]
    },
    {
     "name": "stdout",
     "output_type": "stream",
     "text": [
      "[0]\ttrain-rmse:0.48487+0.00005\ttrain-mae:0.48447+0.00005\ttrain-auc:0.84878+0.00062\ttest-rmse:0.48539+0.00013\ttest-mae:0.48497+0.00013\ttest-auc:0.83743+0.00246\n",
      "[99]\ttrain-rmse:0.35401+0.00083\ttrain-mae:0.27194+0.00079\ttrain-auc:0.90553+0.00108\ttest-rmse:0.38283+0.00148\ttest-mae:0.29416+0.00157\ttest-auc:0.86568+0.00205\n"
     ]
    },
    {
     "name": "stderr",
     "output_type": "stream",
     "text": [
      "\u001B[32m[I 2023-11-13 22:49:45,293]\u001B[0m Trial 40 finished with value: 0.8656757757442424 and parameters: {'eta': 0.08134853609889947, 'max_depth': 9, 'min_child_weight': 6.669522375320564, 'subsample': 0.8602769199524198, 'colsample_bynode': 0.705849465737425}. Best is trial 36 with value: 0.8661423493271834.\u001B[0m\n"
     ]
    },
    {
     "name": "stdout",
     "output_type": "stream",
     "text": [
      "[0]\ttrain-rmse:0.47925+0.00006\ttrain-mae:0.47844+0.00006\ttrain-auc:0.84450+0.00054\ttest-rmse:0.47982+0.00014\ttest-mae:0.47899+0.00014\ttest-auc:0.83546+0.00172\n",
      "[99]\ttrain-rmse:0.35019+0.00071\ttrain-mae:0.26705+0.00064\ttrain-auc:0.90963+0.00094\ttest-rmse:0.38293+0.00144\ttest-mae:0.29228+0.00143\ttest-auc:0.86557+0.00202\n"
     ]
    },
    {
     "name": "stderr",
     "output_type": "stream",
     "text": [
      "\u001B[32m[I 2023-11-13 22:49:51,077]\u001B[0m Trial 41 finished with value: 0.865571652350828 and parameters: {'eta': 0.11532984120676028, 'max_depth': 8, 'min_child_weight': 1.550977665435336, 'subsample': 0.8417734364459493, 'colsample_bynode': 0.7245705912701487}. Best is trial 36 with value: 0.8661423493271834.\u001B[0m\n"
     ]
    },
    {
     "name": "stdout",
     "output_type": "stream",
     "text": [
      "[0]\ttrain-rmse:0.47954+0.00006\ttrain-mae:0.47875+0.00006\ttrain-auc:0.84382+0.00051\ttest-rmse:0.48003+0.00017\ttest-mae:0.47922+0.00017\ttest-auc:0.83599+0.00186\n",
      "[99]\ttrain-rmse:0.35469+0.00085\ttrain-mae:0.27124+0.00081\ttrain-auc:0.90425+0.00108\ttest-rmse:0.38272+0.00131\ttest-mae:0.29291+0.00138\ttest-auc:0.86582+0.00185\n"
     ]
    },
    {
     "name": "stderr",
     "output_type": "stream",
     "text": [
      "\u001B[32m[I 2023-11-13 22:49:56,474]\u001B[0m Trial 42 finished with value: 0.8658184533435728 and parameters: {'eta': 0.1140597185515928, 'max_depth': 8, 'min_child_weight': 4.342547041161625, 'subsample': 0.8661426794861076, 'colsample_bynode': 0.6739670813218535}. Best is trial 36 with value: 0.8661423493271834.\u001B[0m\n"
     ]
    },
    {
     "name": "stdout",
     "output_type": "stream",
     "text": [
      "[0]\ttrain-rmse:0.47547+0.00007\ttrain-mae:0.47432+0.00008\ttrain-auc:0.84441+0.00040\ttest-rmse:0.47606+0.00019\ttest-mae:0.47487+0.00020\ttest-auc:0.83700+0.00224\n",
      "[99]\ttrain-rmse:0.35009+0.00086\ttrain-mae:0.26653+0.00067\ttrain-auc:0.90987+0.00116\ttest-rmse:0.38281+0.00116\ttest-mae:0.29168+0.00141\ttest-auc:0.86567+0.00160\n"
     ]
    },
    {
     "name": "stderr",
     "output_type": "stream",
     "text": [
      "\u001B[32m[I 2023-11-13 22:50:01,925]\u001B[0m Trial 43 finished with value: 0.8656657559920647 and parameters: {'eta': 0.1379287741015005, 'max_depth': 8, 'min_child_weight': 4.040111215837902, 'subsample': 0.9256865562252803, 'colsample_bynode': 0.672540350531972}. Best is trial 36 with value: 0.8661423493271834.\u001B[0m\n"
     ]
    },
    {
     "name": "stdout",
     "output_type": "stream",
     "text": [
      "[0]\ttrain-rmse:0.48231+0.00005\ttrain-mae:0.48173+0.00005\ttrain-auc:0.84328+0.00051\ttest-rmse:0.48273+0.00015\ttest-mae:0.48213+0.00015\ttest-auc:0.83582+0.00205\n",
      "[99]\ttrain-rmse:0.35832+0.00069\ttrain-mae:0.27483+0.00064\ttrain-auc:0.89967+0.00095\ttest-rmse:0.38273+0.00133\ttest-mae:0.29369+0.00139\ttest-auc:0.86588+0.00184\n"
     ]
    },
    {
     "name": "stderr",
     "output_type": "stream",
     "text": [
      "\u001B[32m[I 2023-11-13 22:50:07,224]\u001B[0m Trial 44 finished with value: 0.8658782443204996 and parameters: {'eta': 0.09828399809819921, 'max_depth': 8, 'min_child_weight': 4.587883127271578, 'subsample': 0.8031885152619627, 'colsample_bynode': 0.638187628867105}. Best is trial 36 with value: 0.8661423493271834.\u001B[0m\n"
     ]
    },
    {
     "name": "stdout",
     "output_type": "stream",
     "text": [
      "[0]\ttrain-rmse:0.48239+0.00004\ttrain-mae:0.48181+0.00004\ttrain-auc:0.84260+0.00053\ttest-rmse:0.48278+0.00017\ttest-mae:0.48219+0.00017\ttest-auc:0.83579+0.00225\n",
      "[99]\ttrain-rmse:0.35734+0.00032\ttrain-mae:0.27413+0.00032\ttrain-auc:0.90092+0.00051\ttest-rmse:0.38297+0.00127\ttest-mae:0.29398+0.00138\ttest-auc:0.86539+0.00185\n"
     ]
    },
    {
     "name": "stderr",
     "output_type": "stream",
     "text": [
      "\u001B[32m[I 2023-11-13 22:50:12,736]\u001B[0m Trial 45 finished with value: 0.8653892719180734 and parameters: {'eta': 0.09804064118371723, 'max_depth': 8, 'min_child_weight': 2.715973859791201, 'subsample': 0.8115782835393173, 'colsample_bynode': 0.5617190343313032}. Best is trial 36 with value: 0.8661423493271834.\u001B[0m\n"
     ]
    },
    {
     "name": "stdout",
     "output_type": "stream",
     "text": [
      "[0]\ttrain-rmse:0.49410+0.00002\ttrain-mae:0.49404+0.00002\ttrain-auc:0.84859+0.00067\ttest-rmse:0.49429+0.00006\ttest-mae:0.49423+0.00006\ttest-auc:0.83777+0.00279\n",
      "[99]\ttrain-rmse:0.37141+0.00045\ttrain-mae:0.30086+0.00056\ttrain-auc:0.88538+0.00056\ttest-rmse:0.38628+0.00127\ttest-mae:0.31263+0.00142\ttest-auc:0.86192+0.00192\n"
     ]
    },
    {
     "name": "stderr",
     "output_type": "stream",
     "text": [
      "\u001B[32m[I 2023-11-13 22:50:21,924]\u001B[0m Trial 46 finished with value: 0.8619236021244033 and parameters: {'eta': 0.031289112219150136, 'max_depth': 9, 'min_child_weight': 7.273522926948124, 'subsample': 0.9432129361632231, 'colsample_bynode': 0.632282514240501}. Best is trial 36 with value: 0.8661423493271834.\u001B[0m\n"
     ]
    },
    {
     "name": "stdout",
     "output_type": "stream",
     "text": [
      "[0]\ttrain-rmse:0.48776+0.00004\ttrain-mae:0.48752+0.00004\ttrain-auc:0.85584+0.00064\ttest-rmse:0.48847+0.00011\ttest-mae:0.48821+0.00011\ttest-auc:0.83621+0.00283\n",
      "[99]\ttrain-rmse:0.34209+0.00084\ttrain-mae:0.26303+0.00083\ttrain-auc:0.91993+0.00095\ttest-rmse:0.38331+0.00137\ttest-mae:0.29487+0.00146\ttest-auc:0.86491+0.00201\n"
     ]
    },
    {
     "name": "stderr",
     "output_type": "stream",
     "text": [
      "\u001B[32m[I 2023-11-13 22:50:34,510]\u001B[0m Trial 47 finished with value: 0.8649122728316447 and parameters: {'eta': 0.06312645529957028, 'max_depth': 10, 'min_child_weight': 2.67054885714866, 'subsample': 0.8975706550489354, 'colsample_bynode': 0.6482127309529937}. Best is trial 36 with value: 0.8661423493271834.\u001B[0m\n"
     ]
    },
    {
     "name": "stdout",
     "output_type": "stream",
     "text": [
      "[0]\ttrain-rmse:0.48787+0.00003\ttrain-mae:0.48761+0.00003\ttrain-auc:0.84413+0.00060\ttest-rmse:0.48816+0.00012\ttest-mae:0.48789+0.00012\ttest-auc:0.83661+0.00221\n",
      "[99]\ttrain-rmse:0.36462+0.00063\ttrain-mae:0.28319+0.00073\ttrain-auc:0.89180+0.00081\ttest-rmse:0.38371+0.00138\ttest-mae:0.29807+0.00146\ttest-auc:0.86451+0.00209\n"
     ]
    },
    {
     "name": "stderr",
     "output_type": "stream",
     "text": [
      "\u001B[32m[I 2023-11-13 22:50:40,421]\u001B[0m Trial 48 finished with value: 0.8645112252122219 and parameters: {'eta': 0.06643240464198148, 'max_depth': 8, 'min_child_weight': 4.695667367193843, 'subsample': 0.9797834557508209, 'colsample_bynode': 0.5978587474483356}. Best is trial 36 with value: 0.8661423493271834.\u001B[0m\n"
     ]
    },
    {
     "name": "stdout",
     "output_type": "stream",
     "text": [
      "[0]\ttrain-rmse:0.48063+0.00004\ttrain-mae:0.47994+0.00004\ttrain-auc:0.84685+0.00048\ttest-rmse:0.48120+0.00020\ttest-mae:0.48049+0.00020\ttest-auc:0.83748+0.00276\n",
      "[99]\ttrain-rmse:0.35091+0.00042\ttrain-mae:0.26796+0.00036\ttrain-auc:0.90911+0.00057\ttest-rmse:0.38259+0.00127\ttest-mae:0.29226+0.00145\ttest-auc:0.86601+0.00175\n"
     ]
    },
    {
     "name": "stderr",
     "output_type": "stream",
     "text": [
      "\u001B[32m[I 2023-11-13 22:50:47,098]\u001B[0m Trial 49 finished with value: 0.8660115645176225 and parameters: {'eta': 0.10622751111148289, 'max_depth': 9, 'min_child_weight': 7.261593814300506, 'subsample': 0.8027383970721287, 'colsample_bynode': 0.5532385681629388}. Best is trial 36 with value: 0.8661423493271834.\u001B[0m\n"
     ]
    },
    {
     "name": "stdout",
     "output_type": "stream",
     "text": [
      "[0]\ttrain-rmse:0.48375+0.00005\ttrain-mae:0.48329+0.00005\ttrain-auc:0.85153+0.00047\ttest-rmse:0.48441+0.00012\ttest-mae:0.48393+0.00013\ttest-auc:0.83763+0.00180\n",
      "[99]\ttrain-rmse:0.34460+0.00051\ttrain-mae:0.26325+0.00053\ttrain-auc:0.91691+0.00066\ttest-rmse:0.38329+0.00140\ttest-mae:0.29288+0.00153\ttest-auc:0.86487+0.00194\n"
     ]
    },
    {
     "name": "stderr",
     "output_type": "stream",
     "text": [
      "\u001B[32m[I 2023-11-13 22:50:56,373]\u001B[0m Trial 50 finished with value: 0.8648746664007018 and parameters: {'eta': 0.08639897197422423, 'max_depth': 10, 'min_child_weight': 6.205722143059505, 'subsample': 0.7983052491113966, 'colsample_bynode': 0.5527292845193764}. Best is trial 36 with value: 0.8661423493271834.\u001B[0m\n"
     ]
    },
    {
     "name": "stdout",
     "output_type": "stream",
     "text": [
      "[0]\ttrain-rmse:0.47939+0.00007\ttrain-mae:0.47861+0.00007\ttrain-auc:0.84714+0.00051\ttest-rmse:0.48002+0.00014\ttest-mae:0.47921+0.00014\ttest-auc:0.83740+0.00185\n",
      "[99]\ttrain-rmse:0.34991+0.00075\ttrain-mae:0.26686+0.00069\ttrain-auc:0.91028+0.00095\ttest-rmse:0.38268+0.00155\ttest-mae:0.29203+0.00153\ttest-auc:0.86585+0.00219\n"
     ]
    },
    {
     "name": "stderr",
     "output_type": "stream",
     "text": [
      "\u001B[32m[I 2023-11-13 22:51:02,782]\u001B[0m Trial 51 finished with value: 0.8658459535739567 and parameters: {'eta': 0.11327903646276499, 'max_depth': 9, 'min_child_weight': 7.607774992658363, 'subsample': 0.846374720251011, 'colsample_bynode': 0.5263469768945125}. Best is trial 36 with value: 0.8661423493271834.\u001B[0m\n"
     ]
    },
    {
     "name": "stdout",
     "output_type": "stream",
     "text": [
      "[0]\ttrain-rmse:0.48193+0.00006\ttrain-mae:0.48134+0.00006\ttrain-auc:0.84711+0.00067\ttest-rmse:0.48249+0.00014\ttest-mae:0.48188+0.00014\ttest-auc:0.83703+0.00181\n",
      "[99]\ttrain-rmse:0.35289+0.00026\ttrain-mae:0.26999+0.00039\ttrain-auc:0.90664+0.00026\ttest-rmse:0.38291+0.00158\ttest-mae:0.29310+0.00139\ttest-auc:0.86553+0.00225\n"
     ]
    },
    {
     "name": "stderr",
     "output_type": "stream",
     "text": [
      "\u001B[32m[I 2023-11-13 22:51:09,444]\u001B[0m Trial 52 finished with value: 0.8655264649661991 and parameters: {'eta': 0.09873938248237478, 'max_depth': 9, 'min_child_weight': 7.6822414822931915, 'subsample': 0.8420731682773775, 'colsample_bynode': 0.5204478749824643}. Best is trial 36 with value: 0.8661423493271834.\u001B[0m\n"
     ]
    },
    {
     "name": "stdout",
     "output_type": "stream",
     "text": [
      "[0]\ttrain-rmse:0.49313+0.00002\ttrain-mae:0.49305+0.00002\ttrain-auc:0.84825+0.00069\ttest-rmse:0.49334+0.00007\ttest-mae:0.49326+0.00007\ttest-auc:0.83790+0.00304\n",
      "[99]\ttrain-rmse:0.36956+0.00033\ttrain-mae:0.29522+0.00047\ttrain-auc:0.88690+0.00042\ttest-rmse:0.38529+0.00135\ttest-mae:0.30758+0.00149\ttest-auc:0.86281+0.00209\n"
     ]
    },
    {
     "name": "stderr",
     "output_type": "stream",
     "text": [
      "\u001B[32m[I 2023-11-13 22:51:17,658]\u001B[0m Trial 53 finished with value: 0.8628126578660329 and parameters: {'eta': 0.036525883819835, 'max_depth': 9, 'min_child_weight': 7.535594908082772, 'subsample': 0.892370473544223, 'colsample_bynode': 0.570800952346565}. Best is trial 36 with value: 0.8661423493271834.\u001B[0m\n"
     ]
    },
    {
     "name": "stdout",
     "output_type": "stream",
     "text": [
      "[0]\ttrain-rmse:0.47770+0.00005\ttrain-mae:0.47679+0.00005\ttrain-auc:0.84843+0.00037\ttest-rmse:0.47851+0.00024\ttest-mae:0.47757+0.00024\ttest-auc:0.83710+0.00290\n",
      "[99]\ttrain-rmse:0.34348+0.00123\ttrain-mae:0.26131+0.00096\ttrain-auc:0.91778+0.00157\ttest-rmse:0.38275+0.00154\ttest-mae:0.29141+0.00170\ttest-auc:0.86573+0.00205\n"
     ]
    },
    {
     "name": "stderr",
     "output_type": "stream",
     "text": [
      "\u001B[32m[I 2023-11-13 22:51:24,299]\u001B[0m Trial 54 finished with value: 0.8657279982456302 and parameters: {'eta': 0.12235447706877872, 'max_depth': 9, 'min_child_weight': 5.487059850112538, 'subsample': 0.9488138292173897, 'colsample_bynode': 0.5206632732155676}. Best is trial 36 with value: 0.8661423493271834.\u001B[0m\n"
     ]
    },
    {
     "name": "stdout",
     "output_type": "stream",
     "text": [
      "[0]\ttrain-rmse:0.48559+0.00003\ttrain-mae:0.48524+0.00003\ttrain-auc:0.85257+0.00028\ttest-rmse:0.48633+0.00013\ttest-mae:0.48595+0.00013\ttest-auc:0.83490+0.00209\n",
      "[99]\ttrain-rmse:0.34118+0.00074\ttrain-mae:0.26097+0.00065\ttrain-auc:0.92083+0.00094\ttest-rmse:0.38319+0.00135\ttest-mae:0.29328+0.00155\ttest-auc:0.86513+0.00181\n"
     ]
    },
    {
     "name": "stderr",
     "output_type": "stream",
     "text": [
      "\u001B[32m[I 2023-11-13 22:51:35,158]\u001B[0m Trial 55 finished with value: 0.8651334226825602 and parameters: {'eta': 0.07568377044646776, 'max_depth': 10, 'min_child_weight': 3.332452845747345, 'subsample': 0.7626159283807984, 'colsample_bynode': 0.5976640307748207}. Best is trial 36 with value: 0.8661423493271834.\u001B[0m\n"
     ]
    },
    {
     "name": "stdout",
     "output_type": "stream",
     "text": [
      "[0]\ttrain-rmse:0.47256+0.00011\ttrain-mae:0.47105+0.00011\ttrain-auc:0.84200+0.00087\ttest-rmse:0.47314+0.00027\ttest-mae:0.47160+0.00027\ttest-auc:0.83569+0.00241\n",
      "[99]\ttrain-rmse:0.35465+0.00048\ttrain-mae:0.26968+0.00045\ttrain-auc:0.90415+0.00063\ttest-rmse:0.38285+0.00133\ttest-mae:0.29137+0.00144\ttest-auc:0.86557+0.00173\n"
     ]
    },
    {
     "name": "stderr",
     "output_type": "stream",
     "text": [
      "\u001B[32m[I 2023-11-13 22:51:39,825]\u001B[0m Trial 56 finished with value: 0.8655733719915869 and parameters: {'eta': 0.1576449059206415, 'max_depth': 8, 'min_child_weight': 8.495020093616446, 'subsample': 0.8071231674118212, 'colsample_bynode': 0.4463316493108923}. Best is trial 36 with value: 0.8661423493271834.\u001B[0m\n"
     ]
    },
    {
     "name": "stdout",
     "output_type": "stream",
     "text": [
      "[0]\ttrain-rmse:0.48176+0.00005\ttrain-mae:0.48116+0.00005\ttrain-auc:0.84816+0.00056\ttest-rmse:0.48232+0.00018\ttest-mae:0.48170+0.00018\ttest-auc:0.83813+0.00239\n",
      "[99]\ttrain-rmse:0.35305+0.00058\ttrain-mae:0.27028+0.00061\ttrain-auc:0.90668+0.00073\ttest-rmse:0.38274+0.00137\ttest-mae:0.29308+0.00154\ttest-auc:0.86575+0.00185\n"
     ]
    },
    {
     "name": "stderr",
     "output_type": "stream",
     "text": [
      "\u001B[32m[I 2023-11-13 22:51:46,280]\u001B[0m Trial 57 finished with value: 0.8657528857337041 and parameters: {'eta': 0.09940636086227829, 'max_depth': 9, 'min_child_weight': 9.968124322508846, 'subsample': 0.9117384729768281, 'colsample_bynode': 0.6220074666337904}. Best is trial 36 with value: 0.8661423493271834.\u001B[0m\n"
     ]
    },
    {
     "name": "stdout",
     "output_type": "stream",
     "text": [
      "[0]\ttrain-rmse:0.47763+0.00005\ttrain-mae:0.47667+0.00005\ttrain-auc:0.84329+0.00040\ttest-rmse:0.47817+0.00026\ttest-mae:0.47719+0.00026\ttest-auc:0.83545+0.00284\n",
      "[99]\ttrain-rmse:0.35421+0.00048\ttrain-mae:0.27080+0.00047\ttrain-auc:0.90491+0.00069\ttest-rmse:0.38274+0.00144\ttest-mae:0.29280+0.00152\ttest-auc:0.86575+0.00193\n"
     ]
    },
    {
     "name": "stderr",
     "output_type": "stream",
     "text": [
      "\u001B[32m[I 2023-11-13 22:51:51,577]\u001B[0m Trial 58 finished with value: 0.86575114259395 and parameters: {'eta': 0.12570679724414238, 'max_depth': 8, 'min_child_weight': 4.729655213334537, 'subsample': 0.9973724185795827, 'colsample_bynode': 0.5347783645170507}. Best is trial 36 with value: 0.8661423493271834.\u001B[0m\n"
     ]
    },
    {
     "name": "stdout",
     "output_type": "stream",
     "text": [
      "[0]\ttrain-rmse:0.47255+0.00009\ttrain-mae:0.47113+0.00010\ttrain-auc:0.84864+0.00070\ttest-rmse:0.47365+0.00024\ttest-mae:0.47218+0.00024\ttest-auc:0.83599+0.00208\n",
      "[99]\ttrain-rmse:0.33208+0.00102\ttrain-mae:0.25012+0.00094\ttrain-auc:0.92980+0.00110\ttest-rmse:0.38355+0.00146\ttest-mae:0.28934+0.00144\ttest-auc:0.86477+0.00195\n"
     ]
    },
    {
     "name": "stderr",
     "output_type": "stream",
     "text": [
      "\u001B[32m[I 2023-11-13 22:51:58,427]\u001B[0m Trial 59 finished with value: 0.8647680603234924 and parameters: {'eta': 0.15175455334110327, 'max_depth': 9, 'min_child_weight': 3.084606262279825, 'subsample': 0.8424029425765828, 'colsample_bynode': 0.5741548708800788}. Best is trial 36 with value: 0.8661423493271834.\u001B[0m\n"
     ]
    },
    {
     "name": "stdout",
     "output_type": "stream",
     "text": [
      "[0]\ttrain-rmse:0.46604+0.00011\ttrain-mae:0.46389+0.00011\ttrain-auc:0.85448+0.00063\ttest-rmse:0.46776+0.00035\ttest-mae:0.46549+0.00036\ttest-auc:0.83850+0.00270\n",
      "[99]\ttrain-rmse:0.31577+0.00077\ttrain-mae:0.23562+0.00061\ttrain-auc:0.94566+0.00073\ttest-rmse:0.38427+0.00162\ttest-mae:0.28700+0.00167\ttest-auc:0.86396+0.00222\n"
     ]
    },
    {
     "name": "stderr",
     "output_type": "stream",
     "text": [
      "\u001B[32m[I 2023-11-13 22:52:06,164]\u001B[0m Trial 60 finished with value: 0.863961372223393 and parameters: {'eta': 0.18585986749420808, 'max_depth': 10, 'min_child_weight': 6.809801990612719, 'subsample': 0.9586193881997267, 'colsample_bynode': 0.7066581330352288}. Best is trial 36 with value: 0.8661423493271834.\u001B[0m\n"
     ]
    },
    {
     "name": "stdout",
     "output_type": "stream",
     "text": [
      "[0]\ttrain-rmse:0.47993+0.00007\ttrain-mae:0.47917+0.00007\ttrain-auc:0.84397+0.00071\ttest-rmse:0.48038+0.00017\ttest-mae:0.47961+0.00017\ttest-auc:0.83665+0.00207\n",
      "[99]\ttrain-rmse:0.35535+0.00052\ttrain-mae:0.27178+0.00056\ttrain-auc:0.90341+0.00065\ttest-rmse:0.38254+0.00135\ttest-mae:0.29272+0.00141\ttest-auc:0.86606+0.00197\n"
     ]
    },
    {
     "name": "stderr",
     "output_type": "stream",
     "text": [
      "\u001B[32m[I 2023-11-13 22:52:11,498]\u001B[0m Trial 61 finished with value: 0.8660563160200437 and parameters: {'eta': 0.1117298866031241, 'max_depth': 8, 'min_child_weight': 4.175524565052056, 'subsample': 0.8540734076468482, 'colsample_bynode': 0.6464786035074052}. Best is trial 36 with value: 0.8661423493271834.\u001B[0m\n"
     ]
    },
    {
     "name": "stdout",
     "output_type": "stream",
     "text": [
      "[0]\ttrain-rmse:0.47695+0.00007\ttrain-mae:0.47592+0.00007\ttrain-auc:0.84310+0.00036\ttest-rmse:0.47747+0.00020\ttest-mae:0.47642+0.00020\ttest-auc:0.83617+0.00251\n",
      "[99]\ttrain-rmse:0.35405+0.00028\ttrain-mae:0.26986+0.00030\ttrain-auc:0.90494+0.00036\ttest-rmse:0.38267+0.00147\ttest-mae:0.29185+0.00156\ttest-auc:0.86588+0.00204\n"
     ]
    },
    {
     "name": "stderr",
     "output_type": "stream",
     "text": [
      "\u001B[32m[I 2023-11-13 22:52:16,818]\u001B[0m Trial 62 finished with value: 0.8658818861420382 and parameters: {'eta': 0.12992292814494277, 'max_depth': 8, 'min_child_weight': 5.5719247367099, 'subsample': 0.7912975230745677, 'colsample_bynode': 0.6499675405386837}. Best is trial 36 with value: 0.8661423493271834.\u001B[0m\n"
     ]
    },
    {
     "name": "stdout",
     "output_type": "stream",
     "text": [
      "[0]\ttrain-rmse:0.47543+0.00007\ttrain-mae:0.47420+0.00007\ttrain-auc:0.83733+0.00035\ttest-rmse:0.47577+0.00023\ttest-mae:0.47452+0.00023\ttest-auc:0.83296+0.00206\n",
      "[99]\ttrain-rmse:0.36130+0.00046\ttrain-mae:0.27603+0.00051\ttrain-auc:0.89563+0.00060\ttest-rmse:0.38274+0.00131\ttest-mae:0.29246+0.00154\ttest-auc:0.86576+0.00182\n"
     ]
    },
    {
     "name": "stderr",
     "output_type": "stream",
     "text": [
      "\u001B[32m[I 2023-11-13 22:52:21,182]\u001B[0m Trial 63 finished with value: 0.8657637560648495 and parameters: {'eta': 0.14322125062810384, 'max_depth': 7, 'min_child_weight': 4.089520407007406, 'subsample': 0.7701648014044876, 'colsample_bynode': 0.6087572755349341}. Best is trial 36 with value: 0.8661423493271834.\u001B[0m\n"
     ]
    },
    {
     "name": "stdout",
     "output_type": "stream",
     "text": [
      "[0]\ttrain-rmse:0.47677+0.00009\ttrain-mae:0.47572+0.00009\ttrain-auc:0.84238+0.00094\ttest-rmse:0.47724+0.00026\ttest-mae:0.47617+0.00026\ttest-auc:0.83629+0.00290\n",
      "[99]\ttrain-rmse:0.35558+0.00052\ttrain-mae:0.27131+0.00058\ttrain-auc:0.90304+0.00065\ttest-rmse:0.38275+0.00160\ttest-mae:0.29224+0.00146\ttest-auc:0.86574+0.00222\n"
     ]
    },
    {
     "name": "stderr",
     "output_type": "stream",
     "text": [
      "\u001B[32m[I 2023-11-13 22:52:26,139]\u001B[0m Trial 64 finished with value: 0.8657358596807132 and parameters: {'eta': 0.1314539583945926, 'max_depth': 8, 'min_child_weight': 5.822461253267713, 'subsample': 0.815346872572699, 'colsample_bynode': 0.4814091396141581}. Best is trial 36 with value: 0.8661423493271834.\u001B[0m\n"
     ]
    },
    {
     "name": "stdout",
     "output_type": "stream",
     "text": [
      "[0]\ttrain-rmse:0.47926+0.00009\ttrain-mae:0.47840+0.00009\ttrain-auc:0.83709+0.00077\ttest-rmse:0.47953+0.00018\ttest-mae:0.47866+0.00018\ttest-auc:0.83305+0.00247\n",
      "[99]\ttrain-rmse:0.36599+0.00019\ttrain-mae:0.28083+0.00036\ttrain-auc:0.88966+0.00024\ttest-rmse:0.38277+0.00123\ttest-mae:0.29385+0.00136\ttest-auc:0.86578+0.00176\n"
     ]
    },
    {
     "name": "stderr",
     "output_type": "stream",
     "text": [
      "\u001B[32m[I 2023-11-13 22:52:30,323]\u001B[0m Trial 65 finished with value: 0.8657843166512764 and parameters: {'eta': 0.11963592535589772, 'max_depth': 7, 'min_child_weight': 8.091601544373999, 'subsample': 0.7139238987457313, 'colsample_bynode': 0.7009703107666146}. Best is trial 36 with value: 0.8661423493271834.\u001B[0m\n"
     ]
    },
    {
     "name": "stdout",
     "output_type": "stream",
     "text": [
      "[0]\ttrain-rmse:0.48742+0.00004\ttrain-mae:0.48713+0.00004\ttrain-auc:0.84206+0.00034\ttest-rmse:0.48771+0.00011\ttest-mae:0.48741+0.00011\ttest-auc:0.83487+0.00268\n",
      "[99]\ttrain-rmse:0.36487+0.00012\ttrain-mae:0.28267+0.00026\ttrain-auc:0.89141+0.00016\ttest-rmse:0.38350+0.00135\ttest-mae:0.29716+0.00156\ttest-auc:0.86477+0.00196\n"
     ]
    },
    {
     "name": "stderr",
     "output_type": "stream",
     "text": [
      "\u001B[32m[I 2023-11-13 22:52:36,237]\u001B[0m Trial 66 finished with value: 0.864772504902634 and parameters: {'eta': 0.06951536243762005, 'max_depth': 8, 'min_child_weight': 3.452213797100646, 'subsample': 0.7466824551871347, 'colsample_bynode': 0.5385808674109919}. Best is trial 36 with value: 0.8661423493271834.\u001B[0m\n"
     ]
    },
    {
     "name": "stdout",
     "output_type": "stream",
     "text": [
      "[0]\ttrain-rmse:0.47567+0.00008\ttrain-mae:0.47407+0.00008\ttrain-auc:0.79817+0.00069\ttest-rmse:0.47570+0.00024\ttest-mae:0.47410+0.00025\ttest-auc:0.79795+0.00177\n",
      "[99]\ttrain-rmse:0.38319+0.00035\ttrain-mae:0.29991+0.00055\ttrain-auc:0.86550+0.00050\ttest-rmse:0.38535+0.00125\ttest-mae:0.30158+0.00124\ttest-auc:0.86212+0.00194\n"
     ]
    },
    {
     "name": "stderr",
     "output_type": "stream",
     "text": [
      "\u001B[32m[I 2023-11-13 22:52:38,246]\u001B[0m Trial 67 finished with value: 0.8621242987470372 and parameters: {'eta': 0.17029601009251186, 'max_depth': 3, 'min_child_weight': 2.3291938315079066, 'subsample': 0.7917477112492177, 'colsample_bynode': 0.612842740836368}. Best is trial 36 with value: 0.8661423493271834.\u001B[0m\n"
     ]
    },
    {
     "name": "stdout",
     "output_type": "stream",
     "text": [
      "[0]\ttrain-rmse:0.46355+0.00009\ttrain-mae:0.46090+0.00010\ttrain-auc:0.84923+0.00048\ttest-rmse:0.46498+0.00032\ttest-mae:0.46223+0.00033\ttest-auc:0.83709+0.00194\n",
      "[99]\ttrain-rmse:0.32298+0.00090\ttrain-mae:0.24073+0.00082\ttrain-auc:0.93823+0.00090\ttest-rmse:0.38456+0.00132\ttest-mae:0.28720+0.00167\ttest-auc:0.86365+0.00190\n"
     ]
    },
    {
     "name": "stderr",
     "output_type": "stream",
     "text": [
      "\u001B[32m[I 2023-11-13 22:52:45,045]\u001B[0m Trial 68 finished with value: 0.8636453509097046 and parameters: {'eta': 0.20602403604434025, 'max_depth': 9, 'min_child_weight': 4.380752550679617, 'subsample': 0.872031461851568, 'colsample_bynode': 0.6552603966445211}. Best is trial 36 with value: 0.8661423493271834.\u001B[0m\n"
     ]
    },
    {
     "name": "stdout",
     "output_type": "stream",
     "text": [
      "[0]\ttrain-rmse:0.47374+0.00008\ttrain-mae:0.47239+0.00008\ttrain-auc:0.84371+0.00050\ttest-rmse:0.47439+0.00020\ttest-mae:0.47301+0.00020\ttest-auc:0.83631+0.00177\n",
      "[99]\ttrain-rmse:0.34971+0.00077\ttrain-mae:0.26558+0.00079\ttrain-auc:0.91031+0.00095\ttest-rmse:0.38295+0.00160\ttest-mae:0.29106+0.00159\ttest-auc:0.86552+0.00234\n"
     ]
    },
    {
     "name": "stderr",
     "output_type": "stream",
     "text": [
      "\u001B[32m[I 2023-11-13 22:52:50,453]\u001B[0m Trial 69 finished with value: 0.8655171159659425 and parameters: {'eta': 0.14867793106196642, 'max_depth': 8, 'min_child_weight': 5.691435141909507, 'subsample': 0.8293247657946492, 'colsample_bynode': 0.7466680539259705}. Best is trial 36 with value: 0.8661423493271834.\u001B[0m\n"
     ]
    },
    {
     "name": "stdout",
     "output_type": "stream",
     "text": [
      "[0]\ttrain-rmse:0.48131+0.00006\ttrain-mae:0.48062+0.00006\ttrain-auc:0.83611+0.00062\ttest-rmse:0.48154+0.00019\ttest-mae:0.48084+0.00019\ttest-auc:0.83241+0.00265\n",
      "[99]\ttrain-rmse:0.36836+0.00037\ttrain-mae:0.28359+0.00045\ttrain-auc:0.88650+0.00049\ttest-rmse:0.38294+0.00165\ttest-mae:0.29490+0.00154\ttest-auc:0.86555+0.00244\n"
     ]
    },
    {
     "name": "stderr",
     "output_type": "stream",
     "text": [
      "\u001B[32m[I 2023-11-13 22:52:54,696]\u001B[0m Trial 70 finished with value: 0.8655496909349903 and parameters: {'eta': 0.10797064631883758, 'max_depth': 7, 'min_child_weight': 9.137845044411383, 'subsample': 0.7647324282059899, 'colsample_bynode': 0.5038330410177281}. Best is trial 36 with value: 0.8661423493271834.\u001B[0m\n"
     ]
    },
    {
     "name": "stdout",
     "output_type": "stream",
     "text": [
      "[0]\ttrain-rmse:0.48328+0.00004\ttrain-mae:0.48277+0.00004\ttrain-auc:0.84410+0.00045\ttest-rmse:0.48368+0.00017\ttest-mae:0.48315+0.00017\ttest-auc:0.83638+0.00264\n",
      "[99]\ttrain-rmse:0.35916+0.00040\ttrain-mae:0.27619+0.00048\ttrain-auc:0.89873+0.00047\ttest-rmse:0.38303+0.00149\ttest-mae:0.29459+0.00156\ttest-auc:0.86539+0.00218\n"
     ]
    },
    {
     "name": "stderr",
     "output_type": "stream",
     "text": [
      "\u001B[32m[I 2023-11-13 22:53:00,192]\u001B[0m Trial 71 finished with value: 0.8653926695183373 and parameters: {'eta': 0.09236116386971828, 'max_depth': 8, 'min_child_weight': 5.0741985742271645, 'subsample': 0.8998343592195064, 'colsample_bynode': 0.6368803404866358}. Best is trial 36 with value: 0.8661423493271834.\u001B[0m\n"
     ]
    },
    {
     "name": "stdout",
     "output_type": "stream",
     "text": [
      "[0]\ttrain-rmse:0.48550+0.00004\ttrain-mae:0.48512+0.00004\ttrain-auc:0.84355+0.00059\ttest-rmse:0.48583+0.00013\ttest-mae:0.48544+0.00013\ttest-auc:0.83610+0.00204\n",
      "[99]\ttrain-rmse:0.36260+0.00044\ttrain-mae:0.27974+0.00054\ttrain-auc:0.89430+0.00057\ttest-rmse:0.38310+0.00150\ttest-mae:0.29565+0.00148\ttest-auc:0.86533+0.00213\n"
     ]
    },
    {
     "name": "stderr",
     "output_type": "stream",
     "text": [
      "\u001B[32m[I 2023-11-13 22:53:05,880]\u001B[0m Trial 72 finished with value: 0.8653285938443661 and parameters: {'eta': 0.0798720436265346, 'max_depth': 8, 'min_child_weight': 5.479346263395259, 'subsample': 0.8460521678077236, 'colsample_bynode': 0.654206256002166}. Best is trial 36 with value: 0.8661423493271834.\u001B[0m\n"
     ]
    },
    {
     "name": "stdout",
     "output_type": "stream",
     "text": [
      "[0]\ttrain-rmse:0.47685+0.00004\ttrain-mae:0.47587+0.00004\ttrain-auc:0.84875+0.00034\ttest-rmse:0.47761+0.00023\ttest-mae:0.47659+0.00023\ttest-auc:0.83828+0.00307\n",
      "[99]\ttrain-rmse:0.34421+0.00091\ttrain-mae:0.26168+0.00091\ttrain-auc:0.91698+0.00107\ttest-rmse:0.38275+0.00120\ttest-mae:0.29114+0.00116\ttest-auc:0.86579+0.00175\n"
     ]
    },
    {
     "name": "stderr",
     "output_type": "stream",
     "text": [
      "\u001B[32m[I 2023-11-13 22:53:12,583]\u001B[0m Trial 73 finished with value: 0.8657918769264201 and parameters: {'eta': 0.1271135609571898, 'max_depth': 9, 'min_child_weight': 6.8690912119324254, 'subsample': 0.9209882979659373, 'colsample_bynode': 0.5759351150630682}. Best is trial 36 with value: 0.8661423493271834.\u001B[0m\n"
     ]
    },
    {
     "name": "stdout",
     "output_type": "stream",
     "text": [
      "[0]\ttrain-rmse:0.48226+0.00005\ttrain-mae:0.48164+0.00006\ttrain-auc:0.83752+0.00054\ttest-rmse:0.48251+0.00018\ttest-mae:0.48189+0.00018\ttest-auc:0.83291+0.00270\n",
      "[99]\ttrain-rmse:0.36644+0.00049\ttrain-mae:0.28257+0.00070\ttrain-auc:0.88917+0.00060\ttest-rmse:0.38313+0.00144\ttest-mae:0.29552+0.00133\ttest-auc:0.86531+0.00209\n"
     ]
    },
    {
     "name": "stderr",
     "output_type": "stream",
     "text": [
      "\u001B[32m[I 2023-11-13 22:53:16,814]\u001B[0m Trial 74 finished with value: 0.8653064638379803 and parameters: {'eta': 0.10152370451232995, 'max_depth': 7, 'min_child_weight': 3.8990325686884213, 'subsample': 0.8845317843538083, 'colsample_bynode': 0.5533726304765405}. Best is trial 36 with value: 0.8661423493271834.\u001B[0m\n"
     ]
    },
    {
     "name": "stdout",
     "output_type": "stream",
     "text": [
      "[0]\ttrain-rmse:0.48361+0.00004\ttrain-mae:0.48311+0.00004\ttrain-auc:0.84348+0.00037\ttest-rmse:0.48398+0.00017\ttest-mae:0.48347+0.00017\ttest-auc:0.83617+0.00242\n",
      "[99]\ttrain-rmse:0.36197+0.00022\ttrain-mae:0.27839+0.00038\ttrain-auc:0.89513+0.00035\ttest-rmse:0.38294+0.00146\ttest-mae:0.29469+0.00141\ttest-auc:0.86554+0.00207\n"
     ]
    },
    {
     "name": "stderr",
     "output_type": "stream",
     "text": [
      "\u001B[32m[I 2023-11-13 22:53:22,580]\u001B[0m Trial 75 finished with value: 0.8655424012153402 and parameters: {'eta': 0.09083180902447617, 'max_depth': 8, 'min_child_weight': 7.621385562125133, 'subsample': 0.8226920933695547, 'colsample_bynode': 0.7022072880350523}. Best is trial 36 with value: 0.8661423493271834.\u001B[0m\n"
     ]
    },
    {
     "name": "stdout",
     "output_type": "stream",
     "text": [
      "[0]\ttrain-rmse:0.48889+0.00003\ttrain-mae:0.48868+0.00003\ttrain-auc:0.84950+0.00059\ttest-rmse:0.48931+0.00009\ttest-mae:0.48909+0.00009\ttest-auc:0.83666+0.00187\n",
      "[99]\ttrain-rmse:0.35630+0.00052\ttrain-mae:0.27605+0.00064\ttrain-auc:0.90268+0.00054\ttest-rmse:0.38353+0.00136\ttest-mae:0.29717+0.00154\ttest-auc:0.86473+0.00190\n"
     ]
    },
    {
     "name": "stderr",
     "output_type": "stream",
     "text": [
      "\u001B[32m[I 2023-11-13 22:53:30,787]\u001B[0m Trial 76 finished with value: 0.8647284346276646 and parameters: {'eta': 0.05890230927508677, 'max_depth': 9, 'min_child_weight': 2.7362551797071393, 'subsample': 0.8524060503920973, 'colsample_bynode': 0.6814378810493475}. Best is trial 36 with value: 0.8661423493271834.\u001B[0m\n"
     ]
    },
    {
     "name": "stdout",
     "output_type": "stream",
     "text": [
      "[0]\ttrain-rmse:0.47443+0.00007\ttrain-mae:0.47316+0.00007\ttrain-auc:0.84403+0.00069\ttest-rmse:0.47508+0.00027\ttest-mae:0.47378+0.00027\ttest-auc:0.83600+0.00200\n",
      "[99]\ttrain-rmse:0.34959+0.00068\ttrain-mae:0.26598+0.00065\ttrain-auc:0.91042+0.00092\ttest-rmse:0.38278+0.00143\ttest-mae:0.29145+0.00143\ttest-auc:0.86568+0.00196\n"
     ]
    },
    {
     "name": "stderr",
     "output_type": "stream",
     "text": [
      "\u001B[32m[I 2023-11-13 22:53:35,766]\u001B[0m Trial 77 finished with value: 0.8656822660046848 and parameters: {'eta': 0.1445192766505359, 'max_depth': 8, 'min_child_weight': 4.648031808838374, 'subsample': 0.9546188552574395, 'colsample_bynode': 0.6178106064273621}. Best is trial 36 with value: 0.8661423493271834.\u001B[0m\n"
     ]
    },
    {
     "name": "stdout",
     "output_type": "stream",
     "text": [
      "[0]\ttrain-rmse:0.48008+0.00004\ttrain-mae:0.47934+0.00004\ttrain-auc:0.84345+0.00032\ttest-rmse:0.48059+0.00022\ttest-mae:0.47983+0.00022\ttest-auc:0.83522+0.00288\n",
      "[99]\ttrain-rmse:0.35273+0.00071\ttrain-mae:0.26970+0.00069\ttrain-auc:0.90657+0.00087\ttest-rmse:0.38288+0.00117\ttest-mae:0.29292+0.00118\ttest-auc:0.86550+0.00169\n"
     ]
    },
    {
     "name": "stderr",
     "output_type": "stream",
     "text": [
      "\u001B[32m[I 2023-11-13 22:53:41,142]\u001B[0m Trial 78 finished with value: 0.8654955050041675 and parameters: {'eta': 0.11102593606683324, 'max_depth': 8, 'min_child_weight': 1.7888152726671251, 'subsample': 0.8769405480502623, 'colsample_bynode': 0.5902648381303066}. Best is trial 36 with value: 0.8661423493271834.\u001B[0m\n"
     ]
    },
    {
     "name": "stdout",
     "output_type": "stream",
     "text": [
      "[0]\ttrain-rmse:0.48616+0.00004\ttrain-mae:0.48583+0.00004\ttrain-auc:0.84772+0.00056\ttest-rmse:0.48661+0.00013\ttest-mae:0.48627+0.00013\ttest-auc:0.83714+0.00246\n",
      "[99]\ttrain-rmse:0.35650+0.00050\ttrain-mae:0.27442+0.00063\ttrain-auc:0.90235+0.00056\ttest-rmse:0.38304+0.00117\ttest-mae:0.29487+0.00123\ttest-auc:0.86531+0.00154\n"
     ]
    },
    {
     "name": "stderr",
     "output_type": "stream",
     "text": [
      "\u001B[32m[I 2023-11-13 22:53:48,288]\u001B[0m Trial 79 finished with value: 0.8653055999818997 and parameters: {'eta': 0.07454402794722706, 'max_depth': 9, 'min_child_weight': 6.207574966742366, 'subsample': 0.7930348964872287, 'colsample_bynode': 0.648906652894109}. Best is trial 36 with value: 0.8661423493271834.\u001B[0m\n"
     ]
    },
    {
     "name": "stdout",
     "output_type": "stream",
     "text": [
      "[0]\ttrain-rmse:0.47317+0.00007\ttrain-mae:0.47170+0.00007\ttrain-auc:0.83912+0.00049\ttest-rmse:0.47356+0.00027\ttest-mae:0.47207+0.00027\ttest-auc:0.83490+0.00248\n",
      "[99]\ttrain-rmse:0.35558+0.00074\ttrain-mae:0.27099+0.00075\ttrain-auc:0.90291+0.00096\ttest-rmse:0.38278+0.00133\ttest-mae:0.29194+0.00131\ttest-auc:0.86580+0.00194\n"
     ]
    },
    {
     "name": "stderr",
     "output_type": "stream",
     "text": [
      "\u001B[32m[I 2023-11-13 22:53:52,310]\u001B[0m Trial 80 finished with value: 0.8658005027730136 and parameters: {'eta': 0.1559191382682245, 'max_depth': 7, 'min_child_weight': 1.280201404230722, 'subsample': 0.9183501805062134, 'colsample_bynode': 0.7625068272868014}. Best is trial 36 with value: 0.8661423493271834.\u001B[0m\n"
     ]
    },
    {
     "name": "stdout",
     "output_type": "stream",
     "text": [
      "[0]\ttrain-rmse:0.47712+0.00007\ttrain-mae:0.47613+0.00007\ttrain-auc:0.84418+0.00041\ttest-rmse:0.47766+0.00018\ttest-mae:0.47664+0.00019\ttest-auc:0.83667+0.00205\n",
      "[99]\ttrain-rmse:0.35185+0.00095\ttrain-mae:0.26819+0.00094\ttrain-auc:0.90764+0.00123\ttest-rmse:0.38266+0.00129\ttest-mae:0.29202+0.00129\ttest-auc:0.86591+0.00186\n"
     ]
    },
    {
     "name": "stderr",
     "output_type": "stream",
     "text": [
      "\u001B[32m[I 2023-11-13 22:53:57,424]\u001B[0m Trial 81 finished with value: 0.8659083220569013 and parameters: {'eta': 0.12808656743373478, 'max_depth': 8, 'min_child_weight': 4.261047034220093, 'subsample': 0.8615083919894155, 'colsample_bynode': 0.6825481320589466}. Best is trial 36 with value: 0.8661423493271834.\u001B[0m\n"
     ]
    },
    {
     "name": "stdout",
     "output_type": "stream",
     "text": [
      "[0]\ttrain-rmse:0.47823+0.00005\ttrain-mae:0.47733+0.00005\ttrain-auc:0.84452+0.00047\ttest-rmse:0.47876+0.00018\ttest-mae:0.47785+0.00018\ttest-auc:0.83693+0.00237\n",
      "[99]\ttrain-rmse:0.35158+0.00056\ttrain-mae:0.26814+0.00062\ttrain-auc:0.90799+0.00061\ttest-rmse:0.38281+0.00146\ttest-mae:0.29223+0.00136\ttest-auc:0.86576+0.00201\n"
     ]
    },
    {
     "name": "stderr",
     "output_type": "stream",
     "text": [
      "\u001B[32m[I 2023-11-13 22:54:02,683]\u001B[0m Trial 82 finished with value: 0.865756773253459 and parameters: {'eta': 0.1212854435879469, 'max_depth': 8, 'min_child_weight': 3.2293029506984854, 'subsample': 0.8605280800090164, 'colsample_bynode': 0.7284605833677892}. Best is trial 36 with value: 0.8661423493271834.\u001B[0m\n"
     ]
    },
    {
     "name": "stdout",
     "output_type": "stream",
     "text": [
      "[0]\ttrain-rmse:0.47650+0.00008\ttrain-mae:0.47543+0.00009\ttrain-auc:0.84355+0.00060\ttest-rmse:0.47702+0.00016\ttest-mae:0.47593+0.00016\ttest-auc:0.83663+0.00147\n",
      "[99]\ttrain-rmse:0.35499+0.00030\ttrain-mae:0.27065+0.00043\ttrain-auc:0.90387+0.00037\ttest-rmse:0.38267+0.00142\ttest-mae:0.29196+0.00146\ttest-auc:0.86579+0.00208\n"
     ]
    },
    {
     "name": "stderr",
     "output_type": "stream",
     "text": [
      "\u001B[32m[I 2023-11-13 22:54:07,568]\u001B[0m Trial 83 finished with value: 0.8657888658821846 and parameters: {'eta': 0.13236761700552374, 'max_depth': 8, 'min_child_weight': 8.198554467094462, 'subsample': 0.8262345823043311, 'colsample_bynode': 0.6914965403399063}. Best is trial 36 with value: 0.8661423493271834.\u001B[0m\n"
     ]
    },
    {
     "name": "stdout",
     "output_type": "stream",
     "text": [
      "[0]\ttrain-rmse:0.48053+0.00007\ttrain-mae:0.47979+0.00007\ttrain-auc:0.83842+0.00076\ttest-rmse:0.48077+0.00020\ttest-mae:0.48002+0.00020\ttest-auc:0.83466+0.00280\n",
      "[99]\ttrain-rmse:0.36451+0.00023\ttrain-mae:0.28036+0.00027\ttrain-auc:0.89165+0.00031\ttest-rmse:0.38291+0.00144\ttest-mae:0.29455+0.00146\ttest-auc:0.86562+0.00205\n"
     ]
    },
    {
     "name": "stderr",
     "output_type": "stream",
     "text": [
      "\u001B[32m[I 2023-11-13 22:54:11,553]\u001B[0m Trial 84 finished with value: 0.8656156506979846 and parameters: {'eta': 0.11146002395438542, 'max_depth': 7, 'min_child_weight': 3.941517368635642, 'subsample': 0.9007932348348862, 'colsample_bynode': 0.661158306566262}. Best is trial 36 with value: 0.8661423493271834.\u001B[0m\n"
     ]
    },
    {
     "name": "stdout",
     "output_type": "stream",
     "text": [
      "[0]\ttrain-rmse:0.48364+0.00004\ttrain-mae:0.48316+0.00004\ttrain-auc:0.84767+0.00041\ttest-rmse:0.48420+0.00016\ttest-mae:0.48371+0.00016\ttest-auc:0.83634+0.00252\n",
      "[99]\ttrain-rmse:0.35265+0.00039\ttrain-mae:0.27006+0.00046\ttrain-auc:0.90704+0.00043\ttest-rmse:0.38292+0.00156\ttest-mae:0.29336+0.00157\ttest-auc:0.86550+0.00217\n"
     ]
    },
    {
     "name": "stderr",
     "output_type": "stream",
     "text": [
      "\u001B[32m[I 2023-11-13 22:54:18,441]\u001B[0m Trial 85 finished with value: 0.8654950204409199 and parameters: {'eta': 0.08865165086495042, 'max_depth': 9, 'min_child_weight': 6.033115779001014, 'subsample': 0.7839475674022888, 'colsample_bynode': 0.638181705560223}. Best is trial 36 with value: 0.8661423493271834.\u001B[0m\n"
     ]
    },
    {
     "name": "stdout",
     "output_type": "stream",
     "text": [
      "[0]\ttrain-rmse:0.48162+0.00005\ttrain-mae:0.48100+0.00005\ttrain-auc:0.84463+0.00035\ttest-rmse:0.48208+0.00016\ttest-mae:0.48144+0.00016\ttest-auc:0.83679+0.00218\n",
      "[99]\ttrain-rmse:0.35655+0.00034\ttrain-mae:0.27342+0.00048\ttrain-auc:0.90199+0.00041\ttest-rmse:0.38296+0.00148\ttest-mae:0.29381+0.00145\ttest-auc:0.86545+0.00206\n"
     ]
    },
    {
     "name": "stderr",
     "output_type": "stream",
     "text": [
      "\u001B[32m[I 2023-11-13 22:54:23,763]\u001B[0m Trial 86 finished with value: 0.865451669532147 and parameters: {'eta': 0.10171216677660672, 'max_depth': 8, 'min_child_weight': 4.805741745312746, 'subsample': 0.9357719273826172, 'colsample_bynode': 0.7281197818335625}. Best is trial 36 with value: 0.8661423493271834.\u001B[0m\n"
     ]
    },
    {
     "name": "stdout",
     "output_type": "stream",
     "text": [
      "[0]\ttrain-rmse:0.47681+0.00004\ttrain-mae:0.47578+0.00005\ttrain-auc:0.84403+0.00056\ttest-rmse:0.47733+0.00024\ttest-mae:0.47628+0.00024\ttest-auc:0.83732+0.00245\n",
      "[99]\ttrain-rmse:0.35569+0.00054\ttrain-mae:0.27172+0.00053\ttrain-auc:0.90318+0.00066\ttest-rmse:0.38253+0.00137\ttest-mae:0.29241+0.00151\ttest-auc:0.86608+0.00189\n"
     ]
    },
    {
     "name": "stderr",
     "output_type": "stream",
     "text": [
      "\u001B[32m[I 2023-11-13 22:54:28,599]\u001B[0m Trial 87 finished with value: 0.8660776826323872 and parameters: {'eta': 0.13030537175431225, 'max_depth': 8, 'min_child_weight': 8.933054122745613, 'subsample': 0.9737842107902676, 'colsample_bynode': 0.6692440308264288}. Best is trial 36 with value: 0.8661423493271834.\u001B[0m\n"
     ]
    },
    {
     "name": "stdout",
     "output_type": "stream",
     "text": [
      "[0]\ttrain-rmse:0.47009+0.00008\ttrain-mae:0.46838+0.00008\ttrain-auc:0.84908+0.00050\ttest-rmse:0.47111+0.00034\ttest-mae:0.46934+0.00034\ttest-auc:0.83866+0.00277\n",
      "[99]\ttrain-rmse:0.33855+0.00079\ttrain-mae:0.25570+0.00069\ttrain-auc:0.92312+0.00089\ttest-rmse:0.38311+0.00141\ttest-mae:0.28959+0.00154\ttest-auc:0.86551+0.00195\n"
     ]
    },
    {
     "name": "stderr",
     "output_type": "stream",
     "text": [
      "\u001B[32m[I 2023-11-13 22:54:34,534]\u001B[0m Trial 88 finished with value: 0.8655127952042834 and parameters: {'eta': 0.16683790611506089, 'max_depth': 9, 'min_child_weight': 9.864100298351442, 'subsample': 0.9784553422770755, 'colsample_bynode': 0.6841537898091272}. Best is trial 36 with value: 0.8661423493271834.\u001B[0m\n"
     ]
    },
    {
     "name": "stdout",
     "output_type": "stream",
     "text": [
      "[0]\ttrain-rmse:0.47520+0.00010\ttrain-mae:0.47394+0.00011\ttrain-auc:0.83730+0.00086\ttest-rmse:0.47550+0.00018\ttest-mae:0.47422+0.00019\ttest-auc:0.83359+0.00162\n",
      "[99]\ttrain-rmse:0.36302+0.00031\ttrain-mae:0.27759+0.00042\ttrain-auc:0.89348+0.00046\ttest-rmse:0.38261+0.00137\ttest-mae:0.29271+0.00127\ttest-auc:0.86596+0.00197\n"
     ]
    },
    {
     "name": "stderr",
     "output_type": "stream",
     "text": [
      "\u001B[32m[I 2023-11-13 22:54:38,330]\u001B[0m Trial 89 finished with value: 0.8659642496807102 and parameters: {'eta': 0.14478221455571455, 'max_depth': 7, 'min_child_weight': 7.865570856484383, 'subsample': 0.8107086213218682, 'colsample_bynode': 0.604857417920746}. Best is trial 36 with value: 0.8661423493271834.\u001B[0m\n"
     ]
    },
    {
     "name": "stdout",
     "output_type": "stream",
     "text": [
      "[0]\ttrain-rmse:0.47728+0.00007\ttrain-mae:0.47624+0.00007\ttrain-auc:0.83722+0.00057\ttest-rmse:0.47757+0.00021\ttest-mae:0.47652+0.00021\ttest-auc:0.83284+0.00214\n",
      "[99]\ttrain-rmse:0.36414+0.00030\ttrain-mae:0.27888+0.00048\ttrain-auc:0.89206+0.00032\ttest-rmse:0.38277+0.00145\ttest-mae:0.29323+0.00141\ttest-auc:0.86572+0.00214\n"
     ]
    },
    {
     "name": "stderr",
     "output_type": "stream",
     "text": [
      "\u001B[32m[I 2023-11-13 22:54:42,182]\u001B[0m Trial 90 finished with value: 0.8657186526746813 and parameters: {'eta': 0.1318907078013391, 'max_depth': 7, 'min_child_weight': 6.331672910666787, 'subsample': 0.7539679403931115, 'colsample_bynode': 0.6153344683268632}. Best is trial 36 with value: 0.8661423493271834.\u001B[0m\n"
     ]
    },
    {
     "name": "stdout",
     "output_type": "stream",
     "text": [
      "[0]\ttrain-rmse:0.47063+0.00007\ttrain-mae:0.46871+0.00008\ttrain-auc:0.83182+0.00031\ttest-rmse:0.47082+0.00024\ttest-mae:0.46889+0.00024\ttest-auc:0.82987+0.00179\n",
      "[99]\ttrain-rmse:0.36810+0.00023\ttrain-mae:0.28177+0.00045\ttrain-auc:0.88663+0.00025\ttest-rmse:0.38298+0.00139\ttest-mae:0.29324+0.00144\ttest-auc:0.86539+0.00199\n"
     ]
    },
    {
     "name": "stderr",
     "output_type": "stream",
     "text": [
      "\u001B[32m[I 2023-11-13 22:54:45,199]\u001B[0m Trial 91 finished with value: 0.8653885432824172 and parameters: {'eta': 0.17888764173866945, 'max_depth': 6, 'min_child_weight': 8.481689240106489, 'subsample': 0.8099955365715997, 'colsample_bynode': 0.5934778507442557}. Best is trial 36 with value: 0.8661423493271834.\u001B[0m\n"
     ]
    },
    {
     "name": "stdout",
     "output_type": "stream",
     "text": [
      "[0]\ttrain-rmse:0.47532+0.00005\ttrain-mae:0.47414+0.00005\ttrain-auc:0.84374+0.00030\ttest-rmse:0.47589+0.00027\ttest-mae:0.47468+0.00027\ttest-auc:0.83627+0.00266\n",
      "[99]\ttrain-rmse:0.35363+0.00099\ttrain-mae:0.26938+0.00092\ttrain-auc:0.90547+0.00129\ttest-rmse:0.38258+0.00142\ttest-mae:0.29166+0.00136\ttest-auc:0.86600+0.00194\n"
     ]
    },
    {
     "name": "stderr",
     "output_type": "stream",
     "text": [
      "\u001B[32m[I 2023-11-13 22:54:50,042]\u001B[0m Trial 92 finished with value: 0.8660047259200276 and parameters: {'eta': 0.13928789946441886, 'max_depth': 8, 'min_child_weight': 7.414349242930614, 'subsample': 0.8578508669686998, 'colsample_bynode': 0.665233667833782}. Best is trial 36 with value: 0.8661423493271834.\u001B[0m\n"
     ]
    },
    {
     "name": "stdout",
     "output_type": "stream",
     "text": [
      "[0]\ttrain-rmse:0.47334+0.00008\ttrain-mae:0.47195+0.00008\ttrain-auc:0.84385+0.00041\ttest-rmse:0.47398+0.00026\ttest-mae:0.47255+0.00026\ttest-auc:0.83639+0.00241\n",
      "[99]\ttrain-rmse:0.35158+0.00082\ttrain-mae:0.26727+0.00087\ttrain-auc:0.90796+0.00098\ttest-rmse:0.38283+0.00145\ttest-mae:0.29120+0.00129\ttest-auc:0.86569+0.00198\n"
     ]
    },
    {
     "name": "stderr",
     "output_type": "stream",
     "text": [
      "\u001B[32m[I 2023-11-13 22:54:54,867]\u001B[0m Trial 93 finished with value: 0.8656933316106059 and parameters: {'eta': 0.15121238176011373, 'max_depth': 8, 'min_child_weight': 6.772663404674144, 'subsample': 0.8765445031161326, 'colsample_bynode': 0.6670681492811659}. Best is trial 36 with value: 0.8661423493271834.\u001B[0m\n"
     ]
    },
    {
     "name": "stdout",
     "output_type": "stream",
     "text": [
      "[0]\ttrain-rmse:0.47174+0.00005\ttrain-mae:0.47015+0.00006\ttrain-auc:0.84341+0.00045\ttest-rmse:0.47236+0.00030\ttest-mae:0.47074+0.00031\ttest-auc:0.83675+0.00259\n",
      "[99]\ttrain-rmse:0.35079+0.00038\ttrain-mae:0.26664+0.00031\ttrain-auc:0.90905+0.00054\ttest-rmse:0.38271+0.00147\ttest-mae:0.29104+0.00144\ttest-auc:0.86581+0.00198\n"
     ]
    },
    {
     "name": "stderr",
     "output_type": "stream",
     "text": [
      "\u001B[32m[I 2023-11-13 22:54:59,602]\u001B[0m Trial 94 finished with value: 0.8658112617697254 and parameters: {'eta': 0.1614875162988286, 'max_depth': 8, 'min_child_weight': 8.859212345351944, 'subsample': 0.9609875324547561, 'colsample_bynode': 0.6280124628200048}. Best is trial 36 with value: 0.8661423493271834.\u001B[0m\n"
     ]
    },
    {
     "name": "stdout",
     "output_type": "stream",
     "text": [
      "[0]\ttrain-rmse:0.47561+0.00009\ttrain-mae:0.47440+0.00009\ttrain-auc:0.83840+0.00051\ttest-rmse:0.47597+0.00020\ttest-mae:0.47475+0.00020\ttest-auc:0.83383+0.00192\n",
      "[99]\ttrain-rmse:0.36123+0.00072\ttrain-mae:0.27622+0.00074\ttrain-auc:0.89588+0.00106\ttest-rmse:0.38266+0.00138\ttest-mae:0.29280+0.00159\ttest-auc:0.86589+0.00186\n"
     ]
    },
    {
     "name": "stderr",
     "output_type": "stream",
     "text": [
      "\u001B[32m[I 2023-11-13 22:55:03,487]\u001B[0m Trial 95 finished with value: 0.8658919740806846 and parameters: {'eta': 0.14144561216635596, 'max_depth': 7, 'min_child_weight': 5.268194262045985, 'subsample': 0.831504973133824, 'colsample_bynode': 0.7196575483643711}. Best is trial 36 with value: 0.8661423493271834.\u001B[0m\n"
     ]
    },
    {
     "name": "stdout",
     "output_type": "stream",
     "text": [
      "[0]\ttrain-rmse:0.47563+0.00008\ttrain-mae:0.47443+0.00008\ttrain-auc:0.83882+0.00057\ttest-rmse:0.47595+0.00022\ttest-mae:0.47474+0.00022\ttest-auc:0.83446+0.00247\n",
      "[99]\ttrain-rmse:0.36220+0.00068\ttrain-mae:0.27715+0.00068\ttrain-auc:0.89460+0.00094\ttest-rmse:0.38260+0.00131\ttest-mae:0.29292+0.00139\ttest-auc:0.86596+0.00180\n"
     ]
    },
    {
     "name": "stderr",
     "output_type": "stream",
     "text": [
      "\u001B[32m[I 2023-11-13 22:55:07,357]\u001B[0m Trial 96 finished with value: 0.8659568993476461 and parameters: {'eta': 0.14092206860197629, 'max_depth': 7, 'min_child_weight': 7.329496125502224, 'subsample': 0.8599908207747086, 'colsample_bynode': 0.7419826775013878}. Best is trial 36 with value: 0.8661423493271834.\u001B[0m\n"
     ]
    },
    {
     "name": "stdout",
     "output_type": "stream",
     "text": [
      "[0]\ttrain-rmse:0.47565+0.00006\ttrain-mae:0.47439+0.00006\ttrain-auc:0.83257+0.00050\ttest-rmse:0.47583+0.00021\ttest-mae:0.47456+0.00021\ttest-auc:0.83043+0.00218\n",
      "[99]\ttrain-rmse:0.36972+0.00025\ttrain-mae:0.28421+0.00030\ttrain-auc:0.88458+0.00036\ttest-rmse:0.38290+0.00150\ttest-mae:0.29446+0.00150\ttest-auc:0.86557+0.00217\n"
     ]
    },
    {
     "name": "stderr",
     "output_type": "stream",
     "text": [
      "\u001B[32m[I 2023-11-13 22:55:10,456]\u001B[0m Trial 97 finished with value: 0.865565473247841 and parameters: {'eta': 0.1454156084395345, 'max_depth': 6, 'min_child_weight': 7.345713418402331, 'subsample': 0.887414551055143, 'colsample_bynode': 0.7442513928206397}. Best is trial 36 with value: 0.8661423493271834.\u001B[0m\n"
     ]
    },
    {
     "name": "stdout",
     "output_type": "stream",
     "text": [
      "[0]\ttrain-rmse:0.46868+0.00008\ttrain-mae:0.46664+0.00008\ttrain-auc:0.84044+0.00050\ttest-rmse:0.46917+0.00031\ttest-mae:0.46710+0.00031\ttest-auc:0.83597+0.00243\n",
      "[99]\ttrain-rmse:0.35417+0.00088\ttrain-mae:0.26909+0.00092\ttrain-auc:0.90460+0.00112\ttest-rmse:0.38267+0.00156\ttest-mae:0.29100+0.00141\ttest-auc:0.86588+0.00208\n"
     ]
    },
    {
     "name": "stderr",
     "output_type": "stream",
     "text": [
      "\u001B[32m[I 2023-11-13 22:55:14,364]\u001B[0m Trial 98 finished with value: 0.8658761394016355 and parameters: {'eta': 0.18303504932178907, 'max_depth': 7, 'min_child_weight': 3.7006200902539907, 'subsample': 0.9291142347806098, 'colsample_bynode': 0.8203134030220174}. Best is trial 36 with value: 0.8661423493271834.\u001B[0m\n"
     ]
    },
    {
     "name": "stdout",
     "output_type": "stream",
     "text": [
      "[0]\ttrain-rmse:0.46643+0.00012\ttrain-mae:0.46399+0.00013\ttrain-auc:0.83843+0.00065\ttest-rmse:0.46689+0.00034\ttest-mae:0.46442+0.00034\ttest-auc:0.83425+0.00245\n",
      "[99]\ttrain-rmse:0.35715+0.00037\ttrain-mae:0.27116+0.00054\ttrain-auc:0.90084+0.00040\ttest-rmse:0.38285+0.00148\ttest-mae:0.29082+0.00145\ttest-auc:0.86564+0.00215\n"
     ]
    },
    {
     "name": "stderr",
     "output_type": "stream",
     "text": [
      "\u001B[32m[I 2023-11-13 22:55:18,068]\u001B[0m Trial 99 finished with value: 0.8656416535517601 and parameters: {'eta': 0.19985893959243514, 'max_depth': 7, 'min_child_weight': 8.79390872688145, 'subsample': 0.8590971758572177, 'colsample_bynode': 0.6936903361467216}. Best is trial 36 with value: 0.8661423493271834.\u001B[0m\n"
     ]
    },
    {
     "name": "stdout",
     "output_type": "stream",
     "text": [
      "Number of finished trials: 100\n",
      "Best trial:\n",
      "  Value: 0.8661423493271834\n",
      "  Params: \n",
      "    eta: 0.11272791382289674\n",
      "    max_depth: 8\n",
      "    min_child_weight: 6.616580824391395\n",
      "    subsample: 0.85295611404071\n",
      "    colsample_bynode: 0.6615745366763551\n"
     ]
    }
   ],
   "source": [
    "study = optuna.create_study(direction='maximize') # watch out! AUC needs to be maximized\n",
    "study.optimize(objective, n_trials=100)\n",
    "print('Number of finished trials: {}'.format(len(study.trials)))\n",
    "print('Best trial:')\n",
    "trial = study.best_trial\n",
    "\n",
    "print('  Value: {}'.format(trial.value))\n",
    "print('  Params: ')\n",
    "\n",
    "for key, value in trial.params.items():\n",
    "    print('    {}: {}'.format(key, value))"
   ],
   "metadata": {
    "collapsed": false,
    "ExecuteTime": {
     "end_time": "2023-11-13T21:55:18.106003323Z",
     "start_time": "2023-11-13T21:46:20.403372378Z"
    }
   }
  },
  {
   "cell_type": "code",
   "execution_count": 5,
   "outputs": [],
   "source": [
    "bestParams = study.best_trial.params\n",
    "bestParams[\"tree_method\"]= \"gpu_hist\"\n",
    "bestParams[\"objective\"]= \"binary:logistic\"\n",
    "model = xgb.train(\n",
    "    params=bestParams,\n",
    "    dtrain=dtrain,\n",
    "    num_boost_round=boostrounds\n",
    ")\n",
    "\n",
    "smoker_test = pd.read_csv(\"/home/rainer/Downloads/ML_datasets/smokerstatus_test.csv\")\n",
    "ids = smoker_test[\"id\"]\n",
    "smoker_test = smoker_test.drop(\"id\", axis=1)\n",
    "smoker_finalPred_matrix = xgb.DMatrix(smoker_test, enable_categorical=False)\n",
    "predictions = model.predict(smoker_finalPred_matrix)\n",
    "predictionsDf = pd.DataFrame(predictions, columns=[\"smoking\"])\n",
    "predictionsDf[\"id\"]=ids"
   ],
   "metadata": {
    "collapsed": false,
    "ExecuteTime": {
     "end_time": "2023-11-13T21:55:37.284908983Z",
     "start_time": "2023-11-13T21:55:35.996414690Z"
    }
   }
  },
  {
   "cell_type": "code",
   "execution_count": 6,
   "outputs": [
    {
     "data": {
      "text/plain": "         smoking      id\n0       0.613666  159256\n1       0.419405  159257\n2       0.532233  159258\n3       0.018213  159259\n4       0.624674  159260\n...          ...     ...\n106166  0.554497  265422\n106167  0.550642  265423\n106168  0.475382  265424\n106169  0.101239  265425\n106170  0.030184  265426\n\n[106171 rows x 2 columns]",
      "text/html": "<div>\n<style scoped>\n    .dataframe tbody tr th:only-of-type {\n        vertical-align: middle;\n    }\n\n    .dataframe tbody tr th {\n        vertical-align: top;\n    }\n\n    .dataframe thead th {\n        text-align: right;\n    }\n</style>\n<table border=\"1\" class=\"dataframe\">\n  <thead>\n    <tr style=\"text-align: right;\">\n      <th></th>\n      <th>smoking</th>\n      <th>id</th>\n    </tr>\n  </thead>\n  <tbody>\n    <tr>\n      <th>0</th>\n      <td>0.613666</td>\n      <td>159256</td>\n    </tr>\n    <tr>\n      <th>1</th>\n      <td>0.419405</td>\n      <td>159257</td>\n    </tr>\n    <tr>\n      <th>2</th>\n      <td>0.532233</td>\n      <td>159258</td>\n    </tr>\n    <tr>\n      <th>3</th>\n      <td>0.018213</td>\n      <td>159259</td>\n    </tr>\n    <tr>\n      <th>4</th>\n      <td>0.624674</td>\n      <td>159260</td>\n    </tr>\n    <tr>\n      <th>...</th>\n      <td>...</td>\n      <td>...</td>\n    </tr>\n    <tr>\n      <th>106166</th>\n      <td>0.554497</td>\n      <td>265422</td>\n    </tr>\n    <tr>\n      <th>106167</th>\n      <td>0.550642</td>\n      <td>265423</td>\n    </tr>\n    <tr>\n      <th>106168</th>\n      <td>0.475382</td>\n      <td>265424</td>\n    </tr>\n    <tr>\n      <th>106169</th>\n      <td>0.101239</td>\n      <td>265425</td>\n    </tr>\n    <tr>\n      <th>106170</th>\n      <td>0.030184</td>\n      <td>265426</td>\n    </tr>\n  </tbody>\n</table>\n<p>106171 rows × 2 columns</p>\n</div>"
     },
     "execution_count": 6,
     "metadata": {},
     "output_type": "execute_result"
    }
   ],
   "source": [
    "predictionsDf"
   ],
   "metadata": {
    "collapsed": false,
    "ExecuteTime": {
     "end_time": "2023-11-13T21:55:38.880526796Z",
     "start_time": "2023-11-13T21:55:38.870502953Z"
    }
   }
  },
  {
   "cell_type": "code",
   "execution_count": 7,
   "outputs": [],
   "source": [
    "predictionsDf.to_csv('/home/rainer/Downloads/ML_datasets/smokerstatus_test_prediction.csv', columns=['id', 'smoking'],\n",
    "                     index=False)"
   ],
   "metadata": {
    "collapsed": false,
    "ExecuteTime": {
     "end_time": "2023-11-13T21:55:48.064940972Z",
     "start_time": "2023-11-13T21:55:47.904170100Z"
    }
   }
  },
  {
   "cell_type": "code",
   "execution_count": 8,
   "outputs": [
    {
     "data": {
      "text/plain": "<Figure size 640x480 with 1 Axes>",
      "image/png": "[encoded data removed]"
     },
     "metadata": {},
     "output_type": "display_data"
    }
   ],
   "source": [
    "# plot feature importance\n",
    "from matplotlib import pyplot as plt\n",
    "xgb.plot_importance(model)\n",
    "plt.show()"
   ],
   "metadata": {
    "collapsed": false,
    "ExecuteTime": {
     "end_time": "2023-11-13T21:55:51.018057968Z",
     "start_time": "2023-11-13T21:55:50.629771597Z"
    }
   }
  },
  {
   "cell_type": "code",
   "execution_count": null,
   "outputs": [],
   "source": [],
   "metadata": {
    "collapsed": false
   }
  }
 ],
 "metadata": {
  "kernelspec": {
   "display_name": "Python 3",
   "language": "python",
   "name": "python3"
  },
  "language_info": {
   "codemirror_mode": {
    "name": "ipython",
    "version": 2
   },
   "file_extension": ".py",
   "mimetype": "text/x-python",
   "name": "python",
   "nbconvert_exporter": "python",
   "pygments_lexer": "ipython2",
   "version": "2.7.6"
  }
 },
 "nbformat": 4,
 "nbformat_minor": 0
}
