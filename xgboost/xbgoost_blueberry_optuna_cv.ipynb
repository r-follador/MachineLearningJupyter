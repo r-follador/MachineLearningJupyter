{
 "cells": [
  {
   "cell_type": "markdown",
   "source": [
    "# Prediction of Wild Blueberry Yield\n",
    "[Blueberry Yield- Playground Series S3E14](https://www.kaggle.com/competitions/playground-series-s3e14)\n",
    "\n",
    "\n",
    "    - 'clonesize', 'honeybee', 'bumbles', 'andrena', 'osmia',\n",
    "       'MaxOfUpperTRange', 'MinOfUpperTRange', 'AverageOfUpperTRange',\n",
    "       'MaxOfLowerTRange', 'MinOfLowerTRange', 'AverageOfLowerTRange',\n",
    "       'RainingDays', 'AverageRainingDays', 'fruitset', 'fruitmass', 'seeds',\n",
    "       'yield', 'dataset'\n",
    "\n",
    "- Yield\n",
    "- Dataset: 1 is current (synthethic), 2 is [original](https://www.kaggle.com/datasets/shashwatwork/wild-blueberry-yield-prediction-dataset)"
   ],
   "metadata": {
    "collapsed": false
   }
  },
  {
   "cell_type": "code",
   "execution_count": 14,
   "metadata": {
    "collapsed": true,
    "ExecuteTime": {
     "start_time": "2023-05-03T17:43:29.434495Z",
     "end_time": "2023-05-03T17:43:29.692894Z"
    }
   },
   "outputs": [],
   "source": [
    "\n",
    "import pandas as pd\n",
    "from sklearn.model_selection import train_test_split\n",
    "import xgboost as xgb\n",
    "import optuna\n",
    "\n",
    "data_train = pd.read_csv(\"/home/rainer/Downloads/ML_datasets/blueberry_train.csv\", index_col=\"id\")\n",
    "data_train[\"dataset\"]=1\n",
    "data_old = pd.read_csv(\"/home/rainer/Downloads/ML_datasets/WildBlueberryPollinationSimulationData.csv\")\n",
    "data_old = data_old.drop('Row#', axis=1)\n",
    "data_old[\"dataset\"]=2\n",
    "data_train = pd.concat([data_train, data_old])"
   ]
  },
  {
   "cell_type": "code",
   "execution_count": 15,
   "outputs": [
    {
     "data": {
      "text/plain": "clonesize               float64\nhoneybee                float64\nbumbles                 float64\nandrena                 float64\nosmia                   float64\nMaxOfUpperTRange        float64\nMinOfUpperTRange        float64\nAverageOfUpperTRange    float64\nMaxOfLowerTRange        float64\nMinOfLowerTRange        float64\nAverageOfLowerTRange    float64\nRainingDays             float64\nAverageRainingDays      float64\nfruitset                float64\nfruitmass               float64\nseeds                   float64\nyield                   float64\ndataset                   int64\ndtype: object"
     },
     "execution_count": 15,
     "metadata": {},
     "output_type": "execute_result"
    }
   ],
   "source": [
    "data_train.dtypes"
   ],
   "metadata": {
    "collapsed": false,
    "ExecuteTime": {
     "start_time": "2023-05-03T17:43:29.471238Z",
     "end_time": "2023-05-03T17:43:29.696161Z"
    }
   }
  },
  {
   "cell_type": "code",
   "execution_count": 16,
   "outputs": [],
   "source": [
    "X, Y = data_train.drop('yield', axis=1), data_train[['yield']]\n",
    "dtrain = xgb.DMatrix(X, Y, enable_categorical=False)"
   ],
   "metadata": {
    "collapsed": false,
    "ExecuteTime": {
     "start_time": "2023-05-03T17:43:29.517151Z",
     "end_time": "2023-05-03T17:43:29.696658Z"
    }
   }
  },
  {
   "cell_type": "code",
   "execution_count": 17,
   "outputs": [],
   "source": [
    "boostrounds=200\n",
    "\n",
    "def objective(trial):\n",
    "    param = {\n",
    "        'tree_method':'gpu_hist',\n",
    "        \"objective\": \"reg:squarederror\", #https://xgboost.readthedocs.io/en/stable/parameter.html#learning-task-parameters\n",
    "        'eta': trial.suggest_float('eta', 0.01, 0.5),\n",
    "        'max_depth': trial.suggest_int('max_depth', 3, 10),\n",
    "        'min_child_weight': trial.suggest_float('min_child_weight', 0.01, 10, log=True),\n",
    "        'subsample': trial.suggest_float('subsample', 0.1, 1),\n",
    "        'colsample_bynode': trial.suggest_float('colsample_bynode', 0.1, 1),\n",
    "    }\n",
    "\n",
    "\n",
    "    results = xgb.cv(\n",
    "        params=param,\n",
    "        dtrain=dtrain,\n",
    "        num_boost_round=boostrounds,\n",
    "        nfold=5,\n",
    "        early_stopping_rounds=50,\n",
    "        verbose_eval=100, # print eval every xth round\n",
    "        metrics=[\"rmse\", \"mae\"], #see \"eval_metric\"\n",
    "    )\n",
    "\n",
    "    return results.iloc[-1][\"test-rmse-mean\"]"
   ],
   "metadata": {
    "collapsed": false,
    "ExecuteTime": {
     "start_time": "2023-05-03T17:43:29.563131Z",
     "end_time": "2023-05-03T17:43:29.697325Z"
    }
   }
  },
  {
   "cell_type": "code",
   "execution_count": 18,
   "outputs": [
    {
     "name": "stderr",
     "output_type": "stream",
     "text": [
      "\u001B[32m[I 2023-05-03 17:43:29,542]\u001B[0m A new study created in memory with name: no-name-b8fdc0f7-811f-41ee-af8e-9c700e1e529b\u001B[0m\n"
     ]
    },
    {
     "name": "stdout",
     "output_type": "stream",
     "text": [
      "[0]\ttrain-rmse:4811.13275+4.53622\ttrain-mae:4682.82258+5.36577\ttest-rmse:4811.78692+18.43946\ttest-mae:4683.22415+22.15297\n",
      "[70]\ttrain-rmse:481.48381+5.38521\ttrain-mae:310.11453+2.94406\ttest-rmse:560.41530+18.36313\ttest-mae:351.84377+7.30208\n"
     ]
    },
    {
     "name": "stderr",
     "output_type": "stream",
     "text": [
      "\u001B[32m[I 2023-05-03 17:43:31,408]\u001B[0m Trial 0 finished with value: 557.6661985761706 and parameters: {'eta': 0.2229797640735916, 'max_depth': 5, 'min_child_weight': 0.016228665390832713, 'subsample': 0.6007194738642312, 'colsample_bynode': 0.6641392501111079}. Best is trial 0 with value: 557.6661985761706.\u001B[0m\n"
     ]
    },
    {
     "name": "stdout",
     "output_type": "stream",
     "text": [
      "[0]\ttrain-rmse:4284.14078+3.43669\ttrain-mae:4156.91954+4.65432\ttest-rmse:4284.49557+17.89544\ttest-mae:4156.87240+21.38950\n",
      "[68]\ttrain-rmse:433.13018+5.46685\ttrain-mae:283.05300+2.92560\ttest-rmse:571.38640+18.32055\ttest-mae:360.70316+6.81964\n"
     ]
    },
    {
     "name": "stderr",
     "output_type": "stream",
     "text": [
      "\u001B[32m[I 2023-05-03 17:43:33,133]\u001B[0m Trial 1 finished with value: 560.3156208852898 and parameters: {'eta': 0.3104945119630755, 'max_depth': 6, 'min_child_weight': 0.5760893059654519, 'subsample': 0.8624876158868648, 'colsample_bynode': 0.3992038326943794}. Best is trial 0 with value: 557.6661985761706.\u001B[0m\n"
     ]
    },
    {
     "name": "stdout",
     "output_type": "stream",
     "text": [
      "[0]\ttrain-rmse:4393.14037+4.01807\ttrain-mae:4269.83905+4.94862\ttest-rmse:4393.68208+17.66405\ttest-mae:4270.06281+21.33434\n",
      "[63]\ttrain-rmse:210.03421+1.88895\ttrain-mae:142.14186+1.25565\ttest-rmse:603.98376+19.19166\ttest-mae:391.55128+6.95422\n"
     ]
    },
    {
     "name": "stderr",
     "output_type": "stream",
     "text": [
      "\u001B[32m[I 2023-05-03 17:43:39,419]\u001B[0m Trial 2 finished with value: 569.611506581638 and parameters: {'eta': 0.2915960203619398, 'max_depth': 10, 'min_child_weight': 1.3036252896378915, 'subsample': 0.751549365536089, 'colsample_bynode': 0.8876173876359843}. Best is trial 0 with value: 557.6661985761706.\u001B[0m\n"
     ]
    },
    {
     "name": "stdout",
     "output_type": "stream",
     "text": [
      "[0]\ttrain-rmse:4119.67253+4.53303\ttrain-mae:3997.02179+5.25942\ttest-rmse:4120.83660+15.80213\ttest-mae:3997.94721+19.45950\n",
      "[67]\ttrain-rmse:513.15891+5.48051\ttrain-mae:333.29942+2.12236\ttest-rmse:570.04570+16.10835\ttest-mae:361.46175+8.90115\n"
     ]
    },
    {
     "name": "stderr",
     "output_type": "stream",
     "text": [
      "\u001B[32m[I 2023-05-03 17:43:40,497]\u001B[0m Trial 3 finished with value: 561.8597259080668 and parameters: {'eta': 0.33699416418758693, 'max_depth': 4, 'min_child_weight': 0.24009553019740448, 'subsample': 0.3458654023511878, 'colsample_bynode': 0.6209472498013702}. Best is trial 0 with value: 557.6661985761706.\u001B[0m\n"
     ]
    },
    {
     "name": "stdout",
     "output_type": "stream",
     "text": [
      "[0]\ttrain-rmse:3708.64748+4.17248\ttrain-mae:3592.41502+4.82995\ttest-rmse:3708.82377+15.81650\ttest-mae:3592.14451+19.03904\n",
      "[58]\ttrain-rmse:250.58842+2.62787\ttrain-mae:177.88315+1.98446\ttest-rmse:644.17623+13.70327\ttest-mae:428.51608+4.56127\n"
     ]
    },
    {
     "name": "stderr",
     "output_type": "stream",
     "text": [
      "\u001B[32m[I 2023-05-03 17:43:44,493]\u001B[0m Trial 4 finished with value: 581.1915180934651 and parameters: {'eta': 0.40451234978867984, 'max_depth': 9, 'min_child_weight': 0.09712761174620177, 'subsample': 0.5400251234968195, 'colsample_bynode': 0.9282414821090768}. Best is trial 0 with value: 557.6661985761706.\u001B[0m\n"
     ]
    },
    {
     "name": "stdout",
     "output_type": "stream",
     "text": [
      "[0]\ttrain-rmse:5918.60470+5.40226\ttrain-mae:5775.00588+6.36021\ttest-rmse:5918.59010+21.85969\ttest-mae:5774.99903+25.64554\n",
      "[100]\ttrain-rmse:556.89781+4.23614\ttrain-mae:353.23576+1.75096\ttest-rmse:565.78465+15.54678\ttest-mae:358.15911+5.96345\n",
      "[199]\ttrain-rmse:540.53206+4.13631\ttrain-mae:338.74462+1.45783\ttest-rmse:553.75385+17.06753\ttest-mae:346.04856+6.24972\n"
     ]
    },
    {
     "name": "stderr",
     "output_type": "stream",
     "text": [
      "\u001B[32m[I 2023-05-03 17:43:46,672]\u001B[0m Trial 5 finished with value: 553.7538473131287 and parameters: {'eta': 0.041387256810433495, 'max_depth': 3, 'min_child_weight': 7.409858065281985, 'subsample': 0.7744104601260346, 'colsample_bynode': 0.5453072223029166}. Best is trial 5 with value: 553.7538473131287.\u001B[0m\n"
     ]
    },
    {
     "name": "stdout",
     "output_type": "stream",
     "text": [
      "[0]\ttrain-rmse:5245.95003+4.55680\ttrain-mae:5107.52463+6.00306\ttest-rmse:5246.82136+20.98990\ttest-mae:5108.39570+24.46707\n",
      "[100]\ttrain-rmse:447.73494+3.22853\ttrain-mae:292.79094+1.70115\ttest-rmse:573.13656+16.13633\ttest-mae:365.88918+6.05687\n",
      "[113]\ttrain-rmse:436.05167+3.75682\ttrain-mae:286.13640+2.02935\ttest-rmse:574.55159+16.41992\ttest-mae:367.45134+5.60070\n"
     ]
    },
    {
     "name": "stderr",
     "output_type": "stream",
     "text": [
      "\u001B[32m[I 2023-05-03 17:43:51,457]\u001B[0m Trial 6 finished with value: 569.2089472443646 and parameters: {'eta': 0.15233819704606494, 'max_depth': 9, 'min_child_weight': 1.0091294379930782, 'subsample': 0.5879929805133756, 'colsample_bynode': 0.16465417800278603}. Best is trial 5 with value: 553.7538473131287.\u001B[0m\n"
     ]
    },
    {
     "name": "stdout",
     "output_type": "stream",
     "text": [
      "[0]\ttrain-rmse:5206.54609+4.41644\ttrain-mae:5067.73048+5.83128\ttest-rmse:5207.04928+20.45677\ttest-mae:5068.02393+23.84303\n",
      "[100]\ttrain-rmse:537.22077+4.25746\ttrain-mae:342.44497+1.54746\ttest-rmse:558.53577+16.21710\ttest-mae:353.41760+6.51385\n",
      "[199]\ttrain-rmse:524.32420+4.70605\ttrain-mae:333.84795+2.22793\ttest-rmse:556.82813+16.14651\ttest-mae:350.95905+6.56857\n"
     ]
    },
    {
     "name": "stderr",
     "output_type": "stream",
     "text": [
      "\u001B[32m[I 2023-05-03 17:43:53,675]\u001B[0m Trial 7 finished with value: 556.8281334541238 and parameters: {'eta': 0.1589144701941278, 'max_depth': 3, 'min_child_weight': 0.01568691674003494, 'subsample': 0.5975100743459437, 'colsample_bynode': 0.33963410685657375}. Best is trial 5 with value: 553.7538473131287.\u001B[0m\n"
     ]
    },
    {
     "name": "stdout",
     "output_type": "stream",
     "text": [
      "[0]\ttrain-rmse:5378.34506+5.10432\ttrain-mae:5242.87154+5.88851\ttest-rmse:5378.58992+20.40394\ttest-mae:5243.04297+24.22908\n",
      "[88]\ttrain-rmse:473.90581+5.62543\ttrain-mae:307.75606+2.67700\ttest-rmse:561.96408+16.72749\ttest-mae:353.23032+7.72968\n"
     ]
    },
    {
     "name": "stderr",
     "output_type": "stream",
     "text": [
      "\u001B[32m[I 2023-05-03 17:43:55,808]\u001B[0m Trial 8 finished with value: 557.0779205521605 and parameters: {'eta': 0.1299291198316227, 'max_depth': 6, 'min_child_weight': 0.8124389089406956, 'subsample': 0.344639656586681, 'colsample_bynode': 0.9634641624717583}. Best is trial 5 with value: 553.7538473131287.\u001B[0m\n"
     ]
    },
    {
     "name": "stdout",
     "output_type": "stream",
     "text": [
      "[0]\ttrain-rmse:3994.92503+3.77580\ttrain-mae:3870.56716+4.18020\ttest-rmse:3995.46811+17.01250\ttest-mae:3870.25048+20.62909\n",
      "[61]\ttrain-rmse:317.22181+4.61318\ttrain-mae:215.22729+2.96967\ttest-rmse:599.97982+19.99869\ttest-mae:388.71005+5.35067\n"
     ]
    },
    {
     "name": "stderr",
     "output_type": "stream",
     "text": [
      "\u001B[32m[I 2023-05-03 17:43:58,838]\u001B[0m Trial 9 finished with value: 569.8328941410368 and parameters: {'eta': 0.3583024424786955, 'max_depth': 8, 'min_child_weight': 0.9551047628182735, 'subsample': 0.7850087439184684, 'colsample_bynode': 0.37139167437142717}. Best is trial 5 with value: 553.7538473131287.\u001B[0m\n"
     ]
    },
    {
     "name": "stdout",
     "output_type": "stream",
     "text": [
      "[0]\ttrain-rmse:6083.20092+5.62581\ttrain-mae:5937.53607+6.59021\ttest-rmse:6083.15777+22.37463\ttest-mae:5937.52827+26.18910\n",
      "[100]\ttrain-rmse:1536.10012+1.29867\ttrain-mae:1412.13148+1.32775\ttest-rmse:1537.18856+8.71489\ttest-mae:1412.53939+8.87079\n",
      "[199]\ttrain-rmse:653.45423+3.26624\ttrain-mae:469.91417+1.49162\ttest-rmse:657.15073+13.22489\ttest-mae:472.13744+6.14215\n"
     ]
    },
    {
     "name": "stderr",
     "output_type": "stream",
     "text": [
      "\u001B[32m[I 2023-05-03 17:44:01,164]\u001B[0m Trial 10 finished with value: 657.150727414349 and parameters: {'eta': 0.014445213973335928, 'max_depth': 3, 'min_child_weight': 8.770094378425267, 'subsample': 0.12203565085109991, 'colsample_bynode': 0.7175223542314088}. Best is trial 5 with value: 553.7538473131287.\u001B[0m\n"
     ]
    },
    {
     "name": "stdout",
     "output_type": "stream",
     "text": [
      "[0]\ttrain-rmse:5994.70310+5.45840\ttrain-mae:5849.87305+6.43386\ttest-rmse:5994.68897+22.23489\ttest-mae:5849.87933+26.04558\n",
      "[100]\ttrain-rmse:644.30739+3.48377\ttrain-mae:460.47161+1.84390\ttest-rmse:650.58360+12.05435\ttest-mae:463.92790+5.28837\n",
      "[199]\ttrain-rmse:545.62897+4.12172\ttrain-mae:344.11354+1.57819\ttest-rmse:557.23538+16.30731\ttest-mae:350.28586+6.19135\n"
     ]
    },
    {
     "name": "stderr",
     "output_type": "stream",
     "text": [
      "\u001B[32m[I 2023-05-03 17:44:03,354]\u001B[0m Trial 11 finished with value: 557.2353752861075 and parameters: {'eta': 0.02893921713779677, 'max_depth': 3, 'min_child_weight': 0.02329223929144385, 'subsample': 0.9992966341244146, 'colsample_bynode': 0.4527030175322093}. Best is trial 5 with value: 553.7538473131287.\u001B[0m\n"
     ]
    },
    {
     "name": "stdout",
     "output_type": "stream",
     "text": [
      "[0]\ttrain-rmse:3302.52856+4.54284\ttrain-mae:3175.12875+3.82905\ttest-rmse:3303.96346+14.25148\ttest-mae:3176.11724+19.67725\n",
      "[100]\ttrain-rmse:510.85967+4.80727\ttrain-mae:332.09873+2.77870\ttest-rmse:574.84059+21.84966\ttest-mae:366.58907+8.66323\n",
      "[101]\ttrain-rmse:510.55290+4.81558\ttrain-mae:331.97536+2.74892\ttest-rmse:574.85058+21.76913\ttest-mae:366.77713+8.69830\n"
     ]
    },
    {
     "name": "stderr",
     "output_type": "stream",
     "text": [
      "\u001B[32m[I 2023-05-03 17:44:04,740]\u001B[0m Trial 12 finished with value: 569.5595531450459 and parameters: {'eta': 0.4738500413206258, 'max_depth': 4, 'min_child_weight': 9.769274539557475, 'subsample': 0.6710544462631111, 'colsample_bynode': 0.2862333931316442}. Best is trial 5 with value: 553.7538473131287.\u001B[0m\n"
     ]
    },
    {
     "name": "stdout",
     "output_type": "stream",
     "text": [
      "[0]\ttrain-rmse:5593.19832+5.05429\ttrain-mae:5454.11697+6.00544\ttest-rmse:5593.25530+21.06084\ttest-mae:5454.15477+24.82491\n",
      "[100]\ttrain-rmse:520.16378+5.22672\ttrain-mae:327.33726+1.97259\ttest-rmse:551.06286+17.95490\ttest-mae:343.19704+6.68950\n",
      "[194]\ttrain-rmse:501.56973+4.91534\ttrain-mae:317.67920+1.84971\ttest-rmse:550.98485+18.44881\ttest-mae:343.52553+7.29404\n"
     ]
    },
    {
     "name": "stderr",
     "output_type": "stream",
     "text": [
      "\u001B[32m[I 2023-05-03 17:44:07,319]\u001B[0m Trial 13 finished with value: 550.6716579229285 and parameters: {'eta': 0.0947151426790432, 'max_depth': 4, 'min_child_weight': 0.04714576942849707, 'subsample': 0.9195394450270624, 'colsample_bynode': 0.5454855645911181}. Best is trial 13 with value: 550.6716579229285.\u001B[0m\n"
     ]
    },
    {
     "name": "stdout",
     "output_type": "stream",
     "text": [
      "[0]\ttrain-rmse:5725.79012+5.20364\ttrain-mae:5584.86750+6.15461\ttest-rmse:5725.91708+21.40143\ttest-mae:5584.98469+25.16108\n",
      "[100]\ttrain-rmse:508.07328+5.50423\ttrain-mae:320.72037+2.22763\ttest-rmse:549.99777+18.64182\ttest-mae:342.59166+7.26415\n",
      "[199]\ttrain-rmse:483.22902+5.55410\ttrain-mae:306.84243+2.40582\ttest-rmse:550.62051+20.11647\ttest-mae:342.86518+8.04515\n"
     ]
    },
    {
     "name": "stderr",
     "output_type": "stream",
     "text": [
      "\u001B[32m[I 2023-05-03 17:44:10,583]\u001B[0m Trial 14 finished with value: 549.7525902136555 and parameters: {'eta': 0.07299914473526918, 'max_depth': 5, 'min_child_weight': 0.054707840997519054, 'subsample': 0.9922907114155167, 'colsample_bynode': 0.5067320351370952}. Best is trial 14 with value: 549.7525902136555.\u001B[0m\n"
     ]
    },
    {
     "name": "stdout",
     "output_type": "stream",
     "text": [
      "[0]\ttrain-rmse:5678.95164+5.16177\ttrain-mae:5538.62628+6.11457\ttest-rmse:5679.06920+21.24767\ttest-mae:5538.71421+24.98381\n",
      "[100]\ttrain-rmse:504.87458+4.29823\ttrain-mae:318.91786+1.87198\ttest-rmse:550.99832+17.42826\ttest-mae:343.09342+6.54664\n",
      "[147]\ttrain-rmse:490.97255+4.11541\ttrain-mae:311.24436+1.79915\ttest-rmse:551.26085+17.72408\ttest-mae:343.49004+6.87241\n"
     ]
    },
    {
     "name": "stderr",
     "output_type": "stream",
     "text": [
      "\u001B[32m[I 2023-05-03 17:44:13,123]\u001B[0m Trial 15 finished with value: 550.9677371103814 and parameters: {'eta': 0.080684530883804, 'max_depth': 5, 'min_child_weight': 0.04902674056101169, 'subsample': 0.9913261062210533, 'colsample_bynode': 0.5276396799857102}. Best is trial 14 with value: 549.7525902136555.\u001B[0m\n"
     ]
    },
    {
     "name": "stdout",
     "output_type": "stream",
     "text": [
      "[0]\ttrain-rmse:4840.69219+4.32436\ttrain-mae:4712.28200+5.23359\ttest-rmse:4840.96371+19.08745\ttest-mae:4712.21078+22.75756\n",
      "[72]\ttrain-rmse:383.38961+3.45584\ttrain-mae:250.64941+1.71655\ttest-rmse:567.03105+18.35145\ttest-mae:356.33027+6.97351\n"
     ]
    },
    {
     "name": "stderr",
     "output_type": "stream",
     "text": [
      "\u001B[32m[I 2023-05-03 17:44:15,532]\u001B[0m Trial 16 finished with value: 556.9149778111489 and parameters: {'eta': 0.21805159126021467, 'max_depth': 7, 'min_child_weight': 0.06111194404154293, 'subsample': 0.9130251845372375, 'colsample_bynode': 0.7827025227093822}. Best is trial 14 with value: 549.7525902136555.\u001B[0m\n"
     ]
    },
    {
     "name": "stdout",
     "output_type": "stream",
     "text": [
      "[0]\ttrain-rmse:5583.33232+5.07792\ttrain-mae:5444.21634+6.04650\ttest-rmse:5583.61956+21.02483\ttest-mae:5444.45118+24.70967\n",
      "[100]\ttrain-rmse:499.10975+5.29050\ttrain-mae:316.28081+2.15944\ttest-rmse:552.07363+19.38717\ttest-mae:343.83484+7.67364\n",
      "[140]\ttrain-rmse:485.79959+5.35382\ttrain-mae:309.22857+2.35211\ttest-rmse:553.04610+19.76363\ttest-mae:344.64534+7.69450\n"
     ]
    },
    {
     "name": "stderr",
     "output_type": "stream",
     "text": [
      "\u001B[32m[I 2023-05-03 17:44:17,914]\u001B[0m Trial 17 finished with value: 551.9719903582709 and parameters: {'eta': 0.09639891076284188, 'max_depth': 5, 'min_child_weight': 0.13751365611263996, 'subsample': 0.8836142632822277, 'colsample_bynode': 0.4995843619585657}. Best is trial 14 with value: 549.7525902136555.\u001B[0m\n"
     ]
    },
    {
     "name": "stdout",
     "output_type": "stream",
     "text": [
      "[0]\ttrain-rmse:5016.18633+4.38499\ttrain-mae:4884.94469+5.38555\ttest-rmse:5016.35584+19.45298\ttest-mae:4884.81429+23.17736\n",
      "[76]\ttrain-rmse:403.29828+4.05988\ttrain-mae:260.49658+2.00537\ttest-rmse:562.97435+20.54247\ttest-mae:352.81010+6.83508\n"
     ]
    },
    {
     "name": "stderr",
     "output_type": "stream",
     "text": [
      "\u001B[32m[I 2023-05-03 17:44:20,342]\u001B[0m Trial 18 finished with value: 555.0392050766735 and parameters: {'eta': 0.18930544935684707, 'max_depth': 7, 'min_child_weight': 0.0343440901154179, 'subsample': 0.9992392358828481, 'colsample_bynode': 0.6037273191688896}. Best is trial 14 with value: 549.7525902136555.\u001B[0m\n"
     ]
    },
    {
     "name": "stdout",
     "output_type": "stream",
     "text": [
      "[0]\ttrain-rmse:5577.24158+5.04437\ttrain-mae:5437.86172+6.02360\ttest-rmse:5577.36869+21.10115\ttest-mae:5437.91585+24.89159\n",
      "[100]\ttrain-rmse:520.10247+4.60014\ttrain-mae:327.89536+1.86379\ttest-rmse:552.01853+18.06838\ttest-mae:344.27666+6.33628\n",
      "[199]\ttrain-rmse:500.88617+4.60618\ttrain-mae:317.49102+2.03171\ttest-rmse:552.01232+18.23473\ttest-mae:344.37753+6.56747\n"
     ]
    },
    {
     "name": "stderr",
     "output_type": "stream",
     "text": [
      "\u001B[32m[I 2023-05-03 17:44:22,985]\u001B[0m Trial 19 finished with value: 552.0123182413463 and parameters: {'eta': 0.0974313639209074, 'max_depth': 4, 'min_child_weight': 0.011074746705178714, 'subsample': 0.8892909647589449, 'colsample_bynode': 0.49071365314288773}. Best is trial 14 with value: 549.7525902136555.\u001B[0m\n"
     ]
    },
    {
     "name": "stdout",
     "output_type": "stream",
     "text": [
      "[0]\ttrain-rmse:5686.63672+5.10702\ttrain-mae:5546.90314+6.08176\ttest-rmse:5686.66227+21.35985\ttest-mae:5546.84138+25.11145\n",
      "[100]\ttrain-rmse:476.02000+5.65452\ttrain-mae:303.35662+2.23246\ttest-rmse:551.38167+18.71598\ttest-mae:342.93061+7.02086\n",
      "[125]\ttrain-rmse:463.48015+5.80331\ttrain-mae:296.64758+2.41063\ttest-rmse:552.29218+18.91302\ttest-mae:343.94401+7.18389\n"
     ]
    },
    {
     "name": "stderr",
     "output_type": "stream",
     "text": [
      "\u001B[32m[I 2023-05-03 17:44:25,874]\u001B[0m Trial 20 finished with value: 551.033023785398 and parameters: {'eta': 0.07931736296019282, 'max_depth': 6, 'min_child_weight': 0.036494734847580326, 'subsample': 0.8159517760165447, 'colsample_bynode': 0.7618924562597238}. Best is trial 14 with value: 549.7525902136555.\u001B[0m\n"
     ]
    },
    {
     "name": "stdout",
     "output_type": "stream",
     "text": [
      "[0]\ttrain-rmse:5770.03459+5.22803\ttrain-mae:5628.76047+6.19952\ttest-rmse:5769.99251+21.53961\ttest-mae:5628.67053+25.25676\n",
      "[100]\ttrain-rmse:508.99490+5.58574\ttrain-mae:320.81760+2.24785\ttest-rmse:551.17085+18.40783\ttest-mae:342.93636+6.99378\n",
      "[190]\ttrain-rmse:487.67979+5.11483\ttrain-mae:309.05187+1.95699\ttest-rmse:551.58948+18.97464\ttest-mae:343.37587+7.14718\n"
     ]
    },
    {
     "name": "stderr",
     "output_type": "stream",
     "text": [
      "\u001B[32m[I 2023-05-03 17:44:29,043]\u001B[0m Trial 21 finished with value: 550.8317273051568 and parameters: {'eta': 0.06569839534967051, 'max_depth': 5, 'min_child_weight': 0.057995164628274566, 'subsample': 0.996942914476137, 'colsample_bynode': 0.5816413976347086}. Best is trial 14 with value: 549.7525902136555.\u001B[0m\n"
     ]
    },
    {
     "name": "stdout",
     "output_type": "stream",
     "text": [
      "[0]\ttrain-rmse:5359.13548+4.83444\ttrain-mae:5223.47657+5.84339\ttest-rmse:5359.36014+20.41250\ttest-mae:5223.58311+24.10704\n",
      "[97]\ttrain-rmse:484.12825+5.08311\ttrain-mae:308.02985+2.21576\ttest-rmse:552.21061+18.05177\ttest-mae:344.37766+6.89113\n"
     ]
    },
    {
     "name": "stderr",
     "output_type": "stream",
     "text": [
      "\u001B[32m[I 2023-05-03 17:44:30,710]\u001B[0m Trial 22 finished with value: 551.4507543303382 and parameters: {'eta': 0.13302761346309513, 'max_depth': 5, 'min_child_weight': 0.08495948938573868, 'subsample': 0.9359396059500786, 'colsample_bynode': 0.5951322647810828}. Best is trial 14 with value: 549.7525902136555.\u001B[0m\n"
     ]
    },
    {
     "name": "stdout",
     "output_type": "stream",
     "text": [
      "[0]\ttrain-rmse:5834.73805+5.30582\ttrain-mae:5692.22705+6.27168\ttest-rmse:5834.77702+21.82043\ttest-mae:5692.23940+25.64474\n",
      "[100]\ttrain-rmse:531.61291+4.54124\ttrain-mae:334.00814+1.80839\ttest-rmse:552.25395+16.63452\ttest-mae:344.69750+6.10065\n",
      "[199]\ttrain-rmse:516.98689+5.08947\ttrain-mae:325.83146+1.91758\ttest-rmse:549.97214+17.74125\ttest-mae:343.09584+6.60925\n"
     ]
    },
    {
     "name": "stderr",
     "output_type": "stream",
     "text": [
      "\u001B[32m[I 2023-05-03 17:44:33,432]\u001B[0m Trial 23 finished with value: 549.9721432299391 and parameters: {'eta': 0.055146309524180315, 'max_depth': 4, 'min_child_weight': 0.025717303394764173, 'subsample': 0.9217523443581754, 'colsample_bynode': 0.47358196730095625}. Best is trial 14 with value: 549.7525902136555.\u001B[0m\n"
     ]
    },
    {
     "name": "stdout",
     "output_type": "stream",
     "text": [
      "[0]\ttrain-rmse:5902.41655+5.35537\ttrain-mae:5759.05140+6.34017\ttest-rmse:5902.39972+22.02804\ttest-mae:5759.03177+25.83843\n",
      "[100]\ttrain-rmse:540.78436+4.30019\ttrain-mae:341.58301+1.70392\ttest-rmse:558.03076+15.74182\ttest-mae:350.65869+6.09463\n",
      "[199]\ttrain-rmse:523.54112+4.73450\ttrain-mae:329.45640+1.94516\ttest-rmse:551.29501+17.13802\ttest-mae:344.11025+6.63800\n"
     ]
    },
    {
     "name": "stderr",
     "output_type": "stream",
     "text": [
      "\u001B[32m[I 2023-05-03 17:44:36,074]\u001B[0m Trial 24 finished with value: 551.2950059487665 and parameters: {'eta': 0.04404521471577297, 'max_depth': 4, 'min_child_weight': 0.024796366809810535, 'subsample': 0.8399845010719864, 'colsample_bynode': 0.4321845673727212}. Best is trial 14 with value: 549.7525902136555.\u001B[0m\n"
     ]
    },
    {
     "name": "stdout",
     "output_type": "stream",
     "text": [
      "[0]\ttrain-rmse:5482.73964+4.94746\ttrain-mae:5344.44362+5.91896\ttest-rmse:5482.77534+20.78178\ttest-mae:5344.39016+24.57714\n",
      "[100]\ttrain-rmse:516.93691+5.89580\ttrain-mae:325.90385+2.38668\ttest-rmse:551.96674+16.99843\ttest-mae:344.90710+6.52836\n",
      "[150]\ttrain-rmse:505.40693+5.91086\ttrain-mae:319.86802+2.32728\ttest-rmse:552.29564+17.67000\ttest-mae:345.12300+7.27003\n"
     ]
    },
    {
     "name": "stderr",
     "output_type": "stream",
     "text": [
      "\u001B[32m[I 2023-05-03 17:44:38,209]\u001B[0m Trial 25 finished with value: 551.8179952729021 and parameters: {'eta': 0.11294985764019844, 'max_depth': 4, 'min_child_weight': 0.03073246423385596, 'subsample': 0.9109706412743537, 'colsample_bynode': 0.47251390517137487}. Best is trial 14 with value: 549.7525902136555.\u001B[0m\n"
     ]
    },
    {
     "name": "stdout",
     "output_type": "stream",
     "text": [
      "[0]\ttrain-rmse:6093.49085+5.57960\ttrain-mae:5947.77817+6.54862\ttest-rmse:6093.46768+22.46834\ttest-mae:5947.78651+26.26439\n",
      "[100]\ttrain-rmse:1788.39328+1.03583\ttrain-mae:1673.44152+1.28836\ttest-rmse:1790.49507+9.82938\ttest-mae:1674.28400+10.85091\n",
      "[199]\ttrain-rmse:729.23455+2.87332\ttrain-mae:567.34170+1.44204\ttest-rmse:737.58181+10.77245\ttest-mae:571.47516+3.97641\n"
     ]
    },
    {
     "name": "stderr",
     "output_type": "stream",
     "text": [
      "\u001B[32m[I 2023-05-03 17:44:40,902]\u001B[0m Trial 26 finished with value: 737.5818094881895 and parameters: {'eta': 0.012684956470366243, 'max_depth': 4, 'min_child_weight': 0.1451521639122675, 'subsample': 0.7276712881552774, 'colsample_bynode': 0.5392702901640108}. Best is trial 14 with value: 549.7525902136555.\u001B[0m\n"
     ]
    },
    {
     "name": "stdout",
     "output_type": "stream",
     "text": [
      "[0]\ttrain-rmse:5810.68154+5.28582\ttrain-mae:5669.20568+6.24201\ttest-rmse:5810.67196+21.64311\ttest-mae:5669.14391+25.40696\n",
      "[100]\ttrain-rmse:490.25840+4.90945\ttrain-mae:310.34409+2.10044\ttest-rmse:551.12729+18.25750\ttest-mae:341.80321+7.37643\n",
      "[155]\ttrain-rmse:467.92790+4.85636\ttrain-mae:298.54656+2.32220\ttest-rmse:551.28143+18.77232\ttest-mae:342.52737+7.76291\n"
     ]
    },
    {
     "name": "stderr",
     "output_type": "stream",
     "text": [
      "\u001B[32m[I 2023-05-03 17:44:44,501]\u001B[0m Trial 27 finished with value: 551.0823790614396 and parameters: {'eta': 0.05898369493905914, 'max_depth': 6, 'min_child_weight': 0.011720653403295771, 'subsample': 0.8365323856194967, 'colsample_bynode': 0.6717614333720803}. Best is trial 14 with value: 549.7525902136555.\u001B[0m\n"
     ]
    },
    {
     "name": "stdout",
     "output_type": "stream",
     "text": [
      "[0]\ttrain-rmse:5054.20488+4.31368\ttrain-mae:4920.23707+5.48967\ttest-rmse:5054.50356+20.15378\ttest-mae:4920.29305+23.70101\n",
      "[100]\ttrain-rmse:483.57332+5.83626\ttrain-mae:308.65816+1.96027\ttest-rmse:555.05842+18.25619\ttest-mae:347.79591+7.02523\n",
      "[110]\ttrain-rmse:478.83150+5.63771\ttrain-mae:306.19532+1.86053\ttest-rmse:555.36617+18.36573\ttest-mae:348.05469+6.88373\n"
     ]
    },
    {
     "name": "stderr",
     "output_type": "stream",
     "text": [
      "\u001B[32m[I 2023-05-03 17:44:46,559]\u001B[0m Trial 28 finished with value: 553.5387154485772 and parameters: {'eta': 0.18348871960865004, 'max_depth': 5, 'min_child_weight': 0.021790089310211123, 'subsample': 0.9468565167771409, 'colsample_bynode': 0.3133540355200126}. Best is trial 14 with value: 549.7525902136555.\u001B[0m\n"
     ]
    },
    {
     "name": "stdout",
     "output_type": "stream",
     "text": [
      "[0]\ttrain-rmse:5485.04015+4.92833\ttrain-mae:5345.45037+5.93055\ttest-rmse:5484.98146+20.80295\ttest-mae:5345.35039+24.65509\n",
      "[100]\ttrain-rmse:536.02012+4.41652\ttrain-mae:338.65419+1.98820\ttest-rmse:554.03766+15.81128\ttest-mae:348.13309+5.68617\n",
      "[199]\ttrain-rmse:524.07534+4.79745\ttrain-mae:331.27475+2.01731\ttest-rmse:552.13881+16.35932\ttest-mae:346.07093+5.93539\n"
     ]
    },
    {
     "name": "stderr",
     "output_type": "stream",
     "text": [
      "\u001B[32m[I 2023-05-03 17:44:48,828]\u001B[0m Trial 29 finished with value: 552.1388051525776 and parameters: {'eta': 0.11271626512074809, 'max_depth': 3, 'min_child_weight': 0.01530937274244102, 'subsample': 0.9324813697173413, 'colsample_bynode': 0.428962697314132}. Best is trial 14 with value: 549.7525902136555.\u001B[0m\n"
     ]
    },
    {
     "name": "stdout",
     "output_type": "stream",
     "text": [
      "[0]\ttrain-rmse:5780.38291+5.21152\ttrain-mae:5639.14004+6.21406\ttest-rmse:5780.42537+21.52546\ttest-mae:5639.14191+25.26301\n",
      "[100]\ttrain-rmse:461.50432+5.81406\ttrain-mae:294.76181+2.31451\ttest-rmse:552.77802+18.63442\ttest-mae:342.77987+7.15312\n",
      "[144]\ttrain-rmse:435.55728+6.17956\ttrain-mae:280.48543+2.60340\ttest-rmse:554.46748+19.62027\ttest-mae:344.55522+7.38844\n"
     ]
    },
    {
     "name": "stderr",
     "output_type": "stream",
     "text": [
      "\u001B[32m[I 2023-05-03 17:44:53,345]\u001B[0m Trial 30 finished with value: 552.6776385253612 and parameters: {'eta': 0.06397686628229246, 'max_depth': 7, 'min_child_weight': 0.019850345643572027, 'subsample': 0.8236385947423526, 'colsample_bynode': 0.6427444045419517}. Best is trial 14 with value: 549.7525902136555.\u001B[0m\n"
     ]
    },
    {
     "name": "stdout",
     "output_type": "stream",
     "text": [
      "[0]\ttrain-rmse:5799.66815+5.27297\ttrain-mae:5657.96983+6.24838\ttest-rmse:5799.68601+21.63478\ttest-mae:5657.98071+25.35703\n",
      "[100]\ttrain-rmse:510.93339+5.07140\ttrain-mae:321.86297+2.14143\ttest-rmse:550.40350+17.24641\ttest-mae:342.32410+6.30362\n",
      "[147]\ttrain-rmse:498.86662+5.19392\ttrain-mae:315.55667+2.21482\ttest-rmse:550.22084+17.60250\ttest-mae:342.42340+6.43260\n"
     ]
    },
    {
     "name": "stderr",
     "output_type": "stream",
     "text": [
      "\u001B[32m[I 2023-05-03 17:44:55,964]\u001B[0m Trial 31 finished with value: 550.3880905517019 and parameters: {'eta': 0.06083537512836381, 'max_depth': 5, 'min_child_weight': 0.045126370223183956, 'subsample': 0.9529375652520149, 'colsample_bynode': 0.5794498466625272}. Best is trial 14 with value: 549.7525902136555.\u001B[0m\n"
     ]
    },
    {
     "name": "stdout",
     "output_type": "stream",
     "text": [
      "[0]\ttrain-rmse:5924.38986+5.39850\ttrain-mae:5781.03994+6.36356\ttest-rmse:5924.36484+21.98538\ttest-mae:5781.01553+25.73520\n",
      "[100]\ttrain-rmse:532.04229+4.51190\ttrain-mae:338.64575+1.84472\ttest-rmse:560.28063+16.10989\ttest-mae:353.15019+6.35579\n",
      "[199]\ttrain-rmse:502.63340+4.95701\ttrain-mae:317.54039+2.10870\ttest-rmse:550.05783+17.91712\ttest-mae:342.06807+6.90439\n"
     ]
    },
    {
     "name": "stderr",
     "output_type": "stream",
     "text": [
      "\u001B[32m[I 2023-05-03 17:44:59,373]\u001B[0m Trial 32 finished with value: 550.0578257370832 and parameters: {'eta': 0.040402428688776144, 'max_depth': 5, 'min_child_weight': 0.04457114893718149, 'subsample': 0.8629478949646345, 'colsample_bynode': 0.5469072530781298}. Best is trial 14 with value: 549.7525902136555.\u001B[0m\n"
     ]
    },
    {
     "name": "stdout",
     "output_type": "stream",
     "text": [
      "[0]\ttrain-rmse:5937.49590+5.39124\ttrain-mae:5793.70336+6.36800\ttest-rmse:5937.54288+22.08060\ttest-mae:5793.72487+25.84798\n",
      "[100]\ttrain-rmse:528.34578+4.88305\ttrain-mae:340.78717+2.26671\ttest-rmse:565.16717+15.63303\ttest-mae:360.16070+6.05827\n",
      "[199]\ttrain-rmse:487.64656+5.07293\ttrain-mae:309.07965+2.01456\ttest-rmse:550.46302+17.89214\ttest-mae:342.66889+6.67785\n"
     ]
    },
    {
     "name": "stderr",
     "output_type": "stream",
     "text": [
      "\u001B[32m[I 2023-05-03 17:45:03,657]\u001B[0m Trial 33 finished with value: 550.4630206547245 and parameters: {'eta': 0.03831392021548011, 'max_depth': 6, 'min_child_weight': 0.03689218717416364, 'subsample': 0.8805232235983825, 'colsample_bynode': 0.39992227519254375}. Best is trial 14 with value: 549.7525902136555.\u001B[0m\n"
     ]
    },
    {
     "name": "stdout",
     "output_type": "stream",
     "text": [
      "[0]\ttrain-rmse:6053.22085+5.53626\ttrain-mae:5908.18747+6.50622\ttest-rmse:6053.20333+22.37944\ttest-mae:5908.17802+26.17116\n",
      "[100]\ttrain-rmse:1021.03465+2.03529\ttrain-mae:887.83181+0.74664\ttest-rmse:1029.73425+8.62098\ttest-mae:892.29271+4.87295\n",
      "[199]\ttrain-rmse:538.80966+4.74297\ttrain-mae:346.18383+1.80888\ttest-rmse:566.63343+15.99464\ttest-mae:360.15292+6.57554\n"
     ]
    },
    {
     "name": "stderr",
     "output_type": "stream",
     "text": [
      "\u001B[32m[I 2023-05-03 17:45:07,121]\u001B[0m Trial 34 finished with value: 566.6334299534471 and parameters: {'eta': 0.019268799642845415, 'max_depth': 5, 'min_child_weight': 0.09226455655104315, 'subsample': 0.8635870699225993, 'colsample_bynode': 0.6740100211252521}. Best is trial 14 with value: 549.7525902136555.\u001B[0m\n"
     ]
    },
    {
     "name": "stdout",
     "output_type": "stream",
     "text": [
      "[0]\ttrain-rmse:5786.68401+5.28417\ttrain-mae:5645.18523+6.26421\ttest-rmse:5786.93979+21.58538\ttest-mae:5645.45815+25.30193\n",
      "[100]\ttrain-rmse:493.65719+4.84635\ttrain-mae:312.89574+2.12218\ttest-rmse:551.45851+18.59725\ttest-mae:342.61590+7.35655\n",
      "[139]\ttrain-rmse:478.42790+4.83918\ttrain-mae:305.10266+2.29309\ttest-rmse:552.31239+19.15603\ttest-mae:343.70072+7.62697\n"
     ]
    },
    {
     "name": "stderr",
     "output_type": "stream",
     "text": [
      "\u001B[32m[I 2023-05-03 17:45:10,282]\u001B[0m Trial 35 finished with value: 551.4053116930929 and parameters: {'eta': 0.0630137672835694, 'max_depth': 6, 'min_child_weight': 0.06664487239849072, 'subsample': 0.7185787716091714, 'colsample_bynode': 0.49861971066185207}. Best is trial 14 with value: 549.7525902136555.\u001B[0m\n"
     ]
    },
    {
     "name": "stdout",
     "output_type": "stream",
     "text": [
      "[0]\ttrain-rmse:5889.89899+5.36995\ttrain-mae:5746.98400+6.34478\ttest-rmse:5889.89461+21.88441\ttest-mae:5746.98050+25.62608\n",
      "[100]\ttrain-rmse:521.97958+4.87175\ttrain-mae:329.06739+1.97188\ttest-rmse:553.88685+16.89984\ttest-mae:345.09764+6.48137\n",
      "[199]\ttrain-rmse:498.57784+4.90197\ttrain-mae:315.14713+2.21685\ttest-rmse:550.36628+18.04182\ttest-mae:342.13255+6.81510\n"
     ]
    },
    {
     "name": "stderr",
     "output_type": "stream",
     "text": [
      "\u001B[32m[I 2023-05-03 17:45:13,646]\u001B[0m Trial 36 finished with value: 550.3662796849583 and parameters: {'eta': 0.04604551837883706, 'max_depth': 5, 'min_child_weight': 0.25698231763401647, 'subsample': 0.9538160681908421, 'colsample_bynode': 0.5782290025726751}. Best is trial 14 with value: 549.7525902136555.\u001B[0m\n"
     ]
    },
    {
     "name": "stdout",
     "output_type": "stream",
     "text": [
      "[0]\ttrain-rmse:4588.30428+4.01329\ttrain-mae:4461.83692+5.18739\ttest-rmse:4588.44116+18.18895\ttest-mae:4461.49695+21.63100\n",
      "[68]\ttrain-rmse:470.47573+5.32411\ttrain-mae:302.56625+2.51803\ttest-rmse:562.03119+20.09590\ttest-mae:352.46403+8.33571\n"
     ]
    },
    {
     "name": "stderr",
     "output_type": "stream",
     "text": [
      "\u001B[32m[I 2023-05-03 17:45:14,983]\u001B[0m Trial 37 finished with value: 556.5157725825189 and parameters: {'eta': 0.2596634757302289, 'max_depth': 5, 'min_child_weight': 0.3439580231637694, 'subsample': 0.8745995802822614, 'colsample_bynode': 0.6399466218327494}. Best is trial 14 with value: 549.7525902136555.\u001B[0m\n"
     ]
    },
    {
     "name": "stdout",
     "output_type": "stream",
     "text": [
      "[0]\ttrain-rmse:5923.50707+5.36193\ttrain-mae:5779.88962+6.34111\ttest-rmse:5923.48892+22.10546\ttest-mae:5779.85554+25.91757\n",
      "[100]\ttrain-rmse:546.96439+4.17074\ttrain-mae:348.03543+1.57623\ttest-rmse:562.60915+16.11694\ttest-mae:356.45288+6.52339\n",
      "[199]\ttrain-rmse:525.22247+4.60111\ttrain-mae:330.43250+1.68084\ttest-rmse:551.52088+17.66441\ttest-mae:344.36278+6.93494\n"
     ]
    },
    {
     "name": "stderr",
     "output_type": "stream",
     "text": [
      "\u001B[32m[I 2023-05-03 17:45:17,720]\u001B[0m Trial 38 finished with value: 551.5208757156977 and parameters: {'eta': 0.0405991350540871, 'max_depth': 4, 'min_child_weight': 0.21539124750010094, 'subsample': 0.7812271010107836, 'colsample_bynode': 0.45869532242329136}. Best is trial 14 with value: 549.7525902136555.\u001B[0m\n"
     ]
    },
    {
     "name": "stdout",
     "output_type": "stream",
     "text": [
      "[0]\ttrain-rmse:5347.68431+4.80139\ttrain-mae:5211.97652+5.81786\ttest-rmse:5347.63567+20.28900\ttest-mae:5211.80361+23.92856\n",
      "[91]\ttrain-rmse:454.06019+5.80029\ttrain-mae:290.88874+3.09640\ttest-rmse:556.02140+19.34799\ttest-mae:346.73768+7.89261\n"
     ]
    },
    {
     "name": "stderr",
     "output_type": "stream",
     "text": [
      "\u001B[32m[I 2023-05-03 17:45:19,896]\u001B[0m Trial 39 finished with value: 552.7234788260558 and parameters: {'eta': 0.13495997258494247, 'max_depth': 6, 'min_child_weight': 0.12236953199771974, 'subsample': 0.9582547429396499, 'colsample_bynode': 0.5751912484724206}. Best is trial 14 with value: 549.7525902136555.\u001B[0m\n"
     ]
    },
    {
     "name": "stdout",
     "output_type": "stream",
     "text": [
      "[0]\ttrain-rmse:5229.07609+4.63063\ttrain-mae:5093.74198+5.51961\ttest-rmse:5229.51835+20.45717\ttest-mae:5094.08553+24.31503\n",
      "[86]\ttrain-rmse:374.41870+4.47202\ttrain-mae:245.78818+1.71071\ttest-rmse:568.65028+18.26685\ttest-mae:358.74990+7.82773\n"
     ]
    },
    {
     "name": "stderr",
     "output_type": "stream",
     "text": [
      "\u001B[32m[I 2023-05-03 17:45:23,748]\u001B[0m Trial 40 finished with value: 559.0030512698827 and parameters: {'eta': 0.15475399199830323, 'max_depth': 8, 'min_child_weight': 0.4929584783534509, 'subsample': 0.8079864304632838, 'colsample_bynode': 0.36305206239623}. Best is trial 14 with value: 549.7525902136555.\u001B[0m\n"
     ]
    },
    {
     "name": "stdout",
     "output_type": "stream",
     "text": [
      "[0]\ttrain-rmse:6098.04566+5.58261\ttrain-mae:5952.27839+6.54963\ttest-rmse:6098.01238+22.48039\ttest-mae:5952.27415+26.27450\n",
      "[100]\ttrain-rmse:1914.66425+1.19799\ttrain-mae:1803.83947+1.50593\ttest-rmse:1917.74210+10.43373\ttest-mae:1805.05991+11.68933\n",
      "[199]\ttrain-rmse:776.48136+2.86895\ttrain-mae:625.90339+1.21827\ttest-rmse:789.87632+10.29765\ttest-mae:632.79867+3.51711\n"
     ]
    },
    {
     "name": "stderr",
     "output_type": "stream",
     "text": [
      "\u001B[32m[I 2023-05-03 17:45:27,149]\u001B[0m Trial 41 finished with value: 789.8763179095433 and parameters: {'eta': 0.01193269244503796, 'max_depth': 5, 'min_child_weight': 0.07643235281196192, 'subsample': 0.9464884036735657, 'colsample_bynode': 0.5644858886585365}. Best is trial 14 with value: 549.7525902136555.\u001B[0m\n"
     ]
    },
    {
     "name": "stdout",
     "output_type": "stream",
     "text": [
      "[0]\ttrain-rmse:5862.08746+5.32964\ttrain-mae:5719.41043+6.29516\ttest-rmse:5862.15171+21.82459\ttest-mae:5719.47898+25.60383\n",
      "[100]\ttrain-rmse:518.17364+5.00886\ttrain-mae:326.35752+2.24301\ttest-rmse:552.51447+16.20885\ttest-mae:343.80252+6.54356\n",
      "[199]\ttrain-rmse:496.05034+5.56398\ttrain-mae:313.95814+2.45170\ttest-rmse:551.07155+17.72626\ttest-mae:342.72117+7.15903\n"
     ]
    },
    {
     "name": "stderr",
     "output_type": "stream",
     "text": [
      "\u001B[32m[I 2023-05-03 17:45:30,466]\u001B[0m Trial 42 finished with value: 551.0715474719902 and parameters: {'eta': 0.050636510364719264, 'max_depth': 5, 'min_child_weight': 0.043432418651823984, 'subsample': 0.96107542993061, 'colsample_bynode': 0.5158039723920025}. Best is trial 14 with value: 549.7525902136555.\u001B[0m\n"
     ]
    },
    {
     "name": "stdout",
     "output_type": "stream",
     "text": [
      "[0]\ttrain-rmse:5717.26182+5.17915\ttrain-mae:5576.76603+6.16119\ttest-rmse:5717.33055+21.30095\ttest-mae:5576.81682+25.07967\n",
      "[100]\ttrain-rmse:524.22528+5.39464\ttrain-mae:329.49390+2.11202\ttest-rmse:552.40884+17.54602\ttest-mae:343.62258+6.56715\n",
      "[199]\ttrain-rmse:507.11302+4.93906\ttrain-mae:320.51071+2.14859\ttest-rmse:551.89558+18.24596\ttest-mae:343.42955+7.10075\n"
     ]
    },
    {
     "name": "stderr",
     "output_type": "stream",
     "text": [
      "\u001B[32m[I 2023-05-03 17:45:33,169]\u001B[0m Trial 43 finished with value: 551.8955777028606 and parameters: {'eta': 0.07432668805327185, 'max_depth': 4, 'min_child_weight': 0.054862834742184195, 'subsample': 0.8479400573998899, 'colsample_bynode': 0.6154748495694488}. Best is trial 14 with value: 549.7525902136555.\u001B[0m\n"
     ]
    },
    {
     "name": "stdout",
     "output_type": "stream",
     "text": [
      "[0]\ttrain-rmse:5953.80918+5.43116\ttrain-mae:5810.08628+6.40463\ttest-rmse:5953.78774+22.07254\ttest-mae:5810.07290+25.83610\n",
      "[100]\ttrain-rmse:536.50425+4.82354\ttrain-mae:351.89641+2.18723\ttest-rmse:574.95358+15.18644\ttest-mae:371.66036+6.19362\n",
      "[199]\ttrain-rmse:483.61767+5.20316\ttrain-mae:306.51427+2.24759\ttest-rmse:550.51891+17.76275\ttest-mae:341.85469+6.65114\n"
     ]
    },
    {
     "name": "stderr",
     "output_type": "stream",
     "text": [
      "\u001B[32m[I 2023-05-03 17:45:37,575]\u001B[0m Trial 44 finished with value: 550.5189135881003 and parameters: {'eta': 0.03557496243627249, 'max_depth': 6, 'min_child_weight': 0.10168615833536089, 'subsample': 0.901859188613704, 'colsample_bynode': 0.55252136422957}. Best is trial 14 with value: 549.7525902136555.\u001B[0m\n"
     ]
    },
    {
     "name": "stdout",
     "output_type": "stream",
     "text": [
      "[0]\ttrain-rmse:5494.41931+4.95647\ttrain-mae:5355.17916+5.90642\ttest-rmse:5494.40946+20.57150\ttest-mae:5355.15278+24.43118\n",
      "[100]\ttrain-rmse:535.20508+4.38868\ttrain-mae:337.55086+1.85459\ttest-rmse:554.32941+16.55792\ttest-mae:347.69778+6.36025\n",
      "[199]\ttrain-rmse:522.99318+4.47643\ttrain-mae:330.15777+1.76412\ttest-rmse:552.04866+17.12711\ttest-mae:345.88244+6.76651\n"
     ]
    },
    {
     "name": "stderr",
     "output_type": "stream",
     "text": [
      "\u001B[32m[I 2023-05-03 17:45:39,907]\u001B[0m Trial 45 finished with value: 552.0486600859741 and parameters: {'eta': 0.11109988949867827, 'max_depth': 3, 'min_child_weight': 0.026957407649282932, 'subsample': 0.9592185492890349, 'colsample_bynode': 0.48034275225934076}. Best is trial 14 with value: 549.7525902136555.\u001B[0m\n"
     ]
    },
    {
     "name": "stdout",
     "output_type": "stream",
     "text": [
      "[0]\ttrain-rmse:5836.38002+5.24777\ttrain-mae:5693.69693+6.26889\ttest-rmse:5836.42886+21.76183\ttest-mae:5693.71754+25.49548\n",
      "[100]\ttrain-rmse:519.59696+4.95606\ttrain-mae:327.77901+2.00705\ttest-rmse:552.56437+17.49700\ttest-mae:344.84923+6.53099\n",
      "[199]\ttrain-rmse:498.20549+5.26023\ttrain-mae:315.75547+2.10936\ttest-rmse:550.94260+18.21264\ttest-mae:343.63571+6.72410\n"
     ]
    },
    {
     "name": "stderr",
     "output_type": "stream",
     "text": [
      "\u001B[32m[I 2023-05-03 17:45:43,143]\u001B[0m Trial 46 finished with value: 550.9426025386335 and parameters: {'eta': 0.05493545975254001, 'max_depth': 5, 'min_child_weight': 0.01654334107069208, 'subsample': 0.8582613121429586, 'colsample_bynode': 0.40881564662192293}. Best is trial 14 with value: 549.7525902136555.\u001B[0m\n"
     ]
    },
    {
     "name": "stdout",
     "output_type": "stream",
     "text": [
      "[0]\ttrain-rmse:5646.18347+5.12580\ttrain-mae:5506.03995+6.10263\ttest-rmse:5646.26335+21.23562\ttest-mae:5506.03487+25.00531\n",
      "[100]\ttrain-rmse:523.08834+4.86576\ttrain-mae:329.59103+1.93267\ttest-rmse:552.21493+18.54713\ttest-mae:344.31075+6.83052\n",
      "[185]\ttrain-rmse:506.96490+4.89073\ttrain-mae:321.26127+1.86918\ttest-rmse:552.07687+18.54408\ttest-mae:344.57863+7.16599\n"
     ]
    },
    {
     "name": "stderr",
     "output_type": "stream",
     "text": [
      "\u001B[32m[I 2023-05-03 17:45:45,634]\u001B[0m Trial 47 finished with value: 551.6911212998498 and parameters: {'eta': 0.0861122759461588, 'max_depth': 4, 'min_child_weight': 0.190685473798674, 'subsample': 0.758636937990019, 'colsample_bynode': 0.5158450137090287}. Best is trial 14 with value: 549.7525902136555.\u001B[0m\n"
     ]
    },
    {
     "name": "stdout",
     "output_type": "stream",
     "text": [
      "[0]\ttrain-rmse:5990.99731+5.46578\ttrain-mae:5846.79735+6.43185\ttest-rmse:5990.98906+22.18052\ttest-mae:5846.78391+25.96761\n",
      "[100]\ttrain-rmse:546.12459+3.59837\ttrain-mae:400.88243+1.67997\ttest-rmse:637.56088+13.77298\ttest-mae:450.64617+5.72282\n",
      "[199]\ttrain-rmse:365.75498+5.00775\ttrain-mae:236.28714+2.47265\ttest-rmse:558.48629+18.62904\ttest-mae:346.76111+6.77217\n"
     ]
    },
    {
     "name": "stderr",
     "output_type": "stream",
     "text": [
      "\u001B[32m[I 2023-05-03 17:46:02,490]\u001B[0m Trial 48 finished with value: 558.4862883527162 and parameters: {'eta': 0.02945971498735714, 'max_depth': 10, 'min_child_weight': 0.04206128766893788, 'subsample': 0.9677504954982968, 'colsample_bynode': 0.610754870650416}. Best is trial 14 with value: 549.7525902136555.\u001B[0m\n"
     ]
    },
    {
     "name": "stdout",
     "output_type": "stream",
     "text": [
      "[0]\ttrain-rmse:5689.08849+5.13824\ttrain-mae:5548.64812+6.13217\ttest-rmse:5689.16242+21.58066\ttest-mae:5548.62811+25.36210\n",
      "[100]\ttrain-rmse:507.12385+5.43157\ttrain-mae:320.39655+2.26244\ttest-rmse:551.09352+17.46060\ttest-mae:343.53945+6.95348\n",
      "[152]\ttrain-rmse:492.08243+5.18235\ttrain-mae:312.19113+2.27421\ttest-rmse:551.65424+17.70746\ttest-mae:343.69285+7.32843\n"
     ]
    },
    {
     "name": "stderr",
     "output_type": "stream",
     "text": [
      "\u001B[32m[I 2023-05-03 17:46:05,093]\u001B[0m Trial 49 finished with value: 550.9142608959461 and parameters: {'eta': 0.07904450594825281, 'max_depth': 5, 'min_child_weight': 0.07615033479175938, 'subsample': 0.9184999089447726, 'colsample_bynode': 0.4436920597275483}. Best is trial 14 with value: 549.7525902136555.\u001B[0m\n"
     ]
    },
    {
     "name": "stdout",
     "output_type": "stream",
     "text": [
      "[0]\ttrain-rmse:6099.53699+5.58053\ttrain-mae:5953.76390+6.55429\ttest-rmse:6099.51517+22.50204\ttest-mae:5953.77398+26.29406\n",
      "[100]\ttrain-rmse:1957.54841+1.31848\ttrain-mae:1848.32966+1.51972\ttest-rmse:1961.56207+10.67438\ttest-mae:1850.09178+12.20734\n",
      "[199]\ttrain-rmse:785.75026+2.91647\ttrain-mae:643.41732+1.30249\ttest-rmse:810.44959+10.06984\ttest-mae:656.54353+3.41939\n"
     ]
    },
    {
     "name": "stderr",
     "output_type": "stream",
     "text": [
      "\u001B[32m[I 2023-05-03 17:46:10,521]\u001B[0m Trial 50 finished with value: 810.4495921693044 and parameters: {'eta': 0.011692331933147011, 'max_depth': 7, 'min_child_weight': 0.030926267954505097, 'subsample': 0.8942160020835113, 'colsample_bynode': 0.5605199630388027}. Best is trial 14 with value: 549.7525902136555.\u001B[0m\n"
     ]
    },
    {
     "name": "stdout",
     "output_type": "stream",
     "text": [
      "[0]\ttrain-rmse:5949.08816+5.40459\ttrain-mae:5805.13186+6.39082\ttest-rmse:5949.14951+22.12022\ttest-mae:5805.17996+25.88055\n",
      "[100]\ttrain-rmse:537.09425+4.91601\ttrain-mae:350.47904+2.15065\ttest-rmse:572.32578+14.89644\ttest-mae:368.59195+6.71842\n",
      "[199]\ttrain-rmse:490.05815+4.90843\ttrain-mae:310.46191+2.08435\ttest-rmse:550.86960+17.11912\ttest-mae:342.30791+6.67362\n"
     ]
    },
    {
     "name": "stderr",
     "output_type": "stream",
     "text": [
      "\u001B[32m[I 2023-05-03 17:46:15,064]\u001B[0m Trial 51 finished with value: 550.8696029037919 and parameters: {'eta': 0.036414750712725506, 'max_depth': 6, 'min_child_weight': 0.03913811951571642, 'subsample': 0.8735545462399024, 'colsample_bynode': 0.40360868883615564}. Best is trial 14 with value: 549.7525902136555.\u001B[0m\n"
     ]
    },
    {
     "name": "stdout",
     "output_type": "stream",
     "text": [
      "[0]\ttrain-rmse:5881.96409+5.29938\ttrain-mae:5738.87924+6.33702\ttest-rmse:5881.92873+22.07708\ttest-mae:5738.77037+25.76886\n",
      "[100]\ttrain-rmse:507.25517+5.47506\ttrain-mae:321.04040+2.15894\ttest-rmse:553.03851+17.31556\ttest-mae:345.04891+7.08752\n",
      "[199]\ttrain-rmse:477.32590+5.90368\ttrain-mae:303.07169+2.29493\ttest-rmse:550.56188+19.10285\ttest-mae:342.75280+7.69803\n"
     ]
    },
    {
     "name": "stderr",
     "output_type": "stream",
     "text": [
      "\u001B[32m[I 2023-05-03 17:46:19,592]\u001B[0m Trial 52 finished with value: 550.5618767758676 and parameters: {'eta': 0.047419656858875836, 'max_depth': 6, 'min_child_weight': 0.02903876124883754, 'subsample': 0.9754433138515899, 'colsample_bynode': 0.3906333171149804}. Best is trial 14 with value: 549.7525902136555.\u001B[0m\n"
     ]
    },
    {
     "name": "stdout",
     "output_type": "stream",
     "text": [
      "[0]\ttrain-rmse:5600.07642+5.06310\ttrain-mae:5460.81262+5.99828\ttest-rmse:5600.31065+21.05918\ttest-mae:5460.99680+24.79230\n",
      "[100]\ttrain-rmse:500.75202+5.27822\ttrain-mae:317.43422+2.08314\ttest-rmse:552.93433+18.17333\ttest-mae:344.26972+7.38344\n",
      "[122]\ttrain-rmse:493.30146+5.29932\ttrain-mae:313.55816+2.05437\ttest-rmse:553.86011+18.43560\ttest-mae:345.02745+7.69560\n"
     ]
    },
    {
     "name": "stderr",
     "output_type": "stream",
     "text": [
      "\u001B[32m[I 2023-05-03 17:46:21,820]\u001B[0m Trial 53 finished with value: 552.4758619327454 and parameters: {'eta': 0.09364353181043367, 'max_depth': 5, 'min_child_weight': 0.05294430124510044, 'subsample': 0.799353721435628, 'colsample_bynode': 0.5234100638838546}. Best is trial 14 with value: 549.7525902136555.\u001B[0m\n"
     ]
    },
    {
     "name": "stdout",
     "output_type": "stream",
     "text": [
      "[0]\ttrain-rmse:6003.41728+5.48638\ttrain-mae:5858.96257+6.44150\ttest-rmse:6003.38712+22.24906\ttest-mae:5858.91367+26.05152\n",
      "[100]\ttrain-rmse:642.42701+3.99142\ttrain-mae:477.48585+1.70483\ttest-rmse:668.00097+12.23257\ttest-mae:490.42919+4.96282\n",
      "[199]\ttrain-rmse:497.14471+5.49069\ttrain-mae:313.86395+2.24795\ttest-rmse:550.75022+17.61278\ttest-mae:341.97417+6.77791\n"
     ]
    },
    {
     "name": "stderr",
     "output_type": "stream",
     "text": [
      "\u001B[32m[I 2023-05-03 17:46:26,311]\u001B[0m Trial 54 finished with value: 550.7502225202054 and parameters: {'eta': 0.02746026322927676, 'max_depth': 6, 'min_child_weight': 0.06551166562559949, 'subsample': 0.9959503561549454, 'colsample_bynode': 0.46488164662943154}. Best is trial 14 with value: 549.7525902136555.\u001B[0m\n"
     ]
    },
    {
     "name": "stdout",
     "output_type": "stream",
     "text": [
      "[0]\ttrain-rmse:5800.22622+5.27474\ttrain-mae:5658.45228+6.23412\ttest-rmse:5800.22846+21.63118\ttest-mae:5658.44920+25.39847\n",
      "[100]\ttrain-rmse:528.94820+4.64871\ttrain-mae:332.08104+1.90627\ttest-rmse:551.64052+17.08387\ttest-mae:343.66824+6.44517\n",
      "[199]\ttrain-rmse:513.57456+4.87335\ttrain-mae:323.59958+1.96736\ttest-rmse:550.00368+18.00023\ttest-mae:342.50313+7.09480\n"
     ]
    },
    {
     "name": "stderr",
     "output_type": "stream",
     "text": [
      "\u001B[32m[I 2023-05-03 17:46:29,039]\u001B[0m Trial 55 finished with value: 550.0036829081427 and parameters: {'eta': 0.06076497284907841, 'max_depth': 4, 'min_child_weight': 0.04271083397027116, 'subsample': 0.9105991969753983, 'colsample_bynode': 0.5830420300249473}. Best is trial 14 with value: 549.7525902136555.\u001B[0m\n"
     ]
    },
    {
     "name": "stdout",
     "output_type": "stream",
     "text": [
      "[0]\ttrain-rmse:5696.68000+5.15943\ttrain-mae:5556.26243+6.12009\ttest-rmse:5696.67547+21.33099\ttest-mae:5556.25897+25.09756\n",
      "[100]\ttrain-rmse:523.70928+4.96023\ttrain-mae:329.38162+2.04172\ttest-rmse:552.37063+16.86307\ttest-mae:343.59001+6.29481\n",
      "[187]\ttrain-rmse:508.43856+5.09291\ttrain-mae:321.27727+1.98669\ttest-rmse:551.68522+17.32889\ttest-mae:343.45450+6.88298\n"
     ]
    },
    {
     "name": "stderr",
     "output_type": "stream",
     "text": [
      "\u001B[32m[I 2023-05-03 17:46:31,597]\u001B[0m Trial 56 finished with value: 551.4782942450945 and parameters: {'eta': 0.07773697916530178, 'max_depth': 4, 'min_child_weight': 0.048968306386813244, 'subsample': 0.924797503189287, 'colsample_bynode': 0.5861122709819527}. Best is trial 14 with value: 549.7525902136555.\u001B[0m\n"
     ]
    },
    {
     "name": "stdout",
     "output_type": "stream",
     "text": [
      "[0]\ttrain-rmse:5496.06926+4.95818\ttrain-mae:5357.73424+5.93557\ttest-rmse:5496.25749+20.76532\ttest-mae:5357.90963+24.56708\n",
      "[100]\ttrain-rmse:533.37476+4.36889\ttrain-mae:334.88282+1.59630\ttest-rmse:554.07560+17.82075\ttest-mae:345.55832+7.04045\n",
      "[199]\ttrain-rmse:520.95921+4.76887\ttrain-mae:328.16580+1.80554\ttest-rmse:552.48113+18.26587\ttest-mae:344.78891+7.18361\n"
     ]
    },
    {
     "name": "stderr",
     "output_type": "stream",
     "text": [
      "\u001B[32m[I 2023-05-03 17:46:33,758]\u001B[0m Trial 57 finished with value: 552.4811342718649 and parameters: {'eta': 0.11068566720484, 'max_depth': 3, 'min_child_weight': 0.021860355194980734, 'subsample': 0.9303542294197367, 'colsample_bynode': 0.6996225347723767}. Best is trial 14 with value: 549.7525902136555.\u001B[0m\n"
     ]
    },
    {
     "name": "stdout",
     "output_type": "stream",
     "text": [
      "[0]\ttrain-rmse:5858.66950+5.32622\ttrain-mae:5716.09823+6.29654\ttest-rmse:5858.61789+21.79066\ttest-mae:5716.05532+25.57091\n",
      "[100]\ttrain-rmse:533.24139+4.62802\ttrain-mae:334.79019+1.88728\ttest-rmse:552.90132+17.21756\ttest-mae:344.93452+6.68490\n",
      "[199]\ttrain-rmse:518.00153+4.85992\ttrain-mae:325.98331+2.07162\ttest-rmse:550.10264+17.69127\ttest-mae:342.96452+6.88329\n"
     ]
    },
    {
     "name": "stderr",
     "output_type": "stream",
     "text": [
      "\u001B[32m[I 2023-05-03 17:46:36,492]\u001B[0m Trial 58 finished with value: 550.1026396044994 and parameters: {'eta': 0.05116825930054131, 'max_depth': 4, 'min_child_weight': 0.12603808244451575, 'subsample': 0.9642907020911421, 'colsample_bynode': 0.5418784530995436}. Best is trial 14 with value: 549.7525902136555.\u001B[0m\n"
     ]
    },
    {
     "name": "stdout",
     "output_type": "stream",
     "text": [
      "[0]\ttrain-rmse:5382.44029+4.83407\ttrain-mae:5245.03607+5.76804\ttest-rmse:5382.41118+20.22463\ttest-mae:5244.95861+23.99938\n",
      "[100]\ttrain-rmse:533.05864+4.65557\ttrain-mae:335.84034+2.15711\ttest-rmse:554.56464+16.42694\ttest-mae:347.75598+6.00633\n",
      "[199]\ttrain-rmse:519.61977+4.81973\ttrain-mae:328.09719+2.10092\ttest-rmse:552.97335+17.52521\ttest-mae:346.50530+6.73816\n"
     ]
    },
    {
     "name": "stderr",
     "output_type": "stream",
     "text": [
      "\u001B[32m[I 2023-05-03 17:46:38,807]\u001B[0m Trial 59 finished with value: 552.9733481304613 and parameters: {'eta': 0.12940707639320295, 'max_depth': 3, 'min_child_weight': 0.10375994998212988, 'subsample': 0.9990646767113479, 'colsample_bynode': 0.5347211057858398}. Best is trial 14 with value: 549.7525902136555.\u001B[0m\n"
     ]
    },
    {
     "name": "stdout",
     "output_type": "stream",
     "text": [
      "[0]\ttrain-rmse:5600.37531+5.07455\ttrain-mae:5460.71811+6.05103\ttest-rmse:5600.43023+21.11982\ttest-mae:5460.71801+24.92124\n",
      "[100]\ttrain-rmse:521.04480+4.66815\ttrain-mae:328.24015+2.00072\ttest-rmse:552.02696+17.72769\ttest-mae:344.44113+6.49263\n",
      "[188]\ttrain-rmse:503.50294+4.71918\ttrain-mae:318.99646+2.14583\ttest-rmse:552.21117+18.00172\ttest-mae:344.48918+6.75738\n"
     ]
    },
    {
     "name": "stderr",
     "output_type": "stream",
     "text": [
      "\u001B[32m[I 2023-05-03 17:46:41,418]\u001B[0m Trial 60 finished with value: 551.9614565175041 and parameters: {'eta': 0.09363291637391649, 'max_depth': 4, 'min_child_weight': 0.1650378320923893, 'subsample': 0.9024681857445017, 'colsample_bynode': 0.4944194309286333}. Best is trial 14 with value: 549.7525902136555.\u001B[0m\n"
     ]
    },
    {
     "name": "stdout",
     "output_type": "stream",
     "text": [
      "[0]\ttrain-rmse:5773.49639+5.22252\ttrain-mae:5632.18959+6.20554\ttest-rmse:5773.55478+21.56016\ttest-mae:5632.21858+25.33574\n",
      "[100]\ttrain-rmse:526.77452+4.45474\ttrain-mae:330.88990+1.82973\ttest-rmse:552.96660+17.15452\ttest-mae:343.86327+6.49942\n",
      "[199]\ttrain-rmse:510.42187+4.89433\ttrain-mae:322.07974+1.92518\ttest-rmse:551.36994+17.31956\ttest-mae:343.10241+6.69316\n"
     ]
    },
    {
     "name": "stderr",
     "output_type": "stream",
     "text": [
      "\u001B[32m[I 2023-05-03 17:46:44,169]\u001B[0m Trial 61 finished with value: 551.3699411556063 and parameters: {'eta': 0.0651017738048984, 'max_depth': 4, 'min_child_weight': 0.10623613930499855, 'subsample': 0.9645438407426964, 'colsample_bynode': 0.6368037613823926}. Best is trial 14 with value: 549.7525902136555.\u001B[0m\n"
     ]
    },
    {
     "name": "stdout",
     "output_type": "stream",
     "text": [
      "[0]\ttrain-rmse:5854.41724+5.32369\ttrain-mae:5712.03494+6.30219\ttest-rmse:5854.48330+21.78705\ttest-mae:5712.09373+25.56386\n",
      "[100]\ttrain-rmse:531.99590+4.50859\ttrain-mae:333.82206+1.92085\ttest-rmse:553.09847+17.32655\ttest-mae:344.33239+6.38720\n",
      "[199]\ttrain-rmse:516.61470+4.79484\ttrain-mae:325.20899+1.86515\ttest-rmse:550.32360+17.99328\ttest-mae:342.64833+6.80297\n"
     ]
    },
    {
     "name": "stderr",
     "output_type": "stream",
     "text": [
      "\u001B[32m[I 2023-05-03 17:46:46,828]\u001B[0m Trial 62 finished with value: 550.3236012039862 and parameters: {'eta': 0.051845023934775844, 'max_depth': 4, 'min_child_weight': 0.07617601965353182, 'subsample': 0.9287620946375401, 'colsample_bynode': 0.5951995396838271}. Best is trial 14 with value: 549.7525902136555.\u001B[0m\n"
     ]
    },
    {
     "name": "stdout",
     "output_type": "stream",
     "text": [
      "[0]\ttrain-rmse:5855.99760+5.31094\ttrain-mae:5713.29677+6.28701\ttest-rmse:5856.03707+21.73918\ttest-mae:5713.35399+25.53892\n",
      "[100]\ttrain-rmse:546.25072+4.25911\ttrain-mae:342.84529+1.71902\ttest-rmse:557.12543+17.14127\ttest-mae:348.81045+6.79636\n",
      "[199]\ttrain-rmse:534.64804+4.31788\ttrain-mae:335.81328+1.61196\ttest-rmse:552.57769+17.33145\ttest-mae:345.37369+6.86781\n"
     ]
    },
    {
     "name": "stderr",
     "output_type": "stream",
     "text": [
      "\u001B[32m[I 2023-05-03 17:46:49,094]\u001B[0m Trial 63 finished with value: 552.5776944962151 and parameters: {'eta': 0.05163152547908219, 'max_depth': 3, 'min_child_weight': 0.2702671425436085, 'subsample': 0.8318205484006288, 'colsample_bynode': 0.6158688058681683}. Best is trial 14 with value: 549.7525902136555.\u001B[0m\n"
     ]
    },
    {
     "name": "stdout",
     "output_type": "stream",
     "text": [
      "[0]\ttrain-rmse:6027.31360+5.51058\ttrain-mae:5882.49951+6.47666\ttest-rmse:6027.28553+22.26519\ttest-mae:5882.49653+26.05674\n",
      "[100]\ttrain-rmse:782.31736+2.73626\ttrain-mae:627.53084+1.27206\ttest-rmse:790.14735+10.59322\ttest-mae:631.55652+3.75792\n",
      "[199]\ttrain-rmse:536.56453+4.59115\ttrain-mae:337.53844+1.93279\ttest-rmse:555.32557+16.80600\ttest-mae:347.00153+6.73714\n"
     ]
    },
    {
     "name": "stderr",
     "output_type": "stream",
     "text": [
      "\u001B[32m[I 2023-05-03 17:46:51,885]\u001B[0m Trial 64 finished with value: 555.3255682766357 and parameters: {'eta': 0.02353392454726045, 'max_depth': 4, 'min_child_weight': 0.13599782215523387, 'subsample': 0.8995934416773931, 'colsample_bynode': 0.5510409261254923}. Best is trial 14 with value: 549.7525902136555.\u001B[0m\n"
     ]
    },
    {
     "name": "stdout",
     "output_type": "stream",
     "text": [
      "[0]\ttrain-rmse:5702.21830+5.16345\ttrain-mae:5561.32422+6.13265\ttest-rmse:5702.26477+21.38687\ttest-mae:5561.33901+25.21125\n",
      "[100]\ttrain-rmse:525.30746+4.29293\ttrain-mae:330.47800+1.79507\ttest-rmse:551.51324+16.73262\ttest-mae:343.86358+6.00239\n",
      "[199]\ttrain-rmse:508.54435+4.58225\ttrain-mae:321.20735+1.80719\ttest-rmse:550.77519+17.46921\ttest-mae:343.47361+6.60260\n"
     ]
    },
    {
     "name": "stderr",
     "output_type": "stream",
     "text": [
      "\u001B[32m[I 2023-05-03 17:46:54,570]\u001B[0m Trial 65 finished with value: 550.7751923810546 and parameters: {'eta': 0.07689275796658832, 'max_depth': 4, 'min_child_weight': 0.08416000478496528, 'subsample': 0.9300688358090778, 'colsample_bynode': 0.48063529087939283}. Best is trial 14 with value: 549.7525902136555.\u001B[0m\n"
     ]
    },
    {
     "name": "stdout",
     "output_type": "stream",
     "text": [
      "[0]\ttrain-rmse:5897.21955+5.37621\ttrain-mae:5754.17445+6.34478\ttest-rmse:5897.19175+21.89546\ttest-mae:5754.15746+25.66752\n",
      "[100]\ttrain-rmse:538.44945+4.13760\ttrain-mae:339.18075+1.47394\ttest-rmse:556.52997+16.73212\ttest-mae:348.47110+6.65769\n",
      "[199]\ttrain-rmse:520.82114+4.57959\ttrain-mae:327.75362+1.76179\ttest-rmse:551.00806+17.49899\ttest-mae:343.42000+6.72446\n"
     ]
    },
    {
     "name": "stderr",
     "output_type": "stream",
     "text": [
      "\u001B[32m[I 2023-05-03 17:46:57,413]\u001B[0m Trial 66 finished with value: 551.008061855556 and parameters: {'eta': 0.044860839110273304, 'max_depth': 4, 'min_child_weight': 0.06368921202786283, 'subsample': 0.8675986789018792, 'colsample_bynode': 0.5845288734423879}. Best is trial 14 with value: 549.7525902136555.\u001B[0m\n"
     ]
    },
    {
     "name": "stdout",
     "output_type": "stream",
     "text": [
      "[0]\ttrain-rmse:6014.35285+5.49676\ttrain-mae:5869.40458+6.46199\ttest-rmse:6014.32983+22.20867\ttest-mae:5869.41051+26.02219\n",
      "[100]\ttrain-rmse:716.86173+2.93876\ttrain-mae:546.85497+1.49765\ttest-rmse:722.12369+10.69080\ttest-mae:549.69224+3.99627\n",
      "[199]\ttrain-rmse:547.25440+4.08246\ttrain-mae:344.68426+1.61133\ttest-rmse:558.42864+16.30636\ttest-mae:350.81432+6.30371\n"
     ]
    },
    {
     "name": "stderr",
     "output_type": "stream",
     "text": [
      "\u001B[32m[I 2023-05-03 17:46:59,698]\u001B[0m Trial 67 finished with value: 558.4286384693187 and parameters: {'eta': 0.025694272142413967, 'max_depth': 3, 'min_child_weight': 0.17245667312602675, 'subsample': 0.9815556138274659, 'colsample_bynode': 0.5256669070760831}. Best is trial 14 with value: 549.7525902136555.\u001B[0m\n"
     ]
    },
    {
     "name": "stdout",
     "output_type": "stream",
     "text": [
      "[0]\ttrain-rmse:5756.52092+5.23455\ttrain-mae:5615.79902+6.18785\ttest-rmse:5756.52138+21.49753\ttest-mae:5615.73724+25.27212\n",
      "[100]\ttrain-rmse:507.05010+5.29159\ttrain-mae:319.82594+2.20238\ttest-rmse:551.46725+17.22839\ttest-mae:342.13953+7.05396\n",
      "[148]\ttrain-rmse:493.48302+5.51374\ttrain-mae:312.78054+2.46561\ttest-rmse:551.85489+17.74206\ttest-mae:343.00055+7.42322\n"
     ]
    },
    {
     "name": "stderr",
     "output_type": "stream",
     "text": [
      "\u001B[32m[I 2023-05-03 17:47:02,329]\u001B[0m Trial 68 finished with value: 551.3980182587977 and parameters: {'eta': 0.06785623662967716, 'max_depth': 5, 'min_child_weight': 0.03216989186023538, 'subsample': 0.8380482893662022, 'colsample_bynode': 0.6571237631559617}. Best is trial 14 with value: 549.7525902136555.\u001B[0m\n"
     ]
    },
    {
     "name": "stdout",
     "output_type": "stream",
     "text": [
      "[0]\ttrain-rmse:5601.44364+5.07650\ttrain-mae:5462.43482+6.06692\ttest-rmse:5601.59637+21.05354\ttest-mae:5462.54394+24.81179\n",
      "[100]\ttrain-rmse:519.50418+4.32364\ttrain-mae:327.24975+1.84972\ttest-rmse:551.18292+17.14957\ttest-mae:343.13155+6.09483\n",
      "[171]\ttrain-rmse:504.70471+4.44082\ttrain-mae:319.41235+1.73878\ttest-rmse:550.93514+17.94536\ttest-mae:343.29459+6.58002\n"
     ]
    },
    {
     "name": "stderr",
     "output_type": "stream",
     "text": [
      "\u001B[32m[I 2023-05-03 17:47:04,712]\u001B[0m Trial 69 finished with value: 550.7751261130621 and parameters: {'eta': 0.09330604388602035, 'max_depth': 4, 'min_child_weight': 0.0756580318312836, 'subsample': 0.9369393790433108, 'colsample_bynode': 0.6001774744446541}. Best is trial 14 with value: 549.7525902136555.\u001B[0m\n"
     ]
    },
    {
     "name": "stdout",
     "output_type": "stream",
     "text": [
      "[0]\ttrain-rmse:5859.76822+5.35058\ttrain-mae:5717.11038+6.31566\ttest-rmse:5859.84773+21.78164\ttest-mae:5717.19388+25.54054\n",
      "[100]\ttrain-rmse:518.29843+4.85194\ttrain-mae:326.05047+1.82137\ttest-rmse:552.95792+16.79107\ttest-mae:343.87083+6.77683\n",
      "[199]\ttrain-rmse:496.36349+5.61453\ttrain-mae:313.86645+2.08417\ttest-rmse:551.20112+17.89557\ttest-mae:342.67632+7.17574\n"
     ]
    },
    {
     "name": "stderr",
     "output_type": "stream",
     "text": [
      "\u001B[32m[I 2023-05-03 17:47:08,063]\u001B[0m Trial 70 finished with value: 551.2011156681026 and parameters: {'eta': 0.051020404422671486, 'max_depth': 5, 'min_child_weight': 0.12051171866644791, 'subsample': 0.9772645064504191, 'colsample_bynode': 0.5136174904099278}. Best is trial 14 with value: 549.7525902136555.\u001B[0m\n"
     ]
    },
    {
     "name": "stdout",
     "output_type": "stream",
     "text": [
      "[0]\ttrain-rmse:5771.18392+5.24346\ttrain-mae:5629.87215+6.21694\ttest-rmse:5771.20739+21.55422\ttest-mae:5629.88198+25.27154\n",
      "[100]\ttrain-rmse:509.11322+5.58973\ttrain-mae:321.15135+2.39058\ttest-rmse:550.31796+18.01830\ttest-mae:342.29269+6.97126\n",
      "[147]\ttrain-rmse:496.89151+5.58494\ttrain-mae:314.47304+2.47219\ttest-rmse:550.19957+18.34654\ttest-mae:342.38946+7.27602\n"
     ]
    },
    {
     "name": "stderr",
     "output_type": "stream",
     "text": [
      "\u001B[32m[I 2023-05-03 17:47:10,706]\u001B[0m Trial 71 finished with value: 550.369047570173 and parameters: {'eta': 0.06550488775610225, 'max_depth': 5, 'min_child_weight': 0.04604498548509436, 'subsample': 0.9531556461175018, 'colsample_bynode': 0.5780769772819256}. Best is trial 14 with value: 549.7525902136555.\u001B[0m\n"
     ]
    },
    {
     "name": "stdout",
     "output_type": "stream",
     "text": [
      "[0]\ttrain-rmse:5961.96805+5.44594\ttrain-mae:5818.04005+6.41010\ttest-rmse:5961.95094+22.06948\ttest-mae:5818.04127+25.85412\n",
      "[100]\ttrain-rmse:571.13866+4.04208\ttrain-mae:376.65511+1.60026\ttest-rmse:585.08834+15.43174\ttest-mae:383.91983+6.18058\n",
      "[199]\ttrain-rmse:526.74114+4.72003\ttrain-mae:330.88151+1.95767\ttest-rmse:551.58051+17.42847\ttest-mae:343.83615+6.86042\n"
     ]
    },
    {
     "name": "stderr",
     "output_type": "stream",
     "text": [
      "\u001B[32m[I 2023-05-03 17:47:13,437]\u001B[0m Trial 72 finished with value: 551.5805085378751 and parameters: {'eta': 0.03424691711916333, 'max_depth': 4, 'min_child_weight': 0.03530630050138814, 'subsample': 0.898633484291192, 'colsample_bynode': 0.5541989887479544}. Best is trial 14 with value: 549.7525902136555.\u001B[0m\n"
     ]
    },
    {
     "name": "stdout",
     "output_type": "stream",
     "text": [
      "[0]\ttrain-rmse:5765.92397+5.24346\ttrain-mae:5624.85184+6.21373\ttest-rmse:5766.00523+21.48009\ttest-mae:5624.88715+25.25148\n",
      "[100]\ttrain-rmse:507.84249+5.31270\ttrain-mae:320.45203+2.15653\ttest-rmse:551.13244+17.31585\ttest-mae:342.39061+7.19008\n",
      "[145]\ttrain-rmse:495.99829+5.49291\ttrain-mae:314.05072+2.20576\ttest-rmse:551.13926+17.93904\ttest-mae:342.54204+7.59219\n"
     ]
    },
    {
     "name": "stderr",
     "output_type": "stream",
     "text": [
      "\u001B[32m[I 2023-05-03 17:47:16,162]\u001B[0m Trial 73 finished with value: 551.1487052936133 and parameters: {'eta': 0.06633263343380762, 'max_depth': 5, 'min_child_weight': 0.058652207616272656, 'subsample': 0.9457968503719385, 'colsample_bynode': 0.6306130605797505}. Best is trial 14 with value: 549.7525902136555.\u001B[0m\n"
     ]
    },
    {
     "name": "stdout",
     "output_type": "stream",
     "text": [
      "[0]\ttrain-rmse:5525.40094+5.00388\ttrain-mae:5387.37473+5.96006\ttest-rmse:5525.42244+20.81365\ttest-mae:5387.36299+24.49703\n",
      "[100]\ttrain-rmse:493.58263+5.37683\ttrain-mae:312.91596+1.99496\ttest-rmse:553.47650+17.56487\ttest-mae:344.34448+7.00722\n",
      "[115]\ttrain-rmse:488.10784+5.50386\ttrain-mae:310.07829+1.93741\ttest-rmse:553.90576+18.05615\ttest-mae:344.76217+7.28510\n"
     ]
    },
    {
     "name": "stderr",
     "output_type": "stream",
     "text": [
      "\u001B[32m[I 2023-05-03 17:47:18,364]\u001B[0m Trial 74 finished with value: 553.2678204152096 and parameters: {'eta': 0.10583457345417682, 'max_depth': 5, 'min_child_weight': 0.04469178952944402, 'subsample': 0.9153770040168315, 'colsample_bynode': 0.5700832356320916}. Best is trial 14 with value: 549.7525902136555.\u001B[0m\n"
     ]
    },
    {
     "name": "stdout",
     "output_type": "stream",
     "text": [
      "[0]\ttrain-rmse:5661.77636+5.12952\ttrain-mae:5521.99737+6.12940\ttest-rmse:5661.84144+21.17960\ttest-mae:5522.01850+24.91084\n",
      "[100]\ttrain-rmse:521.89009+4.88153\ttrain-mae:328.38436+1.75036\ttest-rmse:552.26315+18.78019\ttest-mae:343.65941+7.14486\n",
      "[189]\ttrain-rmse:504.87714+4.99254\ttrain-mae:319.53858+2.02480\ttest-rmse:551.66681+19.35166\ttest-mae:343.70036+7.27947\n"
     ]
    },
    {
     "name": "stderr",
     "output_type": "stream",
     "text": [
      "\u001B[32m[I 2023-05-03 17:47:20,971]\u001B[0m Trial 75 finished with value: 551.7858890290258 and parameters: {'eta': 0.08343725719628581, 'max_depth': 4, 'min_child_weight': 0.024177839482822233, 'subsample': 0.8742538674477627, 'colsample_bynode': 0.5991455584189906}. Best is trial 14 with value: 549.7525902136555.\u001B[0m\n"
     ]
    },
    {
     "name": "stdout",
     "output_type": "stream",
     "text": [
      "[0]\ttrain-rmse:6095.98647+5.57477\ttrain-mae:5950.26131+6.54813\ttest-rmse:6095.94378+22.48615\ttest-mae:5950.23989+26.27615\n",
      "[100]\ttrain-rmse:1853.24889+1.14850\ttrain-mae:1743.71544+1.32785\ttest-rmse:1858.40795+10.15806\ttest-mae:1745.86537+11.30618\n",
      "[199]\ttrain-rmse:727.77128+3.19627\ttrain-mae:585.66811+1.42499\ttest-rmse:765.43759+10.79305\ttest-mae:605.75878+3.77686\n"
     ]
    },
    {
     "name": "stderr",
     "output_type": "stream",
     "text": [
      "\u001B[32m[I 2023-05-03 17:47:28,328]\u001B[0m Trial 76 finished with value: 765.4375883944747 and parameters: {'eta': 0.012270738087033356, 'max_depth': 8, 'min_child_weight': 0.08870736978996005, 'subsample': 0.9993098961012428, 'colsample_bynode': 0.5434379299867743}. Best is trial 14 with value: 549.7525902136555.\u001B[0m\n"
     ]
    },
    {
     "name": "stdout",
     "output_type": "stream",
     "text": [
      "[0]\ttrain-rmse:5826.94440+5.31385\ttrain-mae:5684.70827+6.27890\ttest-rmse:5827.03720+21.69057\ttest-mae:5684.80086+25.44459\n",
      "[100]\ttrain-rmse:514.37429+5.14210\ttrain-mae:323.87474+2.13295\ttest-rmse:551.33264+17.95575\ttest-mae:342.85815+6.70701\n",
      "[199]\ttrain-rmse:491.94611+4.88990\ttrain-mae:311.53864+2.08803\ttest-rmse:550.61945+18.81021\ttest-mae:342.60170+7.25836\n"
     ]
    },
    {
     "name": "stderr",
     "output_type": "stream",
     "text": [
      "\u001B[32m[I 2023-05-03 17:47:32,142]\u001B[0m Trial 77 finished with value: 550.6194521149108 and parameters: {'eta': 0.05640445379433148, 'max_depth': 5, 'min_child_weight': 0.05094436934465573, 'subsample': 0.9734026648323609, 'colsample_bynode': 0.5038692311556198}. Best is trial 14 with value: 549.7525902136555.\u001B[0m\n"
     ]
    },
    {
     "name": "stdout",
     "output_type": "stream",
     "text": [
      "[0]\ttrain-rmse:5894.00041+5.35404\ttrain-mae:5750.73608+6.34091\ttest-rmse:5894.02955+22.00422\ttest-mae:5750.76342+25.81139\n",
      "[100]\ttrain-rmse:539.09466+4.41549\ttrain-mae:340.06778+1.88846\ttest-rmse:556.58343+16.19729\ttest-mae:349.32250+6.31604\n",
      "[199]\ttrain-rmse:522.65047+5.05845\ttrain-mae:329.02048+2.08637\ttest-rmse:550.85765+17.33094\ttest-mae:343.98359+6.62246\n"
     ]
    },
    {
     "name": "stderr",
     "output_type": "stream",
     "text": [
      "\u001B[32m[I 2023-05-03 17:47:34,938]\u001B[0m Trial 78 finished with value: 550.8576518972432 and parameters: {'eta': 0.0454334146593043, 'max_depth': 4, 'min_child_weight': 0.06725045457523562, 'subsample': 0.8497907662135851, 'colsample_bynode': 0.455387638203832}. Best is trial 14 with value: 549.7525902136555.\u001B[0m\n"
     ]
    },
    {
     "name": "stdout",
     "output_type": "stream",
     "text": [
      "[0]\ttrain-rmse:5736.12460+5.19744\ttrain-mae:5594.30785+6.15225\ttest-rmse:5736.12123+21.28132\ttest-mae:5594.31053+25.12836\n",
      "[100]\ttrain-rmse:542.12965+4.27193\ttrain-mae:341.21942+1.59281\ttest-rmse:556.11760+16.54101\ttest-mae:348.68948+6.49457\n",
      "[199]\ttrain-rmse:530.67961+4.67220\ttrain-mae:334.02429+1.64045\ttest-rmse:552.92501+16.74838\ttest-mae:345.81723+6.65404\n"
     ]
    },
    {
     "name": "stderr",
     "output_type": "stream",
     "text": [
      "\u001B[32m[I 2023-05-03 17:47:37,268]\u001B[0m Trial 79 finished with value: 552.925014982311 and parameters: {'eta': 0.07137403812906781, 'max_depth': 3, 'min_child_weight': 0.03801005864664507, 'subsample': 0.9466293019075513, 'colsample_bynode': 0.4837327483908728}. Best is trial 14 with value: 549.7525902136555.\u001B[0m\n"
     ]
    },
    {
     "name": "stdout",
     "output_type": "stream",
     "text": [
      "[0]\ttrain-rmse:5406.72664+4.89113\ttrain-mae:5270.83392+5.83689\ttest-rmse:5406.89053+20.63618\ttest-mae:5270.88134+24.37101\n",
      "[99]\ttrain-rmse:484.77326+5.34889\ttrain-mae:308.38685+2.48927\ttest-rmse:553.34851+18.53758\ttest-mae:344.57285+6.94782\n"
     ]
    },
    {
     "name": "stderr",
     "output_type": "stream",
     "text": [
      "\u001B[32m[I 2023-05-03 17:47:39,045]\u001B[0m Trial 80 finished with value: 552.1822081154648 and parameters: {'eta': 0.12519166112493935, 'max_depth': 5, 'min_child_weight': 0.026409754894926963, 'subsample': 0.9163458570794046, 'colsample_bynode': 0.6602803068174712}. Best is trial 14 with value: 549.7525902136555.\u001B[0m\n"
     ]
    },
    {
     "name": "stdout",
     "output_type": "stream",
     "text": [
      "[0]\ttrain-rmse:5791.47508+5.26364\ttrain-mae:5649.89595+6.24081\ttest-rmse:5791.51478+21.61989\ttest-mae:5649.92674+25.33840\n",
      "[100]\ttrain-rmse:510.15897+5.66493\ttrain-mae:321.65243+2.24390\ttest-rmse:551.08349+17.26400\ttest-mae:342.68595+6.61339\n",
      "[171]\ttrain-rmse:492.53228+5.52761\ttrain-mae:312.16257+2.39306\ttest-rmse:550.92620+17.67257\ttest-mae:342.89335+6.93419\n"
     ]
    },
    {
     "name": "stderr",
     "output_type": "stream",
     "text": [
      "\u001B[32m[I 2023-05-03 17:47:42,052]\u001B[0m Trial 81 finished with value: 550.6904684959567 and parameters: {'eta': 0.06217612243420134, 'max_depth': 5, 'min_child_weight': 0.04630959342782775, 'subsample': 0.9496174986617782, 'colsample_bynode': 0.5751556430591166}. Best is trial 14 with value: 549.7525902136555.\u001B[0m\n"
     ]
    },
    {
     "name": "stdout",
     "output_type": "stream",
     "text": [
      "[0]\ttrain-rmse:5983.92067+5.46433\ttrain-mae:5839.82525+6.44615\ttest-rmse:5983.92877+22.17050\ttest-mae:5839.83812+25.95368\n",
      "[100]\ttrain-rmse:594.21578+4.22643\ttrain-mae:413.26598+1.71412\ttest-rmse:615.20920+13.82597\ttest-mae:424.01477+5.55926\n",
      "[199]\ttrain-rmse:510.57658+5.21409\ttrain-mae:321.31927+2.18714\ttest-rmse:550.36175+17.20506\ttest-mae:341.65463+6.82800\n"
     ]
    },
    {
     "name": "stderr",
     "output_type": "stream",
     "text": [
      "\u001B[32m[I 2023-05-03 17:47:45,545]\u001B[0m Trial 82 finished with value: 550.3617518575159 and parameters: {'eta': 0.030626821084316476, 'max_depth': 5, 'min_child_weight': 0.055701520336575855, 'subsample': 0.8849631108269753, 'colsample_bynode': 0.6134481517085982}. Best is trial 14 with value: 549.7525902136555.\u001B[0m\n"
     ]
    },
    {
     "name": "stdout",
     "output_type": "stream",
     "text": [
      "[0]\ttrain-rmse:6014.94384+5.49700\ttrain-mae:5870.29918+6.46666\ttest-rmse:6014.92584+22.25018\ttest-mae:5870.30277+26.03462\n",
      "[100]\ttrain-rmse:709.86189+3.21482\ttrain-mae:545.19110+1.54237\ttest-rmse:719.16094+11.10376\ttest-mae:549.98362+4.03807\n",
      "[199]\ttrain-rmse:533.37125+4.53691\ttrain-mae:334.94743+1.93921\ttest-rmse:553.59741+16.32900\ttest-mae:345.03472+6.34463\n"
     ]
    },
    {
     "name": "stderr",
     "output_type": "stream",
     "text": [
      "\u001B[32m[I 2023-05-03 17:47:48,322]\u001B[0m Trial 83 finished with value: 553.5974127610729 and parameters: {'eta': 0.02556015556228658, 'max_depth': 4, 'min_child_weight': 0.05613536391369306, 'subsample': 0.8791531903817997, 'colsample_bynode': 0.5296027616016338}. Best is trial 14 with value: 549.7525902136555.\u001B[0m\n"
     ]
    },
    {
     "name": "stdout",
     "output_type": "stream",
     "text": [
      "[0]\ttrain-rmse:5931.46580+5.40313\ttrain-mae:5788.10622+6.37560\ttest-rmse:5931.49213+22.02509\ttest-mae:5788.14279+25.81189\n",
      "[100]\ttrain-rmse:534.71316+4.80537\ttrain-mae:341.50177+2.01117\ttest-rmse:562.24509+16.44013\ttest-mae:355.59974+6.30071\n",
      "[199]\ttrain-rmse:502.59500+5.17287\ttrain-mae:317.27754+2.08321\ttest-rmse:549.14486+18.40343\ttest-mae:341.56942+6.95647\n"
     ]
    },
    {
     "name": "stderr",
     "output_type": "stream",
     "text": [
      "\u001B[32m[I 2023-05-03 17:47:51,715]\u001B[0m Trial 84 finished with value: 549.1448623889361 and parameters: {'eta': 0.03921743172707871, 'max_depth': 5, 'min_child_weight': 0.034046522113062964, 'subsample': 0.9194272319494144, 'colsample_bynode': 0.6264947156795478}. Best is trial 84 with value: 549.1448623889361.\u001B[0m\n"
     ]
    },
    {
     "name": "stdout",
     "output_type": "stream",
     "text": [
      "[0]\ttrain-rmse:5950.67446+5.39902\ttrain-mae:5806.98227+6.38194\ttest-rmse:5950.69321+22.04411\ttest-mae:5807.01127+25.82577\n",
      "[100]\ttrain-rmse:560.15644+4.28537\ttrain-mae:363.12043+1.71711\ttest-rmse:575.18818+15.38976\ttest-mae:370.73180+6.22981\n",
      "[199]\ttrain-rmse:525.18923+4.69496\ttrain-mae:329.76771+1.80205\ttest-rmse:551.02266+17.30531\ttest-mae:342.71725+6.51727\n"
     ]
    },
    {
     "name": "stderr",
     "output_type": "stream",
     "text": [
      "\u001B[32m[I 2023-05-03 17:47:54,521]\u001B[0m Trial 85 finished with value: 551.0226584971829 and parameters: {'eta': 0.036078871355165056, 'max_depth': 4, 'min_child_weight': 0.0315540534892338, 'subsample': 0.8167376686109886, 'colsample_bynode': 0.6180038819677417}. Best is trial 84 with value: 549.1448623889361.\u001B[0m\n"
     ]
    },
    {
     "name": "stdout",
     "output_type": "stream",
     "text": [
      "[0]\ttrain-rmse:6060.77220+5.54428\ttrain-mae:5915.57789+6.52056\ttest-rmse:6060.76465+22.38845\ttest-mae:5915.58856+26.17990\n",
      "[100]\ttrain-rmse:1122.57101+1.78446\ttrain-mae:993.41843+0.68274\ttest-rmse:1130.00867+8.51271\ttest-mae:997.20034+5.53392\n",
      "[199]\ttrain-rmse:550.44971+4.49180\ttrain-mae:359.71643+1.82783\ttest-rmse:576.01517+15.99389\ttest-mae:372.81161+6.44556\n"
     ]
    },
    {
     "name": "stderr",
     "output_type": "stream",
     "text": [
      "\u001B[32m[I 2023-05-03 17:47:58,023]\u001B[0m Trial 86 finished with value: 576.0151733633288 and parameters: {'eta': 0.018037351420012334, 'max_depth': 5, 'min_child_weight': 0.018355431084735523, 'subsample': 0.8935132963046035, 'colsample_bynode': 0.6266187134677628}. Best is trial 84 with value: 549.1448623889361.\u001B[0m\n"
     ]
    },
    {
     "name": "stdout",
     "output_type": "stream",
     "text": [
      "[0]\ttrain-rmse:5910.75786+5.39196\ttrain-mae:5767.82741+6.35526\ttest-rmse:5910.76064+21.93550\ttest-mae:5767.80603+25.70630\n",
      "[100]\ttrain-rmse:509.40821+5.09984\ttrain-mae:323.65161+2.05997\ttest-rmse:556.47029+17.10684\ttest-mae:347.75132+6.69791\n",
      "[185]\ttrain-rmse:476.20695+5.26086\ttrain-mae:302.93321+2.16666\ttest-rmse:551.53728+18.78422\ttest-mae:342.07434+7.61482\n"
     ]
    },
    {
     "name": "stderr",
     "output_type": "stream",
     "text": [
      "\u001B[32m[I 2023-05-03 17:48:02,145]\u001B[0m Trial 87 finished with value: 551.0833141436452 and parameters: {'eta': 0.04259568746084204, 'max_depth': 6, 'min_child_weight': 0.07175786030706549, 'subsample': 0.851154191875034, 'colsample_bynode': 0.6892713137675817}. Best is trial 84 with value: 549.1448623889361.\u001B[0m\n"
     ]
    },
    {
     "name": "stdout",
     "output_type": "stream",
     "text": [
      "[0]\ttrain-rmse:6104.84766+5.58939\ttrain-mae:5959.04101+6.55721\ttest-rmse:6104.82323+22.51908\ttest-mae:5959.04427+26.31840\n",
      "[100]\ttrain-rmse:2127.86540+1.42401\ttrain-mae:2019.35628+1.80335\ttest-rmse:2130.21683+10.85173\ttest-mae:2020.13375+12.66172\n",
      "[199]\ttrain-rmse:885.60392+2.40188\ttrain-mae:744.84780+0.91769\ttest-rmse:896.36648+9.50043\ttest-mae:750.33845+3.66595\n"
     ]
    },
    {
     "name": "stderr",
     "output_type": "stream",
     "text": [
      "\u001B[32m[I 2023-05-03 17:48:05,712]\u001B[0m Trial 88 finished with value: 896.3664797961004 and parameters: {'eta': 0.010811622774077524, 'max_depth': 5, 'min_child_weight': 0.026582490667853446, 'subsample': 0.9229784203709795, 'colsample_bynode': 0.6525628618538211}. Best is trial 84 with value: 549.1448623889361.\u001B[0m\n"
     ]
    },
    {
     "name": "stdout",
     "output_type": "stream",
     "text": [
      "[0]\ttrain-rmse:5668.09207+5.11793\ttrain-mae:5528.19883+6.10390\ttest-rmse:5668.17069+21.24957\ttest-mae:5528.21912+25.02078\n",
      "[100]\ttrain-rmse:522.25817+4.75328\ttrain-mae:328.40127+1.95550\ttest-rmse:551.12461+17.70142\ttest-mae:343.37585+6.73808\n",
      "[168]\ttrain-rmse:509.57159+5.12899\ttrain-mae:321.45588+2.14601\ttest-rmse:550.51186+17.95782\ttest-mae:343.32834+6.62471\n"
     ]
    },
    {
     "name": "stderr",
     "output_type": "stream",
     "text": [
      "\u001B[32m[I 2023-05-03 17:48:08,124]\u001B[0m Trial 89 finished with value: 550.7993303760155 and parameters: {'eta': 0.08238615299617302, 'max_depth': 4, 'min_child_weight': 0.038517421340256396, 'subsample': 0.9752254451897383, 'colsample_bynode': 0.5958501996490756}. Best is trial 84 with value: 549.1448623889361.\u001B[0m\n"
     ]
    },
    {
     "name": "stdout",
     "output_type": "stream",
     "text": [
      "[0]\ttrain-rmse:6013.57078+5.49449\ttrain-mae:5869.01191+6.45513\ttest-rmse:6013.54636+22.23817\ttest-mae:5869.00220+26.01099\n",
      "[100]\ttrain-rmse:687.12060+3.73160\ttrain-mae:529.33051+1.80167\ttest-rmse:710.33889+11.37851\ttest-mae:541.47580+3.88058\n",
      "[199]\ttrain-rmse:499.05905+5.44389\ttrain-mae:315.09481+2.27263\ttest-rmse:551.17484+17.63048\ttest-mae:342.17657+6.98671\n"
     ]
    },
    {
     "name": "stderr",
     "output_type": "stream",
     "text": [
      "\u001B[32m[I 2023-05-03 17:48:12,688]\u001B[0m Trial 90 finished with value: 551.1748446932195 and parameters: {'eta': 0.02578044752826709, 'max_depth': 6, 'min_child_weight': 0.056902895904817376, 'subsample': 0.8616682739487663, 'colsample_bynode': 0.5507047490786108}. Best is trial 84 with value: 549.1448623889361.\u001B[0m\n"
     ]
    },
    {
     "name": "stdout",
     "output_type": "stream",
     "text": [
      "[0]\ttrain-rmse:5844.06946+5.32128\ttrain-mae:5701.77203+6.29670\ttest-rmse:5844.07095+21.75378\ttest-mae:5701.76769+25.48574\n",
      "[100]\ttrain-rmse:515.23347+5.02993\ttrain-mae:324.50729+2.19944\ttest-rmse:551.42205+17.29512\ttest-mae:342.77553+6.76553\n",
      "[192]\ttrain-rmse:493.88556+5.26282\ttrain-mae:312.75574+2.36235\ttest-rmse:550.45207+18.17561\ttest-mae:342.11874+6.83441\n"
     ]
    },
    {
     "name": "stderr",
     "output_type": "stream",
     "text": [
      "\u001B[32m[I 2023-05-03 17:48:16,024]\u001B[0m Trial 91 finished with value: 550.4278873936152 and parameters: {'eta': 0.05355681045110902, 'max_depth': 5, 'min_child_weight': 0.045290607427254985, 'subsample': 0.9533798082567899, 'colsample_bynode': 0.566793128818851}. Best is trial 84 with value: 549.1448623889361.\u001B[0m\n"
     ]
    },
    {
     "name": "stdout",
     "output_type": "stream",
     "text": [
      "[0]\ttrain-rmse:5935.55536+5.42878\ttrain-mae:5791.92204+6.39650\ttest-rmse:5935.64433+22.02131\ttest-mae:5792.01599+25.77805\n",
      "[100]\ttrain-rmse:538.21707+4.66253\ttrain-mae:344.93991+1.81318\ttest-rmse:564.39475+15.55171\ttest-mae:358.57886+6.25925\n",
      "[199]\ttrain-rmse:505.54287+5.35684\ttrain-mae:319.16703+2.11020\ttest-rmse:550.42721+17.57867\ttest-mae:342.53257+6.66729\n"
     ]
    },
    {
     "name": "stderr",
     "output_type": "stream",
     "text": [
      "\u001B[32m[I 2023-05-03 17:48:19,442]\u001B[0m Trial 92 finished with value: 550.4272103640129 and parameters: {'eta': 0.03859686610243016, 'max_depth': 5, 'min_child_weight': 0.08615805128093088, 'subsample': 0.8885190369361947, 'colsample_bynode': 0.5034961509459924}. Best is trial 84 with value: 549.1448623889361.\u001B[0m\n"
     ]
    },
    {
     "name": "stdout",
     "output_type": "stream",
     "text": [
      "[0]\ttrain-rmse:5822.12000+5.30387\ttrain-mae:5680.27176+6.29029\ttest-rmse:5822.18392+21.70577\ttest-mae:5680.31583+25.46046\n",
      "[100]\ttrain-rmse:512.38063+5.11916\ttrain-mae:322.72341+2.25611\ttest-rmse:551.14246+17.24610\ttest-mae:342.16824+6.64899\n",
      "[154]\ttrain-rmse:498.71163+4.96010\ttrain-mae:315.58733+2.21442\ttest-rmse:550.59734+17.76413\ttest-mae:342.15481+6.90133\n"
     ]
    },
    {
     "name": "stderr",
     "output_type": "stream",
     "text": [
      "\u001B[32m[I 2023-05-03 17:48:22,234]\u001B[0m Trial 93 finished with value: 550.8599364061691 and parameters: {'eta': 0.05713222939155512, 'max_depth': 5, 'min_child_weight': 0.03599760450966316, 'subsample': 0.9315174730701552, 'colsample_bynode': 0.5894448812204365}. Best is trial 84 with value: 549.1448623889361.\u001B[0m\n"
     ]
    },
    {
     "name": "stdout",
     "output_type": "stream",
     "text": [
      "[0]\ttrain-rmse:5646.21974+5.09842\ttrain-mae:5506.63307+6.08657\ttest-rmse:5646.30989+21.16494\ttest-mae:5506.68112+24.91322\n",
      "[100]\ttrain-rmse:521.52495+4.74890\ttrain-mae:327.89556+1.89844\ttest-rmse:551.73049+17.11218\ttest-mae:343.17459+6.68544\n",
      "[184]\ttrain-rmse:504.88672+4.79880\ttrain-mae:319.28577+1.95738\ttest-rmse:551.39297+18.05381\ttest-mae:343.54982+7.05514\n"
     ]
    },
    {
     "name": "stderr",
     "output_type": "stream",
     "text": [
      "\u001B[32m[I 2023-05-03 17:48:25,128]\u001B[0m Trial 94 finished with value: 551.41005106627 and parameters: {'eta': 0.08597960143784489, 'max_depth': 4, 'min_child_weight': 0.06370119601220217, 'subsample': 0.9083222492277646, 'colsample_bynode': 0.632191566833675}. Best is trial 84 with value: 549.1448623889361.\u001B[0m\n"
     ]
    },
    {
     "name": "stdout",
     "output_type": "stream",
     "text": [
      "[0]\ttrain-rmse:5720.15966+5.18489\ttrain-mae:5579.61378+6.17934\ttest-rmse:5720.10385+21.40476\ttest-mae:5579.49719+25.12039\n",
      "[100]\ttrain-rmse:481.05570+5.01767\ttrain-mae:305.45300+2.22000\ttest-rmse:551.56840+18.10804\ttest-mae:342.96166+6.69205\n",
      "[131]\ttrain-rmse:468.19187+4.75553\ttrain-mae:298.31764+2.39787\ttest-rmse:552.20515+18.40666\ttest-mae:343.38461+7.03489\n"
     ]
    },
    {
     "name": "stderr",
     "output_type": "stream",
     "text": [
      "\u001B[32m[I 2023-05-03 17:48:28,287]\u001B[0m Trial 95 finished with value: 551.5482744034873 and parameters: {'eta': 0.07386831611382198, 'max_depth': 6, 'min_child_weight': 0.05286843286268471, 'subsample': 0.9786398919544828, 'colsample_bynode': 0.5416312132241309}. Best is trial 84 with value: 549.1448623889361.\u001B[0m\n"
     ]
    },
    {
     "name": "stdout",
     "output_type": "stream",
     "text": [
      "[0]\ttrain-rmse:5541.80226+5.00760\ttrain-mae:5403.55380+5.99350\ttest-rmse:5542.01724+20.81488\ttest-mae:5403.71050+24.58752\n",
      "[100]\ttrain-rmse:517.31578+5.23526\ttrain-mae:325.58328+2.15808\ttest-rmse:552.43337+17.98812\ttest-mae:343.83934+6.99230\n",
      "[198]\ttrain-rmse:496.61290+5.50976\ttrain-mae:314.97028+2.31589\ttest-rmse:552.23227+18.41198\ttest-mae:344.40848+7.14855\n"
     ]
    },
    {
     "name": "stderr",
     "output_type": "stream",
     "text": [
      "\u001B[32m[I 2023-05-03 17:48:31,002]\u001B[0m Trial 96 finished with value: 551.5938745673285 and parameters: {'eta': 0.10307534890316053, 'max_depth': 4, 'min_child_weight': 0.032486542093100285, 'subsample': 0.942269538321878, 'colsample_bynode': 0.6066879837999158}. Best is trial 84 with value: 549.1448623889361.\u001B[0m\n"
     ]
    },
    {
     "name": "stdout",
     "output_type": "stream",
     "text": [
      "[0]\ttrain-rmse:5971.84687+5.44642\ttrain-mae:5827.85859+6.42626\ttest-rmse:5971.80407+22.12075\ttest-mae:5827.81435+25.88086\n",
      "[100]\ttrain-rmse:510.86629+5.07357\ttrain-mae:353.69656+2.34831\ttest-rmse:597.36386+15.24201\ttest-mae:399.99256+7.12276\n",
      "[199]\ttrain-rmse:394.18463+5.67204\ttrain-mae:254.01243+2.85661\ttest-rmse:555.01016+19.75093\ttest-mae:344.14123+7.90774\n"
     ]
    },
    {
     "name": "stderr",
     "output_type": "stream",
     "text": [
      "\u001B[32m[I 2023-05-03 17:48:45,364]\u001B[0m Trial 97 finished with value: 555.0101646986982 and parameters: {'eta': 0.0326089512907907, 'max_depth': 9, 'min_child_weight': 0.041815573408474714, 'subsample': 0.9641713441737079, 'colsample_bynode': 0.5696211309680189}. Best is trial 84 with value: 549.1448623889361.\u001B[0m\n"
     ]
    },
    {
     "name": "stdout",
     "output_type": "stream",
     "text": [
      "[0]\ttrain-rmse:5865.99154+5.35813\ttrain-mae:5723.25169+6.32814\ttest-rmse:5866.06370+21.78943\ttest-mae:5723.31906+25.52228\n",
      "[100]\ttrain-rmse:519.10127+5.19429\ttrain-mae:326.72533+2.02819\ttest-rmse:552.86974+17.02475\ttest-mae:343.70172+6.66863\n",
      "[199]\ttrain-rmse:496.76505+5.49983\ttrain-mae:314.24826+2.23106\ttest-rmse:550.96337+17.94472\ttest-mae:342.33635+7.27536\n"
     ]
    },
    {
     "name": "stderr",
     "output_type": "stream",
     "text": [
      "\u001B[32m[I 2023-05-03 17:48:48,423]\u001B[0m Trial 98 finished with value: 550.9633718550674 and parameters: {'eta': 0.05000804372685332, 'max_depth': 5, 'min_child_weight': 0.11488196253787489, 'subsample': 0.9115913275143148, 'colsample_bynode': 0.5226733461214425}. Best is trial 84 with value: 549.1448623889361.\u001B[0m\n"
     ]
    },
    {
     "name": "stdout",
     "output_type": "stream",
     "text": [
      "[0]\ttrain-rmse:5773.01285+5.24551\ttrain-mae:5631.27301+6.22143\ttest-rmse:5773.08304+21.62888\ttest-mae:5631.30961+25.42186\n",
      "[100]\ttrain-rmse:528.24138+4.60439\ttrain-mae:332.02125+1.93847\ttest-rmse:552.27684+17.11776\ttest-mae:344.33253+6.62697\n",
      "[199]\ttrain-rmse:512.68156+4.75293\ttrain-mae:323.53886+1.87686\ttest-rmse:551.00428+18.02185\ttest-mae:343.30038+7.12162\n"
     ]
    },
    {
     "name": "stderr",
     "output_type": "stream",
     "text": [
      "\u001B[32m[I 2023-05-03 17:48:50,852]\u001B[0m Trial 99 finished with value: 551.0042818389917 and parameters: {'eta': 0.06528545976383175, 'max_depth': 4, 'min_child_weight': 0.021918647824833326, 'subsample': 0.8870222013753217, 'colsample_bynode': 0.4746706665926754}. Best is trial 84 with value: 549.1448623889361.\u001B[0m\n"
     ]
    },
    {
     "name": "stdout",
     "output_type": "stream",
     "text": [
      "[0]\ttrain-rmse:6050.83581+5.52627\ttrain-mae:5905.84288+6.48907\ttest-rmse:6050.82310+22.36421\ttest-mae:5905.85183+26.16632\n",
      "[100]\ttrain-rmse:992.73212+2.09527\ttrain-mae:858.02232+0.77954\ttest-rmse:1001.26855+8.73870\ttest-mae:862.58944+4.57968\n",
      "[199]\ttrain-rmse:536.57790+4.81173\ttrain-mae:343.43840+1.86036\ttest-rmse:563.94827+16.25183\ttest-mae:357.27330+6.67949\n"
     ]
    },
    {
     "name": "stderr",
     "output_type": "stream",
     "text": [
      "\u001B[32m[I 2023-05-03 17:48:54,044]\u001B[0m Trial 100 finished with value: 563.9482669577528 and parameters: {'eta': 0.019657837617107165, 'max_depth': 5, 'min_child_weight': 0.09838788781299797, 'subsample': 0.7963522199384445, 'colsample_bynode': 0.6748134754569237}. Best is trial 84 with value: 549.1448623889361.\u001B[0m\n"
     ]
    },
    {
     "name": "stdout",
     "output_type": "stream",
     "text": [
      "[0]\ttrain-rmse:5900.29163+5.37348\ttrain-mae:5757.25134+6.34615\ttest-rmse:5900.24097+21.90292\ttest-mae:5757.19091+25.65390\n",
      "[100]\ttrain-rmse:523.82316+5.01655\ttrain-mae:330.72929+1.93471\ttest-rmse:555.11209+16.93487\ttest-mae:346.72587+6.69165\n",
      "[190]\ttrain-rmse:500.79517+5.54080\ttrain-mae:316.26600+2.27123\ttest-rmse:550.46852+18.45456\ttest-mae:342.37274+7.05349\n"
     ]
    },
    {
     "name": "stderr",
     "output_type": "stream",
     "text": [
      "\u001B[32m[I 2023-05-03 17:48:56,966]\u001B[0m Trial 101 finished with value: 550.5353883512217 and parameters: {'eta': 0.04434420273373293, 'max_depth': 5, 'min_child_weight': 0.04984756747070781, 'subsample': 0.9859840598812202, 'colsample_bynode': 0.5738293100030811}. Best is trial 84 with value: 549.1448623889361.\u001B[0m\n"
     ]
    },
    {
     "name": "stdout",
     "output_type": "stream",
     "text": [
      "[0]\ttrain-rmse:5807.49188+5.28106\ttrain-mae:5665.68890+6.25633\ttest-rmse:5807.50848+21.65710\ttest-mae:5665.69954+25.38106\n",
      "[100]\ttrain-rmse:511.88087+5.57319\ttrain-mae:322.41325+2.30587\ttest-rmse:551.27159+18.07169\ttest-mae:342.40767+6.80920\n",
      "[157]\ttrain-rmse:497.50183+5.73731\ttrain-mae:314.67974+2.51318\ttest-rmse:551.00016+18.48071\ttest-mae:342.68960+7.08911\n"
     ]
    },
    {
     "name": "stderr",
     "output_type": "stream",
     "text": [
      "\u001B[32m[I 2023-05-03 17:48:59,421]\u001B[0m Trial 102 finished with value: 550.9938293309733 and parameters: {'eta': 0.059552792153645416, 'max_depth': 5, 'min_child_weight': 0.041246780127734445, 'subsample': 0.9528310792388581, 'colsample_bynode': 0.5857622987651838}. Best is trial 84 with value: 549.1448623889361.\u001B[0m\n"
     ]
    },
    {
     "name": "stdout",
     "output_type": "stream",
     "text": [
      "[0]\ttrain-rmse:5974.50918+5.45001\ttrain-mae:5830.53818+6.42317\ttest-rmse:5974.53756+22.15274\ttest-mae:5830.57979+25.93963\n",
      "[100]\ttrain-rmse:576.24003+4.40593\ttrain-mae:390.96159+1.80576\ttest-rmse:598.47476+14.22615\ttest-mae:402.28067+6.05218\n",
      "[199]\ttrain-rmse:508.73096+5.30196\ttrain-mae:320.60149+2.25952\ttest-rmse:550.23399+17.39447\ttest-mae:341.69892+7.01073\n"
     ]
    },
    {
     "name": "stderr",
     "output_type": "stream",
     "text": [
      "\u001B[32m[I 2023-05-03 17:49:02,483]\u001B[0m Trial 103 finished with value: 550.2339915907194 and parameters: {'eta': 0.03216414558532722, 'max_depth': 5, 'min_child_weight': 0.0742835432792513, 'subsample': 0.9292307666163666, 'colsample_bynode': 0.6103824998304687}. Best is trial 84 with value: 549.1448623889361.\u001B[0m\n"
     ]
    },
    {
     "name": "stdout",
     "output_type": "stream",
     "text": [
      "[0]\ttrain-rmse:5970.22207+5.43408\ttrain-mae:5826.31546+6.41827\ttest-rmse:5970.22858+22.08981\ttest-mae:5826.32745+25.86272\n",
      "[100]\ttrain-rmse:557.23528+4.57755\ttrain-mae:376.09626+1.90752\ttest-rmse:591.63654+15.20471\ttest-mae:393.96583+6.60063\n",
      "[199]\ttrain-rmse:486.19243+5.13851\ttrain-mae:308.13714+1.88548\ttest-rmse:550.30642+18.44019\ttest-mae:341.30289+7.48835\n"
     ]
    },
    {
     "name": "stderr",
     "output_type": "stream",
     "text": [
      "\u001B[32m[I 2023-05-03 17:49:06,438]\u001B[0m Trial 104 finished with value: 550.3064245606631 and parameters: {'eta': 0.03286798707973534, 'max_depth': 6, 'min_child_weight': 0.07167663116540762, 'subsample': 0.8288168392251812, 'colsample_bynode': 0.6430098347433162}. Best is trial 84 with value: 549.1448623889361.\u001B[0m\n"
     ]
    },
    {
     "name": "stdout",
     "output_type": "stream",
     "text": [
      "[0]\ttrain-rmse:5993.47260+5.46509\ttrain-mae:5849.24712+6.44532\ttest-rmse:5993.47056+22.15909\ttest-mae:5849.25554+25.94098\n",
      "[100]\ttrain-rmse:597.28267+4.33440\ttrain-mae:432.09253+1.77064\ttest-rmse:637.97578+13.74451\ttest-mae:453.20227+6.18145\n",
      "[199]\ttrain-rmse:467.12400+5.54721\ttrain-mae:297.41903+2.35937\ttest-rmse:551.17014+18.95989\ttest-mae:341.53982+7.58220\n"
     ]
    },
    {
     "name": "stderr",
     "output_type": "stream",
     "text": [
      "\u001B[32m[I 2023-05-03 17:49:11,708]\u001B[0m Trial 105 finished with value: 551.1701426753045 and parameters: {'eta': 0.029055564454226888, 'max_depth': 7, 'min_child_weight': 0.07947175166088227, 'subsample': 0.8391685821915003, 'colsample_bynode': 0.6463211353858797}. Best is trial 84 with value: 549.1448623889361.\u001B[0m\n"
     ]
    },
    {
     "name": "stdout",
     "output_type": "stream",
     "text": [
      "[0]\ttrain-rmse:6045.39216+5.51470\ttrain-mae:5900.42422+6.48624\ttest-rmse:6045.38371+22.32195\ttest-mae:5900.42873+26.11156\n",
      "[100]\ttrain-rmse:927.82840+2.40183\ttrain-mae:791.89469+0.91684\ttest-rmse:941.83776+8.85051\ttest-mae:799.36485+3.72096\n",
      "[199]\ttrain-rmse:516.05248+4.77396\ttrain-mae:329.45294+1.96912\ttest-rmse:560.03847+16.48868\ttest-mae:351.74075+6.43067\n"
     ]
    },
    {
     "name": "stderr",
     "output_type": "stream",
     "text": [
      "\u001B[32m[I 2023-05-03 17:49:15,703]\u001B[0m Trial 106 finished with value: 560.0384690506481 and parameters: {'eta': 0.020553639294659858, 'max_depth': 6, 'min_child_weight': 0.07089813196514361, 'subsample': 0.8218169797230759, 'colsample_bynode': 0.6067313518413522}. Best is trial 84 with value: 549.1448623889361.\u001B[0m\n"
     ]
    },
    {
     "name": "stdout",
     "output_type": "stream",
     "text": [
      "[0]\ttrain-rmse:5936.50163+5.42185\ttrain-mae:5793.09999+6.40731\ttest-rmse:5936.50010+22.00959\ttest-mae:5793.08045+25.77115\n",
      "[100]\ttrain-rmse:522.31036+5.14804\ttrain-mae:336.19537+2.13435\ttest-rmse:564.12205+16.60621\ttest-mae:357.67891+6.93764\n",
      "[199]\ttrain-rmse:478.82752+5.72532\ttrain-mae:304.12922+2.23596\ttest-rmse:550.62658+18.56893\ttest-mae:341.91184+7.38438\n"
     ]
    },
    {
     "name": "stderr",
     "output_type": "stream",
     "text": [
      "\u001B[32m[I 2023-05-03 17:49:19,749]\u001B[0m Trial 107 finished with value: 550.6265810775101 and parameters: {'eta': 0.03839711778996443, 'max_depth': 6, 'min_child_weight': 0.09052923690085445, 'subsample': 0.8734569270945405, 'colsample_bynode': 0.6221961690598274}. Best is trial 84 with value: 549.1448623889361.\u001B[0m\n"
     ]
    },
    {
     "name": "stdout",
     "output_type": "stream",
     "text": [
      "[0]\ttrain-rmse:5884.84228+5.37197\ttrain-mae:5741.93561+6.34292\ttest-rmse:5884.83365+21.86447\ttest-mae:5741.95018+25.64407\n",
      "[100]\ttrain-rmse:536.47362+4.98599\ttrain-mae:337.19914+2.10136\ttest-rmse:555.25626+15.89714\ttest-mae:346.89474+6.07568\n",
      "[199]\ttrain-rmse:520.07193+4.85935\ttrain-mae:327.12573+1.92819\ttest-rmse:550.69207+16.69385\ttest-mae:342.94097+6.56659\n"
     ]
    },
    {
     "name": "stderr",
     "output_type": "stream",
     "text": [
      "\u001B[32m[I 2023-05-03 17:49:22,238]\u001B[0m Trial 108 finished with value: 550.6920689870685 and parameters: {'eta': 0.046881062003456486, 'max_depth': 4, 'min_child_weight': 0.13391654321304, 'subsample': 0.9313026160823451, 'colsample_bynode': 0.5570447718669392}. Best is trial 84 with value: 549.1448623889361.\u001B[0m\n"
     ]
    },
    {
     "name": "stdout",
     "output_type": "stream",
     "text": [
      "[0]\ttrain-rmse:5718.17996+5.19327\ttrain-mae:5577.80797+6.16408\ttest-rmse:5718.22562+21.42212\ttest-mae:5577.81189+25.17647\n",
      "[100]\ttrain-rmse:523.60668+4.94849\ttrain-mae:329.56744+1.77713\ttest-rmse:551.43391+17.30332\ttest-mae:343.90644+6.78897\n",
      "[199]\ttrain-rmse:505.68624+4.97818\ttrain-mae:320.03058+1.83255\ttest-rmse:550.72029+17.98013\ttest-mae:343.79044+7.22682\n"
     ]
    },
    {
     "name": "stderr",
     "output_type": "stream",
     "text": [
      "\u001B[32m[I 2023-05-03 17:49:24,634]\u001B[0m Trial 109 finished with value: 550.7202897103034 and parameters: {'eta': 0.07415941896801269, 'max_depth': 4, 'min_child_weight': 0.06012138436922127, 'subsample': 0.9042031084282496, 'colsample_bynode': 0.7220405057071365}. Best is trial 84 with value: 549.1448623889361.\u001B[0m\n"
     ]
    },
    {
     "name": "stdout",
     "output_type": "stream",
     "text": [
      "[0]\ttrain-rmse:5969.60294+5.43221\ttrain-mae:5825.44976+6.40590\ttest-rmse:5969.60328+22.11509\ttest-mae:5825.47435+25.91272\n",
      "[100]\ttrain-rmse:591.56069+3.84000\ttrain-mae:395.65349+1.71949\ttest-rmse:598.84257+14.85936\ttest-mae:399.60429+6.04813\n",
      "[199]\ttrain-rmse:541.63587+4.15002\ttrain-mae:339.64514+1.56742\ttest-rmse:554.73078+17.48950\ttest-mae:346.38124+6.87588\n"
     ]
    },
    {
     "name": "stderr",
     "output_type": "stream",
     "text": [
      "\u001B[32m[I 2023-05-03 17:49:27,090]\u001B[0m Trial 110 finished with value: 554.7307803369455 and parameters: {'eta': 0.03300313277859472, 'max_depth': 3, 'min_child_weight': 0.08064422802526493, 'subsample': 0.8585269053600668, 'colsample_bynode': 0.6426610743696483}. Best is trial 84 with value: 549.1448623889361.\u001B[0m\n"
     ]
    },
    {
     "name": "stdout",
     "output_type": "stream",
     "text": [
      "[0]\ttrain-rmse:5749.84465+5.22301\ttrain-mae:5608.85754+6.18965\ttest-rmse:5749.85717+21.48256\ttest-mae:5608.87149+25.21102\n",
      "[100]\ttrain-rmse:508.11274+5.31085\ttrain-mae:320.49875+2.20186\ttest-rmse:551.79217+17.18593\ttest-mae:343.04684+6.66835\n",
      "[169]\ttrain-rmse:489.68570+4.81348\ttrain-mae:310.65071+2.30781\ttest-rmse:552.18096+17.65347\ttest-mae:343.58867+6.73649\n"
     ]
    },
    {
     "name": "stderr",
     "output_type": "stream",
     "text": [
      "\u001B[32m[I 2023-05-03 17:49:31,395]\u001B[0m Trial 111 finished with value: 551.7135769246861 and parameters: {'eta': 0.06900740250313059, 'max_depth': 5, 'min_child_weight': 0.06358319733146048, 'subsample': 0.9269647002828483, 'colsample_bynode': 0.5374870360912287}. Best is trial 84 with value: 549.1448623889361.\u001B[0m\n"
     ]
    },
    {
     "name": "stdout",
     "output_type": "stream",
     "text": [
      "[0]\ttrain-rmse:5829.80400+5.29880\ttrain-mae:5687.83295+6.27684\ttest-rmse:5829.81967+21.71222\ttest-mae:5687.82287+25.47898\n",
      "[100]\ttrain-rmse:513.35547+5.67409\ttrain-mae:323.16974+2.38477\ttest-rmse:551.67781+17.10982\ttest-mae:342.70798+6.94839\n",
      "[171]\ttrain-rmse:496.19741+5.54683\ttrain-mae:313.96513+2.34526\ttest-rmse:551.68516+17.99651\ttest-mae:342.94574+7.22211\n"
     ]
    },
    {
     "name": "stderr",
     "output_type": "stream",
     "text": [
      "\u001B[32m[I 2023-05-03 17:49:34,590]\u001B[0m Trial 112 finished with value: 551.4384338310437 and parameters: {'eta': 0.055871176680891574, 'max_depth': 5, 'min_child_weight': 0.04863724503909859, 'subsample': 0.958146704893602, 'colsample_bynode': 0.5948210526542876}. Best is trial 84 with value: 549.1448623889361.\u001B[0m\n"
     ]
    },
    {
     "name": "stdout",
     "output_type": "stream",
     "text": [
      "[0]\ttrain-rmse:5645.53845+5.07934\ttrain-mae:5506.11360+6.05791\ttest-rmse:5645.54870+21.19335\ttest-mae:5506.02289+24.95708\n",
      "[100]\ttrain-rmse:501.03542+4.98902\ttrain-mae:316.53034+2.24569\ttest-rmse:552.29657+19.05647\ttest-mae:343.27165+7.22714\n",
      "[117]\ttrain-rmse:495.43564+4.78164\ttrain-mae:313.42371+2.17486\ttest-rmse:552.18847+19.03392\ttest-mae:343.35283+7.13463\n"
     ]
    },
    {
     "name": "stderr",
     "output_type": "stream",
     "text": [
      "\u001B[32m[I 2023-05-03 17:49:36,831]\u001B[0m Trial 113 finished with value: 552.1170858815489 and parameters: {'eta': 0.08607469286336439, 'max_depth': 5, 'min_child_weight': 0.029128844168381487, 'subsample': 0.9994169681572147, 'colsample_bynode': 0.6142838875698949}. Best is trial 84 with value: 549.1448623889361.\u001B[0m\n"
     ]
    },
    {
     "name": "stdout",
     "output_type": "stream",
     "text": [
      "[0]\ttrain-rmse:6044.45539+5.52388\ttrain-mae:5899.43329+6.51040\ttest-rmse:6044.45697+22.34097\ttest-mae:5899.44577+26.10005\n",
      "[100]\ttrain-rmse:917.08160+2.47627\ttrain-mae:780.17200+0.94136\ttest-rmse:930.91853+9.13140\ttest-mae:787.39804+4.06949\n",
      "[199]\ttrain-rmse:515.96083+5.05253\ttrain-mae:329.11224+2.06447\ttest-rmse:558.88409+16.95650\ttest-mae:351.40371+7.01040\n"
     ]
    },
    {
     "name": "stderr",
     "output_type": "stream",
     "text": [
      "\u001B[32m[I 2023-05-03 17:49:41,435]\u001B[0m Trial 114 finished with value: 558.8840938464833 and parameters: {'eta': 0.020727423147221084, 'max_depth': 6, 'min_child_weight': 0.10608218870666224, 'subsample': 0.9084072024709122, 'colsample_bynode': 0.5117951987712662}. Best is trial 84 with value: 549.1448623889361.\u001B[0m\n"
     ]
    },
    {
     "name": "stdout",
     "output_type": "stream",
     "text": [
      "[0]\ttrain-rmse:5867.52099+5.34828\ttrain-mae:5724.76092+6.31261\ttest-rmse:5867.59532+21.82216\ttest-mae:5724.84344+25.58468\n",
      "[100]\ttrain-rmse:519.18078+4.81224\ttrain-mae:326.72397+2.17051\ttest-rmse:552.78594+17.06115\ttest-mae:343.94017+6.42308\n",
      "[186]\ttrain-rmse:499.51093+4.85835\ttrain-mae:315.60257+2.16634\ttest-rmse:550.84065+18.22415\ttest-mae:342.52355+7.13154\n"
     ]
    },
    {
     "name": "stderr",
     "output_type": "stream",
     "text": [
      "\u001B[32m[I 2023-05-03 17:49:44,683]\u001B[0m Trial 115 finished with value: 550.9917533283866 and parameters: {'eta': 0.04974534397480942, 'max_depth': 5, 'min_child_weight': 0.0714762622034814, 'subsample': 0.9672787085586358, 'colsample_bynode': 0.49128290382792295}. Best is trial 84 with value: 549.1448623889361.\u001B[0m\n"
     ]
    },
    {
     "name": "stdout",
     "output_type": "stream",
     "text": [
      "[0]\ttrain-rmse:6104.40940+5.58769\ttrain-mae:5958.57190+6.55775\ttest-rmse:6104.38586+22.51332\ttest-mae:5958.57729+26.30599\n",
      "[100]\ttrain-rmse:2111.38722+1.35201\ttrain-mae:2003.35987+1.74781\ttest-rmse:2114.94633+10.92687\ttest-mae:2004.86555+12.61302\n",
      "[199]\ttrain-rmse:867.88671+2.50287\ttrain-mae:731.27521+1.00878\ttest-rmse:888.96216+9.30920\ttest-mae:742.52738+3.66465\n"
     ]
    },
    {
     "name": "stderr",
     "output_type": "stream",
     "text": [
      "\u001B[32m[I 2023-05-03 17:49:50,202]\u001B[0m Trial 116 finished with value: 888.9621615858865 and parameters: {'eta': 0.010893084625751063, 'max_depth': 7, 'min_child_weight': 0.03607242242583882, 'subsample': 0.8912134920952418, 'colsample_bynode': 0.5595787656898155}. Best is trial 84 with value: 549.1448623889361.\u001B[0m\n"
     ]
    },
    {
     "name": "stdout",
     "output_type": "stream",
     "text": [
      "[0]\ttrain-rmse:5926.96514+5.40395\ttrain-mae:5783.49121+6.37375\ttest-rmse:5926.91681+21.98075\ttest-mae:5783.45817+25.76726\n",
      "[100]\ttrain-rmse:546.55467+4.30402\ttrain-mae:347.57034+1.70800\ttest-rmse:562.77995+16.29297\ttest-mae:355.90506+6.38673\n",
      "[199]\ttrain-rmse:523.23891+4.79750\ttrain-mae:328.93751+1.87239\ttest-rmse:550.70269+17.22534\ttest-mae:343.21235+6.37868\n"
     ]
    },
    {
     "name": "stderr",
     "output_type": "stream",
     "text": [
      "\u001B[32m[I 2023-05-03 17:49:53,047]\u001B[0m Trial 117 finished with value: 550.7026937679084 and parameters: {'eta': 0.03997742844828652, 'max_depth': 4, 'min_child_weight': 0.05326635193443186, 'subsample': 0.984070774938239, 'colsample_bynode': 0.5353459769626718}. Best is trial 84 with value: 549.1448623889361.\u001B[0m\n"
     ]
    },
    {
     "name": "stdout",
     "output_type": "stream",
     "text": [
      "[0]\ttrain-rmse:5581.67599+5.05655\ttrain-mae:5443.09381+6.05197\ttest-rmse:5581.82319+21.03624\ttest-mae:5443.17101+24.76192\n",
      "[100]\ttrain-rmse:496.06940+5.63849\ttrain-mae:314.04500+2.24950\ttest-rmse:551.71028+18.33665\ttest-mae:343.38226+6.96169\n",
      "[113]\ttrain-rmse:491.42776+5.72716\ttrain-mae:311.69846+2.27376\ttest-rmse:552.04262+18.75267\ttest-mae:343.81006+7.11834\n"
     ]
    },
    {
     "name": "stderr",
     "output_type": "stream",
     "text": [
      "\u001B[32m[I 2023-05-03 17:49:55,213]\u001B[0m Trial 118 finished with value: 551.3383604332203 and parameters: {'eta': 0.09653262965752132, 'max_depth': 5, 'min_child_weight': 0.15283934728283202, 'subsample': 0.9388409280167667, 'colsample_bynode': 0.6289094844462901}. Best is trial 84 with value: 549.1448623889361.\u001B[0m\n"
     ]
    },
    {
     "name": "stdout",
     "output_type": "stream",
     "text": [
      "[0]\ttrain-rmse:5806.59391+5.27981\ttrain-mae:5664.83730+6.24716\ttest-rmse:5806.60990+21.66108\ttest-mae:5664.83037+25.37884\n",
      "[100]\ttrain-rmse:512.06728+5.10950\ttrain-mae:322.76513+2.08873\ttest-rmse:551.95090+16.20620\ttest-mae:342.53497+6.63066\n",
      "[180]\ttrain-rmse:491.94411+5.02612\ttrain-mae:312.01333+2.30214\ttest-rmse:551.53993+17.48176\ttest-mae:342.67075+7.55277\n"
     ]
    },
    {
     "name": "stderr",
     "output_type": "stream",
     "text": [
      "\u001B[32m[I 2023-05-03 17:49:58,258]\u001B[0m Trial 119 finished with value: 551.2881022189968 and parameters: {'eta': 0.059713941729071, 'max_depth': 5, 'min_child_weight': 0.043248243813872655, 'subsample': 0.8796933086124825, 'colsample_bynode': 0.5857631739320677}. Best is trial 84 with value: 549.1448623889361.\u001B[0m\n"
     ]
    },
    {
     "name": "stdout",
     "output_type": "stream",
     "text": [
      "[0]\ttrain-rmse:5981.24056+5.46161\ttrain-mae:5837.18295+6.43135\ttest-rmse:5981.23938+22.16672\ttest-mae:5837.19106+25.95240\n",
      "[100]\ttrain-rmse:599.54034+3.89073\ttrain-mae:412.12227+1.67958\ttest-rmse:612.18541+14.02879\ttest-mae:418.71893+5.49068\n",
      "[199]\ttrain-rmse:527.79691+4.42492\ttrain-mae:331.31327+1.73436\ttest-rmse:552.06432+17.42112\ttest-mae:343.19319+7.01604\n"
     ]
    },
    {
     "name": "stderr",
     "output_type": "stream",
     "text": [
      "\u001B[32m[I 2023-05-03 17:50:01,120]\u001B[0m Trial 120 finished with value: 552.0643218256691 and parameters: {'eta': 0.031055910437793984, 'max_depth': 4, 'min_child_weight': 0.09089259101646391, 'subsample': 0.9203133275539406, 'colsample_bynode': 0.6693804452078771}. Best is trial 84 with value: 549.1448623889361.\u001B[0m\n"
     ]
    },
    {
     "name": "stdout",
     "output_type": "stream",
     "text": [
      "[0]\ttrain-rmse:5754.40955+5.23018\ttrain-mae:5613.32311+6.20315\ttest-rmse:5754.39558+21.47588\ttest-mae:5613.27716+25.19471\n",
      "[100]\ttrain-rmse:508.07508+4.73019\ttrain-mae:320.47560+1.88770\ttest-rmse:550.64429+17.81350\ttest-mae:342.36478+6.90320\n",
      "[159]\ttrain-rmse:492.43509+4.80895\ttrain-mae:312.00852+1.86351\ttest-rmse:550.87460+18.68667\ttest-mae:342.72365+7.42543\n"
     ]
    },
    {
     "name": "stderr",
     "output_type": "stream",
     "text": [
      "\u001B[32m[I 2023-05-03 17:50:03,958]\u001B[0m Trial 121 finished with value: 550.5029103512056 and parameters: {'eta': 0.06825609850629771, 'max_depth': 5, 'min_child_weight': 0.061132742280735335, 'subsample': 0.9555932962036233, 'colsample_bynode': 0.575876368390461}. Best is trial 84 with value: 549.1448623889361.\u001B[0m\n"
     ]
    },
    {
     "name": "stdout",
     "output_type": "stream",
     "text": [
      "[0]\ttrain-rmse:5820.25486+5.30305\ttrain-mae:5678.43037+6.28860\ttest-rmse:5820.32388+21.70034\ttest-mae:5678.47700+25.45526\n",
      "[100]\ttrain-rmse:512.47141+4.82006\ttrain-mae:322.78537+1.98321\ttest-rmse:551.39820+17.16387\ttest-mae:342.74483+6.83889\n",
      "[175]\ttrain-rmse:494.26838+4.51226\ttrain-mae:313.15884+1.98976\ttest-rmse:551.41160+18.16562\ttest-mae:343.01387+7.06365\n"
     ]
    },
    {
     "name": "stderr",
     "output_type": "stream",
     "text": [
      "\u001B[32m[I 2023-05-03 17:50:07,058]\u001B[0m Trial 122 finished with value: 550.9990003673631 and parameters: {'eta': 0.057436652692631526, 'max_depth': 5, 'min_child_weight': 0.033795960288808796, 'subsample': 0.9327957777007077, 'colsample_bynode': 0.6135918510469086}. Best is trial 84 with value: 549.1448623889361.\u001B[0m\n"
     ]
    },
    {
     "name": "stdout",
     "output_type": "stream",
     "text": [
      "[0]\ttrain-rmse:5702.50318+5.17551\ttrain-mae:5562.11743+6.15340\ttest-rmse:5702.44438+21.31286\ttest-mae:5562.01047+25.02241\n",
      "[100]\ttrain-rmse:504.53358+5.18741\ttrain-mae:318.58778+2.11828\ttest-rmse:552.16256+18.36689\ttest-mae:343.23953+6.98710\n",
      "[142]\ttrain-rmse:492.15668+5.26915\ttrain-mae:311.86512+2.10951\ttest-rmse:552.56584+18.65351\ttest-mae:343.71408+7.10944\n"
     ]
    },
    {
     "name": "stderr",
     "output_type": "stream",
     "text": [
      "\u001B[32m[I 2023-05-03 17:50:09,740]\u001B[0m Trial 123 finished with value: 552.1599562677754 and parameters: {'eta': 0.07677193286242684, 'max_depth': 5, 'min_child_weight': 0.04647101453397265, 'subsample': 0.9788995436405445, 'colsample_bynode': 0.5574869587494952}. Best is trial 84 with value: 549.1448623889361.\u001B[0m\n"
     ]
    },
    {
     "name": "stdout",
     "output_type": "stream",
     "text": [
      "[0]\ttrain-rmse:5915.27025+5.37981\ttrain-mae:5772.06164+6.36410\ttest-rmse:5915.29053+21.95055\ttest-mae:5772.08336+25.72304\n",
      "[100]\ttrain-rmse:542.35922+4.40677\ttrain-mae:342.81916+1.73092\ttest-rmse:560.03561+16.50197\ttest-mae:351.77884+6.34352\n",
      "[199]\ttrain-rmse:522.07026+4.64115\ttrain-mae:328.21628+1.69653\ttest-rmse:551.05217+17.83929\ttest-mae:343.04137+6.65121\n"
     ]
    },
    {
     "name": "stderr",
     "output_type": "stream",
     "text": [
      "\u001B[32m[I 2023-05-03 17:50:12,831]\u001B[0m Trial 124 finished with value: 551.0521660011666 and parameters: {'eta': 0.04188167236540312, 'max_depth': 4, 'min_child_weight': 0.02784778380994725, 'subsample': 0.8629551814532049, 'colsample_bynode': 0.5982707376313043}. Best is trial 84 with value: 549.1448623889361.\u001B[0m\n"
     ]
    },
    {
     "name": "stdout",
     "output_type": "stream",
     "text": [
      "[0]\ttrain-rmse:6014.20292+5.49518\ttrain-mae:5869.72292+6.46081\ttest-rmse:6014.21215+22.28468\ttest-mae:5869.74369+26.07621\n",
      "[100]\ttrain-rmse:697.62330+3.49141\ttrain-mae:537.02700+1.58520\ttest-rmse:713.68659+11.57207\ttest-mae:545.28237+3.96072\n",
      "[199]\ttrain-rmse:516.00978+5.24621\ttrain-mae:324.71825+2.10111\ttest-rmse:551.92913+17.24819\ttest-mae:342.84065+6.56733\n"
     ]
    },
    {
     "name": "stderr",
     "output_type": "stream",
     "text": [
      "\u001B[32m[I 2023-05-03 17:50:16,445]\u001B[0m Trial 125 finished with value: 551.9291331258453 and parameters: {'eta': 0.025651196891420966, 'max_depth': 5, 'min_child_weight': 0.03956867944601336, 'subsample': 0.9482467524220403, 'colsample_bynode': 0.649914307893309}. Best is trial 84 with value: 549.1448623889361.\u001B[0m\n"
     ]
    },
    {
     "name": "stdout",
     "output_type": "stream",
     "text": [
      "[0]\ttrain-rmse:5642.60877+5.13797\ttrain-mae:5502.71559+6.11339\ttest-rmse:5642.80071+21.14895\ttest-mae:5502.86940+24.82556\n",
      "[100]\ttrain-rmse:502.75745+4.91467\ttrain-mae:318.08772+1.96176\ttest-rmse:551.20951+18.22661\ttest-mae:343.04772+7.30474\n",
      "[137]\ttrain-rmse:491.17384+4.59798\ttrain-mae:311.81002+1.88162\ttest-rmse:551.13820+18.78853\ttest-mae:343.37754+7.76187\n"
     ]
    },
    {
     "name": "stderr",
     "output_type": "stream",
     "text": [
      "\u001B[32m[I 2023-05-03 17:50:19,079]\u001B[0m Trial 126 finished with value: 550.9853976229856 and parameters: {'eta': 0.08666777682320334, 'max_depth': 5, 'min_child_weight': 0.07460684425732265, 'subsample': 0.9046721347202163, 'colsample_bynode': 0.5243961757532777}. Best is trial 84 with value: 549.1448623889361.\u001B[0m\n"
     ]
    },
    {
     "name": "stdout",
     "output_type": "stream",
     "text": [
      "[0]\ttrain-rmse:5874.15885+5.33509\ttrain-mae:5731.15375+6.30259\ttest-rmse:5874.14816+21.86925\ttest-mae:5731.13913+25.68692\n",
      "[100]\ttrain-rmse:535.33484+4.62133\ttrain-mae:336.60440+1.92156\ttest-rmse:554.18517+16.45022\ttest-mae:346.52329+6.43560\n",
      "[199]\ttrain-rmse:520.08925+4.96158\ttrain-mae:327.37482+1.93262\ttest-rmse:549.97246+17.44786\ttest-mae:343.26657+6.77635\n"
     ]
    },
    {
     "name": "stderr",
     "output_type": "stream",
     "text": [
      "\u001B[32m[I 2023-05-03 17:50:21,886]\u001B[0m Trial 127 finished with value: 549.972458991305 and parameters: {'eta': 0.04867268264289239, 'max_depth': 4, 'min_child_weight': 0.21715318439618175, 'subsample': 0.963174885129771, 'colsample_bynode': 0.5069253931032579}. Best is trial 84 with value: 549.1448623889361.\u001B[0m\n"
     ]
    },
    {
     "name": "stdout",
     "output_type": "stream",
     "text": [
      "[0]\ttrain-rmse:5866.02937+5.34125\ttrain-mae:5723.11791+6.31129\ttest-rmse:5866.01425+21.86221\ttest-mae:5723.09760+25.67337\n",
      "[100]\ttrain-rmse:534.25168+4.57858\ttrain-mae:335.87875+1.85543\ttest-rmse:554.25091+16.48163\ttest-mae:346.30313+6.52327\n",
      "[199]\ttrain-rmse:519.40368+4.64464\ttrain-mae:327.00627+1.80100\ttest-rmse:550.93251+17.06036\ttest-mae:343.75088+6.81073\n"
     ]
    },
    {
     "name": "stderr",
     "output_type": "stream",
     "text": [
      "\u001B[32m[I 2023-05-03 17:50:24,690]\u001B[0m Trial 128 finished with value: 550.9325084642697 and parameters: {'eta': 0.05000815050092417, 'max_depth': 4, 'min_child_weight': 0.1925337871043225, 'subsample': 0.970073819012313, 'colsample_bynode': 0.482292875366323}. Best is trial 84 with value: 549.1448623889361.\u001B[0m\n"
     ]
    },
    {
     "name": "stdout",
     "output_type": "stream",
     "text": [
      "[0]\ttrain-rmse:5966.64006+5.43498\ttrain-mae:5822.45020+6.41039\ttest-rmse:5966.60302+22.19916\ttest-mae:5822.42209+26.02474\n",
      "[100]\ttrain-rmse:577.69345+4.02580\ttrain-mae:385.43963+1.59290\ttest-rmse:591.17544+14.14785\ttest-mae:392.56424+6.10597\n",
      "[199]\ttrain-rmse:528.36361+4.97652\ttrain-mae:332.46144+2.14535\ttest-rmse:552.17534+16.82317\ttest-mae:344.80168+6.37027\n"
     ]
    },
    {
     "name": "stderr",
     "output_type": "stream",
     "text": [
      "\u001B[32m[I 2023-05-03 17:50:27,444]\u001B[0m Trial 129 finished with value: 552.1753402022792 and parameters: {'eta': 0.03350956101726744, 'max_depth': 4, 'min_child_weight': 0.13227059753949194, 'subsample': 0.9200678977185677, 'colsample_bynode': 0.4415523184294139}. Best is trial 84 with value: 549.1448623889361.\u001B[0m\n"
     ]
    },
    {
     "name": "stdout",
     "output_type": "stream",
     "text": [
      "[0]\ttrain-rmse:5757.70585+5.23362\ttrain-mae:5615.66277+6.19668\ttest-rmse:5757.74340+21.42233\ttest-mae:5615.69458+25.23545\n",
      "[100]\ttrain-rmse:542.71837+4.12636\ttrain-mae:341.48879+1.62739\ttest-rmse:555.82651+17.01713\ttest-mae:348.66725+6.44518\n",
      "[199]\ttrain-rmse:531.62546+4.62522\ttrain-mae:334.57023+1.87365\ttest-rmse:552.57522+16.90986\ttest-mae:345.91239+6.37314\n"
     ]
    },
    {
     "name": "stderr",
     "output_type": "stream",
     "text": [
      "\u001B[32m[I 2023-05-03 17:50:29,767]\u001B[0m Trial 130 finished with value: 552.5752242014094 and parameters: {'eta': 0.06784994550079226, 'max_depth': 3, 'min_child_weight': 0.11953850362572105, 'subsample': 0.8887912301112125, 'colsample_bynode': 0.4995564481583313}. Best is trial 84 with value: 549.1448623889361.\u001B[0m\n"
     ]
    },
    {
     "name": "stdout",
     "output_type": "stream",
     "text": [
      "[0]\ttrain-rmse:5809.48676+5.27861\ttrain-mae:5667.56739+6.24765\ttest-rmse:5809.43955+21.64148\ttest-mae:5667.52200+25.41927\n",
      "[100]\ttrain-rmse:529.97527+4.67768\ttrain-mae:332.64094+1.79841\ttest-rmse:551.92899+17.84017\ttest-mae:344.15880+6.68374\n",
      "[199]\ttrain-rmse:515.03316+5.15757\ttrain-mae:324.47426+2.00010\ttest-rmse:550.44613+18.05186\ttest-mae:343.45957+6.98663\n"
     ]
    },
    {
     "name": "stderr",
     "output_type": "stream",
     "text": [
      "\u001B[32m[I 2023-05-03 17:50:32,593]\u001B[0m Trial 131 finished with value: 550.4461349296504 and parameters: {'eta': 0.05923712499058879, 'max_depth': 4, 'min_child_weight': 0.30521424873962655, 'subsample': 0.9875794075808547, 'colsample_bynode': 0.5420233482529542}. Best is trial 84 with value: 549.1448623889361.\u001B[0m\n"
     ]
    },
    {
     "name": "stdout",
     "output_type": "stream",
     "text": [
      "[0]\ttrain-rmse:5903.32783+5.38758\ttrain-mae:5760.16712+6.35584\ttest-rmse:5903.35381+21.91808\ttest-mae:5760.21126+25.70268\n",
      "[100]\ttrain-rmse:539.77386+4.21210\ttrain-mae:340.25557+1.49910\ttest-rmse:557.59890+16.60251\ttest-mae:349.31468+6.71563\n",
      "[199]\ttrain-rmse:521.67779+4.59507\ttrain-mae:328.11116+1.74094\ttest-rmse:550.84623+17.35559\ttest-mae:343.01261+6.97622\n"
     ]
    },
    {
     "name": "stderr",
     "output_type": "stream",
     "text": [
      "\u001B[32m[I 2023-05-03 17:50:35,468]\u001B[0m Trial 132 finished with value: 550.8462276067555 and parameters: {'eta': 0.04384436849336392, 'max_depth': 4, 'min_child_weight': 0.26082651687692576, 'subsample': 0.9405892530566016, 'colsample_bynode': 0.579799804195973}. Best is trial 84 with value: 549.1448623889361.\u001B[0m\n"
     ]
    },
    {
     "name": "stdout",
     "output_type": "stream",
     "text": [
      "[0]\ttrain-rmse:6054.27607+5.53730\ttrain-mae:5909.11272+6.50874\ttest-rmse:6054.25080+22.36074\ttest-mae:5909.11117+26.13969\n",
      "[100]\ttrain-rmse:1033.94014+1.97183\ttrain-mae:901.13762+0.73896\ttest-rmse:1042.42097+8.93422\ttest-mae:905.44052+5.10205\n",
      "[199]\ttrain-rmse:540.55101+4.81094\ttrain-mae:348.19274+2.04157\ttest-rmse:567.67701+16.01319\ttest-mae:362.12016+6.47136\n"
     ]
    },
    {
     "name": "stderr",
     "output_type": "stream",
     "text": [
      "\u001B[32m[I 2023-05-03 17:50:39,089]\u001B[0m Trial 133 finished with value: 567.6770089910932 and parameters: {'eta': 0.01910572455252832, 'max_depth': 5, 'min_child_weight': 0.055402031505109875, 'subsample': 0.9535617595424832, 'colsample_bynode': 0.5636348776777876}. Best is trial 84 with value: 549.1448623889361.\u001B[0m\n"
     ]
    },
    {
     "name": "stdout",
     "output_type": "stream",
     "text": [
      "[0]\ttrain-rmse:5859.99810+5.32008\ttrain-mae:5717.33913+6.30387\ttest-rmse:5859.93746+21.92130\ttest-mae:5717.22313+25.68880\n",
      "[100]\ttrain-rmse:519.64847+5.08738\ttrain-mae:327.24396+2.24354\ttest-rmse:552.38050+16.69982\ttest-mae:344.47755+6.33688\n",
      "[199]\ttrain-rmse:497.70196+5.25216\ttrain-mae:314.71408+2.17480\ttest-rmse:550.32803+17.67926\ttest-mae:342.95067+6.97018\n"
     ]
    },
    {
     "name": "stderr",
     "output_type": "stream",
     "text": [
      "\u001B[32m[I 2023-05-03 17:50:42,385]\u001B[0m Trial 134 finished with value: 550.3280302963551 and parameters: {'eta': 0.05098999166244074, 'max_depth': 5, 'min_child_weight': 0.22361756202111877, 'subsample': 0.9673066677413903, 'colsample_bynode': 0.46544033235867444}. Best is trial 84 with value: 549.1448623889361.\u001B[0m\n"
     ]
    },
    {
     "name": "stdout",
     "output_type": "stream",
     "text": [
      "[0]\ttrain-rmse:5865.51535+5.33930\ttrain-mae:5722.78081+6.31387\ttest-rmse:5865.46809+21.89522\ttest-mae:5722.68732+25.65813\n",
      "[100]\ttrain-rmse:520.23406+4.89348\ttrain-mae:327.62048+2.00585\ttest-rmse:553.64668+16.90706\ttest-mae:344.95703+6.57991\n",
      "[199]\ttrain-rmse:498.60924+5.21503\ttrain-mae:315.15231+2.24738\ttest-rmse:551.36976+17.60951\ttest-mae:343.08604+6.96516\n"
     ]
    },
    {
     "name": "stderr",
     "output_type": "stream",
     "text": [
      "\u001B[32m[I 2023-05-03 17:50:45,842]\u001B[0m Trial 135 finished with value: 551.3697624143131 and parameters: {'eta': 0.05008592775424821, 'max_depth': 5, 'min_child_weight': 0.15361701550091322, 'subsample': 0.9678859359540326, 'colsample_bynode': 0.465687305081017}. Best is trial 84 with value: 549.1448623889361.\u001B[0m\n"
     ]
    },
    {
     "name": "stdout",
     "output_type": "stream",
     "text": [
      "[0]\ttrain-rmse:5959.20556+5.43130\ttrain-mae:5815.10975+6.40732\ttest-rmse:5959.17184+22.17049\ttest-mae:5815.08570+25.99278\n",
      "[100]\ttrain-rmse:569.26584+4.21577\ttrain-mae:374.89609+1.61708\ttest-rmse:583.62562+14.57698\ttest-mae:382.62837+6.36649\n",
      "[199]\ttrain-rmse:527.74436+4.80468\ttrain-mae:332.04289+1.94918\ttest-rmse:551.93946+16.91367\ttest-mae:344.74726+6.52427\n"
     ]
    },
    {
     "name": "stderr",
     "output_type": "stream",
     "text": [
      "\u001B[32m[I 2023-05-03 17:50:48,651]\u001B[0m Trial 136 finished with value: 551.9394579013972 and parameters: {'eta': 0.03473183567172197, 'max_depth': 4, 'min_child_weight': 0.20460738615455792, 'subsample': 0.9178705212455457, 'colsample_bynode': 0.42223861873558205}. Best is trial 84 with value: 549.1448623889361.\u001B[0m\n"
     ]
    },
    {
     "name": "stdout",
     "output_type": "stream",
     "text": [
      "[0]\ttrain-rmse:5729.79753+5.18973\ttrain-mae:5588.85522+6.14690\ttest-rmse:5729.84299+21.51541\ttest-mae:5588.83987+25.28863\n",
      "[100]\ttrain-rmse:509.38470+5.21471\ttrain-mae:321.45279+2.07525\ttest-rmse:551.61425+17.51692\ttest-mae:343.63624+6.39908\n",
      "[164]\ttrain-rmse:493.08021+5.20102\ttrain-mae:312.30115+1.96042\ttest-rmse:551.61175+18.52734\ttest-mae:343.67304+6.93681\n"
     ]
    },
    {
     "name": "stderr",
     "output_type": "stream",
     "text": [
      "\u001B[32m[I 2023-05-03 17:50:51,584]\u001B[0m Trial 137 finished with value: 551.3846491601873 and parameters: {'eta': 0.07235638532783366, 'max_depth': 5, 'min_child_weight': 0.21324946806689335, 'subsample': 0.9982177381051541, 'colsample_bynode': 0.45688789843115557}. Best is trial 84 with value: 549.1448623889361.\u001B[0m\n"
     ]
    },
    {
     "name": "stdout",
     "output_type": "stream",
     "text": [
      "[0]\ttrain-rmse:6021.35905+5.50604\ttrain-mae:5876.67653+6.47714\ttest-rmse:6021.38105+22.25504\ttest-mae:5876.71889+26.01980\n",
      "[100]\ttrain-rmse:730.94752+3.32926\ttrain-mae:578.58566+1.53208\ttest-rmse:750.92061+10.91910\ttest-mae:588.91696+3.62501\n",
      "[199]\ttrain-rmse:503.50783+5.31054\ttrain-mae:318.01108+2.28189\ttest-rmse:552.00437+17.63746\ttest-mae:343.30951+6.81123\n"
     ]
    },
    {
     "name": "stderr",
     "output_type": "stream",
     "text": [
      "\u001B[32m[I 2023-05-03 17:50:56,219]\u001B[0m Trial 138 finished with value: 552.0043659613054 and parameters: {'eta': 0.02450892270997954, 'max_depth': 6, 'min_child_weight': 0.23769671244463506, 'subsample': 0.8421102922739765, 'colsample_bynode': 0.5171124099960167}. Best is trial 84 with value: 549.1448623889361.\u001B[0m\n"
     ]
    },
    {
     "name": "stdout",
     "output_type": "stream",
     "text": [
      "[0]\ttrain-rmse:6106.93353+5.59248\ttrain-mae:5961.04935+6.56406\ttest-rmse:6106.91477+22.51182\ttest-mae:5961.06144+26.31169\n",
      "[100]\ttrain-rmse:2199.08041+1.43199\ttrain-mae:2088.80086+1.87334\ttest-rmse:2200.75271+11.29558\ttest-mae:2089.45833+13.20511\n",
      "[199]\ttrain-rmse:931.55915+2.15849\ttrain-mae:790.18975+0.84774\ttest-rmse:937.59159+9.23330\ttest-mae:793.15852+4.16840\n"
     ]
    },
    {
     "name": "stderr",
     "output_type": "stream",
     "text": [
      "\u001B[32m[I 2023-05-03 17:50:59,374]\u001B[0m Trial 139 finished with value: 937.5915924956446 and parameters: {'eta': 0.010474456928259584, 'max_depth': 4, 'min_child_weight': 0.30147549282487873, 'subsample': 0.9346184492285659, 'colsample_bynode': 0.6315770286711573}. Best is trial 84 with value: 549.1448623889361.\u001B[0m\n"
     ]
    },
    {
     "name": "stdout",
     "output_type": "stream",
     "text": [
      "[0]\ttrain-rmse:5915.80653+5.40572\ttrain-mae:5772.43194+6.37416\ttest-rmse:5915.90665+21.96906\ttest-mae:5772.53401+25.72109\n",
      "[100]\ttrain-rmse:529.69907+4.90805\ttrain-mae:335.78961+2.05906\ttest-rmse:558.17436+16.01051\ttest-mae:350.40099+6.28701\n",
      "[199]\ttrain-rmse:503.13488+5.44910\ttrain-mae:317.78829+2.27017\ttest-rmse:550.34369+17.40378\ttest-mae:342.32791+6.63699\n"
     ]
    },
    {
     "name": "stderr",
     "output_type": "stream",
     "text": [
      "\u001B[32m[I 2023-05-03 17:51:02,921]\u001B[0m Trial 140 finished with value: 550.3436917082358 and parameters: {'eta': 0.041836643903540784, 'max_depth': 5, 'min_child_weight': 0.16635088579614302, 'subsample': 0.8847468040148794, 'colsample_bynode': 0.5021327018963467}. Best is trial 84 with value: 549.1448623889361.\u001B[0m\n"
     ]
    },
    {
     "name": "stdout",
     "output_type": "stream",
     "text": [
      "[0]\ttrain-rmse:5898.76126+5.39909\ttrain-mae:5755.61324+6.36563\ttest-rmse:5898.85336+21.89930\ttest-mae:5755.71122+25.65333\n",
      "[100]\ttrain-rmse:524.92429+4.62549\ttrain-mae:331.32890+2.02382\ttest-rmse:554.58820+16.44013\ttest-mae:346.56906+6.54455\n",
      "[199]\ttrain-rmse:500.84722+4.74202\ttrain-mae:316.44608+2.05292\ttest-rmse:549.70574+17.83704\ttest-mae:341.96204+7.46328\n"
     ]
    },
    {
     "name": "stderr",
     "output_type": "stream",
     "text": [
      "\u001B[32m[I 2023-05-03 17:51:06,384]\u001B[0m Trial 141 finished with value: 549.7057376715186 and parameters: {'eta': 0.04463618324584667, 'max_depth': 5, 'min_child_weight': 0.16516231107757712, 'subsample': 0.8982127160673512, 'colsample_bynode': 0.484843923804956}. Best is trial 84 with value: 549.1448623889361.\u001B[0m\n"
     ]
    },
    {
     "name": "stdout",
     "output_type": "stream",
     "text": [
      "[0]\ttrain-rmse:5903.34424+5.40207\ttrain-mae:5760.14443+6.35894\ttest-rmse:5903.41745+21.91020\ttest-mae:5760.22863+25.67381\n",
      "[100]\ttrain-rmse:526.10957+4.94212\ttrain-mae:332.44970+1.96448\ttest-rmse:556.64738+16.60848\ttest-mae:348.04447+6.88663\n",
      "[199]\ttrain-rmse:501.24585+5.12290\ttrain-mae:316.71480+1.91762\ttest-rmse:550.71853+18.17741\ttest-mae:342.47720+7.54372\n"
     ]
    },
    {
     "name": "stderr",
     "output_type": "stream",
     "text": [
      "\u001B[32m[I 2023-05-03 17:51:09,877]\u001B[0m Trial 142 finished with value: 550.718528272072 and parameters: {'eta': 0.04388306273895713, 'max_depth': 5, 'min_child_weight': 0.1881066121390938, 'subsample': 0.8721573066788717, 'colsample_bynode': 0.49652675630554655}. Best is trial 84 with value: 549.1448623889361.\u001B[0m\n"
     ]
    },
    {
     "name": "stdout",
     "output_type": "stream",
     "text": [
      "[0]\ttrain-rmse:5981.36480+5.45682\ttrain-mae:5837.21223+6.45195\ttest-rmse:5981.39182+22.16618\ttest-mae:5837.23572+25.90222\n",
      "[100]\ttrain-rmse:578.14087+4.20711\ttrain-mae:401.12554+1.89437\ttest-rmse:610.54973+14.09542\ttest-mae:417.77509+5.87797\n",
      "[199]\ttrain-rmse:490.74270+4.47033\ttrain-mae:310.63120+1.85112\ttest-rmse:551.36110+17.91688\ttest-mae:342.15630+7.02634\n"
     ]
    },
    {
     "name": "stderr",
     "output_type": "stream",
     "text": [
      "\u001B[32m[I 2023-05-03 17:51:14,399]\u001B[0m Trial 143 finished with value: 551.3610974044879 and parameters: {'eta': 0.031073850333225402, 'max_depth': 6, 'min_child_weight': 0.16789276416182447, 'subsample': 0.9037024950869003, 'colsample_bynode': 0.4733940238997256}. Best is trial 84 with value: 549.1448623889361.\u001B[0m\n"
     ]
    },
    {
     "name": "stdout",
     "output_type": "stream",
     "text": [
      "[0]\ttrain-rmse:5848.55333+5.26848\ttrain-mae:5706.07254+6.26363\ttest-rmse:5848.57415+21.93333\ttest-mae:5706.03942+25.67796\n",
      "[100]\ttrain-rmse:518.98133+4.83249\ttrain-mae:326.87713+1.93901\ttest-rmse:552.44070+16.85215\ttest-mae:344.29081+6.59680\n",
      "[199]\ttrain-rmse:497.17279+4.84622\ttrain-mae:315.10087+1.95798\ttest-rmse:551.09949+18.27672\ttest-mae:343.30703+7.43548\n"
     ]
    },
    {
     "name": "stderr",
     "output_type": "stream",
     "text": [
      "\u001B[32m[I 2023-05-03 17:51:17,893]\u001B[0m Trial 144 finished with value: 551.0994915256827 and parameters: {'eta': 0.05287254606755884, 'max_depth': 5, 'min_child_weight': 0.1697440835569669, 'subsample': 0.8252335522683584, 'colsample_bynode': 0.45134883566901285}. Best is trial 84 with value: 549.1448623889361.\u001B[0m\n"
     ]
    },
    {
     "name": "stdout",
     "output_type": "stream",
     "text": [
      "[0]\ttrain-rmse:5929.64038+5.41972\ttrain-mae:5786.10276+6.37832\ttest-rmse:5929.74651+22.00988\ttest-mae:5786.21006+25.78196\n",
      "[100]\ttrain-rmse:535.99750+4.70516\ttrain-mae:342.08920+1.91393\ttest-rmse:562.70171+15.41110\ttest-mae:355.94289+6.13285\n",
      "[199]\ttrain-rmse:505.70822+5.33788\ttrain-mae:319.31612+2.16036\ttest-rmse:550.65155+16.81521\ttest-mae:342.70824+6.78860\n"
     ]
    },
    {
     "name": "stderr",
     "output_type": "stream",
     "text": [
      "\u001B[32m[I 2023-05-03 17:51:21,384]\u001B[0m Trial 145 finished with value: 550.6515495827268 and parameters: {'eta': 0.03956521362128778, 'max_depth': 5, 'min_child_weight': 0.23788529850795034, 'subsample': 0.7758431794008335, 'colsample_bynode': 0.49950317645454834}. Best is trial 84 with value: 549.1448623889361.\u001B[0m\n"
     ]
    },
    {
     "name": "stdout",
     "output_type": "stream",
     "text": [
      "[0]\ttrain-rmse:6044.09369+5.52588\ttrain-mae:5898.94845+6.49681\ttest-rmse:6044.08829+22.35783\ttest-mae:5898.96003+26.15895\n",
      "[100]\ttrain-rmse:922.80644+2.22762\ttrain-mae:779.87609+0.89778\ttest-rmse:928.70630+8.83932\ttest-mae:782.77675+3.96095\n",
      "[199]\ttrain-rmse:545.09558+4.30795\ttrain-mae:346.30022+1.68671\ttest-rmse:561.84102+16.23733\ttest-mae:354.98007+6.55150\n"
     ]
    },
    {
     "name": "stderr",
     "output_type": "stream",
     "text": [
      "\u001B[32m[I 2023-05-03 17:51:24,126]\u001B[0m Trial 146 finished with value: 561.8410238400496 and parameters: {'eta': 0.020798910129423906, 'max_depth': 4, 'min_child_weight': 0.13826979823003116, 'subsample': 0.8861439051869002, 'colsample_bynode': 0.5141505852434455}. Best is trial 84 with value: 549.1448623889361.\u001B[0m\n"
     ]
    },
    {
     "name": "stdout",
     "output_type": "stream",
     "text": [
      "[0]\ttrain-rmse:5800.76323+5.37095\ttrain-mae:5658.87251+6.30389\ttest-rmse:5800.88095+21.69480\ttest-mae:5658.94525+25.51488\n",
      "[100]\ttrain-rmse:516.69575+4.50326\ttrain-mae:325.64492+1.90380\ttest-rmse:551.87739+16.53855\ttest-mae:343.51100+6.17065\n",
      "[157]\ttrain-rmse:502.54658+4.39383\ttrain-mae:318.37042+1.93692\ttest-rmse:551.59874+16.84657\ttest-mae:343.85770+6.29340\n"
     ]
    },
    {
     "name": "stderr",
     "output_type": "stream",
     "text": [
      "\u001B[32m[I 2023-05-03 17:51:26,970]\u001B[0m Trial 147 finished with value: 551.7233247460648 and parameters: {'eta': 0.06074323434755251, 'max_depth': 5, 'min_child_weight': 0.1088052194823, 'subsample': 0.6380959127968708, 'colsample_bynode': 0.41898819020211275}. Best is trial 84 with value: 549.1448623889361.\u001B[0m\n"
     ]
    },
    {
     "name": "stdout",
     "output_type": "stream",
     "text": [
      "[0]\ttrain-rmse:5867.49684+5.32481\ttrain-mae:5724.78282+6.30723\ttest-rmse:5867.44685+21.89818\ttest-mae:5724.69985+25.66661\n",
      "[100]\ttrain-rmse:521.37897+4.75495\ttrain-mae:328.42554+2.10072\ttest-rmse:553.15304+16.66536\ttest-mae:344.73224+6.65588\n",
      "[199]\ttrain-rmse:499.82533+4.99134\ttrain-mae:316.24952+2.26513\ttest-rmse:550.86794+17.65758\ttest-mae:343.17205+7.24639\n"
     ]
    },
    {
     "name": "stderr",
     "output_type": "stream",
     "text": [
      "\u001B[32m[I 2023-05-03 17:51:30,341]\u001B[0m Trial 148 finished with value: 550.8679352646494 and parameters: {'eta': 0.049764776958565377, 'max_depth': 5, 'min_child_weight': 0.3885950968128659, 'subsample': 0.8543057233601346, 'colsample_bynode': 0.46884118117166906}. Best is trial 84 with value: 549.1448623889361.\u001B[0m\n"
     ]
    },
    {
     "name": "stdout",
     "output_type": "stream",
     "text": [
      "[0]\ttrain-rmse:5685.66595+5.13063\ttrain-mae:5545.26607+6.12929\ttest-rmse:5685.76060+21.50604\ttest-mae:5545.24727+25.24569\n",
      "[100]\ttrain-rmse:506.19651+5.42912\ttrain-mae:319.85393+1.99060\ttest-rmse:551.20561+18.24511\ttest-mae:343.39695+6.95466\n",
      "[152]\ttrain-rmse:491.27366+5.47269\ttrain-mae:311.68346+2.09708\ttest-rmse:551.53601+19.09128\ttest-mae:343.66589+7.86650\n"
     ]
    },
    {
     "name": "stderr",
     "output_type": "stream",
     "text": [
      "\u001B[32m[I 2023-05-03 17:51:33,000]\u001B[0m Trial 149 finished with value: 551.1896100081972 and parameters: {'eta': 0.07961583723836052, 'max_depth': 5, 'min_child_weight': 0.12944537440651196, 'subsample': 0.8988803380076791, 'colsample_bynode': 0.44138282304921705}. Best is trial 84 with value: 549.1448623889361.\u001B[0m\n"
     ]
    },
    {
     "name": "stdout",
     "output_type": "stream",
     "text": [
      "[0]\ttrain-rmse:5986.46967+5.45632\ttrain-mae:5842.22508+6.42967\ttest-rmse:5986.46519+22.16459\ttest-mae:5842.24112+25.94733\n",
      "[100]\ttrain-rmse:611.35630+3.84645\ttrain-mae:426.67088+1.74403\ttest-rmse:623.36594+13.49212\ttest-mae:432.86434+5.83957\n",
      "[199]\ttrain-rmse:529.34723+4.57531\ttrain-mae:332.35060+1.94078\ttest-rmse:552.32272+16.96722\ttest-mae:344.06779+6.82961\n"
     ]
    },
    {
     "name": "stderr",
     "output_type": "stream",
     "text": [
      "\u001B[32m[I 2023-05-03 17:51:36,296]\u001B[0m Trial 150 finished with value: 552.3227153822705 and parameters: {'eta': 0.030227097759847367, 'max_depth': 4, 'min_child_weight': 0.2287606808684819, 'subsample': 0.8113690545744418, 'colsample_bynode': 0.5342072630915131}. Best is trial 84 with value: 549.1448623889361.\u001B[0m\n"
     ]
    },
    {
     "name": "stdout",
     "output_type": "stream",
     "text": [
      "[0]\ttrain-rmse:5777.21080+5.25093\ttrain-mae:5635.85925+6.21695\ttest-rmse:5777.21992+21.56101\ttest-mae:5635.87247+25.29497\n",
      "[100]\ttrain-rmse:509.92302+5.10484\ttrain-mae:321.31533+1.98908\ttest-rmse:550.24941+17.61359\ttest-mae:341.99527+6.73729\n",
      "[148]\ttrain-rmse:497.25989+5.44406\ttrain-mae:314.70087+2.28869\ttest-rmse:550.61310+17.93680\ttest-mae:342.69628+7.16348\n"
     ]
    },
    {
     "name": "stderr",
     "output_type": "stream",
     "text": [
      "\u001B[32m[I 2023-05-03 17:51:39,280]\u001B[0m Trial 151 finished with value: 550.2593675618054 and parameters: {'eta': 0.06452309179119593, 'max_depth': 5, 'min_child_weight': 0.2680717602091753, 'subsample': 0.9235150171401482, 'colsample_bynode': 0.5542368126707459}. Best is trial 84 with value: 549.1448623889361.\u001B[0m\n"
     ]
    },
    {
     "name": "stdout",
     "output_type": "stream",
     "text": [
      "[0]\ttrain-rmse:5922.71334+5.40178\ttrain-mae:5779.38697+6.36672\ttest-rmse:5922.72619+21.99317\ttest-mae:5779.41281+25.75343\n",
      "[100]\ttrain-rmse:531.71434+4.62701\ttrain-mae:338.11022+1.97808\ttest-rmse:559.48265+16.60159\ttest-mae:352.48226+6.48482\n",
      "[199]\ttrain-rmse:502.40397+5.15074\ttrain-mae:317.32103+2.21326\ttest-rmse:549.78606+18.14572\ttest-mae:341.95552+6.92961\n"
     ]
    },
    {
     "name": "stderr",
     "output_type": "stream",
     "text": [
      "\u001B[32m[I 2023-05-03 17:51:43,010]\u001B[0m Trial 152 finished with value: 549.7860624888486 and parameters: {'eta': 0.04067081484304054, 'max_depth': 5, 'min_child_weight': 0.18623032588982374, 'subsample': 0.9205364114246248, 'colsample_bynode': 0.551526145596023}. Best is trial 84 with value: 549.1448623889361.\u001B[0m\n"
     ]
    },
    {
     "name": "stdout",
     "output_type": "stream",
     "text": [
      "[0]\ttrain-rmse:5930.14724+5.41387\ttrain-mae:5786.58664+6.38130\ttest-rmse:5930.24462+22.03166\ttest-mae:5786.68390+25.80228\n",
      "[100]\ttrain-rmse:534.94421+4.56814\ttrain-mae:341.68827+1.82816\ttest-rmse:562.38132+15.91707\ttest-mae:355.85711+6.22924\n",
      "[199]\ttrain-rmse:504.58621+4.92654\ttrain-mae:318.43348+2.08891\ttest-rmse:550.17711+17.44822\ttest-mae:342.31448+6.68154\n"
     ]
    },
    {
     "name": "stderr",
     "output_type": "stream",
     "text": [
      "\u001B[32m[I 2023-05-03 17:51:47,033]\u001B[0m Trial 153 finished with value: 550.1771130511061 and parameters: {'eta': 0.039478127074999966, 'max_depth': 5, 'min_child_weight': 0.18099539547821755, 'subsample': 0.9210285250793177, 'colsample_bynode': 0.48696582915766184}. Best is trial 84 with value: 549.1448623889361.\u001B[0m\n"
     ]
    },
    {
     "name": "stdout",
     "output_type": "stream",
     "text": [
      "[0]\ttrain-rmse:5784.80717+5.24939\ttrain-mae:5643.13502+6.21683\ttest-rmse:5784.94150+21.62340\ttest-mae:5643.25498+25.38215\n",
      "[100]\ttrain-rmse:511.43502+5.11910\ttrain-mae:322.43229+2.29278\ttest-rmse:552.60928+16.11593\ttest-mae:343.49758+5.83964\n",
      "[199]\ttrain-rmse:487.83079+5.71707\ttrain-mae:309.61018+2.53002\ttest-rmse:552.43761+17.04527\ttest-mae:343.76119+6.56905\n"
     ]
    },
    {
     "name": "stderr",
     "output_type": "stream",
     "text": [
      "\u001B[32m[I 2023-05-03 17:51:50,509]\u001B[0m Trial 154 finished with value: 552.4376135337408 and parameters: {'eta': 0.06331420466164842, 'max_depth': 5, 'min_child_weight': 0.1781709971433119, 'subsample': 0.9286545778927779, 'colsample_bynode': 0.5123188971994138}. Best is trial 84 with value: 549.1448623889361.\u001B[0m\n"
     ]
    },
    {
     "name": "stdout",
     "output_type": "stream",
     "text": [
      "[0]\ttrain-rmse:5031.93625+4.44456\ttrain-mae:4899.86344+5.59393\ttest-rmse:5032.30373+19.54818\ttest-mae:4899.95529+22.90778\n",
      "[78]\ttrain-rmse:448.17644+7.13497\ttrain-mae:288.82171+2.99033\ttest-rmse:558.53882+19.72189\ttest-mae:350.45739+7.71822\n"
     ]
    },
    {
     "name": "stderr",
     "output_type": "stream",
     "text": [
      "\u001B[32m[I 2023-05-03 17:51:52,447]\u001B[0m Trial 155 finished with value: 553.7789538789242 and parameters: {'eta': 0.1869292019798252, 'max_depth': 6, 'min_child_weight': 0.14791181521451935, 'subsample': 0.911667484706687, 'colsample_bynode': 0.49266193269504605}. Best is trial 84 with value: 549.1448623889361.\u001B[0m\n"
     ]
    },
    {
     "name": "stdout",
     "output_type": "stream",
     "text": [
      "[0]\ttrain-rmse:5920.46579+5.40733\ttrain-mae:5777.14878+6.38197\ttest-rmse:5920.48285+21.98263\ttest-mae:5777.17283+25.73083\n",
      "[100]\ttrain-rmse:530.46372+4.87607\ttrain-mae:336.77859+1.86839\ttest-rmse:559.54530+16.73370\ttest-mae:351.61435+6.35597\n",
      "[199]\ttrain-rmse:502.32644+5.43539\ttrain-mae:317.04509+2.24793\ttest-rmse:550.35189+17.98511\ttest-mae:341.83229+6.91130\n"
     ]
    },
    {
     "name": "stderr",
     "output_type": "stream",
     "text": [
      "\u001B[32m[I 2023-05-03 17:51:55,956]\u001B[0m Trial 156 finished with value: 550.3518887720386 and parameters: {'eta': 0.04103250657263529, 'max_depth': 5, 'min_child_weight': 0.1896843343424432, 'subsample': 0.9387435639814287, 'colsample_bynode': 0.5448411072920826}. Best is trial 84 with value: 549.1448623889361.\u001B[0m\n"
     ]
    },
    {
     "name": "stdout",
     "output_type": "stream",
     "text": [
      "[0]\ttrain-rmse:5836.15291+5.32438\ttrain-mae:5693.63587+6.29659\ttest-rmse:5836.18392+21.77207\ttest-mae:5693.65356+25.57350\n",
      "[100]\ttrain-rmse:531.80361+4.79690\ttrain-mae:334.16164+2.00170\ttest-rmse:552.50663+16.20052\ttest-mae:344.72316+5.84979\n",
      "[199]\ttrain-rmse:517.06380+4.93775\ttrain-mae:325.80384+1.84616\ttest-rmse:550.12756+17.29453\ttest-mae:343.12501+6.51781\n"
     ]
    },
    {
     "name": "stderr",
     "output_type": "stream",
     "text": [
      "\u001B[32m[I 2023-05-03 17:51:58,798]\u001B[0m Trial 157 finished with value: 550.1275596390922 and parameters: {'eta': 0.054926484621096956, 'max_depth': 4, 'min_child_weight': 0.21314255539138122, 'subsample': 0.8980455887563732, 'colsample_bynode': 0.4852573438840042}. Best is trial 84 with value: 549.1448623889361.\u001B[0m\n"
     ]
    },
    {
     "name": "stdout",
     "output_type": "stream",
     "text": [
      "[0]\ttrain-rmse:5839.04093+5.30174\ttrain-mae:5696.46562+6.27150\ttest-rmse:5839.04235+21.77314\ttest-mae:5696.45700+25.58740\n",
      "[100]\ttrain-rmse:531.86471+4.52565\ttrain-mae:334.19957+1.74533\ttest-rmse:553.08775+16.68541\ttest-mae:345.40384+6.52722\n",
      "[199]\ttrain-rmse:516.93190+4.85128\ttrain-mae:325.66076+1.79625\ttest-rmse:550.67786+17.30868\ttest-mae:343.58300+6.80821\n"
     ]
    },
    {
     "name": "stderr",
     "output_type": "stream",
     "text": [
      "\u001B[32m[I 2023-05-03 17:52:01,682]\u001B[0m Trial 158 finished with value: 550.6778601639252 and parameters: {'eta': 0.0544325403501795, 'max_depth': 4, 'min_child_weight': 0.22352693008461047, 'subsample': 0.9643687559778304, 'colsample_bynode': 0.47796944946913206}. Best is trial 84 with value: 549.1448623889361.\u001B[0m\n"
     ]
    },
    {
     "name": "stdout",
     "output_type": "stream",
     "text": [
      "[0]\ttrain-rmse:5737.30333+5.21681\ttrain-mae:5596.35927+6.17132\ttest-rmse:5737.28777+21.42854\ttest-mae:5596.34216+25.19642\n",
      "[100]\ttrain-rmse:525.73145+4.72275\ttrain-mae:330.34031+1.92198\ttest-rmse:551.55558+16.72062\ttest-mae:343.51348+6.24892\n",
      "[196]\ttrain-rmse:509.71732+4.86693\ttrain-mae:321.72117+2.01982\ttest-rmse:551.11687+17.00566\ttest-mae:343.47195+6.86606\n"
     ]
    },
    {
     "name": "stderr",
     "output_type": "stream",
     "text": [
      "\u001B[32m[I 2023-05-03 17:52:04,528]\u001B[0m Trial 159 finished with value: 550.9438871902175 and parameters: {'eta': 0.07108452772277218, 'max_depth': 4, 'min_child_weight': 0.33778281895333095, 'subsample': 0.9155117858777994, 'colsample_bynode': 0.5295572059769283}. Best is trial 84 with value: 549.1448623889361.\u001B[0m\n"
     ]
    },
    {
     "name": "stdout",
     "output_type": "stream",
     "text": [
      "[0]\ttrain-rmse:5626.90003+5.04940\ttrain-mae:5486.87927+6.04591\ttest-rmse:5626.85692+21.25638\ttest-mae:5486.79329+25.09860\n",
      "[100]\ttrain-rmse:522.84892+4.83127\ttrain-mae:329.43596+2.05235\ttest-rmse:552.59348+17.19753\ttest-mae:344.76181+6.80089\n",
      "[190]\ttrain-rmse:507.08056+4.76899\ttrain-mae:320.85722+2.21974\ttest-rmse:552.25358+18.15310\ttest-mae:344.56819+7.24755\n"
     ]
    },
    {
     "name": "stderr",
     "output_type": "stream",
     "text": [
      "\u001B[32m[I 2023-05-03 17:52:07,285]\u001B[0m Trial 160 finished with value: 552.0292439977429 and parameters: {'eta': 0.08929560187789314, 'max_depth': 4, 'min_child_weight': 0.27757757156988394, 'subsample': 0.8678233575179212, 'colsample_bynode': 0.4585050712175496}. Best is trial 84 with value: 549.1448623889361.\u001B[0m\n"
     ]
    },
    {
     "name": "stdout",
     "output_type": "stream",
     "text": [
      "[0]\ttrain-rmse:4890.88346+4.33581\ttrain-mae:4758.97700+5.34018\ttest-rmse:4891.23542+19.25467\ttest-mae:4759.09584+23.04872\n",
      "[91]\ttrain-rmse:503.84597+5.15083\ttrain-mae:320.10152+1.80967\ttest-rmse:554.38445+19.69409\ttest-mae:347.85239+7.53805\n"
     ]
    },
    {
     "name": "stderr",
     "output_type": "stream",
     "text": [
      "\u001B[32m[I 2023-05-03 17:52:08,690]\u001B[0m Trial 161 finished with value: 554.5894478507265 and parameters: {'eta': 0.2102668273202048, 'max_depth': 4, 'min_child_weight': 0.1608297393249168, 'subsample': 0.8900941484896996, 'colsample_bynode': 0.4834581504060823}. Best is trial 84 with value: 549.1448623889361.\u001B[0m\n"
     ]
    },
    {
     "name": "stdout",
     "output_type": "stream",
     "text": [
      "[0]\ttrain-rmse:5923.22584+5.39707\ttrain-mae:5779.75198+6.36476\ttest-rmse:5923.29677+22.00638\ttest-mae:5779.82882+25.78163\n",
      "[100]\ttrain-rmse:532.03480+4.64112\ttrain-mae:338.65481+1.87593\ttest-rmse:560.49473+15.56824\ttest-mae:353.10884+6.00765\n",
      "[199]\ttrain-rmse:503.65513+5.23626\ttrain-mae:317.97610+2.17576\ttest-rmse:550.37954+17.53819\ttest-mae:342.29894+6.84224\n"
     ]
    },
    {
     "name": "stderr",
     "output_type": "stream",
     "text": [
      "\u001B[32m[I 2023-05-03 17:52:12,164]\u001B[0m Trial 162 finished with value: 550.3795421526248 and parameters: {'eta': 0.040609648956594704, 'max_depth': 5, 'min_child_weight': 0.1987458152576137, 'subsample': 0.9281060377655549, 'colsample_bynode': 0.5067776702485938}. Best is trial 84 with value: 549.1448623889361.\u001B[0m\n"
     ]
    },
    {
     "name": "stdout",
     "output_type": "stream",
     "text": [
      "[0]\ttrain-rmse:5819.79701+5.27921\ttrain-mae:5677.72426+6.34188\ttest-rmse:5819.81955+21.73539\ttest-mae:5677.73358+25.39077\n",
      "[100]\ttrain-rmse:517.91770+5.08640\ttrain-mae:326.56257+1.96964\ttest-rmse:552.80022+16.42559\ttest-mae:343.77167+6.42630\n",
      "[170]\ttrain-rmse:501.18233+5.28168\ttrain-mae:318.42603+2.05247\ttest-rmse:552.17340+17.55049\ttest-mae:343.90285+7.06061\n"
     ]
    },
    {
     "name": "stderr",
     "output_type": "stream",
     "text": [
      "\u001B[32m[I 2023-05-03 17:52:15,192]\u001B[0m Trial 163 finished with value: 552.012381374755 and parameters: {'eta': 0.05757678560912128, 'max_depth': 5, 'min_child_weight': 0.24996675460139184, 'subsample': 0.5418260974393968, 'colsample_bynode': 0.5276828714167117}. Best is trial 84 with value: 549.1448623889361.\u001B[0m\n"
     ]
    },
    {
     "name": "stdout",
     "output_type": "stream",
     "text": [
      "[0]\ttrain-rmse:5136.38800+4.59054\ttrain-mae:5001.93958+5.57395\ttest-rmse:5136.52261+19.84921\ttest-mae:5001.90994+23.63462\n",
      "[91]\ttrain-rmse:509.05020+5.06783\ttrain-mae:322.77084+2.04927\ttest-rmse:553.39748+17.30061\ttest-mae:345.95628+7.24535\n"
     ]
    },
    {
     "name": "stderr",
     "output_type": "stream",
     "text": [
      "\u001B[32m[I 2023-05-03 17:52:16,642]\u001B[0m Trial 164 finished with value: 553.2311003759647 and parameters: {'eta': 0.1698734507915949, 'max_depth': 4, 'min_child_weight': 0.17009517654411427, 'subsample': 0.9053429709433182, 'colsample_bynode': 0.48719223869784867}. Best is trial 84 with value: 549.1448623889361.\u001B[0m\n"
     ]
    },
    {
     "name": "stdout",
     "output_type": "stream",
     "text": [
      "[0]\ttrain-rmse:5706.14140+5.19923\ttrain-mae:5565.71879+6.19096\ttest-rmse:5706.14750+21.29450\ttest-mae:5565.71229+24.98277\n",
      "[100]\ttrain-rmse:505.98462+5.43349\ttrain-mae:319.89618+2.24925\ttest-rmse:550.95760+17.96837\ttest-mae:343.16508+6.92914\n",
      "[144]\ttrain-rmse:492.95288+5.71892\ttrain-mae:313.13975+2.51705\ttest-rmse:551.85621+18.21824\ttest-mae:343.81638+7.21282\n"
     ]
    },
    {
     "name": "stderr",
     "output_type": "stream",
     "text": [
      "\u001B[32m[I 2023-05-03 17:52:19,290]\u001B[0m Trial 165 finished with value: 550.9026347810811 and parameters: {'eta': 0.07619554148130278, 'max_depth': 5, 'min_child_weight': 0.20716221866081425, 'subsample': 0.7527289519586636, 'colsample_bynode': 0.547553516271796}. Best is trial 84 with value: 549.1448623889361.\u001B[0m\n"
     ]
    },
    {
     "name": "stdout",
     "output_type": "stream",
     "text": [
      "[0]\ttrain-rmse:5552.42309+5.25106\ttrain-mae:5413.26195+6.24033\ttest-rmse:5552.68866+20.74759\ttest-mae:5413.46239+24.54725\n",
      "[100]\ttrain-rmse:523.66247+4.29915\ttrain-mae:330.27203+1.45822\ttest-rmse:553.00877+17.38649\ttest-mae:345.86560+7.19720\n",
      "[138]\ttrain-rmse:516.22362+4.40186\ttrain-mae:326.72622+1.45891\ttest-rmse:552.88717+17.51021\ttest-mae:345.96373+7.33115\n"
     ]
    },
    {
     "name": "stderr",
     "output_type": "stream",
     "text": [
      "\u001B[32m[I 2023-05-03 17:52:21,308]\u001B[0m Trial 166 finished with value: 552.7971037705377 and parameters: {'eta': 0.10158342500359963, 'max_depth': 4, 'min_child_weight': 0.1447094948134341, 'subsample': 0.5149796129932291, 'colsample_bynode': 0.4454887831708968}. Best is trial 84 with value: 549.1448623889361.\u001B[0m\n"
     ]
    },
    {
     "name": "stdout",
     "output_type": "stream",
     "text": [
      "[0]\ttrain-rmse:5886.47545+5.37684\ttrain-mae:5743.47076+6.34223\ttest-rmse:5886.54456+21.86014\ttest-mae:5743.54708+25.62298\n",
      "[100]\ttrain-rmse:521.79490+5.08184\ttrain-mae:328.83197+1.92368\ttest-rmse:553.35269+16.97023\ttest-mae:345.32903+6.74772\n",
      "[199]\ttrain-rmse:499.38012+5.37242\ttrain-mae:315.58110+2.21772\ttest-rmse:550.03440+18.18867\ttest-mae:342.57312+6.96237\n"
     ]
    },
    {
     "name": "stderr",
     "output_type": "stream",
     "text": [
      "\u001B[32m[I 2023-05-03 17:52:24,954]\u001B[0m Trial 167 finished with value: 550.03440134544 and parameters: {'eta': 0.04663917047360571, 'max_depth': 5, 'min_child_weight': 0.09512707018861198, 'subsample': 0.977612950982222, 'colsample_bynode': 0.5052452539621783}. Best is trial 84 with value: 549.1448623889361.\u001B[0m\n"
     ]
    },
    {
     "name": "stdout",
     "output_type": "stream",
     "text": [
      "[0]\ttrain-rmse:5857.07010+5.34009\ttrain-mae:5714.16371+6.30346\ttest-rmse:5857.05893+21.71185\ttest-mae:5714.17301+25.50859\n",
      "[100]\ttrain-rmse:546.63479+4.12678\ttrain-mae:343.74019+1.61426\ttest-rmse:557.77918+15.92081\ttest-mae:349.92240+6.32094\n",
      "[199]\ttrain-rmse:535.26113+4.35397\ttrain-mae:336.51271+1.47325\ttest-rmse:553.22840+15.95886\ttest-mae:346.12013+6.32200\n"
     ]
    },
    {
     "name": "stderr",
     "output_type": "stream",
     "text": [
      "\u001B[32m[I 2023-05-03 17:52:27,496]\u001B[0m Trial 168 finished with value: 553.2283967176905 and parameters: {'eta': 0.051480575393792055, 'max_depth': 3, 'min_child_weight': 0.09324978958944942, 'subsample': 0.9748318518582983, 'colsample_bynode': 0.5596836632365891}. Best is trial 84 with value: 549.1448623889361.\u001B[0m\n"
     ]
    },
    {
     "name": "stdout",
     "output_type": "stream",
     "text": [
      "[0]\ttrain-rmse:5456.40752+4.87123\ttrain-mae:5318.80965+5.86702\ttest-rmse:5456.33064+20.91520\ttest-mae:5318.54195+24.66349\n",
      "[100]\ttrain-rmse:493.46276+5.84660\ttrain-mae:313.20296+2.12231\ttest-rmse:552.77330+16.84236\ttest-mae:344.74249+7.00099\n",
      "[124]\ttrain-rmse:484.49826+5.60308\ttrain-mae:308.36347+2.08308\ttest-rmse:552.86038+17.20385\ttest-mae:345.25561+7.16990\n"
     ]
    },
    {
     "name": "stderr",
     "output_type": "stream",
     "text": [
      "\u001B[32m[I 2023-05-03 17:52:30,020]\u001B[0m Trial 169 finished with value: 552.3643163663909 and parameters: {'eta': 0.1172270927549135, 'max_depth': 5, 'min_child_weight': 0.10512492663708149, 'subsample': 0.9507013470596706, 'colsample_bynode': 0.4291804186295412}. Best is trial 84 with value: 549.1448623889361.\u001B[0m\n"
     ]
    },
    {
     "name": "stdout",
     "output_type": "stream",
     "text": [
      "[0]\ttrain-rmse:5776.66221+5.22917\ttrain-mae:5634.80511+6.21376\ttest-rmse:5776.67155+21.71691\ttest-mae:5634.80310+25.54107\n",
      "[100]\ttrain-rmse:529.41515+4.57135\ttrain-mae:332.76906+1.89006\ttest-rmse:552.12314+17.15609\ttest-mae:344.87513+6.10371\n",
      "[199]\ttrain-rmse:514.56269+5.06672\ttrain-mae:324.32886+2.07554\ttest-rmse:550.51614+17.91214\ttest-mae:343.74755+6.36848\n"
     ]
    },
    {
     "name": "stderr",
     "output_type": "stream",
     "text": [
      "\u001B[32m[I 2023-05-03 17:52:33,015]\u001B[0m Trial 170 finished with value: 550.516139020879 and parameters: {'eta': 0.0646900952567286, 'max_depth': 4, 'min_child_weight': 0.12158590133497116, 'subsample': 0.9846036318464969, 'colsample_bynode': 0.46665327141551755}. Best is trial 84 with value: 549.1448623889361.\u001B[0m\n"
     ]
    },
    {
     "name": "stdout",
     "output_type": "stream",
     "text": [
      "[0]\ttrain-rmse:5945.31707+5.42318\ttrain-mae:5801.55193+6.38783\ttest-rmse:5945.38961+22.07237\ttest-mae:5801.62693+25.85289\n",
      "[100]\ttrain-rmse:544.05462+4.56249\ttrain-mae:351.57131+1.75332\ttest-rmse:569.65240+15.61168\ttest-mae:364.94547+6.49020\n",
      "[199]\ttrain-rmse:506.27372+5.03153\ttrain-mae:319.23481+2.02202\ttest-rmse:549.86184+17.61991\ttest-mae:342.21638+6.94143\n"
     ]
    },
    {
     "name": "stderr",
     "output_type": "stream",
     "text": [
      "\u001B[32m[I 2023-05-03 17:52:37,593]\u001B[0m Trial 171 finished with value: 549.8618376947113 and parameters: {'eta': 0.03698385095736728, 'max_depth': 5, 'min_child_weight': 0.2658120757282911, 'subsample': 0.9388429450408888, 'colsample_bynode': 0.5031414581539136}. Best is trial 84 with value: 549.1448623889361.\u001B[0m\n"
     ]
    },
    {
     "name": "stdout",
     "output_type": "stream",
     "text": [
      "[0]\ttrain-rmse:5298.91149+4.72738\ttrain-mae:5163.21419+5.64237\ttest-rmse:5299.35868+20.26847\ttest-mae:5163.55772+24.04452\n",
      "[100]\ttrain-rmse:484.01728+4.37886\ttrain-mae:308.37434+1.68452\ttest-rmse:553.89690+18.30780\ttest-mae:345.67106+7.55624\n",
      "[103]\ttrain-rmse:482.90381+4.30735\ttrain-mae:307.67205+1.67761\ttest-rmse:553.95835+18.24822\ttest-mae:345.71618+7.55142\n"
     ]
    },
    {
     "name": "stderr",
     "output_type": "stream",
     "text": [
      "\u001B[32m[I 2023-05-03 17:52:39,989]\u001B[0m Trial 172 finished with value: 553.0468878971484 and parameters: {'eta': 0.14305421124222312, 'max_depth': 5, 'min_child_weight': 0.26943219470582946, 'subsample': 0.9415200123342758, 'colsample_bynode': 0.5194271806092093}. Best is trial 84 with value: 549.1448623889361.\u001B[0m\n"
     ]
    },
    {
     "name": "stdout",
     "output_type": "stream",
     "text": [
      "[0]\ttrain-rmse:6012.28526+5.48571\ttrain-mae:5867.62732+6.45757\ttest-rmse:6012.30210+22.25702\ttest-mae:5867.66471+26.04031\n",
      "[100]\ttrain-rmse:688.54855+3.56068\ttrain-mae:525.99411+1.40364\ttest-rmse:704.70351+11.54959\ttest-mae:534.17417+4.40832\n",
      "[199]\ttrain-rmse:517.52185+5.17750\ttrain-mae:325.51131+2.24840\ttest-rmse:551.98083+17.07960\ttest-mae:343.31296+6.67457\n"
     ]
    },
    {
     "name": "stderr",
     "output_type": "stream",
     "text": [
      "\u001B[32m[I 2023-05-03 17:52:43,572]\u001B[0m Trial 173 finished with value: 551.9808317691957 and parameters: {'eta': 0.026002073231872862, 'max_depth': 5, 'min_child_weight': 0.21272346541410325, 'subsample': 0.9646859916506125, 'colsample_bynode': 0.48890163620407734}. Best is trial 84 with value: 549.1448623889361.\u001B[0m\n"
     ]
    },
    {
     "name": "stdout",
     "output_type": "stream",
     "text": [
      "[0]\ttrain-rmse:5883.33376+5.36823\ttrain-mae:5740.54617+6.33208\ttest-rmse:5883.35562+21.87446\ttest-mae:5740.57666+25.62817\n",
      "[100]\ttrain-rmse:521.00353+4.71083\ttrain-mae:328.18358+1.78043\ttest-rmse:553.29898+16.73604\ttest-mae:344.59560+6.89349\n",
      "[187]\ttrain-rmse:499.38861+4.85460\ttrain-mae:315.87740+1.89311\ttest-rmse:550.96237+17.95572\ttest-mae:342.45662+7.18255\n"
     ]
    },
    {
     "name": "stderr",
     "output_type": "stream",
     "text": [
      "\u001B[32m[I 2023-05-03 17:52:47,222]\u001B[0m Trial 174 finished with value: 550.8079994280054 and parameters: {'eta': 0.04712934398152755, 'max_depth': 5, 'min_child_weight': 0.38821439118927015, 'subsample': 0.9176857471094851, 'colsample_bynode': 0.5389030800418503}. Best is trial 84 with value: 549.1448623889361.\u001B[0m\n"
     ]
    },
    {
     "name": "stdout",
     "output_type": "stream",
     "text": [
      "[0]\ttrain-rmse:5954.56350+5.44264\ttrain-mae:5810.79078+6.37555\ttest-rmse:5954.59333+22.05781\ttest-mae:5810.81069+25.86158\n",
      "[100]\ttrain-rmse:463.57671+4.46372\ttrain-mae:313.17690+1.88793\ttest-rmse:581.13638+17.40722\ttest-mae:376.70865+7.42858\n",
      "[199]\ttrain-rmse:350.34508+4.23891\ttrain-mae:227.30709+2.28191\ttest-rmse:558.72220+20.86777\ttest-mae:347.38016+8.14131\n"
     ]
    },
    {
     "name": "stderr",
     "output_type": "stream",
     "text": [
      "\u001B[32m[I 2023-05-03 17:53:03,697]\u001B[0m Trial 175 finished with value: 558.7222014847571 and parameters: {'eta': 0.03545752351267052, 'max_depth': 10, 'min_child_weight': 0.2422643706194096, 'subsample': 0.9452890313517942, 'colsample_bynode': 0.5146497819184667}. Best is trial 84 with value: 549.1448623889361.\u001B[0m\n"
     ]
    },
    {
     "name": "stdout",
     "output_type": "stream",
     "text": [
      "[0]\ttrain-rmse:4505.26783+3.88658\ttrain-mae:4379.82574+4.89295\ttest-rmse:4505.49649+17.98590\ttest-mae:4379.55312+21.64335\n",
      "[65]\ttrain-rmse:380.48774+7.27664\ttrain-mae:248.52808+3.63942\ttest-rmse:570.41851+18.21913\ttest-mae:358.28848+6.57094\n"
     ]
    },
    {
     "name": "stderr",
     "output_type": "stream",
     "text": [
      "\u001B[32m[I 2023-05-03 17:53:06,214]\u001B[0m Trial 176 finished with value: 558.0777371831628 and parameters: {'eta': 0.2732356808564979, 'max_depth': 7, 'min_child_weight': 0.2849418032785081, 'subsample': 0.9841770007867979, 'colsample_bynode': 0.5955916619440607}. Best is trial 84 with value: 549.1448623889361.\u001B[0m\n"
     ]
    },
    {
     "name": "stdout",
     "output_type": "stream",
     "text": [
      "[0]\ttrain-rmse:5814.09472+5.28034\ttrain-mae:5672.06549+6.23953\ttest-rmse:5814.12127+21.73970\ttest-mae:5672.05044+25.51738\n",
      "[100]\ttrain-rmse:514.96573+4.84041\ttrain-mae:324.25827+1.71471\ttest-rmse:551.25375+17.55206\ttest-mae:343.58847+7.22343\n",
      "[199]\ttrain-rmse:493.57130+5.10110\ttrain-mae:312.38888+1.96277\ttest-rmse:550.26049+18.11440\ttest-mae:342.96802+7.28078\n"
     ]
    },
    {
     "name": "stderr",
     "output_type": "stream",
     "text": [
      "\u001B[32m[I 2023-05-03 17:53:09,911]\u001B[0m Trial 177 finished with value: 550.2604883719157 and parameters: {'eta': 0.058523895090947846, 'max_depth': 5, 'min_child_weight': 0.08614777336943057, 'subsample': 0.9988775786827873, 'colsample_bynode': 0.4696827777013762}. Best is trial 84 with value: 549.1448623889361.\u001B[0m\n"
     ]
    },
    {
     "name": "stdout",
     "output_type": "stream",
     "text": [
      "[0]\ttrain-rmse:5794.72365+5.24383\ttrain-mae:5653.17161+6.23542\ttest-rmse:5794.66716+21.63792\ttest-mae:5653.06175+25.36416\n",
      "[100]\ttrain-rmse:432.91983+6.09957\ttrain-mae:276.99476+2.72687\ttest-rmse:554.12243+20.02730\ttest-mae:343.51868+7.39909\n",
      "[139]\ttrain-rmse:408.39145+6.03218\ttrain-mae:262.45976+2.87344\ttest-rmse:555.78422+20.56528\ttest-mae:344.97210+7.45528\n"
     ]
    },
    {
     "name": "stderr",
     "output_type": "stream",
     "text": [
      "\u001B[32m[I 2023-05-03 17:53:16,371]\u001B[0m Trial 178 finished with value: 554.1512895858231 and parameters: {'eta': 0.06164577250084014, 'max_depth': 8, 'min_child_weight': 0.07405613258805298, 'subsample': 0.997775327013988, 'colsample_bynode': 0.553850308268141}. Best is trial 84 with value: 549.1448623889361.\u001B[0m\n"
     ]
    },
    {
     "name": "stdout",
     "output_type": "stream",
     "text": [
      "[0]\ttrain-rmse:6042.25071+5.52720\ttrain-mae:5897.19903+6.49693\ttest-rmse:6042.27192+22.33386\ttest-mae:5897.24134+26.12023\n",
      "[100]\ttrain-rmse:899.08530+2.47404\ttrain-mae:758.44652+0.81352\ttest-rmse:909.34049+9.26047\ttest-mae:763.45556+3.90020\n",
      "[199]\ttrain-rmse:529.85638+5.04670\ttrain-mae:336.42151+2.04135\ttest-rmse:559.09737+16.34041\ttest-mae:351.35303+6.38399\n"
     ]
    },
    {
     "name": "stderr",
     "output_type": "stream",
     "text": [
      "\u001B[32m[I 2023-05-03 17:53:20,053]\u001B[0m Trial 179 finished with value: 559.0973670306909 and parameters: {'eta': 0.021091791673822465, 'max_depth': 5, 'min_child_weight': 0.08200659817020522, 'subsample': 0.9263217822859887, 'colsample_bynode': 0.4869451323907474}. Best is trial 84 with value: 549.1448623889361.\u001B[0m\n"
     ]
    },
    {
     "name": "stdout",
     "output_type": "stream",
     "text": [
      "[0]\ttrain-rmse:5695.58757+5.15806\ttrain-mae:5554.76781+6.12178\ttest-rmse:5695.63822+21.37176\ttest-mae:5554.77935+25.20593\n",
      "[100]\ttrain-rmse:524.80345+4.48453\ttrain-mae:330.08372+1.90367\ttest-rmse:552.39813+17.33430\ttest-mae:344.62199+6.40566\n",
      "[199]\ttrain-rmse:507.85420+4.79322\ttrain-mae:320.84639+1.89642\ttest-rmse:552.24945+18.05150\ttest-mae:344.32422+6.82253\n"
     ]
    },
    {
     "name": "stderr",
     "output_type": "stream",
     "text": [
      "\u001B[32m[I 2023-05-03 17:53:22,791]\u001B[0m Trial 180 finished with value: 552.2494495630257 and parameters: {'eta': 0.0779788627211813, 'max_depth': 4, 'min_child_weight': 0.0664445580104111, 'subsample': 0.9531971640630663, 'colsample_bynode': 0.5056974320982371}. Best is trial 84 with value: 549.1448623889361.\u001B[0m\n"
     ]
    },
    {
     "name": "stdout",
     "output_type": "stream",
     "text": [
      "[0]\ttrain-rmse:5856.23199+5.32472\ttrain-mae:5713.63214+6.30468\ttest-rmse:5856.15885+21.90666\ttest-mae:5713.50887+25.67987\n",
      "[100]\ttrain-rmse:518.67096+4.96531\ttrain-mae:326.67496+2.21533\ttest-rmse:552.59168+16.71450\ttest-mae:344.15290+6.75772\n",
      "[199]\ttrain-rmse:497.34491+5.44942\ttrain-mae:314.47930+2.41691\ttest-rmse:551.10713+17.96949\ttest-mae:342.94663+7.05683\n"
     ]
    },
    {
     "name": "stderr",
     "output_type": "stream",
     "text": [
      "\u001B[32m[I 2023-05-03 17:53:26,595]\u001B[0m Trial 181 finished with value: 551.1071283111908 and parameters: {'eta': 0.05161188135840537, 'max_depth': 5, 'min_child_weight': 0.08714358669115917, 'subsample': 0.9712975853925256, 'colsample_bynode': 0.43767636426180934}. Best is trial 84 with value: 549.1448623889361.\u001B[0m\n"
     ]
    },
    {
     "name": "stdout",
     "output_type": "stream",
     "text": [
      "[0]\ttrain-rmse:5961.00604+5.43845\ttrain-mae:5817.02286+6.41121\ttest-rmse:5960.96068+22.14716\ttest-mae:5816.95859+25.92279\n",
      "[100]\ttrain-rmse:558.94357+4.19056\ttrain-mae:369.55738+1.65730\ttest-rmse:581.80127+14.94706\ttest-mae:381.63863+6.15575\n",
      "[199]\ttrain-rmse:510.16678+5.06856\ttrain-mae:321.39729+1.89759\ttest-rmse:549.72723+17.54717\ttest-mae:342.17313+6.70592\n"
     ]
    },
    {
     "name": "stderr",
     "output_type": "stream",
     "text": [
      "\u001B[32m[I 2023-05-03 17:53:30,392]\u001B[0m Trial 182 finished with value: 549.727228858733 and parameters: {'eta': 0.03442053134775333, 'max_depth': 5, 'min_child_weight': 0.1171835927570781, 'subsample': 0.9676728872935699, 'colsample_bynode': 0.4656442196963866}. Best is trial 84 with value: 549.1448623889361.\u001B[0m\n"
     ]
    },
    {
     "name": "stdout",
     "output_type": "stream",
     "text": [
      "[0]\ttrain-rmse:5956.76882+5.43534\ttrain-mae:5812.85601+6.41398\ttest-rmse:5956.71390+22.15411\ttest-mae:5812.77438+25.93905\n",
      "[100]\ttrain-rmse:555.01952+4.35098\ttrain-mae:364.45765+1.63776\ttest-rmse:579.03993+14.89644\ttest-mae:376.60746+6.48283\n",
      "[199]\ttrain-rmse:509.94771+5.42116\ttrain-mae:321.54965+2.14950\ttest-rmse:550.97124+17.35168\ttest-mae:342.66744+6.68226\n"
     ]
    },
    {
     "name": "stderr",
     "output_type": "stream",
     "text": [
      "\u001B[32m[I 2023-05-03 17:53:34,648]\u001B[0m Trial 183 finished with value: 550.9712392252909 and parameters: {'eta': 0.03511524028100171, 'max_depth': 5, 'min_child_weight': 0.1102827988456508, 'subsample': 0.9317631911967467, 'colsample_bynode': 0.4546321963498674}. Best is trial 84 with value: 549.1448623889361.\u001B[0m\n"
     ]
    },
    {
     "name": "stdout",
     "output_type": "stream",
     "text": [
      "[0]\ttrain-rmse:6056.32751+5.54328\ttrain-mae:5911.08575+6.50919\ttest-rmse:6056.32827+22.35917\ttest-mae:5911.11484+26.15060\n",
      "[100]\ttrain-rmse:1060.02368+1.75726\ttrain-mae:928.00628+0.57184\ttest-rmse:1067.88088+8.76180\ttest-mae:931.80812+5.41862\n",
      "[199]\ttrain-rmse:543.92921+4.63636\ttrain-mae:351.98839+1.89490\ttest-rmse:570.21328+15.90565\ttest-mae:365.54472+6.36547\n"
     ]
    },
    {
     "name": "stderr",
     "output_type": "stream",
     "text": [
      "\u001B[32m[I 2023-05-03 17:53:39,010]\u001B[0m Trial 184 finished with value: 570.2132845269236 and parameters: {'eta': 0.018782749031972426, 'max_depth': 5, 'min_child_weight': 0.0994265011024759, 'subsample': 0.9839182576392659, 'colsample_bynode': 0.5287602538090697}. Best is trial 84 with value: 549.1448623889361.\u001B[0m\n"
     ]
    },
    {
     "name": "stdout",
     "output_type": "stream",
     "text": [
      "[0]\ttrain-rmse:5924.78392+5.41788\ttrain-mae:5781.29054+6.38523\ttest-rmse:5924.85143+21.97392\ttest-mae:5781.36792+25.73339\n",
      "[100]\ttrain-rmse:532.97515+4.90325\ttrain-mae:339.25888+2.11762\ttest-rmse:560.33002+16.05787\ttest-mae:353.19721+6.39998\n",
      "[199]\ttrain-rmse:503.60911+5.60771\ttrain-mae:317.99637+2.34204\ttest-rmse:549.85163+17.96198\ttest-mae:342.05596+6.94297\n"
     ]
    },
    {
     "name": "stderr",
     "output_type": "stream",
     "text": [
      "\u001B[32m[I 2023-05-03 17:53:43,077]\u001B[0m Trial 185 finished with value: 549.8516265561823 and parameters: {'eta': 0.04036401559233018, 'max_depth': 5, 'min_child_weight': 0.024700294976649387, 'subsample': 0.9022013982334312, 'colsample_bynode': 0.4730476467984756}. Best is trial 84 with value: 549.1448623889361.\u001B[0m\n"
     ]
    },
    {
     "name": "stdout",
     "output_type": "stream",
     "text": [
      "[0]\ttrain-rmse:5993.35499+5.48698\ttrain-mae:5848.94984+6.44727\ttest-rmse:5993.40214+22.16518\ttest-mae:5849.01540+25.94592\n",
      "[100]\ttrain-rmse:618.24088+3.86070\ttrain-mae:442.22867+1.63965\ttest-rmse:637.43730+12.98045\ttest-mae:452.12528+5.32160\n",
      "[199]\ttrain-rmse:514.01529+4.81812\ttrain-mae:323.44034+1.99801\ttest-rmse:551.00298+17.67964\ttest-mae:342.24329+6.69693\n"
     ]
    },
    {
     "name": "stderr",
     "output_type": "stream",
     "text": [
      "\u001B[32m[I 2023-05-03 17:53:46,766]\u001B[0m Trial 186 finished with value: 551.002983967335 and parameters: {'eta': 0.02911670641091401, 'max_depth': 5, 'min_child_weight': 0.023574461202612862, 'subsample': 0.8996158725603768, 'colsample_bynode': 0.479343314023074}. Best is trial 84 with value: 549.1448623889361.\u001B[0m\n"
     ]
    },
    {
     "name": "stdout",
     "output_type": "stream",
     "text": [
      "[0]\ttrain-rmse:5924.54800+5.39562\ttrain-mae:5781.06973+6.37943\ttest-rmse:5924.50818+22.05293\ttest-mae:5780.99642+25.82135\n",
      "[100]\ttrain-rmse:534.08046+4.68055\ttrain-mae:340.22782+1.78174\ttest-rmse:561.17477+16.15467\ttest-mae:353.89224+6.42525\n",
      "[199]\ttrain-rmse:505.83004+5.09507\ttrain-mae:319.33873+2.05272\ttest-rmse:550.66488+17.51216\ttest-mae:342.31598+6.83470\n"
     ]
    },
    {
     "name": "stderr",
     "output_type": "stream",
     "text": [
      "\u001B[32m[I 2023-05-03 17:53:49,923]\u001B[0m Trial 187 finished with value: 550.6648785084205 and parameters: {'eta': 0.04040691074838161, 'max_depth': 5, 'min_child_weight': 0.03138035743304832, 'subsample': 0.8761609189966678, 'colsample_bynode': 0.41420402575657944}. Best is trial 84 with value: 549.1448623889361.\u001B[0m\n"
     ]
    },
    {
     "name": "stdout",
     "output_type": "stream",
     "text": [
      "[0]\ttrain-rmse:5782.36175+5.22703\ttrain-mae:5640.76145+6.21402\ttest-rmse:5782.33762+21.69683\ttest-mae:5640.67578+25.45217\n",
      "[100]\ttrain-rmse:512.71665+4.92505\ttrain-mae:323.47597+2.05814\ttest-rmse:551.69929+17.94761\ttest-mae:343.92433+6.74900\n",
      "[183]\ttrain-rmse:492.76210+4.92317\ttrain-mae:312.70731+1.72158\ttest-rmse:551.47036+19.11067\ttest-mae:344.12217+7.52424\n"
     ]
    },
    {
     "name": "stderr",
     "output_type": "stream",
     "text": [
      "\u001B[32m[I 2023-05-03 17:53:54,552]\u001B[0m Trial 188 finished with value: 551.2199269627118 and parameters: {'eta': 0.06373537573282075, 'max_depth': 5, 'min_child_weight': 0.12951878010536125, 'subsample': 0.8529441434414873, 'colsample_bynode': 0.46998742879948363}. Best is trial 84 with value: 549.1448623889361.\u001B[0m\n"
     ]
    },
    {
     "name": "stdout",
     "output_type": "stream",
     "text": [
      "[0]\ttrain-rmse:5906.98851+5.36592\ttrain-mae:5763.71424+6.34395\ttest-rmse:5906.93046+22.04424\ttest-mae:5763.61440+25.82337\n",
      "[100]\ttrain-rmse:527.94750+4.84057\ttrain-mae:334.15458+1.92462\ttest-rmse:557.02446+16.36634\ttest-mae:348.99308+6.54102\n",
      "[199]\ttrain-rmse:503.51965+4.94850\ttrain-mae:317.84940+2.00201\ttest-rmse:550.95535+17.98169\ttest-mae:342.44851+6.85785\n"
     ]
    },
    {
     "name": "stderr",
     "output_type": "stream",
     "text": [
      "\u001B[32m[I 2023-05-03 17:54:00,337]\u001B[0m Trial 189 finished with value: 550.9553463518414 and parameters: {'eta': 0.04328118587117723, 'max_depth': 5, 'min_child_weight': 0.025451783603855884, 'subsample': 0.9572006364702781, 'colsample_bynode': 0.43547152085122226}. Best is trial 84 with value: 549.1448623889361.\u001B[0m\n"
     ]
    },
    {
     "name": "stdout",
     "output_type": "stream",
     "text": [
      "[0]\ttrain-rmse:6107.86571+5.59620\ttrain-mae:5961.93140+6.56385\ttest-rmse:6107.86308+22.51768\ttest-mae:5961.96165+26.31341\n",
      "[100]\ttrain-rmse:2228.61074+1.46452\ttrain-mae:2119.39761+1.93670\ttest-rmse:2230.61358+11.51614\ttest-mae:2120.02228+13.33261\n",
      "[199]\ttrain-rmse:944.97770+2.12854\ttrain-mae:807.29763+0.87090\ttest-rmse:954.28508+9.01030\ttest-mae:811.98485+4.30878\n"
     ]
    },
    {
     "name": "stderr",
     "output_type": "stream",
     "text": [
      "\u001B[32m[I 2023-05-03 17:54:04,410]\u001B[0m Trial 190 finished with value: 954.285084811752 and parameters: {'eta': 0.010333461351626858, 'max_depth': 5, 'min_child_weight': 0.019347142465922472, 'subsample': 0.9173810246484925, 'colsample_bynode': 0.49947228095818236}. Best is trial 84 with value: 549.1448623889361.\u001B[0m\n"
     ]
    },
    {
     "name": "stdout",
     "output_type": "stream",
     "text": [
      "[0]\ttrain-rmse:5831.06860+5.31793\ttrain-mae:5688.96334+6.29493\ttest-rmse:5831.10639+21.72824\ttest-mae:5688.99602+25.45621\n",
      "[100]\ttrain-rmse:513.67897+5.30488\ttrain-mae:323.38086+2.11946\ttest-rmse:550.99785+17.59833\ttest-mae:342.25363+6.86877\n",
      "[199]\ttrain-rmse:491.13697+5.19334\ttrain-mae:311.10296+2.16300\ttest-rmse:550.66516+18.73214\ttest-mae:342.15392+7.27117\n"
     ]
    },
    {
     "name": "stderr",
     "output_type": "stream",
     "text": [
      "\u001B[32m[I 2023-05-03 17:54:08,823]\u001B[0m Trial 191 finished with value: 550.6651598705118 and parameters: {'eta': 0.05568521685695488, 'max_depth': 5, 'min_child_weight': 0.0963417758250081, 'subsample': 0.9383888093927298, 'colsample_bynode': 0.5707047019850597}. Best is trial 84 with value: 549.1448623889361.\u001B[0m\n"
     ]
    },
    {
     "name": "stdout",
     "output_type": "stream",
     "text": [
      "[0]\ttrain-rmse:5981.81567+5.45365\ttrain-mae:5837.43505+6.43252\ttest-rmse:5981.80978+22.21692\ttest-mae:5837.44228+26.03340\n",
      "[100]\ttrain-rmse:601.96720+3.70257\ttrain-mae:415.55219+1.47455\ttest-rmse:613.98058+13.18274\ttest-mae:421.76928+5.56500\n",
      "[199]\ttrain-rmse:529.93071+4.52781\ttrain-mae:333.43493+1.97922\ttest-rmse:552.20834+16.62859\ttest-mae:344.88923+6.35609\n"
     ]
    },
    {
     "name": "stderr",
     "output_type": "stream",
     "text": [
      "\u001B[32m[I 2023-05-03 17:54:11,411]\u001B[0m Trial 192 finished with value: 552.2083417079159 and parameters: {'eta': 0.03102430325452575, 'max_depth': 4, 'min_child_weight': 0.08151245000180532, 'subsample': 0.900516722561187, 'colsample_bynode': 0.4559565782847216}. Best is trial 84 with value: 549.1448623889361.\u001B[0m\n"
     ]
    },
    {
     "name": "stdout",
     "output_type": "stream",
     "text": [
      "[0]\ttrain-rmse:5905.33783+5.38624\ttrain-mae:5762.09957+6.34324\ttest-rmse:5905.39386+21.92063\ttest-mae:5762.16483+25.69656\n",
      "[100]\ttrain-rmse:526.05116+5.13419\ttrain-mae:332.48476+2.02513\ttest-rmse:556.88558+16.82344\ttest-mae:348.51388+6.43533\n",
      "[199]\ttrain-rmse:501.98827+5.58718\ttrain-mae:316.90646+2.27880\ttest-rmse:551.28373+18.34345\ttest-mae:343.13077+6.88743\n"
     ]
    },
    {
     "name": "stderr",
     "output_type": "stream",
     "text": [
      "\u001B[32m[I 2023-05-03 17:54:15,102]\u001B[0m Trial 193 finished with value: 551.283733561169 and parameters: {'eta': 0.043544052355705444, 'max_depth': 5, 'min_child_weight': 0.06337406990676166, 'subsample': 0.9972531239546031, 'colsample_bynode': 0.5190368092700223}. Best is trial 84 with value: 549.1448623889361.\u001B[0m\n"
     ]
    },
    {
     "name": "stdout",
     "output_type": "stream",
     "text": [
      "[0]\ttrain-rmse:5758.40791+5.23929\ttrain-mae:5616.83187+6.20811\ttest-rmse:5758.42099+21.54802\ttest-mae:5616.81896+25.34915\n",
      "[100]\ttrain-rmse:527.36077+4.41363\ttrain-mae:331.48061+1.78017\ttest-rmse:551.64951+16.79801\ttest-mae:344.03623+5.91522\n",
      "[195]\ttrain-rmse:512.10968+4.67336\ttrain-mae:323.12243+1.79258\ttest-rmse:551.12246+17.54594\ttest-mae:343.54981+6.47867\n"
     ]
    },
    {
     "name": "stderr",
     "output_type": "stream",
     "text": [
      "\u001B[32m[I 2023-05-03 17:54:17,850]\u001B[0m Trial 194 finished with value: 551.0631089092373 and parameters: {'eta': 0.06768195139653779, 'max_depth': 4, 'min_child_weight': 0.11114396389224518, 'subsample': 0.9155242829023235, 'colsample_bynode': 0.4964223673026727}. Best is trial 84 with value: 549.1448623889361.\u001B[0m\n"
     ]
    },
    {
     "name": "stdout",
     "output_type": "stream",
     "text": [
      "[0]\ttrain-rmse:5841.09034+5.31991\ttrain-mae:5698.84615+6.27907\ttest-rmse:5841.11058+21.73176\ttest-mae:5698.85201+25.48339\n",
      "[100]\ttrain-rmse:514.80384+5.47298\ttrain-mae:324.03244+2.25310\ttest-rmse:551.35534+18.07226\ttest-mae:342.80806+6.82687\n",
      "[170]\ttrain-rmse:497.73995+5.77887\ttrain-mae:314.75497+2.35986\ttest-rmse:550.72723+19.03664\ttest-mae:342.56074+7.20026\n"
     ]
    },
    {
     "name": "stderr",
     "output_type": "stream",
     "text": [
      "\u001B[32m[I 2023-05-03 17:54:21,482]\u001B[0m Trial 195 finished with value: 550.8464447148871 and parameters: {'eta': 0.05403910105526172, 'max_depth': 5, 'min_child_weight': 0.1799333919355871, 'subsample': 0.9442172043315737, 'colsample_bynode': 0.5460205343955246}. Best is trial 84 with value: 549.1448623889361.\u001B[0m\n"
     ]
    },
    {
     "name": "stdout",
     "output_type": "stream",
     "text": [
      "[0]\ttrain-rmse:3970.06905+3.32529\ttrain-mae:3848.40161+4.25333\ttest-rmse:3970.99108+16.92972\ttest-mae:3848.72963+20.26909\n",
      "[61]\ttrain-rmse:418.58761+3.84735\ttrain-mae:273.65225+1.76618\ttest-rmse:575.60824+19.40238\ttest-mae:363.55464+7.11760\n"
     ]
    },
    {
     "name": "stderr",
     "output_type": "stream",
     "text": [
      "\u001B[32m[I 2023-05-03 17:54:24,517]\u001B[0m Trial 196 finished with value: 560.2712581601234 and parameters: {'eta': 0.3617141443884422, 'max_depth': 6, 'min_child_weight': 0.1455268958431434, 'subsample': 0.964900902921607, 'colsample_bynode': 0.47719598768742577}. Best is trial 84 with value: 549.1448623889361.\u001B[0m\n"
     ]
    },
    {
     "name": "stdout",
     "output_type": "stream",
     "text": [
      "[0]\ttrain-rmse:6011.27969+5.49298\ttrain-mae:5866.79450+6.47231\ttest-rmse:6011.28683+22.25024\ttest-mae:5866.81023+26.03536\n",
      "[100]\ttrain-rmse:683.57534+3.55048\ttrain-mae:520.44945+1.50024\ttest-rmse:699.68813+11.94296\ttest-mae:528.72817+4.29015\n",
      "[199]\ttrain-rmse:515.99743+5.02977\ttrain-mae:324.47257+2.11528\ttest-rmse:551.32833+17.52072\ttest-mae:342.29948+6.57838\n"
     ]
    },
    {
     "name": "stderr",
     "output_type": "stream",
     "text": [
      "\u001B[32m[I 2023-05-03 17:54:29,428]\u001B[0m Trial 197 finished with value: 551.3283264211128 and parameters: {'eta': 0.02614559648404082, 'max_depth': 5, 'min_child_weight': 0.013807258216461109, 'subsample': 0.8911550809183274, 'colsample_bynode': 0.6018489145918418}. Best is trial 84 with value: 549.1448623889361.\u001B[0m\n"
     ]
    },
    {
     "name": "stdout",
     "output_type": "stream",
     "text": [
      "[0]\ttrain-rmse:5956.70283+5.44547\ttrain-mae:5812.89385+6.42136\ttest-rmse:5956.69126+22.07029\ttest-mae:5812.89840+25.82592\n",
      "[100]\ttrain-rmse:553.12120+4.63808\ttrain-mae:362.84164+1.89054\ttest-rmse:578.25642+14.62326\ttest-mae:375.84665+6.09475\n",
      "[199]\ttrain-rmse:506.87386+5.38888\ttrain-mae:319.40346+2.22136\ttest-rmse:550.39763+16.99984\ttest-mae:341.87216+6.45347\n"
     ]
    },
    {
     "name": "stderr",
     "output_type": "stream",
     "text": [
      "\u001B[32m[I 2023-05-03 17:54:32,949]\u001B[0m Trial 198 finished with value: 550.3976330657202 and parameters: {'eta': 0.035097215892336824, 'max_depth': 5, 'min_child_weight': 0.0371955373094968, 'subsample': 0.931843633216609, 'colsample_bynode': 0.5294664354178588}. Best is trial 84 with value: 549.1448623889361.\u001B[0m\n"
     ]
    },
    {
     "name": "stdout",
     "output_type": "stream",
     "text": [
      "[0]\ttrain-rmse:5887.81645+5.36362\ttrain-mae:5744.66313+6.33625\ttest-rmse:5887.85109+21.93702\ttest-mae:5744.69991+25.73423\n",
      "[100]\ttrain-rmse:537.44268+4.58548\ttrain-mae:338.29530+1.69742\ttest-rmse:555.62726+16.54711\ttest-mae:347.76053+6.51967\n",
      "[199]\ttrain-rmse:521.11254+4.90518\ttrain-mae:328.02723+1.77433\ttest-rmse:550.76826+17.27045\ttest-mae:343.56654+6.83528\n"
     ]
    },
    {
     "name": "stderr",
     "output_type": "stream",
     "text": [
      "\u001B[32m[I 2023-05-03 17:54:35,682]\u001B[0m Trial 199 finished with value: 550.7682626775671 and parameters: {'eta': 0.04644653515907362, 'max_depth': 4, 'min_child_weight': 0.12349045663015522, 'subsample': 0.8634730535729698, 'colsample_bynode': 0.507472788839232}. Best is trial 84 with value: 549.1448623889361.\u001B[0m\n"
     ]
    },
    {
     "name": "stdout",
     "output_type": "stream",
     "text": [
      "Number of finished trials: 200\n",
      "Best trial:\n",
      "  Value: 549.1448623889361\n",
      "  Params: \n",
      "    eta: 0.03921743172707871\n",
      "    max_depth: 5\n",
      "    min_child_weight: 0.034046522113062964\n",
      "    subsample: 0.9194272319494144\n",
      "    colsample_bynode: 0.6264947156795478\n"
     ]
    }
   ],
   "source": [
    "study = optuna.create_study(direction='minimize')\n",
    "study.optimize(objective, n_trials=200)\n",
    "print('Number of finished trials: {}'.format(len(study.trials)))\n",
    "print('Best trial:')\n",
    "trial = study.best_trial\n",
    "\n",
    "print('  Value: {}'.format(trial.value))\n",
    "print('  Params: ')\n",
    "\n",
    "for key, value in trial.params.items():\n",
    "    print('    {}: {}'.format(key, value))"
   ],
   "metadata": {
    "collapsed": false,
    "ExecuteTime": {
     "start_time": "2023-05-03T17:43:29.564199Z",
     "end_time": "2023-05-03T17:54:35.755510Z"
    }
   }
  },
  {
   "cell_type": "code",
   "execution_count": 19,
   "outputs": [],
   "source": [
    "bestParams = study.best_trial.params\n",
    "bestParams[\"tree_method\"]= \"gpu_hist\"\n",
    "bestParams[\"objective\"]= \"reg:squarederror\"\n",
    "model = xgb.train(\n",
    "    params=bestParams,\n",
    "    dtrain=dtrain,\n",
    "    num_boost_round=boostrounds\n",
    ")\n",
    "\n",
    "blueberry_test = pd.read_csv(\"/home/rainer/Downloads/ML_datasets/blueberry_test.csv\")\n",
    "blueberry_test[\"dataset\"]=1 #this data is also from synthetic dataset\n",
    "ids = blueberry_test[\"id\"]\n",
    "blueberry_test = blueberry_test.drop(\"id\", axis=1)\n",
    "blueberry_finalPred_matrix = xgb.DMatrix(blueberry_test, enable_categorical=False)\n",
    "predictions = model.predict(blueberry_finalPred_matrix)\n",
    "predictionsDf = pd.DataFrame(predictions, columns=[\"yield\"])\n",
    "predictionsDf[\"id\"]=ids\n"
   ],
   "metadata": {
    "collapsed": false,
    "ExecuteTime": {
     "start_time": "2023-05-03T17:54:35.718572Z",
     "end_time": "2023-05-03T17:54:36.436388Z"
    }
   }
  },
  {
   "cell_type": "code",
   "execution_count": 20,
   "outputs": [
    {
     "data": {
      "text/plain": "             yield     id\n0      4256.781250  15289\n1      6203.761230  15290\n2      7152.280273  15291\n3      4730.333984  15292\n4      3866.606445  15293\n...            ...    ...\n10189  5447.820801  25478\n10190  5687.092773  25479\n10191  6495.664551  25480\n10192  4439.635254  25481\n10193  7288.142578  25482\n\n[10194 rows x 2 columns]",
      "text/html": "<div>\n<style scoped>\n    .dataframe tbody tr th:only-of-type {\n        vertical-align: middle;\n    }\n\n    .dataframe tbody tr th {\n        vertical-align: top;\n    }\n\n    .dataframe thead th {\n        text-align: right;\n    }\n</style>\n<table border=\"1\" class=\"dataframe\">\n  <thead>\n    <tr style=\"text-align: right;\">\n      <th></th>\n      <th>yield</th>\n      <th>id</th>\n    </tr>\n  </thead>\n  <tbody>\n    <tr>\n      <th>0</th>\n      <td>4256.781250</td>\n      <td>15289</td>\n    </tr>\n    <tr>\n      <th>1</th>\n      <td>6203.761230</td>\n      <td>15290</td>\n    </tr>\n    <tr>\n      <th>2</th>\n      <td>7152.280273</td>\n      <td>15291</td>\n    </tr>\n    <tr>\n      <th>3</th>\n      <td>4730.333984</td>\n      <td>15292</td>\n    </tr>\n    <tr>\n      <th>4</th>\n      <td>3866.606445</td>\n      <td>15293</td>\n    </tr>\n    <tr>\n      <th>...</th>\n      <td>...</td>\n      <td>...</td>\n    </tr>\n    <tr>\n      <th>10189</th>\n      <td>5447.820801</td>\n      <td>25478</td>\n    </tr>\n    <tr>\n      <th>10190</th>\n      <td>5687.092773</td>\n      <td>25479</td>\n    </tr>\n    <tr>\n      <th>10191</th>\n      <td>6495.664551</td>\n      <td>25480</td>\n    </tr>\n    <tr>\n      <th>10192</th>\n      <td>4439.635254</td>\n      <td>25481</td>\n    </tr>\n    <tr>\n      <th>10193</th>\n      <td>7288.142578</td>\n      <td>25482</td>\n    </tr>\n  </tbody>\n</table>\n<p>10194 rows × 2 columns</p>\n</div>"
     },
     "execution_count": 20,
     "metadata": {},
     "output_type": "execute_result"
    }
   ],
   "source": [
    "predictionsDf"
   ],
   "metadata": {
    "collapsed": false,
    "ExecuteTime": {
     "start_time": "2023-05-03T17:54:36.450850Z",
     "end_time": "2023-05-03T17:54:36.524845Z"
    }
   }
  },
  {
   "cell_type": "code",
   "execution_count": 21,
   "outputs": [],
   "source": [
    "predictionsDf.to_csv('/home/rainer/Downloads/ML_datasets/blueberry_test_prediction.csv', columns=['id','yield'], index=False)"
   ],
   "metadata": {
    "collapsed": false,
    "ExecuteTime": {
     "start_time": "2023-05-03T17:54:36.499863Z",
     "end_time": "2023-05-03T17:54:36.672524Z"
    }
   }
  },
  {
   "cell_type": "code",
   "execution_count": 21,
   "outputs": [],
   "source": [],
   "metadata": {
    "collapsed": false,
    "ExecuteTime": {
     "start_time": "2023-05-03T17:54:36.608062Z",
     "end_time": "2023-05-03T17:54:36.703365Z"
    }
   }
  }
 ],
 "metadata": {
  "kernelspec": {
   "display_name": "Python 3",
   "language": "python",
   "name": "python3"
  },
  "language_info": {
   "codemirror_mode": {
    "name": "ipython",
    "version": 2
   },
   "file_extension": ".py",
   "mimetype": "text/x-python",
   "name": "python",
   "nbconvert_exporter": "python",
   "pygments_lexer": "ipython2",
   "version": "2.7.6"
  }
 },
 "nbformat": 4,
 "nbformat_minor": 0
}
