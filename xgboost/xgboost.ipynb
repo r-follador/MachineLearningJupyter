{
 "cells": [
  {
   "cell_type": "markdown",
   "metadata": {},
   "source": [
    "# [Kaggle Digit Recognizer Challenge](https://www.kaggle.com/competitions/digit-recognizer)\n",
    "From https://www.datacamp.com/tutorial/xgboost-in-python"
   ]
  },
  {
   "cell_type": "code",
   "execution_count": 4,
   "metadata": {
    "ExecuteTime": {
     "start_time": "2023-04-28T21:56:39.946437Z",
     "end_time": "2023-04-28T21:56:42.595097Z"
    }
   },
   "outputs": [],
   "source": [
    "import seaborn as sns\n",
    "import pandas as pd\n",
    "import numpy as np\n",
    "import matplotlib.pyplot as plt\n",
    "from sklearn.model_selection import train_test_split\n",
    "import xgboost as xgb\n",
    "\n",
    "mnist_train = pd.read_csv(\"/home/rainer/Downloads/ML_datasets/mnist_train.csv\")\n",
    "\n",
    "mnist_test = pd.read_csv(\"/home/rainer/Downloads/ML_datasets/mnist_test.csv\")\n",
    "\n",
    "X, Y = mnist_train.drop('label', axis=1), mnist_train[['label']]"
   ]
  },
  {
   "cell_type": "code",
   "execution_count": 5,
   "outputs": [],
   "source": [
    "X_train, X_test, Y_train, Y_test = train_test_split(X, Y, random_state=1)\n",
    "dtrain_reg = xgb.DMatrix(X_train, Y_train, enable_categorical=False)\n",
    "dtest_reg = xgb.DMatrix(X_test, Y_test, enable_categorical=False)\n",
    "dfull = xgb.DMatrix(X, Y, enable_categorical=False)"
   ],
   "metadata": {
    "collapsed": false,
    "ExecuteTime": {
     "start_time": "2023-04-28T21:56:42.599395Z",
     "end_time": "2023-04-28T21:56:43.340969Z"
    }
   }
  },
  {
   "cell_type": "code",
   "execution_count": 6,
   "metadata": {
    "ExecuteTime": {
     "start_time": "2023-04-27T15:43:20.800495Z",
     "end_time": "2023-04-27T15:45:37.751928Z"
    }
   },
   "outputs": [
    {
     "name": "stdout",
     "output_type": "stream",
     "text": [
      "[0]\ttrain-logloss:-127.63251+0.33649\ttrain-error:-3.46438+0.00913\ttest-logloss:-127.63251+1.34597\ttest-error:-3.46438+0.03653\n"
     ]
    },
    {
     "ename": "XGBoostError",
     "evalue": "[21:56:45] ../src/tree/updater_gpu_hist.cu:802: Exception in gpu_hist: [21:56:45] ../src/c_api/../data/../common/device_helpers.cuh:431: Memory allocation error on worker 0: std::bad_alloc: cudaErrorMemoryAllocation: out of memory\n- Free memory: 197394432\n- Requested memory: 268435456\n\nStack trace:\n  [bt] (0) /home/rainer/miniconda3/envs/jupyter_standard/lib/python3.10/site-packages/xgboost/lib/libxgboost.so(+0x451c73) [0x7f8671851c73]\n  [bt] (1) /home/rainer/miniconda3/envs/jupyter_standard/lib/python3.10/site-packages/xgboost/lib/libxgboost.so(+0x456f71) [0x7f8671856f71]\n  [bt] (2) /home/rainer/miniconda3/envs/jupyter_standard/lib/python3.10/site-packages/xgboost/lib/libxgboost.so(+0x11256f) [0x7f867151256f]\n  [bt] (3) /home/rainer/miniconda3/envs/jupyter_standard/lib/python3.10/site-packages/xgboost/lib/libxgboost.so(+0x70594d) [0x7f8671b0594d]\n  [bt] (4) /home/rainer/miniconda3/envs/jupyter_standard/lib/python3.10/site-packages/xgboost/lib/libxgboost.so(+0x712b30) [0x7f8671b12b30]\n  [bt] (5) /home/rainer/miniconda3/envs/jupyter_standard/lib/python3.10/site-packages/xgboost/lib/libxgboost.so(+0x712d7c) [0x7f8671b12d7c]\n  [bt] (6) /home/rainer/miniconda3/envs/jupyter_standard/lib/python3.10/site-packages/xgboost/lib/libxgboost.so(+0x713574) [0x7f8671b13574]\n  [bt] (7) /home/rainer/miniconda3/envs/jupyter_standard/lib/python3.10/site-packages/xgboost/lib/libxgboost.so(+0x719c49) [0x7f8671b19c49]\n  [bt] (8) /home/rainer/miniconda3/envs/jupyter_standard/lib/python3.10/site-packages/xgboost/lib/libxgboost.so(+0x71b021) [0x7f8671b1b021]\n\n\n\nStack trace:\n  [bt] (0) /home/rainer/miniconda3/envs/jupyter_standard/lib/python3.10/site-packages/xgboost/lib/libxgboost.so(+0x6fce83) [0x7f8671afce83]\n  [bt] (1) /home/rainer/miniconda3/envs/jupyter_standard/lib/python3.10/site-packages/xgboost/lib/libxgboost.so(+0x71b2b7) [0x7f8671b1b2b7]\n  [bt] (2) /home/rainer/miniconda3/envs/jupyter_standard/lib/python3.10/site-packages/xgboost/lib/libxgboost.so(+0x2ace51) [0x7f86716ace51]\n  [bt] (3) /home/rainer/miniconda3/envs/jupyter_standard/lib/python3.10/site-packages/xgboost/lib/libxgboost.so(+0x2ae9e5) [0x7f86716ae9e5]\n  [bt] (4) /home/rainer/miniconda3/envs/jupyter_standard/lib/python3.10/site-packages/xgboost/lib/libxgboost.so(+0x2e0501) [0x7f86716e0501]\n  [bt] (5) /home/rainer/miniconda3/envs/jupyter_standard/lib/python3.10/site-packages/xgboost/lib/libxgboost.so(XGBoosterUpdateOneIter+0x70) [0x7f867153c5f0]\n  [bt] (6) /home/rainer/miniconda3/envs/jupyter_standard/lib/python3.10/lib-dynload/../../libffi.so.8(+0xa052) [0x7f86c6ed7052]\n  [bt] (7) /home/rainer/miniconda3/envs/jupyter_standard/lib/python3.10/lib-dynload/../../libffi.so.8(+0x88cd) [0x7f86c6ed58cd]\n  [bt] (8) /home/rainer/miniconda3/envs/jupyter_standard/lib/python3.10/lib-dynload/_ctypes.cpython-310-x86_64-linux-gnu.so(+0x91e7) [0x7f86c71621e7]\n\n",
     "output_type": "error",
     "traceback": [
      "\u001B[0;31m---------------------------------------------------------------------------\u001B[0m",
      "\u001B[0;31mXGBoostError\u001B[0m                              Traceback (most recent call last)",
      "Cell \u001B[0;32mIn[6], line 7\u001B[0m\n\u001B[1;32m      2\u001B[0m params \u001B[38;5;241m=\u001B[39m {\n\u001B[1;32m      3\u001B[0m     \u001B[38;5;124m\"\u001B[39m\u001B[38;5;124mobjective\u001B[39m\u001B[38;5;124m\"\u001B[39m: \u001B[38;5;124m\"\u001B[39m\u001B[38;5;124mbinary:hinge\u001B[39m\u001B[38;5;124m\"\u001B[39m,\n\u001B[1;32m      4\u001B[0m     \u001B[38;5;124m\"\u001B[39m\u001B[38;5;124mtree_method\u001B[39m\u001B[38;5;124m\"\u001B[39m: \u001B[38;5;124m\"\u001B[39m\u001B[38;5;124mgpu_hist\u001B[39m\u001B[38;5;124m\"\u001B[39m\n\u001B[1;32m      5\u001B[0m }\n\u001B[1;32m      6\u001B[0m n\u001B[38;5;241m=\u001B[39m\u001B[38;5;241m100\u001B[39m\n\u001B[0;32m----> 7\u001B[0m results \u001B[38;5;241m=\u001B[39m \u001B[43mxgb\u001B[49m\u001B[38;5;241;43m.\u001B[39;49m\u001B[43mcv\u001B[49m\u001B[43m(\u001B[49m\n\u001B[1;32m      8\u001B[0m \u001B[43m    \u001B[49m\u001B[43mparams\u001B[49m\u001B[38;5;241;43m=\u001B[39;49m\u001B[43mparams\u001B[49m\u001B[43m,\u001B[49m\n\u001B[1;32m      9\u001B[0m \u001B[43m    \u001B[49m\u001B[43mdtrain\u001B[49m\u001B[38;5;241;43m=\u001B[39;49m\u001B[43mdtrain_reg\u001B[49m\u001B[43m,\u001B[49m\n\u001B[1;32m     10\u001B[0m \u001B[43m    \u001B[49m\u001B[43mnum_boost_round\u001B[49m\u001B[38;5;241;43m=\u001B[39;49m\u001B[43mn\u001B[49m\u001B[43m,\u001B[49m\n\u001B[1;32m     11\u001B[0m \u001B[43m    \u001B[49m\u001B[43mnfold\u001B[49m\u001B[38;5;241;43m=\u001B[39;49m\u001B[38;5;241;43m5\u001B[39;49m\u001B[43m,\u001B[49m\n\u001B[1;32m     12\u001B[0m \u001B[43m    \u001B[49m\u001B[43mverbose_eval\u001B[49m\u001B[38;5;241;43m=\u001B[39;49m\u001B[38;5;241;43m10\u001B[39;49m\u001B[43m,\u001B[49m\u001B[43m \u001B[49m\u001B[38;5;66;43;03m# print eval every xth round\u001B[39;49;00m\n\u001B[1;32m     13\u001B[0m \u001B[43m    \u001B[49m\u001B[43mmetrics\u001B[49m\u001B[38;5;241;43m=\u001B[39;49m\u001B[43m[\u001B[49m\u001B[38;5;124;43m\"\u001B[39;49m\u001B[38;5;124;43mlogloss\u001B[39;49m\u001B[38;5;124;43m\"\u001B[39;49m\u001B[43m,\u001B[49m\u001B[43m \u001B[49m\u001B[38;5;124;43m\"\u001B[39;49m\u001B[38;5;124;43merror\u001B[39;49m\u001B[38;5;124;43m\"\u001B[39;49m\u001B[43m]\u001B[49m\u001B[43m,\u001B[49m\n\u001B[1;32m     14\u001B[0m \u001B[43m)\u001B[49m\n",
      "File \u001B[0;32m~/miniconda3/envs/jupyter_standard/lib/python3.10/site-packages/xgboost/training.py:538\u001B[0m, in \u001B[0;36mcv\u001B[0;34m(params, dtrain, num_boost_round, nfold, stratified, folds, metrics, obj, feval, maximize, early_stopping_rounds, fpreproc, as_pandas, verbose_eval, show_stdv, seed, callbacks, shuffle, custom_metric)\u001B[0m\n\u001B[1;32m    536\u001B[0m \u001B[38;5;28;01mif\u001B[39;00m callbacks_container\u001B[38;5;241m.\u001B[39mbefore_iteration(booster, i, dtrain, \u001B[38;5;28;01mNone\u001B[39;00m):\n\u001B[1;32m    537\u001B[0m     \u001B[38;5;28;01mbreak\u001B[39;00m\n\u001B[0;32m--> 538\u001B[0m \u001B[43mbooster\u001B[49m\u001B[38;5;241;43m.\u001B[39;49m\u001B[43mupdate\u001B[49m\u001B[43m(\u001B[49m\u001B[43mi\u001B[49m\u001B[43m,\u001B[49m\u001B[43m \u001B[49m\u001B[43mobj\u001B[49m\u001B[43m)\u001B[49m\n\u001B[1;32m    540\u001B[0m should_break \u001B[38;5;241m=\u001B[39m callbacks_container\u001B[38;5;241m.\u001B[39mafter_iteration(booster, i, dtrain, \u001B[38;5;28;01mNone\u001B[39;00m)\n\u001B[1;32m    541\u001B[0m res \u001B[38;5;241m=\u001B[39m callbacks_container\u001B[38;5;241m.\u001B[39maggregated_cv\n",
      "File \u001B[0;32m~/miniconda3/envs/jupyter_standard/lib/python3.10/site-packages/xgboost/training.py:229\u001B[0m, in \u001B[0;36m_PackedBooster.update\u001B[0;34m(self, iteration, obj)\u001B[0m\n\u001B[1;32m    227\u001B[0m \u001B[38;5;124;03m'''Iterate through folds for update'''\u001B[39;00m\n\u001B[1;32m    228\u001B[0m \u001B[38;5;28;01mfor\u001B[39;00m fold \u001B[38;5;129;01min\u001B[39;00m \u001B[38;5;28mself\u001B[39m\u001B[38;5;241m.\u001B[39mcvfolds:\n\u001B[0;32m--> 229\u001B[0m     \u001B[43mfold\u001B[49m\u001B[38;5;241;43m.\u001B[39;49m\u001B[43mupdate\u001B[49m\u001B[43m(\u001B[49m\u001B[43miteration\u001B[49m\u001B[43m,\u001B[49m\u001B[43m \u001B[49m\u001B[43mobj\u001B[49m\u001B[43m)\u001B[49m\n",
      "File \u001B[0;32m~/miniconda3/envs/jupyter_standard/lib/python3.10/site-packages/xgboost/training.py:215\u001B[0m, in \u001B[0;36mCVPack.update\u001B[0;34m(self, iteration, fobj)\u001B[0m\n\u001B[1;32m    213\u001B[0m \u001B[38;5;28;01mdef\u001B[39;00m \u001B[38;5;21mupdate\u001B[39m(\u001B[38;5;28mself\u001B[39m, iteration: \u001B[38;5;28mint\u001B[39m, fobj: Optional[Objective]) \u001B[38;5;241m-\u001B[39m\u001B[38;5;241m>\u001B[39m \u001B[38;5;28;01mNone\u001B[39;00m:\n\u001B[1;32m    214\u001B[0m     \u001B[38;5;124;03m\"\"\"\"Update the boosters for one iteration\"\"\"\u001B[39;00m\n\u001B[0;32m--> 215\u001B[0m     \u001B[38;5;28;43mself\u001B[39;49m\u001B[38;5;241;43m.\u001B[39;49m\u001B[43mbst\u001B[49m\u001B[38;5;241;43m.\u001B[39;49m\u001B[43mupdate\u001B[49m\u001B[43m(\u001B[49m\u001B[38;5;28;43mself\u001B[39;49m\u001B[38;5;241;43m.\u001B[39;49m\u001B[43mdtrain\u001B[49m\u001B[43m,\u001B[49m\u001B[43m \u001B[49m\u001B[43miteration\u001B[49m\u001B[43m,\u001B[49m\u001B[43m \u001B[49m\u001B[43mfobj\u001B[49m\u001B[43m)\u001B[49m\n",
      "File \u001B[0;32m~/miniconda3/envs/jupyter_standard/lib/python3.10/site-packages/xgboost/core.py:1918\u001B[0m, in \u001B[0;36mBooster.update\u001B[0;34m(self, dtrain, iteration, fobj)\u001B[0m\n\u001B[1;32m   1915\u001B[0m \u001B[38;5;28mself\u001B[39m\u001B[38;5;241m.\u001B[39m_validate_dmatrix_features(dtrain)\n\u001B[1;32m   1917\u001B[0m \u001B[38;5;28;01mif\u001B[39;00m fobj \u001B[38;5;129;01mis\u001B[39;00m \u001B[38;5;28;01mNone\u001B[39;00m:\n\u001B[0;32m-> 1918\u001B[0m     \u001B[43m_check_call\u001B[49m\u001B[43m(\u001B[49m\u001B[43m_LIB\u001B[49m\u001B[38;5;241;43m.\u001B[39;49m\u001B[43mXGBoosterUpdateOneIter\u001B[49m\u001B[43m(\u001B[49m\u001B[38;5;28;43mself\u001B[39;49m\u001B[38;5;241;43m.\u001B[39;49m\u001B[43mhandle\u001B[49m\u001B[43m,\u001B[49m\n\u001B[1;32m   1919\u001B[0m \u001B[43m                                            \u001B[49m\u001B[43mctypes\u001B[49m\u001B[38;5;241;43m.\u001B[39;49m\u001B[43mc_int\u001B[49m\u001B[43m(\u001B[49m\u001B[43miteration\u001B[49m\u001B[43m)\u001B[49m\u001B[43m,\u001B[49m\n\u001B[1;32m   1920\u001B[0m \u001B[43m                                            \u001B[49m\u001B[43mdtrain\u001B[49m\u001B[38;5;241;43m.\u001B[39;49m\u001B[43mhandle\u001B[49m\u001B[43m)\u001B[49m\u001B[43m)\u001B[49m\n\u001B[1;32m   1921\u001B[0m \u001B[38;5;28;01melse\u001B[39;00m:\n\u001B[1;32m   1922\u001B[0m     pred \u001B[38;5;241m=\u001B[39m \u001B[38;5;28mself\u001B[39m\u001B[38;5;241m.\u001B[39mpredict(dtrain, output_margin\u001B[38;5;241m=\u001B[39m\u001B[38;5;28;01mTrue\u001B[39;00m, training\u001B[38;5;241m=\u001B[39m\u001B[38;5;28;01mTrue\u001B[39;00m)\n",
      "File \u001B[0;32m~/miniconda3/envs/jupyter_standard/lib/python3.10/site-packages/xgboost/core.py:279\u001B[0m, in \u001B[0;36m_check_call\u001B[0;34m(ret)\u001B[0m\n\u001B[1;32m    268\u001B[0m \u001B[38;5;124;03m\"\"\"Check the return value of C API call\u001B[39;00m\n\u001B[1;32m    269\u001B[0m \n\u001B[1;32m    270\u001B[0m \u001B[38;5;124;03mThis function will raise exception when error occurs.\u001B[39;00m\n\u001B[0;32m   (...)\u001B[0m\n\u001B[1;32m    276\u001B[0m \u001B[38;5;124;03m    return value from API calls\u001B[39;00m\n\u001B[1;32m    277\u001B[0m \u001B[38;5;124;03m\"\"\"\u001B[39;00m\n\u001B[1;32m    278\u001B[0m \u001B[38;5;28;01mif\u001B[39;00m ret \u001B[38;5;241m!=\u001B[39m \u001B[38;5;241m0\u001B[39m:\n\u001B[0;32m--> 279\u001B[0m     \u001B[38;5;28;01mraise\u001B[39;00m XGBoostError(py_str(_LIB\u001B[38;5;241m.\u001B[39mXGBGetLastError()))\n",
      "\u001B[0;31mXGBoostError\u001B[0m: [21:56:45] ../src/tree/updater_gpu_hist.cu:802: Exception in gpu_hist: [21:56:45] ../src/c_api/../data/../common/device_helpers.cuh:431: Memory allocation error on worker 0: std::bad_alloc: cudaErrorMemoryAllocation: out of memory\n- Free memory: 197394432\n- Requested memory: 268435456\n\nStack trace:\n  [bt] (0) /home/rainer/miniconda3/envs/jupyter_standard/lib/python3.10/site-packages/xgboost/lib/libxgboost.so(+0x451c73) [0x7f8671851c73]\n  [bt] (1) /home/rainer/miniconda3/envs/jupyter_standard/lib/python3.10/site-packages/xgboost/lib/libxgboost.so(+0x456f71) [0x7f8671856f71]\n  [bt] (2) /home/rainer/miniconda3/envs/jupyter_standard/lib/python3.10/site-packages/xgboost/lib/libxgboost.so(+0x11256f) [0x7f867151256f]\n  [bt] (3) /home/rainer/miniconda3/envs/jupyter_standard/lib/python3.10/site-packages/xgboost/lib/libxgboost.so(+0x70594d) [0x7f8671b0594d]\n  [bt] (4) /home/rainer/miniconda3/envs/jupyter_standard/lib/python3.10/site-packages/xgboost/lib/libxgboost.so(+0x712b30) [0x7f8671b12b30]\n  [bt] (5) /home/rainer/miniconda3/envs/jupyter_standard/lib/python3.10/site-packages/xgboost/lib/libxgboost.so(+0x712d7c) [0x7f8671b12d7c]\n  [bt] (6) /home/rainer/miniconda3/envs/jupyter_standard/lib/python3.10/site-packages/xgboost/lib/libxgboost.so(+0x713574) [0x7f8671b13574]\n  [bt] (7) /home/rainer/miniconda3/envs/jupyter_standard/lib/python3.10/site-packages/xgboost/lib/libxgboost.so(+0x719c49) [0x7f8671b19c49]\n  [bt] (8) /home/rainer/miniconda3/envs/jupyter_standard/lib/python3.10/site-packages/xgboost/lib/libxgboost.so(+0x71b021) [0x7f8671b1b021]\n\n\n\nStack trace:\n  [bt] (0) /home/rainer/miniconda3/envs/jupyter_standard/lib/python3.10/site-packages/xgboost/lib/libxgboost.so(+0x6fce83) [0x7f8671afce83]\n  [bt] (1) /home/rainer/miniconda3/envs/jupyter_standard/lib/python3.10/site-packages/xgboost/lib/libxgboost.so(+0x71b2b7) [0x7f8671b1b2b7]\n  [bt] (2) /home/rainer/miniconda3/envs/jupyter_standard/lib/python3.10/site-packages/xgboost/lib/libxgboost.so(+0x2ace51) [0x7f86716ace51]\n  [bt] (3) /home/rainer/miniconda3/envs/jupyter_standard/lib/python3.10/site-packages/xgboost/lib/libxgboost.so(+0x2ae9e5) [0x7f86716ae9e5]\n  [bt] (4) /home/rainer/miniconda3/envs/jupyter_standard/lib/python3.10/site-packages/xgboost/lib/libxgboost.so(+0x2e0501) [0x7f86716e0501]\n  [bt] (5) /home/rainer/miniconda3/envs/jupyter_standard/lib/python3.10/site-packages/xgboost/lib/libxgboost.so(XGBoosterUpdateOneIter+0x70) [0x7f867153c5f0]\n  [bt] (6) /home/rainer/miniconda3/envs/jupyter_standard/lib/python3.10/lib-dynload/../../libffi.so.8(+0xa052) [0x7f86c6ed7052]\n  [bt] (7) /home/rainer/miniconda3/envs/jupyter_standard/lib/python3.10/lib-dynload/../../libffi.so.8(+0x88cd) [0x7f86c6ed58cd]\n  [bt] (8) /home/rainer/miniconda3/envs/jupyter_standard/lib/python3.10/lib-dynload/_ctypes.cpython-310-x86_64-linux-gnu.so(+0x91e7) [0x7f86c71621e7]\n\n"
     ]
    }
   ],
   "source": [
    "# Define hyperparameters\n",
    "params = {\n",
    "    \"objective\": \"multi:softmax\",\n",
    "    \"tree_method\": \"gpu_hist\",\n",
    "    \"num_class\": Y['label'].nunique()\n",
    "}\n",
    "n=100\n",
    "results = xgb.cv(\n",
    "    params=params,\n",
    "    dtrain=dtrain_reg,\n",
    "    num_boost_round=n,\n",
    "    nfold=5,\n",
    "    verbose_eval=10, # print eval every xth round\n",
    "    metrics=[\"mlogloss\", \"merror\"],\n",
    ")"
   ]
  },
  {
   "cell_type": "code",
   "execution_count": null,
   "outputs": [],
   "source": [
    "model = xgb.train(\n",
    "    params=params,\n",
    "    dtrain=dfull,\n",
    "    num_boost_round=100\n",
    ")\n",
    "final_test = xgb.DMatrix(mnist_test, enable_categorical=False)\n",
    "predictions = model.predict(final_test)"
   ],
   "metadata": {
    "collapsed": false,
    "ExecuteTime": {
     "start_time": "2023-04-27T15:45:37.755159Z",
     "end_time": "2023-04-27T15:46:16.605752Z"
    }
   }
  },
  {
   "cell_type": "code",
   "execution_count": null,
   "outputs": [],
   "source": [
    "predictionsDf = pd.DataFrame(predictions, columns=[\"Label\"])\n",
    "predictionsDf.insert(0, 'ImageId', range(1, len(predictionsDf) + 1))\n",
    "predictionsDf[\"Label\"] = predictionsDf[\"Label\"].astype(int)"
   ],
   "metadata": {
    "collapsed": false,
    "ExecuteTime": {
     "start_time": "2023-04-27T15:46:16.605593Z",
     "end_time": "2023-04-27T15:46:16.612925Z"
    }
   }
  },
  {
   "cell_type": "code",
   "execution_count": null,
   "outputs": [],
   "source": [
    "predictionsDf"
   ],
   "metadata": {
    "collapsed": false,
    "ExecuteTime": {
     "start_time": "2023-04-27T15:46:16.613546Z",
     "end_time": "2023-04-27T15:46:16.638623Z"
    }
   }
  },
  {
   "cell_type": "code",
   "execution_count": null,
   "outputs": [],
   "source": [
    "predictionsDf.to_csv('/home/rainer/Downloads/ML_datasets/mnist_test_prediction.csv', index=False)"
   ],
   "metadata": {
    "collapsed": false,
    "ExecuteTime": {
     "start_time": "2023-04-27T15:46:16.630856Z",
     "end_time": "2023-04-27T15:46:16.764476Z"
    }
   }
  },
  {
   "cell_type": "code",
   "execution_count": null,
   "outputs": [],
   "source": [],
   "metadata": {
    "collapsed": false,
    "ExecuteTime": {
     "start_time": "2023-04-27T15:46:16.710041Z",
     "end_time": "2023-04-27T15:46:16.765395Z"
    }
   }
  }
 ],
 "metadata": {
  "kernelspec": {
   "display_name": "Python 3 (ipykernel)",
   "language": "python",
   "name": "python3"
  },
  "language_info": {
   "codemirror_mode": {
    "name": "ipython",
    "version": 3
   },
   "file_extension": ".py",
   "mimetype": "text/x-python",
   "name": "python",
   "nbconvert_exporter": "python",
   "pygments_lexer": "ipython3",
   "version": "3.10.10"
  }
 },
 "nbformat": 4,
 "nbformat_minor": 1
}
