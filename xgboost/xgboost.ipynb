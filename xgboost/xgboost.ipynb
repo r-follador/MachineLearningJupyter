{
 "cells": [
  {
   "cell_type": "markdown",
   "metadata": {},
   "source": [
    "# [Kaggle Digit Recognizer Challenge](https://www.kaggle.com/competitions/digit-recognizer)\n",
    "From https://www.datacamp.com/tutorial/xgboost-in-python"
   ]
  },
  {
   "cell_type": "code",
   "execution_count": 1,
   "metadata": {
    "ExecuteTime": {
     "start_time": "2023-04-27T15:43:16.961509Z",
     "end_time": "2023-04-27T15:43:19.813801Z"
    }
   },
   "outputs": [],
   "source": [
    "import seaborn as sns\n",
    "import pandas as pd\n",
    "import numpy as np\n",
    "import matplotlib.pyplot as plt\n",
    "from sklearn.model_selection import train_test_split\n",
    "import xgboost as xgb\n",
    "\n",
    "mnist_train = pd.read_csv(\"/home/rainer/Downloads/ML_datasets/mnist_train.csv\")\n",
    "\n",
    "mnist_test = pd.read_csv(\"/home/rainer/Downloads/ML_datasets/mnist_test.csv\")\n",
    "\n",
    "X, Y = mnist_train.drop('label', axis=1), mnist_train[['label']]"
   ]
  },
  {
   "cell_type": "code",
   "execution_count": 2,
   "outputs": [],
   "source": [
    "X_train, X_test, Y_train, Y_test = train_test_split(X, Y, random_state=1)\n",
    "dtrain_reg = xgb.DMatrix(X_train, Y_train, enable_categorical=False)\n",
    "dtest_reg = xgb.DMatrix(X_test, Y_test, enable_categorical=False)\n",
    "dfull = xgb.DMatrix(X, Y, enable_categorical=False)"
   ],
   "metadata": {
    "collapsed": false,
    "ExecuteTime": {
     "start_time": "2023-04-27T15:43:19.817715Z",
     "end_time": "2023-04-27T15:43:20.783376Z"
    }
   }
  },
  {
   "cell_type": "code",
   "execution_count": 3,
   "metadata": {
    "ExecuteTime": {
     "start_time": "2023-04-27T15:43:20.800495Z",
     "end_time": "2023-04-27T15:45:37.751928Z"
    }
   },
   "outputs": [
    {
     "name": "stdout",
     "output_type": "stream",
     "text": [
      "[0]\ttrain-mlogloss:1.34988+0.00284\ttrain-merror:0.12560+0.00192\ttest-mlogloss:1.38872+0.00740\ttest-merror:0.15978+0.00319\n",
      "[10]\ttrain-mlogloss:0.18988+0.00238\ttrain-merror:0.02316+0.00076\ttest-mlogloss:0.29746+0.00994\ttest-merror:0.06384+0.00377\n",
      "[20]\ttrain-mlogloss:0.05867+0.00187\ttrain-merror:0.00571+0.00049\ttest-mlogloss:0.17309+0.00855\ttest-merror:0.04756+0.00286\n",
      "[30]\ttrain-mlogloss:0.02317+0.00080\ttrain-merror:0.00087+0.00016\ttest-mlogloss:0.13590+0.00937\ttest-merror:0.03987+0.00280\n",
      "[40]\ttrain-mlogloss:0.01095+0.00041\ttrain-merror:0.00003+0.00003\ttest-mlogloss:0.12098+0.00970\ttest-merror:0.03622+0.00302\n",
      "[50]\ttrain-mlogloss:0.00604+0.00016\ttrain-merror:0.00000+0.00000\ttest-mlogloss:0.11298+0.01050\ttest-merror:0.03438+0.00285\n",
      "[60]\ttrain-mlogloss:0.00380+0.00010\ttrain-merror:0.00000+0.00000\ttest-mlogloss:0.10842+0.01082\ttest-merror:0.03298+0.00296\n",
      "[70]\ttrain-mlogloss:0.00268+0.00007\ttrain-merror:0.00000+0.00000\ttest-mlogloss:0.10590+0.01113\ttest-merror:0.03241+0.00262\n",
      "[80]\ttrain-mlogloss:0.00205+0.00004\ttrain-merror:0.00000+0.00000\ttest-mlogloss:0.10451+0.01139\ttest-merror:0.03149+0.00318\n",
      "[90]\ttrain-mlogloss:0.00166+0.00003\ttrain-merror:0.00000+0.00000\ttest-mlogloss:0.10368+0.01155\ttest-merror:0.03111+0.00329\n",
      "[99]\ttrain-mlogloss:0.00142+0.00002\ttrain-merror:0.00000+0.00000\ttest-mlogloss:0.10294+0.01175\ttest-merror:0.03095+0.00333\n"
     ]
    }
   ],
   "source": [
    "# Define hyperparameters\n",
    "params = {\n",
    "    \"objective\": \"multi:softmax\",\n",
    "    \"tree_method\": \"gpu_hist\",\n",
    "    \"num_class\": Y['label'].nunique()\n",
    "}\n",
    "n=100\n",
    "results = xgb.cv(\n",
    "    params=params,\n",
    "    dtrain=dtrain_reg,\n",
    "    num_boost_round=n,\n",
    "    nfold=5,\n",
    "    verbose_eval=10, # print eval every xth round\n",
    "    metrics=[\"mlogloss\", \"merror\"],\n",
    ")"
   ]
  },
  {
   "cell_type": "code",
   "execution_count": 4,
   "outputs": [],
   "source": [
    "model = xgb.train(\n",
    "    params=params,\n",
    "    dtrain=dfull,\n",
    "    num_boost_round=100\n",
    ")\n",
    "final_test = xgb.DMatrix(mnist_test, enable_categorical=False)\n",
    "predictions = model.predict(final_test)"
   ],
   "metadata": {
    "collapsed": false,
    "ExecuteTime": {
     "start_time": "2023-04-27T15:45:37.755159Z",
     "end_time": "2023-04-27T15:46:16.605752Z"
    }
   }
  },
  {
   "cell_type": "code",
   "execution_count": 5,
   "outputs": [],
   "source": [
    "predictionsDf = pd.DataFrame(predictions, columns=[\"Label\"])\n",
    "predictionsDf.insert(0, 'ImageId', range(1, len(predictionsDf) + 1))\n",
    "predictionsDf[\"Label\"] = predictionsDf[\"Label\"].astype(int)"
   ],
   "metadata": {
    "collapsed": false,
    "ExecuteTime": {
     "start_time": "2023-04-27T15:46:16.605593Z",
     "end_time": "2023-04-27T15:46:16.612925Z"
    }
   }
  },
  {
   "cell_type": "code",
   "execution_count": 6,
   "outputs": [
    {
     "data": {
      "text/plain": "       ImageId  Label\n0            1      2\n1            2      0\n2            3      9\n3            4      9\n4            5      3\n...        ...    ...\n27995    27996      9\n27996    27997      7\n27997    27998      3\n27998    27999      9\n27999    28000      2\n\n[28000 rows x 2 columns]",
      "text/html": "<div>\n<style scoped>\n    .dataframe tbody tr th:only-of-type {\n        vertical-align: middle;\n    }\n\n    .dataframe tbody tr th {\n        vertical-align: top;\n    }\n\n    .dataframe thead th {\n        text-align: right;\n    }\n</style>\n<table border=\"1\" class=\"dataframe\">\n  <thead>\n    <tr style=\"text-align: right;\">\n      <th></th>\n      <th>ImageId</th>\n      <th>Label</th>\n    </tr>\n  </thead>\n  <tbody>\n    <tr>\n      <th>0</th>\n      <td>1</td>\n      <td>2</td>\n    </tr>\n    <tr>\n      <th>1</th>\n      <td>2</td>\n      <td>0</td>\n    </tr>\n    <tr>\n      <th>2</th>\n      <td>3</td>\n      <td>9</td>\n    </tr>\n    <tr>\n      <th>3</th>\n      <td>4</td>\n      <td>9</td>\n    </tr>\n    <tr>\n      <th>4</th>\n      <td>5</td>\n      <td>3</td>\n    </tr>\n    <tr>\n      <th>...</th>\n      <td>...</td>\n      <td>...</td>\n    </tr>\n    <tr>\n      <th>27995</th>\n      <td>27996</td>\n      <td>9</td>\n    </tr>\n    <tr>\n      <th>27996</th>\n      <td>27997</td>\n      <td>7</td>\n    </tr>\n    <tr>\n      <th>27997</th>\n      <td>27998</td>\n      <td>3</td>\n    </tr>\n    <tr>\n      <th>27998</th>\n      <td>27999</td>\n      <td>9</td>\n    </tr>\n    <tr>\n      <th>27999</th>\n      <td>28000</td>\n      <td>2</td>\n    </tr>\n  </tbody>\n</table>\n<p>28000 rows × 2 columns</p>\n</div>"
     },
     "execution_count": 6,
     "metadata": {},
     "output_type": "execute_result"
    }
   ],
   "source": [
    "predictionsDf"
   ],
   "metadata": {
    "collapsed": false,
    "ExecuteTime": {
     "start_time": "2023-04-27T15:46:16.613546Z",
     "end_time": "2023-04-27T15:46:16.638623Z"
    }
   }
  },
  {
   "cell_type": "code",
   "execution_count": 7,
   "outputs": [],
   "source": [
    "predictionsDf.to_csv('/home/rainer/Downloads/ML_datasets/mnist_test_prediction.csv', index=False)"
   ],
   "metadata": {
    "collapsed": false,
    "ExecuteTime": {
     "start_time": "2023-04-27T15:46:16.630856Z",
     "end_time": "2023-04-27T15:46:16.764476Z"
    }
   }
  },
  {
   "cell_type": "code",
   "execution_count": 7,
   "outputs": [],
   "source": [],
   "metadata": {
    "collapsed": false,
    "ExecuteTime": {
     "start_time": "2023-04-27T15:46:16.710041Z",
     "end_time": "2023-04-27T15:46:16.765395Z"
    }
   }
  }
 ],
 "metadata": {
  "kernelspec": {
   "display_name": "Python 3 (ipykernel)",
   "language": "python",
   "name": "python3"
  },
  "language_info": {
   "codemirror_mode": {
    "name": "ipython",
    "version": 3
   },
   "file_extension": ".py",
   "mimetype": "text/x-python",
   "name": "python",
   "nbconvert_exporter": "python",
   "pygments_lexer": "ipython3",
   "version": "3.10.10"
  }
 },
 "nbformat": 4,
 "nbformat_minor": 1
}
