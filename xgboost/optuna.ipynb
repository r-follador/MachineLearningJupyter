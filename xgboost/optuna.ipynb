{
 "cells": [
  {
   "cell_type": "markdown",
   "source": [
    "https://practicaldatascience.co.uk/machine-learning/how-to-use-optuna-for-xgboost-hyperparameter-tuning"
   ],
   "metadata": {
    "collapsed": false
   }
  },
  {
   "cell_type": "code",
   "execution_count": 5,
   "metadata": {
    "collapsed": true,
    "ExecuteTime": {
     "start_time": "2023-04-27T19:24:26.388497Z",
     "end_time": "2023-04-27T19:24:29.165749Z"
    }
   },
   "outputs": [],
   "source": [
    "import seaborn as sns\n",
    "import pandas as pd\n",
    "import numpy as np\n",
    "import matplotlib.pyplot as plt\n",
    "from sklearn.model_selection import train_test_split\n",
    "import xgboost as xgb\n",
    "import optuna\n",
    "from sklearn.metrics import accuracy_score\n",
    "\n",
    "mnist_train = pd.read_csv(\"/home/rainer/Downloads/ML_datasets/mnist_train.csv\")\n",
    "mnist_test = pd.read_csv(\"/home/rainer/Downloads/ML_datasets/mnist_test.csv\")\n",
    "X, Y = mnist_train.drop('label', axis=1), mnist_train[['label']]"
   ]
  },
  {
   "cell_type": "code",
   "execution_count": 6,
   "outputs": [],
   "source": [
    "def objective(trial):\n",
    "    train_x, test_x, train_y, test_y = train_test_split(X, Y, test_size=0.15,random_state=42)\n",
    "    param = {\n",
    "        'tree_method':'gpu_hist',  # this parameter means using the GPU when training our model to speedup the training process\n",
    "        'lambda': trial.suggest_float('lambda', 1e-1, 10.0),\n",
    "        'alpha': trial.suggest_float('alpha', 1e-3, 1e-2),\n",
    "        'colsample_bytree': trial.suggest_categorical('colsample_bytree', [0.6,0.7,0.8]),\n",
    "        'subsample': trial.suggest_categorical('subsample', [0.9,1.0]),\n",
    "        'learning_rate': trial.suggest_float('learning_rate', 0.3, 0.5), #equal to eta\n",
    "        'n_estimators': 500, #equal to num_boost_round\n",
    "        'max_depth': trial.suggest_int('max_depth', 5, 7),\n",
    "        'min_child_weight': trial.suggest_int('min_child_weight', 1, 5),\n",
    "        'early_stopping_rounds': 100\n",
    "    }\n",
    "    model = xgb.XGBClassifier(**param)\n",
    "    model.fit(train_x,train_y,eval_set=[(test_x,test_y)],verbose=False)\n",
    "    preds = model.predict(test_x)\n",
    "    accuracy = accuracy_score(test_y, preds)\n",
    "    return accuracy"
   ],
   "metadata": {
    "collapsed": false,
    "ExecuteTime": {
     "start_time": "2023-04-27T19:24:29.169842Z",
     "end_time": "2023-04-27T19:24:29.215479Z"
    }
   }
  },
  {
   "cell_type": "code",
   "execution_count": 7,
   "outputs": [
    {
     "name": "stderr",
     "output_type": "stream",
     "text": [
      "\u001B[32m[I 2023-04-27 19:24:29,183]\u001B[0m A new study created in memory with name: no-name-f499dd24-1eb3-445b-9797-0561c0572c36\u001B[0m\n",
      "\u001B[32m[I 2023-04-27 19:25:36,054]\u001B[0m Trial 0 finished with value: 0.9742857142857143 and parameters: {'lambda': 5.369581619684934, 'alpha': 0.002763047467677191, 'colsample_bytree': 0.6, 'subsample': 0.9, 'learning_rate': 0.3429505836613483, 'max_depth': 6, 'min_child_weight': 5}. Best is trial 0 with value: 0.9742857142857143.\u001B[0m\n",
      "\u001B[32m[I 2023-04-27 19:26:47,860]\u001B[0m Trial 1 finished with value: 0.9761904761904762 and parameters: {'lambda': 2.564789696047095, 'alpha': 0.005401286848938813, 'colsample_bytree': 0.6, 'subsample': 1.0, 'learning_rate': 0.36622679180352835, 'max_depth': 6, 'min_child_weight': 1}. Best is trial 1 with value: 0.9761904761904762.\u001B[0m\n",
      "\u001B[32m[I 2023-04-27 19:27:46,405]\u001B[0m Trial 2 finished with value: 0.9750793650793651 and parameters: {'lambda': 7.568284344511005, 'alpha': 0.0046666537940922015, 'colsample_bytree': 0.6, 'subsample': 1.0, 'learning_rate': 0.3475630002965343, 'max_depth': 5, 'min_child_weight': 5}. Best is trial 1 with value: 0.9761904761904762.\u001B[0m\n",
      "\u001B[32m[I 2023-04-27 19:29:34,778]\u001B[0m Trial 3 finished with value: 0.9757142857142858 and parameters: {'lambda': 5.1328236967279475, 'alpha': 0.0075376068025270184, 'colsample_bytree': 0.6, 'subsample': 1.0, 'learning_rate': 0.4233446024421631, 'max_depth': 7, 'min_child_weight': 1}. Best is trial 1 with value: 0.9761904761904762.\u001B[0m\n",
      "\u001B[32m[I 2023-04-27 19:31:01,736]\u001B[0m Trial 4 finished with value: 0.9744444444444444 and parameters: {'lambda': 8.404364593493979, 'alpha': 0.009704206798760686, 'colsample_bytree': 0.7, 'subsample': 1.0, 'learning_rate': 0.33388364505504525, 'max_depth': 6, 'min_child_weight': 4}. Best is trial 1 with value: 0.9761904761904762.\u001B[0m\n",
      "\u001B[32m[I 2023-04-27 19:31:44,009]\u001B[0m Trial 5 finished with value: 0.9741269841269842 and parameters: {'lambda': 2.5176184995863076, 'alpha': 0.007642270216726505, 'colsample_bytree': 0.7, 'subsample': 1.0, 'learning_rate': 0.442537178993912, 'max_depth': 5, 'min_child_weight': 4}. Best is trial 1 with value: 0.9761904761904762.\u001B[0m\n",
      "\u001B[32m[I 2023-04-27 19:32:42,629]\u001B[0m Trial 6 finished with value: 0.9742857142857143 and parameters: {'lambda': 3.3679151958834637, 'alpha': 0.004888673845295019, 'colsample_bytree': 0.7, 'subsample': 1.0, 'learning_rate': 0.36849248034508536, 'max_depth': 7, 'min_child_weight': 4}. Best is trial 1 with value: 0.9761904761904762.\u001B[0m\n",
      "\u001B[32m[I 2023-04-27 19:34:07,843]\u001B[0m Trial 7 finished with value: 0.9753968253968254 and parameters: {'lambda': 5.268043761551864, 'alpha': 0.007606714682321952, 'colsample_bytree': 0.7, 'subsample': 1.0, 'learning_rate': 0.4022211617496368, 'max_depth': 6, 'min_child_weight': 1}. Best is trial 1 with value: 0.9761904761904762.\u001B[0m\n",
      "\u001B[32m[I 2023-04-27 19:35:20,267]\u001B[0m Trial 8 finished with value: 0.9744444444444444 and parameters: {'lambda': 4.317665591372968, 'alpha': 0.008805275116602855, 'colsample_bytree': 0.6, 'subsample': 1.0, 'learning_rate': 0.3222484132661551, 'max_depth': 6, 'min_child_weight': 2}. Best is trial 1 with value: 0.9761904761904762.\u001B[0m\n",
      "\u001B[32m[I 2023-04-27 19:36:22,307]\u001B[0m Trial 9 finished with value: 0.9752380952380952 and parameters: {'lambda': 3.3643922136026494, 'alpha': 0.00979866577603003, 'colsample_bytree': 0.6, 'subsample': 0.9, 'learning_rate': 0.3603292930919588, 'max_depth': 6, 'min_child_weight': 2}. Best is trial 1 with value: 0.9761904761904762.\u001B[0m\n",
      "\u001B[32m[I 2023-04-27 19:36:59,451]\u001B[0m Trial 10 finished with value: 0.9728571428571429 and parameters: {'lambda': 1.0592907292441807, 'alpha': 0.0010686750287007604, 'colsample_bytree': 0.8, 'subsample': 0.9, 'learning_rate': 0.4891435353261943, 'max_depth': 5, 'min_child_weight': 2}. Best is trial 1 with value: 0.9761904761904762.\u001B[0m\n",
      "\u001B[32m[I 2023-04-27 19:37:49,840]\u001B[0m Trial 11 finished with value: 0.9736507936507937 and parameters: {'lambda': 0.7024857755083387, 'alpha': 0.0068216509222550435, 'colsample_bytree': 0.6, 'subsample': 1.0, 'learning_rate': 0.40410057899934226, 'max_depth': 7, 'min_child_weight': 1}. Best is trial 1 with value: 0.9761904761904762.\u001B[0m\n",
      "\u001B[32m[I 2023-04-27 19:39:50,379]\u001B[0m Trial 12 finished with value: 0.974920634920635 and parameters: {'lambda': 6.498783102451735, 'alpha': 0.006180653229944273, 'colsample_bytree': 0.8, 'subsample': 1.0, 'learning_rate': 0.30266666399927766, 'max_depth': 7, 'min_child_weight': 1}. Best is trial 1 with value: 0.9761904761904762.\u001B[0m\n",
      "\u001B[32m[I 2023-04-27 19:41:21,635]\u001B[0m Trial 13 finished with value: 0.9750793650793651 and parameters: {'lambda': 9.590695166253212, 'alpha': 0.005685153099887105, 'colsample_bytree': 0.6, 'subsample': 1.0, 'learning_rate': 0.38048679978254385, 'max_depth': 7, 'min_child_weight': 3}. Best is trial 1 with value: 0.9761904761904762.\u001B[0m\n",
      "\u001B[32m[I 2023-04-27 19:42:31,336]\u001B[0m Trial 14 finished with value: 0.9755555555555555 and parameters: {'lambda': 2.038728217402189, 'alpha': 0.004210206466717246, 'colsample_bytree': 0.6, 'subsample': 0.9, 'learning_rate': 0.42536981094834636, 'max_depth': 7, 'min_child_weight': 1}. Best is trial 1 with value: 0.9761904761904762.\u001B[0m\n",
      "\u001B[32m[I 2023-04-27 19:43:44,975]\u001B[0m Trial 15 finished with value: 0.9757142857142858 and parameters: {'lambda': 4.085096306510041, 'alpha': 0.00709796531655862, 'colsample_bytree': 0.6, 'subsample': 1.0, 'learning_rate': 0.3813602073889885, 'max_depth': 6, 'min_child_weight': 2}. Best is trial 1 with value: 0.9761904761904762.\u001B[0m\n",
      "\u001B[32m[I 2023-04-27 19:44:46,627]\u001B[0m Trial 16 finished with value: 0.9731746031746031 and parameters: {'lambda': 0.25287951810929155, 'alpha': 0.008519641604935697, 'colsample_bytree': 0.8, 'subsample': 1.0, 'learning_rate': 0.4292186638768462, 'max_depth': 7, 'min_child_weight': 3}. Best is trial 1 with value: 0.9761904761904762.\u001B[0m\n",
      "\u001B[32m[I 2023-04-27 19:46:15,468]\u001B[0m Trial 17 finished with value: 0.9763492063492063 and parameters: {'lambda': 6.027005407428431, 'alpha': 0.006207364543117514, 'colsample_bytree': 0.6, 'subsample': 1.0, 'learning_rate': 0.46707881629120707, 'max_depth': 5, 'min_child_weight': 1}. Best is trial 17 with value: 0.9763492063492063.\u001B[0m\n",
      "\u001B[32m[I 2023-04-27 19:47:12,899]\u001B[0m Trial 18 finished with value: 0.9715873015873016 and parameters: {'lambda': 6.3235435889671106, 'alpha': 0.005740842742262163, 'colsample_bytree': 0.6, 'subsample': 0.9, 'learning_rate': 0.49924403857779265, 'max_depth': 5, 'min_child_weight': 3}. Best is trial 17 with value: 0.9763492063492063.\u001B[0m\n",
      "\u001B[32m[I 2023-04-27 19:48:02,187]\u001B[0m Trial 19 finished with value: 0.9763492063492063 and parameters: {'lambda': 1.8938723584350745, 'alpha': 0.003824662124999459, 'colsample_bytree': 0.8, 'subsample': 1.0, 'learning_rate': 0.455572398490639, 'max_depth': 5, 'min_child_weight': 2}. Best is trial 17 with value: 0.9763492063492063.\u001B[0m\n",
      "\u001B[32m[I 2023-04-27 19:48:47,434]\u001B[0m Trial 20 finished with value: 0.9752380952380952 and parameters: {'lambda': 1.35710550181894, 'alpha': 0.0036925732651356784, 'colsample_bytree': 0.8, 'subsample': 1.0, 'learning_rate': 0.4685055303037303, 'max_depth': 5, 'min_child_weight': 2}. Best is trial 17 with value: 0.9763492063492063.\u001B[0m\n",
      "\u001B[32m[I 2023-04-27 19:49:42,938]\u001B[0m Trial 21 finished with value: 0.9746031746031746 and parameters: {'lambda': 2.1793246699909545, 'alpha': 0.005335433796000472, 'colsample_bytree': 0.8, 'subsample': 1.0, 'learning_rate': 0.46222228930171333, 'max_depth': 5, 'min_child_weight': 1}. Best is trial 17 with value: 0.9763492063492063.\u001B[0m\n",
      "\u001B[32m[I 2023-04-27 19:50:20,779]\u001B[0m Trial 22 finished with value: 0.9734920634920635 and parameters: {'lambda': 0.13506198912599232, 'alpha': 0.00622774013469859, 'colsample_bytree': 0.8, 'subsample': 1.0, 'learning_rate': 0.4594078987031189, 'max_depth': 5, 'min_child_weight': 2}. Best is trial 17 with value: 0.9763492063492063.\u001B[0m\n",
      "\u001B[32m[I 2023-04-27 19:51:20,186]\u001B[0m Trial 23 finished with value: 0.9761904761904762 and parameters: {'lambda': 2.8416870984330926, 'alpha': 0.003655146008007109, 'colsample_bytree': 0.8, 'subsample': 1.0, 'learning_rate': 0.47821020247988405, 'max_depth': 5, 'min_child_weight': 1}. Best is trial 17 with value: 0.9763492063492063.\u001B[0m\n",
      "\u001B[32m[I 2023-04-27 19:52:04,493]\u001B[0m Trial 24 finished with value: 0.9755555555555555 and parameters: {'lambda': 1.5389960591028133, 'alpha': 0.004920400067347191, 'colsample_bytree': 0.6, 'subsample': 1.0, 'learning_rate': 0.4489676036919237, 'max_depth': 6, 'min_child_weight': 2}. Best is trial 17 with value: 0.9763492063492063.\u001B[0m\n",
      "\u001B[32m[I 2023-04-27 19:52:59,092]\u001B[0m Trial 25 finished with value: 0.9755555555555555 and parameters: {'lambda': 1.7833919479173115, 'alpha': 0.006305236723103192, 'colsample_bytree': 0.8, 'subsample': 1.0, 'learning_rate': 0.4802298237576476, 'max_depth': 5, 'min_child_weight': 1}. Best is trial 17 with value: 0.9763492063492063.\u001B[0m\n",
      "\u001B[32m[I 2023-04-27 19:53:46,719]\u001B[0m Trial 26 finished with value: 0.9753968253968254 and parameters: {'lambda': 2.9612502166284957, 'alpha': 0.005443399154047816, 'colsample_bytree': 0.6, 'subsample': 1.0, 'learning_rate': 0.4436710385316447, 'max_depth': 5, 'min_child_weight': 3}. Best is trial 17 with value: 0.9763492063492063.\u001B[0m\n",
      "\u001B[32m[I 2023-04-27 19:55:01,803]\u001B[0m Trial 27 finished with value: 0.9736507936507937 and parameters: {'lambda': 3.6160122282575298, 'alpha': 0.004287253983752689, 'colsample_bytree': 0.7, 'subsample': 0.9, 'learning_rate': 0.4994932022538907, 'max_depth': 6, 'min_child_weight': 2}. Best is trial 17 with value: 0.9763492063492063.\u001B[0m\n",
      "\u001B[32m[I 2023-04-27 19:56:22,200]\u001B[0m Trial 28 finished with value: 0.9757142857142858 and parameters: {'lambda': 4.526535482270947, 'alpha': 0.0031279200634094185, 'colsample_bytree': 0.6, 'subsample': 1.0, 'learning_rate': 0.4114711940265758, 'max_depth': 5, 'min_child_weight': 1}. Best is trial 17 with value: 0.9763492063492063.\u001B[0m\n",
      "\u001B[32m[I 2023-04-27 19:57:31,167]\u001B[0m Trial 29 finished with value: 0.9755555555555555 and parameters: {'lambda': 2.283659069460361, 'alpha': 0.002277395216222961, 'colsample_bytree': 0.8, 'subsample': 0.9, 'learning_rate': 0.3891713087814368, 'max_depth': 6, 'min_child_weight': 1}. Best is trial 17 with value: 0.9763492063492063.\u001B[0m\n",
      "\u001B[32m[I 2023-04-27 19:58:26,022]\u001B[0m Trial 30 finished with value: 0.9758730158730159 and parameters: {'lambda': 5.726910560623162, 'alpha': 0.00506073352082141, 'colsample_bytree': 0.6, 'subsample': 1.0, 'learning_rate': 0.45614360544697374, 'max_depth': 5, 'min_child_weight': 2}. Best is trial 17 with value: 0.9763492063492063.\u001B[0m\n",
      "\u001B[32m[I 2023-04-27 19:59:26,890]\u001B[0m Trial 31 finished with value: 0.9766666666666667 and parameters: {'lambda': 3.0145087919009894, 'alpha': 0.003782066781214171, 'colsample_bytree': 0.8, 'subsample': 1.0, 'learning_rate': 0.47483436835635806, 'max_depth': 5, 'min_child_weight': 1}. Best is trial 31 with value: 0.9766666666666667.\u001B[0m\n",
      "\u001B[32m[I 2023-04-27 20:00:30,328]\u001B[0m Trial 32 finished with value: 0.9750793650793651 and parameters: {'lambda': 2.7390493015922814, 'alpha': 0.0045192380629224555, 'colsample_bytree': 0.8, 'subsample': 1.0, 'learning_rate': 0.4792251966614966, 'max_depth': 5, 'min_child_weight': 1}. Best is trial 31 with value: 0.9766666666666667.\u001B[0m\n",
      "\u001B[32m[I 2023-04-27 20:01:42,177]\u001B[0m Trial 33 finished with value: 0.9744444444444444 and parameters: {'lambda': 4.759935743219747, 'alpha': 0.004003224078440612, 'colsample_bytree': 0.8, 'subsample': 1.0, 'learning_rate': 0.4714775485968347, 'max_depth': 5, 'min_child_weight': 1}. Best is trial 31 with value: 0.9766666666666667.\u001B[0m\n",
      "\u001B[32m[I 2023-04-27 20:02:38,965]\u001B[0m Trial 34 finished with value: 0.9726984126984127 and parameters: {'lambda': 4.039429415168328, 'alpha': 0.004697117002337583, 'colsample_bytree': 0.8, 'subsample': 1.0, 'learning_rate': 0.43786624570491633, 'max_depth': 6, 'min_child_weight': 5}. Best is trial 31 with value: 0.9766666666666667.\u001B[0m\n",
      "\u001B[32m[I 2023-04-27 20:03:28,808]\u001B[0m Trial 35 finished with value: 0.9757142857142858 and parameters: {'lambda': 1.8592898086369185, 'alpha': 0.003019261793240999, 'colsample_bytree': 0.6, 'subsample': 1.0, 'learning_rate': 0.45057247380782306, 'max_depth': 5, 'min_child_weight': 1}. Best is trial 31 with value: 0.9766666666666667.\u001B[0m\n",
      "\u001B[32m[I 2023-04-27 20:04:34,288]\u001B[0m Trial 36 finished with value: 0.9752380952380952 and parameters: {'lambda': 3.729922625438661, 'alpha': 0.005212026624658174, 'colsample_bytree': 0.7, 'subsample': 1.0, 'learning_rate': 0.4144627850807511, 'max_depth': 5, 'min_child_weight': 2}. Best is trial 31 with value: 0.9766666666666667.\u001B[0m\n",
      "\u001B[32m[I 2023-04-27 20:05:53,062]\u001B[0m Trial 37 finished with value: 0.976984126984127 and parameters: {'lambda': 3.014532460494636, 'alpha': 0.004536707792766239, 'colsample_bytree': 0.8, 'subsample': 1.0, 'learning_rate': 0.4348214646315101, 'max_depth': 5, 'min_child_weight': 1}. Best is trial 37 with value: 0.976984126984127.\u001B[0m\n",
      "\u001B[32m[I 2023-04-27 20:07:02,660]\u001B[0m Trial 38 finished with value: 0.9766666666666667 and parameters: {'lambda': 3.2127487377616273, 'alpha': 0.0036200599420643863, 'colsample_bytree': 0.8, 'subsample': 1.0, 'learning_rate': 0.43550155266401086, 'max_depth': 5, 'min_child_weight': 1}. Best is trial 37 with value: 0.976984126984127.\u001B[0m\n",
      "\u001B[32m[I 2023-04-27 20:08:24,966]\u001B[0m Trial 39 finished with value: 0.9758730158730159 and parameters: {'lambda': 4.752977415254614, 'alpha': 0.004509709208298305, 'colsample_bytree': 0.8, 'subsample': 1.0, 'learning_rate': 0.437779463484607, 'max_depth': 5, 'min_child_weight': 1}. Best is trial 37 with value: 0.976984126984127.\u001B[0m\n",
      "\u001B[32m[I 2023-04-27 20:09:34,573]\u001B[0m Trial 40 finished with value: 0.976031746031746 and parameters: {'lambda': 3.0315692631019835, 'alpha': 0.0032495966040219913, 'colsample_bytree': 0.8, 'subsample': 1.0, 'learning_rate': 0.4355751206430118, 'max_depth': 5, 'min_child_weight': 1}. Best is trial 37 with value: 0.976984126984127.\u001B[0m\n",
      "\u001B[32m[I 2023-04-27 20:10:46,294]\u001B[0m Trial 41 finished with value: 0.9761904761904762 and parameters: {'lambda': 2.2634823372911814, 'alpha': 0.0037854237107104154, 'colsample_bytree': 0.8, 'subsample': 1.0, 'learning_rate': 0.45320870311704403, 'max_depth': 5, 'min_child_weight': 1}. Best is trial 37 with value: 0.976984126984127.\u001B[0m\n",
      "\u001B[32m[I 2023-04-27 20:11:47,849]\u001B[0m Trial 42 finished with value: 0.9742857142857143 and parameters: {'lambda': 3.409193061505646, 'alpha': 0.0025707377880522047, 'colsample_bytree': 0.8, 'subsample': 1.0, 'learning_rate': 0.46845041416829974, 'max_depth': 5, 'min_child_weight': 2}. Best is trial 37 with value: 0.976984126984127.\u001B[0m\n",
      "\u001B[32m[I 2023-04-27 20:13:00,735]\u001B[0m Trial 43 finished with value: 0.9747619047619047 and parameters: {'lambda': 2.6340509203795492, 'alpha': 0.0034365906594558474, 'colsample_bytree': 0.8, 'subsample': 1.0, 'learning_rate': 0.4617342339491708, 'max_depth': 5, 'min_child_weight': 1}. Best is trial 37 with value: 0.976984126984127.\u001B[0m\n",
      "\u001B[32m[I 2023-04-27 20:14:18,646]\u001B[0m Trial 44 finished with value: 0.9752380952380952 and parameters: {'lambda': 3.911718844890288, 'alpha': 0.004057795358089835, 'colsample_bytree': 0.8, 'subsample': 1.0, 'learning_rate': 0.44950418688375804, 'max_depth': 5, 'min_child_weight': 1}. Best is trial 37 with value: 0.976984126984127.\u001B[0m\n",
      "\u001B[32m[I 2023-04-27 20:15:11,657]\u001B[0m Trial 45 finished with value: 0.9742857142857143 and parameters: {'lambda': 1.2250058681335463, 'alpha': 0.00468637507253773, 'colsample_bytree': 0.8, 'subsample': 1.0, 'learning_rate': 0.4297145169176645, 'max_depth': 5, 'min_child_weight': 2}. Best is trial 37 with value: 0.976984126984127.\u001B[0m\n",
      "\u001B[32m[I 2023-04-27 20:16:14,156]\u001B[0m Trial 46 finished with value: 0.974920634920635 and parameters: {'lambda': 3.3609582763700767, 'alpha': 0.004326841227731912, 'colsample_bytree': 0.7, 'subsample': 0.9, 'learning_rate': 0.4198035474698596, 'max_depth': 5, 'min_child_weight': 2}. Best is trial 37 with value: 0.976984126984127.\u001B[0m\n",
      "\u001B[32m[I 2023-04-27 20:17:10,027]\u001B[0m Trial 47 finished with value: 0.9728571428571429 and parameters: {'lambda': 4.241614590488616, 'alpha': 0.0038963777082462554, 'colsample_bytree': 0.8, 'subsample': 1.0, 'learning_rate': 0.488796063060698, 'max_depth': 5, 'min_child_weight': 4}. Best is trial 37 with value: 0.976984126984127.\u001B[0m\n",
      "\u001B[32m[I 2023-04-27 20:18:16,416]\u001B[0m Trial 48 finished with value: 0.9757142857142858 and parameters: {'lambda': 5.21868712603067, 'alpha': 0.0026003972540810582, 'colsample_bytree': 0.8, 'subsample': 1.0, 'learning_rate': 0.44517505779735916, 'max_depth': 5, 'min_child_weight': 1}. Best is trial 37 with value: 0.976984126984127.\u001B[0m\n",
      "\u001B[32m[I 2023-04-27 20:19:29,646]\u001B[0m Trial 49 finished with value: 0.9763492063492063 and parameters: {'lambda': 2.5515182735796236, 'alpha': 0.005001266803289868, 'colsample_bytree': 0.8, 'subsample': 1.0, 'learning_rate': 0.45970475936307165, 'max_depth': 5, 'min_child_weight': 1}. Best is trial 37 with value: 0.976984126984127.\u001B[0m\n",
      "\u001B[32m[I 2023-04-27 20:20:25,652]\u001B[0m Trial 50 finished with value: 0.9733333333333334 and parameters: {'lambda': 1.6612276860901614, 'alpha': 0.003386255742528658, 'colsample_bytree': 0.7, 'subsample': 0.9, 'learning_rate': 0.4294387553630964, 'max_depth': 6, 'min_child_weight': 4}. Best is trial 37 with value: 0.976984126984127.\u001B[0m\n",
      "\u001B[32m[I 2023-04-27 20:21:24,712]\u001B[0m Trial 51 finished with value: 0.9750793650793651 and parameters: {'lambda': 2.4664193177295437, 'alpha': 0.004937311695327801, 'colsample_bytree': 0.8, 'subsample': 1.0, 'learning_rate': 0.45782507821325935, 'max_depth': 5, 'min_child_weight': 1}. Best is trial 37 with value: 0.976984126984127.\u001B[0m\n",
      "\u001B[32m[I 2023-04-27 20:22:30,762]\u001B[0m Trial 52 finished with value: 0.9750793650793651 and parameters: {'lambda': 3.1746563723156673, 'alpha': 0.005655781865324906, 'colsample_bytree': 0.8, 'subsample': 1.0, 'learning_rate': 0.4664892658121954, 'max_depth': 5, 'min_child_weight': 1}. Best is trial 37 with value: 0.976984126984127.\u001B[0m\n",
      "\u001B[32m[I 2023-04-27 20:23:27,953]\u001B[0m Trial 53 finished with value: 0.9750793650793651 and parameters: {'lambda': 2.404316198377373, 'alpha': 0.004241630425669141, 'colsample_bytree': 0.8, 'subsample': 1.0, 'learning_rate': 0.4424058389936464, 'max_depth': 5, 'min_child_weight': 1}. Best is trial 37 with value: 0.976984126984127.\u001B[0m\n",
      "\u001B[32m[I 2023-04-27 20:24:34,068]\u001B[0m Trial 54 finished with value: 0.9763492063492063 and parameters: {'lambda': 0.8826996208063536, 'alpha': 0.004720179592577102, 'colsample_bytree': 0.8, 'subsample': 1.0, 'learning_rate': 0.45499857771563473, 'max_depth': 5, 'min_child_weight': 1}. Best is trial 37 with value: 0.976984126984127.\u001B[0m\n",
      "\u001B[32m[I 2023-04-27 20:25:26,187]\u001B[0m Trial 55 finished with value: 0.9757142857142858 and parameters: {'lambda': 1.9529819344538912, 'alpha': 0.003655820368097687, 'colsample_bytree': 0.8, 'subsample': 1.0, 'learning_rate': 0.47319780302715275, 'max_depth': 5, 'min_child_weight': 2}. Best is trial 37 with value: 0.976984126984127.\u001B[0m\n",
      "\u001B[32m[I 2023-04-27 20:26:28,190]\u001B[0m Trial 56 finished with value: 0.9755555555555555 and parameters: {'lambda': 2.8166582566530245, 'alpha': 0.005181463224187915, 'colsample_bytree': 0.8, 'subsample': 1.0, 'learning_rate': 0.46294852611934767, 'max_depth': 5, 'min_child_weight': 1}. Best is trial 37 with value: 0.976984126984127.\u001B[0m\n",
      "\u001B[32m[I 2023-04-27 20:27:31,822]\u001B[0m Trial 57 finished with value: 0.9753968253968254 and parameters: {'lambda': 3.7545031695918754, 'alpha': 0.005597445133207172, 'colsample_bytree': 0.8, 'subsample': 1.0, 'learning_rate': 0.48864592961519754, 'max_depth': 5, 'min_child_weight': 1}. Best is trial 37 with value: 0.976984126984127.\u001B[0m\n",
      "\u001B[32m[I 2023-04-27 20:28:24,324]\u001B[0m Trial 58 finished with value: 0.9757142857142858 and parameters: {'lambda': 1.4769568774798787, 'alpha': 0.0044157523678500085, 'colsample_bytree': 0.6, 'subsample': 1.0, 'learning_rate': 0.473830063789971, 'max_depth': 6, 'min_child_weight': 3}. Best is trial 37 with value: 0.976984126984127.\u001B[0m\n",
      "\u001B[32m[I 2023-04-27 20:29:20,777]\u001B[0m Trial 59 finished with value: 0.9744444444444444 and parameters: {'lambda': 3.141690447844545, 'alpha': 0.004074424667281801, 'colsample_bytree': 0.8, 'subsample': 1.0, 'learning_rate': 0.46495897950749515, 'max_depth': 5, 'min_child_weight': 2}. Best is trial 37 with value: 0.976984126984127.\u001B[0m\n",
      "\u001B[32m[I 2023-04-27 20:30:23,914]\u001B[0m Trial 60 finished with value: 0.9761904761904762 and parameters: {'lambda': 2.0033210092593032, 'alpha': 0.005949111367991661, 'colsample_bytree': 0.8, 'subsample': 0.9, 'learning_rate': 0.44753562292698873, 'max_depth': 5, 'min_child_weight': 1}. Best is trial 37 with value: 0.976984126984127.\u001B[0m\n",
      "\u001B[32m[I 2023-04-27 20:31:11,144]\u001B[0m Trial 61 finished with value: 0.9741269841269842 and parameters: {'lambda': 0.9377623310729124, 'alpha': 0.004813514965640862, 'colsample_bytree': 0.8, 'subsample': 1.0, 'learning_rate': 0.45503706257519794, 'max_depth': 5, 'min_child_weight': 1}. Best is trial 37 with value: 0.976984126984127.\u001B[0m\n",
      "\u001B[32m[I 2023-04-27 20:32:00,681]\u001B[0m Trial 62 finished with value: 0.9755555555555555 and parameters: {'lambda': 0.9818565313536838, 'alpha': 0.005283991287802115, 'colsample_bytree': 0.8, 'subsample': 1.0, 'learning_rate': 0.4523778094166976, 'max_depth': 5, 'min_child_weight': 1}. Best is trial 37 with value: 0.976984126984127.\u001B[0m\n",
      "\u001B[32m[I 2023-04-27 20:32:48,668]\u001B[0m Trial 63 finished with value: 0.9753968253968254 and parameters: {'lambda': 0.6849625031873708, 'alpha': 0.004691160486054654, 'colsample_bytree': 0.8, 'subsample': 1.0, 'learning_rate': 0.457607457701355, 'max_depth': 5, 'min_child_weight': 1}. Best is trial 37 with value: 0.976984126984127.\u001B[0m\n",
      "\u001B[32m[I 2023-04-27 20:33:40,871]\u001B[0m Trial 64 finished with value: 0.9739682539682539 and parameters: {'lambda': 1.5175454217365854, 'alpha': 0.006549957292646647, 'colsample_bytree': 0.8, 'subsample': 1.0, 'learning_rate': 0.48217332267873636, 'max_depth': 5, 'min_child_weight': 1}. Best is trial 37 with value: 0.976984126984127.\u001B[0m\n",
      "\u001B[32m[I 2023-04-27 20:34:37,995]\u001B[0m Trial 65 finished with value: 0.9753968253968254 and parameters: {'lambda': 2.5936904083873626, 'alpha': 0.005951106529002706, 'colsample_bytree': 0.6, 'subsample': 1.0, 'learning_rate': 0.43999415307786116, 'max_depth': 5, 'min_child_weight': 1}. Best is trial 37 with value: 0.976984126984127.\u001B[0m\n",
      "\u001B[32m[I 2023-04-27 20:35:28,781]\u001B[0m Trial 66 finished with value: 0.9741269841269842 and parameters: {'lambda': 2.138363819084429, 'alpha': 0.0035632041911402715, 'colsample_bytree': 0.8, 'subsample': 1.0, 'learning_rate': 0.468382569501385, 'max_depth': 5, 'min_child_weight': 2}. Best is trial 37 with value: 0.976984126984127.\u001B[0m\n",
      "\u001B[32m[I 2023-04-27 20:36:22,066]\u001B[0m Trial 67 finished with value: 0.9771428571428571 and parameters: {'lambda': 1.7536977862948997, 'alpha': 0.0050646427766685475, 'colsample_bytree': 0.7, 'subsample': 1.0, 'learning_rate': 0.4611414512711358, 'max_depth': 5, 'min_child_weight': 1}. Best is trial 67 with value: 0.9771428571428571.\u001B[0m\n",
      "\u001B[32m[I 2023-04-27 20:37:30,300]\u001B[0m Trial 68 finished with value: 0.9742857142857143 and parameters: {'lambda': 2.868906052081084, 'alpha': 0.0053232294082299495, 'colsample_bytree': 0.7, 'subsample': 1.0, 'learning_rate': 0.4753217479320701, 'max_depth': 5, 'min_child_weight': 1}. Best is trial 67 with value: 0.9771428571428571.\u001B[0m\n",
      "\u001B[32m[I 2023-04-27 20:38:39,039]\u001B[0m Trial 69 finished with value: 0.9734920634920635 and parameters: {'lambda': 3.5534068115202437, 'alpha': 0.0039757969968268565, 'colsample_bytree': 0.7, 'subsample': 1.0, 'learning_rate': 0.4624157301890309, 'max_depth': 6, 'min_child_weight': 3}. Best is trial 67 with value: 0.9771428571428571.\u001B[0m\n",
      "\u001B[32m[I 2023-04-27 20:39:39,003]\u001B[0m Trial 70 finished with value: 0.9763492063492063 and parameters: {'lambda': 1.7523886367160564, 'alpha': 0.0049018065108588724, 'colsample_bytree': 0.7, 'subsample': 1.0, 'learning_rate': 0.43486581168672134, 'max_depth': 5, 'min_child_weight': 1}. Best is trial 67 with value: 0.9771428571428571.\u001B[0m\n",
      "\u001B[32m[I 2023-04-27 20:40:37,674]\u001B[0m Trial 71 finished with value: 0.9774603174603175 and parameters: {'lambda': 1.2913080747163286, 'alpha': 0.004505508810564352, 'colsample_bytree': 0.7, 'subsample': 1.0, 'learning_rate': 0.44672403589298415, 'max_depth': 5, 'min_child_weight': 1}. Best is trial 71 with value: 0.9774603174603175.\u001B[0m\n",
      "\u001B[32m[I 2023-04-27 20:41:34,129]\u001B[0m Trial 72 finished with value: 0.976031746031746 and parameters: {'lambda': 2.4032042224869614, 'alpha': 0.0044321333609955455, 'colsample_bytree': 0.7, 'subsample': 1.0, 'learning_rate': 0.4442864645299786, 'max_depth': 5, 'min_child_weight': 1}. Best is trial 71 with value: 0.9774603174603175.\u001B[0m\n",
      "\u001B[32m[I 2023-04-27 20:42:25,567]\u001B[0m Trial 73 finished with value: 0.9750793650793651 and parameters: {'lambda': 1.2643222851569804, 'alpha': 0.003822647331051404, 'colsample_bytree': 0.7, 'subsample': 1.0, 'learning_rate': 0.44749013490487793, 'max_depth': 5, 'min_child_weight': 1}. Best is trial 71 with value: 0.9774603174603175.\u001B[0m\n",
      "\u001B[32m[I 2023-04-27 20:43:18,480]\u001B[0m Trial 74 finished with value: 0.9747619047619047 and parameters: {'lambda': 2.076655170727778, 'alpha': 0.004979164868177723, 'colsample_bytree': 0.7, 'subsample': 1.0, 'learning_rate': 0.46040567761987355, 'max_depth': 5, 'min_child_weight': 1}. Best is trial 71 with value: 0.9774603174603175.\u001B[0m\n",
      "\u001B[32m[I 2023-04-27 20:44:13,048]\u001B[0m Trial 75 finished with value: 0.9750793650793651 and parameters: {'lambda': 1.7769046949006517, 'alpha': 0.004193892957115716, 'colsample_bytree': 0.7, 'subsample': 1.0, 'learning_rate': 0.470292111839036, 'max_depth': 5, 'min_child_weight': 1}. Best is trial 71 with value: 0.9774603174603175.\u001B[0m\n",
      "\u001B[32m[I 2023-04-27 20:45:19,687]\u001B[0m Trial 76 finished with value: 0.9757142857142858 and parameters: {'lambda': 2.6602383857309952, 'alpha': 0.005480015139833592, 'colsample_bytree': 0.7, 'subsample': 0.9, 'learning_rate': 0.4243063643057428, 'max_depth': 5, 'min_child_weight': 1}. Best is trial 71 with value: 0.9774603174603175.\u001B[0m\n",
      "\u001B[32m[I 2023-04-27 20:46:09,304]\u001B[0m Trial 77 finished with value: 0.9755555555555555 and parameters: {'lambda': 2.2081303022579566, 'alpha': 0.004524974121818346, 'colsample_bytree': 0.6, 'subsample': 1.0, 'learning_rate': 0.4505854151089655, 'max_depth': 5, 'min_child_weight': 2}. Best is trial 71 with value: 0.9774603174603175.\u001B[0m\n",
      "\u001B[32m[I 2023-04-27 20:47:17,544]\u001B[0m Trial 78 finished with value: 0.9761904761904762 and parameters: {'lambda': 3.187625510210928, 'alpha': 0.005175071803158206, 'colsample_bytree': 0.7, 'subsample': 1.0, 'learning_rate': 0.43230749119551687, 'max_depth': 5, 'min_child_weight': 1}. Best is trial 71 with value: 0.9774603174603175.\u001B[0m\n",
      "\u001B[32m[I 2023-04-27 20:48:16,546]\u001B[0m Trial 79 finished with value: 0.9765079365079365 and parameters: {'lambda': 1.3422528390105488, 'alpha': 0.0030120971444036015, 'colsample_bytree': 0.6, 'subsample': 1.0, 'learning_rate': 0.48289325159494023, 'max_depth': 5, 'min_child_weight': 2}. Best is trial 71 with value: 0.9774603174603175.\u001B[0m\n",
      "\u001B[32m[I 2023-04-27 20:49:07,888]\u001B[0m Trial 80 finished with value: 0.9731746031746031 and parameters: {'lambda': 1.2582488639340554, 'alpha': 0.0030111513219101896, 'colsample_bytree': 0.6, 'subsample': 1.0, 'learning_rate': 0.49339053451448706, 'max_depth': 5, 'min_child_weight': 3}. Best is trial 71 with value: 0.9774603174603175.\u001B[0m\n",
      "\u001B[32m[I 2023-04-27 20:49:58,888]\u001B[0m Trial 81 finished with value: 0.9742857142857143 and parameters: {'lambda': 1.5580654758064347, 'alpha': 0.0035033495134618193, 'colsample_bytree': 0.6, 'subsample': 1.0, 'learning_rate': 0.4766850113935423, 'max_depth': 5, 'min_child_weight': 2}. Best is trial 71 with value: 0.9774603174603175.\u001B[0m\n",
      "\u001B[32m[I 2023-04-27 20:50:55,421]\u001B[0m Trial 82 finished with value: 0.9741269841269842 and parameters: {'lambda': 0.4705434845163735, 'alpha': 0.0037693244645500357, 'colsample_bytree': 0.6, 'subsample': 1.0, 'learning_rate': 0.4808058305434949, 'max_depth': 5, 'min_child_weight': 3}. Best is trial 71 with value: 0.9774603174603175.\u001B[0m\n",
      "\u001B[32m[I 2023-04-27 20:51:58,245]\u001B[0m Trial 83 finished with value: 0.9761904761904762 and parameters: {'lambda': 2.522491376957614, 'alpha': 0.004059159544968442, 'colsample_bytree': 0.6, 'subsample': 1.0, 'learning_rate': 0.43986936993291226, 'max_depth': 5, 'min_child_weight': 1}. Best is trial 71 with value: 0.9774603174603175.\u001B[0m\n",
      "\u001B[32m[I 2023-04-27 20:53:02,323]\u001B[0m Trial 84 finished with value: 0.9758730158730159 and parameters: {'lambda': 2.9633113833753617, 'alpha': 0.0032734096010871416, 'colsample_bytree': 0.6, 'subsample': 1.0, 'learning_rate': 0.4653273460251307, 'max_depth': 5, 'min_child_weight': 2}. Best is trial 71 with value: 0.9774603174603175.\u001B[0m\n",
      "\u001B[32m[I 2023-04-27 20:54:05,734]\u001B[0m Trial 85 finished with value: 0.9765079365079365 and parameters: {'lambda': 1.7888275682568981, 'alpha': 0.004248873032821542, 'colsample_bytree': 0.7, 'subsample': 1.0, 'learning_rate': 0.4711435289072748, 'max_depth': 5, 'min_child_weight': 1}. Best is trial 71 with value: 0.9774603174603175.\u001B[0m\n",
      "\u001B[32m[I 2023-04-27 20:54:57,834]\u001B[0m Trial 86 finished with value: 0.976031746031746 and parameters: {'lambda': 1.1240860716629673, 'alpha': 0.004244052918956758, 'colsample_bytree': 0.7, 'subsample': 1.0, 'learning_rate': 0.4823211047017449, 'max_depth': 5, 'min_child_weight': 1}. Best is trial 71 with value: 0.9774603174603175.\u001B[0m\n",
      "\u001B[32m[I 2023-04-27 20:56:03,430]\u001B[0m Trial 87 finished with value: 0.9747619047619047 and parameters: {'lambda': 1.8986463990231675, 'alpha': 0.003847964862402964, 'colsample_bytree': 0.7, 'subsample': 1.0, 'learning_rate': 0.47247151091004114, 'max_depth': 5, 'min_child_weight': 1}. Best is trial 71 with value: 0.9774603174603175.\u001B[0m\n",
      "\u001B[32m[I 2023-04-27 20:56:47,985]\u001B[0m Trial 88 finished with value: 0.9728571428571429 and parameters: {'lambda': 1.390897907162314, 'alpha': 0.0035481812429909096, 'colsample_bytree': 0.7, 'subsample': 0.9, 'learning_rate': 0.4857307609036387, 'max_depth': 5, 'min_child_weight': 5}. Best is trial 71 with value: 0.9774603174603175.\u001B[0m\n",
      "\u001B[32m[I 2023-04-27 20:57:59,843]\u001B[0m Trial 89 finished with value: 0.9728571428571429 and parameters: {'lambda': 1.6920180786091619, 'alpha': 0.0028855823023260594, 'colsample_bytree': 0.7, 'subsample': 1.0, 'learning_rate': 0.4685749971177103, 'max_depth': 7, 'min_child_weight': 2}. Best is trial 71 with value: 0.9774603174603175.\u001B[0m\n",
      "\u001B[32m[I 2023-04-27 20:58:45,871]\u001B[0m Trial 90 finished with value: 0.9742857142857143 and parameters: {'lambda': 0.3264053420123799, 'alpha': 0.0032074613187920873, 'colsample_bytree': 0.7, 'subsample': 1.0, 'learning_rate': 0.4769291353900331, 'max_depth': 5, 'min_child_weight': 1}. Best is trial 71 with value: 0.9774603174603175.\u001B[0m\n",
      "\u001B[32m[I 2023-04-27 20:59:42,587]\u001B[0m Trial 91 finished with value: 0.9765079365079365 and parameters: {'lambda': 2.18304720490516, 'alpha': 0.004545488266085471, 'colsample_bytree': 0.6, 'subsample': 1.0, 'learning_rate': 0.45777462495050725, 'max_depth': 5, 'min_child_weight': 1}. Best is trial 71 with value: 0.9774603174603175.\u001B[0m\n",
      "\u001B[32m[I 2023-04-27 21:00:43,027]\u001B[0m Trial 92 finished with value: 0.9761904761904762 and parameters: {'lambda': 2.0233712175817007, 'alpha': 0.004446282967666627, 'colsample_bytree': 0.6, 'subsample': 1.0, 'learning_rate': 0.44524743671861244, 'max_depth': 5, 'min_child_weight': 1}. Best is trial 71 with value: 0.9774603174603175.\u001B[0m\n",
      "\u001B[32m[I 2023-04-27 21:01:38,863]\u001B[0m Trial 93 finished with value: 0.9744444444444444 and parameters: {'lambda': 2.2065077916865192, 'alpha': 0.004627836239942396, 'colsample_bytree': 0.6, 'subsample': 1.0, 'learning_rate': 0.45605927425571, 'max_depth': 5, 'min_child_weight': 1}. Best is trial 71 with value: 0.9774603174603175.\u001B[0m\n",
      "\u001B[32m[I 2023-04-27 21:02:41,671]\u001B[0m Trial 94 finished with value: 0.9752380952380952 and parameters: {'lambda': 2.327492466802342, 'alpha': 0.004144209032503304, 'colsample_bytree': 0.6, 'subsample': 1.0, 'learning_rate': 0.464157749265398, 'max_depth': 5, 'min_child_weight': 1}. Best is trial 71 with value: 0.9774603174603175.\u001B[0m\n",
      "\u001B[32m[I 2023-04-27 21:03:31,152]\u001B[0m Trial 95 finished with value: 0.974920634920635 and parameters: {'lambda': 1.4254219895123046, 'alpha': 0.004378909291761189, 'colsample_bytree': 0.6, 'subsample': 1.0, 'learning_rate': 0.4529637468432462, 'max_depth': 5, 'min_child_weight': 4}. Best is trial 71 with value: 0.9774603174603175.\u001B[0m\n",
      "\u001B[32m[I 2023-04-27 21:04:27,651]\u001B[0m Trial 96 finished with value: 0.9752380952380952 and parameters: {'lambda': 2.8074925772304757, 'alpha': 0.003931129518719772, 'colsample_bytree': 0.6, 'subsample': 1.0, 'learning_rate': 0.47016273661149505, 'max_depth': 5, 'min_child_weight': 1}. Best is trial 71 with value: 0.9774603174603175.\u001B[0m\n",
      "\u001B[32m[I 2023-04-27 21:05:32,773]\u001B[0m Trial 97 finished with value: 0.9765079365079365 and parameters: {'lambda': 1.8275600119704096, 'alpha': 0.0034000387834854074, 'colsample_bytree': 0.6, 'subsample': 1.0, 'learning_rate': 0.4593370605352647, 'max_depth': 5, 'min_child_weight': 1}. Best is trial 71 with value: 0.9774603174603175.\u001B[0m\n",
      "\u001B[32m[I 2023-04-27 21:06:21,657]\u001B[0m Trial 98 finished with value: 0.9761904761904762 and parameters: {'lambda': 0.7588841042083273, 'alpha': 0.0048432517916785255, 'colsample_bytree': 0.6, 'subsample': 1.0, 'learning_rate': 0.4582694565106273, 'max_depth': 5, 'min_child_weight': 1}. Best is trial 71 with value: 0.9774603174603175.\u001B[0m\n",
      "\u001B[32m[I 2023-04-27 21:07:09,867]\u001B[0m Trial 99 finished with value: 0.974920634920635 and parameters: {'lambda': 1.1355176384561323, 'alpha': 0.0033205793424157175, 'colsample_bytree': 0.6, 'subsample': 1.0, 'learning_rate': 0.4765341281025201, 'max_depth': 5, 'min_child_weight': 1}. Best is trial 71 with value: 0.9774603174603175.\u001B[0m\n"
     ]
    },
    {
     "name": "stdout",
     "output_type": "stream",
     "text": [
      "Number of finished trials: 100\n",
      "Best trial:\n",
      "  Value: 0.9774603174603175\n",
      "  Params: \n",
      "    lambda: 1.2913080747163286\n",
      "    alpha: 0.004505508810564352\n",
      "    colsample_bytree: 0.7\n",
      "    subsample: 1.0\n",
      "    learning_rate: 0.44672403589298415\n",
      "    max_depth: 5\n",
      "    min_child_weight: 1\n"
     ]
    }
   ],
   "source": [
    "study = optuna.create_study(direction='maximize')\n",
    "study.optimize(objective, n_trials=100)\n",
    "print('Number of finished trials: {}'.format(len(study.trials)))\n",
    "print('Best trial:')\n",
    "trial = study.best_trial\n",
    "\n",
    "print('  Value: {}'.format(trial.value))\n",
    "print('  Params: ')\n",
    "\n",
    "for key, value in trial.params.items():\n",
    "    print('    {}: {}'.format(key, value))\n"
   ],
   "metadata": {
    "collapsed": false,
    "ExecuteTime": {
     "start_time": "2023-04-27T19:24:29.212961Z",
     "end_time": "2023-04-27T21:07:09.928338Z"
    }
   }
  },
  {
   "cell_type": "code",
   "execution_count": 18,
   "outputs": [],
   "source": [
    "modified_param = {\n",
    "    'tree_method':'gpu_hist',\n",
    "    'lambda': 1.2913080747163286,\n",
    "    'alpha': 0.004505508810564352,\n",
    "    'colsample_bytree': 0.7,\n",
    "    'subsample': 1.0,\n",
    "    'learning_rate': 0.44672403589298415, #equal to eta\n",
    "    'n_estimators': 2000, #equal to num_boost_round\n",
    "    'max_depth': 5,\n",
    "    'min_child_weight': 1\n",
    "}"
   ],
   "metadata": {
    "collapsed": false,
    "ExecuteTime": {
     "start_time": "2023-04-27T21:28:08.804392Z",
     "end_time": "2023-04-27T21:28:08.836119Z"
    }
   }
  },
  {
   "cell_type": "code",
   "execution_count": 19,
   "outputs": [
    {
     "data": {
      "text/plain": "XGBClassifier(alpha=0.004505508810564352, base_score=None, booster=None,\n              callbacks=None, colsample_bylevel=None, colsample_bynode=None,\n              colsample_bytree=0.7, early_stopping_rounds=None,\n              enable_categorical=False, eval_metric=None, feature_types=None,\n              gamma=None, gpu_id=None, grow_policy=None, importance_type=None,\n              interaction_constraints=None, lambda=1.2913080747163286,\n              learning_rate=0.44672403589298415, max_bin=None,\n              max_cat_threshold=None, max_cat_to_onehot=None,\n              max_delta_step=None, max_depth=5, max_leaves=None,\n              min_child_weight=1, missing=nan, monotone_constraints=None,\n              n_estimators=2000, n_jobs=None, num_parallel_tree=None, ...)",
      "text/html": "<style>#sk-container-id-3 {color: black;background-color: white;}#sk-container-id-3 pre{padding: 0;}#sk-container-id-3 div.sk-toggleable {background-color: white;}#sk-container-id-3 label.sk-toggleable__label {cursor: pointer;display: block;width: 100%;margin-bottom: 0;padding: 0.3em;box-sizing: border-box;text-align: center;}#sk-container-id-3 label.sk-toggleable__label-arrow:before {content: \"▸\";float: left;margin-right: 0.25em;color: #696969;}#sk-container-id-3 label.sk-toggleable__label-arrow:hover:before {color: black;}#sk-container-id-3 div.sk-estimator:hover label.sk-toggleable__label-arrow:before {color: black;}#sk-container-id-3 div.sk-toggleable__content {max-height: 0;max-width: 0;overflow: hidden;text-align: left;background-color: #f0f8ff;}#sk-container-id-3 div.sk-toggleable__content pre {margin: 0.2em;color: black;border-radius: 0.25em;background-color: #f0f8ff;}#sk-container-id-3 input.sk-toggleable__control:checked~div.sk-toggleable__content {max-height: 200px;max-width: 100%;overflow: auto;}#sk-container-id-3 input.sk-toggleable__control:checked~label.sk-toggleable__label-arrow:before {content: \"▾\";}#sk-container-id-3 div.sk-estimator input.sk-toggleable__control:checked~label.sk-toggleable__label {background-color: #d4ebff;}#sk-container-id-3 div.sk-label input.sk-toggleable__control:checked~label.sk-toggleable__label {background-color: #d4ebff;}#sk-container-id-3 input.sk-hidden--visually {border: 0;clip: rect(1px 1px 1px 1px);clip: rect(1px, 1px, 1px, 1px);height: 1px;margin: -1px;overflow: hidden;padding: 0;position: absolute;width: 1px;}#sk-container-id-3 div.sk-estimator {font-family: monospace;background-color: #f0f8ff;border: 1px dotted black;border-radius: 0.25em;box-sizing: border-box;margin-bottom: 0.5em;}#sk-container-id-3 div.sk-estimator:hover {background-color: #d4ebff;}#sk-container-id-3 div.sk-parallel-item::after {content: \"\";width: 100%;border-bottom: 1px solid gray;flex-grow: 1;}#sk-container-id-3 div.sk-label:hover label.sk-toggleable__label {background-color: #d4ebff;}#sk-container-id-3 div.sk-serial::before {content: \"\";position: absolute;border-left: 1px solid gray;box-sizing: border-box;top: 0;bottom: 0;left: 50%;z-index: 0;}#sk-container-id-3 div.sk-serial {display: flex;flex-direction: column;align-items: center;background-color: white;padding-right: 0.2em;padding-left: 0.2em;position: relative;}#sk-container-id-3 div.sk-item {position: relative;z-index: 1;}#sk-container-id-3 div.sk-parallel {display: flex;align-items: stretch;justify-content: center;background-color: white;position: relative;}#sk-container-id-3 div.sk-item::before, #sk-container-id-3 div.sk-parallel-item::before {content: \"\";position: absolute;border-left: 1px solid gray;box-sizing: border-box;top: 0;bottom: 0;left: 50%;z-index: -1;}#sk-container-id-3 div.sk-parallel-item {display: flex;flex-direction: column;z-index: 1;position: relative;background-color: white;}#sk-container-id-3 div.sk-parallel-item:first-child::after {align-self: flex-end;width: 50%;}#sk-container-id-3 div.sk-parallel-item:last-child::after {align-self: flex-start;width: 50%;}#sk-container-id-3 div.sk-parallel-item:only-child::after {width: 0;}#sk-container-id-3 div.sk-dashed-wrapped {border: 1px dashed gray;margin: 0 0.4em 0.5em 0.4em;box-sizing: border-box;padding-bottom: 0.4em;background-color: white;}#sk-container-id-3 div.sk-label label {font-family: monospace;font-weight: bold;display: inline-block;line-height: 1.2em;}#sk-container-id-3 div.sk-label-container {text-align: center;}#sk-container-id-3 div.sk-container {/* jupyter's `normalize.less` sets `[hidden] { display: none; }` but bootstrap.min.css set `[hidden] { display: none !important; }` so we also need the `!important` here to be able to override the default hidden behavior on the sphinx rendered scikit-learn.org. See: https://github.com/scikit-learn/scikit-learn/issues/21755 */display: inline-block !important;position: relative;}#sk-container-id-3 div.sk-text-repr-fallback {display: none;}</style><div id=\"sk-container-id-3\" class=\"sk-top-container\"><div class=\"sk-text-repr-fallback\"><pre>XGBClassifier(alpha=0.004505508810564352, base_score=None, booster=None,\n              callbacks=None, colsample_bylevel=None, colsample_bynode=None,\n              colsample_bytree=0.7, early_stopping_rounds=None,\n              enable_categorical=False, eval_metric=None, feature_types=None,\n              gamma=None, gpu_id=None, grow_policy=None, importance_type=None,\n              interaction_constraints=None, lambda=1.2913080747163286,\n              learning_rate=0.44672403589298415, max_bin=None,\n              max_cat_threshold=None, max_cat_to_onehot=None,\n              max_delta_step=None, max_depth=5, max_leaves=None,\n              min_child_weight=1, missing=nan, monotone_constraints=None,\n              n_estimators=2000, n_jobs=None, num_parallel_tree=None, ...)</pre><b>In a Jupyter environment, please rerun this cell to show the HTML representation or trust the notebook. <br />On GitHub, the HTML representation is unable to render, please try loading this page with nbviewer.org.</b></div><div class=\"sk-container\" hidden><div class=\"sk-item\"><div class=\"sk-estimator sk-toggleable\"><input class=\"sk-toggleable__control sk-hidden--visually\" id=\"sk-estimator-id-3\" type=\"checkbox\" checked><label for=\"sk-estimator-id-3\" class=\"sk-toggleable__label sk-toggleable__label-arrow\">XGBClassifier</label><div class=\"sk-toggleable__content\"><pre>XGBClassifier(alpha=0.004505508810564352, base_score=None, booster=None,\n              callbacks=None, colsample_bylevel=None, colsample_bynode=None,\n              colsample_bytree=0.7, early_stopping_rounds=None,\n              enable_categorical=False, eval_metric=None, feature_types=None,\n              gamma=None, gpu_id=None, grow_policy=None, importance_type=None,\n              interaction_constraints=None, lambda=1.2913080747163286,\n              learning_rate=0.44672403589298415, max_bin=None,\n              max_cat_threshold=None, max_cat_to_onehot=None,\n              max_delta_step=None, max_depth=5, max_leaves=None,\n              min_child_weight=1, missing=nan, monotone_constraints=None,\n              n_estimators=2000, n_jobs=None, num_parallel_tree=None, ...)</pre></div></div></div></div></div>"
     },
     "execution_count": 19,
     "metadata": {},
     "output_type": "execute_result"
    }
   ],
   "source": [
    "model = xgb.XGBClassifier(**modified_param)\n",
    "model.fit(X, Y)\n",
    "\n"
   ],
   "metadata": {
    "collapsed": false,
    "ExecuteTime": {
     "start_time": "2023-04-27T21:28:16.166701Z",
     "end_time": "2023-04-27T21:32:49.576398Z"
    }
   }
  },
  {
   "cell_type": "code",
   "execution_count": 20,
   "outputs": [],
   "source": [
    "predictions = model.predict(mnist_test)\n",
    "predictionsDf = pd.DataFrame(predictions, columns=[\"Label\"])\n",
    "predictionsDf.insert(0, 'ImageId', range(1, len(predictionsDf) + 1))\n",
    "predictionsDf[\"Label\"] = predictionsDf[\"Label\"].astype(int)"
   ],
   "metadata": {
    "collapsed": false,
    "ExecuteTime": {
     "start_time": "2023-04-27T21:33:15.346188Z",
     "end_time": "2023-04-27T21:33:17.143756Z"
    }
   }
  },
  {
   "cell_type": "code",
   "execution_count": 21,
   "outputs": [
    {
     "data": {
      "text/plain": "       ImageId  Label\n0            1      2\n1            2      0\n2            3      9\n3            4      9\n4            5      3\n...        ...    ...\n27995    27996      9\n27996    27997      7\n27997    27998      3\n27998    27999      9\n27999    28000      2\n\n[28000 rows x 2 columns]",
      "text/html": "<div>\n<style scoped>\n    .dataframe tbody tr th:only-of-type {\n        vertical-align: middle;\n    }\n\n    .dataframe tbody tr th {\n        vertical-align: top;\n    }\n\n    .dataframe thead th {\n        text-align: right;\n    }\n</style>\n<table border=\"1\" class=\"dataframe\">\n  <thead>\n    <tr style=\"text-align: right;\">\n      <th></th>\n      <th>ImageId</th>\n      <th>Label</th>\n    </tr>\n  </thead>\n  <tbody>\n    <tr>\n      <th>0</th>\n      <td>1</td>\n      <td>2</td>\n    </tr>\n    <tr>\n      <th>1</th>\n      <td>2</td>\n      <td>0</td>\n    </tr>\n    <tr>\n      <th>2</th>\n      <td>3</td>\n      <td>9</td>\n    </tr>\n    <tr>\n      <th>3</th>\n      <td>4</td>\n      <td>9</td>\n    </tr>\n    <tr>\n      <th>4</th>\n      <td>5</td>\n      <td>3</td>\n    </tr>\n    <tr>\n      <th>...</th>\n      <td>...</td>\n      <td>...</td>\n    </tr>\n    <tr>\n      <th>27995</th>\n      <td>27996</td>\n      <td>9</td>\n    </tr>\n    <tr>\n      <th>27996</th>\n      <td>27997</td>\n      <td>7</td>\n    </tr>\n    <tr>\n      <th>27997</th>\n      <td>27998</td>\n      <td>3</td>\n    </tr>\n    <tr>\n      <th>27998</th>\n      <td>27999</td>\n      <td>9</td>\n    </tr>\n    <tr>\n      <th>27999</th>\n      <td>28000</td>\n      <td>2</td>\n    </tr>\n  </tbody>\n</table>\n<p>28000 rows × 2 columns</p>\n</div>"
     },
     "execution_count": 21,
     "metadata": {},
     "output_type": "execute_result"
    }
   ],
   "source": [
    "predictionsDf"
   ],
   "metadata": {
    "collapsed": false,
    "ExecuteTime": {
     "start_time": "2023-04-27T21:33:17.143455Z",
     "end_time": "2023-04-27T21:33:17.205986Z"
    }
   }
  },
  {
   "cell_type": "code",
   "execution_count": 22,
   "outputs": [],
   "source": [
    "predictionsDf.to_csv('/home/rainer/Downloads/ML_datasets/mnist_test_prediction_optuna.csv', index=False)"
   ],
   "metadata": {
    "collapsed": false,
    "ExecuteTime": {
     "start_time": "2023-04-27T21:33:23.811053Z",
     "end_time": "2023-04-27T21:33:23.869262Z"
    }
   }
  },
  {
   "cell_type": "code",
   "execution_count": null,
   "outputs": [],
   "source": [],
   "metadata": {
    "collapsed": false
   }
  }
 ],
 "metadata": {
  "kernelspec": {
   "display_name": "Python 3",
   "language": "python",
   "name": "python3"
  },
  "language_info": {
   "codemirror_mode": {
    "name": "ipython",
    "version": 2
   },
   "file_extension": ".py",
   "mimetype": "text/x-python",
   "name": "python",
   "nbconvert_exporter": "python",
   "pygments_lexer": "ipython2",
   "version": "2.7.6"
  }
 },
 "nbformat": 4,
 "nbformat_minor": 0
}
