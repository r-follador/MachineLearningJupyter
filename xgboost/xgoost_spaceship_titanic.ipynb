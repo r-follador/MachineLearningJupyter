{
 "cells": [
  {
   "cell_type": "markdown",
   "source": [
    "# Spaceship Titanic\n",
    "[Kaggle Competiton](https://www.kaggle.com/competitions/spaceship-titanic/)\n",
    "\n",
    "\n",
    "    - PassengerId - A unique Id for each passenger. Each Id takes the form gggg_pp where gggg indicates a group the passenger is travelling with and pp is their number within the group. People in a group are often family members, but not always.\n",
    "    - HomePlanet - The planet the passenger departed from, typically their planet of permanent residence.\n",
    "    - CryoSleep - Indicates whether the passenger elected to be put into suspended animation for the duration of the voyage. Passengers in cryosleep are confined to their cabins.\n",
    "    - Cabin - The cabin number where the passenger is staying. Takes the form deck/num/side, where side can be either P for Port or S for Starboard.\n",
    "    - Destination - The planet the passenger will be debarking to.\n",
    "    - Age - The age of the passenger.\n",
    "    - VIP - Whether the passenger has paid for special VIP service during the voyage.\n",
    "    - RoomService, FoodCourt, ShoppingMall, Spa, VRDeck - Amount the passenger has billed at each of the Spaceship Titanic's many luxury amenities.\n",
    "    - Name - The first and last names of the passenger.\n",
    "    - Transported - Whether the passenger was transported to another dimension. This is the target, the column you are trying to predict.\n",
    "\n"
   ],
   "metadata": {
    "collapsed": false
   }
  },
  {
   "cell_type": "code",
   "execution_count": 1,
   "metadata": {
    "collapsed": true,
    "ExecuteTime": {
     "start_time": "2023-04-29T17:36:43.404047Z",
     "end_time": "2023-04-29T17:36:43.653968Z"
    }
   },
   "outputs": [],
   "source": [
    "import seaborn as sns\n",
    "import pandas as pd\n",
    "import numpy as np\n",
    "import matplotlib.pyplot as plt\n",
    "from sklearn.model_selection import train_test_split\n",
    "import xgboost as xgb\n",
    "\n",
    "def convert(dataframe):\n",
    "    dataframe[\"HomePlanet\"]=dataframe[\"HomePlanet\"].astype(\"category\")\n",
    "    dataframe[\"Destination\"]=dataframe[\"Destination\"].astype(\"category\")\n",
    "    dataframe[[\"group\", \"number_within_group\"]]=dataframe[\"PassengerId\"].str.split(\"_\", expand=True)\n",
    "    dataframe[\"group\"]=dataframe[\"group\"].astype(int)\n",
    "    dataframe[\"number_within_group\"]=dataframe[\"number_within_group\"].astype(int)\n",
    "    dataframe[[\"deck\", \"num\", \"side\"]]=dataframe[\"Cabin\"].str.split(\"/\", expand=True)\n",
    "    dataframe[\"deck\"]=dataframe[\"deck\"].astype(\"category\")\n",
    "    dataframe[\"num\"]=dataframe[\"num\"].astype(\"category\")\n",
    "    dataframe[\"side\"]=dataframe[\"side\"].astype(\"category\")\n",
    "    dataframe = dataframe.drop([\"Cabin\", \"PassengerId\", \"Name\"], axis=1) #also remove name\n",
    "    dataframe[\"CryoSleep\"] =dataframe[\"CryoSleep\"].astype(bool)\n",
    "    dataframe[\"VIP\"] =dataframe[\"VIP\"].astype(bool)\n",
    "    dataframe[\"Age\"]=pd.to_numeric(dataframe['Age'], errors='coerce', downcast='integer')\n",
    "    dataframe[\"RoomService\"]=pd.to_numeric(dataframe['RoomService'], errors='coerce', downcast='integer')\n",
    "    dataframe[\"FoodCourt\"]=pd.to_numeric(dataframe['FoodCourt'], errors='coerce', downcast='integer')\n",
    "    dataframe[\"ShoppingMall\"]=pd.to_numeric(dataframe['ShoppingMall'], errors='coerce', downcast='integer')\n",
    "    dataframe[\"Spa\"]=pd.to_numeric(dataframe['Spa'], errors='coerce', downcast='integer')\n",
    "    dataframe[\"VRDeck\"]=pd.to_numeric(dataframe['VRDeck'], errors='coerce', downcast='integer')\n",
    "    return dataframe\n",
    "\n",
    "\n",
    "mnist_train = pd.read_csv(\"/home/rainer/Downloads/ML_datasets/spaceship_titanic_train.csv\")\n",
    "mnist_train = convert(mnist_train)\n",
    "mnist_train[\"Transported\"] =mnist_train[\"Transported\"].astype(bool)\n",
    "\n",
    "X, Y = mnist_train.drop('Transported', axis=1), mnist_train[['Transported']]\n",
    "\n",
    "X_train, X_test, Y_train, Y_test = train_test_split(X, Y, random_state=1)\n",
    "dtrain_reg = xgb.DMatrix(X_train, Y_train, enable_categorical=True)\n",
    "dtest_reg = xgb.DMatrix(X_test, Y_test, enable_categorical=True)"
   ]
  },
  {
   "cell_type": "code",
   "execution_count": 2,
   "outputs": [
    {
     "data": {
      "text/plain": "HomePlanet             category\nCryoSleep                  bool\nDestination            category\nAge                     float64\nVIP                        bool\nRoomService             float64\nFoodCourt               float64\nShoppingMall            float64\nSpa                     float64\nVRDeck                  float64\nTransported                bool\ngroup                     int64\nnumber_within_group       int64\ndeck                   category\nnum                    category\nside                   category\ndtype: object"
     },
     "execution_count": 2,
     "metadata": {},
     "output_type": "execute_result"
    }
   ],
   "source": [
    "mnist_train.dtypes"
   ],
   "metadata": {
    "collapsed": false,
    "ExecuteTime": {
     "start_time": "2023-04-29T17:36:43.654233Z",
     "end_time": "2023-04-29T17:36:43.666968Z"
    }
   }
  },
  {
   "cell_type": "code",
   "execution_count": 3,
   "outputs": [
    {
     "data": {
      "text/plain": "  HomePlanet  CryoSleep  Destination   Age    VIP  RoomService  FoodCourt  \\\n0     Europa      False  TRAPPIST-1e  39.0  False          0.0        0.0   \n1      Earth      False  TRAPPIST-1e  24.0  False        109.0        9.0   \n2     Europa      False  TRAPPIST-1e  58.0   True         43.0     3576.0   \n3     Europa      False  TRAPPIST-1e  33.0  False          0.0     1283.0   \n4      Earth      False  TRAPPIST-1e  16.0  False        303.0       70.0   \n\n   ShoppingMall     Spa  VRDeck  Transported  group  number_within_group deck  \\\n0           0.0     0.0     0.0        False      1                    1    B   \n1          25.0   549.0    44.0         True      2                    1    F   \n2           0.0  6715.0    49.0        False      3                    1    A   \n3         371.0  3329.0   193.0        False      3                    2    A   \n4         151.0   565.0     2.0         True      4                    1    F   \n\n  num side  \n0   0    P  \n1   0    S  \n2   0    S  \n3   0    S  \n4   1    S  ",
      "text/html": "<div>\n<style scoped>\n    .dataframe tbody tr th:only-of-type {\n        vertical-align: middle;\n    }\n\n    .dataframe tbody tr th {\n        vertical-align: top;\n    }\n\n    .dataframe thead th {\n        text-align: right;\n    }\n</style>\n<table border=\"1\" class=\"dataframe\">\n  <thead>\n    <tr style=\"text-align: right;\">\n      <th></th>\n      <th>HomePlanet</th>\n      <th>CryoSleep</th>\n      <th>Destination</th>\n      <th>Age</th>\n      <th>VIP</th>\n      <th>RoomService</th>\n      <th>FoodCourt</th>\n      <th>ShoppingMall</th>\n      <th>Spa</th>\n      <th>VRDeck</th>\n      <th>Transported</th>\n      <th>group</th>\n      <th>number_within_group</th>\n      <th>deck</th>\n      <th>num</th>\n      <th>side</th>\n    </tr>\n  </thead>\n  <tbody>\n    <tr>\n      <th>0</th>\n      <td>Europa</td>\n      <td>False</td>\n      <td>TRAPPIST-1e</td>\n      <td>39.0</td>\n      <td>False</td>\n      <td>0.0</td>\n      <td>0.0</td>\n      <td>0.0</td>\n      <td>0.0</td>\n      <td>0.0</td>\n      <td>False</td>\n      <td>1</td>\n      <td>1</td>\n      <td>B</td>\n      <td>0</td>\n      <td>P</td>\n    </tr>\n    <tr>\n      <th>1</th>\n      <td>Earth</td>\n      <td>False</td>\n      <td>TRAPPIST-1e</td>\n      <td>24.0</td>\n      <td>False</td>\n      <td>109.0</td>\n      <td>9.0</td>\n      <td>25.0</td>\n      <td>549.0</td>\n      <td>44.0</td>\n      <td>True</td>\n      <td>2</td>\n      <td>1</td>\n      <td>F</td>\n      <td>0</td>\n      <td>S</td>\n    </tr>\n    <tr>\n      <th>2</th>\n      <td>Europa</td>\n      <td>False</td>\n      <td>TRAPPIST-1e</td>\n      <td>58.0</td>\n      <td>True</td>\n      <td>43.0</td>\n      <td>3576.0</td>\n      <td>0.0</td>\n      <td>6715.0</td>\n      <td>49.0</td>\n      <td>False</td>\n      <td>3</td>\n      <td>1</td>\n      <td>A</td>\n      <td>0</td>\n      <td>S</td>\n    </tr>\n    <tr>\n      <th>3</th>\n      <td>Europa</td>\n      <td>False</td>\n      <td>TRAPPIST-1e</td>\n      <td>33.0</td>\n      <td>False</td>\n      <td>0.0</td>\n      <td>1283.0</td>\n      <td>371.0</td>\n      <td>3329.0</td>\n      <td>193.0</td>\n      <td>False</td>\n      <td>3</td>\n      <td>2</td>\n      <td>A</td>\n      <td>0</td>\n      <td>S</td>\n    </tr>\n    <tr>\n      <th>4</th>\n      <td>Earth</td>\n      <td>False</td>\n      <td>TRAPPIST-1e</td>\n      <td>16.0</td>\n      <td>False</td>\n      <td>303.0</td>\n      <td>70.0</td>\n      <td>151.0</td>\n      <td>565.0</td>\n      <td>2.0</td>\n      <td>True</td>\n      <td>4</td>\n      <td>1</td>\n      <td>F</td>\n      <td>1</td>\n      <td>S</td>\n    </tr>\n  </tbody>\n</table>\n</div>"
     },
     "execution_count": 3,
     "metadata": {},
     "output_type": "execute_result"
    }
   ],
   "source": [
    "mnist_train.head()"
   ],
   "metadata": {
    "collapsed": false,
    "ExecuteTime": {
     "start_time": "2023-04-29T17:36:43.667246Z",
     "end_time": "2023-04-29T17:36:43.693841Z"
    }
   }
  },
  {
   "cell_type": "code",
   "execution_count": 4,
   "outputs": [
    {
     "name": "stdout",
     "output_type": "stream",
     "text": [
      "[0]\ttrain-logloss:18.40655+0.12457\ttrain-error:0.49962+0.00338\ttest-logloss:18.40644+0.49841\ttest-error:0.49961+0.01353\n",
      "[10]\ttrain-logloss:8.17330+0.16618\ttrain-error:0.22185+0.00451\ttest-logloss:9.59036+0.37915\ttest-error:0.26031+0.01029\n",
      "[20]\ttrain-logloss:6.56832+0.10761\ttrain-error:0.17829+0.00292\ttest-logloss:7.74801+0.34553\ttest-error:0.21031+0.00938\n",
      "[30]\ttrain-logloss:6.33379+0.12879\ttrain-error:0.17192+0.00350\ttest-logloss:7.51632+0.18502\ttest-error:0.20402+0.00502\n",
      "[40]\ttrain-logloss:6.10067+0.16071\ttrain-error:0.16559+0.00436\ttest-logloss:7.46547+0.22387\ttest-error:0.20264+0.00608\n",
      "[50]\ttrain-logloss:5.81104+0.12380\ttrain-error:0.15773+0.00336\ttest-logloss:7.41460+0.22328\ttest-error:0.20126+0.00606\n",
      "[60]\ttrain-logloss:5.52423+0.12639\ttrain-error:0.14995+0.00343\ttest-logloss:7.34113+0.28560\ttest-error:0.19926+0.00775\n",
      "[70]\ttrain-logloss:5.22894+0.12838\ttrain-error:0.14193+0.00348\ttest-logloss:7.30723+0.21760\ttest-error:0.19834+0.00591\n",
      "[80]\ttrain-logloss:4.97605+0.16149\ttrain-error:0.13507+0.00438\ttest-logloss:7.31290+0.24294\ttest-error:0.19850+0.00659\n",
      "[90]\ttrain-logloss:4.69913+0.14299\ttrain-error:0.12755+0.00388\ttest-logloss:7.32986+0.23863\ttest-error:0.19896+0.00648\n",
      "[100]\ttrain-logloss:4.46601+0.16431\ttrain-error:0.12122+0.00446\ttest-logloss:7.25639+0.25786\ttest-error:0.19696+0.00700\n",
      "[110]\ttrain-logloss:4.22159+0.16813\ttrain-error:0.11459+0.00456\ttest-logloss:7.25641+0.27847\ttest-error:0.19696+0.00756\n",
      "[120]\ttrain-logloss:3.97858+0.15691\ttrain-error:0.10799+0.00426\ttest-logloss:7.26210+0.38223\ttest-error:0.19712+0.01038\n",
      "[130]\ttrain-logloss:3.77089+0.18125\ttrain-error:0.10235+0.00492\ttest-logloss:7.22254+0.45206\ttest-error:0.19604+0.01227\n",
      "[140]\ttrain-logloss:3.60276+0.17502\ttrain-error:0.09779+0.00475\ttest-logloss:7.25645+0.40085\ttest-error:0.19696+0.01088\n",
      "[150]\ttrain-logloss:3.41062+0.19154\ttrain-error:0.09258+0.00520\ttest-logloss:7.27341+0.42748\ttest-error:0.19743+0.01160\n",
      "[160]\ttrain-logloss:3.21706+0.20043\ttrain-error:0.08732+0.00544\ttest-logloss:7.29601+0.47113\ttest-error:0.19804+0.01279\n",
      "[170]\ttrain-logloss:3.04752+0.16238\ttrain-error:0.08272+0.00441\ttest-logloss:7.35250+0.35201\ttest-error:0.19957+0.00955\n",
      "[180]\ttrain-logloss:2.92601+0.18219\ttrain-error:0.07942+0.00495\ttest-logloss:7.34119+0.39896\ttest-error:0.19926+0.01083\n",
      "[190]\ttrain-logloss:2.79038+0.18579\ttrain-error:0.07574+0.00504\ttest-logloss:7.34121+0.33933\ttest-error:0.19927+0.00921\n",
      "[199]\ttrain-logloss:2.69854+0.18018\ttrain-error:0.07325+0.00489\ttest-logloss:7.44293+0.42680\ttest-error:0.20203+0.01158\n"
     ]
    }
   ],
   "source": [
    "# Define hyperparameters (search by optuna\n",
    "params = {\n",
    "    \"objective\": \"binary:hinge\",\n",
    "    \"tree_method\": \"gpu_hist\",\n",
    "    \"eta\": 0.10639974467535045,\n",
    "    \"max_depth\": 10,\n",
    "    \"min_child_weight\": 10.486339500146217,\n",
    "    \"subsample\": 0.9875003085612942,\n",
    "    \"colsample_bynode\": 0.18579214962585772\n",
    "}\n",
    "boostround=200\n",
    "results = xgb.cv(\n",
    "    params=params,\n",
    "    dtrain=dtrain_reg,\n",
    "    num_boost_round=boostround,\n",
    "    nfold=5,\n",
    "    verbose_eval=10, # print eval every xth round\n",
    "    metrics=[\"logloss\", \"error\"],\n",
    ")"
   ],
   "metadata": {
    "collapsed": false,
    "ExecuteTime": {
     "start_time": "2023-04-29T17:36:43.697570Z",
     "end_time": "2023-04-29T17:36:51.434356Z"
    }
   }
  },
  {
   "cell_type": "code",
   "execution_count": 12,
   "outputs": [
    {
     "data": {
      "text/plain": "0.202026470297426"
     },
     "execution_count": 12,
     "metadata": {},
     "output_type": "execute_result"
    }
   ],
   "source": [
    "results.iloc[-1][\"test-error-mean\"]"
   ],
   "metadata": {
    "collapsed": false,
    "ExecuteTime": {
     "start_time": "2023-04-29T17:43:03.813553Z",
     "end_time": "2023-04-29T17:43:03.823768Z"
    }
   }
  },
  {
   "cell_type": "code",
   "execution_count": 6,
   "outputs": [],
   "source": [
    "dfull = xgb.DMatrix(X, Y, enable_categorical=True)\n",
    "model = xgb.train(\n",
    "    params=params,\n",
    "    dtrain=dfull,\n",
    "    num_boost_round=boostround\n",
    ")\n",
    "mnist_test = pd.read_csv(\"/home/rainer/Downloads/ML_datasets/spaceship_titanic_test.csv\")\n",
    "spaceship_finalPred = convert(mnist_test)\n",
    "spaceship_finalPred_matrix = xgb.DMatrix(spaceship_finalPred, enable_categorical=True)\n",
    "predictions = model.predict(spaceship_finalPred_matrix)\n",
    "predictionsDf = pd.DataFrame(predictions, columns=[\"Transported\"])\n",
    "predictionsDf[\"PassengerId\"]=mnist_test[\"PassengerId\"]\n",
    "predictionsDf=predictionsDf[[\"PassengerId\",\"Transported\"]]\n",
    "predictionsDf[\"Transported\"]=predictionsDf[\"Transported\"].astype(bool)"
   ],
   "metadata": {
    "collapsed": false,
    "ExecuteTime": {
     "start_time": "2023-04-29T17:36:51.447097Z",
     "end_time": "2023-04-29T17:36:53.047336Z"
    }
   }
  },
  {
   "cell_type": "code",
   "execution_count": 7,
   "outputs": [
    {
     "data": {
      "text/plain": "     PassengerId  Transported\n0        0013_01         True\n1        0018_01        False\n2        0019_01         True\n3        0021_01         True\n4        0023_01         True\n...          ...          ...\n4272     9266_02         True\n4273     9269_01        False\n4274     9271_01         True\n4275     9273_01         True\n4276     9277_01         True\n\n[4277 rows x 2 columns]",
      "text/html": "<div>\n<style scoped>\n    .dataframe tbody tr th:only-of-type {\n        vertical-align: middle;\n    }\n\n    .dataframe tbody tr th {\n        vertical-align: top;\n    }\n\n    .dataframe thead th {\n        text-align: right;\n    }\n</style>\n<table border=\"1\" class=\"dataframe\">\n  <thead>\n    <tr style=\"text-align: right;\">\n      <th></th>\n      <th>PassengerId</th>\n      <th>Transported</th>\n    </tr>\n  </thead>\n  <tbody>\n    <tr>\n      <th>0</th>\n      <td>0013_01</td>\n      <td>True</td>\n    </tr>\n    <tr>\n      <th>1</th>\n      <td>0018_01</td>\n      <td>False</td>\n    </tr>\n    <tr>\n      <th>2</th>\n      <td>0019_01</td>\n      <td>True</td>\n    </tr>\n    <tr>\n      <th>3</th>\n      <td>0021_01</td>\n      <td>True</td>\n    </tr>\n    <tr>\n      <th>4</th>\n      <td>0023_01</td>\n      <td>True</td>\n    </tr>\n    <tr>\n      <th>...</th>\n      <td>...</td>\n      <td>...</td>\n    </tr>\n    <tr>\n      <th>4272</th>\n      <td>9266_02</td>\n      <td>True</td>\n    </tr>\n    <tr>\n      <th>4273</th>\n      <td>9269_01</td>\n      <td>False</td>\n    </tr>\n    <tr>\n      <th>4274</th>\n      <td>9271_01</td>\n      <td>True</td>\n    </tr>\n    <tr>\n      <th>4275</th>\n      <td>9273_01</td>\n      <td>True</td>\n    </tr>\n    <tr>\n      <th>4276</th>\n      <td>9277_01</td>\n      <td>True</td>\n    </tr>\n  </tbody>\n</table>\n<p>4277 rows × 2 columns</p>\n</div>"
     },
     "execution_count": 7,
     "metadata": {},
     "output_type": "execute_result"
    }
   ],
   "source": [
    "predictionsDf"
   ],
   "metadata": {
    "collapsed": false,
    "ExecuteTime": {
     "start_time": "2023-04-29T17:36:53.047159Z",
     "end_time": "2023-04-29T17:36:53.054240Z"
    }
   }
  },
  {
   "cell_type": "code",
   "execution_count": 8,
   "outputs": [],
   "source": [
    "predictionsDf.to_csv('/home/rainer/Downloads/ML_datasets/spaceship_titanic_test_prediction.csv', index=False)"
   ],
   "metadata": {
    "collapsed": false,
    "ExecuteTime": {
     "start_time": "2023-04-29T17:36:53.059184Z",
     "end_time": "2023-04-29T17:36:53.075121Z"
    }
   }
  },
  {
   "cell_type": "code",
   "execution_count": 8,
   "outputs": [],
   "source": [],
   "metadata": {
    "collapsed": false,
    "ExecuteTime": {
     "start_time": "2023-04-29T17:36:53.084235Z",
     "end_time": "2023-04-29T17:36:53.123342Z"
    }
   }
  }
 ],
 "metadata": {
  "kernelspec": {
   "display_name": "Python 3",
   "language": "python",
   "name": "python3"
  },
  "language_info": {
   "codemirror_mode": {
    "name": "ipython",
    "version": 2
   },
   "file_extension": ".py",
   "mimetype": "text/x-python",
   "name": "python",
   "nbconvert_exporter": "python",
   "pygments_lexer": "ipython2",
   "version": "2.7.6"
  }
 },
 "nbformat": 4,
 "nbformat_minor": 0
}
