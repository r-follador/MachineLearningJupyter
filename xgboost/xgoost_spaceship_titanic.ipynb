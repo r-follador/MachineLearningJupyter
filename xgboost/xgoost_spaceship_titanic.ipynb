{
 "cells": [
  {
   "cell_type": "markdown",
   "source": [
    "# Spaceship Titanic\n",
    "[Kaggle Competiton](https://www.kaggle.com/competitions/spaceship-titanic/)\n",
    "\n",
    "\n",
    "    - PassengerId - A unique Id for each passenger. Each Id takes the form gggg_pp where gggg indicates a group the passenger is travelling with and pp is their number within the group. People in a group are often family members, but not always.\n",
    "    - HomePlanet - The planet the passenger departed from, typically their planet of permanent residence.\n",
    "    - CryoSleep - Indicates whether the passenger elected to be put into suspended animation for the duration of the voyage. Passengers in cryosleep are confined to their cabins.\n",
    "    - Cabin - The cabin number where the passenger is staying. Takes the form deck/num/side, where side can be either P for Port or S for Starboard.\n",
    "    - Destination - The planet the passenger will be debarking to.\n",
    "    - Age - The age of the passenger.\n",
    "    - VIP - Whether the passenger has paid for special VIP service during the voyage.\n",
    "    - RoomService, FoodCourt, ShoppingMall, Spa, VRDeck - Amount the passenger has billed at each of the Spaceship Titanic's many luxury amenities.\n",
    "    - Name - The first and last names of the passenger.\n",
    "    - Transported - Whether the passenger was transported to another dimension. This is the target, the column you are trying to predict.\n",
    "\n"
   ],
   "metadata": {
    "collapsed": false
   }
  },
  {
   "cell_type": "code",
   "execution_count": 13,
   "metadata": {
    "collapsed": true,
    "ExecuteTime": {
     "start_time": "2023-04-28T22:19:04.289619Z",
     "end_time": "2023-04-28T22:19:04.574033Z"
    }
   },
   "outputs": [],
   "source": [
    "import seaborn as sns\n",
    "import pandas as pd\n",
    "import numpy as np\n",
    "import matplotlib.pyplot as plt\n",
    "from sklearn.model_selection import train_test_split\n",
    "import xgboost as xgb\n",
    "\n",
    "def convert(dataframe):\n",
    "    dataframe[\"HomePlanet\"]=dataframe[\"HomePlanet\"].astype(\"category\")\n",
    "    dataframe[\"Destination\"]=dataframe[\"Destination\"].astype(\"category\")\n",
    "    dataframe[[\"group\", \"number_within_group\"]]=dataframe[\"PassengerId\"].str.split(\"_\", expand=True)\n",
    "    dataframe[\"group\"]=dataframe[\"group\"].astype(int)\n",
    "    dataframe[\"number_within_group\"]=dataframe[\"number_within_group\"].astype(int)\n",
    "    dataframe[[\"deck\", \"num\", \"side\"]]=dataframe[\"Cabin\"].str.split(\"/\", expand=True)\n",
    "    dataframe[\"deck\"]=dataframe[\"deck\"].astype(\"category\")\n",
    "    dataframe[\"num\"]=dataframe[\"num\"].astype(\"category\")\n",
    "    dataframe[\"side\"]=dataframe[\"side\"].astype(\"category\")\n",
    "    dataframe = dataframe.drop([\"Cabin\", \"PassengerId\", \"Name\"], axis=1) #also remove name\n",
    "    dataframe[\"CryoSleep\"] =dataframe[\"CryoSleep\"].astype(bool)\n",
    "    dataframe[\"VIP\"] =dataframe[\"VIP\"].astype(bool)\n",
    "    dataframe[\"Age\"]=pd.to_numeric(dataframe['Age'], errors='coerce', downcast='integer')\n",
    "    dataframe[\"RoomService\"]=pd.to_numeric(dataframe['RoomService'], errors='coerce', downcast='integer')\n",
    "    dataframe[\"FoodCourt\"]=pd.to_numeric(dataframe['FoodCourt'], errors='coerce', downcast='integer')\n",
    "    dataframe[\"ShoppingMall\"]=pd.to_numeric(dataframe['ShoppingMall'], errors='coerce', downcast='integer')\n",
    "    dataframe[\"Spa\"]=pd.to_numeric(dataframe['Spa'], errors='coerce', downcast='integer')\n",
    "    dataframe[\"VRDeck\"]=pd.to_numeric(dataframe['VRDeck'], errors='coerce', downcast='integer')\n",
    "    return dataframe\n",
    "\n",
    "\n",
    "mnist_train = pd.read_csv(\"/home/rainer/Downloads/ML_datasets/spaceship_titanic_train.csv\")\n",
    "mnist_train = convert(mnist_train)\n",
    "mnist_train[\"Transported\"] =mnist_train[\"Transported\"].astype(bool)\n",
    "\n",
    "X, Y = mnist_train.drop('Transported', axis=1), mnist_train[['Transported']]\n",
    "\n",
    "X_train, X_test, Y_train, Y_test = train_test_split(X, Y, random_state=1)\n",
    "dtrain_reg = xgb.DMatrix(X_train, Y_train, enable_categorical=True)\n",
    "dtest_reg = xgb.DMatrix(X_test, Y_test, enable_categorical=True)"
   ]
  },
  {
   "cell_type": "code",
   "execution_count": 14,
   "outputs": [
    {
     "data": {
      "text/plain": "HomePlanet             category\nCryoSleep                  bool\nDestination            category\nAge                     float64\nVIP                        bool\nRoomService             float64\nFoodCourt               float64\nShoppingMall            float64\nSpa                     float64\nVRDeck                  float64\nTransported                bool\ngroup                     int64\nnumber_within_group       int64\ndeck                   category\nnum                    category\nside                   category\ndtype: object"
     },
     "execution_count": 14,
     "metadata": {},
     "output_type": "execute_result"
    }
   ],
   "source": [
    "mnist_train.dtypes"
   ],
   "metadata": {
    "collapsed": false,
    "ExecuteTime": {
     "start_time": "2023-04-28T22:19:04.578561Z",
     "end_time": "2023-04-28T22:19:04.591948Z"
    }
   }
  },
  {
   "cell_type": "code",
   "execution_count": 15,
   "outputs": [
    {
     "data": {
      "text/plain": "  HomePlanet  CryoSleep  Destination   Age    VIP  RoomService  FoodCourt  \\\n0     Europa      False  TRAPPIST-1e  39.0  False          0.0        0.0   \n1      Earth      False  TRAPPIST-1e  24.0  False        109.0        9.0   \n2     Europa      False  TRAPPIST-1e  58.0   True         43.0     3576.0   \n3     Europa      False  TRAPPIST-1e  33.0  False          0.0     1283.0   \n4      Earth      False  TRAPPIST-1e  16.0  False        303.0       70.0   \n\n   ShoppingMall     Spa  VRDeck  Transported  group  number_within_group deck  \\\n0           0.0     0.0     0.0        False      1                    1    B   \n1          25.0   549.0    44.0         True      2                    1    F   \n2           0.0  6715.0    49.0        False      3                    1    A   \n3         371.0  3329.0   193.0        False      3                    2    A   \n4         151.0   565.0     2.0         True      4                    1    F   \n\n  num side  \n0   0    P  \n1   0    S  \n2   0    S  \n3   0    S  \n4   1    S  ",
      "text/html": "<div>\n<style scoped>\n    .dataframe tbody tr th:only-of-type {\n        vertical-align: middle;\n    }\n\n    .dataframe tbody tr th {\n        vertical-align: top;\n    }\n\n    .dataframe thead th {\n        text-align: right;\n    }\n</style>\n<table border=\"1\" class=\"dataframe\">\n  <thead>\n    <tr style=\"text-align: right;\">\n      <th></th>\n      <th>HomePlanet</th>\n      <th>CryoSleep</th>\n      <th>Destination</th>\n      <th>Age</th>\n      <th>VIP</th>\n      <th>RoomService</th>\n      <th>FoodCourt</th>\n      <th>ShoppingMall</th>\n      <th>Spa</th>\n      <th>VRDeck</th>\n      <th>Transported</th>\n      <th>group</th>\n      <th>number_within_group</th>\n      <th>deck</th>\n      <th>num</th>\n      <th>side</th>\n    </tr>\n  </thead>\n  <tbody>\n    <tr>\n      <th>0</th>\n      <td>Europa</td>\n      <td>False</td>\n      <td>TRAPPIST-1e</td>\n      <td>39.0</td>\n      <td>False</td>\n      <td>0.0</td>\n      <td>0.0</td>\n      <td>0.0</td>\n      <td>0.0</td>\n      <td>0.0</td>\n      <td>False</td>\n      <td>1</td>\n      <td>1</td>\n      <td>B</td>\n      <td>0</td>\n      <td>P</td>\n    </tr>\n    <tr>\n      <th>1</th>\n      <td>Earth</td>\n      <td>False</td>\n      <td>TRAPPIST-1e</td>\n      <td>24.0</td>\n      <td>False</td>\n      <td>109.0</td>\n      <td>9.0</td>\n      <td>25.0</td>\n      <td>549.0</td>\n      <td>44.0</td>\n      <td>True</td>\n      <td>2</td>\n      <td>1</td>\n      <td>F</td>\n      <td>0</td>\n      <td>S</td>\n    </tr>\n    <tr>\n      <th>2</th>\n      <td>Europa</td>\n      <td>False</td>\n      <td>TRAPPIST-1e</td>\n      <td>58.0</td>\n      <td>True</td>\n      <td>43.0</td>\n      <td>3576.0</td>\n      <td>0.0</td>\n      <td>6715.0</td>\n      <td>49.0</td>\n      <td>False</td>\n      <td>3</td>\n      <td>1</td>\n      <td>A</td>\n      <td>0</td>\n      <td>S</td>\n    </tr>\n    <tr>\n      <th>3</th>\n      <td>Europa</td>\n      <td>False</td>\n      <td>TRAPPIST-1e</td>\n      <td>33.0</td>\n      <td>False</td>\n      <td>0.0</td>\n      <td>1283.0</td>\n      <td>371.0</td>\n      <td>3329.0</td>\n      <td>193.0</td>\n      <td>False</td>\n      <td>3</td>\n      <td>2</td>\n      <td>A</td>\n      <td>0</td>\n      <td>S</td>\n    </tr>\n    <tr>\n      <th>4</th>\n      <td>Earth</td>\n      <td>False</td>\n      <td>TRAPPIST-1e</td>\n      <td>16.0</td>\n      <td>False</td>\n      <td>303.0</td>\n      <td>70.0</td>\n      <td>151.0</td>\n      <td>565.0</td>\n      <td>2.0</td>\n      <td>True</td>\n      <td>4</td>\n      <td>1</td>\n      <td>F</td>\n      <td>1</td>\n      <td>S</td>\n    </tr>\n  </tbody>\n</table>\n</div>"
     },
     "execution_count": 15,
     "metadata": {},
     "output_type": "execute_result"
    }
   ],
   "source": [
    "mnist_train.head()"
   ],
   "metadata": {
    "collapsed": false,
    "ExecuteTime": {
     "start_time": "2023-04-28T22:19:04.598215Z",
     "end_time": "2023-04-28T22:19:04.627171Z"
    }
   }
  },
  {
   "cell_type": "code",
   "execution_count": 16,
   "outputs": [
    {
     "name": "stdout",
     "output_type": "stream",
     "text": [
      "[0]\ttrain-logloss:18.40655+0.12457\ttrain-error:0.49962+0.00338\ttest-logloss:18.40644+0.49841\ttest-error:0.49961+0.01353\n",
      "[10]\ttrain-logloss:8.07723+0.22515\ttrain-error:0.21924+0.00611\ttest-logloss:10.62456+0.33069\ttest-error:0.28839+0.00898\n",
      "[20]\ttrain-logloss:5.34904+0.16932\ttrain-error:0.14519+0.00460\ttest-logloss:8.16619+0.32961\ttest-error:0.22166+0.00895\n",
      "[30]\ttrain-logloss:4.64121+0.14257\ttrain-error:0.12598+0.00387\ttest-logloss:7.78194+0.25201\ttest-error:0.21123+0.00684\n",
      "[40]\ttrain-logloss:4.04781+0.15570\ttrain-error:0.10987+0.00423\ttest-logloss:7.59545+0.24109\ttest-error:0.20617+0.00654\n",
      "[50]\ttrain-logloss:3.59994+0.15479\ttrain-error:0.09771+0.00420\ttest-logloss:7.54459+0.23490\ttest-error:0.20479+0.00638\n",
      "[60]\ttrain-logloss:3.24250+0.20374\ttrain-error:0.08801+0.00553\ttest-logloss:7.56719+0.20502\ttest-error:0.20540+0.00556\n",
      "[70]\ttrain-logloss:2.87092+0.21233\ttrain-error:0.07793+0.00576\ttest-logloss:7.60674+0.19701\ttest-error:0.20647+0.00535\n",
      "[80]\ttrain-logloss:2.49369+0.19832\ttrain-error:0.06769+0.00538\ttest-logloss:7.66327+0.21603\ttest-error:0.20801+0.00586\n",
      "[90]\ttrain-logloss:2.23937+0.16821\ttrain-error:0.06078+0.00457\ttest-logloss:7.63503+0.22246\ttest-error:0.20724+0.00604\n",
      "[99]\ttrain-logloss:2.03875+0.14082\ttrain-error:0.05534+0.00382\ttest-logloss:7.60111+0.31472\ttest-error:0.20632+0.00854\n"
     ]
    }
   ],
   "source": [
    "# Define hyperparameters\n",
    "params = {\n",
    "    \"objective\": \"binary:hinge\",\n",
    "    \"tree_method\": \"gpu_hist\"\n",
    "}\n",
    "n=100\n",
    "results = xgb.cv(\n",
    "    params=params,\n",
    "    dtrain=dtrain_reg,\n",
    "    num_boost_round=n,\n",
    "    nfold=5,\n",
    "    verbose_eval=10, # print eval every xth round\n",
    "    metrics=[\"logloss\", \"error\"],\n",
    ")"
   ],
   "metadata": {
    "collapsed": false,
    "ExecuteTime": {
     "start_time": "2023-04-28T22:19:04.626302Z",
     "end_time": "2023-04-28T22:19:08.346013Z"
    }
   }
  },
  {
   "cell_type": "code",
   "execution_count": 17,
   "outputs": [],
   "source": [
    "dfull = xgb.DMatrix(X, Y, enable_categorical=True)\n",
    "model = xgb.train(\n",
    "    params=params,\n",
    "    dtrain=dfull,\n",
    "    num_boost_round=100\n",
    ")\n",
    "mnist_test = pd.read_csv(\"/home/rainer/Downloads/ML_datasets/spaceship_titanic_test.csv\")\n",
    "spaceship_finalPred = convert(mnist_test)\n",
    "spaceship_finalPred_matrix = xgb.DMatrix(spaceship_finalPred, enable_categorical=True)\n",
    "predictions = model.predict(spaceship_finalPred_matrix)\n",
    "predictionsDf = pd.DataFrame(predictions, columns=[\"Transported\"])\n",
    "predictionsDf[\"PassengerId\"]=mnist_test[\"PassengerId\"]"
   ],
   "metadata": {
    "collapsed": false,
    "ExecuteTime": {
     "start_time": "2023-04-28T22:21:46.564392Z",
     "end_time": "2023-04-28T22:21:47.132806Z"
    }
   }
  },
  {
   "cell_type": "code",
   "execution_count": 18,
   "outputs": [
    {
     "data": {
      "text/plain": "     PassengerId  Transported\n0        0013_01         True\n1        0018_01        False\n2        0019_01         True\n3        0021_01         True\n4        0023_01        False\n...          ...          ...\n4272     9266_02         True\n4273     9269_01        False\n4274     9271_01         True\n4275     9273_01         True\n4276     9277_01         True\n\n[4277 rows x 2 columns]",
      "text/html": "<div>\n<style scoped>\n    .dataframe tbody tr th:only-of-type {\n        vertical-align: middle;\n    }\n\n    .dataframe tbody tr th {\n        vertical-align: top;\n    }\n\n    .dataframe thead th {\n        text-align: right;\n    }\n</style>\n<table border=\"1\" class=\"dataframe\">\n  <thead>\n    <tr style=\"text-align: right;\">\n      <th></th>\n      <th>PassengerId</th>\n      <th>Transported</th>\n    </tr>\n  </thead>\n  <tbody>\n    <tr>\n      <th>0</th>\n      <td>0013_01</td>\n      <td>True</td>\n    </tr>\n    <tr>\n      <th>1</th>\n      <td>0018_01</td>\n      <td>False</td>\n    </tr>\n    <tr>\n      <th>2</th>\n      <td>0019_01</td>\n      <td>True</td>\n    </tr>\n    <tr>\n      <th>3</th>\n      <td>0021_01</td>\n      <td>True</td>\n    </tr>\n    <tr>\n      <th>4</th>\n      <td>0023_01</td>\n      <td>False</td>\n    </tr>\n    <tr>\n      <th>...</th>\n      <td>...</td>\n      <td>...</td>\n    </tr>\n    <tr>\n      <th>4272</th>\n      <td>9266_02</td>\n      <td>True</td>\n    </tr>\n    <tr>\n      <th>4273</th>\n      <td>9269_01</td>\n      <td>False</td>\n    </tr>\n    <tr>\n      <th>4274</th>\n      <td>9271_01</td>\n      <td>True</td>\n    </tr>\n    <tr>\n      <th>4275</th>\n      <td>9273_01</td>\n      <td>True</td>\n    </tr>\n    <tr>\n      <th>4276</th>\n      <td>9277_01</td>\n      <td>True</td>\n    </tr>\n  </tbody>\n</table>\n<p>4277 rows × 2 columns</p>\n</div>"
     },
     "execution_count": 18,
     "metadata": {},
     "output_type": "execute_result"
    }
   ],
   "source": [
    "predictionsDf"
   ],
   "metadata": {
    "collapsed": false,
    "ExecuteTime": {
     "start_time": "2023-04-28T22:21:52.225751Z",
     "end_time": "2023-04-28T22:21:52.232876Z"
    }
   }
  },
  {
   "cell_type": "code",
   "execution_count": 19,
   "outputs": [],
   "source": [],
   "metadata": {
    "collapsed": false,
    "ExecuteTime": {
     "start_time": "2023-04-28T22:22:14.458959Z",
     "end_time": "2023-04-28T22:22:14.489011Z"
    }
   }
  }
 ],
 "metadata": {
  "kernelspec": {
   "display_name": "Python 3",
   "language": "python",
   "name": "python3"
  },
  "language_info": {
   "codemirror_mode": {
    "name": "ipython",
    "version": 2
   },
   "file_extension": ".py",
   "mimetype": "text/x-python",
   "name": "python",
   "nbconvert_exporter": "python",
   "pygments_lexer": "ipython2",
   "version": "2.7.6"
  }
 },
 "nbformat": 4,
 "nbformat_minor": 0
}
