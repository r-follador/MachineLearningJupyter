{
 "cells": [
  {
   "cell_type": "markdown",
   "source": [
    "# Spaceship Titanic\n",
    "[Kaggle Competiton](https://www.kaggle.com/competitions/spaceship-titanic/)\n",
    "\n",
    "\n",
    "    - PassengerId - A unique Id for each passenger. Each Id takes the form gggg_pp where gggg indicates a group the passenger is travelling with and pp is their number within the group. People in a group are often family members, but not always.\n",
    "    - HomePlanet - The planet the passenger departed from, typically their planet of permanent residence.\n",
    "    - CryoSleep - Indicates whether the passenger elected to be put into suspended animation for the duration of the voyage. Passengers in cryosleep are confined to their cabins.\n",
    "    - Cabin - The cabin number where the passenger is staying. Takes the form deck/num/side, where side can be either P for Port or S for Starboard.\n",
    "    - Destination - The planet the passenger will be debarking to.\n",
    "    - Age - The age of the passenger.\n",
    "    - VIP - Whether the passenger has paid for special VIP service during the voyage.\n",
    "    - RoomService, FoodCourt, ShoppingMall, Spa, VRDeck - Amount the passenger has billed at each of the Spaceship Titanic's many luxury amenities.\n",
    "    - Name - The first and last names of the passenger.\n",
    "    - Transported - Whether the passenger was transported to another dimension. This is the target, the column you are trying to predict.\n",
    "\n"
   ],
   "metadata": {
    "collapsed": false
   }
  },
  {
   "cell_type": "code",
   "execution_count": 11,
   "metadata": {
    "collapsed": true,
    "ExecuteTime": {
     "start_time": "2023-04-29T07:05:28.556957Z",
     "end_time": "2023-04-29T07:05:28.691424Z"
    }
   },
   "outputs": [],
   "source": [
    "import seaborn as sns\n",
    "import pandas as pd\n",
    "import numpy as np\n",
    "import matplotlib.pyplot as plt\n",
    "from sklearn.model_selection import train_test_split\n",
    "import xgboost as xgb\n",
    "\n",
    "def convert(dataframe):\n",
    "    dataframe[\"HomePlanet\"]=dataframe[\"HomePlanet\"].astype(\"category\")\n",
    "    dataframe[\"Destination\"]=dataframe[\"Destination\"].astype(\"category\")\n",
    "    dataframe[[\"group\", \"number_within_group\"]]=dataframe[\"PassengerId\"].str.split(\"_\", expand=True)\n",
    "    dataframe[\"group\"]=dataframe[\"group\"].astype(int)\n",
    "    dataframe[\"number_within_group\"]=dataframe[\"number_within_group\"].astype(int)\n",
    "    dataframe[[\"deck\", \"num\", \"side\"]]=dataframe[\"Cabin\"].str.split(\"/\", expand=True)\n",
    "    dataframe[\"deck\"]=dataframe[\"deck\"].astype(\"category\")\n",
    "    dataframe[\"num\"]=dataframe[\"num\"].astype(\"category\")\n",
    "    dataframe[\"side\"]=dataframe[\"side\"].astype(\"category\")\n",
    "    dataframe = dataframe.drop([\"Cabin\", \"PassengerId\", \"Name\"], axis=1) #also remove name\n",
    "    dataframe[\"CryoSleep\"] =dataframe[\"CryoSleep\"].astype(bool)\n",
    "    dataframe[\"VIP\"] =dataframe[\"VIP\"].astype(bool)\n",
    "    dataframe[\"Age\"]=pd.to_numeric(dataframe['Age'], errors='coerce', downcast='integer')\n",
    "    dataframe[\"RoomService\"]=pd.to_numeric(dataframe['RoomService'], errors='coerce', downcast='integer')\n",
    "    dataframe[\"FoodCourt\"]=pd.to_numeric(dataframe['FoodCourt'], errors='coerce', downcast='integer')\n",
    "    dataframe[\"ShoppingMall\"]=pd.to_numeric(dataframe['ShoppingMall'], errors='coerce', downcast='integer')\n",
    "    dataframe[\"Spa\"]=pd.to_numeric(dataframe['Spa'], errors='coerce', downcast='integer')\n",
    "    dataframe[\"VRDeck\"]=pd.to_numeric(dataframe['VRDeck'], errors='coerce', downcast='integer')\n",
    "    return dataframe\n",
    "\n",
    "\n",
    "mnist_train = pd.read_csv(\"/home/rainer/Downloads/ML_datasets/spaceship_titanic_train.csv\")\n",
    "mnist_train = convert(mnist_train)\n",
    "mnist_train[\"Transported\"] =mnist_train[\"Transported\"].astype(bool)\n",
    "\n",
    "X, Y = mnist_train.drop('Transported', axis=1), mnist_train[['Transported']]\n",
    "\n",
    "X_train, X_test, Y_train, Y_test = train_test_split(X, Y, random_state=1)\n",
    "dtrain_reg = xgb.DMatrix(X_train, Y_train, enable_categorical=True)\n",
    "dtest_reg = xgb.DMatrix(X_test, Y_test, enable_categorical=True)"
   ]
  },
  {
   "cell_type": "code",
   "execution_count": 12,
   "outputs": [
    {
     "data": {
      "text/plain": "HomePlanet             category\nCryoSleep                  bool\nDestination            category\nAge                     float64\nVIP                        bool\nRoomService             float64\nFoodCourt               float64\nShoppingMall            float64\nSpa                     float64\nVRDeck                  float64\nTransported                bool\ngroup                     int64\nnumber_within_group       int64\ndeck                   category\nnum                    category\nside                   category\ndtype: object"
     },
     "execution_count": 12,
     "metadata": {},
     "output_type": "execute_result"
    }
   ],
   "source": [
    "mnist_train.dtypes"
   ],
   "metadata": {
    "collapsed": false,
    "ExecuteTime": {
     "start_time": "2023-04-29T07:05:28.681263Z",
     "end_time": "2023-04-29T07:05:28.691776Z"
    }
   }
  },
  {
   "cell_type": "code",
   "execution_count": 13,
   "outputs": [
    {
     "data": {
      "text/plain": "  HomePlanet  CryoSleep  Destination   Age    VIP  RoomService  FoodCourt  \\\n0     Europa      False  TRAPPIST-1e  39.0  False          0.0        0.0   \n1      Earth      False  TRAPPIST-1e  24.0  False        109.0        9.0   \n2     Europa      False  TRAPPIST-1e  58.0   True         43.0     3576.0   \n3     Europa      False  TRAPPIST-1e  33.0  False          0.0     1283.0   \n4      Earth      False  TRAPPIST-1e  16.0  False        303.0       70.0   \n\n   ShoppingMall     Spa  VRDeck  Transported  group  number_within_group deck  \\\n0           0.0     0.0     0.0        False      1                    1    B   \n1          25.0   549.0    44.0         True      2                    1    F   \n2           0.0  6715.0    49.0        False      3                    1    A   \n3         371.0  3329.0   193.0        False      3                    2    A   \n4         151.0   565.0     2.0         True      4                    1    F   \n\n  num side  \n0   0    P  \n1   0    S  \n2   0    S  \n3   0    S  \n4   1    S  ",
      "text/html": "<div>\n<style scoped>\n    .dataframe tbody tr th:only-of-type {\n        vertical-align: middle;\n    }\n\n    .dataframe tbody tr th {\n        vertical-align: top;\n    }\n\n    .dataframe thead th {\n        text-align: right;\n    }\n</style>\n<table border=\"1\" class=\"dataframe\">\n  <thead>\n    <tr style=\"text-align: right;\">\n      <th></th>\n      <th>HomePlanet</th>\n      <th>CryoSleep</th>\n      <th>Destination</th>\n      <th>Age</th>\n      <th>VIP</th>\n      <th>RoomService</th>\n      <th>FoodCourt</th>\n      <th>ShoppingMall</th>\n      <th>Spa</th>\n      <th>VRDeck</th>\n      <th>Transported</th>\n      <th>group</th>\n      <th>number_within_group</th>\n      <th>deck</th>\n      <th>num</th>\n      <th>side</th>\n    </tr>\n  </thead>\n  <tbody>\n    <tr>\n      <th>0</th>\n      <td>Europa</td>\n      <td>False</td>\n      <td>TRAPPIST-1e</td>\n      <td>39.0</td>\n      <td>False</td>\n      <td>0.0</td>\n      <td>0.0</td>\n      <td>0.0</td>\n      <td>0.0</td>\n      <td>0.0</td>\n      <td>False</td>\n      <td>1</td>\n      <td>1</td>\n      <td>B</td>\n      <td>0</td>\n      <td>P</td>\n    </tr>\n    <tr>\n      <th>1</th>\n      <td>Earth</td>\n      <td>False</td>\n      <td>TRAPPIST-1e</td>\n      <td>24.0</td>\n      <td>False</td>\n      <td>109.0</td>\n      <td>9.0</td>\n      <td>25.0</td>\n      <td>549.0</td>\n      <td>44.0</td>\n      <td>True</td>\n      <td>2</td>\n      <td>1</td>\n      <td>F</td>\n      <td>0</td>\n      <td>S</td>\n    </tr>\n    <tr>\n      <th>2</th>\n      <td>Europa</td>\n      <td>False</td>\n      <td>TRAPPIST-1e</td>\n      <td>58.0</td>\n      <td>True</td>\n      <td>43.0</td>\n      <td>3576.0</td>\n      <td>0.0</td>\n      <td>6715.0</td>\n      <td>49.0</td>\n      <td>False</td>\n      <td>3</td>\n      <td>1</td>\n      <td>A</td>\n      <td>0</td>\n      <td>S</td>\n    </tr>\n    <tr>\n      <th>3</th>\n      <td>Europa</td>\n      <td>False</td>\n      <td>TRAPPIST-1e</td>\n      <td>33.0</td>\n      <td>False</td>\n      <td>0.0</td>\n      <td>1283.0</td>\n      <td>371.0</td>\n      <td>3329.0</td>\n      <td>193.0</td>\n      <td>False</td>\n      <td>3</td>\n      <td>2</td>\n      <td>A</td>\n      <td>0</td>\n      <td>S</td>\n    </tr>\n    <tr>\n      <th>4</th>\n      <td>Earth</td>\n      <td>False</td>\n      <td>TRAPPIST-1e</td>\n      <td>16.0</td>\n      <td>False</td>\n      <td>303.0</td>\n      <td>70.0</td>\n      <td>151.0</td>\n      <td>565.0</td>\n      <td>2.0</td>\n      <td>True</td>\n      <td>4</td>\n      <td>1</td>\n      <td>F</td>\n      <td>1</td>\n      <td>S</td>\n    </tr>\n  </tbody>\n</table>\n</div>"
     },
     "execution_count": 13,
     "metadata": {},
     "output_type": "execute_result"
    }
   ],
   "source": [
    "mnist_train.head()"
   ],
   "metadata": {
    "collapsed": false,
    "ExecuteTime": {
     "start_time": "2023-04-29T07:05:28.687541Z",
     "end_time": "2023-04-29T07:05:28.790286Z"
    }
   }
  },
  {
   "cell_type": "code",
   "execution_count": 14,
   "outputs": [
    {
     "name": "stdout",
     "output_type": "stream",
     "text": [
      "[0]\ttrain-logloss:18.40655+0.12457\ttrain-error:0.49962+0.00338\ttest-logloss:18.40644+0.49841\ttest-error:0.49961+0.01353\n",
      "[10]\ttrain-logloss:10.31098+0.59411\ttrain-error:0.27988+0.01613\ttest-logloss:10.68653+1.02338\ttest-error:0.29007+0.02778\n",
      "[20]\ttrain-logloss:8.18179+0.09981\ttrain-error:0.22208+0.00271\ttest-logloss:8.61840+0.44211\ttest-error:0.23393+0.01200\n",
      "[30]\ttrain-logloss:8.00376+0.18167\ttrain-error:0.21725+0.00493\ttest-logloss:8.44888+0.43343\ttest-error:0.22933+0.01176\n",
      "[40]\ttrain-logloss:7.55731+0.10204\ttrain-error:0.20513+0.00277\ttest-logloss:8.07588+0.34334\ttest-error:0.21921+0.00932\n",
      "[50]\ttrain-logloss:7.30159+0.09238\ttrain-error:0.19819+0.00251\ttest-logloss:7.85544+0.32932\ttest-error:0.21322+0.00894\n",
      "[60]\ttrain-logloss:7.10238+0.13687\ttrain-error:0.19278+0.00372\ttest-logloss:7.72543+0.31467\ttest-error:0.20969+0.00854\n",
      "[70]\ttrain-logloss:6.93849+0.12068\ttrain-error:0.18833+0.00328\ttest-logloss:7.62937+0.30493\ttest-error:0.20709+0.00828\n",
      "[80]\ttrain-logloss:6.84948+0.10096\ttrain-error:0.18592+0.00274\ttest-logloss:7.66894+0.22273\ttest-error:0.20816+0.00605\n",
      "[90]\ttrain-logloss:6.71102+0.08821\ttrain-error:0.18216+0.00239\ttest-logloss:7.64631+0.16090\ttest-error:0.20755+0.00437\n",
      "[100]\ttrain-logloss:6.67429+0.11895\ttrain-error:0.18116+0.00323\ttest-logloss:7.61807+0.22398\ttest-error:0.20678+0.00608\n",
      "[110]\ttrain-logloss:6.57821+0.10971\ttrain-error:0.17856+0.00298\ttest-logloss:7.60110+0.11636\ttest-error:0.20632+0.00316\n",
      "[120]\ttrain-logloss:6.49486+0.10355\ttrain-error:0.17629+0.00281\ttest-logloss:7.64067+0.18786\ttest-error:0.20739+0.00510\n",
      "[130]\ttrain-logloss:6.41291+0.09020\ttrain-error:0.17407+0.00245\ttest-logloss:7.47676+0.23414\ttest-error:0.20294+0.00636\n",
      "[140]\ttrain-logloss:6.35075+0.11824\ttrain-error:0.17238+0.00321\ttest-logloss:7.43155+0.28924\ttest-error:0.20172+0.00785\n",
      "[150]\ttrain-logloss:6.27728+0.10722\ttrain-error:0.17039+0.00291\ttest-logloss:7.45417+0.26167\ttest-error:0.20233+0.00710\n",
      "[160]\ttrain-logloss:6.21370+0.08434\ttrain-error:0.16866+0.00229\ttest-logloss:7.48243+0.29113\ttest-error:0.20310+0.00790\n",
      "[170]\ttrain-logloss:6.17697+0.09340\ttrain-error:0.16766+0.00254\ttest-logloss:7.51069+0.24608\ttest-error:0.20387+0.00668\n",
      "[180]\ttrain-logloss:6.09219+0.08298\ttrain-error:0.16536+0.00225\ttest-logloss:7.52765+0.27966\ttest-error:0.20433+0.00759\n",
      "[190]\ttrain-logloss:6.03851+0.11979\ttrain-error:0.16391+0.00325\ttest-logloss:7.42024+0.30193\ttest-error:0.20141+0.00820\n",
      "[199]\ttrain-logloss:5.96645+0.09725\ttrain-error:0.16195+0.00264\ttest-logloss:7.50503+0.32138\ttest-error:0.20371+0.00872\n"
     ]
    }
   ],
   "source": [
    "# Define hyperparameters (search by optuna\n",
    "params = {\n",
    "    \"objective\": \"binary:hinge\",\n",
    "    \"tree_method\": \"gpu_hist\",\n",
    "    \"eta\": 0.15190769404863355,\n",
    "    \"max_depth\": 8,\n",
    "    \"min_child_weight\": 9.727738443777076,\n",
    "    \"subsample\": 0.3181317798482385,\n",
    "    \"colsample_bynode\": 0.10230354506932182\n",
    "}\n",
    "boostround=200\n",
    "results = xgb.cv(\n",
    "    params=params,\n",
    "    dtrain=dtrain_reg,\n",
    "    num_boost_round=boostround,\n",
    "    nfold=5,\n",
    "    verbose_eval=10, # print eval every xth round\n",
    "    metrics=[\"logloss\", \"error\"],\n",
    ")"
   ],
   "metadata": {
    "collapsed": false,
    "ExecuteTime": {
     "start_time": "2023-04-29T07:05:28.766194Z",
     "end_time": "2023-04-29T07:05:34.374286Z"
    }
   }
  },
  {
   "cell_type": "code",
   "execution_count": 21,
   "outputs": [],
   "source": [
    "dfull = xgb.DMatrix(X, Y, enable_categorical=True)\n",
    "model = xgb.train(\n",
    "    params=params,\n",
    "    dtrain=dfull,\n",
    "    num_boost_round=boostround\n",
    ")\n",
    "mnist_test = pd.read_csv(\"/home/rainer/Downloads/ML_datasets/spaceship_titanic_test.csv\")\n",
    "spaceship_finalPred = convert(mnist_test)\n",
    "spaceship_finalPred_matrix = xgb.DMatrix(spaceship_finalPred, enable_categorical=True)\n",
    "predictions = model.predict(spaceship_finalPred_matrix)\n",
    "predictionsDf = pd.DataFrame(predictions, columns=[\"Transported\"])\n",
    "predictionsDf[\"PassengerId\"]=mnist_test[\"PassengerId\"]\n",
    "predictionsDf=predictionsDf[[\"PassengerId\",\"Transported\"]]\n",
    "predictionsDf[\"Transported\"]=predictionsDf[\"Transported\"].astype(bool)"
   ],
   "metadata": {
    "collapsed": false,
    "ExecuteTime": {
     "start_time": "2023-04-29T07:11:28.988763Z",
     "end_time": "2023-04-29T07:11:30.016488Z"
    }
   }
  },
  {
   "cell_type": "code",
   "execution_count": 22,
   "outputs": [],
   "source": [
    "predictionsDf"
   ],
   "metadata": {
    "collapsed": false,
    "ExecuteTime": {
     "start_time": "2023-04-29T07:11:32.373918Z",
     "end_time": "2023-04-29T07:11:32.387315Z"
    }
   }
  },
  {
   "cell_type": "code",
   "execution_count": 23,
   "outputs": [],
   "source": [
    "predictionsDf.to_csv('/home/rainer/Downloads/ML_datasets/spaceship_titanic_test_prediction.csv', index=False)"
   ],
   "metadata": {
    "collapsed": false,
    "ExecuteTime": {
     "start_time": "2023-04-29T07:11:34.554900Z",
     "end_time": "2023-04-29T07:11:34.583653Z"
    }
   }
  },
  {
   "cell_type": "code",
   "execution_count": null,
   "outputs": [],
   "source": [],
   "metadata": {
    "collapsed": false
   }
  }
 ],
 "metadata": {
  "kernelspec": {
   "display_name": "Python 3",
   "language": "python",
   "name": "python3"
  },
  "language_info": {
   "codemirror_mode": {
    "name": "ipython",
    "version": 2
   },
   "file_extension": ".py",
   "mimetype": "text/x-python",
   "name": "python",
   "nbconvert_exporter": "python",
   "pygments_lexer": "ipython2",
   "version": "2.7.6"
  }
 },
 "nbformat": 4,
 "nbformat_minor": 0
}
