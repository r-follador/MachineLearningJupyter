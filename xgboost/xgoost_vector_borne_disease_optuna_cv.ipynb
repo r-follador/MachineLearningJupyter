{
 "cells": [
  {
   "cell_type": "markdown",
   "source": [
    "# Vector Borne disease\n",
    "[Kaggle Competition - Playground Series S3E13](https://www.kaggle.com/competitions/playground-series-s3e13/)\n",
    "\n",
    "\n",
    "    - 'id', 'sudden_fever', 'headache', 'mouth_bleed', 'nose_bleed',\n",
    "       'muscle_pain', 'joint_pain', 'vomiting', 'rash', 'diarrhea',\n",
    "       'hypotension', 'pleural_effusion', 'ascites', 'gastro_bleeding',\n",
    "       'swelling', 'nausea', 'chills', 'myalgia', 'digestion_trouble',\n",
    "       'fatigue', 'skin_lesions', 'stomach_pain', 'orbital_pain', 'neck_pain',\n",
    "       'weakness', 'back_pain', 'weight_loss', 'gum_bleed', 'jaundice', 'coma',\n",
    "       'diziness', 'inflammation', 'red_eyes', 'loss_of_appetite',\n",
    "       'urination_loss', 'slow_heart_rate', 'abdominal_pain',\n",
    "       'light_sensitivity', 'yellow_skin', 'yellow_eyes', 'facial_distortion',\n",
    "       'microcephaly', 'rigor', 'bitter_tongue', 'convulsion', 'anemia',\n",
    "       'cocacola_urine', 'hypoglycemia', 'prostraction', 'hyperpyrexia',\n",
    "       'stiff_neck', 'irritability', 'confusion', 'tremor', 'paralysis',\n",
    "       'lymph_swells', 'breathing_restriction', 'toe_inflammation',\n",
    "       'finger_inflammation', 'lips_irritation', 'itchiness', 'ulcers',\n",
    "       'toenail_loss', 'speech_problem', 'bullseye_rash', 'prognosis'\n",
    "\n",
    "Prognosis: 11 categories\n",
    "'Lyme_disease', 'Tungiasis', 'Zika', 'Rift_Valley_fever', 'West_Nile_fever', 'Malaria', 'Chikungunya', 'Plague', 'Dengue', 'Yellow_Fever', 'Japanese_encephalitis'"
   ],
   "metadata": {
    "collapsed": false
   }
  },
  {
   "cell_type": "code",
   "execution_count": 37,
   "metadata": {
    "collapsed": true,
    "ExecuteTime": {
     "start_time": "2023-05-01T09:08:01.142289Z",
     "end_time": "2023-05-01T09:08:01.175064Z"
    }
   },
   "outputs": [],
   "source": [
    "\n",
    "import pandas as pd\n",
    "from sklearn.model_selection import train_test_split\n",
    "import xgboost as xgb\n",
    "import optuna\n",
    "\n",
    "def convert(dataframe):\n",
    "    dataframe.set_index(\"id\", inplace=True)\n",
    "    bool_columns = {col: 'bool' for col in dataframe.columns if col != 'prognosis'}\n",
    "    dataframe = dataframe.astype(bool_columns)\n",
    "    return dataframe\n",
    "\n",
    "data_train = pd.read_csv(\"/home/rainer/Downloads/ML_datasets/vector_borne_disease_train.csv\")\n",
    "data_train = convert(data_train)\n",
    "category_mapping = dict(enumerate(data_train[\"prognosis\"].astype(\"category\").cat.categories))\n",
    "data_train[\"prognosis\"]=data_train[\"prognosis\"].astype(\"category\").cat.codes\n"
   ]
  },
  {
   "cell_type": "code",
   "execution_count": 38,
   "outputs": [
    {
     "data": {
      "text/plain": "{0: 'Chikungunya',\n 1: 'Dengue',\n 2: 'Japanese_encephalitis',\n 3: 'Lyme_disease',\n 4: 'Malaria',\n 5: 'Plague',\n 6: 'Rift_Valley_fever',\n 7: 'Tungiasis',\n 8: 'West_Nile_fever',\n 9: 'Yellow_Fever',\n 10: 'Zika'}"
     },
     "execution_count": 38,
     "metadata": {},
     "output_type": "execute_result"
    }
   ],
   "source": [
    "category_mapping"
   ],
   "metadata": {
    "collapsed": false,
    "ExecuteTime": {
     "start_time": "2023-05-01T09:08:01.163679Z",
     "end_time": "2023-05-01T09:08:01.175622Z"
    }
   }
  },
  {
   "cell_type": "code",
   "execution_count": 39,
   "outputs": [],
   "source": [
    "X, Y = data_train.drop('prognosis', axis=1), data_train[['prognosis']]\n",
    "dtrain = xgb.DMatrix(X, Y, enable_categorical=True)"
   ],
   "metadata": {
    "collapsed": false,
    "ExecuteTime": {
     "start_time": "2023-05-01T09:08:01.167328Z",
     "end_time": "2023-05-01T09:08:01.222337Z"
    }
   }
  },
  {
   "cell_type": "code",
   "execution_count": 40,
   "outputs": [],
   "source": [
    "def objective(trial):\n",
    "    param = {\n",
    "        'tree_method':'gpu_hist',\n",
    "        \"objective\": \"multi:softprob\",\n",
    "        \"num_class\": 11,\n",
    "        'eta': trial.suggest_float('eta', 0.01, 0.5),\n",
    "        'max_depth': trial.suggest_int('max_depth', 3, 10),\n",
    "        'min_child_weight': trial.suggest_float('min_child_weight', 0.01, 10, log=True),\n",
    "        'subsample': trial.suggest_float('subsample', 0.1, 1),\n",
    "        'colsample_bynode': trial.suggest_float('colsample_bynode', 0.1, 1),\n",
    "\n",
    "    }\n",
    "\n",
    "    boostround=200\n",
    "    results = xgb.cv(\n",
    "        params=param,\n",
    "        dtrain=dtrain,\n",
    "        num_boost_round=boostround,\n",
    "        nfold=5,\n",
    "        early_stopping_rounds=50,\n",
    "        verbose_eval=100, # print eval every xth round\n",
    "        metrics=[\"mlogloss\", \"merror\"],\n",
    "    )\n",
    "\n",
    "    return results.iloc[-1][\"test-mlogloss-mean\"]"
   ],
   "metadata": {
    "collapsed": false,
    "ExecuteTime": {
     "start_time": "2023-05-01T09:08:01.198256Z",
     "end_time": "2023-05-01T09:08:01.251473Z"
    }
   }
  },
  {
   "cell_type": "code",
   "execution_count": 41,
   "outputs": [
    {
     "name": "stderr",
     "output_type": "stream",
     "text": [
      "\u001B[32m[I 2023-05-01 09:08:01,208]\u001B[0m A new study created in memory with name: no-name-41b03375-0393-49c9-8ac0-622953340923\u001B[0m\n"
     ]
    },
    {
     "name": "stdout",
     "output_type": "stream",
     "text": [
      "[0]\ttrain-mlogloss:2.11341+0.01130\ttrain-merror:0.65063+0.00612\ttest-mlogloss:2.25450+0.03172\ttest-merror:0.77232+0.02626\n",
      "[77]\ttrain-mlogloss:0.13980+0.00380\ttrain-merror:0.00530+0.00250\ttest-mlogloss:2.49276+0.17452\ttest-merror:0.70440+0.01484\n"
     ]
    },
    {
     "name": "stderr",
     "output_type": "stream",
     "text": [
      "\u001B[32m[I 2023-05-01 09:08:08,583]\u001B[0m Trial 0 finished with value: 2.2688244084510356 and parameters: {'eta': 0.4389590684994202, 'max_depth': 10, 'min_child_weight': 0.15748735169148229, 'subsample': 0.2685655505176055, 'colsample_bynode': 0.17969706900520588}. Best is trial 0 with value: 2.2688244084510356.\u001B[0m\n"
     ]
    },
    {
     "name": "stdout",
     "output_type": "stream",
     "text": [
      "[0]\ttrain-mlogloss:2.17246+0.01487\ttrain-merror:0.60537+0.01318\ttest-mlogloss:2.28576+0.01076\ttest-merror:0.74114+0.03262\n",
      "[92]\ttrain-mlogloss:0.12770+0.00353\ttrain-merror:0.00247+0.00180\ttest-mlogloss:2.39079+0.11215\ttest-merror:0.69449+0.02735\n"
     ]
    },
    {
     "name": "stderr",
     "output_type": "stream",
     "text": [
      "\u001B[32m[I 2023-05-01 09:08:14,665]\u001B[0m Trial 1 finished with value: 2.1526004058203307 and parameters: {'eta': 0.2603878934581738, 'max_depth': 4, 'min_child_weight': 0.6981742627785527, 'subsample': 0.4938587798348948, 'colsample_bynode': 0.9452254687142239}. Best is trial 1 with value: 2.1526004058203307.\u001B[0m\n"
     ]
    },
    {
     "name": "stdout",
     "output_type": "stream",
     "text": [
      "[0]\ttrain-mlogloss:2.10756+0.00283\ttrain-merror:0.47561+0.01709\ttest-mlogloss:2.27041+0.01912\ttest-merror:0.73544+0.03692\n",
      "[76]\ttrain-mlogloss:0.06607+0.00395\ttrain-merror:0.00354+0.00112\ttest-mlogloss:2.27931+0.12284\ttest-merror:0.70299+0.01446\n"
     ]
    },
    {
     "name": "stderr",
     "output_type": "stream",
     "text": [
      "\u001B[32m[I 2023-05-01 09:08:21,982]\u001B[0m Trial 2 finished with value: 2.0215555878584768 and parameters: {'eta': 0.24676597858153995, 'max_depth': 5, 'min_child_weight': 0.05059613638515592, 'subsample': 0.9990412390863939, 'colsample_bynode': 0.269408570380979}. Best is trial 2 with value: 2.0215555878584768.\u001B[0m\n"
     ]
    },
    {
     "name": "stdout",
     "output_type": "stream",
     "text": [
      "[0]\ttrain-mlogloss:2.21543+0.00514\ttrain-merror:0.65700+0.00843\ttest-mlogloss:2.29231+0.00948\ttest-merror:0.76240+0.01610\n",
      "[79]\ttrain-mlogloss:0.34049+0.01018\ttrain-merror:0.03112+0.00428\ttest-mlogloss:2.21354+0.10296\ttest-merror:0.71854+0.03781\n"
     ]
    },
    {
     "name": "stderr",
     "output_type": "stream",
     "text": [
      "\u001B[32m[I 2023-05-01 09:08:25,877]\u001B[0m Trial 3 finished with value: 2.023790832495293 and parameters: {'eta': 0.31849285990202136, 'max_depth': 3, 'min_child_weight': 0.5519990259883112, 'subsample': 0.6709339983683709, 'colsample_bynode': 0.27571546869915226}. Best is trial 2 with value: 2.0215555878584768.\u001B[0m\n"
     ]
    },
    {
     "name": "stdout",
     "output_type": "stream",
     "text": [
      "[0]\ttrain-mlogloss:2.31000+0.01660\ttrain-merror:0.79454+0.03603\ttest-mlogloss:2.35132+0.01241\ttest-merror:0.84860+0.02468\n",
      "[76]\ttrain-mlogloss:0.67979+0.01533\ttrain-merror:0.19979+0.00956\ttest-mlogloss:2.49655+0.17936\ttest-merror:0.71991+0.02164\n"
     ]
    },
    {
     "name": "stderr",
     "output_type": "stream",
     "text": [
      "\u001B[32m[I 2023-05-01 09:08:31,262]\u001B[0m Trial 4 finished with value: 2.212346023722408 and parameters: {'eta': 0.29500568416353823, 'max_depth': 7, 'min_child_weight': 0.26954908508351283, 'subsample': 0.1283639939067118, 'colsample_bynode': 0.7726938914766671}. Best is trial 2 with value: 2.0215555878584768.\u001B[0m\n"
     ]
    },
    {
     "name": "stdout",
     "output_type": "stream",
     "text": [
      "[0]\ttrain-mlogloss:2.33960+0.00572\ttrain-merror:0.79137+0.02063\ttest-mlogloss:2.36256+0.00945\ttest-merror:0.83735+0.02048\n",
      "[80]\ttrain-mlogloss:1.33172+0.01337\ttrain-merror:0.44413+0.01011\ttest-mlogloss:2.13695+0.08818\ttest-merror:0.72275+0.02185\n"
     ]
    },
    {
     "name": "stderr",
     "output_type": "stream",
     "text": [
      "\u001B[32m[I 2023-05-01 09:08:35,395]\u001B[0m Trial 5 finished with value: 2.0286179568006397 and parameters: {'eta': 0.23437051584779223, 'max_depth': 10, 'min_child_weight': 1.6754291321690271, 'subsample': 0.15950802214184004, 'colsample_bynode': 0.14206701514863626}. Best is trial 2 with value: 2.0215555878584768.\u001B[0m\n"
     ]
    },
    {
     "name": "stdout",
     "output_type": "stream",
     "text": [
      "[0]\ttrain-mlogloss:2.27463+0.00395\ttrain-merror:0.42291+0.01857\ttest-mlogloss:2.35225+0.00643\ttest-merror:0.74676+0.03691\n",
      "[100]\ttrain-mlogloss:0.15147+0.00431\ttrain-merror:0.00566+0.00132\ttest-mlogloss:1.96909+0.08282\ttest-merror:0.67186+0.01630\n",
      "[121]\ttrain-mlogloss:0.11185+0.00348\ttrain-merror:0.00389+0.00071\ttest-mlogloss:1.99037+0.09204\ttest-merror:0.67610+0.01369\n"
     ]
    },
    {
     "name": "stderr",
     "output_type": "stream",
     "text": [
      "\u001B[32m[I 2023-05-01 09:08:54,178]\u001B[0m Trial 6 finished with value: 1.9415406770861305 and parameters: {'eta': 0.0914910322739454, 'max_depth': 8, 'min_child_weight': 0.03739957703833229, 'subsample': 0.6888663033392334, 'colsample_bynode': 0.18263013301469433}. Best is trial 6 with value: 1.9415406770861305.\u001B[0m\n"
     ]
    },
    {
     "name": "stdout",
     "output_type": "stream",
     "text": [
      "[0]\ttrain-mlogloss:2.18010+0.00934\ttrain-merror:0.60679+0.01282\ttest-mlogloss:2.29072+0.01966\ttest-merror:0.77231+0.02346\n",
      "[96]\ttrain-mlogloss:0.13264+0.00373\ttrain-merror:0.00389+0.00260\ttest-mlogloss:2.26407+0.13573\ttest-merror:0.69737+0.02072\n"
     ]
    },
    {
     "name": "stderr",
     "output_type": "stream",
     "text": [
      "\u001B[32m[I 2023-05-01 09:09:03,406]\u001B[0m Trial 7 finished with value: 2.108356344359426 and parameters: {'eta': 0.2765240567980167, 'max_depth': 10, 'min_child_weight': 0.3227586506579608, 'subsample': 0.3800581447707966, 'colsample_bynode': 0.14569903499956827}. Best is trial 6 with value: 1.9415406770861305.\u001B[0m\n"
     ]
    },
    {
     "name": "stdout",
     "output_type": "stream",
     "text": [
      "[0]\ttrain-mlogloss:2.17809+0.01488\ttrain-merror:0.69271+0.01015\ttest-mlogloss:2.25544+0.01057\ttest-merror:0.74534+0.02474\n",
      "[64]\ttrain-mlogloss:0.65168+0.01381\ttrain-merror:0.10325+0.00806\ttest-mlogloss:2.26785+0.14259\ttest-merror:0.70292+0.03644\n"
     ]
    },
    {
     "name": "stderr",
     "output_type": "stream",
     "text": [
      "\u001B[32m[I 2023-05-01 09:09:06,692]\u001B[0m Trial 8 finished with value: 2.0067913739508403 and parameters: {'eta': 0.4497990662940526, 'max_depth': 4, 'min_child_weight': 7.485251912377407, 'subsample': 0.826641809587249, 'colsample_bynode': 0.29700800547456657}. Best is trial 6 with value: 1.9415406770861305.\u001B[0m\n"
     ]
    },
    {
     "name": "stdout",
     "output_type": "stream",
     "text": [
      "[0]\ttrain-mlogloss:2.06612+0.01112\ttrain-merror:0.61775+0.01126\ttest-mlogloss:2.21744+0.02559\ttest-merror:0.74537+0.02362\n",
      "[60]\ttrain-mlogloss:0.18943+0.00441\ttrain-merror:0.00743+0.00394\ttest-mlogloss:2.42075+0.08183\ttest-merror:0.70867+0.03383\n"
     ]
    },
    {
     "name": "stderr",
     "output_type": "stream",
     "text": [
      "\u001B[32m[I 2023-05-01 09:09:10,092]\u001B[0m Trial 9 finished with value: 2.063849966561874 and parameters: {'eta': 0.4777663219320083, 'max_depth': 4, 'min_child_weight': 2.2346192748993525, 'subsample': 0.743046929581364, 'colsample_bynode': 0.36426882718599096}. Best is trial 6 with value: 1.9415406770861305.\u001B[0m\n"
     ]
    },
    {
     "name": "stdout",
     "output_type": "stream",
     "text": [
      "[0]\ttrain-mlogloss:2.36204+0.00108\ttrain-merror:0.46110+0.02652\ttest-mlogloss:2.38470+0.00176\ttest-merror:0.76665+0.01802\n",
      "[100]\ttrain-mlogloss:0.79695+0.00600\ttrain-merror:0.02829+0.00370\ttest-mlogloss:1.97093+0.03794\ttest-merror:0.67891+0.00886\n",
      "[164]\ttrain-mlogloss:0.47682+0.00525\ttrain-merror:0.02157+0.00259\ttest-mlogloss:1.94100+0.04675\ttest-merror:0.67608+0.00771\n"
     ]
    },
    {
     "name": "stderr",
     "output_type": "stream",
     "text": [
      "\u001B[32m[I 2023-05-01 09:09:33,177]\u001B[0m Trial 10 finished with value: 1.9582464327999802 and parameters: {'eta': 0.025558768059185888, 'max_depth': 8, 'min_child_weight': 0.013364894446854, 'subsample': 0.5483904098402226, 'colsample_bynode': 0.5214094130277389}. Best is trial 6 with value: 1.9415406770861305.\u001B[0m\n"
     ]
    },
    {
     "name": "stdout",
     "output_type": "stream",
     "text": [
      "[0]\ttrain-mlogloss:2.36903+0.00105\ttrain-merror:0.46500+0.01237\ttest-mlogloss:2.38662+0.00231\ttest-merror:0.75531+0.03164\n",
      "[89]\ttrain-mlogloss:1.02938+0.00647\ttrain-merror:0.03536+0.00297\ttest-mlogloss:2.01097+0.03337\ttest-merror:0.68317+0.02702\n"
     ]
    },
    {
     "name": "stderr",
     "output_type": "stream",
     "text": [
      "\u001B[32m[I 2023-05-01 09:09:45,743]\u001B[0m Trial 11 finished with value: 2.1302741465910535 and parameters: {'eta': 0.02082796670456702, 'max_depth': 8, 'min_child_weight': 0.010748176483470321, 'subsample': 0.5523600011036063, 'colsample_bynode': 0.48325636012402756}. Best is trial 6 with value: 1.9415406770861305.\u001B[0m\n"
     ]
    },
    {
     "name": "stdout",
     "output_type": "stream",
     "text": [
      "[0]\ttrain-mlogloss:2.35697+0.00150\ttrain-merror:0.46535+0.02090\ttest-mlogloss:2.38101+0.00191\ttest-merror:0.74821+0.01352\n",
      "[100]\ttrain-mlogloss:0.69496+0.00554\ttrain-merror:0.02511+0.00235\ttest-mlogloss:1.95756+0.03652\ttest-merror:0.67182+0.01231\n",
      "[153]\ttrain-mlogloss:0.43201+0.00533\ttrain-merror:0.01945+0.00223\ttest-mlogloss:1.94202+0.04340\ttest-merror:0.67608+0.01785\n"
     ]
    },
    {
     "name": "stderr",
     "output_type": "stream",
     "text": [
      "\u001B[32m[I 2023-05-01 09:10:07,338]\u001B[0m Trial 12 finished with value: 1.9555186449827975 and parameters: {'eta': 0.02930186970501415, 'max_depth': 8, 'min_child_weight': 0.014143794698429238, 'subsample': 0.5491092438629137, 'colsample_bynode': 0.5584315401441842}. Best is trial 6 with value: 1.9415406770861305.\u001B[0m\n"
     ]
    },
    {
     "name": "stdout",
     "output_type": "stream",
     "text": [
      "[0]\ttrain-mlogloss:2.25172+0.00517\ttrain-merror:0.39355+0.02220\ttest-mlogloss:2.34566+0.00334\ttest-merror:0.72845+0.01346\n",
      "[62]\ttrain-mlogloss:0.23579+0.00443\ttrain-merror:0.00742+0.00342\ttest-mlogloss:1.97122+0.06403\ttest-merror:0.67754+0.02073\n"
     ]
    },
    {
     "name": "stderr",
     "output_type": "stream",
     "text": [
      "\u001B[32m[I 2023-05-01 09:10:17,102]\u001B[0m Trial 13 finished with value: 2.066610256047316 and parameters: {'eta': 0.09291869706920625, 'max_depth': 8, 'min_child_weight': 0.035449597614784126, 'subsample': 0.6457462497569139, 'colsample_bynode': 0.6540882286883278}. Best is trial 6 with value: 1.9415406770861305.\u001B[0m\n"
     ]
    },
    {
     "name": "stdout",
     "output_type": "stream",
     "text": [
      "[0]\ttrain-mlogloss:2.28000+0.00390\ttrain-merror:0.57567+0.01052\ttest-mlogloss:2.33827+0.00936\ttest-merror:0.73836+0.02376\n",
      "[100]\ttrain-mlogloss:0.23176+0.00636\ttrain-merror:0.01379+0.00283\ttest-mlogloss:2.04251+0.08211\ttest-merror:0.68176+0.02470\n",
      "[119]\ttrain-mlogloss:0.17938+0.00573\ttrain-merror:0.00919+0.00361\ttest-mlogloss:2.06665+0.08693\ttest-merror:0.68036+0.02120\n"
     ]
    },
    {
     "name": "stderr",
     "output_type": "stream",
     "text": [
      "\u001B[32m[I 2023-05-01 09:10:28,617]\u001B[0m Trial 14 finished with value: 2.001576136632594 and parameters: {'eta': 0.11655715248630624, 'max_depth': 6, 'min_child_weight': 0.04620455938888419, 'subsample': 0.39604375055597696, 'colsample_bynode': 0.4129500325179255}. Best is trial 6 with value: 1.9415406770861305.\u001B[0m\n"
     ]
    },
    {
     "name": "stdout",
     "output_type": "stream",
     "text": [
      "[0]\ttrain-mlogloss:2.16360+0.00515\ttrain-merror:0.25035+0.00886\ttest-mlogloss:2.32925+0.00434\ttest-merror:0.75100+0.02560\n",
      "[82]\ttrain-mlogloss:0.05515+0.00139\ttrain-merror:0.00000+0.00000\ttest-mlogloss:2.09732+0.08510\ttest-merror:0.68598+0.03774\n"
     ]
    },
    {
     "name": "stderr",
     "output_type": "stream",
     "text": [
      "\u001B[32m[I 2023-05-01 09:10:44,056]\u001B[0m Trial 15 finished with value: 1.995744984592502 and parameters: {'eta': 0.12319574643422085, 'max_depth': 9, 'min_child_weight': 0.022845520490001218, 'subsample': 0.8322323375204892, 'colsample_bynode': 0.6116336402500673}. Best is trial 6 with value: 1.9415406770861305.\u001B[0m\n"
     ]
    },
    {
     "name": "stdout",
     "output_type": "stream",
     "text": [
      "[0]\ttrain-mlogloss:2.31658+0.00529\ttrain-merror:0.52262+0.02095\ttest-mlogloss:2.36477+0.00316\ttest-merror:0.77222+0.02311\n",
      "[59]\ttrain-mlogloss:0.63890+0.00256\ttrain-merror:0.03465+0.00411\ttest-mlogloss:1.96476+0.05835\ttest-merror:0.69309+0.01843\n"
     ]
    },
    {
     "name": "stderr",
     "output_type": "stream",
     "text": [
      "\u001B[32m[I 2023-05-01 09:10:51,043]\u001B[0m Trial 16 finished with value: 2.154202255751629 and parameters: {'eta': 0.06992128648952493, 'max_depth': 7, 'min_child_weight': 0.09036647286624365, 'subsample': 0.4470281313938236, 'colsample_bynode': 0.42662793451751313}. Best is trial 6 with value: 1.9415406770861305.\u001B[0m\n"
     ]
    },
    {
     "name": "stdout",
     "output_type": "stream",
     "text": [
      "[0]\ttrain-mlogloss:2.17696+0.01002\ttrain-merror:0.46252+0.01055\ttest-mlogloss:2.31415+0.00847\ttest-merror:0.77657+0.01820\n",
      "[100]\ttrain-mlogloss:0.05488+0.00165\ttrain-merror:0.00035+0.00071\ttest-mlogloss:2.19095+0.08813\ttest-merror:0.68176+0.01596\n",
      "[140]\ttrain-mlogloss:0.03122+0.00094\ttrain-merror:0.00000+0.00000\ttest-mlogloss:2.27709+0.09174\ttest-merror:0.68172+0.01897\n"
     ]
    },
    {
     "name": "stderr",
     "output_type": "stream",
     "text": [
      "\u001B[32m[I 2023-05-01 09:11:06,324]\u001B[0m Trial 17 finished with value: 2.163109811139665 and parameters: {'eta': 0.1683802636905317, 'max_depth': 6, 'min_child_weight': 0.020736828756491604, 'subsample': 0.6244454888417212, 'colsample_bynode': 0.5955046560894897}. Best is trial 6 with value: 1.9415406770861305.\u001B[0m\n"
     ]
    },
    {
     "name": "stdout",
     "output_type": "stream",
     "text": [
      "[0]\ttrain-mlogloss:2.35369+0.00373\ttrain-merror:0.62800+0.02021\ttest-mlogloss:2.37416+0.00265\ttest-merror:0.76382+0.02357\n",
      "[100]\ttrain-mlogloss:0.74271+0.00910\ttrain-merror:0.05269+0.00646\ttest-mlogloss:1.93401+0.05505\ttest-merror:0.67889+0.02771\n",
      "[161]\ttrain-mlogloss:0.46357+0.00487\ttrain-merror:0.02758+0.00086\ttest-mlogloss:1.93651+0.06065\ttest-merror:0.68456+0.02245\n"
     ]
    },
    {
     "name": "stderr",
     "output_type": "stream",
     "text": [
      "\u001B[32m[I 2023-05-01 09:11:26,294]\u001B[0m Trial 18 finished with value: 1.9336887434215 and parameters: {'eta': 0.05733809220675978, 'max_depth': 9, 'min_child_weight': 0.010178883622589471, 'subsample': 0.32435182434516074, 'colsample_bynode': 0.11042241872312542}. Best is trial 18 with value: 1.9336887434215.\u001B[0m\n"
     ]
    },
    {
     "name": "stdout",
     "output_type": "stream",
     "text": [
      "[0]\ttrain-mlogloss:2.26683+0.00479\ttrain-merror:0.63295+0.01256\ttest-mlogloss:2.33575+0.01459\ttest-merror:0.77934+0.03235\n",
      "[100]\ttrain-mlogloss:0.23051+0.00786\ttrain-merror:0.01202+0.00343\ttest-mlogloss:2.08895+0.07248\ttest-merror:0.67889+0.02353\n",
      "[142]\ttrain-mlogloss:0.14724+0.00395\ttrain-merror:0.00707+0.00354\ttest-mlogloss:2.14525+0.07872\ttest-merror:0.69307+0.02638\n"
     ]
    },
    {
     "name": "stderr",
     "output_type": "stream",
     "text": [
      "\u001B[32m[I 2023-05-01 09:11:41,377]\u001B[0m Trial 19 finished with value: 2.0794217841052047 and parameters: {'eta': 0.17844612179150127, 'max_depth': 9, 'min_child_weight': 0.07744488255668275, 'subsample': 0.3148584907162645, 'colsample_bynode': 0.11046533136905659}. Best is trial 18 with value: 1.9336887434215.\u001B[0m\n"
     ]
    },
    {
     "name": "stdout",
     "output_type": "stream",
     "text": [
      "[0]\ttrain-mlogloss:2.32402+0.00393\ttrain-merror:0.63154+0.01410\ttest-mlogloss:2.36266+0.00629\ttest-merror:0.77515+0.03245\n",
      "[100]\ttrain-mlogloss:0.52204+0.00701\ttrain-merror:0.03748+0.00232\ttest-mlogloss:1.98286+0.07165\ttest-merror:0.67749+0.02417\n",
      "[152]\ttrain-mlogloss:0.32605+0.00277\ttrain-merror:0.01874+0.00519\ttest-mlogloss:2.02655+0.08649\ttest-merror:0.69587+0.02178\n"
     ]
    },
    {
     "name": "stderr",
     "output_type": "stream",
     "text": [
      "\u001B[32m[I 2023-05-01 09:11:57,619]\u001B[0m Trial 20 finished with value: 1.9853004064444044 and parameters: {'eta': 0.09155913381055727, 'max_depth': 9, 'min_child_weight': 0.02962792997075322, 'subsample': 0.257447830307676, 'colsample_bynode': 0.22380990480646576}. Best is trial 18 with value: 1.9336887434215.\u001B[0m\n"
     ]
    },
    {
     "name": "stdout",
     "output_type": "stream",
     "text": [
      "[0]\ttrain-mlogloss:2.38332+0.00123\ttrain-merror:0.56718+0.01670\ttest-mlogloss:2.39119+0.00119\ttest-merror:0.79492+0.02315\n",
      "[74]\ttrain-mlogloss:1.60782+0.00859\ttrain-merror:0.11209+0.00505\ttest-mlogloss:2.09314+0.02406\ttest-merror:0.70008+0.03115\n"
     ]
    },
    {
     "name": "stderr",
     "output_type": "stream",
     "text": [
      "\u001B[32m[I 2023-05-01 09:12:07,640]\u001B[0m Trial 21 finished with value: 2.2510276036369206 and parameters: {'eta': 0.015738237160354412, 'max_depth': 8, 'min_child_weight': 0.011563213457338822, 'subsample': 0.4901039197551366, 'colsample_bynode': 0.1001844930897046}. Best is trial 18 with value: 1.9336887434215.\u001B[0m\n"
     ]
    },
    {
     "name": "stdout",
     "output_type": "stream",
     "text": [
      "[0]\ttrain-mlogloss:2.34271+0.00187\ttrain-merror:0.56754+0.01557\ttest-mlogloss:2.37177+0.00192\ttest-merror:0.74681+0.01648\n",
      "[73]\ttrain-mlogloss:0.79836+0.00966\ttrain-merror:0.05234+0.00400\ttest-mlogloss:1.94432+0.04464\ttest-merror:0.69020+0.02215\n"
     ]
    },
    {
     "name": "stderr",
     "output_type": "stream",
     "text": [
      "\u001B[32m[I 2023-05-01 09:12:15,651]\u001B[0m Trial 22 finished with value: 2.0726874183720136 and parameters: {'eta': 0.054704344498453, 'max_depth': 7, 'min_child_weight': 0.019747578780539492, 'subsample': 0.3662786999414481, 'colsample_bynode': 0.31593765897205295}. Best is trial 18 with value: 1.9336887434215.\u001B[0m\n"
     ]
    },
    {
     "name": "stdout",
     "output_type": "stream",
     "text": [
      "[0]\ttrain-mlogloss:2.32693+0.00215\ttrain-merror:0.47738+0.01375\ttest-mlogloss:2.37425+0.00297\ttest-merror:0.76097+0.01621\n",
      "[67]\ttrain-mlogloss:0.57443+0.00698\ttrain-merror:0.02369+0.00364\ttest-mlogloss:1.95908+0.03574\ttest-merror:0.69024+0.02296\n"
     ]
    },
    {
     "name": "stderr",
     "output_type": "stream",
     "text": [
      "\u001B[32m[I 2023-05-01 09:12:26,236]\u001B[0m Trial 23 finished with value: 2.100147706163643 and parameters: {'eta': 0.057469951729126625, 'max_depth': 9, 'min_child_weight': 0.01067103082773728, 'subsample': 0.5685153040688392, 'colsample_bynode': 0.20273407289827733}. Best is trial 18 with value: 1.9336887434215.\u001B[0m\n"
     ]
    },
    {
     "name": "stdout",
     "output_type": "stream",
     "text": [
      "[0]\ttrain-mlogloss:2.38591+0.00100\ttrain-merror:0.54030+0.01845\ttest-mlogloss:2.39300+0.00096\ttest-merror:0.78225+0.03405\n",
      "[64]\ttrain-mlogloss:1.77712+0.00477\ttrain-merror:0.10184+0.00403\ttest-mlogloss:2.16168+0.01861\ttest-merror:0.70009+0.02328\n"
     ]
    },
    {
     "name": "stderr",
     "output_type": "stream",
     "text": [
      "\u001B[32m[I 2023-05-01 09:12:34,659]\u001B[0m Trial 24 finished with value: 2.317725570417882 and parameters: {'eta': 0.011202290391990971, 'max_depth': 8, 'min_child_weight': 0.02009877355643595, 'subsample': 0.4524078357357963, 'colsample_bynode': 0.2334453751700451}. Best is trial 18 with value: 1.9336887434215.\u001B[0m\n"
     ]
    },
    {
     "name": "stdout",
     "output_type": "stream",
     "text": [
      "[0]\ttrain-mlogloss:2.28904+0.00344\ttrain-merror:0.63295+0.01053\ttest-mlogloss:2.32684+0.00851\ttest-merror:0.74681+0.02428\n",
      "[74]\ttrain-mlogloss:0.49468+0.00470\ttrain-merror:0.04809+0.00423\ttest-mlogloss:2.04203+0.07344\ttest-merror:0.69165+0.00587\n"
     ]
    },
    {
     "name": "stderr",
     "output_type": "stream",
     "text": [
      "\u001B[32m[I 2023-05-01 09:12:42,228]\u001B[0m Trial 25 finished with value: 1.9992218945192897 and parameters: {'eta': 0.1368534408900727, 'max_depth': 9, 'min_child_weight': 0.05393627271443205, 'subsample': 0.23451922052241325, 'colsample_bynode': 0.36029318182170644}. Best is trial 18 with value: 1.9336887434215.\u001B[0m\n"
     ]
    },
    {
     "name": "stdout",
     "output_type": "stream",
     "text": [
      "[0]\ttrain-mlogloss:2.32096+0.00184\ttrain-merror:0.44767+0.01800\ttest-mlogloss:2.37060+0.00484\ttest-merror:0.75808+0.03307\n",
      "[100]\ttrain-mlogloss:0.32037+0.00665\ttrain-merror:0.02122+0.00249\ttest-mlogloss:1.93761+0.05070\ttest-merror:0.67897+0.01547\n",
      "[141]\ttrain-mlogloss:0.19194+0.00538\ttrain-merror:0.01025+0.00259\ttest-mlogloss:1.96639+0.05696\ttest-merror:0.68746+0.01654\n"
     ]
    },
    {
     "name": "stderr",
     "output_type": "stream",
     "text": [
      "\u001B[32m[I 2023-05-01 09:13:00,775]\u001B[0m Trial 26 finished with value: 1.9339892945021924 and parameters: {'eta': 0.059379035039383715, 'max_depth': 7, 'min_child_weight': 0.026586686377606066, 'subsample': 0.7064152946732277, 'colsample_bynode': 0.19059647103102104}. Best is trial 18 with value: 1.9336887434215.\u001B[0m\n"
     ]
    },
    {
     "name": "stdout",
     "output_type": "stream",
     "text": [
      "[0]\ttrain-mlogloss:2.31006+0.00339\ttrain-merror:0.50459+0.01328\ttest-mlogloss:2.36194+0.00668\ttest-merror:0.76098+0.01725\n",
      "[100]\ttrain-mlogloss:0.29652+0.00841\ttrain-merror:0.02192+0.00327\ttest-mlogloss:1.96272+0.08713\ttest-merror:0.67751+0.02333\n",
      "[104]\ttrain-mlogloss:0.28021+0.00804\ttrain-merror:0.02192+0.00327\ttest-mlogloss:1.96719+0.08819\ttest-merror:0.67471+0.02277\n"
     ]
    },
    {
     "name": "stderr",
     "output_type": "stream",
     "text": [
      "\u001B[32m[I 2023-05-01 09:13:11,654]\u001B[0m Trial 27 finished with value: 1.9401274022582335 and parameters: {'eta': 0.07777650301307532, 'max_depth': 6, 'min_child_weight': 0.034309582990917395, 'subsample': 0.6953424477458449, 'colsample_bynode': 0.18440842132536342}. Best is trial 18 with value: 1.9336887434215.\u001B[0m\n"
     ]
    },
    {
     "name": "stdout",
     "output_type": "stream",
     "text": [
      "[0]\ttrain-mlogloss:2.34535+0.00264\ttrain-merror:0.59795+0.01447\ttest-mlogloss:2.37122+0.00217\ttest-merror:0.76529+0.02731\n",
      "[78]\ttrain-mlogloss:0.80051+0.01881\ttrain-merror:0.07991+0.00488\ttest-mlogloss:1.92692+0.06208\ttest-merror:0.69304+0.02430\n"
     ]
    },
    {
     "name": "stderr",
     "output_type": "stream",
     "text": [
      "\u001B[32m[I 2023-05-01 09:13:17,817]\u001B[0m Trial 28 finished with value: 2.0172325113236207 and parameters: {'eta': 0.06660480949312643, 'max_depth': 5, 'min_child_weight': 0.09730338906774184, 'subsample': 0.7668924482723838, 'colsample_bynode': 0.10903906373054661}. Best is trial 18 with value: 1.9336887434215.\u001B[0m\n"
     ]
    },
    {
     "name": "stdout",
     "output_type": "stream",
     "text": [
      "[0]\ttrain-mlogloss:2.29790+0.00701\ttrain-merror:0.68882+0.01822\ttest-mlogloss:2.34991+0.00543\ttest-merror:0.79493+0.02356\n",
      "[100]\ttrain-mlogloss:0.46470+0.00859\ttrain-merror:0.05339+0.00465\ttest-mlogloss:2.10308+0.10060\ttest-merror:0.71565+0.01828\n",
      "[148]\ttrain-mlogloss:0.30535+0.00730\ttrain-merror:0.02546+0.00264\ttest-mlogloss:2.17633+0.11772\ttest-merror:0.71145+0.01238\n"
     ]
    },
    {
     "name": "stderr",
     "output_type": "stream",
     "text": [
      "\u001B[32m[I 2023-05-01 09:13:28,962]\u001B[0m Trial 29 finished with value: 2.1030128095100107 and parameters: {'eta': 0.16124353329699453, 'max_depth': 6, 'min_child_weight': 0.13742996535504462, 'subsample': 0.20945005479205236, 'colsample_bynode': 0.19157565895040832}. Best is trial 18 with value: 1.9336887434215.\u001B[0m\n"
     ]
    },
    {
     "name": "stdout",
     "output_type": "stream",
     "text": [
      "[0]\ttrain-mlogloss:2.26875+0.00766\ttrain-merror:0.68174+0.01449\ttest-mlogloss:2.32150+0.01111\ttest-merror:0.77649+0.01804\n",
      "[79]\ttrain-mlogloss:0.35232+0.00641\ttrain-merror:0.03395+0.00492\ttest-mlogloss:2.12658+0.16687\ttest-merror:0.68880+0.01592\n"
     ]
    },
    {
     "name": "stderr",
     "output_type": "stream",
     "text": [
      "\u001B[32m[I 2023-05-01 09:13:35,427]\u001B[0m Trial 30 finished with value: 2.0001559290473407 and parameters: {'eta': 0.20519932816285663, 'max_depth': 5, 'min_child_weight': 0.028543482405633598, 'subsample': 0.2730681378686986, 'colsample_bynode': 0.2491551585615024}. Best is trial 18 with value: 1.9336887434215.\u001B[0m\n"
     ]
    },
    {
     "name": "stdout",
     "output_type": "stream",
     "text": [
      "[0]\ttrain-mlogloss:2.27533+0.00745\ttrain-merror:0.45366+0.02817\ttest-mlogloss:2.35388+0.00664\ttest-merror:0.77648+0.03011\n",
      "[82]\ttrain-mlogloss:0.20817+0.00647\ttrain-merror:0.01344+0.00507\ttest-mlogloss:1.96140+0.07975\ttest-merror:0.67038+0.01808\n"
     ]
    },
    {
     "name": "stderr",
     "output_type": "stream",
     "text": [
      "\u001B[32m[I 2023-05-01 09:13:47,222]\u001B[0m Trial 31 finished with value: 1.9542240752809807 and parameters: {'eta': 0.09920261295000068, 'max_depth': 7, 'min_child_weight': 0.03948479094102585, 'subsample': 0.7077839189555737, 'colsample_bynode': 0.18672326740475736}. Best is trial 18 with value: 1.9336887434215.\u001B[0m\n"
     ]
    },
    {
     "name": "stdout",
     "output_type": "stream",
     "text": [
      "[0]\ttrain-mlogloss:2.31808+0.00278\ttrain-merror:0.54030+0.01704\ttest-mlogloss:2.36134+0.00485\ttest-merror:0.75816+0.02644\n",
      "[74]\ttrain-mlogloss:0.48983+0.01002\ttrain-merror:0.02935+0.00327\ttest-mlogloss:1.93513+0.08478\ttest-merror:0.68735+0.01955\n"
     ]
    },
    {
     "name": "stderr",
     "output_type": "stream",
     "text": [
      "\u001B[32m[I 2023-05-01 09:13:55,827]\u001B[0m Trial 32 finished with value: 2.0002312088614635 and parameters: {'eta': 0.08067249894279822, 'max_depth': 6, 'min_child_weight': 0.018227154290533662, 'subsample': 0.6316166791713195, 'colsample_bynode': 0.15164350960839895}. Best is trial 18 with value: 1.9336887434215.\u001B[0m\n"
     ]
    },
    {
     "name": "stdout",
     "output_type": "stream",
     "text": [
      "[0]\ttrain-mlogloss:2.22321+0.00417\ttrain-merror:0.44767+0.01800\ttest-mlogloss:2.33778+0.01109\ttest-merror:0.75808+0.03307\n",
      "[79]\ttrain-mlogloss:0.12653+0.00390\ttrain-merror:0.00530+0.00158\ttest-mlogloss:2.03613+0.08995\ttest-merror:0.69444+0.02850\n"
     ]
    },
    {
     "name": "stderr",
     "output_type": "stream",
     "text": [
      "\u001B[32m[I 2023-05-01 09:14:07,017]\u001B[0m Trial 33 finished with value: 1.9611492429455908 and parameters: {'eta': 0.13725424988946922, 'max_depth': 7, 'min_child_weight': 0.060789358981768654, 'subsample': 0.706524007939575, 'colsample_bynode': 0.19389155915216189}. Best is trial 18 with value: 1.9336887434215.\u001B[0m\n"
     ]
    },
    {
     "name": "stdout",
     "output_type": "stream",
     "text": [
      "[0]\ttrain-mlogloss:2.30911+0.00224\ttrain-merror:0.31258+0.01928\ttest-mlogloss:2.36322+0.00478\ttest-merror:0.72131+0.01949\n",
      "[100]\ttrain-mlogloss:0.22994+0.00373\ttrain-merror:0.00636+0.00141\ttest-mlogloss:1.94014+0.05986\ttest-merror:0.67184+0.01481\n",
      "[178]\ttrain-mlogloss:0.08980+0.00201\ttrain-merror:0.00141+0.00132\ttest-mlogloss:1.98288+0.07586\ttest-merror:0.67323+0.01823\n"
     ]
    },
    {
     "name": "stderr",
     "output_type": "stream",
     "text": [
      "\u001B[32m[I 2023-05-01 09:14:41,093]\u001B[0m Trial 34 finished with value: 1.9496005129139795 and parameters: {'eta': 0.05152868187281348, 'max_depth': 10, 'min_child_weight': 0.03933688520102666, 'subsample': 0.7831308702607745, 'colsample_bynode': 0.27440744152996677}. Best is trial 18 with value: 1.9336887434215.\u001B[0m\n"
     ]
    },
    {
     "name": "stdout",
     "output_type": "stream",
     "text": [
      "[0]\ttrain-mlogloss:2.30166+0.00327\ttrain-merror:0.56330+0.00773\ttest-mlogloss:2.35098+0.00488\ttest-merror:0.74539+0.01754\n",
      "[97]\ttrain-mlogloss:0.31702+0.00952\ttrain-merror:0.02510+0.00341\ttest-mlogloss:2.00186+0.10263\ttest-merror:0.68453+0.04058\n"
     ]
    },
    {
     "name": "stderr",
     "output_type": "stream",
     "text": [
      "\u001B[32m[I 2023-05-01 09:14:48,501]\u001B[0m Trial 35 finished with value: 1.9478712385691328 and parameters: {'eta': 0.10068721705537755, 'max_depth': 5, 'min_child_weight': 0.028935405357575765, 'subsample': 0.5986172832846088, 'colsample_bynode': 0.23727133181051524}. Best is trial 18 with value: 1.9336887434215.\u001B[0m\n"
     ]
    },
    {
     "name": "stdout",
     "output_type": "stream",
     "text": [
      "[0]\ttrain-mlogloss:2.34514+0.00115\ttrain-merror:0.47101+0.01496\ttest-mlogloss:2.38050+0.00123\ttest-merror:0.77369+0.01789\n",
      "[89]\ttrain-mlogloss:0.58053+0.00965\ttrain-merror:0.02970+0.00281\ttest-mlogloss:1.93184+0.04809\ttest-merror:0.67609+0.01988\n"
     ]
    },
    {
     "name": "stderr",
     "output_type": "stream",
     "text": [
      "\u001B[32m[I 2023-05-01 09:14:59,357]\u001B[0m Trial 36 finished with value: 2.0176992847701314 and parameters: {'eta': 0.04474531558044407, 'max_depth': 7, 'min_child_weight': 0.06668652040844032, 'subsample': 0.6854154359668776, 'colsample_bynode': 0.17032311589312377}. Best is trial 18 with value: 1.9336887434215.\u001B[0m\n"
     ]
    },
    {
     "name": "stdout",
     "output_type": "stream",
     "text": [
      "[0]\ttrain-mlogloss:2.34978+0.00226\ttrain-merror:0.66938+0.01093\ttest-mlogloss:2.36904+0.00639\ttest-merror:0.76665+0.03244\n",
      "[100]\ttrain-mlogloss:0.98407+0.02005\ttrain-merror:0.18918+0.00446\ttest-mlogloss:1.94536+0.07657\ttest-merror:0.68878+0.01750\n",
      "[129]\ttrain-mlogloss:0.83383+0.02008\ttrain-merror:0.14108+0.01000\ttest-mlogloss:1.96846+0.08793\ttest-merror:0.68594+0.02776\n"
     ]
    },
    {
     "name": "stderr",
     "output_type": "stream",
     "text": [
      "\u001B[32m[I 2023-05-01 09:15:05,031]\u001B[0m Trial 37 finished with value: 1.9302794849017606 and parameters: {'eta': 0.0776847248273648, 'max_depth': 3, 'min_child_weight': 0.014860795167558994, 'subsample': 0.6613797187360838, 'colsample_bynode': 0.30977563222349686}. Best is trial 37 with value: 1.9302794849017606.\u001B[0m\n"
     ]
    },
    {
     "name": "stdout",
     "output_type": "stream",
     "text": [
      "[0]\ttrain-mlogloss:2.31712+0.00259\ttrain-merror:0.65912+0.01451\ttest-mlogloss:2.34267+0.00399\ttest-merror:0.74399+0.02385\n",
      "[79]\ttrain-mlogloss:0.83484+0.01542\ttrain-merror:0.13720+0.00534\ttest-mlogloss:1.97721+0.07729\ttest-merror:0.68462+0.02886\n"
     ]
    },
    {
     "name": "stderr",
     "output_type": "stream",
     "text": [
      "\u001B[32m[I 2023-05-01 09:15:08,367]\u001B[0m Trial 38 finished with value: 1.9613717453899042 and parameters: {'eta': 0.1206640101631996, 'max_depth': 3, 'min_child_weight': 0.014804914401156555, 'subsample': 0.902509320341981, 'colsample_bynode': 0.3134163375736744}. Best is trial 37 with value: 1.9302794849017606.\u001B[0m\n"
     ]
    },
    {
     "name": "stdout",
     "output_type": "stream",
     "text": [
      "[0]\ttrain-mlogloss:2.37853+0.00087\ttrain-merror:0.71676+0.00981\ttest-mlogloss:2.38624+0.00073\ttest-merror:0.79917+0.03034\n",
      "[97]\ttrain-mlogloss:1.46633+0.01389\ttrain-merror:0.36244+0.01030\ttest-mlogloss:1.94677+0.04629\ttest-merror:0.68452+0.03021\n"
     ]
    },
    {
     "name": "stderr",
     "output_type": "stream",
     "text": [
      "\u001B[32m[I 2023-05-01 09:15:12,171]\u001B[0m Trial 39 finished with value: 2.044779949138934 and parameters: {'eta': 0.042643544686997346, 'max_depth': 3, 'min_child_weight': 0.010174910053036394, 'subsample': 0.6002020228770535, 'colsample_bynode': 0.1399294499321267}. Best is trial 37 with value: 1.9302794849017606.\u001B[0m\n"
     ]
    },
    {
     "name": "stdout",
     "output_type": "stream",
     "text": [
      "[0]\ttrain-mlogloss:2.33880+0.00319\ttrain-merror:0.61174+0.01155\ttest-mlogloss:2.36969+0.00397\ttest-merror:0.77369+0.01000\n",
      "[100]\ttrain-mlogloss:0.66865+0.01728\ttrain-merror:0.06895+0.00740\ttest-mlogloss:1.95074+0.07708\ttest-merror:0.68315+0.02240\n",
      "[182]\ttrain-mlogloss:0.33838+0.01275\ttrain-merror:0.02440+0.00342\ttest-mlogloss:2.03660+0.10053\ttest-merror:0.69587+0.02032\n"
     ]
    },
    {
     "name": "stderr",
     "output_type": "stream",
     "text": [
      "\u001B[32m[I 2023-05-01 09:15:22,505]\u001B[0m Trial 40 finished with value: 1.9819100806423162 and parameters: {'eta': 0.07254581353176247, 'max_depth': 4, 'min_child_weight': 0.015574905864253743, 'subsample': 0.6523956226260766, 'colsample_bynode': 0.26871739323357424}. Best is trial 37 with value: 1.9302794849017606.\u001B[0m\n"
     ]
    },
    {
     "name": "stdout",
     "output_type": "stream",
     "text": [
      "[0]\ttrain-mlogloss:2.28175+0.00206\ttrain-merror:0.39710+0.01301\ttest-mlogloss:2.35768+0.00741\ttest-merror:0.75379+0.03708\n",
      "[75]\ttrain-mlogloss:0.22928+0.00386\ttrain-merror:0.00848+0.00304\ttest-mlogloss:1.94233+0.05803\ttest-merror:0.67323+0.01587\n"
     ]
    },
    {
     "name": "stderr",
     "output_type": "stream",
     "text": [
      "\u001B[32m[I 2023-05-01 09:15:35,860]\u001B[0m Trial 41 finished with value: 1.9892765910609262 and parameters: {'eta': 0.08159860293132104, 'max_depth': 10, 'min_child_weight': 0.04930533760270544, 'subsample': 0.738570481240676, 'colsample_bynode': 0.15996516318983406}. Best is trial 37 with value: 1.9302794849017606.\u001B[0m\n"
     ]
    },
    {
     "name": "stdout",
     "output_type": "stream",
     "text": [
      "[0]\ttrain-mlogloss:2.36978+0.00093\ttrain-merror:0.66407+0.01534\ttest-mlogloss:2.38094+0.00252\ttest-merror:0.77370+0.03437\n",
      "[100]\ttrain-mlogloss:1.28869+0.01343\ttrain-merror:0.29208+0.00765\ttest-mlogloss:1.93221+0.05807\ttest-merror:0.68596+0.01666\n",
      "[119]\ttrain-mlogloss:1.19721+0.01435\ttrain-merror:0.25672+0.00799\ttest-mlogloss:1.92729+0.06317\ttest-merror:0.68314+0.01121\n"
     ]
    },
    {
     "name": "stderr",
     "output_type": "stream",
     "text": [
      "\u001B[32m[I 2023-05-01 09:15:40,683]\u001B[0m Trial 42 finished with value: 1.9591469740923582 and parameters: {'eta': 0.04835927080955284, 'max_depth': 3, 'min_child_weight': 0.025693912227142613, 'subsample': 0.684491700784538, 'colsample_bynode': 0.22122607599736926}. Best is trial 37 with value: 1.9302794849017606.\u001B[0m\n"
     ]
    },
    {
     "name": "stdout",
     "output_type": "stream",
     "text": [
      "[0]\ttrain-mlogloss:2.26989+0.00643\ttrain-merror:0.45931+0.03560\ttest-mlogloss:2.34891+0.00507\ttest-merror:0.74535+0.02245\n",
      "[63]\ttrain-mlogloss:0.29312+0.00665\ttrain-merror:0.01945+0.00315\ttest-mlogloss:1.95488+0.08051\ttest-merror:0.68736+0.03486\n"
     ]
    },
    {
     "name": "stderr",
     "output_type": "stream",
     "text": [
      "\u001B[32m[I 2023-05-01 09:15:50,257]\u001B[0m Trial 43 finished with value: 2.058026592213604 and parameters: {'eta': 0.1075605617577991, 'max_depth': 8, 'min_child_weight': 0.01744946095973558, 'subsample': 0.660877762977123, 'colsample_bynode': 0.13714215034285182}. Best is trial 37 with value: 1.9302794849017606.\u001B[0m\n"
     ]
    },
    {
     "name": "stdout",
     "output_type": "stream",
     "text": [
      "[0]\ttrain-mlogloss:2.17903+0.00740\ttrain-merror:0.35042+0.00691\ttest-mlogloss:2.32216+0.01129\ttest-merror:0.71008+0.02683\n",
      "[88]\ttrain-mlogloss:0.06413+0.00171\ttrain-merror:0.00000+0.00000\ttest-mlogloss:2.07402+0.07319\ttest-merror:0.67898+0.02558\n"
     ]
    },
    {
     "name": "stderr",
     "output_type": "stream",
     "text": [
      "\u001B[32m[I 2023-05-01 09:16:04,197]\u001B[0m Trial 44 finished with value: 1.9844550121782867 and parameters: {'eta': 0.13872773047523299, 'max_depth': 9, 'min_child_weight': 0.034299671705030434, 'subsample': 0.7279961041330273, 'colsample_bynode': 0.28210718809673774}. Best is trial 37 with value: 1.9302794849017606.\u001B[0m\n"
     ]
    },
    {
     "name": "stdout",
     "output_type": "stream",
     "text": [
      "[0]\ttrain-mlogloss:2.36486+0.00171\ttrain-merror:0.54737+0.01845\ttest-mlogloss:2.38150+0.00208\ttest-merror:0.76096+0.04284\n",
      "[86]\ttrain-mlogloss:1.02646+0.01017\ttrain-merror:0.08133+0.00862\ttest-mlogloss:1.95416+0.03531\ttest-merror:0.69585+0.01803\n"
     ]
    },
    {
     "name": "stderr",
     "output_type": "stream",
     "text": [
      "\u001B[32m[I 2023-05-01 09:16:12,278]\u001B[0m Trial 45 finished with value: 2.0729135114190913 and parameters: {'eta': 0.032518245250620546, 'max_depth': 6, 'min_child_weight': 0.014216641241015498, 'subsample': 0.5175610964942143, 'colsample_bynode': 0.17804177104386446}. Best is trial 37 with value: 1.9302794849017606.\u001B[0m\n"
     ]
    },
    {
     "name": "stdout",
     "output_type": "stream",
     "text": [
      "[0]\ttrain-mlogloss:2.32997+0.00273\ttrain-merror:0.62057+0.01286\ttest-mlogloss:2.36062+0.00219\ttest-merror:0.74258+0.02020\n",
      "[79]\ttrain-mlogloss:0.72871+0.01497\ttrain-merror:0.08522+0.00635\ttest-mlogloss:1.95193+0.06316\ttest-merror:0.68460+0.01487\n"
     ]
    },
    {
     "name": "stderr",
     "output_type": "stream",
     "text": [
      "\u001B[32m[I 2023-05-01 09:16:16,713]\u001B[0m Trial 46 finished with value: 1.974206617788625 and parameters: {'eta': 0.08195284834002672, 'max_depth': 4, 'min_child_weight': 0.024492283223137574, 'subsample': 0.583794780863048, 'colsample_bynode': 0.3283142066613486}. Best is trial 37 with value: 1.9302794849017606.\u001B[0m\n"
     ]
    },
    {
     "name": "stdout",
     "output_type": "stream",
     "text": [
      "[0]\ttrain-mlogloss:1.98062+0.01470\ttrain-merror:0.44200+0.01949\ttest-mlogloss:2.24400+0.02187\ttest-merror:0.72988+0.01759\n",
      "[68]\ttrain-mlogloss:0.03721+0.00087\ttrain-merror:0.00000+0.00000\ttest-mlogloss:2.28444+0.08095\ttest-merror:0.70445+0.02169\n"
     ]
    },
    {
     "name": "stderr",
     "output_type": "stream",
     "text": [
      "\u001B[32m[I 2023-05-01 09:16:25,464]\u001B[0m Trial 47 finished with value: 2.0721575904489096 and parameters: {'eta': 0.3375370037167603, 'max_depth': 8, 'min_child_weight': 0.0428303771472369, 'subsample': 0.6272977605703717, 'colsample_bynode': 0.2264615577177393}. Best is trial 37 with value: 1.9302794849017606.\u001B[0m\n"
     ]
    },
    {
     "name": "stdout",
     "output_type": "stream",
     "text": [
      "[0]\ttrain-mlogloss:2.35022+0.00211\ttrain-merror:0.43140+0.01427\ttest-mlogloss:2.37968+0.00280\ttest-merror:0.75528+0.03722\n",
      "[100]\ttrain-mlogloss:0.59764+0.00734\ttrain-merror:0.02864+0.00324\ttest-mlogloss:1.94929+0.04866\ttest-merror:0.66760+0.02592\n",
      "[132]\ttrain-mlogloss:0.43314+0.00691\ttrain-merror:0.02369+0.00363\ttest-mlogloss:1.94596+0.05685\ttest-merror:0.67467+0.02549\n"
     ]
    },
    {
     "name": "stderr",
     "output_type": "stream",
     "text": [
      "\u001B[32m[I 2023-05-01 09:16:42,031]\u001B[0m Trial 48 finished with value: 1.959669905895597 and parameters: {'eta': 0.03481821211542617, 'max_depth': 7, 'min_child_weight': 0.013910553948361028, 'subsample': 0.6773410328178985, 'colsample_bynode': 0.25904177370982073}. Best is trial 37 with value: 1.9302794849017606.\u001B[0m\n"
     ]
    },
    {
     "name": "stdout",
     "output_type": "stream",
     "text": [
      "[0]\ttrain-mlogloss:2.37382+0.00271\ttrain-merror:0.81151+0.01994\ttest-mlogloss:2.38788+0.00491\ttest-merror:0.86136+0.01405\n",
      "[100]\ttrain-mlogloss:1.10201+0.01769\ttrain-merror:0.28572+0.00953\ttest-mlogloss:1.98681+0.05859\ttest-merror:0.68877+0.02219\n",
      "[108]\ttrain-mlogloss:1.06205+0.02026\ttrain-merror:0.26627+0.01330\ttest-mlogloss:1.98990+0.06222\ttest-merror:0.69300+0.02749\n"
     ]
    },
    {
     "name": "stderr",
     "output_type": "stream",
     "text": [
      "\u001B[32m[I 2023-05-01 09:16:49,454]\u001B[0m Trial 49 finished with value: 2.0025727980693975 and parameters: {'eta': 0.10383020351403975, 'max_depth': 10, 'min_child_weight': 0.022138117462062568, 'subsample': 0.10629387255198067, 'colsample_bynode': 0.13414612798378978}. Best is trial 37 with value: 1.9302794849017606.\u001B[0m\n"
     ]
    },
    {
     "name": "stdout",
     "output_type": "stream",
     "text": [
      "[0]\ttrain-mlogloss:2.31859+0.00271\ttrain-merror:0.41372+0.01959\ttest-mlogloss:2.36776+0.00516\ttest-merror:0.72983+0.01253\n",
      "[100]\ttrain-mlogloss:0.28436+0.00616\ttrain-merror:0.01626+0.00360\ttest-mlogloss:1.92112+0.06302\ttest-merror:0.66757+0.02299\n",
      "[131]\ttrain-mlogloss:0.19222+0.00499\ttrain-merror:0.00990+0.00328\ttest-mlogloss:1.93279+0.07017\ttest-merror:0.67184+0.02099\n"
     ]
    },
    {
     "name": "stderr",
     "output_type": "stream",
     "text": [
      "\u001B[32m[I 2023-05-01 09:17:11,817]\u001B[0m Trial 50 finished with value: 1.9209770155158712 and parameters: {'eta': 0.06241221815667725, 'max_depth': 9, 'min_child_weight': 0.03211059996788003, 'subsample': 0.7718225016660114, 'colsample_bynode': 0.10469640909276587}. Best is trial 50 with value: 1.9209770155158712.\u001B[0m\n"
     ]
    },
    {
     "name": "stdout",
     "output_type": "stream",
     "text": [
      "[0]\ttrain-mlogloss:2.30413+0.00108\ttrain-merror:0.39252+0.02028\ttest-mlogloss:2.36062+0.00371\ttest-merror:0.74971+0.02237\n",
      "[100]\ttrain-mlogloss:0.22151+0.00555\ttrain-merror:0.01273+0.00206\ttest-mlogloss:1.93307+0.07334\ttest-merror:0.67467+0.01292\n",
      "[141]\ttrain-mlogloss:0.13093+0.00422\ttrain-merror:0.00530+0.00194\ttest-mlogloss:1.96043+0.08348\ttest-merror:0.67326+0.01147\n"
     ]
    },
    {
     "name": "stderr",
     "output_type": "stream",
     "text": [
      "\u001B[32m[I 2023-05-01 09:17:35,871]\u001B[0m Trial 51 finished with value: 1.9264769441182739 and parameters: {'eta': 0.06861904602589543, 'max_depth': 9, 'min_child_weight': 0.033489154843861085, 'subsample': 0.7890039972523101, 'colsample_bynode': 0.11094803196175898}. Best is trial 50 with value: 1.9209770155158712.\u001B[0m\n"
     ]
    },
    {
     "name": "stdout",
     "output_type": "stream",
     "text": [
      "[0]\ttrain-mlogloss:2.30839+0.00245\ttrain-merror:0.41725+0.02236\ttest-mlogloss:2.36226+0.00540\ttest-merror:0.73830+0.02899\n",
      "[92]\ttrain-mlogloss:0.27195+0.00533\ttrain-merror:0.01626+0.00342\ttest-mlogloss:1.92890+0.06954\ttest-merror:0.67465+0.01548\n"
     ]
    },
    {
     "name": "stderr",
     "output_type": "stream",
     "text": [
      "\u001B[32m[I 2023-05-01 09:17:51,863]\u001B[0m Trial 52 finished with value: 1.9592395221114742 and parameters: {'eta': 0.06813696178251125, 'max_depth': 9, 'min_child_weight': 0.03294028336458866, 'subsample': 0.8016925630134684, 'colsample_bynode': 0.10358859967111866}. Best is trial 50 with value: 1.9209770155158712.\u001B[0m\n"
     ]
    },
    {
     "name": "stdout",
     "output_type": "stream",
     "text": [
      "[0]\ttrain-mlogloss:2.35514+0.00129\ttrain-merror:0.32956+0.01508\ttest-mlogloss:2.38292+0.00123\ttest-merror:0.74823+0.01832\n",
      "[100]\ttrain-mlogloss:0.61275+0.00654\ttrain-merror:0.02192+0.00263\ttest-mlogloss:1.96436+0.03692\ttest-merror:0.67321+0.01743\n",
      "[103]\ttrain-mlogloss:0.59299+0.00632\ttrain-merror:0.02192+0.00263\ttest-mlogloss:1.96234+0.03772\ttest-merror:0.67180+0.01563\n"
     ]
    },
    {
     "name": "stderr",
     "output_type": "stream",
     "text": [
      "\u001B[32m[I 2023-05-01 09:18:15,692]\u001B[0m Trial 53 finished with value: 2.0379151847679027 and parameters: {'eta': 0.027097310412017968, 'max_depth': 10, 'min_child_weight': 0.010016280837533432, 'subsample': 0.8454423380878221, 'colsample_bynode': 0.15460470704190626}. Best is trial 50 with value: 1.9209770155158712.\u001B[0m\n"
     ]
    },
    {
     "name": "stdout",
     "output_type": "stream",
     "text": [
      "[0]\ttrain-mlogloss:2.30511+0.00230\ttrain-merror:0.35042+0.02052\ttest-mlogloss:2.36945+0.00335\ttest-merror:0.75671+0.01724\n",
      "[93]\ttrain-mlogloss:0.24217+0.00412\ttrain-merror:0.01061+0.00273\ttest-mlogloss:1.94016+0.06027\ttest-merror:0.69029+0.02677\n"
     ]
    },
    {
     "name": "stderr",
     "output_type": "stream",
     "text": [
      "\u001B[32m[I 2023-05-01 09:18:34,570]\u001B[0m Trial 54 finished with value: 1.9686387492439608 and parameters: {'eta': 0.06096388243895706, 'max_depth': 9, 'min_child_weight': 0.017690768899711117, 'subsample': 0.7618672837288591, 'colsample_bynode': 0.19611436311012037}. Best is trial 50 with value: 1.9209770155158712.\u001B[0m\n"
     ]
    },
    {
     "name": "stdout",
     "output_type": "stream",
     "text": [
      "[0]\ttrain-mlogloss:2.38339+0.00017\ttrain-merror:0.40629+0.00727\ttest-mlogloss:2.39256+0.00019\ttest-merror:0.74400+0.01000\n",
      "[80]\ttrain-mlogloss:1.54909+0.00502\ttrain-merror:0.05551+0.00361\ttest-mlogloss:2.12234+0.02237\ttest-merror:0.68035+0.01092\n"
     ]
    },
    {
     "name": "stderr",
     "output_type": "stream",
     "text": [
      "\u001B[32m[I 2023-05-01 09:18:51,583]\u001B[0m Trial 55 finished with value: 2.2529309921540435 and parameters: {'eta': 0.010753539768119755, 'max_depth': 10, 'min_child_weight': 0.05081421097385725, 'subsample': 0.7134939041987285, 'colsample_bynode': 0.12636510959842182}. Best is trial 50 with value: 1.9209770155158712.\u001B[0m\n"
     ]
    },
    {
     "name": "stdout",
     "output_type": "stream",
     "text": [
      "[0]\ttrain-mlogloss:2.29764+0.00386\ttrain-merror:0.41336+0.01718\ttest-mlogloss:2.35709+0.00492\ttest-merror:0.73408+0.01532\n",
      "[100]\ttrain-mlogloss:0.20859+0.00492\ttrain-merror:0.01202+0.00259\ttest-mlogloss:1.93082+0.07795\ttest-merror:0.66900+0.02144\n",
      "[146]\ttrain-mlogloss:0.11771+0.00308\ttrain-merror:0.00460+0.00141\ttest-mlogloss:1.96409+0.09050\ttest-merror:0.67186+0.02539\n"
     ]
    },
    {
     "name": "stderr",
     "output_type": "stream",
     "text": [
      "\u001B[32m[I 2023-05-01 09:19:19,880]\u001B[0m Trial 56 finished with value: 1.9281911532426872 and parameters: {'eta': 0.07890443578601188, 'max_depth': 9, 'min_child_weight': 0.025661414350170123, 'subsample': 0.7532935584475413, 'colsample_bynode': 0.10351565874500303}. Best is trial 50 with value: 1.9209770155158712.\u001B[0m\n"
     ]
    },
    {
     "name": "stdout",
     "output_type": "stream",
     "text": [
      "[0]\ttrain-mlogloss:2.34548+0.00087\ttrain-merror:0.38401+0.01541\ttest-mlogloss:2.38041+0.00496\ttest-merror:0.75949+0.04834\n",
      "[100]\ttrain-mlogloss:0.49338+0.00533\ttrain-merror:0.02334+0.00233\ttest-mlogloss:1.92943+0.05029\ttest-merror:0.66755+0.01950\n",
      "[109]\ttrain-mlogloss:0.44349+0.00513\ttrain-merror:0.02263+0.00234\ttest-mlogloss:1.92563+0.05388\ttest-merror:0.66898+0.01314\n"
     ]
    },
    {
     "name": "stderr",
     "output_type": "stream",
     "text": [
      "\u001B[32m[I 2023-05-01 09:19:42,367]\u001B[0m Trial 57 finished with value: 1.9777478011501572 and parameters: {'eta': 0.037960770723631854, 'max_depth': 9, 'min_child_weight': 0.023073185475669652, 'subsample': 0.8021506670961444, 'colsample_bynode': 0.11281028690582001}. Best is trial 50 with value: 1.9209770155158712.\u001B[0m\n"
     ]
    },
    {
     "name": "stdout",
     "output_type": "stream",
     "text": [
      "[0]\ttrain-mlogloss:2.24159+0.00330\ttrain-merror:0.41938+0.01456\ttest-mlogloss:2.33990+0.00946\ttest-merror:0.75255+0.03952\n",
      "[100]\ttrain-mlogloss:0.09557+0.00414\ttrain-merror:0.00247+0.00212\ttest-mlogloss:2.01210+0.08460\ttest-merror:0.68321+0.02903\n",
      "[118]\ttrain-mlogloss:0.07296+0.00303\ttrain-merror:0.00212+0.00173\ttest-mlogloss:2.03887+0.09013\ttest-merror:0.68180+0.03150\n"
     ]
    },
    {
     "name": "stderr",
     "output_type": "stream",
     "text": [
      "\u001B[32m[I 2023-05-01 09:20:03,323]\u001B[0m Trial 58 finished with value: 1.9621088134578115 and parameters: {'eta': 0.11804598445624942, 'max_depth': 8, 'min_child_weight': 0.013687802081965048, 'subsample': 0.7522168753682699, 'colsample_bynode': 0.1518702698163758}. Best is trial 50 with value: 1.9209770155158712.\u001B[0m\n"
     ]
    },
    {
     "name": "stdout",
     "output_type": "stream",
     "text": [
      "[0]\ttrain-mlogloss:2.27920+0.00375\ttrain-merror:0.38862+0.01605\ttest-mlogloss:2.35351+0.00655\ttest-merror:0.74109+0.03166\n",
      "[100]\ttrain-mlogloss:0.14985+0.00302\ttrain-merror:0.00778+0.00308\ttest-mlogloss:1.95049+0.06519\ttest-merror:0.67746+0.02053\n",
      "[129]\ttrain-mlogloss:0.10074+0.00273\ttrain-merror:0.00354+0.00194\ttest-mlogloss:1.97809+0.06972\ttest-merror:0.68033+0.02310\n"
     ]
    },
    {
     "name": "stderr",
     "output_type": "stream",
     "text": [
      "\u001B[32m[I 2023-05-01 09:20:29,457]\u001B[0m Trial 59 finished with value: 1.9354551214635471 and parameters: {'eta': 0.08832645264583519, 'max_depth': 9, 'min_child_weight': 0.02555703576892702, 'subsample': 0.8435793887003274, 'colsample_bynode': 0.10289780658282274}. Best is trial 50 with value: 1.9209770155158712.\u001B[0m\n"
     ]
    },
    {
     "name": "stdout",
     "output_type": "stream",
     "text": [
      "[0]\ttrain-mlogloss:2.30357+0.00293\ttrain-merror:0.28181+0.01779\ttest-mlogloss:2.36617+0.00377\ttest-merror:0.73263+0.03556\n",
      "[100]\ttrain-mlogloss:0.19407+0.00337\ttrain-merror:0.00636+0.00141\ttest-mlogloss:1.94553+0.05546\ttest-merror:0.66762+0.01600\n",
      "[138]\ttrain-mlogloss:0.11337+0.00249\ttrain-merror:0.00318+0.00173\ttest-mlogloss:1.96050+0.06516\ttest-merror:0.66477+0.01899\n"
     ]
    },
    {
     "name": "stderr",
     "output_type": "stream",
     "text": [
      "\u001B[32m[I 2023-05-01 09:21:01,246]\u001B[0m Trial 60 finished with value: 1.942683909859331 and parameters: {'eta': 0.0544015783385557, 'max_depth': 10, 'min_child_weight': 0.017695624857666712, 'subsample': 0.8762984613898284, 'colsample_bynode': 0.20531798155507613}. Best is trial 50 with value: 1.9209770155158712.\u001B[0m\n"
     ]
    },
    {
     "name": "stdout",
     "output_type": "stream",
     "text": [
      "[0]\ttrain-mlogloss:2.28508+0.00224\ttrain-merror:0.42114+0.01229\ttest-mlogloss:2.35447+0.00555\ttest-merror:0.75249+0.01931\n",
      "[73]\ttrain-mlogloss:0.28235+0.00584\ttrain-merror:0.01733+0.00260\ttest-mlogloss:1.93948+0.05503\ttest-merror:0.68738+0.01427\n"
     ]
    },
    {
     "name": "stderr",
     "output_type": "stream",
     "text": [
      "\u001B[32m[I 2023-05-01 09:21:15,992]\u001B[0m Trial 61 finished with value: 1.9940714484812816 and parameters: {'eta': 0.08863394121520335, 'max_depth': 9, 'min_child_weight': 0.02560419840329883, 'subsample': 0.7426933144234271, 'colsample_bynode': 0.10659579680196896}. Best is trial 50 with value: 1.9209770155158712.\u001B[0m\n"
     ]
    },
    {
     "name": "stdout",
     "output_type": "stream",
     "text": [
      "[0]\ttrain-mlogloss:2.30646+0.00205\ttrain-merror:0.37094+0.01661\ttest-mlogloss:2.36697+0.00428\ttest-merror:0.76941+0.03069\n",
      "[86]\ttrain-mlogloss:0.28016+0.00435\ttrain-merror:0.01697+0.00412\ttest-mlogloss:1.93183+0.05680\ttest-merror:0.68601+0.01807\n"
     ]
    },
    {
     "name": "stderr",
     "output_type": "stream",
     "text": [
      "\u001B[32m[I 2023-05-01 09:21:33,836]\u001B[0m Trial 62 finished with value: 1.9762438390858346 and parameters: {'eta': 0.0650096162188212, 'max_depth': 9, 'min_child_weight': 0.01228693096357138, 'subsample': 0.787498721551794, 'colsample_bynode': 0.13737849561132265}. Best is trial 50 with value: 1.9209770155158712.\u001B[0m\n"
     ]
    },
    {
     "name": "stdout",
     "output_type": "stream",
     "text": [
      "[0]\ttrain-mlogloss:2.26080+0.00095\ttrain-merror:0.34512+0.01033\ttest-mlogloss:2.35313+0.00976\ttest-merror:0.74684+0.03719\n",
      "[89]\ttrain-mlogloss:0.12818+0.00330\ttrain-merror:0.00530+0.00112\ttest-mlogloss:1.97656+0.08097\ttest-merror:0.67752+0.02001\n"
     ]
    },
    {
     "name": "stderr",
     "output_type": "stream",
     "text": [
      "\u001B[32m[I 2023-05-01 09:21:52,136]\u001B[0m Trial 63 finished with value: 1.949675649674387 and parameters: {'eta': 0.09219151217538613, 'max_depth': 9, 'min_child_weight': 0.028768441697550915, 'subsample': 0.8296162865151777, 'colsample_bynode': 0.16768165624556652}. Best is trial 50 with value: 1.9209770155158712.\u001B[0m\n"
     ]
    },
    {
     "name": "stdout",
     "output_type": "stream",
     "text": [
      "[0]\ttrain-mlogloss:2.36032+0.00051\ttrain-merror:0.36739+0.00777\ttest-mlogloss:2.38434+0.00268\ttest-merror:0.74394+0.04093\n",
      "[57]\ttrain-mlogloss:1.12838+0.00773\ttrain-merror:0.04597+0.00318\ttest-mlogloss:2.04270+0.02563\ttest-merror:0.69444+0.01775\n"
     ]
    },
    {
     "name": "stderr",
     "output_type": "stream",
     "text": [
      "\u001B[32m[I 2023-05-01 09:22:03,147]\u001B[0m Trial 64 finished with value: 2.3020703976262213 and parameters: {'eta': 0.026202500193325526, 'max_depth': 8, 'min_child_weight': 0.02181102151036086, 'subsample': 0.9268103350566056, 'colsample_bynode': 0.12129485995360045}. Best is trial 50 with value: 1.9209770155158712.\u001B[0m\n"
     ]
    },
    {
     "name": "stdout",
     "output_type": "stream",
     "text": [
      "[0]\ttrain-mlogloss:2.29325+0.00306\ttrain-merror:0.37941+0.02518\ttest-mlogloss:2.35961+0.00786\ttest-merror:0.74396+0.02051\n",
      "[100]\ttrain-mlogloss:0.17432+0.00420\ttrain-merror:0.00707+0.00158\ttest-mlogloss:1.95138+0.07185\ttest-merror:0.68176+0.01464\n",
      "[110]\ttrain-mlogloss:0.15028+0.00380\ttrain-merror:0.00495+0.00173\ttest-mlogloss:1.95882+0.07491\ttest-merror:0.67751+0.01634\n"
     ]
    },
    {
     "name": "stderr",
     "output_type": "stream",
     "text": [
      "\u001B[32m[I 2023-05-01 09:22:24,934]\u001B[0m Trial 65 finished with value: 1.9362050060037312 and parameters: {'eta': 0.0732385543320063, 'max_depth': 9, 'min_child_weight': 0.04315267006284294, 'subsample': 0.7662465793752096, 'colsample_bynode': 0.16703257187364778}. Best is trial 50 with value: 1.9209770155158712.\u001B[0m\n"
     ]
    },
    {
     "name": "stdout",
     "output_type": "stream",
     "text": [
      "[0]\ttrain-mlogloss:2.34426+0.00112\ttrain-merror:0.46004+0.01397\ttest-mlogloss:2.37570+0.00348\ttest-merror:0.75103+0.02797\n",
      "[81]\ttrain-mlogloss:0.64329+0.00542\ttrain-merror:0.02970+0.00204\ttest-mlogloss:1.93378+0.04680\ttest-merror:0.67465+0.01268\n"
     ]
    },
    {
     "name": "stderr",
     "output_type": "stream",
     "text": [
      "\u001B[32m[I 2023-05-01 09:22:39,265]\u001B[0m Trial 66 finished with value: 2.04386375248581 and parameters: {'eta': 0.045599171120198935, 'max_depth': 8, 'min_child_weight': 0.06857810251515939, 'subsample': 0.7221278490932108, 'colsample_bynode': 0.10335546508495747}. Best is trial 50 with value: 1.9209770155158712.\u001B[0m\n"
     ]
    },
    {
     "name": "stdout",
     "output_type": "stream",
     "text": [
      "[0]\ttrain-mlogloss:2.21869+0.00408\ttrain-merror:0.32390+0.01474\ttest-mlogloss:2.34072+0.01023\ttest-merror:0.74821+0.02246\n",
      "[73]\ttrain-mlogloss:0.10907+0.00207\ttrain-merror:0.00248+0.00141\ttest-mlogloss:1.99135+0.07848\ttest-merror:0.67892+0.01152\n"
     ]
    },
    {
     "name": "stderr",
     "output_type": "stream",
     "text": [
      "\u001B[32m[I 2023-05-01 09:22:55,699]\u001B[0m Trial 67 finished with value: 1.9792243470411868 and parameters: {'eta': 0.11168196819769198, 'max_depth': 10, 'min_child_weight': 0.011653035368685769, 'subsample': 0.8131598167502325, 'colsample_bynode': 0.21856387313219014}. Best is trial 50 with value: 1.9209770155158712.\u001B[0m\n"
     ]
    },
    {
     "name": "stdout",
     "output_type": "stream",
     "text": [
      "[0]\ttrain-mlogloss:2.36427+0.00064\ttrain-merror:0.29525+0.00932\ttest-mlogloss:2.38623+0.00194\ttest-merror:0.73547+0.04144\n",
      "[63]\ttrain-mlogloss:1.12760+0.00812\ttrain-merror:0.03041+0.00343\ttest-mlogloss:2.06689+0.02524\ttest-merror:0.69162+0.01654\n"
     ]
    },
    {
     "name": "stderr",
     "output_type": "stream",
     "text": [
      "\u001B[32m[I 2023-05-01 09:23:09,100]\u001B[0m Trial 68 finished with value: 2.2723166616869643 and parameters: {'eta': 0.019479581792690943, 'max_depth': 9, 'min_child_weight': 0.032187234647252864, 'subsample': 0.8553978718764758, 'colsample_bynode': 0.24730554398982485}. Best is trial 50 with value: 1.9209770155158712.\u001B[0m\n"
     ]
    },
    {
     "name": "stdout",
     "output_type": "stream",
     "text": [
      "[0]\ttrain-mlogloss:2.27491+0.00391\ttrain-merror:0.40594+0.01167\ttest-mlogloss:2.35510+0.00277\ttest-merror:0.74824+0.01643\n",
      "[71]\ttrain-mlogloss:0.25854+0.00598\ttrain-merror:0.01591+0.00316\ttest-mlogloss:1.92992+0.06475\ttest-merror:0.67758+0.02285\n"
     ]
    },
    {
     "name": "stderr",
     "output_type": "stream",
     "text": [
      "\u001B[32m[I 2023-05-01 09:23:22,314]\u001B[0m Trial 69 finished with value: 1.9931208292199663 and parameters: {'eta': 0.09046484106829165, 'max_depth': 8, 'min_child_weight': 0.01654036269161533, 'subsample': 0.7749994896492879, 'colsample_bynode': 0.13931649273378538}. Best is trial 50 with value: 1.9209770155158712.\u001B[0m\n"
     ]
    },
    {
     "name": "stdout",
     "output_type": "stream",
     "text": [
      "[0]\ttrain-mlogloss:2.30737+0.00071\ttrain-merror:0.34229+0.01366\ttest-mlogloss:2.36880+0.00430\ttest-merror:0.76519+0.01471\n",
      "[60]\ttrain-mlogloss:0.45592+0.00566\ttrain-merror:0.02015+0.00239\ttest-mlogloss:1.95320+0.04536\ttest-merror:0.69161+0.02190\n"
     ]
    },
    {
     "name": "stderr",
     "output_type": "stream",
     "text": [
      "\u001B[32m[I 2023-05-01 09:23:33,431]\u001B[0m Trial 70 finished with value: 2.1596759108322483 and parameters: {'eta': 0.05808455059763209, 'max_depth': 9, 'min_child_weight': 0.020496595164044673, 'subsample': 0.7963707175177152, 'colsample_bynode': 0.20224510887447697}. Best is trial 50 with value: 1.9209770155158712.\u001B[0m\n"
     ]
    },
    {
     "name": "stdout",
     "output_type": "stream",
     "text": [
      "[0]\ttrain-mlogloss:2.28923+0.00484\ttrain-merror:0.35855+0.01748\ttest-mlogloss:2.36415+0.00692\ttest-merror:0.76797+0.03801\n",
      "[100]\ttrain-mlogloss:0.16911+0.00381\ttrain-merror:0.00566+0.00070\ttest-mlogloss:1.96115+0.06570\ttest-merror:0.67893+0.02063\n",
      "[120]\ttrain-mlogloss:0.12715+0.00338\ttrain-merror:0.00389+0.00132\ttest-mlogloss:1.97799+0.06892\ttest-merror:0.67894+0.01895\n"
     ]
    },
    {
     "name": "stderr",
     "output_type": "stream",
     "text": [
      "\u001B[32m[I 2023-05-01 09:23:52,545]\u001B[0m Trial 71 finished with value: 1.944529644136346 and parameters: {'eta': 0.07318932255921588, 'max_depth': 9, 'min_child_weight': 0.042589065774058354, 'subsample': 0.7582981618070895, 'colsample_bynode': 0.17781244873805835}. Best is trial 50 with value: 1.9209770155158712.\u001B[0m\n"
     ]
    },
    {
     "name": "stdout",
     "output_type": "stream",
     "text": [
      "[0]\ttrain-mlogloss:2.28193+0.00343\ttrain-merror:0.34335+0.01061\ttest-mlogloss:2.36098+0.00892\ttest-merror:0.75950+0.05510\n",
      "[67]\ttrain-mlogloss:0.27068+0.00580\ttrain-merror:0.01414+0.00370\ttest-mlogloss:1.94454+0.06395\ttest-merror:0.68741+0.01743\n"
     ]
    },
    {
     "name": "stderr",
     "output_type": "stream",
     "text": [
      "\u001B[32m[I 2023-05-01 09:24:04,085]\u001B[0m Trial 72 finished with value: 2.0488688433007183 and parameters: {'eta': 0.07731196813226926, 'max_depth': 9, 'min_child_weight': 0.05563562132441768, 'subsample': 0.8223244196505474, 'colsample_bynode': 0.16120983576887932}. Best is trial 50 with value: 1.9209770155158712.\u001B[0m\n"
     ]
    },
    {
     "name": "stdout",
     "output_type": "stream",
     "text": [
      "[0]\ttrain-mlogloss:2.27500+0.00598\ttrain-merror:0.45898+0.01064\ttest-mlogloss:2.35105+0.00738\ttest-merror:0.74966+0.02813\n",
      "[100]\ttrain-mlogloss:0.14627+0.00357\ttrain-merror:0.00495+0.00132\ttest-mlogloss:1.99223+0.07560\ttest-merror:0.68737+0.01141\n",
      "[134]\ttrain-mlogloss:0.09378+0.00249\ttrain-merror:0.00283+0.00180\ttest-mlogloss:2.02915+0.08965\ttest-merror:0.69588+0.00821\n"
     ]
    },
    {
     "name": "stderr",
     "output_type": "stream",
     "text": [
      "\u001B[32m[I 2023-05-01 09:24:23,837]\u001B[0m Trial 73 finished with value: 1.9769462923508985 and parameters: {'eta': 0.10061875783802329, 'max_depth': 9, 'min_child_weight': 0.03862945261057811, 'subsample': 0.6643421372967506, 'colsample_bynode': 0.12910027688817913}. Best is trial 50 with value: 1.9209770155158712.\u001B[0m\n"
     ]
    },
    {
     "name": "stdout",
     "output_type": "stream",
     "text": [
      "[0]\ttrain-mlogloss:2.23329+0.00367\ttrain-merror:0.42573+0.01491\ttest-mlogloss:2.33809+0.00792\ttest-merror:0.74541+0.02557\n",
      "[84]\ttrain-mlogloss:0.12094+0.00387\ttrain-merror:0.00495+0.00173\ttest-mlogloss:1.99125+0.08467\ttest-merror:0.67326+0.01152\n"
     ]
    },
    {
     "name": "stderr",
     "output_type": "stream",
     "text": [
      "\u001B[32m[I 2023-05-01 09:24:38,088]\u001B[0m Trial 74 finished with value: 1.9584544599534044 and parameters: {'eta': 0.13111337473021603, 'max_depth': 10, 'min_child_weight': 0.028300533897967193, 'subsample': 0.7352648623162754, 'colsample_bynode': 0.10025500642973538}. Best is trial 50 with value: 1.9209770155158712.\u001B[0m\n"
     ]
    },
    {
     "name": "stdout",
     "output_type": "stream",
     "text": [
      "[0]\ttrain-mlogloss:2.31899+0.00324\ttrain-merror:0.41300+0.01717\ttest-mlogloss:2.36796+0.00595\ttest-merror:0.74953+0.04088\n",
      "[69]\ttrain-mlogloss:0.48257+0.00606\ttrain-merror:0.02404+0.00179\ttest-mlogloss:1.94902+0.05693\ttest-merror:0.68594+0.02120\n"
     ]
    },
    {
     "name": "stderr",
     "output_type": "stream",
     "text": [
      "\u001B[32m[I 2023-05-01 09:24:48,145]\u001B[0m Trial 75 finished with value: 2.075623369798021 and parameters: {'eta': 0.0584817459275519, 'max_depth': 8, 'min_child_weight': 0.04609196806327339, 'subsample': 0.6971237882926313, 'colsample_bynode': 0.1770583822776321}. Best is trial 50 with value: 1.9209770155158712.\u001B[0m\n"
     ]
    },
    {
     "name": "stdout",
     "output_type": "stream",
     "text": [
      "[0]\ttrain-mlogloss:2.34328+0.00153\ttrain-merror:0.37764+0.01198\ttest-mlogloss:2.37866+0.00223\ttest-merror:0.75531+0.01816\n",
      "[100]\ttrain-mlogloss:0.46906+0.00595\ttrain-merror:0.02157+0.00283\ttest-mlogloss:1.94152+0.04931\ttest-merror:0.68314+0.02010\n",
      "[149]\ttrain-mlogloss:0.27208+0.00509\ttrain-merror:0.01591+0.00295\ttest-mlogloss:1.93718+0.05693\ttest-merror:0.68598+0.01500\n"
     ]
    },
    {
     "name": "stderr",
     "output_type": "stream",
     "text": [
      "\u001B[32m[I 2023-05-01 09:25:13,479]\u001B[0m Trial 76 finished with value: 1.9415217409546905 and parameters: {'eta': 0.0375915419092264, 'max_depth': 9, 'min_child_weight': 0.019741328348890894, 'subsample': 0.7807184829927875, 'colsample_bynode': 0.14955898126673497}. Best is trial 50 with value: 1.9209770155158712.\u001B[0m\n"
     ]
    },
    {
     "name": "stdout",
     "output_type": "stream",
     "text": [
      "[0]\ttrain-mlogloss:2.26306+0.00355\ttrain-merror:0.34405+0.02775\ttest-mlogloss:2.35777+0.00825\ttest-merror:0.76814+0.03769\n",
      "[100]\ttrain-mlogloss:0.11112+0.00220\ttrain-merror:0.00247+0.00141\ttest-mlogloss:1.97322+0.07340\ttest-merror:0.66618+0.01407\n",
      "[141]\ttrain-mlogloss:0.06297+0.00143\ttrain-merror:0.00000+0.00000\ttest-mlogloss:2.01999+0.08072\ttest-merror:0.67327+0.01743\n"
     ]
    },
    {
     "name": "stderr",
     "output_type": "stream",
     "text": [
      "\u001B[32m[I 2023-05-01 09:25:37,854]\u001B[0m Trial 77 finished with value: 1.9668623448431681 and parameters: {'eta': 0.08464440407888253, 'max_depth': 10, 'min_child_weight': 0.012658444955099348, 'subsample': 0.7619361742816777, 'colsample_bynode': 0.2192743448664818}. Best is trial 50 with value: 1.9209770155158712.\u001B[0m\n"
     ]
    },
    {
     "name": "stdout",
     "output_type": "stream",
     "text": [
      "[0]\ttrain-mlogloss:2.34151+0.00174\ttrain-merror:0.58911+0.01015\ttest-mlogloss:2.37288+0.00264\ttest-merror:0.79633+0.02153\n",
      "[83]\ttrain-mlogloss:0.72219+0.01484\ttrain-merror:0.06754+0.00378\ttest-mlogloss:1.92949+0.06706\ttest-merror:0.69162+0.02173\n"
     ]
    },
    {
     "name": "stderr",
     "output_type": "stream",
     "text": [
      "\u001B[32m[I 2023-05-01 09:25:43,857]\u001B[0m Trial 78 finished with value: 1.987085123735105 and parameters: {'eta': 0.06762326493192002, 'max_depth': 5, 'min_child_weight': 0.08313319279468266, 'subsample': 0.6495552365902497, 'colsample_bynode': 0.12512953946374905}. Best is trial 50 with value: 1.9209770155158712.\u001B[0m\n"
     ]
    },
    {
     "name": "stdout",
     "output_type": "stream",
     "text": [
      "[0]\ttrain-mlogloss:2.22013+0.00596\ttrain-merror:0.36632+0.02072\ttest-mlogloss:2.33660+0.00567\ttest-merror:0.76096+0.01509\n",
      "[79]\ttrain-mlogloss:0.10764+0.00315\ttrain-merror:0.00318+0.00071\ttest-mlogloss:2.03206+0.10091\ttest-merror:0.67468+0.03441\n"
     ]
    },
    {
     "name": "stderr",
     "output_type": "stream",
     "text": [
      "\u001B[32m[I 2023-05-01 09:25:56,544]\u001B[0m Trial 79 finished with value: 1.9833765464451492 and parameters: {'eta': 0.11567957719804434, 'max_depth': 9, 'min_child_weight': 0.015995461330053164, 'subsample': 0.7193397801405975, 'colsample_bynode': 0.25237026456224065}. Best is trial 50 with value: 1.9209770155158712.\u001B[0m\n"
     ]
    },
    {
     "name": "stdout",
     "output_type": "stream",
     "text": [
      "[0]\ttrain-mlogloss:2.33278+0.00192\ttrain-merror:0.43776+0.01033\ttest-mlogloss:2.37337+0.00233\ttest-merror:0.74252+0.03193\n",
      "[89]\ttrain-mlogloss:0.44984+0.00874\ttrain-merror:0.02369+0.00239\ttest-mlogloss:1.93281+0.04935\ttest-merror:0.69873+0.01700\n"
     ]
    },
    {
     "name": "stderr",
     "output_type": "stream",
     "text": [
      "\u001B[32m[I 2023-05-01 09:26:09,070]\u001B[0m Trial 80 finished with value: 1.9993027305867384 and parameters: {'eta': 0.05020656934257521, 'max_depth': 8, 'min_child_weight': 0.0250202710391712, 'subsample': 0.6829651843757695, 'colsample_bynode': 0.16955444420565294}. Best is trial 50 with value: 1.9209770155158712.\u001B[0m\n"
     ]
    },
    {
     "name": "stdout",
     "output_type": "stream",
     "text": [
      "[0]\ttrain-mlogloss:2.32309+0.00129\ttrain-merror:0.54525+0.02156\ttest-mlogloss:2.36339+0.00404\ttest-merror:0.75676+0.02595\n",
      "[99]\ttrain-mlogloss:0.42714+0.01102\ttrain-merror:0.03182+0.00295\ttest-mlogloss:1.94366+0.07862\ttest-merror:0.68314+0.03268\n"
     ]
    },
    {
     "name": "stderr",
     "output_type": "stream",
     "text": [
      "\u001B[32m[I 2023-05-01 09:26:16,311]\u001B[0m Trial 81 finished with value: 1.9273847935019273 and parameters: {'eta': 0.07781969937887562, 'max_depth': 5, 'min_child_weight': 0.03518841945752642, 'subsample': 0.7078273417470545, 'colsample_bynode': 0.19560263117429055}. Best is trial 50 with value: 1.9209770155158712.\u001B[0m\n"
     ]
    },
    {
     "name": "stdout",
     "output_type": "stream",
     "text": [
      "[0]\ttrain-mlogloss:2.32590+0.00333\ttrain-merror:0.62093+0.00598\ttest-mlogloss:2.35977+0.00380\ttest-merror:0.73270+0.01451\n",
      "[99]\ttrain-mlogloss:0.54349+0.01541\ttrain-merror:0.04950+0.00351\ttest-mlogloss:1.97111+0.08844\ttest-merror:0.67890+0.02251\n"
     ]
    },
    {
     "name": "stderr",
     "output_type": "stream",
     "text": [
      "\u001B[32m[I 2023-05-01 09:26:21,717]\u001B[0m Trial 82 finished with value: 1.9409477343041335 and parameters: {'eta': 0.09665643885051609, 'max_depth': 4, 'min_child_weight': 0.038283890037476336, 'subsample': 0.7437193201382892, 'colsample_bynode': 0.19516041812211066}. Best is trial 50 with value: 1.9209770155158712.\u001B[0m\n"
     ]
    },
    {
     "name": "stdout",
     "output_type": "stream",
     "text": [
      "[0]\ttrain-mlogloss:2.34230+0.00108\ttrain-merror:0.63118+0.02024\ttest-mlogloss:2.36666+0.00149\ttest-merror:0.76099+0.01314\n",
      "[78]\ttrain-mlogloss:0.90348+0.01881\ttrain-merror:0.12588+0.00845\ttest-mlogloss:1.93809+0.06774\ttest-merror:0.70154+0.01539\n"
     ]
    },
    {
     "name": "stderr",
     "output_type": "stream",
     "text": [
      "\u001B[32m[I 2023-05-01 09:26:25,929]\u001B[0m Trial 83 finished with value: 2.0025292280158276 and parameters: {'eta': 0.07697922257051801, 'max_depth': 4, 'min_child_weight': 0.03226729559953084, 'subsample': 0.7050772396169541, 'colsample_bynode': 0.1520376398747216}. Best is trial 50 with value: 1.9209770155158712.\u001B[0m\n"
     ]
    },
    {
     "name": "stdout",
     "output_type": "stream",
     "text": [
      "[0]\ttrain-mlogloss:2.37271+0.00112\ttrain-merror:0.56011+0.01221\ttest-mlogloss:2.38572+0.00082\ttest-merror:0.75526+0.03491\n",
      "[100]\ttrain-mlogloss:1.12316+0.01226\ttrain-merror:0.10785+0.00955\ttest-mlogloss:1.96551+0.04498\ttest-merror:0.68594+0.01920\n",
      "[171]\ttrain-mlogloss:0.76792+0.01299\ttrain-merror:0.06895+0.00349\ttest-mlogloss:1.93104+0.06428\ttest-merror:0.68028+0.02008\n"
     ]
    },
    {
     "name": "stderr",
     "output_type": "stream",
     "text": [
      "\u001B[32m[I 2023-05-01 09:26:38,377]\u001B[0m Trial 84 finished with value: 1.9471575979393816 and parameters: {'eta': 0.024397496307274273, 'max_depth': 5, 'min_child_weight': 0.05653165017653546, 'subsample': 0.6176185835482488, 'colsample_bynode': 0.2921570902803131}. Best is trial 50 with value: 1.9209770155158712.\u001B[0m\n"
     ]
    },
    {
     "name": "stdout",
     "output_type": "stream",
     "text": [
      "[0]\ttrain-mlogloss:2.37838+0.00078\ttrain-merror:0.70049+0.01150\ttest-mlogloss:2.38640+0.00156\ttest-merror:0.82321+0.04124\n",
      "[100]\ttrain-mlogloss:1.45319+0.01521\ttrain-merror:0.35218+0.01100\ttest-mlogloss:1.94855+0.04345\ttest-merror:0.68030+0.01928\n",
      "[146]\ttrain-mlogloss:1.26665+0.01644\ttrain-merror:0.28323+0.01090\ttest-mlogloss:1.92469+0.05614\ttest-merror:0.67746+0.02240\n"
     ]
    },
    {
     "name": "stderr",
     "output_type": "stream",
     "text": [
      "\u001B[32m[I 2023-05-01 09:26:44,103]\u001B[0m Trial 85 finished with value: 1.9518830901377804 and parameters: {'eta': 0.04100726813266783, 'max_depth': 3, 'min_child_weight': 0.024684633635419128, 'subsample': 0.7815453223430707, 'colsample_bynode': 0.1251395305060251}. Best is trial 50 with value: 1.9209770155158712.\u001B[0m\n"
     ]
    },
    {
     "name": "stdout",
     "output_type": "stream",
     "text": [
      "[0]\ttrain-mlogloss:2.30070+0.00218\ttrain-merror:0.32037+0.01949\ttest-mlogloss:2.36779+0.00253\ttest-merror:0.76095+0.01817\n",
      "[90]\ttrain-mlogloss:0.23726+0.00473\ttrain-merror:0.01131+0.00327\ttest-mlogloss:1.94628+0.05543\ttest-merror:0.68316+0.01391\n"
     ]
    },
    {
     "name": "stderr",
     "output_type": "stream",
     "text": [
      "\u001B[32m[I 2023-05-01 09:26:59,699]\u001B[0m Trial 86 finished with value: 1.974857717593487 and parameters: {'eta': 0.059302375937757154, 'max_depth': 9, 'min_child_weight': 0.02015162140438283, 'subsample': 0.8114957232781651, 'colsample_bynode': 0.2135022584491075}. Best is trial 50 with value: 1.9209770155158712.\u001B[0m\n"
     ]
    },
    {
     "name": "stdout",
     "output_type": "stream",
     "text": [
      "[0]\ttrain-mlogloss:2.30033+0.00559\ttrain-merror:0.50248+0.01693\ttest-mlogloss:2.35938+0.00695\ttest-merror:0.76808+0.03367\n",
      "[78]\ttrain-mlogloss:0.34332+0.00985\ttrain-merror:0.02298+0.00222\ttest-mlogloss:1.95993+0.08166\ttest-merror:0.69023+0.02130\n"
     ]
    },
    {
     "name": "stderr",
     "output_type": "stream",
     "text": [
      "\u001B[32m[I 2023-05-01 09:27:07,413]\u001B[0m Trial 87 finished with value: 1.9838236061670649 and parameters: {'eta': 0.08415938683498764, 'max_depth': 6, 'min_child_weight': 0.04561814015199213, 'subsample': 0.6693008198939681, 'colsample_bynode': 0.2446235041572502}. Best is trial 50 with value: 1.9209770155158712.\u001B[0m\n"
     ]
    },
    {
     "name": "stdout",
     "output_type": "stream",
     "text": [
      "[0]\ttrain-mlogloss:2.28294+0.00256\ttrain-merror:0.56295+0.02202\ttest-mlogloss:2.34770+0.00384\ttest-merror:0.77655+0.03160\n",
      "[89]\ttrain-mlogloss:0.26414+0.00756\ttrain-merror:0.02157+0.00283\ttest-mlogloss:2.00857+0.09411\ttest-merror:0.68314+0.02544\n"
     ]
    },
    {
     "name": "stderr",
     "output_type": "stream",
     "text": [
      "\u001B[32m[I 2023-05-01 09:27:14,089]\u001B[0m Trial 88 finished with value: 1.938968628180389 and parameters: {'eta': 0.12392016142336659, 'max_depth': 5, 'min_child_weight': 0.03346641110792964, 'subsample': 0.729127803887045, 'colsample_bynode': 0.18014974171125056}. Best is trial 50 with value: 1.9209770155158712.\u001B[0m\n"
     ]
    },
    {
     "name": "stdout",
     "output_type": "stream",
     "text": [
      "[0]\ttrain-mlogloss:2.28983+0.00528\ttrain-merror:0.51273+0.01456\ttest-mlogloss:2.35646+0.00464\ttest-merror:0.78081+0.02191\n",
      "[100]\ttrain-mlogloss:0.20233+0.00467\ttrain-merror:0.01238+0.00335\ttest-mlogloss:1.95405+0.07388\ttest-merror:0.68174+0.01512\n",
      "[107]\ttrain-mlogloss:0.18262+0.00468\ttrain-merror:0.01025+0.00259\ttest-mlogloss:1.96434+0.07359\ttest-merror:0.68458+0.02090\n"
     ]
    },
    {
     "name": "stderr",
     "output_type": "stream",
     "text": [
      "\u001B[32m[I 2023-05-01 09:27:26,846]\u001B[0m Trial 89 finished with value: 1.9266437579257816 and parameters: {'eta': 0.103409778672573, 'max_depth': 7, 'min_child_weight': 0.015162409833026401, 'subsample': 0.6421347347961904, 'colsample_bynode': 0.12360895505093256}. Best is trial 50 with value: 1.9209770155158712.\u001B[0m\n"
     ]
    },
    {
     "name": "stdout",
     "output_type": "stream",
     "text": [
      "[0]\ttrain-mlogloss:2.30351+0.00231\ttrain-merror:0.53076+0.01967\ttest-mlogloss:2.35595+0.00417\ttest-merror:0.74821+0.01352\n",
      "[100]\ttrain-mlogloss:0.23996+0.00561\ttrain-merror:0.01627+0.00606\ttest-mlogloss:1.96635+0.08885\ttest-merror:0.68309+0.02638\n",
      "[101]\ttrain-mlogloss:0.23674+0.00556\ttrain-merror:0.01556+0.00626\ttest-mlogloss:1.96620+0.08913\ttest-merror:0.68309+0.02638\n"
     ]
    },
    {
     "name": "stderr",
     "output_type": "stream",
     "text": [
      "\u001B[32m[I 2023-05-01 09:27:39,067]\u001B[0m Trial 90 finished with value: 1.9279647765192738 and parameters: {'eta': 0.09588047184883132, 'max_depth': 7, 'min_child_weight': 0.011869148394312095, 'subsample': 0.6168268592625228, 'colsample_bynode': 0.12347533459053418}. Best is trial 50 with value: 1.9209770155158712.\u001B[0m\n"
     ]
    },
    {
     "name": "stdout",
     "output_type": "stream",
     "text": [
      "[0]\ttrain-mlogloss:2.28734+0.00491\ttrain-merror:0.51378+0.02186\ttest-mlogloss:2.35608+0.00551\ttest-merror:0.77371+0.03490\n",
      "[77]\ttrain-mlogloss:0.28939+0.00570\ttrain-merror:0.01980+0.00205\ttest-mlogloss:1.93586+0.06170\ttest-merror:0.69164+0.02493\n"
     ]
    },
    {
     "name": "stderr",
     "output_type": "stream",
     "text": [
      "\u001B[32m[I 2023-05-01 09:27:48,414]\u001B[0m Trial 91 finished with value: 1.968753144502991 and parameters: {'eta': 0.10523046430081165, 'max_depth': 7, 'min_child_weight': 0.010926985634089378, 'subsample': 0.6475271147542032, 'colsample_bynode': 0.12103538110858315}. Best is trial 50 with value: 1.9209770155158712.\u001B[0m\n"
     ]
    },
    {
     "name": "stdout",
     "output_type": "stream",
     "text": [
      "[0]\ttrain-mlogloss:2.29425+0.00400\ttrain-merror:0.49646+0.01095\ttest-mlogloss:2.35931+0.00421\ttest-merror:0.75814+0.01204\n",
      "[100]\ttrain-mlogloss:0.20700+0.00667\ttrain-merror:0.01096+0.00360\ttest-mlogloss:1.96343+0.08086\ttest-merror:0.67466+0.02126\n",
      "[123]\ttrain-mlogloss:0.14964+0.00523\ttrain-merror:0.00707+0.00223\ttest-mlogloss:1.99527+0.08620\ttest-merror:0.67891+0.00989\n"
     ]
    },
    {
     "name": "stderr",
     "output_type": "stream",
     "text": [
      "\u001B[32m[I 2023-05-01 09:28:03,309]\u001B[0m Trial 92 finished with value: 1.9399208456839747 and parameters: {'eta': 0.09426025502785369, 'max_depth': 7, 'min_child_weight': 0.015032910520190979, 'subsample': 0.6332775995386223, 'colsample_bynode': 0.14645095391222823}. Best is trial 50 with value: 1.9209770155158712.\u001B[0m\n"
     ]
    },
    {
     "name": "stdout",
     "output_type": "stream",
     "text": [
      "[0]\ttrain-mlogloss:2.26008+0.00577\ttrain-merror:0.54881+0.01449\ttest-mlogloss:2.33864+0.00942\ttest-merror:0.77367+0.03228\n",
      "[97]\ttrain-mlogloss:0.16272+0.00661\ttrain-merror:0.01096+0.00206\ttest-mlogloss:2.02232+0.10527\ttest-merror:0.68738+0.02149\n"
     ]
    },
    {
     "name": "stderr",
     "output_type": "stream",
     "text": [
      "\u001B[32m[I 2023-05-01 09:28:12,806]\u001B[0m Trial 93 finished with value: 1.9446036543392726 and parameters: {'eta': 0.15018983587980908, 'max_depth': 6, 'min_child_weight': 0.012470597498656972, 'subsample': 0.6943715015854601, 'colsample_bynode': 0.10224647510261706}. Best is trial 50 with value: 1.9209770155158712.\u001B[0m\n"
     ]
    },
    {
     "name": "stdout",
     "output_type": "stream",
     "text": [
      "[0]\ttrain-mlogloss:2.28838+0.00309\ttrain-merror:0.52440+0.01428\ttest-mlogloss:2.35482+0.00581\ttest-merror:0.76234+0.02700\n",
      "[100]\ttrain-mlogloss:0.20694+0.00657\ttrain-merror:0.01379+0.00206\ttest-mlogloss:1.98873+0.06755\ttest-merror:0.67892+0.00722\n",
      "[143]\ttrain-mlogloss:0.11892+0.00359\ttrain-merror:0.00530+0.00112\ttest-mlogloss:2.03578+0.07400\ttest-merror:0.68744+0.01032\n"
     ]
    },
    {
     "name": "stderr",
     "output_type": "stream",
     "text": [
      "\u001B[32m[I 2023-05-01 09:28:29,469]\u001B[0m Trial 94 finished with value: 1.9829709471975256 and parameters: {'eta': 0.10630090709401542, 'max_depth': 7, 'min_child_weight': 0.010055202004555387, 'subsample': 0.577555409418919, 'colsample_bynode': 0.12524252608792513}. Best is trial 50 with value: 1.9209770155158712.\u001B[0m\n"
     ]
    },
    {
     "name": "stdout",
     "output_type": "stream",
     "text": [
      "[0]\ttrain-mlogloss:2.34211+0.00183\ttrain-merror:0.50001+0.02026\ttest-mlogloss:2.37391+0.00416\ttest-merror:0.75667+0.03031\n",
      "[86]\ttrain-mlogloss:0.59557+0.00865\ttrain-merror:0.03571+0.00422\ttest-mlogloss:1.92746+0.05948\ttest-merror:0.68318+0.00778\n"
     ]
    },
    {
     "name": "stderr",
     "output_type": "stream",
     "text": [
      "\u001B[32m[I 2023-05-01 09:28:39,565]\u001B[0m Trial 95 finished with value: 2.0058142517642077 and parameters: {'eta': 0.05100876848483196, 'max_depth': 7, 'min_child_weight': 0.01655481971866889, 'subsample': 0.6024933779413059, 'colsample_bynode': 0.14770376089824122}. Best is trial 50 with value: 1.9209770155158712.\u001B[0m\n"
     ]
    },
    {
     "name": "stdout",
     "output_type": "stream",
     "text": [
      "[0]\ttrain-mlogloss:2.32165+0.00243\ttrain-merror:0.50707+0.01160\ttest-mlogloss:2.36845+0.00432\ttest-merror:0.78220+0.01890\n",
      "[67]\ttrain-mlogloss:0.57234+0.00793\ttrain-merror:0.02935+0.00179\ttest-mlogloss:1.93811+0.05713\ttest-merror:0.68740+0.01526\n"
     ]
    },
    {
     "name": "stderr",
     "output_type": "stream",
     "text": [
      "\u001B[32m[I 2023-05-01 09:28:47,372]\u001B[0m Trial 96 finished with value: 2.0716352289205973 and parameters: {'eta': 0.06722858944862693, 'max_depth': 7, 'min_child_weight': 0.013797347585928361, 'subsample': 0.549110372322714, 'colsample_bynode': 0.19230322338631514}. Best is trial 50 with value: 1.9209770155158712.\u001B[0m\n"
     ]
    },
    {
     "name": "stdout",
     "output_type": "stream",
     "text": [
      "[0]\ttrain-mlogloss:2.35814+0.00088\ttrain-merror:0.46959+0.01544\ttest-mlogloss:2.38383+0.00094\ttest-merror:0.76239+0.01284\n",
      "[59]\ttrain-mlogloss:1.06885+0.00720\ttrain-merror:0.06082+0.00267\ttest-mlogloss:1.99113+0.03647\ttest-merror:0.68878+0.03508\n"
     ]
    },
    {
     "name": "stderr",
     "output_type": "stream",
     "text": [
      "\u001B[32m[I 2023-05-01 09:28:54,616]\u001B[0m Trial 97 finished with value: 2.246872719936278 and parameters: {'eta': 0.03356468732331652, 'max_depth': 7, 'min_child_weight': 0.02000805438734296, 'subsample': 0.6774894555073913, 'colsample_bynode': 0.16150618933192112}. Best is trial 50 with value: 1.9209770155158712.\u001B[0m\n"
     ]
    },
    {
     "name": "stdout",
     "output_type": "stream",
     "text": [
      "[0]\ttrain-mlogloss:2.31962+0.00450\ttrain-merror:0.55906+0.01950\ttest-mlogloss:2.36729+0.00195\ttest-merror:0.77792+0.01666\n",
      "[81]\ttrain-mlogloss:0.46239+0.01034\ttrain-merror:0.03182+0.00294\ttest-mlogloss:1.93655+0.05069\ttest-merror:0.69875+0.01252\n"
     ]
    },
    {
     "name": "stderr",
     "output_type": "stream",
     "text": [
      "\u001B[32m[I 2023-05-01 09:29:02,256]\u001B[0m Trial 98 finished with value: 1.9784252570813479 and parameters: {'eta': 0.08436753848089709, 'max_depth': 6, 'min_child_weight': 0.028756474775064732, 'subsample': 0.6410153725404477, 'colsample_bynode': 0.11786642729443911}. Best is trial 50 with value: 1.9209770155158712.\u001B[0m\n"
     ]
    },
    {
     "name": "stdout",
     "output_type": "stream",
     "text": [
      "[0]\ttrain-mlogloss:2.25146+0.00593\ttrain-merror:0.47419+0.00350\ttest-mlogloss:2.34216+0.00667\ttest-merror:0.75669+0.02618\n",
      "[100]\ttrain-mlogloss:0.11813+0.00343\ttrain-merror:0.00530+0.00193\ttest-mlogloss:2.00833+0.08775\ttest-merror:0.68032+0.01670\n",
      "[118]\ttrain-mlogloss:0.09190+0.00305\ttrain-merror:0.00354+0.00112\ttest-mlogloss:2.03179+0.08963\ttest-merror:0.68174+0.01754\n"
     ]
    },
    {
     "name": "stderr",
     "output_type": "stream",
     "text": [
      "\u001B[32m[I 2023-05-01 09:29:18,562]\u001B[0m Trial 99 finished with value: 1.9627805146993684 and parameters: {'eta': 0.12967555322939753, 'max_depth': 8, 'min_child_weight': 0.022993142967162587, 'subsample': 0.7064379536625711, 'colsample_bynode': 0.1003552472724055}. Best is trial 50 with value: 1.9209770155158712.\u001B[0m\n"
     ]
    },
    {
     "name": "stdout",
     "output_type": "stream",
     "text": [
      "[0]\ttrain-mlogloss:2.27353+0.00427\ttrain-merror:0.48622+0.01207\ttest-mlogloss:2.34848+0.00508\ttest-merror:0.75666+0.02967\n",
      "[82]\ttrain-mlogloss:0.20724+0.00386\ttrain-merror:0.01096+0.00283\ttest-mlogloss:1.97183+0.08498\ttest-merror:0.68453+0.03392\n"
     ]
    },
    {
     "name": "stderr",
     "output_type": "stream",
     "text": [
      "\u001B[32m[I 2023-05-01 09:29:29,817]\u001B[0m Trial 100 finished with value: 1.9515317049731493 and parameters: {'eta': 0.11004569450041618, 'max_depth': 8, 'min_child_weight': 0.012016576577832897, 'subsample': 0.6177625590501713, 'colsample_bynode': 0.13480801506348172}. Best is trial 50 with value: 1.9209770155158712.\u001B[0m\n"
     ]
    },
    {
     "name": "stdout",
     "output_type": "stream",
     "text": [
      "[0]\ttrain-mlogloss:2.29668+0.00366\ttrain-merror:0.37306+0.00485\ttest-mlogloss:2.36654+0.00447\ttest-merror:0.76941+0.03085\n",
      "[94]\ttrain-mlogloss:0.20141+0.00412\ttrain-merror:0.00813+0.00239\ttest-mlogloss:1.96056+0.07021\ttest-merror:0.68315+0.02647\n"
     ]
    },
    {
     "name": "stderr",
     "output_type": "stream",
     "text": [
      "\u001B[32m[I 2023-05-01 09:29:45,652]\u001B[0m Trial 101 finished with value: 1.9607822407166888 and parameters: {'eta': 0.06897679161946156, 'max_depth': 9, 'min_child_weight': 0.017989487284599388, 'subsample': 0.7660223811921315, 'colsample_bynode': 0.17419207845349385}. Best is trial 50 with value: 1.9209770155158712.\u001B[0m\n"
     ]
    },
    {
     "name": "stdout",
     "output_type": "stream",
     "text": [
      "[0]\ttrain-mlogloss:2.35499+0.00120\ttrain-merror:0.66938+0.01601\ttest-mlogloss:2.37228+0.00334\ttest-merror:0.75104+0.00747\n",
      "[69]\ttrain-mlogloss:1.25631+0.01764\ttrain-merror:0.27828+0.01075\ttest-mlogloss:1.93975+0.05570\ttest-merror:0.68454+0.01897\n"
     ]
    },
    {
     "name": "stderr",
     "output_type": "stream",
     "text": [
      "\u001B[32m[I 2023-05-01 09:29:48,443]\u001B[0m Trial 102 finished with value: 2.075646642558094 and parameters: {'eta': 0.07585694403348585, 'max_depth': 3, 'min_child_weight': 0.02700291631187753, 'subsample': 0.7227496032733334, 'colsample_bynode': 0.20565909250597733}. Best is trial 50 with value: 1.9209770155158712.\u001B[0m\n"
     ]
    },
    {
     "name": "stdout",
     "output_type": "stream",
     "text": [
      "[0]\ttrain-mlogloss:2.24518+0.00328\ttrain-merror:0.32956+0.01146\ttest-mlogloss:2.34760+0.00322\ttest-merror:0.74110+0.01896\n",
      "[60]\ttrain-mlogloss:0.21967+0.00450\ttrain-merror:0.00955+0.00287\ttest-mlogloss:1.96278+0.04127\ttest-merror:0.68600+0.02217\n"
     ]
    },
    {
     "name": "stderr",
     "output_type": "stream",
     "text": [
      "\u001B[32m[I 2023-05-01 09:29:58,549]\u001B[0m Trial 103 finished with value: 2.0979584186134987 and parameters: {'eta': 0.09559956712477233, 'max_depth': 9, 'min_child_weight': 0.014578688102462286, 'subsample': 0.75404464024314, 'colsample_bynode': 0.2350377833555581}. Best is trial 50 with value: 1.9209770155158712.\u001B[0m\n"
     ]
    },
    {
     "name": "stdout",
     "output_type": "stream",
     "text": [
      "[0]\ttrain-mlogloss:2.33963+0.00114\ttrain-merror:0.43458+0.01442\ttest-mlogloss:2.37531+0.00497\ttest-merror:0.74964+0.04031\n",
      "[100]\ttrain-mlogloss:0.44347+0.00656\ttrain-merror:0.02086+0.00342\ttest-mlogloss:1.92930+0.05362\ttest-merror:0.67610+0.01502\n",
      "[140]\ttrain-mlogloss:0.28166+0.00491\ttrain-merror:0.01379+0.00324\ttest-mlogloss:1.92587+0.06413\ttest-merror:0.67327+0.01431\n"
     ]
    },
    {
     "name": "stderr",
     "output_type": "stream",
     "text": [
      "\u001B[32m[I 2023-05-01 09:30:21,400]\u001B[0m Trial 104 finished with value: 1.933060370174283 and parameters: {'eta': 0.044828302661245815, 'max_depth': 9, 'min_child_weight': 0.022028979062369183, 'subsample': 0.6652922850381493, 'colsample_bynode': 0.15412534980248485}. Best is trial 50 with value: 1.9209770155158712.\u001B[0m\n"
     ]
    },
    {
     "name": "stdout",
     "output_type": "stream",
     "text": [
      "[0]\ttrain-mlogloss:2.34749+0.00142\ttrain-merror:0.49115+0.01427\ttest-mlogloss:2.37896+0.00274\ttest-merror:0.76801+0.03532\n",
      "[100]\ttrain-mlogloss:0.55583+0.01023\ttrain-merror:0.02970+0.00376\ttest-mlogloss:1.93666+0.05712\ttest-merror:0.67606+0.02175\n",
      "[172]\ttrain-mlogloss:0.27887+0.00796\ttrain-merror:0.01945+0.00250\ttest-mlogloss:1.94615+0.07209\ttest-merror:0.67044+0.02513\n"
     ]
    },
    {
     "name": "stderr",
     "output_type": "stream",
     "text": [
      "\u001B[32m[I 2023-05-01 09:30:45,788]\u001B[0m Trial 105 finished with value: 1.9353823626708102 and parameters: {'eta': 0.04421858613253878, 'max_depth': 7, 'min_child_weight': 0.01825798390000566, 'subsample': 0.6534986490906843, 'colsample_bynode': 0.14574813802026262}. Best is trial 50 with value: 1.9209770155158712.\u001B[0m\n"
     ]
    },
    {
     "name": "stdout",
     "output_type": "stream",
     "text": [
      "[0]\ttrain-mlogloss:2.37813+0.00016\ttrain-merror:0.47985+0.01946\ttest-mlogloss:2.38967+0.00134\ttest-merror:0.75107+0.03125\n",
      "[100]\ttrain-mlogloss:1.20808+0.01001\ttrain-merror:0.07143+0.00456\ttest-mlogloss:2.01234+0.03212\ttest-merror:0.68027+0.02983\n",
      "[193]\ttrain-mlogloss:0.74592+0.00977\ttrain-merror:0.03854+0.00396\ttest-mlogloss:1.93137+0.04899\ttest-merror:0.66900+0.01549\n"
     ]
    },
    {
     "name": "stderr",
     "output_type": "stream",
     "text": [
      "\u001B[32m[I 2023-05-01 09:31:14,341]\u001B[0m Trial 106 finished with value: 1.9611500426217425 and parameters: {'eta': 0.01767571127605326, 'max_depth': 7, 'min_child_weight': 0.017813833336884886, 'subsample': 0.6625960053651752, 'colsample_bynode': 0.14036524331918607}. Best is trial 50 with value: 1.9209770155158712.\u001B[0m\n"
     ]
    },
    {
     "name": "stdout",
     "output_type": "stream",
     "text": [
      "[0]\ttrain-mlogloss:2.34269+0.00094\ttrain-merror:0.47029+0.00828\ttest-mlogloss:2.37739+0.00304\ttest-merror:0.77656+0.03899\n",
      "[83]\ttrain-mlogloss:0.59760+0.00938\ttrain-merror:0.02970+0.00303\ttest-mlogloss:1.92999+0.05157\ttest-merror:0.68313+0.01453\n"
     ]
    },
    {
     "name": "stderr",
     "output_type": "stream",
     "text": [
      "\u001B[32m[I 2023-05-01 09:31:25,822]\u001B[0m Trial 107 finished with value: 2.0250887690253956 and parameters: {'eta': 0.04549705239427148, 'max_depth': 7, 'min_child_weight': 0.015494070817586846, 'subsample': 0.6586996215228725, 'colsample_bynode': 0.18843224238949086}. Best is trial 50 with value: 1.9209770155158712.\u001B[0m\n"
     ]
    },
    {
     "name": "stdout",
     "output_type": "stream",
     "text": [
      "[0]\ttrain-mlogloss:2.33431+0.00181\ttrain-merror:0.52368+0.01722\ttest-mlogloss:2.37402+0.00452\ttest-merror:0.75962+0.02968\n",
      "[97]\ttrain-mlogloss:0.46892+0.01244\ttrain-merror:0.02935+0.00345\ttest-mlogloss:1.93057+0.06834\ttest-merror:0.69164+0.01270\n"
     ]
    },
    {
     "name": "stderr",
     "output_type": "stream",
     "text": [
      "\u001B[32m[I 2023-05-01 09:31:36,533]\u001B[0m Trial 108 finished with value: 1.9633913897106652 and parameters: {'eta': 0.05902873306390044, 'max_depth': 6, 'min_child_weight': 0.022249401156266214, 'subsample': 0.6848248072830893, 'colsample_bynode': 0.1605493186288793}. Best is trial 50 with value: 1.9209770155158712.\u001B[0m\n"
     ]
    },
    {
     "name": "stdout",
     "output_type": "stream",
     "text": [
      "[0]\ttrain-mlogloss:2.35583+0.00170\ttrain-merror:0.44660+0.02140\ttest-mlogloss:2.38231+0.00257\ttest-merror:0.75679+0.02042\n",
      "[100]\ttrain-mlogloss:0.67469+0.00828\ttrain-merror:0.02652+0.00193\ttest-mlogloss:1.95338+0.04211\ttest-merror:0.65769+0.00811\n",
      "[101]\ttrain-mlogloss:0.66801+0.00837\ttrain-merror:0.02652+0.00193\ttest-mlogloss:1.95238+0.04251\ttest-merror:0.65910+0.00768\n"
     ]
    },
    {
     "name": "stderr",
     "output_type": "stream",
     "text": [
      "\u001B[32m[I 2023-05-01 09:31:52,083]\u001B[0m Trial 109 finished with value: 2.031922184695208 and parameters: {'eta': 0.030869290082639333, 'max_depth': 8, 'min_child_weight': 0.011109194941743788, 'subsample': 0.6089314523686202, 'colsample_bynode': 0.2641642484055957}. Best is trial 50 with value: 1.9209770155158712.\u001B[0m\n"
     ]
    },
    {
     "name": "stdout",
     "output_type": "stream",
     "text": [
      "[0]\ttrain-mlogloss:2.35392+0.00174\ttrain-merror:0.54102+0.01701\ttest-mlogloss:2.37989+0.00169\ttest-merror:0.77648+0.02348\n",
      "[100]\ttrain-mlogloss:0.64559+0.00826\ttrain-merror:0.03713+0.00249\ttest-mlogloss:1.93323+0.05967\ttest-merror:0.68167+0.02591\n",
      "[164]\ttrain-mlogloss:0.36677+0.00741\ttrain-merror:0.02440+0.00205\ttest-mlogloss:1.94164+0.07467\ttest-merror:0.68313+0.01824\n"
     ]
    },
    {
     "name": "stderr",
     "output_type": "stream",
     "text": [
      "\u001B[32m[I 2023-05-01 09:32:13,776]\u001B[0m Trial 110 finished with value: 1.9299656040233437 and parameters: {'eta': 0.04478331847127021, 'max_depth': 7, 'min_child_weight': 0.013317957822637816, 'subsample': 0.5903285326916993, 'colsample_bynode': 0.11928664399727704}. Best is trial 50 with value: 1.9209770155158712.\u001B[0m\n"
     ]
    },
    {
     "name": "stdout",
     "output_type": "stream",
     "text": [
      "[0]\ttrain-mlogloss:2.35170+0.00198\ttrain-merror:0.52828+0.01364\ttest-mlogloss:2.38060+0.00265\ttest-merror:0.79771+0.03010\n",
      "[72]\ttrain-mlogloss:0.81949+0.00381\ttrain-merror:0.05163+0.00207\ttest-mlogloss:1.94587+0.04451\ttest-merror:0.68739+0.01544\n"
     ]
    },
    {
     "name": "stderr",
     "output_type": "stream",
     "text": [
      "\u001B[32m[I 2023-05-01 09:32:23,337]\u001B[0m Trial 111 finished with value: 2.1025613568275916 and parameters: {'eta': 0.04810659962002096, 'max_depth': 7, 'min_child_weight': 0.011873067638184284, 'subsample': 0.5844335909216025, 'colsample_bynode': 0.12058568650622495}. Best is trial 50 with value: 1.9209770155158712.\u001B[0m\n"
     ]
    },
    {
     "name": "stdout",
     "output_type": "stream",
     "text": [
      "[0]\ttrain-mlogloss:2.33223+0.00114\ttrain-merror:0.51132+0.00921\ttest-mlogloss:2.36899+0.00454\ttest-merror:0.74537+0.02362\n",
      "[100]\ttrain-mlogloss:0.41318+0.00857\ttrain-merror:0.02405+0.00180\ttest-mlogloss:1.93148+0.05858\ttest-merror:0.67467+0.00821\n",
      "[144]\ttrain-mlogloss:0.25233+0.00674\ttrain-merror:0.01626+0.00282\ttest-mlogloss:1.95317+0.06992\ttest-merror:0.68595+0.01956\n"
     ]
    },
    {
     "name": "stderr",
     "output_type": "stream",
     "text": [
      "\u001B[32m[I 2023-05-01 09:32:42,893]\u001B[0m Trial 112 finished with value: 1.9306509870634296 and parameters: {'eta': 0.06043889626955766, 'max_depth': 7, 'min_child_weight': 0.018972002553967745, 'subsample': 0.6266593552482291, 'colsample_bynode': 0.1405327505038532}. Best is trial 50 with value: 1.9209770155158712.\u001B[0m\n"
     ]
    },
    {
     "name": "stdout",
     "output_type": "stream",
     "text": [
      "[0]\ttrain-mlogloss:2.33196+0.00220\ttrain-merror:0.52192+0.01491\ttest-mlogloss:2.37195+0.00275\ttest-merror:0.76238+0.02589\n",
      "[100]\ttrain-mlogloss:0.41546+0.00723\ttrain-merror:0.02546+0.00239\ttest-mlogloss:1.92398+0.07346\ttest-merror:0.67176+0.03943\n",
      "[150]\ttrain-mlogloss:0.23964+0.00713\ttrain-merror:0.01662+0.00482\ttest-mlogloss:1.95107+0.08351\ttest-merror:0.68312+0.02794\n"
     ]
    },
    {
     "name": "stderr",
     "output_type": "stream",
     "text": [
      "\u001B[32m[I 2023-05-01 09:33:02,931]\u001B[0m Trial 113 finished with value: 1.9239790613608512 and parameters: {'eta': 0.06353057577667412, 'max_depth': 7, 'min_child_weight': 0.012904182672653568, 'subsample': 0.622601405381803, 'colsample_bynode': 0.11927600977029183}. Best is trial 50 with value: 1.9209770155158712.\u001B[0m\n"
     ]
    },
    {
     "name": "stdout",
     "output_type": "stream",
     "text": [
      "[0]\ttrain-mlogloss:2.33178+0.00359\ttrain-merror:0.51979+0.02160\ttest-mlogloss:2.37039+0.00377\ttest-merror:0.77371+0.02383\n",
      "[100]\ttrain-mlogloss:0.41037+0.00638\ttrain-merror:0.02511+0.00260\ttest-mlogloss:1.91598+0.05770\ttest-merror:0.68037+0.01571\n",
      "[103]\ttrain-mlogloss:0.39527+0.00664\ttrain-merror:0.02475+0.00223\ttest-mlogloss:1.91691+0.05857\ttest-merror:0.68320+0.01441\n"
     ]
    },
    {
     "name": "stderr",
     "output_type": "stream",
     "text": [
      "\u001B[32m[I 2023-05-01 09:33:16,915]\u001B[0m Trial 114 finished with value: 1.928184885655282 and parameters: {'eta': 0.06396157337136102, 'max_depth': 7, 'min_child_weight': 0.013036080899632494, 'subsample': 0.6296743023615785, 'colsample_bynode': 0.11895376192851613}. Best is trial 50 with value: 1.9209770155158712.\u001B[0m\n"
     ]
    },
    {
     "name": "stdout",
     "output_type": "stream",
     "text": [
      "[0]\ttrain-mlogloss:2.33231+0.00356\ttrain-merror:0.51979+0.02160\ttest-mlogloss:2.37060+0.00374\ttest-merror:0.77371+0.02383\n",
      "[100]\ttrain-mlogloss:0.41279+0.00781\ttrain-merror:0.02546+0.00239\ttest-mlogloss:1.91969+0.06696\ttest-merror:0.68740+0.00847\n",
      "[110]\ttrain-mlogloss:0.36554+0.00814\ttrain-merror:0.02440+0.00234\ttest-mlogloss:1.92593+0.07064\ttest-merror:0.68600+0.00345\n"
     ]
    },
    {
     "name": "stderr",
     "output_type": "stream",
     "text": [
      "\u001B[32m[I 2023-05-01 09:33:31,901]\u001B[0m Trial 115 finished with value: 1.926835447658479 and parameters: {'eta': 0.06344239459467702, 'max_depth': 7, 'min_child_weight': 0.014271357764200868, 'subsample': 0.629849733489368, 'colsample_bynode': 0.12161606188213053}. Best is trial 50 with value: 1.9209770155158712.\u001B[0m\n"
     ]
    },
    {
     "name": "stdout",
     "output_type": "stream",
     "text": [
      "[0]\ttrain-mlogloss:2.33360+0.00161\ttrain-merror:0.53041+0.01471\ttest-mlogloss:2.37039+0.00397\ttest-merror:0.76386+0.02447\n",
      "[100]\ttrain-mlogloss:0.44342+0.00818\ttrain-merror:0.02617+0.00438\ttest-mlogloss:1.93348+0.06796\ttest-merror:0.69022+0.02613\n",
      "[186]\ttrain-mlogloss:0.19074+0.00462\ttrain-merror:0.00955+0.00380\ttest-mlogloss:1.97489+0.08857\ttest-merror:0.68593+0.03311\n"
     ]
    },
    {
     "name": "stderr",
     "output_type": "stream",
     "text": [
      "\u001B[32m[I 2023-05-01 09:33:56,233]\u001B[0m Trial 116 finished with value: 1.9474136337930386 and parameters: {'eta': 0.0651691245143763, 'max_depth': 7, 'min_child_weight': 0.013690072341723945, 'subsample': 0.5614118010338136, 'colsample_bynode': 0.12121816248088442}. Best is trial 50 with value: 1.9209770155158712.\u001B[0m\n"
     ]
    },
    {
     "name": "stdout",
     "output_type": "stream",
     "text": [
      "[0]\ttrain-mlogloss:2.31941+0.00169\ttrain-merror:0.51591+0.01377\ttest-mlogloss:2.37062+0.00543\ttest-merror:0.77792+0.00983\n",
      "[80]\ttrain-mlogloss:0.43192+0.00761\ttrain-merror:0.02405+0.00308\ttest-mlogloss:1.93259+0.06878\ttest-merror:0.67317+0.02947\n"
     ]
    },
    {
     "name": "stderr",
     "output_type": "stream",
     "text": [
      "\u001B[32m[I 2023-05-01 09:34:06,984]\u001B[0m Trial 117 finished with value: 1.992290669577234 and parameters: {'eta': 0.07279098094129745, 'max_depth': 7, 'min_child_weight': 0.013164507358017524, 'subsample': 0.6291624987375914, 'colsample_bynode': 0.13590366336793522}. Best is trial 50 with value: 1.9209770155158712.\u001B[0m\n"
     ]
    },
    {
     "name": "stdout",
     "output_type": "stream",
     "text": [
      "[0]\ttrain-mlogloss:2.31744+0.00209\ttrain-merror:0.53288+0.01631\ttest-mlogloss:2.36122+0.00468\ttest-merror:0.75103+0.02833\n",
      "[96]\ttrain-mlogloss:0.32440+0.00696\ttrain-merror:0.02228+0.00327\ttest-mlogloss:1.93143+0.05114\ttest-merror:0.67460+0.03244\n"
     ]
    },
    {
     "name": "stderr",
     "output_type": "stream",
     "text": [
      "\u001B[32m[I 2023-05-01 09:34:20,037]\u001B[0m Trial 118 finished with value: 1.9327333212899063 and parameters: {'eta': 0.08138028179497779, 'max_depth': 7, 'min_child_weight': 0.016081914588501993, 'subsample': 0.6132381568458611, 'colsample_bynode': 0.11373212236293416}. Best is trial 50 with value: 1.9209770155158712.\u001B[0m\n"
     ]
    },
    {
     "name": "stdout",
     "output_type": "stream",
     "text": [
      "[0]\ttrain-mlogloss:2.38691+0.00038\ttrain-merror:0.57285+0.00972\ttest-mlogloss:2.39286+0.00060\ttest-merror:0.77792+0.01944\n",
      "[85]\ttrain-mlogloss:1.71090+0.00664\ttrain-merror:0.15311+0.01072\ttest-mlogloss:2.10899+0.02386\ttest-merror:0.67883+0.02913\n"
     ]
    },
    {
     "name": "stderr",
     "output_type": "stream",
     "text": [
      "\u001B[32m[I 2023-05-01 09:34:29,031]\u001B[0m Trial 119 finished with value: 2.237436971520582 and parameters: {'eta': 0.012109441891544205, 'max_depth': 6, 'min_child_weight': 0.011390354359775211, 'subsample': 0.596572458560472, 'colsample_bynode': 0.10014347189138409}. Best is trial 50 with value: 1.9209770155158712.\u001B[0m\n"
     ]
    },
    {
     "name": "stdout",
     "output_type": "stream",
     "text": [
      "[0]\ttrain-mlogloss:2.32591+0.00142\ttrain-merror:0.47666+0.01280\ttest-mlogloss:2.37001+0.00525\ttest-merror:0.77376+0.03018\n",
      "[64]\ttrain-mlogloss:0.61180+0.00931\ttrain-merror:0.03147+0.00478\ttest-mlogloss:1.93601+0.04876\ttest-merror:0.67602+0.02998\n"
     ]
    },
    {
     "name": "stderr",
     "output_type": "stream",
     "text": [
      "\u001B[32m[I 2023-05-01 09:34:37,716]\u001B[0m Trial 120 finished with value: 2.1169793701049224 and parameters: {'eta': 0.061920419218042706, 'max_depth': 7, 'min_child_weight': 0.010152328049190456, 'subsample': 0.6375609828572435, 'colsample_bynode': 0.16833005166042134}. Best is trial 50 with value: 1.9209770155158712.\u001B[0m\n"
     ]
    },
    {
     "name": "stdout",
     "output_type": "stream",
     "text": [
      "[0]\ttrain-mlogloss:2.31629+0.00358\ttrain-merror:0.54101+0.01624\ttest-mlogloss:2.36364+0.00750\ttest-merror:0.76665+0.03807\n",
      "[65]\ttrain-mlogloss:0.51958+0.00811\ttrain-merror:0.02864+0.00205\ttest-mlogloss:1.93392+0.06527\ttest-merror:0.67886+0.02769\n"
     ]
    },
    {
     "name": "stderr",
     "output_type": "stream",
     "text": [
      "\u001B[32m[I 2023-05-01 09:34:46,441]\u001B[0m Trial 121 finished with value: 2.07181811607714 and parameters: {'eta': 0.08170813600566029, 'max_depth': 7, 'min_child_weight': 0.015168876234205172, 'subsample': 0.6122492188162141, 'colsample_bynode': 0.11643977440036331}. Best is trial 50 with value: 1.9209770155158712.\u001B[0m\n"
     ]
    },
    {
     "name": "stdout",
     "output_type": "stream",
     "text": [
      "[0]\ttrain-mlogloss:2.30484+0.00457\ttrain-merror:0.52545+0.02262\ttest-mlogloss:2.35603+0.00671\ttest-merror:0.74543+0.03211\n",
      "[99]\ttrain-mlogloss:0.26692+0.00770\ttrain-merror:0.01768+0.00250\ttest-mlogloss:1.96165+0.08397\ttest-merror:0.67749+0.01001\n"
     ]
    },
    {
     "name": "stderr",
     "output_type": "stream",
     "text": [
      "\u001B[32m[I 2023-05-01 09:34:59,471]\u001B[0m Trial 122 finished with value: 1.9439832953082559 and parameters: {'eta': 0.09148062351367114, 'max_depth': 7, 'min_child_weight': 0.01660172615835886, 'subsample': 0.5691672932821674, 'colsample_bynode': 0.13648236269928346}. Best is trial 50 with value: 1.9209770155158712.\u001B[0m\n"
     ]
    },
    {
     "name": "stdout",
     "output_type": "stream",
     "text": [
      "[0]\ttrain-mlogloss:2.34181+0.00285\ttrain-merror:0.53077+0.01714\ttest-mlogloss:2.37619+0.00213\ttest-merror:0.78493+0.02836\n",
      "[68]\ttrain-mlogloss:0.76194+0.01172\ttrain-merror:0.04597+0.00222\ttest-mlogloss:1.94840+0.04959\ttest-merror:0.69732+0.02373\n"
     ]
    },
    {
     "name": "stderr",
     "output_type": "stream",
     "text": [
      "\u001B[32m[I 2023-05-01 09:35:08,525]\u001B[0m Trial 123 finished with value: 2.1058271376310964 and parameters: {'eta': 0.055232985858314515, 'max_depth': 7, 'min_child_weight': 0.019671299272540025, 'subsample': 0.5880089546823168, 'colsample_bynode': 0.12265062484655004}. Best is trial 50 with value: 1.9209770155158712.\u001B[0m\n"
     ]
    },
    {
     "name": "stdout",
     "output_type": "stream",
     "text": [
      "[0]\ttrain-mlogloss:2.29654+0.00321\ttrain-merror:0.52581+0.01738\ttest-mlogloss:2.34942+0.00758\ttest-merror:0.73120+0.04259\n",
      "[85]\ttrain-mlogloss:0.28713+0.00544\ttrain-merror:0.01803+0.00377\ttest-mlogloss:1.96037+0.07744\ttest-merror:0.68593+0.02180\n"
     ]
    },
    {
     "name": "stderr",
     "output_type": "stream",
     "text": [
      "\u001B[32m[I 2023-05-01 09:35:19,719]\u001B[0m Trial 124 finished with value: 1.9511995242131799 and parameters: {'eta': 0.09842944950166435, 'max_depth': 7, 'min_child_weight': 0.013566132475748437, 'subsample': 0.5357163737234846, 'colsample_bynode': 0.16343423793961082}. Best is trial 50 with value: 1.9209770155158712.\u001B[0m\n"
     ]
    },
    {
     "name": "stdout",
     "output_type": "stream",
     "text": [
      "[0]\ttrain-mlogloss:2.31891+0.00197\ttrain-merror:0.51627+0.01240\ttest-mlogloss:2.36343+0.00510\ttest-merror:0.75678+0.02722\n",
      "[100]\ttrain-mlogloss:0.32593+0.00769\ttrain-merror:0.02157+0.00303\ttest-mlogloss:1.93082+0.09031\ttest-merror:0.68172+0.03002\n",
      "[124]\ttrain-mlogloss:0.24168+0.00634\ttrain-merror:0.01732+0.00438\ttest-mlogloss:1.94613+0.09454\ttest-merror:0.67610+0.02585\n"
     ]
    },
    {
     "name": "stderr",
     "output_type": "stream",
     "text": [
      "\u001B[32m[I 2023-05-01 09:35:36,157]\u001B[0m Trial 125 finished with value: 1.9274120583430705 and parameters: {'eta': 0.07596503818040086, 'max_depth': 7, 'min_child_weight': 0.015420838564464764, 'subsample': 0.627400182857953, 'colsample_bynode': 0.11431102779148063}. Best is trial 50 with value: 1.9209770155158712.\u001B[0m\n"
     ]
    },
    {
     "name": "stdout",
     "output_type": "stream",
     "text": [
      "[0]\ttrain-mlogloss:2.36274+0.00115\ttrain-merror:0.51660+0.02513\ttest-mlogloss:2.38299+0.00210\ttest-merror:0.76806+0.03598\n",
      "[100]\ttrain-mlogloss:0.81557+0.00926\ttrain-merror:0.05940+0.00395\ttest-mlogloss:1.93282+0.05270\ttest-merror:0.67178+0.02361\n",
      "[152]\ttrain-mlogloss:0.54646+0.00947\ttrain-merror:0.03289+0.00287\ttest-mlogloss:1.91956+0.06327\ttest-merror:0.67323+0.01708\n"
     ]
    },
    {
     "name": "stderr",
     "output_type": "stream",
     "text": [
      "\u001B[32m[I 2023-05-01 09:35:52,829]\u001B[0m Trial 126 finished with value: 1.9320096583958986 and parameters: {'eta': 0.03336446271896522, 'max_depth': 6, 'min_child_weight': 0.012408450654353026, 'subsample': 0.6400297059739981, 'colsample_bynode': 0.18386746223047887}. Best is trial 50 with value: 1.9209770155158712.\u001B[0m\n"
     ]
    },
    {
     "name": "stdout",
     "output_type": "stream",
     "text": [
      "[0]\ttrain-mlogloss:2.27109+0.00396\ttrain-merror:0.49505+0.00502\ttest-mlogloss:2.35356+0.00783\ttest-merror:0.77935+0.02340\n",
      "[70]\ttrain-mlogloss:0.26246+0.00580\ttrain-merror:0.01627+0.00234\ttest-mlogloss:1.97281+0.08666\ttest-merror:0.68174+0.02259\n"
     ]
    },
    {
     "name": "stderr",
     "output_type": "stream",
     "text": [
      "\u001B[32m[I 2023-05-01 09:36:02,395]\u001B[0m Trial 127 finished with value: 1.9962023125177926 and parameters: {'eta': 0.11595635862081616, 'max_depth': 7, 'min_child_weight': 0.018697698305343867, 'subsample': 0.625023061718126, 'colsample_bynode': 0.14182890563228281}. Best is trial 50 with value: 1.9209770155158712.\u001B[0m\n"
     ]
    },
    {
     "name": "stdout",
     "output_type": "stream",
     "text": [
      "[0]\ttrain-mlogloss:2.31878+0.00230\ttrain-merror:0.49044+0.02531\ttest-mlogloss:2.36930+0.00803\ttest-merror:0.77512+0.03960\n",
      "[100]\ttrain-mlogloss:0.30779+0.00692\ttrain-merror:0.01945+0.00353\ttest-mlogloss:1.95333+0.08880\ttest-merror:0.68032+0.01609\n",
      "[145]\ttrain-mlogloss:0.17661+0.00509\ttrain-merror:0.00778+0.00240\ttest-mlogloss:1.99017+0.09658\ttest-merror:0.68459+0.01130\n"
     ]
    },
    {
     "name": "stderr",
     "output_type": "stream",
     "text": [
      "\u001B[32m[I 2023-05-01 09:36:22,433]\u001B[0m Trial 128 finished with value: 1.953021221257945 and parameters: {'eta': 0.06852655374436938, 'max_depth': 7, 'min_child_weight': 0.022976740649202267, 'subsample': 0.5943903955764016, 'colsample_bynode': 0.20387105857162588}. Best is trial 50 with value: 1.9209770155158712.\u001B[0m\n"
     ]
    },
    {
     "name": "stdout",
     "output_type": "stream",
     "text": [
      "[0]\ttrain-mlogloss:2.34134+0.00176\ttrain-merror:0.51555+0.01107\ttest-mlogloss:2.37338+0.00191\ttest-merror:0.75525+0.01666\n",
      "[90]\ttrain-mlogloss:0.57407+0.00593\ttrain-merror:0.03112+0.00286\ttest-mlogloss:1.92063+0.04269\ttest-merror:0.67887+0.01909\n"
     ]
    },
    {
     "name": "stderr",
     "output_type": "stream",
     "text": [
      "\u001B[32m[I 2023-05-01 09:36:34,807]\u001B[0m Trial 129 finished with value: 1.984204448602819 and parameters: {'eta': 0.055242640141015216, 'max_depth': 8, 'min_child_weight': 0.014729433796423332, 'subsample': 0.565602481758325, 'colsample_bynode': 0.10111268523253884}. Best is trial 50 with value: 1.9209770155158712.\u001B[0m\n"
     ]
    },
    {
     "name": "stdout",
     "output_type": "stream",
     "text": [
      "[0]\ttrain-mlogloss:2.34805+0.00270\ttrain-merror:0.64781+0.01957\ttest-mlogloss:2.37027+0.00387\ttest-merror:0.78500+0.01075\n",
      "[100]\ttrain-mlogloss:0.81924+0.01671\ttrain-merror:0.10785+0.01105\ttest-mlogloss:1.92239+0.08011\ttest-merror:0.67889+0.02478\n",
      "[107]\ttrain-mlogloss:0.77709+0.01570\ttrain-merror:0.09972+0.00924\ttest-mlogloss:1.92779+0.08117\ttest-merror:0.67610+0.02020\n"
     ]
    },
    {
     "name": "stderr",
     "output_type": "stream",
     "text": [
      "\u001B[32m[I 2023-05-01 09:36:40,583]\u001B[0m Trial 130 finished with value: 1.9310440013582753 and parameters: {'eta': 0.0730031544945792, 'max_depth': 4, 'min_child_weight': 0.032134890239688164, 'subsample': 0.6773900366587415, 'colsample_bynode': 0.13277677520403902}. Best is trial 50 with value: 1.9209770155158712.\u001B[0m\n"
     ]
    },
    {
     "name": "stdout",
     "output_type": "stream",
     "text": [
      "[0]\ttrain-mlogloss:2.34403+0.00279\ttrain-merror:0.64746+0.01428\ttest-mlogloss:2.36803+0.00409\ttest-merror:0.78217+0.01146\n",
      "[81]\ttrain-mlogloss:0.89847+0.01188\ttrain-merror:0.12164+0.00469\ttest-mlogloss:1.92026+0.07588\ttest-merror:0.66614+0.03014\n"
     ]
    },
    {
     "name": "stderr",
     "output_type": "stream",
     "text": [
      "\u001B[32m[I 2023-05-01 09:36:44,995]\u001B[0m Trial 131 finished with value: 1.9767832365120317 and parameters: {'eta': 0.07910797751186639, 'max_depth': 4, 'min_child_weight': 0.03624793080840944, 'subsample': 0.6750451477186994, 'colsample_bynode': 0.13400155936320987}. Best is trial 50 with value: 1.9209770155158712.\u001B[0m\n"
     ]
    },
    {
     "name": "stdout",
     "output_type": "stream",
     "text": [
      "[0]\ttrain-mlogloss:2.35759+0.00183\ttrain-merror:0.71463+0.02437\ttest-mlogloss:2.37482+0.00437\ttest-merror:0.81478+0.02408\n",
      "[98]\ttrain-mlogloss:1.05944+0.01709\ttrain-merror:0.21994+0.01005\ttest-mlogloss:1.93018+0.07715\ttest-merror:0.68310+0.03210\n"
     ]
    },
    {
     "name": "stderr",
     "output_type": "stream",
     "text": [
      "\u001B[32m[I 2023-05-01 09:36:48,896]\u001B[0m Trial 132 finished with value: 1.948532291618383 and parameters: {'eta': 0.08859977848972907, 'max_depth': 3, 'min_child_weight': 0.02797501917376937, 'subsample': 0.6429268171730201, 'colsample_bynode': 0.15072660115637931}. Best is trial 50 with value: 1.9209770155158712.\u001B[0m\n"
     ]
    },
    {
     "name": "stdout",
     "output_type": "stream",
     "text": [
      "[0]\ttrain-mlogloss:2.32982+0.00458\ttrain-merror:0.66583+0.01558\ttest-mlogloss:2.35947+0.00575\ttest-merror:0.78366+0.03905\n",
      "[100]\ttrain-mlogloss:0.60996+0.01432\ttrain-merror:0.06754+0.00532\ttest-mlogloss:1.95266+0.08053\ttest-merror:0.67325+0.01950\n",
      "[146]\ttrain-mlogloss:0.40090+0.01040\ttrain-merror:0.03394+0.00303\ttest-mlogloss:2.00859+0.08875\ttest-merror:0.69026+0.01467\n"
     ]
    },
    {
     "name": "stderr",
     "output_type": "stream",
     "text": [
      "\u001B[32m[I 2023-05-01 09:36:56,663]\u001B[0m Trial 133 finished with value: 1.9522319745377708 and parameters: {'eta': 0.10681677655929085, 'max_depth': 4, 'min_child_weight': 0.03016419345845846, 'subsample': 0.6983893925015596, 'colsample_bynode': 0.12392637903468025}. Best is trial 50 with value: 1.9209770155158712.\u001B[0m\n"
     ]
    },
    {
     "name": "stdout",
     "output_type": "stream",
     "text": [
      "[0]\ttrain-mlogloss:2.35050+0.00219\ttrain-merror:0.64214+0.01426\ttest-mlogloss:2.37219+0.00276\ttest-merror:0.75667+0.02352\n",
      "[65]\ttrain-mlogloss:1.09612+0.01791\ttrain-merror:0.16796+0.01256\ttest-mlogloss:1.92738+0.05111\ttest-merror:0.68596+0.01330\n"
     ]
    },
    {
     "name": "stderr",
     "output_type": "stream",
     "text": [
      "\u001B[32m[I 2023-05-01 09:37:00,184]\u001B[0m Trial 134 finished with value: 2.1188504747226995 and parameters: {'eta': 0.06551778459491103, 'max_depth': 4, 'min_child_weight': 0.020675697409471498, 'subsample': 0.6244783966957286, 'colsample_bynode': 0.172313074895671}. Best is trial 50 with value: 1.9209770155158712.\u001B[0m\n"
     ]
    },
    {
     "name": "stdout",
     "output_type": "stream",
     "text": [
      "[0]\ttrain-mlogloss:2.36540+0.00119\ttrain-merror:0.71782+0.00258\ttest-mlogloss:2.37689+0.00217\ttest-merror:0.77939+0.02471\n",
      "[79]\ttrain-mlogloss:1.32486+0.01461\ttrain-merror:0.33239+0.00911\ttest-mlogloss:1.92091+0.05978\ttest-merror:0.69018+0.03131\n"
     ]
    },
    {
     "name": "stderr",
     "output_type": "stream",
     "text": [
      "\u001B[32m[I 2023-05-01 09:37:03,371]\u001B[0m Trial 135 finished with value: 2.018848785810115 and parameters: {'eta': 0.07498170342248464, 'max_depth': 3, 'min_child_weight': 0.01673800019786293, 'subsample': 0.5799832287255915, 'colsample_bynode': 0.115529121363698}. Best is trial 50 with value: 1.9209770155158712.\u001B[0m\n"
     ]
    },
    {
     "name": "stdout",
     "output_type": "stream",
     "text": [
      "[0]\ttrain-mlogloss:2.35402+0.00153\ttrain-merror:0.50812+0.01803\ttest-mlogloss:2.38014+0.00127\ttest-merror:0.76235+0.00794\n",
      "[85]\ttrain-mlogloss:0.76029+0.00911\ttrain-merror:0.04385+0.00342\ttest-mlogloss:1.94155+0.05311\ttest-merror:0.67746+0.02193\n"
     ]
    },
    {
     "name": "stderr",
     "output_type": "stream",
     "text": [
      "\u001B[32m[I 2023-05-01 09:37:13,475]\u001B[0m Trial 136 finished with value: 2.046195406242632 and parameters: {'eta': 0.04015079068551558, 'max_depth': 7, 'min_child_weight': 0.012971308047209569, 'subsample': 0.606427510223714, 'colsample_bynode': 0.155470625699266}. Best is trial 50 with value: 1.9209770155158712.\u001B[0m\n"
     ]
    },
    {
     "name": "stdout",
     "output_type": "stream",
     "text": [
      "[0]\ttrain-mlogloss:2.37296+0.00140\ttrain-merror:0.51839+0.00523\ttest-mlogloss:2.38791+0.00101\ttest-merror:0.77923+0.05008\n",
      "[100]\ttrain-mlogloss:1.03989+0.00977\ttrain-merror:0.07496+0.00410\ttest-mlogloss:1.97146+0.04154\ttest-merror:0.68461+0.02137\n",
      "[116]\ttrain-mlogloss:0.93479+0.00970\ttrain-merror:0.06789+0.00331\ttest-mlogloss:1.95367+0.04620\ttest-merror:0.67895+0.01460\n"
     ]
    },
    {
     "name": "stderr",
     "output_type": "stream",
     "text": [
      "\u001B[32m[I 2023-05-01 09:37:27,220]\u001B[0m Trial 137 finished with value: 2.0290254385044326 and parameters: {'eta': 0.0248001264076533, 'max_depth': 7, 'min_child_weight': 0.035057034158254965, 'subsample': 0.6612755124324955, 'colsample_bynode': 0.10000114291463814}. Best is trial 50 with value: 1.9209770155158712.\u001B[0m\n"
     ]
    },
    {
     "name": "stdout",
     "output_type": "stream",
     "text": [
      "[0]\ttrain-mlogloss:2.34345+0.00108\ttrain-merror:0.51732+0.02293\ttest-mlogloss:2.37620+0.00194\ttest-merror:0.75257+0.04080\n",
      "[100]\ttrain-mlogloss:0.55071+0.00973\ttrain-merror:0.03501+0.00235\ttest-mlogloss:1.92138+0.06513\ttest-merror:0.67467+0.02347\n",
      "[121]\ttrain-mlogloss:0.44228+0.00917\ttrain-merror:0.02687+0.00172\ttest-mlogloss:1.92193+0.07279\ttest-merror:0.67609+0.02523\n"
     ]
    },
    {
     "name": "stderr",
     "output_type": "stream",
     "text": [
      "\u001B[32m[I 2023-05-01 09:37:39,017]\u001B[0m Trial 138 finished with value: 1.932716088539808 and parameters: {'eta': 0.05337136761006206, 'max_depth': 6, 'min_child_weight': 0.02541563558007327, 'subsample': 0.6895996059062078, 'colsample_bynode': 0.13237523267365903}. Best is trial 50 with value: 1.9209770155158712.\u001B[0m\n"
     ]
    },
    {
     "name": "stdout",
     "output_type": "stream",
     "text": [
      "[0]\ttrain-mlogloss:2.32700+0.00363\ttrain-merror:0.62553+0.01045\ttest-mlogloss:2.36306+0.00548\ttest-merror:0.76667+0.03290\n",
      "[81]\ttrain-mlogloss:0.67911+0.01369\ttrain-merror:0.07355+0.00400\ttest-mlogloss:1.94137+0.07880\ttest-merror:0.68878+0.01631\n"
     ]
    },
    {
     "name": "stderr",
     "output_type": "stream",
     "text": [
      "\u001B[32m[I 2023-05-01 09:37:43,432]\u001B[0m Trial 139 finished with value: 1.9548203549501408 and parameters: {'eta': 0.09755405314406292, 'max_depth': 4, 'min_child_weight': 0.011627393050456613, 'subsample': 0.7359536802494387, 'colsample_bynode': 0.1831364351729815}. Best is trial 50 with value: 1.9209770155158712.\u001B[0m\n"
     ]
    },
    {
     "name": "stdout",
     "output_type": "stream",
     "text": [
      "[0]\ttrain-mlogloss:2.30918+0.00208\ttrain-merror:0.54775+0.02075\ttest-mlogloss:2.35962+0.00755\ttest-merror:0.77226+0.03331\n",
      "[92]\ttrain-mlogloss:0.36841+0.01022\ttrain-merror:0.02758+0.00326\ttest-mlogloss:1.96526+0.09224\ttest-merror:0.69308+0.02418\n"
     ]
    },
    {
     "name": "stderr",
     "output_type": "stream",
     "text": [
      "\u001B[32m[I 2023-05-01 09:37:50,221]\u001B[0m Trial 140 finished with value: 1.9404164555022532 and parameters: {'eta': 0.0884712262797749, 'max_depth': 5, 'min_child_weight': 0.019201563443569738, 'subsample': 0.7169535125354586, 'colsample_bynode': 0.22841562654429776}. Best is trial 50 with value: 1.9209770155158712.\u001B[0m\n"
     ]
    },
    {
     "name": "stdout",
     "output_type": "stream",
     "text": [
      "[0]\ttrain-mlogloss:2.35402+0.00130\ttrain-merror:0.50106+0.02357\ttest-mlogloss:2.38035+0.00226\ttest-merror:0.76386+0.03373\n",
      "[100]\ttrain-mlogloss:0.69438+0.01106\ttrain-merror:0.04562+0.00306\ttest-mlogloss:1.93383+0.04367\ttest-merror:0.68598+0.02012\n",
      "[156]\ttrain-mlogloss:0.42914+0.00979\ttrain-merror:0.02723+0.00285\ttest-mlogloss:1.93313+0.05723\ttest-merror:0.69307+0.02175\n"
     ]
    },
    {
     "name": "stderr",
     "output_type": "stream",
     "text": [
      "\u001B[32m[I 2023-05-01 09:38:05,251]\u001B[0m Trial 141 finished with value: 1.931127922447465 and parameters: {'eta': 0.039848659843718146, 'max_depth': 6, 'min_child_weight': 0.014202760828577826, 'subsample': 0.6465160682717097, 'colsample_bynode': 0.18581086069931324}. Best is trial 50 with value: 1.9209770155158712.\u001B[0m\n"
     ]
    },
    {
     "name": "stdout",
     "output_type": "stream",
     "text": [
      "[0]\ttrain-mlogloss:2.34298+0.00129\ttrain-merror:0.59937+0.01156\ttest-mlogloss:2.37000+0.00434\ttest-merror:0.75672+0.02035\n",
      "[100]\ttrain-mlogloss:0.61018+0.01370\ttrain-merror:0.05021+0.00325\ttest-mlogloss:1.92986+0.08065\ttest-merror:0.67040+0.02601\n",
      "[102]\ttrain-mlogloss:0.59801+0.01380\ttrain-merror:0.04738+0.00583\ttest-mlogloss:1.93144+0.08137\ttest-merror:0.67040+0.02479\n"
     ]
    },
    {
     "name": "stderr",
     "output_type": "stream",
     "text": [
      "\u001B[32m[I 2023-05-01 09:38:12,768]\u001B[0m Trial 142 finished with value: 1.940919944748019 and parameters: {'eta': 0.06428540511851853, 'max_depth': 5, 'min_child_weight': 0.010061216477910999, 'subsample': 0.6444334118125143, 'colsample_bynode': 0.15427833852374012}. Best is trial 50 with value: 1.9209770155158712.\u001B[0m\n"
     ]
    },
    {
     "name": "stdout",
     "output_type": "stream",
     "text": [
      "[0]\ttrain-mlogloss:2.36554+0.00128\ttrain-merror:0.57250+0.01331\ttest-mlogloss:2.38324+0.00132\ttest-merror:0.76376+0.01806\n",
      "[68]\ttrain-mlogloss:1.20154+0.01264\ttrain-merror:0.12659+0.01029\ttest-mlogloss:1.96804+0.04936\ttest-merror:0.69014+0.03295\n"
     ]
    },
    {
     "name": "stderr",
     "output_type": "stream",
     "text": [
      "\u001B[32m[I 2023-05-01 09:38:17,808]\u001B[0m Trial 143 finished with value: 2.1607087599553614 and parameters: {'eta': 0.03449572740073352, 'max_depth': 5, 'min_child_weight': 0.014699085410020612, 'subsample': 0.6248420445912373, 'colsample_bynode': 0.20775487574956686}. Best is trial 50 with value: 1.9209770155158712.\u001B[0m\n"
     ]
    },
    {
     "name": "stdout",
     "output_type": "stream",
     "text": [
      "[0]\ttrain-mlogloss:2.34748+0.00187\ttrain-merror:0.55941+0.01022\ttest-mlogloss:2.37646+0.00386\ttest-merror:0.76097+0.01558\n",
      "[100]\ttrain-mlogloss:0.61167+0.01088\ttrain-merror:0.04350+0.00765\ttest-mlogloss:1.91939+0.06197\ttest-merror:0.65766+0.02252\n",
      "[161]\ttrain-mlogloss:0.35199+0.00783\ttrain-merror:0.02511+0.00303\ttest-mlogloss:1.93637+0.08065\ttest-merror:0.66754+0.03990\n"
     ]
    },
    {
     "name": "stderr",
     "output_type": "stream",
     "text": [
      "\u001B[32m[I 2023-05-01 09:38:32,989]\u001B[0m Trial 144 finished with value: 1.916699850573896 and parameters: {'eta': 0.05289625158191413, 'max_depth': 6, 'min_child_weight': 0.016390913420647506, 'subsample': 0.5975368524235725, 'colsample_bynode': 0.13652953953353847}. Best is trial 144 with value: 1.916699850573896.\u001B[0m\n"
     ]
    },
    {
     "name": "stdout",
     "output_type": "stream",
     "text": [
      "[0]\ttrain-mlogloss:2.32559+0.00219\ttrain-merror:0.53572+0.01327\ttest-mlogloss:2.36756+0.00376\ttest-merror:0.77785+0.02620\n",
      "[100]\ttrain-mlogloss:0.36544+0.00903\ttrain-merror:0.02369+0.00181\ttest-mlogloss:1.93524+0.09587\ttest-merror:0.68312+0.02484\n",
      "[144]\ttrain-mlogloss:0.21968+0.00687\ttrain-merror:0.01273+0.00360\ttest-mlogloss:1.96551+0.10000\ttest-merror:0.68876+0.02443\n"
     ]
    },
    {
     "name": "stderr",
     "output_type": "stream",
     "text": [
      "\u001B[32m[I 2023-05-01 09:38:49,857]\u001B[0m Trial 145 finished with value: 1.9326143007807715 and parameters: {'eta': 0.07367634468968613, 'max_depth': 7, 'min_child_weight': 0.022275614191781576, 'subsample': 0.5926835916809924, 'colsample_bynode': 0.1166242738121903}. Best is trial 144 with value: 1.916699850573896.\u001B[0m\n"
     ]
    },
    {
     "name": "stdout",
     "output_type": "stream",
     "text": [
      "[0]\ttrain-mlogloss:2.33906+0.00118\ttrain-merror:0.49858+0.01470\ttest-mlogloss:2.37554+0.00255\ttest-merror:0.76668+0.02169\n",
      "[100]\ttrain-mlogloss:0.44881+0.00936\ttrain-merror:0.02652+0.00334\ttest-mlogloss:1.93232+0.05103\ttest-merror:0.67467+0.01507\n",
      "[194]\ttrain-mlogloss:0.17541+0.00520\ttrain-merror:0.00955+0.00308\ttest-mlogloss:1.97388+0.07812\ttest-merror:0.67186+0.01024\n"
     ]
    },
    {
     "name": "stderr",
     "output_type": "stream",
     "text": [
      "\u001B[32m[I 2023-05-01 09:39:13,775]\u001B[0m Trial 146 finished with value: 1.9494199080039762 and parameters: {'eta': 0.05131427626686113, 'max_depth': 7, 'min_child_weight': 0.01796378502501107, 'subsample': 0.6808735246537612, 'colsample_bynode': 0.1410320247761092}. Best is trial 144 with value: 1.916699850573896.\u001B[0m\n"
     ]
    },
    {
     "name": "stdout",
     "output_type": "stream",
     "text": [
      "[0]\ttrain-mlogloss:2.30920+0.00159\ttrain-merror:0.51487+0.02444\ttest-mlogloss:2.36880+0.00639\ttest-merror:0.79073+0.02197\n",
      "[65]\ttrain-mlogloss:0.46426+0.00653\ttrain-merror:0.02723+0.00285\ttest-mlogloss:1.94181+0.04905\ttest-merror:0.68741+0.01363\n"
     ]
    },
    {
     "name": "stderr",
     "output_type": "stream",
     "text": [
      "\u001B[32m[I 2023-05-01 09:39:21,610]\u001B[0m Trial 147 finished with value: 2.0646572176362947 and parameters: {'eta': 0.080525085147953, 'max_depth': 7, 'min_child_weight': 0.029978358790427703, 'subsample': 0.6117734125551567, 'colsample_bynode': 0.1636274938369495}. Best is trial 144 with value: 1.916699850573896.\u001B[0m\n"
     ]
    },
    {
     "name": "stdout",
     "output_type": "stream",
     "text": [
      "[0]\ttrain-mlogloss:2.34443+0.00141\ttrain-merror:0.57002+0.01824\ttest-mlogloss:2.37390+0.00268\ttest-merror:0.76946+0.01431\n",
      "[100]\ttrain-mlogloss:0.59124+0.01071\ttrain-merror:0.03783+0.00362\ttest-mlogloss:1.92196+0.06343\ttest-merror:0.68032+0.01672\n",
      "[102]\ttrain-mlogloss:0.57948+0.01082\ttrain-merror:0.03536+0.00485\ttest-mlogloss:1.92205+0.06471\ttest-merror:0.68600+0.01389\n"
     ]
    },
    {
     "name": "stderr",
     "output_type": "stream",
     "text": [
      "\u001B[32m[I 2023-05-01 09:39:31,198]\u001B[0m Trial 148 finished with value: 1.9536271986187 and parameters: {'eta': 0.05672358634620775, 'max_depth': 6, 'min_child_weight': 0.05034685805269925, 'subsample': 0.563392375275681, 'colsample_bynode': 0.12502502688568795}. Best is trial 144 with value: 1.916699850573896.\u001B[0m\n"
     ]
    },
    {
     "name": "stdout",
     "output_type": "stream",
     "text": [
      "[0]\ttrain-mlogloss:2.29597+0.00414\ttrain-merror:0.53607+0.01383\ttest-mlogloss:2.35623+0.00607\ttest-merror:0.77219+0.04994\n",
      "[100]\ttrain-mlogloss:0.21584+0.00497\ttrain-merror:0.01379+0.00172\ttest-mlogloss:1.94273+0.07660\ttest-merror:0.66474+0.02607\n",
      "[101]\ttrain-mlogloss:0.21253+0.00485\ttrain-merror:0.01308+0.00086\ttest-mlogloss:1.94398+0.07701\ttest-merror:0.65908+0.02491\n"
     ]
    },
    {
     "name": "stderr",
     "output_type": "stream",
     "text": [
      "\u001B[32m[I 2023-05-01 09:39:43,380]\u001B[0m Trial 149 finished with value: 1.91898420524273 and parameters: {'eta': 0.10325590164745536, 'max_depth': 7, 'min_child_weight': 0.016128288877501666, 'subsample': 0.6680099712972232, 'colsample_bynode': 0.10026040733849674}. Best is trial 144 with value: 1.916699850573896.\u001B[0m\n"
     ]
    },
    {
     "name": "stdout",
     "output_type": "stream",
     "text": [
      "[0]\ttrain-mlogloss:2.26341+0.00662\ttrain-merror:0.48726+0.01332\ttest-mlogloss:2.34192+0.00388\ttest-merror:0.72133+0.03781\n",
      "[100]\ttrain-mlogloss:0.14320+0.00414\ttrain-merror:0.00530+0.00158\ttest-mlogloss:2.02553+0.07461\ttest-merror:0.67322+0.03256\n",
      "[143]\ttrain-mlogloss:0.07862+0.00222\ttrain-merror:0.00106+0.00142\ttest-mlogloss:2.09140+0.08737\ttest-merror:0.68174+0.02424\n"
     ]
    },
    {
     "name": "stderr",
     "output_type": "stream",
     "text": [
      "\u001B[32m[I 2023-05-01 09:39:59,650]\u001B[0m Trial 150 finished with value: 2.014326996744937 and parameters: {'eta': 0.10624712186262747, 'max_depth': 7, 'min_child_weight': 0.015516582747238886, 'subsample': 0.5410235553519067, 'colsample_bynode': 0.39693037133005094}. Best is trial 144 with value: 1.916699850573896.\u001B[0m\n"
     ]
    },
    {
     "name": "stdout",
     "output_type": "stream",
     "text": [
      "[0]\ttrain-mlogloss:2.27208+0.00485\ttrain-merror:0.49717+0.00901\ttest-mlogloss:2.35090+0.00824\ttest-merror:0.76381+0.02564\n",
      "[82]\ttrain-mlogloss:0.20554+0.00540\ttrain-merror:0.01379+0.00360\ttest-mlogloss:1.99245+0.06733\ttest-merror:0.68877+0.02816\n"
     ]
    },
    {
     "name": "stderr",
     "output_type": "stream",
     "text": [
      "\u001B[32m[I 2023-05-01 09:40:09,562]\u001B[0m Trial 151 finished with value: 1.9548500993666846 and parameters: {'eta': 0.12179824921372742, 'max_depth': 7, 'min_child_weight': 0.011589233014374827, 'subsample': 0.6696248482291478, 'colsample_bynode': 0.11630783276976882}. Best is trial 144 with value: 1.916699850573896.\u001B[0m\n"
     ]
    },
    {
     "name": "stdout",
     "output_type": "stream",
     "text": [
      "[0]\ttrain-mlogloss:2.32276+0.00396\ttrain-merror:0.50884+0.02390\ttest-mlogloss:2.36887+0.00423\ttest-merror:0.75388+0.02924\n",
      "[100]\ttrain-mlogloss:0.33922+0.00632\ttrain-merror:0.02405+0.00240\ttest-mlogloss:1.92244+0.07873\ttest-merror:0.66615+0.03743\n",
      "[137]\ttrain-mlogloss:0.21617+0.00495\ttrain-merror:0.01379+0.00479\ttest-mlogloss:1.94376+0.09001\ttest-merror:0.67605+0.02717\n"
     ]
    },
    {
     "name": "stderr",
     "output_type": "stream",
     "text": [
      "\u001B[32m[I 2023-05-01 09:40:25,878]\u001B[0m Trial 152 finished with value: 1.9173488498676652 and parameters: {'eta': 0.06999930595867893, 'max_depth': 7, 'min_child_weight': 0.012905284345351724, 'subsample': 0.6323433447855052, 'colsample_bynode': 0.1374441178888318}. Best is trial 144 with value: 1.916699850573896.\u001B[0m\n"
     ]
    },
    {
     "name": "stdout",
     "output_type": "stream",
     "text": [
      "[0]\ttrain-mlogloss:2.31370+0.00225\ttrain-merror:0.54209+0.01472\ttest-mlogloss:2.36263+0.00364\ttest-merror:0.75389+0.02378\n",
      "[71]\ttrain-mlogloss:0.45278+0.00647\ttrain-merror:0.02723+0.00181\ttest-mlogloss:1.93962+0.07253\ttest-merror:0.67182+0.01648\n"
     ]
    },
    {
     "name": "stderr",
     "output_type": "stream",
     "text": [
      "\u001B[32m[I 2023-05-01 09:40:34,390]\u001B[0m Trial 153 finished with value: 2.012525519216326 and parameters: {'eta': 0.0880430270310117, 'max_depth': 7, 'min_child_weight': 0.01230937627121601, 'subsample': 0.6294989681783043, 'colsample_bynode': 0.10086116872740411}. Best is trial 144 with value: 1.916699850573896.\u001B[0m\n"
     ]
    },
    {
     "name": "stdout",
     "output_type": "stream",
     "text": [
      "[0]\ttrain-mlogloss:2.29014+0.00354\ttrain-merror:0.50001+0.02026\ttest-mlogloss:2.35229+0.00805\ttest-merror:0.75667+0.03031\n",
      "[59]\ttrain-mlogloss:0.42469+0.00803\ttrain-merror:0.02652+0.00295\ttest-mlogloss:1.94304+0.06990\ttest-merror:0.69301+0.02164\n"
     ]
    },
    {
     "name": "stderr",
     "output_type": "stream",
     "text": [
      "\u001B[32m[I 2023-05-01 09:40:42,555]\u001B[0m Trial 154 finished with value: 2.090678937567208 and parameters: {'eta': 0.09968653386194107, 'max_depth': 7, 'min_child_weight': 0.016780636580499438, 'subsample': 0.6025966689111144, 'colsample_bynode': 0.14722229027525863}. Best is trial 144 with value: 1.916699850573896.\u001B[0m\n"
     ]
    },
    {
     "name": "stdout",
     "output_type": "stream",
     "text": [
      "[0]\ttrain-mlogloss:2.33973+0.00194\ttrain-merror:0.53782+0.02135\ttest-mlogloss:2.37234+0.00301\ttest-merror:0.76378+0.03132\n",
      "[100]\ttrain-mlogloss:0.48865+0.00765\ttrain-merror:0.02935+0.00345\ttest-mlogloss:1.92632+0.06863\ttest-merror:0.68739+0.00761\n",
      "[103]\ttrain-mlogloss:0.47262+0.00787\ttrain-merror:0.02758+0.00345\ttest-mlogloss:1.92565+0.06950\ttest-merror:0.68741+0.00505\n"
     ]
    },
    {
     "name": "stderr",
     "output_type": "stream",
     "text": [
      "\u001B[32m[I 2023-05-01 09:40:57,671]\u001B[0m Trial 155 finished with value: 1.948185207220316 and parameters: {'eta': 0.06202599709914369, 'max_depth': 7, 'min_child_weight': 0.01325224010041533, 'subsample': 0.5791858861052649, 'colsample_bynode': 0.10086814550269783}. Best is trial 144 with value: 1.916699850573896.\u001B[0m\n"
     ]
    },
    {
     "name": "stdout",
     "output_type": "stream",
     "text": [
      "[0]\ttrain-mlogloss:2.34826+0.00127\ttrain-merror:0.48762+0.01404\ttest-mlogloss:2.37841+0.00246\ttest-merror:0.75673+0.02383\n",
      "[70]\ttrain-mlogloss:0.78666+0.01041\ttrain-merror:0.04491+0.00264\ttest-mlogloss:1.94879+0.04933\ttest-merror:0.69023+0.00855\n"
     ]
    },
    {
     "name": "stderr",
     "output_type": "stream",
     "text": [
      "\u001B[32m[I 2023-05-01 09:41:07,765]\u001B[0m Trial 156 finished with value: 2.1166133777743488 and parameters: {'eta': 0.045638807189904734, 'max_depth': 7, 'min_child_weight': 0.019678643030697565, 'subsample': 0.6582765197468321, 'colsample_bynode': 0.1369751944829632}. Best is trial 144 with value: 1.916699850573896.\u001B[0m\n"
     ]
    },
    {
     "name": "stdout",
     "output_type": "stream",
     "text": [
      "[0]\ttrain-mlogloss:2.31433+0.00300\ttrain-merror:0.47135+0.02887\ttest-mlogloss:2.36707+0.00315\ttest-merror:0.76523+0.02645\n",
      "[100]\ttrain-mlogloss:0.27276+0.00627\ttrain-merror:0.01485+0.00396\ttest-mlogloss:1.94136+0.06670\ttest-merror:0.66615+0.02324\n",
      "[157]\ttrain-mlogloss:0.13697+0.00406\ttrain-merror:0.00530+0.00158\ttest-mlogloss:1.98603+0.07793\ttest-merror:0.67468+0.01488\n"
     ]
    },
    {
     "name": "stderr",
     "output_type": "stream",
     "text": [
      "\u001B[32m[I 2023-05-01 09:41:33,974]\u001B[0m Trial 157 finished with value: 1.946440992317796 and parameters: {'eta': 0.07003196875875692, 'max_depth': 8, 'min_child_weight': 0.016101145630119988, 'subsample': 0.6179085354123813, 'colsample_bynode': 0.1663746741230448}. Best is trial 144 with value: 1.916699850573896.\u001B[0m\n"
     ]
    },
    {
     "name": "stdout",
     "output_type": "stream",
     "text": [
      "[0]\ttrain-mlogloss:2.27244+0.00483\ttrain-merror:0.40805+0.01831\ttest-mlogloss:2.35307+0.00439\ttest-merror:0.74678+0.02381\n",
      "[95]\ttrain-mlogloss:0.16389+0.00540\ttrain-merror:0.00601+0.00086\ttest-mlogloss:1.99746+0.09821\ttest-merror:0.67611+0.01486\n"
     ]
    },
    {
     "name": "stderr",
     "output_type": "stream",
     "text": [
      "\u001B[32m[I 2023-05-01 09:41:48,359]\u001B[0m Trial 158 finished with value: 1.9546834886929942 and parameters: {'eta': 0.0860018547433933, 'max_depth': 7, 'min_child_weight': 0.01128590095240832, 'subsample': 0.6382839161779267, 'colsample_bynode': 0.47490722434049926}. Best is trial 144 with value: 1.916699850573896.\u001B[0m\n"
     ]
    },
    {
     "name": "stdout",
     "output_type": "stream",
     "text": [
      "[0]\ttrain-mlogloss:2.28260+0.00590\ttrain-merror:0.51378+0.01949\ttest-mlogloss:2.35255+0.00683\ttest-merror:0.77086+0.02848\n",
      "[100]\ttrain-mlogloss:0.18794+0.00626\ttrain-merror:0.01025+0.00438\ttest-mlogloss:2.00439+0.08130\ttest-merror:0.69160+0.02379\n",
      "[106]\ttrain-mlogloss:0.17217+0.00614\ttrain-merror:0.00919+0.00360\ttest-mlogloss:2.00884+0.08438\ttest-merror:0.69444+0.02932\n"
     ]
    },
    {
     "name": "stderr",
     "output_type": "stream",
     "text": [
      "\u001B[32m[I 2023-05-01 09:42:03,415]\u001B[0m Trial 159 finished with value: 1.9628876831840962 and parameters: {'eta': 0.11506408796535796, 'max_depth': 7, 'min_child_weight': 0.02437934981633024, 'subsample': 0.6008169392633276, 'colsample_bynode': 0.11713537451987312}. Best is trial 144 with value: 1.916699850573896.\u001B[0m\n"
     ]
    },
    {
     "name": "stdout",
     "output_type": "stream",
     "text": [
      "[0]\ttrain-mlogloss:2.33492+0.00159\ttrain-merror:0.52192+0.01624\ttest-mlogloss:2.37032+0.00154\ttest-merror:0.73828+0.02460\n",
      "[100]\ttrain-mlogloss:0.44447+0.01224\ttrain-merror:0.02687+0.00302\ttest-mlogloss:1.92162+0.06866\ttest-merror:0.68880+0.01926\n",
      "[128]\ttrain-mlogloss:0.32424+0.00914\ttrain-merror:0.02440+0.00206\ttest-mlogloss:1.93590+0.07657\ttest-merror:0.68314+0.01688\n"
     ]
    },
    {
     "name": "stderr",
     "output_type": "stream",
     "text": [
      "\u001B[32m[I 2023-05-01 09:42:18,387]\u001B[0m Trial 160 finished with value: 1.919521710015599 and parameters: {'eta': 0.06112382826460492, 'max_depth': 6, 'min_child_weight': 0.1066825947156497, 'subsample': 0.7086202876015022, 'colsample_bynode': 0.14914440866886963}. Best is trial 144 with value: 1.916699850573896.\u001B[0m\n"
     ]
    },
    {
     "name": "stdout",
     "output_type": "stream",
     "text": [
      "[0]\ttrain-mlogloss:2.33251+0.00108\ttrain-merror:0.50671+0.01640\ttest-mlogloss:2.37157+0.00392\ttest-merror:0.76242+0.01919\n",
      "[100]\ttrain-mlogloss:0.44584+0.01027\ttrain-merror:0.02829+0.00272\ttest-mlogloss:1.92313+0.06329\ttest-merror:0.66191+0.01981\n",
      "[137]\ttrain-mlogloss:0.29460+0.00858\ttrain-merror:0.02369+0.00307\ttest-mlogloss:1.94306+0.06873\ttest-merror:0.66757+0.01695\n"
     ]
    },
    {
     "name": "stderr",
     "output_type": "stream",
     "text": [
      "\u001B[32m[I 2023-05-01 09:42:34,601]\u001B[0m Trial 161 finished with value: 1.9215584494827713 and parameters: {'eta': 0.0612100244840619, 'max_depth': 6, 'min_child_weight': 0.013871148123302706, 'subsample': 0.6978411292399845, 'colsample_bynode': 0.1518514909779794}. Best is trial 144 with value: 1.916699850573896.\u001B[0m\n"
     ]
    },
    {
     "name": "stdout",
     "output_type": "stream",
     "text": [
      "[0]\ttrain-mlogloss:2.31772+0.00250\ttrain-merror:0.50494+0.01203\ttest-mlogloss:2.36542+0.00756\ttest-merror:0.75397+0.03235\n",
      "[66]\ttrain-mlogloss:0.54036+0.00714\ttrain-merror:0.03501+0.00304\ttest-mlogloss:1.92684+0.05457\ttest-merror:0.68601+0.00507\n"
     ]
    },
    {
     "name": "stderr",
     "output_type": "stream",
     "text": [
      "\u001B[32m[I 2023-05-01 09:42:42,302]\u001B[0m Trial 162 finished with value: 2.0726231784578113 and parameters: {'eta': 0.07541823975562226, 'max_depth': 6, 'min_child_weight': 0.09416167638219143, 'subsample': 0.703916895865844, 'colsample_bynode': 0.1592514287820951}. Best is trial 144 with value: 1.916699850573896.\u001B[0m\n"
     ]
    },
    {
     "name": "stdout",
     "output_type": "stream",
     "text": [
      "[0]\ttrain-mlogloss:2.33197+0.00244\ttrain-merror:0.46781+0.01911\ttest-mlogloss:2.37049+0.00373\ttest-merror:0.74258+0.02072\n",
      "[82]\ttrain-mlogloss:0.53517+0.00971\ttrain-merror:0.02899+0.00326\ttest-mlogloss:1.94152+0.06297\ttest-merror:0.68457+0.02152\n"
     ]
    },
    {
     "name": "stderr",
     "output_type": "stream",
     "text": [
      "\u001B[32m[I 2023-05-01 09:42:52,254]\u001B[0m Trial 163 finished with value: 2.007127441688978 and parameters: {'eta': 0.05130387586294288, 'max_depth': 6, 'min_child_weight': 0.013764249271743237, 'subsample': 0.7133450390449538, 'colsample_bynode': 0.30032276971793703}. Best is trial 144 with value: 1.916699850573896.\u001B[0m\n"
     ]
    },
    {
     "name": "stdout",
     "output_type": "stream",
     "text": [
      "[0]\ttrain-mlogloss:2.19087+0.00640\ttrain-merror:0.51378+0.01418\ttest-mlogloss:2.31365+0.00547\ttest-merror:0.74535+0.03232\n",
      "[75]\ttrain-mlogloss:0.12119+0.00566\ttrain-merror:0.00601+0.00239\ttest-mlogloss:2.08554+0.08003\ttest-merror:0.69733+0.02477\n"
     ]
    },
    {
     "name": "stderr",
     "output_type": "stream",
     "text": [
      "\u001B[32m[I 2023-05-01 09:43:01,137]\u001B[0m Trial 164 finished with value: 1.9846209166020579 and parameters: {'eta': 0.20853082637208198, 'max_depth': 6, 'min_child_weight': 0.06714186804107473, 'subsample': 0.7480717677846062, 'colsample_bynode': 0.12331131046597478}. Best is trial 144 with value: 1.916699850573896.\u001B[0m\n"
     ]
    },
    {
     "name": "stdout",
     "output_type": "stream",
     "text": [
      "[0]\ttrain-mlogloss:2.33374+0.00275\ttrain-merror:0.54207+0.02065\ttest-mlogloss:2.37215+0.00538\ttest-merror:0.76807+0.03053\n",
      "[76]\ttrain-mlogloss:0.61138+0.01174\ttrain-merror:0.04031+0.00236\ttest-mlogloss:1.92322+0.05546\ttest-merror:0.68452+0.03055\n"
     ]
    },
    {
     "name": "stderr",
     "output_type": "stream",
     "text": [
      "\u001B[32m[I 2023-05-01 09:43:10,187]\u001B[0m Trial 165 finished with value: 2.0270264225898713 and parameters: {'eta': 0.06290827571053587, 'max_depth': 6, 'min_child_weight': 0.10571926058745107, 'subsample': 0.6580702956737133, 'colsample_bynode': 0.14703318470287688}. Best is trial 144 with value: 1.916699850573896.\u001B[0m\n"
     ]
    },
    {
     "name": "stdout",
     "output_type": "stream",
     "text": [
      "[0]\ttrain-mlogloss:2.36463+0.00079\ttrain-merror:0.44201+0.01965\ttest-mlogloss:2.38357+0.00159\ttest-merror:0.71703+0.04063\n",
      "[76]\ttrain-mlogloss:1.06181+0.01187\ttrain-merror:0.05870+0.00374\ttest-mlogloss:2.00936+0.03634\ttest-merror:0.69869+0.01825\n"
     ]
    },
    {
     "name": "stderr",
     "output_type": "stream",
     "text": [
      "\u001B[32m[I 2023-05-01 09:43:19,619]\u001B[0m Trial 166 finished with value: 2.159765760506346 and parameters: {'eta': 0.02376926931562641, 'max_depth': 6, 'min_child_weight': 0.22136580678983309, 'subsample': 0.7931143818993186, 'colsample_bynode': 0.3297844818207064}. Best is trial 144 with value: 1.916699850573896.\u001B[0m\n"
     ]
    },
    {
     "name": "stdout",
     "output_type": "stream",
     "text": [
      "[0]\ttrain-mlogloss:2.28939+0.00461\ttrain-merror:0.49009+0.01028\ttest-mlogloss:2.35349+0.00733\ttest-merror:0.74686+0.01209\n",
      "[90]\ttrain-mlogloss:0.25542+0.00613\ttrain-merror:0.02015+0.00307\ttest-mlogloss:1.95857+0.07530\ttest-merror:0.67182+0.02082\n"
     ]
    },
    {
     "name": "stderr",
     "output_type": "stream",
     "text": [
      "\u001B[32m[I 2023-05-01 09:43:30,882]\u001B[0m Trial 167 finished with value: 1.9338179443887795 and parameters: {'eta': 0.09594978791154973, 'max_depth': 6, 'min_child_weight': 0.010138173501066211, 'subsample': 0.6924219470478556, 'colsample_bynode': 0.1824942160598914}. Best is trial 144 with value: 1.916699850573896.\u001B[0m\n"
     ]
    },
    {
     "name": "stdout",
     "output_type": "stream",
     "text": [
      "[0]\ttrain-mlogloss:2.31603+0.00435\ttrain-merror:0.53571+0.01751\ttest-mlogloss:2.36311+0.00261\ttest-merror:0.76098+0.02445\n",
      "[100]\ttrain-mlogloss:0.33086+0.00853\ttrain-merror:0.02404+0.00179\ttest-mlogloss:1.94397+0.06838\ttest-merror:0.67326+0.03025\n",
      "[128]\ttrain-mlogloss:0.23197+0.00705\ttrain-merror:0.01874+0.00396\ttest-mlogloss:1.96388+0.07948\ttest-merror:0.67467+0.02165\n"
     ]
    },
    {
     "name": "stderr",
     "output_type": "stream",
     "text": [
      "\u001B[32m[I 2023-05-01 09:43:44,712]\u001B[0m Trial 168 finished with value: 1.9353868041328557 and parameters: {'eta': 0.08240059175989645, 'max_depth': 6, 'min_child_weight': 0.015465185174884929, 'subsample': 0.7316283563669094, 'colsample_bynode': 0.11597192585799161}. Best is trial 144 with value: 1.916699850573896.\u001B[0m\n"
     ]
    },
    {
     "name": "stdout",
     "output_type": "stream",
     "text": [
      "[0]\ttrain-mlogloss:2.34675+0.00085\ttrain-merror:0.46111+0.00945\ttest-mlogloss:2.37616+0.00198\ttest-merror:0.75682+0.03165\n",
      "[64]\ttrain-mlogloss:0.82993+0.00974\ttrain-merror:0.04738+0.00231\ttest-mlogloss:1.96004+0.03990\ttest-merror:0.68740+0.01763\n"
     ]
    },
    {
     "name": "stderr",
     "output_type": "stream",
     "text": [
      "\u001B[32m[I 2023-05-01 09:43:54,055]\u001B[0m Trial 169 finished with value: 2.1756898543561047 and parameters: {'eta': 0.0420750444190858, 'max_depth': 7, 'min_child_weight': 0.01318547624391204, 'subsample': 0.7752799824466119, 'colsample_bynode': 0.1368312499479085}. Best is trial 144 with value: 1.916699850573896.\u001B[0m\n"
     ]
    },
    {
     "name": "stdout",
     "output_type": "stream",
     "text": [
      "[0]\ttrain-mlogloss:2.31779+0.00172\ttrain-merror:0.46923+0.01541\ttest-mlogloss:2.36998+0.00179\ttest-merror:0.76381+0.01195\n",
      "[100]\ttrain-mlogloss:0.29682+0.00666\ttrain-merror:0.02051+0.00328\ttest-mlogloss:1.93869+0.06571\ttest-merror:0.67179+0.02262\n",
      "[145]\ttrain-mlogloss:0.17049+0.00509\ttrain-merror:0.00955+0.00240\ttest-mlogloss:1.97079+0.06861\ttest-merror:0.67179+0.02124\n"
     ]
    },
    {
     "name": "stderr",
     "output_type": "stream",
     "text": [
      "\u001B[32m[I 2023-05-01 09:44:14,246]\u001B[0m Trial 170 finished with value: 1.9367931566746583 and parameters: {'eta': 0.06823394769343125, 'max_depth': 7, 'min_child_weight': 0.041255909116370296, 'subsample': 0.6773152192326319, 'colsample_bynode': 0.16918371532500792}. Best is trial 144 with value: 1.916699850573896.\u001B[0m\n"
     ]
    },
    {
     "name": "stdout",
     "output_type": "stream",
     "text": [
      "[0]\ttrain-mlogloss:2.33549+0.00257\ttrain-merror:0.51909+0.01240\ttest-mlogloss:2.37266+0.00235\ttest-merror:0.75810+0.03228\n",
      "[89]\ttrain-mlogloss:0.50270+0.00536\ttrain-merror:0.02935+0.00084\ttest-mlogloss:1.92321+0.06895\ttest-merror:0.67608+0.01485\n"
     ]
    },
    {
     "name": "stderr",
     "output_type": "stream",
     "text": [
      "\u001B[32m[I 2023-05-01 09:44:26,395]\u001B[0m Trial 171 finished with value: 1.981854966963675 and parameters: {'eta': 0.058227339112717005, 'max_depth': 7, 'min_child_weight': 0.01829957145095471, 'subsample': 0.6230246161770732, 'colsample_bynode': 0.13263807255853824}. Best is trial 144 with value: 1.916699850573896.\u001B[0m\n"
     ]
    },
    {
     "name": "stdout",
     "output_type": "stream",
     "text": [
      "[0]\ttrain-mlogloss:2.34119+0.00254\ttrain-merror:0.53749+0.02296\ttest-mlogloss:2.37759+0.00411\ttest-merror:0.79776+0.03413\n",
      "[100]\ttrain-mlogloss:0.47006+0.00894\ttrain-merror:0.02758+0.00263\ttest-mlogloss:1.91329+0.06883\ttest-merror:0.66053+0.01489\n",
      "[146]\ttrain-mlogloss:0.28957+0.00639\ttrain-merror:0.02157+0.00304\ttest-mlogloss:1.92806+0.07695\ttest-merror:0.67183+0.02341\n"
     ]
    },
    {
     "name": "stderr",
     "output_type": "stream",
     "text": [
      "\u001B[32m[I 2023-05-01 09:44:46,246]\u001B[0m Trial 172 finished with value: 1.9117700509383162 and parameters: {'eta': 0.059011359743889734, 'max_depth': 7, 'min_child_weight': 0.017084361725073466, 'subsample': 0.6521245117384575, 'colsample_bynode': 0.10149306931302936}. Best is trial 172 with value: 1.9117700509383162.\u001B[0m\n"
     ]
    },
    {
     "name": "stdout",
     "output_type": "stream",
     "text": [
      "[0]\ttrain-mlogloss:2.34387+0.00174\ttrain-merror:0.50495+0.00815\ttest-mlogloss:2.37650+0.00299\ttest-merror:0.75387+0.04356\n",
      "[100]\ttrain-mlogloss:0.52122+0.00748\ttrain-merror:0.02899+0.00327\ttest-mlogloss:1.91387+0.05796\ttest-merror:0.67608+0.01614\n",
      "[118]\ttrain-mlogloss:0.42933+0.00720\ttrain-merror:0.02652+0.00294\ttest-mlogloss:1.91074+0.06008\ttest-merror:0.67607+0.01290\n"
     ]
    },
    {
     "name": "stderr",
     "output_type": "stream",
     "text": [
      "\u001B[32m[I 2023-05-01 09:45:02,846]\u001B[0m Trial 173 finished with value: 1.9369340315181325 and parameters: {'eta': 0.05031806321836292, 'max_depth': 7, 'min_child_weight': 0.012458905523212773, 'subsample': 0.7201780682309253, 'colsample_bynode': 0.10255951692177045}. Best is trial 172 with value: 1.9117700509383162.\u001B[0m\n"
     ]
    },
    {
     "name": "stdout",
     "output_type": "stream",
     "text": [
      "[0]\ttrain-mlogloss:2.30986+0.00363\ttrain-merror:0.51167+0.01098\ttest-mlogloss:2.36180+0.00222\ttest-merror:0.76234+0.01698\n",
      "[100]\ttrain-mlogloss:0.27942+0.00678\ttrain-merror:0.02086+0.00361\ttest-mlogloss:1.96022+0.08647\ttest-merror:0.67184+0.00995\n",
      "[138]\ttrain-mlogloss:0.17312+0.00517\ttrain-merror:0.01061+0.00295\ttest-mlogloss:1.99356+0.08597\ttest-merror:0.67890+0.01203\n"
     ]
    },
    {
     "name": "stderr",
     "output_type": "stream",
     "text": [
      "\u001B[32m[I 2023-05-01 09:45:21,624]\u001B[0m Trial 174 finished with value: 1.9517665714995984 and parameters: {'eta': 0.08388161622161212, 'max_depth': 7, 'min_child_weight': 0.015814267870415833, 'subsample': 0.6400573352124347, 'colsample_bynode': 0.1159930402242085}. Best is trial 172 with value: 1.9117700509383162.\u001B[0m\n"
     ]
    },
    {
     "name": "stdout",
     "output_type": "stream",
     "text": [
      "[0]\ttrain-mlogloss:2.31523+0.00232\ttrain-merror:0.48550+0.00941\ttest-mlogloss:2.36649+0.00593\ttest-merror:0.77225+0.03041\n",
      "[88]\ttrain-mlogloss:0.35217+0.00940\ttrain-merror:0.02228+0.00364\ttest-mlogloss:1.93523+0.06161\ttest-merror:0.67468+0.01900\n"
     ]
    },
    {
     "name": "stderr",
     "output_type": "stream",
     "text": [
      "\u001B[32m[I 2023-05-01 09:45:34,037]\u001B[0m Trial 175 finished with value: 1.9559722854448727 and parameters: {'eta': 0.07274445232838515, 'max_depth': 7, 'min_child_weight': 0.013850559684035316, 'subsample': 0.6542585141544116, 'colsample_bynode': 0.15156480979113066}. Best is trial 172 with value: 1.9117700509383162.\u001B[0m\n"
     ]
    },
    {
     "name": "stdout",
     "output_type": "stream",
     "text": [
      "[0]\ttrain-mlogloss:2.35946+0.00173\ttrain-merror:0.46957+0.02654\ttest-mlogloss:2.38383+0.00166\ttest-merror:0.77798+0.03504\n",
      "[100]\ttrain-mlogloss:0.73296+0.00825\ttrain-merror:0.04102+0.00379\ttest-mlogloss:1.94229+0.04360\ttest-merror:0.66759+0.01660\n",
      "[114]\ttrain-mlogloss:0.64612+0.00838\ttrain-merror:0.03324+0.00323\ttest-mlogloss:1.93436+0.04714\ttest-merror:0.67466+0.01595\n"
     ]
    },
    {
     "name": "stderr",
     "output_type": "stream",
     "text": [
      "\u001B[32m[I 2023-05-01 09:45:49,938]\u001B[0m Trial 176 finished with value: 1.9893251544891473 and parameters: {'eta': 0.033078741769257625, 'max_depth': 7, 'min_child_weight': 0.020938873666942675, 'subsample': 0.703914239562823, 'colsample_bynode': 0.12533107780702735}. Best is trial 172 with value: 1.9117700509383162.\u001B[0m\n"
     ]
    },
    {
     "name": "stdout",
     "output_type": "stream",
     "text": [
      "[0]\ttrain-mlogloss:2.30817+0.00241\ttrain-merror:0.55092+0.01145\ttest-mlogloss:2.35997+0.00152\ttest-merror:0.77651+0.02190\n",
      "[100]\ttrain-mlogloss:0.29850+0.00897\ttrain-merror:0.02404+0.00363\ttest-mlogloss:1.94727+0.06889\ttest-merror:0.66621+0.02041\n",
      "[145]\ttrain-mlogloss:0.17069+0.00654\ttrain-merror:0.01096+0.00360\ttest-mlogloss:2.00043+0.07808\ttest-merror:0.67609+0.01585\n"
     ]
    },
    {
     "name": "stderr",
     "output_type": "stream",
     "text": [
      "\u001B[32m[I 2023-05-01 09:46:06,292]\u001B[0m Trial 177 finished with value: 1.9437108341840024 and parameters: {'eta': 0.0942998921901509, 'max_depth': 6, 'min_child_weight': 0.011079755888148952, 'subsample': 0.6673195397546343, 'colsample_bynode': 0.11243588526318356}. Best is trial 172 with value: 1.9117700509383162.\u001B[0m\n"
     ]
    },
    {
     "name": "stdout",
     "output_type": "stream",
     "text": [
      "[0]\ttrain-mlogloss:2.33463+0.00275\ttrain-merror:0.52793+0.00597\ttest-mlogloss:2.37377+0.00374\ttest-merror:0.78070+0.03649\n",
      "[100]\ttrain-mlogloss:0.41613+0.00708\ttrain-merror:0.02404+0.00380\ttest-mlogloss:1.92869+0.06855\ttest-merror:0.67321+0.02454\n",
      "[157]\ttrain-mlogloss:0.22908+0.00545\ttrain-merror:0.01202+0.00234\ttest-mlogloss:1.94030+0.08655\ttest-merror:0.67888+0.01403\n"
     ]
    },
    {
     "name": "stderr",
     "output_type": "stream",
     "text": [
      "\u001B[32m[I 2023-05-01 09:46:30,495]\u001B[0m Trial 178 finished with value: 1.9294806046426836 and parameters: {'eta': 0.06386845689040495, 'max_depth': 8, 'min_child_weight': 0.059198339124445665, 'subsample': 0.588687787886132, 'colsample_bynode': 0.10051040385159807}. Best is trial 172 with value: 1.9117700509383162.\u001B[0m\n"
     ]
    },
    {
     "name": "stdout",
     "output_type": "stream",
     "text": [
      "[0]\ttrain-mlogloss:2.33371+0.00463\ttrain-merror:0.53428+0.02663\ttest-mlogloss:2.37232+0.00446\ttest-merror:0.77236+0.02466\n",
      "[100]\ttrain-mlogloss:0.41627+0.00545\ttrain-merror:0.02369+0.00442\ttest-mlogloss:1.93172+0.06352\ttest-merror:0.68174+0.01218\n",
      "[191]\ttrain-mlogloss:0.17410+0.00390\ttrain-merror:0.00849+0.00259\ttest-mlogloss:1.97253+0.08197\ttest-merror:0.68462+0.02433\n"
     ]
    },
    {
     "name": "stderr",
     "output_type": "stream",
     "text": [
      "\u001B[32m[I 2023-05-01 09:46:58,286]\u001B[0m Trial 179 finished with value: 1.9466641704449823 and parameters: {'eta': 0.06466630751886314, 'max_depth': 8, 'min_child_weight': 0.06130337551538034, 'subsample': 0.5803686165108254, 'colsample_bynode': 0.10087392474417291}. Best is trial 172 with value: 1.9117700509383162.\u001B[0m\n"
     ]
    },
    {
     "name": "stdout",
     "output_type": "stream",
     "text": [
      "[0]\ttrain-mlogloss:2.34023+0.00179\ttrain-merror:0.49221+0.01532\ttest-mlogloss:2.37336+0.00242\ttest-merror:0.76372+0.02693\n",
      "[100]\ttrain-mlogloss:0.47803+0.00543\ttrain-merror:0.02617+0.00342\ttest-mlogloss:1.91981+0.06093\ttest-merror:0.67463+0.02440\n",
      "[161]\ttrain-mlogloss:0.25809+0.00471\ttrain-merror:0.01450+0.00304\ttest-mlogloss:1.93863+0.07033\ttest-merror:0.67747+0.01985\n"
     ]
    },
    {
     "name": "stderr",
     "output_type": "stream",
     "text": [
      "\u001B[32m[I 2023-05-01 09:47:19,337]\u001B[0m Trial 180 finished with value: 1.9211713733875513 and parameters: {'eta': 0.05116550704887283, 'max_depth': 8, 'min_child_weight': 0.07358250205395696, 'subsample': 0.5921194369241926, 'colsample_bynode': 0.13809307252243427}. Best is trial 172 with value: 1.9117700509383162.\u001B[0m\n"
     ]
    },
    {
     "name": "stdout",
     "output_type": "stream",
     "text": [
      "[0]\ttrain-mlogloss:2.34064+0.00203\ttrain-merror:0.50034+0.02048\ttest-mlogloss:2.37246+0.00246\ttest-merror:0.74956+0.03279\n",
      "[100]\ttrain-mlogloss:0.48059+0.00605\ttrain-merror:0.02511+0.00173\ttest-mlogloss:1.91205+0.05439\ttest-merror:0.67892+0.00961\n",
      "[135]\ttrain-mlogloss:0.32946+0.00558\ttrain-merror:0.02051+0.00327\ttest-mlogloss:1.91767+0.06244\ttest-merror:0.67610+0.00683\n"
     ]
    },
    {
     "name": "stderr",
     "output_type": "stream",
     "text": [
      "\u001B[32m[I 2023-05-01 09:47:37,412]\u001B[0m Trial 181 finished with value: 1.9178644555778537 and parameters: {'eta': 0.05049250826283905, 'max_depth': 8, 'min_child_weight': 0.053354831238662866, 'subsample': 0.5969528012821377, 'colsample_bynode': 0.13425952259970989}. Best is trial 172 with value: 1.9117700509383162.\u001B[0m\n"
     ]
    },
    {
     "name": "stdout",
     "output_type": "stream",
     "text": [
      "[0]\ttrain-mlogloss:2.33775+0.00162\ttrain-merror:0.48479+0.01470\ttest-mlogloss:2.37605+0.00338\ttest-merror:0.77229+0.01187\n",
      "[100]\ttrain-mlogloss:0.44565+0.00500\ttrain-merror:0.02440+0.00205\ttest-mlogloss:1.93150+0.07399\ttest-merror:0.67179+0.02780\n",
      "[163]\ttrain-mlogloss:0.23065+0.00458\ttrain-merror:0.01273+0.00377\ttest-mlogloss:1.95195+0.08624\ttest-merror:0.67606+0.02778\n"
     ]
    },
    {
     "name": "stderr",
     "output_type": "stream",
     "text": [
      "\u001B[32m[I 2023-05-01 09:47:58,858]\u001B[0m Trial 182 finished with value: 1.9333351652299715 and parameters: {'eta': 0.05084629264350711, 'max_depth': 8, 'min_child_weight': 0.049304794117536806, 'subsample': 0.6111355294320939, 'colsample_bynode': 0.14202567925923126}. Best is trial 172 with value: 1.9117700509383162.\u001B[0m\n"
     ]
    },
    {
     "name": "stdout",
     "output_type": "stream",
     "text": [
      "[0]\ttrain-mlogloss:2.32617+0.00431\ttrain-merror:0.48797+0.02676\ttest-mlogloss:2.36581+0.00490\ttest-merror:0.73981+0.02676\n",
      "[90]\ttrain-mlogloss:0.43425+0.00642\ttrain-merror:0.02334+0.00234\ttest-mlogloss:1.93251+0.04342\ttest-merror:0.69166+0.02333\n"
     ]
    },
    {
     "name": "stderr",
     "output_type": "stream",
     "text": [
      "\u001B[32m[I 2023-05-01 09:48:11,130]\u001B[0m Trial 183 finished with value: 1.9658931163942026 and parameters: {'eta': 0.062342601397640904, 'max_depth': 8, 'min_child_weight': 0.07642461638623767, 'subsample': 0.561684244341424, 'colsample_bynode': 0.15582763964148166}. Best is trial 172 with value: 1.9117700509383162.\u001B[0m\n"
     ]
    },
    {
     "name": "stdout",
     "output_type": "stream",
     "text": [
      "[0]\ttrain-mlogloss:2.31123+0.00180\ttrain-merror:0.48834+0.00872\ttest-mlogloss:2.36147+0.00357\ttest-merror:0.75391+0.01405\n",
      "[71]\ttrain-mlogloss:0.43063+0.00531\ttrain-merror:0.02369+0.00239\ttest-mlogloss:1.93381+0.06760\ttest-merror:0.68879+0.02187\n"
     ]
    },
    {
     "name": "stderr",
     "output_type": "stream",
     "text": [
      "\u001B[32m[I 2023-05-01 09:48:20,892]\u001B[0m Trial 184 finished with value: 2.024632717726317 and parameters: {'eta': 0.07658181918152153, 'max_depth': 8, 'min_child_weight': 0.05744325295645222, 'subsample': 0.6071146916124839, 'colsample_bynode': 0.13120763294238302}. Best is trial 172 with value: 1.9117700509383162.\u001B[0m\n"
     ]
    },
    {
     "name": "stdout",
     "output_type": "stream",
     "text": [
      "[0]\ttrain-mlogloss:2.35490+0.00134\ttrain-merror:0.48903+0.01897\ttest-mlogloss:2.38084+0.00159\ttest-merror:0.75805+0.02879\n",
      "[65]\ttrain-mlogloss:0.96273+0.00612\ttrain-merror:0.04774+0.00404\ttest-mlogloss:1.97779+0.03584\ttest-merror:0.67465+0.02450\n"
     ]
    },
    {
     "name": "stderr",
     "output_type": "stream",
     "text": [
      "\u001B[32m[I 2023-05-01 09:48:29,774]\u001B[0m Trial 185 finished with value: 2.1766047872728715 and parameters: {'eta': 0.03789628388275649, 'max_depth': 8, 'min_child_weight': 0.041694087990748245, 'subsample': 0.5906373825192381, 'colsample_bynode': 0.12866795228818056}. Best is trial 172 with value: 1.9117700509383162.\u001B[0m\n"
     ]
    },
    {
     "name": "stdout",
     "output_type": "stream",
     "text": [
      "[0]\ttrain-mlogloss:2.30852+0.00263\ttrain-merror:0.40206+0.01743\ttest-mlogloss:2.36794+0.00531\ttest-merror:0.75533+0.02797\n",
      "[100]\ttrain-mlogloss:0.24212+0.00327\ttrain-merror:0.00601+0.00180\ttest-mlogloss:1.98310+0.07089\ttest-merror:0.67893+0.01864\n",
      "[176]\ttrain-mlogloss:0.09512+0.00182\ttrain-merror:0.00035+0.00071\ttest-mlogloss:2.04244+0.08916\ttest-merror:0.67749+0.01902\n"
     ]
    },
    {
     "name": "stderr",
     "output_type": "stream",
     "text": [
      "\u001B[32m[I 2023-05-01 09:48:58,488]\u001B[0m Trial 186 finished with value: 2.0030344045573356 and parameters: {'eta': 0.05531649807810933, 'max_depth': 9, 'min_child_weight': 0.037110216869334085, 'subsample': 0.6390283198052185, 'colsample_bynode': 0.6972527296859279}. Best is trial 172 with value: 1.9117700509383162.\u001B[0m\n"
     ]
    },
    {
     "name": "stdout",
     "output_type": "stream",
     "text": [
      "[0]\ttrain-mlogloss:2.33208+0.00204\ttrain-merror:0.54103+0.00919\ttest-mlogloss:2.37423+0.00447\ttest-merror:0.78782+0.03179\n",
      "[100]\ttrain-mlogloss:0.43428+0.00690\ttrain-merror:0.02581+0.00286\ttest-mlogloss:1.93416+0.07007\ttest-merror:0.68457+0.00639\n",
      "[151]\ttrain-mlogloss:0.25749+0.00458\ttrain-merror:0.01662+0.00412\ttest-mlogloss:1.95634+0.07391\ttest-merror:0.69024+0.00934\n"
     ]
    },
    {
     "name": "stderr",
     "output_type": "stream",
     "text": [
      "\u001B[32m[I 2023-05-01 09:49:17,864]\u001B[0m Trial 187 finished with value: 1.934496041654278 and parameters: {'eta': 0.06880274107326716, 'max_depth': 8, 'min_child_weight': 0.07242139671421839, 'subsample': 0.521252992759498, 'colsample_bynode': 0.10232546972788908}. Best is trial 172 with value: 1.9117700509383162.\u001B[0m\n"
     ]
    },
    {
     "name": "stdout",
     "output_type": "stream",
     "text": [
      "[0]\ttrain-mlogloss:2.36591+0.00116\ttrain-merror:0.38189+0.01162\ttest-mlogloss:2.38707+0.00096\ttest-merror:0.74671+0.04044\n",
      "[85]\ttrain-mlogloss:0.94050+0.00743\ttrain-merror:0.03006+0.00317\ttest-mlogloss:2.00445+0.03646\ttest-merror:0.68595+0.02200\n"
     ]
    },
    {
     "name": "stderr",
     "output_type": "stream",
     "text": [
      "\u001B[32m[I 2023-05-01 09:49:32,310]\u001B[0m Trial 188 finished with value: 2.137448397268366 and parameters: {'eta': 0.02175058568593261, 'max_depth': 9, 'min_child_weight': 0.06258885174334787, 'subsample': 0.7590183109007211, 'colsample_bynode': 0.17238533633118672}. Best is trial 172 with value: 1.9117700509383162.\u001B[0m\n"
     ]
    },
    {
     "name": "stdout",
     "output_type": "stream",
     "text": [
      "[0]\ttrain-mlogloss:2.21688+0.00438\ttrain-merror:0.46288+0.01066\ttest-mlogloss:2.33058+0.00852\ttest-merror:0.75951+0.01987\n",
      "[74]\ttrain-mlogloss:0.13782+0.00317\ttrain-merror:0.00601+0.00086\ttest-mlogloss:2.02360+0.09108\ttest-merror:0.68596+0.01540\n"
     ]
    },
    {
     "name": "stderr",
     "output_type": "stream",
     "text": [
      "\u001B[32m[I 2023-05-01 09:49:42,349]\u001B[0m Trial 189 finished with value: 1.969882105458046 and parameters: {'eta': 0.15337481316904047, 'max_depth': 8, 'min_child_weight': 0.0465617384266232, 'subsample': 0.6239053402274634, 'colsample_bynode': 0.1481616668388435}. Best is trial 172 with value: 1.9117700509383162.\u001B[0m\n"
     ]
    },
    {
     "name": "stdout",
     "output_type": "stream",
     "text": [
      "[0]\ttrain-mlogloss:2.31185+0.00281\ttrain-merror:0.49503+0.02227\ttest-mlogloss:2.36104+0.00642\ttest-merror:0.76097+0.02721\n",
      "[100]\ttrain-mlogloss:0.27778+0.00460\ttrain-merror:0.01379+0.00343\ttest-mlogloss:1.93544+0.07223\ttest-merror:0.67752+0.02869\n",
      "[165]\ttrain-mlogloss:0.13695+0.00310\ttrain-merror:0.00460+0.00141\ttest-mlogloss:1.98646+0.09252\ttest-merror:0.67894+0.02191\n"
     ]
    },
    {
     "name": "stderr",
     "output_type": "stream",
     "text": [
      "\u001B[32m[I 2023-05-01 09:50:06,564]\u001B[0m Trial 190 finished with value: 1.9480519967243537 and parameters: {'eta': 0.0789663679247683, 'max_depth': 9, 'min_child_weight': 0.057238880143805355, 'subsample': 0.5734263367096192, 'colsample_bynode': 0.1229584279946587}. Best is trial 172 with value: 1.9117700509383162.\u001B[0m\n"
     ]
    },
    {
     "name": "stdout",
     "output_type": "stream",
     "text": [
      "[0]\ttrain-mlogloss:2.35339+0.00150\ttrain-merror:0.52547+0.00956\ttest-mlogloss:2.38130+0.00108\ttest-merror:0.78926+0.02293\n",
      "[100]\ttrain-mlogloss:0.65834+0.01066\ttrain-merror:0.03960+0.00554\ttest-mlogloss:1.92501+0.05502\ttest-merror:0.67610+0.01369\n",
      "[144]\ttrain-mlogloss:0.44370+0.00884\ttrain-merror:0.02687+0.00302\ttest-mlogloss:1.91999+0.06298\ttest-merror:0.67468+0.01618\n"
     ]
    },
    {
     "name": "stderr",
     "output_type": "stream",
     "text": [
      "\u001B[32m[I 2023-05-01 09:50:23,803]\u001B[0m Trial 191 finished with value: 1.9277328276321488 and parameters: {'eta': 0.043927246079309784, 'max_depth': 7, 'min_child_weight': 0.03313215638330808, 'subsample': 0.5868212335726681, 'colsample_bynode': 0.11569591433371604}. Best is trial 172 with value: 1.9117700509383162.\u001B[0m\n"
     ]
    },
    {
     "name": "stdout",
     "output_type": "stream",
     "text": [
      "[0]\ttrain-mlogloss:2.35624+0.00263\ttrain-merror:0.57214+0.01208\ttest-mlogloss:2.37854+0.00047\ttest-merror:0.75669+0.02117\n",
      "[83]\ttrain-mlogloss:0.83990+0.00765\ttrain-merror:0.06047+0.00363\ttest-mlogloss:1.92836+0.05541\ttest-merror:0.67182+0.01708\n"
     ]
    },
    {
     "name": "stderr",
     "output_type": "stream",
     "text": [
      "\u001B[32m[I 2023-05-01 09:50:32,995]\u001B[0m Trial 192 finished with value: 2.0450978296457523 and parameters: {'eta': 0.044982006246082305, 'max_depth': 7, 'min_child_weight': 0.037770970828430894, 'subsample': 0.5482133873925105, 'colsample_bynode': 0.10110396098572087}. Best is trial 172 with value: 1.9117700509383162.\u001B[0m\n"
     ]
    },
    {
     "name": "stdout",
     "output_type": "stream",
     "text": [
      "[0]\ttrain-mlogloss:2.33720+0.00252\ttrain-merror:0.51767+0.01815\ttest-mlogloss:2.37387+0.00164\ttest-merror:0.77366+0.02273\n",
      "[91]\ttrain-mlogloss:0.50859+0.00840\ttrain-merror:0.02935+0.00263\ttest-mlogloss:1.92860+0.06008\ttest-merror:0.68740+0.02172\n"
     ]
    },
    {
     "name": "stderr",
     "output_type": "stream",
     "text": [
      "\u001B[32m[I 2023-05-01 09:50:43,660]\u001B[0m Trial 193 finished with value: 1.9789615965415852 and parameters: {'eta': 0.058508727524969516, 'max_depth': 7, 'min_child_weight': 0.034297091321618824, 'subsample': 0.5911117182639724, 'colsample_bynode': 0.13185801433827482}. Best is trial 172 with value: 1.9117700509383162.\u001B[0m\n"
     ]
    },
    {
     "name": "stdout",
     "output_type": "stream",
     "text": [
      "[0]\ttrain-mlogloss:2.21156+0.00640\ttrain-merror:0.50389+0.01365\ttest-mlogloss:2.32801+0.00345\ttest-merror:0.75670+0.01104\n",
      "[82]\ttrain-mlogloss:0.11998+0.00371\ttrain-merror:0.00566+0.00206\ttest-mlogloss:2.04479+0.11064\ttest-merror:0.70016+0.01094\n"
     ]
    },
    {
     "name": "stderr",
     "output_type": "stream",
     "text": [
      "\u001B[32m[I 2023-05-01 09:50:53,192]\u001B[0m Trial 194 finished with value: 1.973864072135782 and parameters: {'eta': 0.17839258883527132, 'max_depth': 7, 'min_child_weight': 0.04978131170223665, 'subsample': 0.6500213845681129, 'colsample_bynode': 0.11668123250753565}. Best is trial 172 with value: 1.9117700509383162.\u001B[0m\n"
     ]
    },
    {
     "name": "stdout",
     "output_type": "stream",
     "text": [
      "[0]\ttrain-mlogloss:2.10199+0.01389\ttrain-merror:0.49823+0.01437\ttest-mlogloss:2.28595+0.01494\ttest-merror:0.74967+0.01620\n",
      "[71]\ttrain-mlogloss:0.07498+0.00260\ttrain-merror:0.00106+0.00087\ttest-mlogloss:2.15374+0.08221\ttest-merror:0.68029+0.01722\n"
     ]
    },
    {
     "name": "stderr",
     "output_type": "stream",
     "text": [
      "\u001B[32m[I 2023-05-01 09:51:00,644]\u001B[0m Trial 195 finished with value: 2.014422923126664 and parameters: {'eta': 0.2818340311520455, 'max_depth': 7, 'min_child_weight': 0.10552937205291375, 'subsample': 0.603472840762813, 'colsample_bynode': 0.15245378072856153}. Best is trial 172 with value: 1.9117700509383162.\u001B[0m\n"
     ]
    },
    {
     "name": "stdout",
     "output_type": "stream",
     "text": [
      "[0]\ttrain-mlogloss:2.36343+0.00139\ttrain-merror:0.51061+0.02415\ttest-mlogloss:2.38517+0.00196\ttest-merror:0.76947+0.01789\n",
      "[100]\ttrain-mlogloss:0.80806+0.00930\ttrain-merror:0.04845+0.00349\ttest-mlogloss:1.94104+0.04719\ttest-merror:0.67183+0.01503\n",
      "[122]\ttrain-mlogloss:0.67484+0.00859\ttrain-merror:0.03713+0.00250\ttest-mlogloss:1.93055+0.05270\ttest-merror:0.66617+0.01807\n"
     ]
    },
    {
     "name": "stderr",
     "output_type": "stream",
     "text": [
      "\u001B[32m[I 2023-05-01 09:51:14,958]\u001B[0m Trial 196 finished with value: 1.9759862211022436 and parameters: {'eta': 0.03200684223256445, 'max_depth': 7, 'min_child_weight': 0.08597609194858923, 'subsample': 0.6315833225809656, 'colsample_bynode': 0.13786589614464834}. Best is trial 172 with value: 1.9117700509383162.\u001B[0m\n"
     ]
    },
    {
     "name": "stdout",
     "output_type": "stream",
     "text": [
      "[0]\ttrain-mlogloss:2.34704+0.00049\ttrain-merror:0.52264+0.01732\ttest-mlogloss:2.37599+0.00373\ttest-merror:0.76101+0.02903\n",
      "[85]\ttrain-mlogloss:0.64188+0.00712\ttrain-merror:0.03218+0.00303\ttest-mlogloss:1.92610+0.05917\ttest-merror:0.67180+0.02056\n"
     ]
    },
    {
     "name": "stderr",
     "output_type": "stream",
     "text": [
      "\u001B[32m[I 2023-05-01 09:51:27,105]\u001B[0m Trial 197 finished with value: 2.0134923307932695 and parameters: {'eta': 0.05051247108611551, 'max_depth': 9, 'min_child_weight': 0.030411015987118938, 'subsample': 0.5571481048497193, 'colsample_bynode': 0.10019546036084781}. Best is trial 172 with value: 1.9117700509383162.\u001B[0m\n"
     ]
    },
    {
     "name": "stdout",
     "output_type": "stream",
     "text": [
      "[0]\ttrain-mlogloss:2.30089+0.00469\ttrain-merror:0.39675+0.00563\ttest-mlogloss:2.36396+0.00524\ttest-merror:0.75105+0.02993\n",
      "[100]\ttrain-mlogloss:0.19819+0.00405\ttrain-merror:0.00742+0.00206\ttest-mlogloss:1.95721+0.05700\ttest-merror:0.68316+0.01391\n",
      "[176]\ttrain-mlogloss:0.07940+0.00244\ttrain-merror:0.00212+0.00173\ttest-mlogloss:2.02712+0.06974\ttest-merror:0.68458+0.01716\n"
     ]
    },
    {
     "name": "stderr",
     "output_type": "stream",
     "text": [
      "\u001B[32m[I 2023-05-01 09:51:51,881]\u001B[0m Trial 198 finished with value: 1.981748509142485 and parameters: {'eta': 0.06971762755633565, 'max_depth': 8, 'min_child_weight': 0.025339995930820616, 'subsample': 0.7470500370748757, 'colsample_bynode': 0.19498795637674182}. Best is trial 172 with value: 1.9117700509383162.\u001B[0m\n"
     ]
    },
    {
     "name": "stdout",
     "output_type": "stream",
     "text": [
      "[0]\ttrain-mlogloss:2.31273+0.00272\ttrain-merror:0.55409+0.01276\ttest-mlogloss:2.36141+0.00284\ttest-merror:0.77941+0.02570\n",
      "[71]\ttrain-mlogloss:0.48492+0.00756\ttrain-merror:0.03430+0.00616\ttest-mlogloss:1.93112+0.07665\ttest-merror:0.68314+0.01568\n"
     ]
    },
    {
     "name": "stderr",
     "output_type": "stream",
     "text": [
      "\u001B[32m[I 2023-05-01 09:51:58,617]\u001B[0m Trial 199 finished with value: 2.0065433676370126 and parameters: {'eta': 0.08713203576758873, 'max_depth': 6, 'min_child_weight': 0.08028936116929673, 'subsample': 0.5807596724531539, 'colsample_bynode': 0.16063719075245092}. Best is trial 172 with value: 1.9117700509383162.\u001B[0m\n"
     ]
    },
    {
     "name": "stdout",
     "output_type": "stream",
     "text": [
      "Number of finished trials: 200\n",
      "Best trial:\n",
      "  Value: 1.9117700509383162\n",
      "  Params: \n",
      "    eta: 0.059011359743889734\n",
      "    max_depth: 7\n",
      "    min_child_weight: 0.017084361725073466\n",
      "    subsample: 0.6521245117384575\n",
      "    colsample_bynode: 0.10149306931302936\n"
     ]
    }
   ],
   "source": [
    "study = optuna.create_study(direction='minimize')\n",
    "study.optimize(objective, n_trials=200)\n",
    "print('Number of finished trials: {}'.format(len(study.trials)))\n",
    "print('Best trial:')\n",
    "trial = study.best_trial\n",
    "\n",
    "print('  Value: {}'.format(trial.value))\n",
    "print('  Params: ')\n",
    "\n",
    "for key, value in trial.params.items():\n",
    "    print('    {}: {}'.format(key, value))"
   ],
   "metadata": {
    "collapsed": false,
    "ExecuteTime": {
     "start_time": "2023-05-01T09:08:01.206358Z",
     "end_time": "2023-05-01T09:51:58.784765Z"
    }
   }
  },
  {
   "cell_type": "code",
   "execution_count": 42,
   "outputs": [],
   "source": [
    "bestParams = study.best_trial.params\n",
    "bestParams[\"tree_method\"]= \"gpu_hist\"\n",
    "bestParams[\"objective\"]= \"multi:softprob\"\n",
    "bestParams[\"num_class\"]= 11\n",
    "model = xgb.train(\n",
    "    params=bestParams,\n",
    "    dtrain=dtrain,\n",
    "    num_boost_round=200\n",
    ")\n",
    "\n",
    "disease_test = pd.read_csv(\"/home/rainer/Downloads/ML_datasets/vector_borne_disease_test.csv\")\n",
    "disease_test = convert(disease_test)\n",
    "disease_finalPred_matrix = xgb.DMatrix(disease_test, enable_categorical=False)\n",
    "predictions = model.predict(disease_finalPred_matrix)\n"
   ],
   "metadata": {
    "collapsed": false,
    "ExecuteTime": {
     "start_time": "2023-05-01T09:51:58.785721Z",
     "end_time": "2023-05-01T09:52:03.765174Z"
    }
   }
  },
  {
   "cell_type": "code",
   "execution_count": 43,
   "outputs": [],
   "source": [
    "import numpy as np\n",
    "\n",
    "def get_top_3_indices(row):\n",
    "    return list(np.argsort(row.values)[-3:][::-1])\n",
    "\n",
    "predictionsDf = pd.DataFrame(predictions)\n",
    "predictionsDf['top_3_columns'] = predictionsDf.apply(get_top_3_indices, axis=1)\n",
    "predictionsDf['top_3_categories'] = predictionsDf['top_3_columns'].apply(lambda x: [category_mapping[i] for i in x])\n",
    "predictionsDf['prognosis'] = predictionsDf['top_3_categories'].apply(lambda x: ' '.join(x))\n",
    "predictionsDf[\"id\"] = disease_test.index\n"
   ],
   "metadata": {
    "collapsed": false,
    "ExecuteTime": {
     "start_time": "2023-05-01T09:52:03.765133Z",
     "end_time": "2023-05-01T09:52:03.776232Z"
    }
   }
  },
  {
   "cell_type": "code",
   "execution_count": 44,
   "outputs": [
    {
     "data": {
      "text/plain": "            0         1         2         3         4         5         6  \\\n0    0.055682  0.089040  0.109213  0.003736  0.004562  0.021320  0.480762   \n1    0.074087  0.525106  0.037462  0.005252  0.076476  0.130347  0.058015   \n2    0.020564  0.024861  0.228787  0.024356  0.055232  0.025924  0.055285   \n3    0.023508  0.075883  0.389935  0.009759  0.034428  0.018424  0.239104   \n4    0.011783  0.050656  0.128091  0.066302  0.129838  0.077843  0.054207   \n..        ...       ...       ...       ...       ...       ...       ...   \n298  0.014121  0.004364  0.049991  0.009637  0.047538  0.075532  0.018413   \n299  0.002188  0.002763  0.006520  0.501704  0.405949  0.033915  0.006001   \n300  0.004314  0.014439  0.040066  0.440451  0.074599  0.042661  0.016485   \n301  0.012607  0.141119  0.093178  0.052928  0.020444  0.038383  0.211784   \n302  0.013172  0.021181  0.214792  0.058221  0.077588  0.054186  0.049761   \n\n            7         8         9        10 top_3_columns  \\\n0    0.108483  0.028118  0.024505  0.074578     [6, 2, 7]   \n1    0.013680  0.022498  0.043531  0.013546     [1, 5, 4]   \n2    0.040680  0.443302  0.057706  0.023303     [8, 2, 9]   \n3    0.079398  0.034732  0.051875  0.042954     [2, 6, 7]   \n4    0.040666  0.276008  0.064696  0.099913     [8, 4, 2]   \n..        ...       ...       ...       ...           ...   \n298  0.083320  0.177662  0.277365  0.242058    [9, 10, 8]   \n299  0.002371  0.026548  0.004508  0.007534     [3, 4, 5]   \n300  0.018135  0.312981  0.022185  0.013684     [3, 8, 4]   \n301  0.043949  0.153668  0.031741  0.200198    [6, 10, 8]   \n302  0.038404  0.165475  0.048301  0.258919    [10, 2, 8]   \n\n                                      top_3_categories  \\\n0    [Rift_Valley_fever, Japanese_encephalitis, Tun...   \n1                            [Dengue, Plague, Malaria]   \n2    [West_Nile_fever, Japanese_encephalitis, Yello...   \n3    [Japanese_encephalitis, Rift_Valley_fever, Tun...   \n4    [West_Nile_fever, Malaria, Japanese_encephalitis]   \n..                                                 ...   \n298              [Yellow_Fever, Zika, West_Nile_fever]   \n299                    [Lyme_disease, Malaria, Plague]   \n300           [Lyme_disease, West_Nile_fever, Malaria]   \n301         [Rift_Valley_fever, Zika, West_Nile_fever]   \n302     [Zika, Japanese_encephalitis, West_Nile_fever]   \n\n                                             prognosis    id  \n0    Rift_Valley_fever Japanese_encephalitis Tungiasis   707  \n1                                Dengue Plague Malaria   708  \n2    West_Nile_fever Japanese_encephalitis Yellow_F...   709  \n3    Japanese_encephalitis Rift_Valley_fever Tungiasis   710  \n4        West_Nile_fever Malaria Japanese_encephalitis   711  \n..                                                 ...   ...  \n298                  Yellow_Fever Zika West_Nile_fever  1005  \n299                        Lyme_disease Malaria Plague  1006  \n300               Lyme_disease West_Nile_fever Malaria  1007  \n301             Rift_Valley_fever Zika West_Nile_fever  1008  \n302         Zika Japanese_encephalitis West_Nile_fever  1009  \n\n[303 rows x 15 columns]",
      "text/html": "<div>\n<style scoped>\n    .dataframe tbody tr th:only-of-type {\n        vertical-align: middle;\n    }\n\n    .dataframe tbody tr th {\n        vertical-align: top;\n    }\n\n    .dataframe thead th {\n        text-align: right;\n    }\n</style>\n<table border=\"1\" class=\"dataframe\">\n  <thead>\n    <tr style=\"text-align: right;\">\n      <th></th>\n      <th>0</th>\n      <th>1</th>\n      <th>2</th>\n      <th>3</th>\n      <th>4</th>\n      <th>5</th>\n      <th>6</th>\n      <th>7</th>\n      <th>8</th>\n      <th>9</th>\n      <th>10</th>\n      <th>top_3_columns</th>\n      <th>top_3_categories</th>\n      <th>prognosis</th>\n      <th>id</th>\n    </tr>\n  </thead>\n  <tbody>\n    <tr>\n      <th>0</th>\n      <td>0.055682</td>\n      <td>0.089040</td>\n      <td>0.109213</td>\n      <td>0.003736</td>\n      <td>0.004562</td>\n      <td>0.021320</td>\n      <td>0.480762</td>\n      <td>0.108483</td>\n      <td>0.028118</td>\n      <td>0.024505</td>\n      <td>0.074578</td>\n      <td>[6, 2, 7]</td>\n      <td>[Rift_Valley_fever, Japanese_encephalitis, Tun...</td>\n      <td>Rift_Valley_fever Japanese_encephalitis Tungiasis</td>\n      <td>707</td>\n    </tr>\n    <tr>\n      <th>1</th>\n      <td>0.074087</td>\n      <td>0.525106</td>\n      <td>0.037462</td>\n      <td>0.005252</td>\n      <td>0.076476</td>\n      <td>0.130347</td>\n      <td>0.058015</td>\n      <td>0.013680</td>\n      <td>0.022498</td>\n      <td>0.043531</td>\n      <td>0.013546</td>\n      <td>[1, 5, 4]</td>\n      <td>[Dengue, Plague, Malaria]</td>\n      <td>Dengue Plague Malaria</td>\n      <td>708</td>\n    </tr>\n    <tr>\n      <th>2</th>\n      <td>0.020564</td>\n      <td>0.024861</td>\n      <td>0.228787</td>\n      <td>0.024356</td>\n      <td>0.055232</td>\n      <td>0.025924</td>\n      <td>0.055285</td>\n      <td>0.040680</td>\n      <td>0.443302</td>\n      <td>0.057706</td>\n      <td>0.023303</td>\n      <td>[8, 2, 9]</td>\n      <td>[West_Nile_fever, Japanese_encephalitis, Yello...</td>\n      <td>West_Nile_fever Japanese_encephalitis Yellow_F...</td>\n      <td>709</td>\n    </tr>\n    <tr>\n      <th>3</th>\n      <td>0.023508</td>\n      <td>0.075883</td>\n      <td>0.389935</td>\n      <td>0.009759</td>\n      <td>0.034428</td>\n      <td>0.018424</td>\n      <td>0.239104</td>\n      <td>0.079398</td>\n      <td>0.034732</td>\n      <td>0.051875</td>\n      <td>0.042954</td>\n      <td>[2, 6, 7]</td>\n      <td>[Japanese_encephalitis, Rift_Valley_fever, Tun...</td>\n      <td>Japanese_encephalitis Rift_Valley_fever Tungiasis</td>\n      <td>710</td>\n    </tr>\n    <tr>\n      <th>4</th>\n      <td>0.011783</td>\n      <td>0.050656</td>\n      <td>0.128091</td>\n      <td>0.066302</td>\n      <td>0.129838</td>\n      <td>0.077843</td>\n      <td>0.054207</td>\n      <td>0.040666</td>\n      <td>0.276008</td>\n      <td>0.064696</td>\n      <td>0.099913</td>\n      <td>[8, 4, 2]</td>\n      <td>[West_Nile_fever, Malaria, Japanese_encephalitis]</td>\n      <td>West_Nile_fever Malaria Japanese_encephalitis</td>\n      <td>711</td>\n    </tr>\n    <tr>\n      <th>...</th>\n      <td>...</td>\n      <td>...</td>\n      <td>...</td>\n      <td>...</td>\n      <td>...</td>\n      <td>...</td>\n      <td>...</td>\n      <td>...</td>\n      <td>...</td>\n      <td>...</td>\n      <td>...</td>\n      <td>...</td>\n      <td>...</td>\n      <td>...</td>\n      <td>...</td>\n    </tr>\n    <tr>\n      <th>298</th>\n      <td>0.014121</td>\n      <td>0.004364</td>\n      <td>0.049991</td>\n      <td>0.009637</td>\n      <td>0.047538</td>\n      <td>0.075532</td>\n      <td>0.018413</td>\n      <td>0.083320</td>\n      <td>0.177662</td>\n      <td>0.277365</td>\n      <td>0.242058</td>\n      <td>[9, 10, 8]</td>\n      <td>[Yellow_Fever, Zika, West_Nile_fever]</td>\n      <td>Yellow_Fever Zika West_Nile_fever</td>\n      <td>1005</td>\n    </tr>\n    <tr>\n      <th>299</th>\n      <td>0.002188</td>\n      <td>0.002763</td>\n      <td>0.006520</td>\n      <td>0.501704</td>\n      <td>0.405949</td>\n      <td>0.033915</td>\n      <td>0.006001</td>\n      <td>0.002371</td>\n      <td>0.026548</td>\n      <td>0.004508</td>\n      <td>0.007534</td>\n      <td>[3, 4, 5]</td>\n      <td>[Lyme_disease, Malaria, Plague]</td>\n      <td>Lyme_disease Malaria Plague</td>\n      <td>1006</td>\n    </tr>\n    <tr>\n      <th>300</th>\n      <td>0.004314</td>\n      <td>0.014439</td>\n      <td>0.040066</td>\n      <td>0.440451</td>\n      <td>0.074599</td>\n      <td>0.042661</td>\n      <td>0.016485</td>\n      <td>0.018135</td>\n      <td>0.312981</td>\n      <td>0.022185</td>\n      <td>0.013684</td>\n      <td>[3, 8, 4]</td>\n      <td>[Lyme_disease, West_Nile_fever, Malaria]</td>\n      <td>Lyme_disease West_Nile_fever Malaria</td>\n      <td>1007</td>\n    </tr>\n    <tr>\n      <th>301</th>\n      <td>0.012607</td>\n      <td>0.141119</td>\n      <td>0.093178</td>\n      <td>0.052928</td>\n      <td>0.020444</td>\n      <td>0.038383</td>\n      <td>0.211784</td>\n      <td>0.043949</td>\n      <td>0.153668</td>\n      <td>0.031741</td>\n      <td>0.200198</td>\n      <td>[6, 10, 8]</td>\n      <td>[Rift_Valley_fever, Zika, West_Nile_fever]</td>\n      <td>Rift_Valley_fever Zika West_Nile_fever</td>\n      <td>1008</td>\n    </tr>\n    <tr>\n      <th>302</th>\n      <td>0.013172</td>\n      <td>0.021181</td>\n      <td>0.214792</td>\n      <td>0.058221</td>\n      <td>0.077588</td>\n      <td>0.054186</td>\n      <td>0.049761</td>\n      <td>0.038404</td>\n      <td>0.165475</td>\n      <td>0.048301</td>\n      <td>0.258919</td>\n      <td>[10, 2, 8]</td>\n      <td>[Zika, Japanese_encephalitis, West_Nile_fever]</td>\n      <td>Zika Japanese_encephalitis West_Nile_fever</td>\n      <td>1009</td>\n    </tr>\n  </tbody>\n</table>\n<p>303 rows × 15 columns</p>\n</div>"
     },
     "execution_count": 44,
     "metadata": {},
     "output_type": "execute_result"
    }
   ],
   "source": [
    "predictionsDf"
   ],
   "metadata": {
    "collapsed": false,
    "ExecuteTime": {
     "start_time": "2023-05-01T09:52:03.778803Z",
     "end_time": "2023-05-01T09:52:03.809054Z"
    }
   }
  },
  {
   "cell_type": "code",
   "execution_count": 45,
   "outputs": [],
   "source": [
    "predictionsDf.to_csv('/home/rainer/Downloads/ML_datasets/vector_borne_disease_test_prediction.csv', columns=['id','prognosis'], index=False)"
   ],
   "metadata": {
    "collapsed": false,
    "ExecuteTime": {
     "start_time": "2023-05-01T09:52:03.810659Z",
     "end_time": "2023-05-01T09:52:03.817172Z"
    }
   }
  },
  {
   "cell_type": "code",
   "execution_count": 45,
   "outputs": [],
   "source": [],
   "metadata": {
    "collapsed": false,
    "ExecuteTime": {
     "start_time": "2023-05-01T09:52:03.819487Z",
     "end_time": "2023-05-01T09:52:03.823018Z"
    }
   }
  }
 ],
 "metadata": {
  "kernelspec": {
   "display_name": "Python 3",
   "language": "python",
   "name": "python3"
  },
  "language_info": {
   "codemirror_mode": {
    "name": "ipython",
    "version": 2
   },
   "file_extension": ".py",
   "mimetype": "text/x-python",
   "name": "python",
   "nbconvert_exporter": "python",
   "pygments_lexer": "ipython2",
   "version": "2.7.6"
  }
 },
 "nbformat": 4,
 "nbformat_minor": 0
}
